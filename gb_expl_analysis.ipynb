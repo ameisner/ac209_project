{
 "metadata": {
  "name": "",
  "signature": "sha256:e563ddaeaa6ebe1ae880ec0ceb9d19feb5f517382a304da4f85da000ee213ca2"
 },
 "nbformat": 3,
 "nbformat_minor": 0,
 "worksheets": [
  {
   "cells": [
    {
     "cell_type": "markdown",
     "metadata": {},
     "source": [
      "- AC209 Final Project\n",
      "- Giant Bomb Exploratory analysis\n",
      "- Start Date: November 9, 2014"
     ]
    },
    {
     "cell_type": "code",
     "collapsed": false,
     "input": [
      "# special IPython command to prepare the notebook for matplotlib\n",
      "%matplotlib inline \n",
      "\n",
      "import json\n",
      "\n",
      "from pandas import DataFrame\n",
      "\n",
      "import scipy.stats\n",
      "from scipy.stats import norm\n",
      "import matplotlib.mlab as mlab\n",
      "\n",
      "\n",
      "import requests \n",
      "import numpy as np\n",
      "import pandas as pd # pandas\n",
      "import matplotlib.pyplot as plt # module for plotting "
     ],
     "language": "python",
     "metadata": {},
     "outputs": [],
     "prompt_number": 3
    },
    {
     "cell_type": "code",
     "collapsed": false,
     "input": [
      "#nice defaults for matplotlib\n",
      "from matplotlib import rcParams\n",
      "\n",
      "dark2_colors = [(0.10588235294117647, 0.6196078431372549, 0.4666666666666667),\n",
      "                (0.8509803921568627, 0.37254901960784315, 0.00784313725490196),\n",
      "                (0.4588235294117647, 0.4392156862745098, 0.7019607843137254),\n",
      "                (0.9058823529411765, 0.1607843137254902, 0.5411764705882353),\n",
      "                (0.4, 0.6509803921568628, 0.11764705882352941),\n",
      "                (0.9019607843137255, 0.6705882352941176, 0.00784313725490196),\n",
      "                (0.6509803921568628, 0.4627450980392157, 0.11372549019607843),\n",
      "                (0.4, 0.4, 0.4)]\n",
      "\n",
      "rcParams['figure.figsize'] = (10, 6)\n",
      "rcParams['figure.dpi'] = 150\n",
      "rcParams['axes.color_cycle'] = dark2_colors\n",
      "rcParams['lines.linewidth'] = 2\n",
      "rcParams['axes.grid'] = True\n",
      "rcParams['axes.facecolor'] = '#eeeeee'\n",
      "rcParams['font.size'] = 14\n",
      "rcParams['patch.edgecolor'] = 'none'"
     ],
     "language": "python",
     "metadata": {},
     "outputs": [],
     "prompt_number": 4
    },
    {
     "cell_type": "markdown",
     "metadata": {},
     "source": [
      "### Exploratory Analysis Questions \n",
      "(Nov. 8, 2014)\n",
      "\n",
      "Some possible questions which can help us explore our data set better. \n",
      "\n",
      "- ** Giant Bomb Score Distribution ** What is the distribution of all of Giant Bomb's game review scores? Is it centered around the numerical mid point 3?\n",
      "\n",
      "\n",
      "- ** Game Score and Company ** Game Quality  How does the quality of a game correlate with the company which produced it? (Are good games typically made by the same companies?)\n",
      "\n",
      "\n",
      "- ** Game Type Popularity ** Which types of games are the most popular? (Can be determined by figuring out which games have the most number of user reviews)\n",
      "\n",
      "\n",
      "- ** Giant Bomb Review Scores Over the Years ** Has the average of GB's game review scores changed over the years? (Can create a scatter plot of all game scores over the year or average the game scores for each year and plot over the years in a box plot)\n",
      "\n",
      "\n",
      "- ** User Review Distribution ** What types of games tend to have the lowest user reviews??\n",
      "\n",
      "\n",
      "    - Untapped markets: A gaming field (e.g., RPGs, adventure puzzle solving, etc.) with many reviews but, in general, low quality (i.e. score) games suggests there is an untapped market to produce high quality popular games. \n",
      "\n",
      "\n",
      "- ** User Reviews and Critics Score** Do user reviews correlate with critics score? \n",
      "\n",
      "\n",
      "- **(Netflix Prize revamped)** Can we predict the score a reviewer would give a game based on the reviews he gave to other games?\n",
      "\n",
      "\n",
      "    * Probably too difficult: Giant Bomb doesn't seem to give access to user data.\n",
      "\n",
      "\n",
      "- ** Reviewer Score Distribution ** Are some reviewers more difficult to impress than others? For each reviewer what is their distribution of scores? \n",
      "\n",
      "\n",
      "Other APIs or Data Sets to look at and why\n",
      "\n",
      "- "
     ]
    },
    {
     "cell_type": "markdown",
     "metadata": {},
     "source": [
      "### Giant Bomb Score Distribution"
     ]
    },
    {
     "cell_type": "code",
     "collapsed": false,
     "input": [
      "offset = 0\n",
      "url_reviews = 'http://www.giantbomb.com/api/reviews/?api_key=' + key + '&format=json&offset=' + str(offset)"
     ],
     "language": "python",
     "metadata": {},
     "outputs": [],
     "prompt_number": 3
    },
    {
     "cell_type": "code",
     "collapsed": false,
     "input": [
      "# response format for API\n",
      "resp_review = requests.get(url_reviews)\n",
      "\n",
      "# loads text of response into json format\n",
      "review_info = json.loads(resp_review.text)"
     ],
     "language": "python",
     "metadata": {},
     "outputs": [],
     "prompt_number": 7
    },
    {
     "cell_type": "code",
     "collapsed": false,
     "input": [
      "# number of results on a single page\n",
      "print review_info['number_of_page_results']\n",
      "# total number of results for all pages\n",
      "print review_info['number_of_total_results']"
     ],
     "language": "python",
     "metadata": {},
     "outputs": [
      {
       "output_type": "stream",
       "stream": "stdout",
       "text": [
        "100\n",
        "646\n"
       ]
      }
     ],
     "prompt_number": 8
    },
    {
     "cell_type": "code",
     "collapsed": false,
     "input": [
      "# list of the possible keys; the results key is the most important\n",
      "review_info.keys()"
     ],
     "language": "python",
     "metadata": {},
     "outputs": [
      {
       "metadata": {},
       "output_type": "pyout",
       "prompt_number": 12,
       "text": [
        "[u'number_of_page_results',\n",
        " u'status_code',\n",
        " u'error',\n",
        " u'results',\n",
        " u'version',\n",
        " u'limit',\n",
        " u'offset',\n",
        " u'number_of_total_results']"
       ]
      }
     ],
     "prompt_number": 12
    },
    {
     "cell_type": "code",
     "collapsed": false,
     "input": [
      "# defines a list of the games from the review infor dictionary\n",
      "game_results = review_info['results']"
     ],
     "language": "python",
     "metadata": {},
     "outputs": [],
     "prompt_number": 13
    },
    {
     "cell_type": "code",
     "collapsed": false,
     "input": [
      "len(game_results)"
     ],
     "language": "python",
     "metadata": {},
     "outputs": [
      {
       "metadata": {},
       "output_type": "pyout",
       "prompt_number": 11,
       "text": [
        "100"
       ]
      }
     ],
     "prompt_number": 11
    },
    {
     "cell_type": "code",
     "collapsed": false,
     "input": [
      "## creating a dictionary of game names, score, reviewer, and review date\n",
      "\n",
      "g_names = list()\n",
      "g_score = list()\n",
      "g_reviewer = list()\n",
      "g_rv_date = list()\n",
      "\n",
      "for offset in np.array(range(7))*100: # cycle through possible offests\n",
      "\n",
      "    url_reviews = 'http://www.giantbomb.com/api/reviews/?api_key=' + key + '&format=json&offset=' + str(offset)\n",
      "    \n",
      "    resp_review = requests.get(url_reviews)\n",
      "    \n",
      "    review_info = json.loads(resp_review.text)\n",
      "\n",
      "    game_results = review_info['results']\n",
      "\n",
      "    for elem in game_results:\n",
      "        game = elem['game']\n",
      "        if type(game) == dict: # to ensure that we only consider non-empty entries\n",
      "            g_score.append(elem['score'])\n",
      "            g_names.append(game['name'])\n",
      "            g_reviewer.append(elem['reviewer'])\n",
      "            g_rv_date.append(elem['publish_date'])"
     ],
     "language": "python",
     "metadata": {},
     "outputs": [],
     "prompt_number": 15
    },
    {
     "cell_type": "code",
     "collapsed": false,
     "input": [
      "# defining gaming data frame\n",
      "\n",
      "game_dict = {'Name': g_names, 'Giant Bomb Score': g_score, 'Reviewer': g_reviewer, 'Date of Review':g_rv_date }\n",
      "\n",
      "game_frame = DataFrame(game_dict, columns = ['Name', 'Giant Bomb Score', 'Reviewer', 'Date of Review'])\n",
      "\n",
      "game_frame"
     ],
     "language": "python",
     "metadata": {},
     "outputs": [
      {
       "html": [
        "<div style=\"max-height:1000px;max-width:1500px;overflow:auto;\">\n",
        "<table border=\"1\" class=\"dataframe\">\n",
        "  <thead>\n",
        "    <tr style=\"text-align: right;\">\n",
        "      <th></th>\n",
        "      <th>Name</th>\n",
        "      <th>Giant Bomb Score</th>\n",
        "      <th>Reviewer</th>\n",
        "      <th>Date of Review</th>\n",
        "    </tr>\n",
        "  </thead>\n",
        "  <tbody>\n",
        "    <tr>\n",
        "      <th>0  </th>\n",
        "      <td>                                          SingStar</td>\n",
        "      <td> 4</td>\n",
        "      <td>    Jeff</td>\n",
        "      <td> 2008-05-23 13:00:00</td>\n",
        "    </tr>\n",
        "    <tr>\n",
        "      <th>1  </th>\n",
        "      <td>                                              Haze</td>\n",
        "      <td> 2</td>\n",
        "      <td>    Jeff</td>\n",
        "      <td> 2008-05-20 17:00:00</td>\n",
        "    </tr>\n",
        "    <tr>\n",
        "      <th>2  </th>\n",
        "      <td>          Metal Gear Solid 4: Guns of the Patriots</td>\n",
        "      <td> 5</td>\n",
        "      <td>    Brad</td>\n",
        "      <td> 2008-06-20 12:00:00</td>\n",
        "    </tr>\n",
        "    <tr>\n",
        "      <th>3  </th>\n",
        "      <td>                                       Poker Smash</td>\n",
        "      <td> 4</td>\n",
        "      <td>    Jeff</td>\n",
        "      <td> 2008-02-29 12:00:00</td>\n",
        "    </tr>\n",
        "    <tr>\n",
        "      <th>4  </th>\n",
        "      <td>                          Battlefield: Bad Company</td>\n",
        "      <td> 5</td>\n",
        "      <td>    Jeff</td>\n",
        "      <td> 2008-07-06 12:00:00</td>\n",
        "    </tr>\n",
        "    <tr>\n",
        "      <th>5  </th>\n",
        "      <td>       LEGO Indiana Jones: The Original Adventures</td>\n",
        "      <td> 3</td>\n",
        "      <td>    Brad</td>\n",
        "      <td> 2008-07-02 12:00:00</td>\n",
        "    </tr>\n",
        "    <tr>\n",
        "      <th>6  </th>\n",
        "      <td>             Robert Ludlum's The Bourne Conspiracy</td>\n",
        "      <td> 3</td>\n",
        "      <td>    Ryan</td>\n",
        "      <td> 2008-07-02 12:00:00</td>\n",
        "    </tr>\n",
        "    <tr>\n",
        "      <th>7  </th>\n",
        "      <td>                                  Burnout Paradise</td>\n",
        "      <td> 5</td>\n",
        "      <td>    Jeff</td>\n",
        "      <td> 2008-03-01 12:00:00</td>\n",
        "    </tr>\n",
        "    <tr>\n",
        "      <th>8  </th>\n",
        "      <td>          Professor Layton and the Curious Village</td>\n",
        "      <td> 5</td>\n",
        "      <td>    Jeff</td>\n",
        "      <td> 2008-03-07 10:00:00</td>\n",
        "    </tr>\n",
        "    <tr>\n",
        "      <th>9  </th>\n",
        "      <td>                           Super Smash Bros. Brawl</td>\n",
        "      <td> 4</td>\n",
        "      <td>    Jeff</td>\n",
        "      <td> 2008-03-13 15:00:00</td>\n",
        "    </tr>\n",
        "    <tr>\n",
        "      <th>10 </th>\n",
        "      <td>                                       Army of Two</td>\n",
        "      <td> 3</td>\n",
        "      <td>    Jeff</td>\n",
        "      <td> 2008-03-16 20:00:00</td>\n",
        "    </tr>\n",
        "    <tr>\n",
        "      <th>11 </th>\n",
        "      <td>                           Rocketmen: Axis of Evil</td>\n",
        "      <td> 2</td>\n",
        "      <td>    Jeff</td>\n",
        "      <td> 2008-03-22 10:00:00</td>\n",
        "    </tr>\n",
        "    <tr>\n",
        "      <th>12 </th>\n",
        "      <td>                        Bully: Scholarship Edition</td>\n",
        "      <td> 4</td>\n",
        "      <td>    Ryan</td>\n",
        "      <td> 2008-03-26 13:00:00</td>\n",
        "    </tr>\n",
        "    <tr>\n",
        "      <th>13 </th>\n",
        "      <td>                 Tom Clancy's Rainbow Six: Vegas 2</td>\n",
        "      <td> 4</td>\n",
        "      <td>    Jeff</td>\n",
        "      <td> 2008-03-27 13:00:00</td>\n",
        "    </tr>\n",
        "    <tr>\n",
        "      <th>14 </th>\n",
        "      <td>                            Condemned 2: Bloodshot</td>\n",
        "      <td> 5</td>\n",
        "      <td>    Ryan</td>\n",
        "      <td> 2008-03-27 16:00:00</td>\n",
        "    </tr>\n",
        "    <tr>\n",
        "      <th>15 </th>\n",
        "      <td>                                             TiQal</td>\n",
        "      <td> 2</td>\n",
        "      <td>    Jeff</td>\n",
        "      <td> 2008-03-31 11:00:00</td>\n",
        "    </tr>\n",
        "    <tr>\n",
        "      <th>16 </th>\n",
        "      <td>                         Viking: Battle for Asgard</td>\n",
        "      <td> 3</td>\n",
        "      <td>    Jeff</td>\n",
        "      <td> 2008-04-01 14:00:00</td>\n",
        "    </tr>\n",
        "    <tr>\n",
        "      <th>17 </th>\n",
        "      <td>                     Hot Shots Golf: Out of Bounds</td>\n",
        "      <td> 3</td>\n",
        "      <td>    Ryan</td>\n",
        "      <td> 2008-04-03 18:00:00</td>\n",
        "    </tr>\n",
        "    <tr>\n",
        "      <th>18 </th>\n",
        "      <td>                                Mr. Driller Online</td>\n",
        "      <td> 2</td>\n",
        "      <td>    Ryan</td>\n",
        "      <td> 2008-04-07 18:00:00</td>\n",
        "    </tr>\n",
        "    <tr>\n",
        "      <th>19 </th>\n",
        "      <td>                                           Ikaruga</td>\n",
        "      <td> 4</td>\n",
        "      <td>    Jeff</td>\n",
        "      <td> 2008-04-21 13:00:00</td>\n",
        "    </tr>\n",
        "    <tr>\n",
        "      <th>20 </th>\n",
        "      <td>                                Rocky &amp; Bullwinkle</td>\n",
        "      <td> 2</td>\n",
        "      <td>    Jeff</td>\n",
        "      <td> 2008-05-21 14:00:00</td>\n",
        "    </tr>\n",
        "    <tr>\n",
        "      <th>21 </th>\n",
        "      <td>                                       Dark Sector</td>\n",
        "      <td> 2</td>\n",
        "      <td>    Jeff</td>\n",
        "      <td> 2008-04-25 15:00:00</td>\n",
        "    </tr>\n",
        "    <tr>\n",
        "      <th>22 </th>\n",
        "      <td>                           NBA Ballers: Chosen One</td>\n",
        "      <td> 2</td>\n",
        "      <td>    Jeff</td>\n",
        "      <td> 2008-04-28 10:00:00</td>\n",
        "    </tr>\n",
        "    <tr>\n",
        "      <th>23 </th>\n",
        "      <td>                           Gran Turismo 5 Prologue</td>\n",
        "      <td> 3</td>\n",
        "      <td>    Ryan</td>\n",
        "      <td> 2008-05-05 16:00:00</td>\n",
        "    </tr>\n",
        "    <tr>\n",
        "      <th>24 </th>\n",
        "      <td>                               Grand Theft Auto IV</td>\n",
        "      <td> 5</td>\n",
        "      <td>    Jeff</td>\n",
        "      <td> 2008-05-05 16:00:00</td>\n",
        "    </tr>\n",
        "    <tr>\n",
        "      <th>25 </th>\n",
        "      <td>                                    Mario Kart Wii</td>\n",
        "      <td> 3</td>\n",
        "      <td>    Ryan</td>\n",
        "      <td> 2008-05-07 16:00:00</td>\n",
        "    </tr>\n",
        "    <tr>\n",
        "      <th>26 </th>\n",
        "      <td>                                    Target: Terror</td>\n",
        "      <td> 2</td>\n",
        "      <td>    Jeff</td>\n",
        "      <td> 2008-05-07 17:00:00</td>\n",
        "    </tr>\n",
        "    <tr>\n",
        "      <th>27 </th>\n",
        "      <td>                                         Boom Blox</td>\n",
        "      <td> 4</td>\n",
        "      <td>    Jeff</td>\n",
        "      <td> 2008-05-12 18:00:00</td>\n",
        "    </tr>\n",
        "    <tr>\n",
        "      <th>28 </th>\n",
        "      <td>                                Defend Your Castle</td>\n",
        "      <td> 3</td>\n",
        "      <td>    Ryan</td>\n",
        "      <td> 2008-05-18 15:00:00</td>\n",
        "    </tr>\n",
        "    <tr>\n",
        "      <th>29 </th>\n",
        "      <td> Penny Arcade Adventures: On the Rain-Slick Pre...</td>\n",
        "      <td> 4</td>\n",
        "      <td>    Ryan</td>\n",
        "      <td> 2008-05-22 18:00:00</td>\n",
        "    </tr>\n",
        "    <tr>\n",
        "      <th>...</th>\n",
        "      <td>...</td>\n",
        "      <td>...</td>\n",
        "      <td>...</td>\n",
        "      <td>...</td>\n",
        "    </tr>\n",
        "    <tr>\n",
        "      <th>615</th>\n",
        "      <td>                                       Luftrausers</td>\n",
        "      <td> 4</td>\n",
        "      <td>    Alex</td>\n",
        "      <td> 2014-03-19 12:18:00</td>\n",
        "    </tr>\n",
        "    <tr>\n",
        "      <th>616</th>\n",
        "      <td>                              inFamous: Second Son</td>\n",
        "      <td> 4</td>\n",
        "      <td>    Jeff</td>\n",
        "      <td> 2014-03-20 07:00:00</td>\n",
        "    </tr>\n",
        "    <tr>\n",
        "      <th>617</th>\n",
        "      <td>                 Metal Gear Solid V: Ground Zeroes</td>\n",
        "      <td> 4</td>\n",
        "      <td>    Brad</td>\n",
        "      <td> 2014-03-21 14:30:00</td>\n",
        "    </tr>\n",
        "    <tr>\n",
        "      <th>618</th>\n",
        "      <td>                                    Child of Light</td>\n",
        "      <td> 3</td>\n",
        "      <td>    Alex</td>\n",
        "      <td> 2014-05-07 13:50:00</td>\n",
        "    </tr>\n",
        "    <tr>\n",
        "      <th>619</th>\n",
        "      <td>                                      Mario Kart 8</td>\n",
        "      <td> 4</td>\n",
        "      <td>    Alex</td>\n",
        "      <td> 2014-05-15 13:30:00</td>\n",
        "    </tr>\n",
        "    <tr>\n",
        "      <th>620</th>\n",
        "      <td>                                      Tesla Effect</td>\n",
        "      <td> 3</td>\n",
        "      <td> Patrick</td>\n",
        "      <td> 2014-05-21 11:06:00</td>\n",
        "    </tr>\n",
        "    <tr>\n",
        "      <th>621</th>\n",
        "      <td>                        Wolfenstein: The New Order</td>\n",
        "      <td> 4</td>\n",
        "      <td>    Alex</td>\n",
        "      <td> 2014-05-21 13:40:00</td>\n",
        "    </tr>\n",
        "    <tr>\n",
        "      <th>622</th>\n",
        "      <td>                                        Watch Dogs</td>\n",
        "      <td> 3</td>\n",
        "      <td>    Jeff</td>\n",
        "      <td> 2014-05-27 00:01:00</td>\n",
        "    </tr>\n",
        "    <tr>\n",
        "      <th>623</th>\n",
        "      <td>                                     Shovel Knight</td>\n",
        "      <td> 4</td>\n",
        "      <td> Patrick</td>\n",
        "      <td> 2014-06-26 17:58:00</td>\n",
        "    </tr>\n",
        "    <tr>\n",
        "      <th>624</th>\n",
        "      <td>                     Valiant Hearts: The Great War</td>\n",
        "      <td> 4</td>\n",
        "      <td>    Alex</td>\n",
        "      <td> 2014-07-02 13:30:00</td>\n",
        "    </tr>\n",
        "    <tr>\n",
        "      <th>625</th>\n",
        "      <td>                 Diablo III: Ultimate Evil Edition</td>\n",
        "      <td> 4</td>\n",
        "      <td>    Jeff</td>\n",
        "      <td> 2014-08-18 13:58:00</td>\n",
        "    </tr>\n",
        "    <tr>\n",
        "      <th>626</th>\n",
        "      <td>                            Divinity: Original Sin</td>\n",
        "      <td> 4</td>\n",
        "      <td> Patrick</td>\n",
        "      <td> 2014-08-21 16:31:00</td>\n",
        "    </tr>\n",
        "    <tr>\n",
        "      <th>627</th>\n",
        "      <td>                                     Madden NFL 15</td>\n",
        "      <td> 4</td>\n",
        "      <td>    Alex</td>\n",
        "      <td> 2014-08-27 10:55:00</td>\n",
        "    </tr>\n",
        "    <tr>\n",
        "      <th>628</th>\n",
        "      <td>                                            NHL 15</td>\n",
        "      <td> 2</td>\n",
        "      <td>    Alex</td>\n",
        "      <td> 2014-09-11 11:31:00</td>\n",
        "    </tr>\n",
        "    <tr>\n",
        "      <th>629</th>\n",
        "      <td>                                           Destiny</td>\n",
        "      <td> 3</td>\n",
        "      <td>    Jeff</td>\n",
        "      <td> 2014-09-12 11:29:00</td>\n",
        "    </tr>\n",
        "    <tr>\n",
        "      <th>630</th>\n",
        "      <td>                                   Hyrule Warriors</td>\n",
        "      <td> 3</td>\n",
        "      <td>     Dan</td>\n",
        "      <td> 2014-09-18 11:00:00</td>\n",
        "    </tr>\n",
        "    <tr>\n",
        "      <th>631</th>\n",
        "      <td>                                 Super Smash Bros.</td>\n",
        "      <td> 4</td>\n",
        "      <td>     Dan</td>\n",
        "      <td> 2014-09-26 14:56:00</td>\n",
        "    </tr>\n",
        "    <tr>\n",
        "      <th>632</th>\n",
        "      <td>                    Danganronpa 2: Goodbye Despair</td>\n",
        "      <td> 3</td>\n",
        "      <td> Patrick</td>\n",
        "      <td> 2014-10-01 10:00:00</td>\n",
        "    </tr>\n",
        "    <tr>\n",
        "      <th>633</th>\n",
        "      <td>                    Middle-earth: Shadow of Mordor</td>\n",
        "      <td> 5</td>\n",
        "      <td>    Brad</td>\n",
        "      <td> 2014-09-30 15:00:00</td>\n",
        "    </tr>\n",
        "    <tr>\n",
        "      <th>634</th>\n",
        "      <td>                         D4: Dark Dreams Don't Die</td>\n",
        "      <td> 4</td>\n",
        "      <td>    Alex</td>\n",
        "      <td> 2014-09-30 14:25:00</td>\n",
        "    </tr>\n",
        "    <tr>\n",
        "      <th>635</th>\n",
        "      <td>                                   Forza Horizon 2</td>\n",
        "      <td> 4</td>\n",
        "      <td>    Jeff</td>\n",
        "      <td> 2014-10-01 18:05:00</td>\n",
        "    </tr>\n",
        "    <tr>\n",
        "      <th>636</th>\n",
        "      <td>                                  Alien: Isolation</td>\n",
        "      <td> 4</td>\n",
        "      <td> Patrick</td>\n",
        "      <td> 2014-10-06 17:04:00</td>\n",
        "    </tr>\n",
        "    <tr>\n",
        "      <th>637</th>\n",
        "      <td>                                         Driveclub</td>\n",
        "      <td> 2</td>\n",
        "      <td>    Jeff</td>\n",
        "      <td> 2014-10-07 18:22:00</td>\n",
        "    </tr>\n",
        "    <tr>\n",
        "      <th>638</th>\n",
        "      <td>                                       Bayonetta 2</td>\n",
        "      <td> 5</td>\n",
        "      <td>     Dan</td>\n",
        "      <td> 2014-10-13 20:22:00</td>\n",
        "    </tr>\n",
        "    <tr>\n",
        "      <th>639</th>\n",
        "      <td>            Sid Meier's Civilization: Beyond Earth</td>\n",
        "      <td> 3</td>\n",
        "      <td>    Alex</td>\n",
        "      <td> 2014-10-29 10:50:00</td>\n",
        "    </tr>\n",
        "    <tr>\n",
        "      <th>640</th>\n",
        "      <td>                                   The Evil Within</td>\n",
        "      <td> 2</td>\n",
        "      <td> Patrick</td>\n",
        "      <td> 2014-10-29 12:04:00</td>\n",
        "    </tr>\n",
        "    <tr>\n",
        "      <th>641</th>\n",
        "      <td>                                  Sunset Overdrive</td>\n",
        "      <td> 4</td>\n",
        "      <td>    Brad</td>\n",
        "      <td> 2014-10-31 14:45:00</td>\n",
        "    </tr>\n",
        "    <tr>\n",
        "      <th>642</th>\n",
        "      <td>                    Call of Duty: Advanced Warfare</td>\n",
        "      <td> 4</td>\n",
        "      <td>    Jeff</td>\n",
        "      <td> 2014-11-03 00:00:00</td>\n",
        "    </tr>\n",
        "    <tr>\n",
        "      <th>643</th>\n",
        "      <td>                                          NBA 2K15</td>\n",
        "      <td> 3</td>\n",
        "      <td>    Alex</td>\n",
        "      <td> 2014-11-05 09:14:00</td>\n",
        "    </tr>\n",
        "    <tr>\n",
        "      <th>644</th>\n",
        "      <td>                                       NBA Live 15</td>\n",
        "      <td> 2</td>\n",
        "      <td>    Alex</td>\n",
        "      <td> 2014-11-05 09:33:00</td>\n",
        "    </tr>\n",
        "  </tbody>\n",
        "</table>\n",
        "<p>645 rows \u00d7 4 columns</p>\n",
        "</div>"
       ],
       "metadata": {},
       "output_type": "pyout",
       "prompt_number": 16,
       "text": [
        "                                                  Name  Giant Bomb Score  \\\n",
        "0                                             SingStar                 4   \n",
        "1                                                 Haze                 2   \n",
        "2             Metal Gear Solid 4: Guns of the Patriots                 5   \n",
        "3                                          Poker Smash                 4   \n",
        "4                             Battlefield: Bad Company                 5   \n",
        "5          LEGO Indiana Jones: The Original Adventures                 3   \n",
        "6                Robert Ludlum's The Bourne Conspiracy                 3   \n",
        "7                                     Burnout Paradise                 5   \n",
        "8             Professor Layton and the Curious Village                 5   \n",
        "9                              Super Smash Bros. Brawl                 4   \n",
        "10                                         Army of Two                 3   \n",
        "11                             Rocketmen: Axis of Evil                 2   \n",
        "12                          Bully: Scholarship Edition                 4   \n",
        "13                   Tom Clancy's Rainbow Six: Vegas 2                 4   \n",
        "14                              Condemned 2: Bloodshot                 5   \n",
        "15                                               TiQal                 2   \n",
        "16                           Viking: Battle for Asgard                 3   \n",
        "17                       Hot Shots Golf: Out of Bounds                 3   \n",
        "18                                  Mr. Driller Online                 2   \n",
        "19                                             Ikaruga                 4   \n",
        "20                                  Rocky & Bullwinkle                 2   \n",
        "21                                         Dark Sector                 2   \n",
        "22                             NBA Ballers: Chosen One                 2   \n",
        "23                             Gran Turismo 5 Prologue                 3   \n",
        "24                                 Grand Theft Auto IV                 5   \n",
        "25                                      Mario Kart Wii                 3   \n",
        "26                                      Target: Terror                 2   \n",
        "27                                           Boom Blox                 4   \n",
        "28                                  Defend Your Castle                 3   \n",
        "29   Penny Arcade Adventures: On the Rain-Slick Pre...                 4   \n",
        "..                                                 ...               ...   \n",
        "615                                        Luftrausers                 4   \n",
        "616                               inFamous: Second Son                 4   \n",
        "617                  Metal Gear Solid V: Ground Zeroes                 4   \n",
        "618                                     Child of Light                 3   \n",
        "619                                       Mario Kart 8                 4   \n",
        "620                                       Tesla Effect                 3   \n",
        "621                         Wolfenstein: The New Order                 4   \n",
        "622                                         Watch Dogs                 3   \n",
        "623                                      Shovel Knight                 4   \n",
        "624                      Valiant Hearts: The Great War                 4   \n",
        "625                  Diablo III: Ultimate Evil Edition                 4   \n",
        "626                             Divinity: Original Sin                 4   \n",
        "627                                      Madden NFL 15                 4   \n",
        "628                                             NHL 15                 2   \n",
        "629                                            Destiny                 3   \n",
        "630                                    Hyrule Warriors                 3   \n",
        "631                                  Super Smash Bros.                 4   \n",
        "632                     Danganronpa 2: Goodbye Despair                 3   \n",
        "633                     Middle-earth: Shadow of Mordor                 5   \n",
        "634                          D4: Dark Dreams Don't Die                 4   \n",
        "635                                    Forza Horizon 2                 4   \n",
        "636                                   Alien: Isolation                 4   \n",
        "637                                          Driveclub                 2   \n",
        "638                                        Bayonetta 2                 5   \n",
        "639             Sid Meier's Civilization: Beyond Earth                 3   \n",
        "640                                    The Evil Within                 2   \n",
        "641                                   Sunset Overdrive                 4   \n",
        "642                     Call of Duty: Advanced Warfare                 4   \n",
        "643                                           NBA 2K15                 3   \n",
        "644                                        NBA Live 15                 2   \n",
        "\n",
        "    Reviewer       Date of Review  \n",
        "0       Jeff  2008-05-23 13:00:00  \n",
        "1       Jeff  2008-05-20 17:00:00  \n",
        "2       Brad  2008-06-20 12:00:00  \n",
        "3       Jeff  2008-02-29 12:00:00  \n",
        "4       Jeff  2008-07-06 12:00:00  \n",
        "5       Brad  2008-07-02 12:00:00  \n",
        "6       Ryan  2008-07-02 12:00:00  \n",
        "7       Jeff  2008-03-01 12:00:00  \n",
        "8       Jeff  2008-03-07 10:00:00  \n",
        "9       Jeff  2008-03-13 15:00:00  \n",
        "10      Jeff  2008-03-16 20:00:00  \n",
        "11      Jeff  2008-03-22 10:00:00  \n",
        "12      Ryan  2008-03-26 13:00:00  \n",
        "13      Jeff  2008-03-27 13:00:00  \n",
        "14      Ryan  2008-03-27 16:00:00  \n",
        "15      Jeff  2008-03-31 11:00:00  \n",
        "16      Jeff  2008-04-01 14:00:00  \n",
        "17      Ryan  2008-04-03 18:00:00  \n",
        "18      Ryan  2008-04-07 18:00:00  \n",
        "19      Jeff  2008-04-21 13:00:00  \n",
        "20      Jeff  2008-05-21 14:00:00  \n",
        "21      Jeff  2008-04-25 15:00:00  \n",
        "22      Jeff  2008-04-28 10:00:00  \n",
        "23      Ryan  2008-05-05 16:00:00  \n",
        "24      Jeff  2008-05-05 16:00:00  \n",
        "25      Ryan  2008-05-07 16:00:00  \n",
        "26      Jeff  2008-05-07 17:00:00  \n",
        "27      Jeff  2008-05-12 18:00:00  \n",
        "28      Ryan  2008-05-18 15:00:00  \n",
        "29      Ryan  2008-05-22 18:00:00  \n",
        "..       ...                  ...  \n",
        "615     Alex  2014-03-19 12:18:00  \n",
        "616     Jeff  2014-03-20 07:00:00  \n",
        "617     Brad  2014-03-21 14:30:00  \n",
        "618     Alex  2014-05-07 13:50:00  \n",
        "619     Alex  2014-05-15 13:30:00  \n",
        "620  Patrick  2014-05-21 11:06:00  \n",
        "621     Alex  2014-05-21 13:40:00  \n",
        "622     Jeff  2014-05-27 00:01:00  \n",
        "623  Patrick  2014-06-26 17:58:00  \n",
        "624     Alex  2014-07-02 13:30:00  \n",
        "625     Jeff  2014-08-18 13:58:00  \n",
        "626  Patrick  2014-08-21 16:31:00  \n",
        "627     Alex  2014-08-27 10:55:00  \n",
        "628     Alex  2014-09-11 11:31:00  \n",
        "629     Jeff  2014-09-12 11:29:00  \n",
        "630      Dan  2014-09-18 11:00:00  \n",
        "631      Dan  2014-09-26 14:56:00  \n",
        "632  Patrick  2014-10-01 10:00:00  \n",
        "633     Brad  2014-09-30 15:00:00  \n",
        "634     Alex  2014-09-30 14:25:00  \n",
        "635     Jeff  2014-10-01 18:05:00  \n",
        "636  Patrick  2014-10-06 17:04:00  \n",
        "637     Jeff  2014-10-07 18:22:00  \n",
        "638      Dan  2014-10-13 20:22:00  \n",
        "639     Alex  2014-10-29 10:50:00  \n",
        "640  Patrick  2014-10-29 12:04:00  \n",
        "641     Brad  2014-10-31 14:45:00  \n",
        "642     Jeff  2014-11-03 00:00:00  \n",
        "643     Alex  2014-11-05 09:14:00  \n",
        "644     Alex  2014-11-05 09:33:00  \n",
        "\n",
        "[645 rows x 4 columns]"
       ]
      }
     ],
     "prompt_number": 16
    },
    {
     "cell_type": "code",
     "collapsed": false,
     "input": [
      "# Histogram distribution of Giant Bomb Scores\n",
      "\n",
      "plt.figure(figsize=(8,6))\n",
      "n, bins, patches = plt.hist(g_score, 15)\n",
      "plt.title(\" Distribution of Giant Bomb Game Scores\")\n",
      "plt.xlabel(\"Score\")\n",
      "plt.ylabel(\"Numbers of Occurences\")"
     ],
     "language": "python",
     "metadata": {},
     "outputs": [
      {
       "metadata": {},
       "output_type": "pyout",
       "prompt_number": 21,
       "text": [
        "<matplotlib.text.Text at 0xc6e3e10>"
       ]
      },
      {
       "metadata": {},
       "output_type": "display_data",
       "png": "[encoded data removed]",
       "text": [
        "<matplotlib.figure.Figure at 0xc7b6860>"
       ]
      }
     ],
     "prompt_number": 21
    },
    {
     "cell_type": "code",
     "collapsed": false,
     "input": [
      "# number of scores which are 4 or 5 vs. number which are 1, 2, or 3\n",
      "ngood = np.sum(np.array(g_score) > 3)\n",
      "nbad = np.sum(np.array(g_score) <= 3)\n",
      "print ngood, nbad"
     ],
     "language": "python",
     "metadata": {},
     "outputs": [
      {
       "output_type": "stream",
       "stream": "stdout",
       "text": [
        "361 284\n"
       ]
      }
     ],
     "prompt_number": 22
    },
    {
     "cell_type": "markdown",
     "metadata": {},
     "source": [
      "### Reviewer Score Distribution"
     ]
    },
    {
     "cell_type": "code",
     "collapsed": false,
     "input": [
      "# list of reviewers\n",
      "set(g_reviewer)"
     ],
     "language": "python",
     "metadata": {},
     "outputs": [
      {
       "metadata": {},
       "output_type": "pyout",
       "prompt_number": 23,
       "text": [
        "{u'Alex',\n",
        " u'Andy',\n",
        " u'Brad',\n",
        " u'Dan',\n",
        " u'Dave',\n",
        " u'Drew',\n",
        " u'Jeff',\n",
        " u'Matt',\n",
        " u'Patrick',\n",
        " u'Ryan',\n",
        " u'Vinny'}"
       ]
      }
     ],
     "prompt_number": 23
    },
    {
     "cell_type": "code",
     "collapsed": false,
     "input": [
      "## reviewer data frames\n",
      "Alex_frame = game_frame[game_frame['Reviewer'] == 'Alex']\n",
      "Andy_frame = game_frame[game_frame['Reviewer'] == 'Andy']\n",
      "Brad_frame = game_frame[game_frame['Reviewer'] == 'Brad']\n",
      "Dan_frame = game_frame[game_frame['Reviewer'] == 'Dan']\n",
      "Dave_frame = game_frame[game_frame['Reviewer'] == 'Dave']\n",
      "Drew_frame = game_frame[game_frame['Reviewer'] == 'Drew']\n",
      "Jeff_frame = game_frame[game_frame['Reviewer'] == 'Jeff']\n",
      "Matt_frame = game_frame[game_frame['Reviewer'] == 'Matt']\n",
      "Patrick_frame = game_frame[game_frame['Reviewer'] == 'Patrick']\n",
      "Ryan_frame = game_frame[game_frame['Reviewer'] == 'Ryan']\n",
      "Vinny_frame = game_frame[game_frame['Reviewer'] == 'Vinny']\n",
      "\n",
      "# dictionary of reviewers\n",
      "rvwrs = {'Alex': Alex_frame,\n",
      "               'Andy': Andy_frame,\n",
      "               'Brad': Brad_frame,\n",
      "               'Dan': Dan_frame,\n",
      "               'Dave': Dave_frame,\n",
      "               'Drew': Drew_frame,\n",
      "               'Jeff': Jeff_frame,\n",
      "               'Matt': Matt_frame,\n",
      "               'Patrick': Patrick_frame,\n",
      "               'Ryan': Ryan_frame,\n",
      "               'Vinny': Vinny_frame}\n",
      "\n",
      "# number of reviews for each reviewer\n",
      "for name in set(g_reviewer):\n",
      "    print name +': ',len(rvwrs[name])"
     ],
     "language": "python",
     "metadata": {},
     "outputs": [
      {
       "output_type": "stream",
       "stream": "stdout",
       "text": [
        "Matt:  7\n",
        "Alex:  104\n",
        "Jeff:  250\n",
        "Patrick:  24\n",
        "Dan:  3\n",
        "Ryan:  107\n",
        "Dave:  9\n",
        "Andy:  1\n",
        "Vinny:  9\n",
        "Brad:  129\n",
        "Drew:  2\n"
       ]
      }
     ],
     "prompt_number": 29
    },
    {
     "cell_type": "code",
     "collapsed": false,
     "input": [
      "## score distributions of the top reviewers\n",
      "\n",
      "Rvw_list = ['Brad', 'Jeff', 'Alex', 'Ryan']\n",
      "\n",
      "for reviewer in Rvw_list:\n",
      "    \n",
      "    g_score = list(rvwrs[reviewer]['Giant Bomb Score'])\n",
      "    \n",
      "    plt.figure(figsize=(8,6))\n",
      "    \n",
      "    n, bins, patches = plt.hist(g_score, 15)\n",
      "    \n",
      "    plt.title(reviewer+\": Distribution of Giant Bomb Game Scores\")\n",
      "    \n",
      "    plt.xlabel(\"Score\")\n",
      "    \n",
      "    plt.ylabel(\"Numbers of Occurences\")\n",
      "    \n",
      "    plt.show()"
     ],
     "language": "python",
     "metadata": {},
     "outputs": [
      {
       "metadata": {},
       "output_type": "display_data",
       "png": "[encoded data removed]",
       "text": [
        "<matplotlib.figure.Figure at 0x1591af60>"
       ]
      },
      {
       "metadata": {},
       "output_type": "display_data",
       "png": "[encoded data removed]",
       "text": [
        "<matplotlib.figure.Figure at 0x15e76a90>"
       ]
      },
      {
       "metadata": {},
       "output_type": "display_data",
       "png": "[encoded data removed]",
       "text": [
        "<matplotlib.figure.Figure at 0x15d465c0>"
       ]
      },
      {
       "metadata": {},
       "output_type": "display_data",
       "png": "[encoded data removed]",
       "text": [
        "<matplotlib.figure.Figure at 0x15b74d30>"
       ]
      }
     ],
     "prompt_number": 27
    },
    {
     "cell_type": "markdown",
     "metadata": {},
     "source": [
      "### Which types of games are the most popular?"
     ]
    },
    {
     "cell_type": "code",
     "collapsed": false,
     "input": [],
     "language": "python",
     "metadata": {},
     "outputs": []
    },
    {
     "cell_type": "code",
     "collapsed": false,
     "input": [],
     "language": "python",
     "metadata": {},
     "outputs": []
    },
    {
     "cell_type": "code",
     "collapsed": false,
     "input": [],
     "language": "python",
     "metadata": {},
     "outputs": []
    },
    {
     "cell_type": "markdown",
     "metadata": {},
     "source": [
      "### Do the same companies consistently produce high scoring games?"
     ]
    },
    {
     "cell_type": "markdown",
     "metadata": {},
     "source": [
      "First thing we need to note is the difference between video game developers and video game publishers. The difference is akin to the difference between the writers for a magazine and the magazine itself. The magazine can publish work done by its in house staff, but it can also publish work done by free lance writers. Similarly, a company which is listed as a publisher acts as a publishing house for games that it may develop and games outside developers create. Quite simply, developers work to make the game and publishers handle the marketing and distribution for certain games. As to be expected, there are many more developers than there are publishers. \n",
      "\n",
      "As an example of the difference, the popular 2013 PS3 game The Last of Us was developed by Naughty Dog studio and was published by Sony Computer Entertainment.  \n",
      "\n",
      "(slightly impartial) reference: http://www.alteredgamer.com/pc-gaming/49397-what-is-the-difference-between-developers-and-publishers/"
     ]
    },
    {
     "cell_type": "code",
     "collapsed": false,
     "input": [],
     "language": "python",
     "metadata": {},
     "outputs": []
    },
    {
     "cell_type": "code",
     "collapsed": false,
     "input": [],
     "language": "python",
     "metadata": {},
     "outputs": []
    },
    {
     "cell_type": "markdown",
     "metadata": {},
     "source": [
      "### Do user reviews correlate with critics score?"
     ]
    },
    {
     "cell_type": "code",
     "collapsed": false,
     "input": [],
     "language": "python",
     "metadata": {},
     "outputs": []
    },
    {
     "cell_type": "markdown",
     "metadata": {},
     "source": [
      "### What is the distribution of user score reviews?"
     ]
    },
    {
     "cell_type": "markdown",
     "metadata": {},
     "source": [
      "First let's find out how many user reviews are on the giant bomb site. "
     ]
    },
    {
     "cell_type": "code",
     "collapsed": false,
     "input": [
      "# API for Giant Bomb USER Reviews\n",
      "offset = 0 \n",
      "url_usrreviews = 'http://www.giantbomb.com/api/user_reviews/?api_key=' + key + '&format=json&offset=' + str(offset)\n",
      "# response format for API\n",
      "resp_usrreview = requests.get(url_usrreviews)\n",
      "# loads text of response into json format\n",
      "usrreview_info = json.loads(resp_usrreview.text)"
     ],
     "language": "python",
     "metadata": {},
     "outputs": [],
     "prompt_number": 7
    },
    {
     "cell_type": "code",
     "collapsed": false,
     "input": [
      "# number of results for single page\n",
      "print 'Total number of user API results: ',usrreview_info['number_of_total_results']"
     ],
     "language": "python",
     "metadata": {},
     "outputs": [
      {
       "output_type": "stream",
       "stream": "stdout",
       "text": [
        "Total number of user API results:  26354\n"
       ]
      }
     ],
     "prompt_number": 8
    },
    {
     "cell_type": "markdown",
     "metadata": {},
     "source": [
      "So we apparently have about 26,000 user reviews. However, some of these API calls produce empty results. For example, when we look at the 25,000th page we find no user review information. "
     ]
    },
    {
     "cell_type": "code",
     "collapsed": false,
     "input": [
      "offset = 25000\n",
      "url_usrreviews = 'http://www.giantbomb.com/api/user_reviews/?api_key=' + key + '&format=json&offset=' + str(offset)\n",
      "resp_usrreview = requests.get(url_usrreviews)\n",
      "usrreview_info = json.loads(resp_usrreview.text)\n",
      "usr_rvs = usrreview_info['results']\n",
      "\n",
      "usr_rvs"
     ],
     "language": "python",
     "metadata": {},
     "outputs": [
      {
       "metadata": {},
       "output_type": "pyout",
       "prompt_number": 9,
       "text": [
        "[]"
       ]
      }
     ],
     "prompt_number": 9
    },
    {
     "cell_type": "markdown",
     "metadata": {},
     "source": [
      "We will create a data frame which includes the name of the game, the score given to it by the user, the screen name of the user, and the date the review was provided. The empty API calls will automatically be excluded from the frame. "
     ]
    },
    {
     "cell_type": "code",
     "collapsed": false,
     "input": [
      "## creates a list of all games reviewers have reviewed with the score for the game, the date added, and the name of the reviewer. \n",
      "\n",
      "usr_g_names = list()\n",
      "usr_g_score = list()\n",
      "usr_g_reviewer = list()\n",
      "usr_g_rv_date = list()\n",
      "\n",
      "for offset in np.array(range(260))*100:\n",
      "    url_usrreviews = 'http://www.giantbomb.com/api/user_reviews/?api_key=' + key + '&format=json&offset=' + str(offset)\n",
      "\n",
      "    # response format for API\n",
      "    resp_usrreview = requests.get(url_usrreviews)\n",
      "\n",
      "    # loads text of response into json format\n",
      "    usrreview_info = json.loads(resp_usrreview.text)\n",
      "\n",
      "    # redefine list\n",
      "    usr_rvs = usrreview_info['results']\n",
      "\n",
      "    for k in range(len(usr_rvs)):\n",
      "        elem = usr_rvs[k]\n",
      "        usr_g_score.append(elem['score'])\n",
      "        usr_g_names.append(elem['wikiObject'])\n",
      "        usr_g_reviewer.append(elem['reviewer'])\n",
      "        usr_g_rv_date.append(elem['date_added'])"
     ],
     "language": "python",
     "metadata": {},
     "outputs": [],
     "prompt_number": 10
    },
    {
     "cell_type": "code",
     "collapsed": false,
     "input": [
      "usr_rv_dict = {'Name': usr_g_names, 'User Review Score': usr_g_score, 'User Reviewer': usr_g_reviewer, 'Date of Review':usr_g_rv_date }\n",
      "\n",
      "from pandas import DataFrame\n",
      "\n",
      "usr_rv_frame = DataFrame(usr_rv_dict, columns = ['Name', 'User Review Score', 'User Reviewer', 'Date of Review'])\n",
      "\n",
      "# Defined as of November 18, 2014\n",
      "usr_rv_frame"
     ],
     "language": "python",
     "metadata": {},
     "outputs": []
    },
    {
     "cell_type": "code",
     "collapsed": false,
     "input": [],
     "language": "python",
     "metadata": {},
     "outputs": []
    },
    {
     "cell_type": "markdown",
     "metadata": {},
     "source": [
      "We can now answer the question: What is the distribution of giant bomb user review scores?"
     ]
    },
    {
     "cell_type": "code",
     "collapsed": false,
     "input": [
      "# Histogram distribution of Giant Bomb User Review Scores\n",
      "\n",
      "plt.figure(figsize=(8,6))\n",
      "n, bins, patches = plt.hist(usr_g_score, 15)\n",
      "plt.title(\" Distribution of Giant Bomb User Review Scores\")\n",
      "plt.xlabel(\"Score\")\n",
      "plt.ylabel(\"Numbers of Occurences\")"
     ],
     "language": "python",
     "metadata": {},
     "outputs": [
      {
       "metadata": {},
       "output_type": "pyout",
       "prompt_number": 14,
       "text": [
        "<matplotlib.text.Text at 0x15efba20>"
       ]
      },
      {
       "metadata": {},
       "output_type": "display_data",
       "png": "[encoded data removed]",
       "text": [
        "<matplotlib.figure.Figure at 0xc309128>"
       ]
      }
     ],
     "prompt_number": 14
    },
    {
     "cell_type": "markdown",
     "metadata": {},
     "source": [
      "We first note that unlike the Giant Bomb staff review scores, a user review score can in a sense be '0'. We say in a sense because the Giant Bomb API associates a score of 0 to user reviews which don't include a specific score. See the two reviews in http://www.giantbomb.com/jumper-griffins-story/3030-20797/user-reviews/ for example. \n",
      "\n",
      "More relevantnly, we see that similar to the Giant Bomb staff review scores, the distribution of user review scores has a mode centered well above the mid point of the range. In fact the user review scores have a mode of 5 in comaprison to the critic mode of 4. There is one important distinction between the two distributions, however: there was only a single critic review per game. This is not the case for the user reviews. "
     ]
    },
    {
     "cell_type": "code",
     "collapsed": false,
     "input": [
      "print 'Total Number of User Game Reviews: ', len(usr_g_names)\n",
      "print 'Total Number of Unique User Game Reviews: ', len(set(usr_g_names))"
     ],
     "language": "python",
     "metadata": {},
     "outputs": [
      {
       "output_type": "stream",
       "stream": "stdout",
       "text": [
        "Total Number of User Game Reviews:  24830\n",
        "Total Number of Unique User Game Reviews:  4955\n"
       ]
      }
     ],
     "prompt_number": 17
    },
    {
     "cell_type": "markdown",
     "metadata": {},
     "source": [
      "So there are about 25000 user game reviews, but only about 5000 reviews unique to a game.\n",
      "\n",
      "Given that the more popular (i.e. highly rated) games will most likely have more user reviews, it makes sense that the mode of the total distribution of user reviews is at 5. So, a more informative plot would perhaps be the distribution of user scores uniquely associated with a particular game. To find the score associated with a particular game we will simply average all the user scores for that game and round to the nearest integer. "
     ]
    },
    {
     "cell_type": "code",
     "collapsed": false,
     "input": [
      "## Data frame of average user review score per game\n",
      "\n",
      "#This averaging washes away the time and reviewer name data from the previous frame\n",
      "\n",
      "unique_rvs = usr_rv_frame.groupby('Name',as_index = False)['Name', 'User Review Score'].mean()\n",
      "unique_rvs.head()"
     ],
     "language": "python",
     "metadata": {},
     "outputs": [
      {
       "html": [
        "<div style=\"max-height:1000px;max-width:1500px;overflow:auto;\">\n",
        "<table border=\"1\" class=\"dataframe\">\n",
        "  <thead>\n",
        "    <tr style=\"text-align: right;\">\n",
        "      <th></th>\n",
        "      <th>Name</th>\n",
        "      <th>User Review Score</th>\n",
        "    </tr>\n",
        "  </thead>\n",
        "  <tbody>\n",
        "    <tr>\n",
        "      <th>0</th>\n",
        "      <td>  .hack//QUARANTINE - Part 4</td>\n",
        "      <td> 3.0</td>\n",
        "    </tr>\n",
        "    <tr>\n",
        "      <th>1</th>\n",
        "      <td>       007: Agent Under Fire</td>\n",
        "      <td> 4.5</td>\n",
        "    </tr>\n",
        "    <tr>\n",
        "      <th>2</th>\n",
        "      <td>  007: Everything or Nothing</td>\n",
        "      <td> 4.0</td>\n",
        "    </tr>\n",
        "    <tr>\n",
        "      <th>3</th>\n",
        "      <td>              007: Nightfire</td>\n",
        "      <td> 2.8</td>\n",
        "    </tr>\n",
        "    <tr>\n",
        "      <th>4</th>\n",
        "      <td>        Adventures of Lolo 2</td>\n",
        "      <td> 5.0</td>\n",
        "    </tr>\n",
        "  </tbody>\n",
        "</table>\n",
        "</div>"
       ],
       "metadata": {},
       "output_type": "pyout",
       "prompt_number": 19,
       "text": [
        "                          Name  User Review Score\n",
        "0   .hack//QUARANTINE - Part 4                3.0\n",
        "1        007: Agent Under Fire                4.5\n",
        "2   007: Everything or Nothing                4.0\n",
        "3               007: Nightfire                2.8\n",
        "4         Adventures of Lolo 2                5.0"
       ]
      }
     ],
     "prompt_number": 19
    },
    {
     "cell_type": "code",
     "collapsed": false,
     "input": [
      "# rounds the scores in the above fame to their nearest integer values\n",
      "discrete_score = list()\n",
      "for elem in list(unique_rvs['User Review Score']):\n",
      "    discrete_score.append(round(elem))\n"
     ],
     "language": "python",
     "metadata": {},
     "outputs": [],
     "prompt_number": 20
    },
    {
     "cell_type": "code",
     "collapsed": false,
     "input": [
      "# Histogram distribution of average user review scores for each game (rounded)\n",
      "\n",
      "plt.figure(figsize=(8,6))\n",
      "n, bins, patches = plt.hist(discrete_score, 15)\n",
      "plt.title(\" Distribution of User Review Scores-rounded avg per game\", y =1.1)\n",
      "plt.xlabel(\"Score\")\n",
      "plt.ylabel(\"Numbers of Occurences\")"
     ],
     "language": "python",
     "metadata": {},
     "outputs": [
      {
       "metadata": {},
       "output_type": "pyout",
       "prompt_number": 21,
       "text": [
        "<matplotlib.text.Text at 0x16483b38>"
       ]
      },
      {
       "metadata": {},
       "output_type": "display_data",
       "png": "[encoded data removed]",
       "text": [
        "<matplotlib.figure.Figure at 0x16460320>"
       ]
      }
     ],
     "prompt_number": 21
    },
    {
     "cell_type": "code",
     "collapsed": false,
     "input": [
      "i = 0\n",
      "for elem in discrete_score:\n",
      "    if elem == 0:\n",
      "        i = i+1\n",
      "i "
     ],
     "language": "python",
     "metadata": {},
     "outputs": [
      {
       "metadata": {},
       "output_type": "pyout",
       "prompt_number": 24,
       "text": [
        "9"
       ]
      }
     ],
     "prompt_number": 24
    },
    {
     "cell_type": "code",
     "collapsed": false,
     "input": [],
     "language": "python",
     "metadata": {},
     "outputs": []
    },
    {
     "cell_type": "code",
     "collapsed": false,
     "input": [],
     "language": "python",
     "metadata": {},
     "outputs": []
    },
    {
     "cell_type": "code",
     "collapsed": false,
     "input": [],
     "language": "python",
     "metadata": {},
     "outputs": []
    }
   ],
   "metadata": {}
  }
 ]
}