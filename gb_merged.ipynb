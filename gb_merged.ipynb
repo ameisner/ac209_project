{
 "metadata": {
  "name": "_merged",
  "signature": "sha256:87594ca06196f77e5e6c04691d20ec802dad4b34a8650a23e49e4a70b36fd497"
 },
 "nbformat": 3,
 "nbformat_minor": 0,
 "worksheets": [
  {
   "cells": [
    {
     "cell_type": "markdown",
     "metadata": {},
     "source": [
      "- AC209 Final Project\n",
      "- Giant Bomb Exploratory analysis\n",
      "- Start Date: November 9, 2014"
     ]
    },
    {
     "cell_type": "code",
     "collapsed": false,
     "input": [
      "# special IPython command to prepare the notebook for matplotlib\n",
      "%matplotlib inline \n",
      "\n",
      "import json\n",
      "\n",
      "from pandas import DataFrame\n",
      "\n",
      "import scipy.stats\n",
      "from scipy.stats import norm\n",
      "import matplotlib.mlab as mlab\n",
      "\n",
      "\n",
      "import requests \n",
      "import numpy as np\n",
      "import pandas as pd # pandas\n",
      "import matplotlib.pyplot as plt # module for plotting "
     ],
     "language": "python",
     "metadata": {},
     "outputs": [],
     "prompt_number": 1
    },
    {
     "cell_type": "code",
     "collapsed": false,
     "input": [
      "#nice defaults for matplotlib\n",
      "from matplotlib import rcParams\n",
      "\n",
      "dark2_colors = [(0.10588235294117647, 0.6196078431372549, 0.4666666666666667),\n",
      "                (0.8509803921568627, 0.37254901960784315, 0.00784313725490196),\n",
      "                (0.4588235294117647, 0.4392156862745098, 0.7019607843137254),\n",
      "                (0.9058823529411765, 0.1607843137254902, 0.5411764705882353),\n",
      "                (0.4, 0.6509803921568628, 0.11764705882352941),\n",
      "                (0.9019607843137255, 0.6705882352941176, 0.00784313725490196),\n",
      "                (0.6509803921568628, 0.4627450980392157, 0.11372549019607843),\n",
      "                (0.4, 0.4, 0.4)]\n",
      "\n",
      "rcParams['figure.figsize'] = (10, 6)\n",
      "rcParams['figure.dpi'] = 150\n",
      "rcParams['axes.color_cycle'] = dark2_colors\n",
      "rcParams['lines.linewidth'] = 2\n",
      "rcParams['axes.grid'] = True\n",
      "rcParams['axes.facecolor'] = '#eeeeee'\n",
      "rcParams['font.size'] = 14\n",
      "rcParams['patch.edgecolor'] = 'none'"
     ],
     "language": "python",
     "metadata": {},
     "outputs": [],
     "prompt_number": 3
    },
    {
     "cell_type": "markdown",
     "metadata": {},
     "source": [
      "### Exploratory Analysis Questions \n",
      "(Nov. 8, 2014)\n",
      "\n",
      "Some possible questions which can help us explore our data set better. \n",
      "\n",
      "- ** Giant Bomb Score Distribution ** What is the distribution of all of Giant Bomb's game review scores? Is it centered around the numerical mid point 3?\n",
      "\n",
      "\n",
      "- ** Game Score and Company ** Game Quality  How does the quality of a game correlate with the company which produced it? (Are good games typically made by the same companies?)\n",
      "\n",
      "\n",
      "- ** Game Type Popularity ** Which types of games are the most popular? (Can be determined by figuring out which games have the most number of user reviews)\n",
      "\n",
      "\n",
      "- ** Giant Bomb Review Scores Over the Years ** Has the average of GB's game review scores changed over the years? (Can create a scatter plot of all game scores over the year or average the game scores for each year and plot over the years in a box plot)\n",
      "\n",
      "\n",
      "- ** User Review Distribution ** What types of games tend to have the lowest user reviews??\n",
      "\n",
      "\n",
      "    - Untapped markets: A gaming field (e.g., RPGs, adventure puzzle solving, etc.) with many reviews but, in general, low quality (i.e. score) games suggests there is an untapped market to produce high quality popular games. \n",
      "\n",
      "\n",
      "- ** User Reviews and Critics Score** Do user reviews correlate with critics score? \n",
      "\n",
      "\n",
      "- **(Netflix Prize revamped)** Can we predict the score a reviewer would give a game based on the reviews he gave to other games?\n",
      "\n",
      "\n",
      "    * Probably too difficult: Giant Bomb doesn't seem to give access to user data.\n",
      "\n",
      "\n",
      "- ** Reviewer Score Distribution ** Are some reviewers more difficult to impress than others? For each reviewer what is their distribution of scores? \n",
      "\n",
      "\n",
      "Other APIs or Data Sets to look at and why\n",
      "\n",
      "- "
     ]
    },
    {
     "cell_type": "markdown",
     "metadata": {},
     "source": [
      "### Giant Bomb Score Distribution"
     ]
    },
    {
     "cell_type": "code",
     "collapsed": false,
     "input": [
      "offset = 0\n",
      "url_reviews = 'http://www.giantbomb.com/api/reviews/?api_key=' + key + '&format=json&offset=' + str(offset)"
     ],
     "language": "python",
     "metadata": {},
     "outputs": [],
     "prompt_number": 7
    },
    {
     "cell_type": "code",
     "collapsed": false,
     "input": [
      "# response format for API\n",
      "resp_review = requests.get(url_reviews)\n",
      "\n",
      "# loads text of response into json format\n",
      "review_info = json.loads(resp_review.text)"
     ],
     "language": "python",
     "metadata": {},
     "outputs": [],
     "prompt_number": 8
    },
    {
     "cell_type": "code",
     "collapsed": false,
     "input": [
      "# number of results on a single page\n",
      "print review_info['number_of_page_results']\n",
      "# total number of results for all pages\n",
      "print review_info['number_of_total_results']"
     ],
     "language": "python",
     "metadata": {},
     "outputs": [
      {
       "output_type": "stream",
       "stream": "stdout",
       "text": [
        "100\n",
        "651\n"
       ]
      }
     ],
     "prompt_number": 9
    },
    {
     "cell_type": "code",
     "collapsed": false,
     "input": [
      "# list of the possible keys; the results key is the most important\n",
      "review_info.keys()"
     ],
     "language": "python",
     "metadata": {},
     "outputs": [
      {
       "metadata": {},
       "output_type": "pyout",
       "prompt_number": 10,
       "text": [
        "[u'number_of_page_results',\n",
        " u'status_code',\n",
        " u'error',\n",
        " u'results',\n",
        " u'version',\n",
        " u'limit',\n",
        " u'offset',\n",
        " u'number_of_total_results']"
       ]
      }
     ],
     "prompt_number": 10
    },
    {
     "cell_type": "code",
     "collapsed": false,
     "input": [
      "# defines a list of the games from the review infor dictionary\n",
      "game_results = review_info['results']"
     ],
     "language": "python",
     "metadata": {},
     "outputs": [],
     "prompt_number": 11
    },
    {
     "cell_type": "code",
     "collapsed": false,
     "input": [
      "len(game_results)"
     ],
     "language": "python",
     "metadata": {},
     "outputs": [
      {
       "metadata": {},
       "output_type": "pyout",
       "prompt_number": 11,
       "text": [
        "100"
       ]
      }
     ],
     "prompt_number": 11
    },
    {
     "cell_type": "code",
     "collapsed": false,
     "input": [
      "## creating a dictionary of game names, score, reviewer, and review date\n",
      "\n",
      "g_names = list()\n",
      "g_score = list()\n",
      "g_reviewer = list()\n",
      "g_rv_date = list()\n",
      "\n",
      "for offset in np.array(range(7))*100: # cycle through possible offests\n",
      "\n",
      "    url_reviews = 'http://www.giantbomb.com/api/reviews/?api_key=' + key + '&format=json&offset=' + str(offset)\n",
      "    \n",
      "    resp_review = requests.get(url_reviews)\n",
      "    \n",
      "    review_info = json.loads(resp_review.text)\n",
      "\n",
      "    game_results = review_info['results']\n",
      "\n",
      "    for elem in game_results:\n",
      "        game = elem['game']\n",
      "        if type(game) == dict: # to ensure that we only consider non-empty entries\n",
      "            g_score.append(elem['score'])\n",
      "            g_names.append(game['name'])\n",
      "            g_reviewer.append(elem['reviewer'])\n",
      "            g_rv_date.append(elem['publish_date'])"
     ],
     "language": "python",
     "metadata": {},
     "outputs": [],
     "prompt_number": 12
    },
    {
     "cell_type": "code",
     "collapsed": false,
     "input": [],
     "language": "python",
     "metadata": {},
     "outputs": []
    },
    {
     "cell_type": "code",
     "collapsed": false,
     "input": [
      "# defining gaming data frame\n",
      "\n",
      "game_dict = {'Name': g_names, 'Giant Bomb Score': g_score, 'Reviewer': g_reviewer, 'Date of Review':g_rv_date }\n",
      "\n",
      "game_frame = DataFrame(game_dict, columns = ['Name', 'Giant Bomb Score', 'Reviewer', 'Date of Review'])\n",
      "\n",
      "game_frame"
     ],
     "language": "python",
     "metadata": {},
     "outputs": [
      {
       "html": [
        "<div style=\"max-height:1000px;max-width:1500px;overflow:auto;\">\n",
        "<table border=\"1\" class=\"dataframe\">\n",
        "  <thead>\n",
        "    <tr style=\"text-align: right;\">\n",
        "      <th></th>\n",
        "      <th>Name</th>\n",
        "      <th>Giant Bomb Score</th>\n",
        "      <th>Reviewer</th>\n",
        "      <th>Date of Review</th>\n",
        "    </tr>\n",
        "  </thead>\n",
        "  <tbody>\n",
        "    <tr>\n",
        "      <th>0  </th>\n",
        "      <td>                                          SingStar</td>\n",
        "      <td> 4</td>\n",
        "      <td>    Jeff</td>\n",
        "      <td> 2008-05-23 13:00:00</td>\n",
        "    </tr>\n",
        "    <tr>\n",
        "      <th>1  </th>\n",
        "      <td>                                              Haze</td>\n",
        "      <td> 2</td>\n",
        "      <td>    Jeff</td>\n",
        "      <td> 2008-05-20 17:00:00</td>\n",
        "    </tr>\n",
        "    <tr>\n",
        "      <th>2  </th>\n",
        "      <td>          Metal Gear Solid 4: Guns of the Patriots</td>\n",
        "      <td> 5</td>\n",
        "      <td>    Brad</td>\n",
        "      <td> 2008-06-20 12:00:00</td>\n",
        "    </tr>\n",
        "    <tr>\n",
        "      <th>3  </th>\n",
        "      <td>                                       Poker Smash</td>\n",
        "      <td> 4</td>\n",
        "      <td>    Jeff</td>\n",
        "      <td> 2008-02-29 12:00:00</td>\n",
        "    </tr>\n",
        "    <tr>\n",
        "      <th>4  </th>\n",
        "      <td>                          Battlefield: Bad Company</td>\n",
        "      <td> 5</td>\n",
        "      <td>    Jeff</td>\n",
        "      <td> 2008-07-06 12:00:00</td>\n",
        "    </tr>\n",
        "    <tr>\n",
        "      <th>5  </th>\n",
        "      <td>       LEGO Indiana Jones: The Original Adventures</td>\n",
        "      <td> 3</td>\n",
        "      <td>    Brad</td>\n",
        "      <td> 2008-07-02 12:00:00</td>\n",
        "    </tr>\n",
        "    <tr>\n",
        "      <th>6  </th>\n",
        "      <td>             Robert Ludlum's The Bourne Conspiracy</td>\n",
        "      <td> 3</td>\n",
        "      <td>    Ryan</td>\n",
        "      <td> 2008-07-02 12:00:00</td>\n",
        "    </tr>\n",
        "    <tr>\n",
        "      <th>7  </th>\n",
        "      <td>                                  Burnout Paradise</td>\n",
        "      <td> 5</td>\n",
        "      <td>    Jeff</td>\n",
        "      <td> 2008-03-01 12:00:00</td>\n",
        "    </tr>\n",
        "    <tr>\n",
        "      <th>8  </th>\n",
        "      <td>          Professor Layton and the Curious Village</td>\n",
        "      <td> 5</td>\n",
        "      <td>    Jeff</td>\n",
        "      <td> 2008-03-07 10:00:00</td>\n",
        "    </tr>\n",
        "    <tr>\n",
        "      <th>9  </th>\n",
        "      <td>                           Super Smash Bros. Brawl</td>\n",
        "      <td> 4</td>\n",
        "      <td>    Jeff</td>\n",
        "      <td> 2008-03-13 15:00:00</td>\n",
        "    </tr>\n",
        "    <tr>\n",
        "      <th>10 </th>\n",
        "      <td>                                       Army of Two</td>\n",
        "      <td> 3</td>\n",
        "      <td>    Jeff</td>\n",
        "      <td> 2008-03-16 20:00:00</td>\n",
        "    </tr>\n",
        "    <tr>\n",
        "      <th>11 </th>\n",
        "      <td>                           Rocketmen: Axis of Evil</td>\n",
        "      <td> 2</td>\n",
        "      <td>    Jeff</td>\n",
        "      <td> 2008-03-22 10:00:00</td>\n",
        "    </tr>\n",
        "    <tr>\n",
        "      <th>12 </th>\n",
        "      <td>                        Bully: Scholarship Edition</td>\n",
        "      <td> 4</td>\n",
        "      <td>    Ryan</td>\n",
        "      <td> 2008-03-26 13:00:00</td>\n",
        "    </tr>\n",
        "    <tr>\n",
        "      <th>13 </th>\n",
        "      <td>                 Tom Clancy's Rainbow Six: Vegas 2</td>\n",
        "      <td> 4</td>\n",
        "      <td>    Jeff</td>\n",
        "      <td> 2008-03-27 13:00:00</td>\n",
        "    </tr>\n",
        "    <tr>\n",
        "      <th>14 </th>\n",
        "      <td>                            Condemned 2: Bloodshot</td>\n",
        "      <td> 5</td>\n",
        "      <td>    Ryan</td>\n",
        "      <td> 2008-03-27 16:00:00</td>\n",
        "    </tr>\n",
        "    <tr>\n",
        "      <th>15 </th>\n",
        "      <td>                                             TiQal</td>\n",
        "      <td> 2</td>\n",
        "      <td>    Jeff</td>\n",
        "      <td> 2008-03-31 11:00:00</td>\n",
        "    </tr>\n",
        "    <tr>\n",
        "      <th>16 </th>\n",
        "      <td>                         Viking: Battle for Asgard</td>\n",
        "      <td> 3</td>\n",
        "      <td>    Jeff</td>\n",
        "      <td> 2008-04-01 14:00:00</td>\n",
        "    </tr>\n",
        "    <tr>\n",
        "      <th>17 </th>\n",
        "      <td>                     Hot Shots Golf: Out of Bounds</td>\n",
        "      <td> 3</td>\n",
        "      <td>    Ryan</td>\n",
        "      <td> 2008-04-03 18:00:00</td>\n",
        "    </tr>\n",
        "    <tr>\n",
        "      <th>18 </th>\n",
        "      <td>                                Mr. Driller Online</td>\n",
        "      <td> 2</td>\n",
        "      <td>    Ryan</td>\n",
        "      <td> 2008-04-07 18:00:00</td>\n",
        "    </tr>\n",
        "    <tr>\n",
        "      <th>19 </th>\n",
        "      <td>                                           Ikaruga</td>\n",
        "      <td> 4</td>\n",
        "      <td>    Jeff</td>\n",
        "      <td> 2008-04-21 13:00:00</td>\n",
        "    </tr>\n",
        "    <tr>\n",
        "      <th>20 </th>\n",
        "      <td>                                Rocky &amp; Bullwinkle</td>\n",
        "      <td> 2</td>\n",
        "      <td>    Jeff</td>\n",
        "      <td> 2008-05-21 14:00:00</td>\n",
        "    </tr>\n",
        "    <tr>\n",
        "      <th>21 </th>\n",
        "      <td>                                       Dark Sector</td>\n",
        "      <td> 2</td>\n",
        "      <td>    Jeff</td>\n",
        "      <td> 2008-04-25 15:00:00</td>\n",
        "    </tr>\n",
        "    <tr>\n",
        "      <th>22 </th>\n",
        "      <td>                           NBA Ballers: Chosen One</td>\n",
        "      <td> 2</td>\n",
        "      <td>    Jeff</td>\n",
        "      <td> 2008-04-28 10:00:00</td>\n",
        "    </tr>\n",
        "    <tr>\n",
        "      <th>23 </th>\n",
        "      <td>                           Gran Turismo 5 Prologue</td>\n",
        "      <td> 3</td>\n",
        "      <td>    Ryan</td>\n",
        "      <td> 2008-05-05 16:00:00</td>\n",
        "    </tr>\n",
        "    <tr>\n",
        "      <th>24 </th>\n",
        "      <td>                               Grand Theft Auto IV</td>\n",
        "      <td> 5</td>\n",
        "      <td>    Jeff</td>\n",
        "      <td> 2008-05-05 16:00:00</td>\n",
        "    </tr>\n",
        "    <tr>\n",
        "      <th>25 </th>\n",
        "      <td>                                    Mario Kart Wii</td>\n",
        "      <td> 3</td>\n",
        "      <td>    Ryan</td>\n",
        "      <td> 2008-05-07 16:00:00</td>\n",
        "    </tr>\n",
        "    <tr>\n",
        "      <th>26 </th>\n",
        "      <td>                                    Target: Terror</td>\n",
        "      <td> 2</td>\n",
        "      <td>    Jeff</td>\n",
        "      <td> 2008-05-07 17:00:00</td>\n",
        "    </tr>\n",
        "    <tr>\n",
        "      <th>27 </th>\n",
        "      <td>                                         Boom Blox</td>\n",
        "      <td> 4</td>\n",
        "      <td>    Jeff</td>\n",
        "      <td> 2008-05-12 18:00:00</td>\n",
        "    </tr>\n",
        "    <tr>\n",
        "      <th>28 </th>\n",
        "      <td>                                Defend Your Castle</td>\n",
        "      <td> 3</td>\n",
        "      <td>    Ryan</td>\n",
        "      <td> 2008-05-18 15:00:00</td>\n",
        "    </tr>\n",
        "    <tr>\n",
        "      <th>29 </th>\n",
        "      <td> Penny Arcade Adventures: On the Rain-Slick Pre...</td>\n",
        "      <td> 4</td>\n",
        "      <td>    Ryan</td>\n",
        "      <td> 2008-05-22 18:00:00</td>\n",
        "    </tr>\n",
        "    <tr>\n",
        "      <th>...</th>\n",
        "      <td>...</td>\n",
        "      <td>...</td>\n",
        "      <td>...</td>\n",
        "      <td>...</td>\n",
        "    </tr>\n",
        "    <tr>\n",
        "      <th>620</th>\n",
        "      <td>                                      Tesla Effect</td>\n",
        "      <td> 3</td>\n",
        "      <td> Patrick</td>\n",
        "      <td> 2014-05-21 11:06:00</td>\n",
        "    </tr>\n",
        "    <tr>\n",
        "      <th>621</th>\n",
        "      <td>                        Wolfenstein: The New Order</td>\n",
        "      <td> 4</td>\n",
        "      <td>    Alex</td>\n",
        "      <td> 2014-05-21 13:40:00</td>\n",
        "    </tr>\n",
        "    <tr>\n",
        "      <th>622</th>\n",
        "      <td>                                        Watch Dogs</td>\n",
        "      <td> 3</td>\n",
        "      <td>    Jeff</td>\n",
        "      <td> 2014-05-27 00:01:00</td>\n",
        "    </tr>\n",
        "    <tr>\n",
        "      <th>623</th>\n",
        "      <td>                                     Shovel Knight</td>\n",
        "      <td> 4</td>\n",
        "      <td> Patrick</td>\n",
        "      <td> 2014-06-26 17:58:00</td>\n",
        "    </tr>\n",
        "    <tr>\n",
        "      <th>624</th>\n",
        "      <td>                     Valiant Hearts: The Great War</td>\n",
        "      <td> 4</td>\n",
        "      <td>    Alex</td>\n",
        "      <td> 2014-07-02 13:30:00</td>\n",
        "    </tr>\n",
        "    <tr>\n",
        "      <th>625</th>\n",
        "      <td>                 Diablo III: Ultimate Evil Edition</td>\n",
        "      <td> 4</td>\n",
        "      <td>    Jeff</td>\n",
        "      <td> 2014-08-18 13:58:00</td>\n",
        "    </tr>\n",
        "    <tr>\n",
        "      <th>626</th>\n",
        "      <td>                            Divinity: Original Sin</td>\n",
        "      <td> 4</td>\n",
        "      <td> Patrick</td>\n",
        "      <td> 2014-08-21 16:31:00</td>\n",
        "    </tr>\n",
        "    <tr>\n",
        "      <th>627</th>\n",
        "      <td>                                     Madden NFL 15</td>\n",
        "      <td> 4</td>\n",
        "      <td>    Alex</td>\n",
        "      <td> 2014-08-27 10:55:00</td>\n",
        "    </tr>\n",
        "    <tr>\n",
        "      <th>628</th>\n",
        "      <td>                                            NHL 15</td>\n",
        "      <td> 2</td>\n",
        "      <td>    Alex</td>\n",
        "      <td> 2014-09-11 11:31:00</td>\n",
        "    </tr>\n",
        "    <tr>\n",
        "      <th>629</th>\n",
        "      <td>                                           Destiny</td>\n",
        "      <td> 3</td>\n",
        "      <td>    Jeff</td>\n",
        "      <td> 2014-09-12 11:29:00</td>\n",
        "    </tr>\n",
        "    <tr>\n",
        "      <th>630</th>\n",
        "      <td>                                   Hyrule Warriors</td>\n",
        "      <td> 3</td>\n",
        "      <td>     Dan</td>\n",
        "      <td> 2014-09-18 11:00:00</td>\n",
        "    </tr>\n",
        "    <tr>\n",
        "      <th>631</th>\n",
        "      <td>                                 Super Smash Bros.</td>\n",
        "      <td> 4</td>\n",
        "      <td>     Dan</td>\n",
        "      <td> 2014-09-26 14:56:00</td>\n",
        "    </tr>\n",
        "    <tr>\n",
        "      <th>632</th>\n",
        "      <td>                    Danganronpa 2: Goodbye Despair</td>\n",
        "      <td> 3</td>\n",
        "      <td> Patrick</td>\n",
        "      <td> 2014-10-01 10:00:00</td>\n",
        "    </tr>\n",
        "    <tr>\n",
        "      <th>633</th>\n",
        "      <td>                    Middle-earth: Shadow of Mordor</td>\n",
        "      <td> 5</td>\n",
        "      <td>    Brad</td>\n",
        "      <td> 2014-09-30 15:00:00</td>\n",
        "    </tr>\n",
        "    <tr>\n",
        "      <th>634</th>\n",
        "      <td>                         D4: Dark Dreams Don't Die</td>\n",
        "      <td> 4</td>\n",
        "      <td>    Alex</td>\n",
        "      <td> 2014-09-30 14:25:00</td>\n",
        "    </tr>\n",
        "    <tr>\n",
        "      <th>635</th>\n",
        "      <td>                                   Forza Horizon 2</td>\n",
        "      <td> 4</td>\n",
        "      <td>    Jeff</td>\n",
        "      <td> 2014-10-01 18:05:00</td>\n",
        "    </tr>\n",
        "    <tr>\n",
        "      <th>636</th>\n",
        "      <td>                                  Alien: Isolation</td>\n",
        "      <td> 4</td>\n",
        "      <td> Patrick</td>\n",
        "      <td> 2014-10-06 17:04:00</td>\n",
        "    </tr>\n",
        "    <tr>\n",
        "      <th>637</th>\n",
        "      <td>                                         Driveclub</td>\n",
        "      <td> 2</td>\n",
        "      <td>    Jeff</td>\n",
        "      <td> 2014-10-07 18:22:00</td>\n",
        "    </tr>\n",
        "    <tr>\n",
        "      <th>638</th>\n",
        "      <td>                                       Bayonetta 2</td>\n",
        "      <td> 5</td>\n",
        "      <td>     Dan</td>\n",
        "      <td> 2014-10-13 20:22:00</td>\n",
        "    </tr>\n",
        "    <tr>\n",
        "      <th>639</th>\n",
        "      <td>            Sid Meier's Civilization: Beyond Earth</td>\n",
        "      <td> 3</td>\n",
        "      <td>    Alex</td>\n",
        "      <td> 2014-10-29 10:50:00</td>\n",
        "    </tr>\n",
        "    <tr>\n",
        "      <th>640</th>\n",
        "      <td>                                   The Evil Within</td>\n",
        "      <td> 2</td>\n",
        "      <td> Patrick</td>\n",
        "      <td> 2014-10-29 12:04:00</td>\n",
        "    </tr>\n",
        "    <tr>\n",
        "      <th>641</th>\n",
        "      <td>                                  Sunset Overdrive</td>\n",
        "      <td> 4</td>\n",
        "      <td>    Brad</td>\n",
        "      <td> 2014-10-31 14:45:00</td>\n",
        "    </tr>\n",
        "    <tr>\n",
        "      <th>642</th>\n",
        "      <td>                    Call of Duty: Advanced Warfare</td>\n",
        "      <td> 4</td>\n",
        "      <td>    Jeff</td>\n",
        "      <td> 2014-11-03 00:00:00</td>\n",
        "    </tr>\n",
        "    <tr>\n",
        "      <th>643</th>\n",
        "      <td>                                          NBA 2K15</td>\n",
        "      <td> 3</td>\n",
        "      <td>    Alex</td>\n",
        "      <td> 2014-11-05 09:14:00</td>\n",
        "    </tr>\n",
        "    <tr>\n",
        "      <th>644</th>\n",
        "      <td>                                       NBA Live 15</td>\n",
        "      <td> 2</td>\n",
        "      <td>    Alex</td>\n",
        "      <td> 2014-11-05 09:33:00</td>\n",
        "    </tr>\n",
        "    <tr>\n",
        "      <th>645</th>\n",
        "      <td>                           Assassin's Creed: Unity</td>\n",
        "      <td> 2</td>\n",
        "      <td>    Alex</td>\n",
        "      <td> 2014-11-13 12:13:00</td>\n",
        "    </tr>\n",
        "    <tr>\n",
        "      <th>646</th>\n",
        "      <td>                           Dragon Age: Inquisition</td>\n",
        "      <td> 4</td>\n",
        "      <td> Matthew</td>\n",
        "      <td> 2014-11-18 14:02:00</td>\n",
        "    </tr>\n",
        "    <tr>\n",
        "      <th>647</th>\n",
        "      <td>                                         Far Cry 4</td>\n",
        "      <td> 4</td>\n",
        "      <td>    Jeff</td>\n",
        "      <td> 2014-11-18 15:17:00</td>\n",
        "    </tr>\n",
        "    <tr>\n",
        "      <th>648</th>\n",
        "      <td>                                          WWE 2K15</td>\n",
        "      <td> 2</td>\n",
        "      <td>    Alex</td>\n",
        "      <td> 2014-11-20 08:30:00</td>\n",
        "    </tr>\n",
        "    <tr>\n",
        "      <th>649</th>\n",
        "      <td>                                 Super Smash Bros.</td>\n",
        "      <td> 4</td>\n",
        "      <td>     Dan</td>\n",
        "      <td> 2014-11-21 13:40:00</td>\n",
        "    </tr>\n",
        "  </tbody>\n",
        "</table>\n",
        "<p>650 rows \u00d7 4 columns</p>\n",
        "</div>"
       ],
       "metadata": {},
       "output_type": "pyout",
       "prompt_number": 13,
       "text": [
        "                                                  Name  Giant Bomb Score  \\\n",
        "0                                             SingStar                 4   \n",
        "1                                                 Haze                 2   \n",
        "2             Metal Gear Solid 4: Guns of the Patriots                 5   \n",
        "3                                          Poker Smash                 4   \n",
        "4                             Battlefield: Bad Company                 5   \n",
        "5          LEGO Indiana Jones: The Original Adventures                 3   \n",
        "6                Robert Ludlum's The Bourne Conspiracy                 3   \n",
        "7                                     Burnout Paradise                 5   \n",
        "8             Professor Layton and the Curious Village                 5   \n",
        "9                              Super Smash Bros. Brawl                 4   \n",
        "10                                         Army of Two                 3   \n",
        "11                             Rocketmen: Axis of Evil                 2   \n",
        "12                          Bully: Scholarship Edition                 4   \n",
        "13                   Tom Clancy's Rainbow Six: Vegas 2                 4   \n",
        "14                              Condemned 2: Bloodshot                 5   \n",
        "15                                               TiQal                 2   \n",
        "16                           Viking: Battle for Asgard                 3   \n",
        "17                       Hot Shots Golf: Out of Bounds                 3   \n",
        "18                                  Mr. Driller Online                 2   \n",
        "19                                             Ikaruga                 4   \n",
        "20                                  Rocky & Bullwinkle                 2   \n",
        "21                                         Dark Sector                 2   \n",
        "22                             NBA Ballers: Chosen One                 2   \n",
        "23                             Gran Turismo 5 Prologue                 3   \n",
        "24                                 Grand Theft Auto IV                 5   \n",
        "25                                      Mario Kart Wii                 3   \n",
        "26                                      Target: Terror                 2   \n",
        "27                                           Boom Blox                 4   \n",
        "28                                  Defend Your Castle                 3   \n",
        "29   Penny Arcade Adventures: On the Rain-Slick Pre...                 4   \n",
        "..                                                 ...               ...   \n",
        "620                                       Tesla Effect                 3   \n",
        "621                         Wolfenstein: The New Order                 4   \n",
        "622                                         Watch Dogs                 3   \n",
        "623                                      Shovel Knight                 4   \n",
        "624                      Valiant Hearts: The Great War                 4   \n",
        "625                  Diablo III: Ultimate Evil Edition                 4   \n",
        "626                             Divinity: Original Sin                 4   \n",
        "627                                      Madden NFL 15                 4   \n",
        "628                                             NHL 15                 2   \n",
        "629                                            Destiny                 3   \n",
        "630                                    Hyrule Warriors                 3   \n",
        "631                                  Super Smash Bros.                 4   \n",
        "632                     Danganronpa 2: Goodbye Despair                 3   \n",
        "633                     Middle-earth: Shadow of Mordor                 5   \n",
        "634                          D4: Dark Dreams Don't Die                 4   \n",
        "635                                    Forza Horizon 2                 4   \n",
        "636                                   Alien: Isolation                 4   \n",
        "637                                          Driveclub                 2   \n",
        "638                                        Bayonetta 2                 5   \n",
        "639             Sid Meier's Civilization: Beyond Earth                 3   \n",
        "640                                    The Evil Within                 2   \n",
        "641                                   Sunset Overdrive                 4   \n",
        "642                     Call of Duty: Advanced Warfare                 4   \n",
        "643                                           NBA 2K15                 3   \n",
        "644                                        NBA Live 15                 2   \n",
        "645                            Assassin's Creed: Unity                 2   \n",
        "646                            Dragon Age: Inquisition                 4   \n",
        "647                                          Far Cry 4                 4   \n",
        "648                                           WWE 2K15                 2   \n",
        "649                                  Super Smash Bros.                 4   \n",
        "\n",
        "    Reviewer       Date of Review  \n",
        "0       Jeff  2008-05-23 13:00:00  \n",
        "1       Jeff  2008-05-20 17:00:00  \n",
        "2       Brad  2008-06-20 12:00:00  \n",
        "3       Jeff  2008-02-29 12:00:00  \n",
        "4       Jeff  2008-07-06 12:00:00  \n",
        "5       Brad  2008-07-02 12:00:00  \n",
        "6       Ryan  2008-07-02 12:00:00  \n",
        "7       Jeff  2008-03-01 12:00:00  \n",
        "8       Jeff  2008-03-07 10:00:00  \n",
        "9       Jeff  2008-03-13 15:00:00  \n",
        "10      Jeff  2008-03-16 20:00:00  \n",
        "11      Jeff  2008-03-22 10:00:00  \n",
        "12      Ryan  2008-03-26 13:00:00  \n",
        "13      Jeff  2008-03-27 13:00:00  \n",
        "14      Ryan  2008-03-27 16:00:00  \n",
        "15      Jeff  2008-03-31 11:00:00  \n",
        "16      Jeff  2008-04-01 14:00:00  \n",
        "17      Ryan  2008-04-03 18:00:00  \n",
        "18      Ryan  2008-04-07 18:00:00  \n",
        "19      Jeff  2008-04-21 13:00:00  \n",
        "20      Jeff  2008-05-21 14:00:00  \n",
        "21      Jeff  2008-04-25 15:00:00  \n",
        "22      Jeff  2008-04-28 10:00:00  \n",
        "23      Ryan  2008-05-05 16:00:00  \n",
        "24      Jeff  2008-05-05 16:00:00  \n",
        "25      Ryan  2008-05-07 16:00:00  \n",
        "26      Jeff  2008-05-07 17:00:00  \n",
        "27      Jeff  2008-05-12 18:00:00  \n",
        "28      Ryan  2008-05-18 15:00:00  \n",
        "29      Ryan  2008-05-22 18:00:00  \n",
        "..       ...                  ...  \n",
        "620  Patrick  2014-05-21 11:06:00  \n",
        "621     Alex  2014-05-21 13:40:00  \n",
        "622     Jeff  2014-05-27 00:01:00  \n",
        "623  Patrick  2014-06-26 17:58:00  \n",
        "624     Alex  2014-07-02 13:30:00  \n",
        "625     Jeff  2014-08-18 13:58:00  \n",
        "626  Patrick  2014-08-21 16:31:00  \n",
        "627     Alex  2014-08-27 10:55:00  \n",
        "628     Alex  2014-09-11 11:31:00  \n",
        "629     Jeff  2014-09-12 11:29:00  \n",
        "630      Dan  2014-09-18 11:00:00  \n",
        "631      Dan  2014-09-26 14:56:00  \n",
        "632  Patrick  2014-10-01 10:00:00  \n",
        "633     Brad  2014-09-30 15:00:00  \n",
        "634     Alex  2014-09-30 14:25:00  \n",
        "635     Jeff  2014-10-01 18:05:00  \n",
        "636  Patrick  2014-10-06 17:04:00  \n",
        "637     Jeff  2014-10-07 18:22:00  \n",
        "638      Dan  2014-10-13 20:22:00  \n",
        "639     Alex  2014-10-29 10:50:00  \n",
        "640  Patrick  2014-10-29 12:04:00  \n",
        "641     Brad  2014-10-31 14:45:00  \n",
        "642     Jeff  2014-11-03 00:00:00  \n",
        "643     Alex  2014-11-05 09:14:00  \n",
        "644     Alex  2014-11-05 09:33:00  \n",
        "645     Alex  2014-11-13 12:13:00  \n",
        "646  Matthew  2014-11-18 14:02:00  \n",
        "647     Jeff  2014-11-18 15:17:00  \n",
        "648     Alex  2014-11-20 08:30:00  \n",
        "649      Dan  2014-11-21 13:40:00  \n",
        "\n",
        "[650 rows x 4 columns]"
       ]
      }
     ],
     "prompt_number": 13
    },
    {
     "cell_type": "code",
     "collapsed": false,
     "input": [
      "# Histogram distribution of Giant Bomb Scores\n",
      "\n",
      "plt.figure(figsize=(8,6))\n",
      "n, bins, patches = plt.hist(g_score, 15)\n",
      "plt.title(\" Distribution of Giant Bomb Game Scores\")\n",
      "plt.xlabel(\"Score\")\n",
      "plt.ylabel(\"Numbers of Occurences\")"
     ],
     "language": "python",
     "metadata": {},
     "outputs": [
      {
       "metadata": {},
       "output_type": "pyout",
       "prompt_number": 21,
       "text": [
        "<matplotlib.text.Text at 0xc6e3e10>"
       ]
      },
      {
       "metadata": {},
       "output_type": "display_data",
       "png": "[encoded data removed]",
       "text": [
        "<matplotlib.figure.Figure at 0xc7b6860>"
       ]
      }
     ],
     "prompt_number": 21
    },
    {
     "cell_type": "code",
     "collapsed": false,
     "input": [
      "# number of scores which are 4 or 5 vs. number which are 1, 2, or 3\n",
      "ngood = np.sum(np.array(g_score) > 3)\n",
      "nbad = np.sum(np.array(g_score) <= 3)\n",
      "print ngood, nbad"
     ],
     "language": "python",
     "metadata": {},
     "outputs": [
      {
       "output_type": "stream",
       "stream": "stdout",
       "text": [
        "361 284\n"
       ]
      }
     ],
     "prompt_number": 22
    },
    {
     "cell_type": "markdown",
     "metadata": {},
     "source": [
      "### Reviewer Score Distribution"
     ]
    },
    {
     "cell_type": "code",
     "collapsed": false,
     "input": [
      "# list of reviewers\n",
      "set(g_reviewer)"
     ],
     "language": "python",
     "metadata": {},
     "outputs": [
      {
       "metadata": {},
       "output_type": "pyout",
       "prompt_number": 23,
       "text": [
        "{u'Alex',\n",
        " u'Andy',\n",
        " u'Brad',\n",
        " u'Dan',\n",
        " u'Dave',\n",
        " u'Drew',\n",
        " u'Jeff',\n",
        " u'Matt',\n",
        " u'Patrick',\n",
        " u'Ryan',\n",
        " u'Vinny'}"
       ]
      }
     ],
     "prompt_number": 23
    },
    {
     "cell_type": "code",
     "collapsed": false,
     "input": [
      "## reviewer data frames\n",
      "Alex_frame = game_frame[game_frame['Reviewer'] == 'Alex']\n",
      "Andy_frame = game_frame[game_frame['Reviewer'] == 'Andy']\n",
      "Brad_frame = game_frame[game_frame['Reviewer'] == 'Brad']\n",
      "Dan_frame = game_frame[game_frame['Reviewer'] == 'Dan']\n",
      "Dave_frame = game_frame[game_frame['Reviewer'] == 'Dave']\n",
      "Drew_frame = game_frame[game_frame['Reviewer'] == 'Drew']\n",
      "Jeff_frame = game_frame[game_frame['Reviewer'] == 'Jeff']\n",
      "Matt_frame = game_frame[game_frame['Reviewer'] == 'Matt']\n",
      "Patrick_frame = game_frame[game_frame['Reviewer'] == 'Patrick']\n",
      "Ryan_frame = game_frame[game_frame['Reviewer'] == 'Ryan']\n",
      "Vinny_frame = game_frame[game_frame['Reviewer'] == 'Vinny']\n",
      "\n",
      "# dictionary of reviewers\n",
      "rvwrs = {'Alex': Alex_frame,\n",
      "               'Andy': Andy_frame,\n",
      "               'Brad': Brad_frame,\n",
      "               'Dan': Dan_frame,\n",
      "               'Dave': Dave_frame,\n",
      "               'Drew': Drew_frame,\n",
      "               'Jeff': Jeff_frame,\n",
      "               'Matt': Matt_frame,\n",
      "               'Patrick': Patrick_frame,\n",
      "               'Ryan': Ryan_frame,\n",
      "               'Vinny': Vinny_frame}\n",
      "\n",
      "# number of reviews for each reviewer\n",
      "for name in set(g_reviewer):\n",
      "    print name +': ',len(rvwrs[name])"
     ],
     "language": "python",
     "metadata": {},
     "outputs": [
      {
       "output_type": "stream",
       "stream": "stdout",
       "text": [
        "Matt:  7\n",
        "Alex:  104\n",
        "Jeff:  250\n",
        "Patrick:  24\n",
        "Dan:  3\n",
        "Ryan:  107\n",
        "Dave:  9\n",
        "Andy:  1\n",
        "Vinny:  9\n",
        "Brad:  129\n",
        "Drew:  2\n"
       ]
      }
     ],
     "prompt_number": 29
    },
    {
     "cell_type": "code",
     "collapsed": false,
     "input": [
      "## score distributions of the top reviewers\n",
      "\n",
      "Rvw_list = ['Brad', 'Jeff', 'Alex', 'Ryan']\n",
      "\n",
      "for reviewer in Rvw_list:\n",
      "    \n",
      "    g_score = list(rvwrs[reviewer]['Giant Bomb Score'])\n",
      "    \n",
      "    plt.figure(figsize=(8,6))\n",
      "    \n",
      "    n, bins, patches = plt.hist(g_score, 15)\n",
      "    \n",
      "    plt.title(reviewer+\": Distribution of Giant Bomb Game Scores\")\n",
      "    \n",
      "    plt.xlabel(\"Score\")\n",
      "    \n",
      "    plt.ylabel(\"Numbers of Occurences\")\n",
      "    \n",
      "    plt.show()"
     ],
     "language": "python",
     "metadata": {},
     "outputs": [
      {
       "metadata": {},
       "output_type": "display_data",
       "png": "[encoded data removed]",
       "text": [
        "<matplotlib.figure.Figure at 0x1591af60>"
       ]
      },
      {
       "metadata": {},
       "output_type": "display_data",
       "png": "[encoded data removed]",
       "text": [
        "<matplotlib.figure.Figure at 0x15e76a90>"
       ]
      },
      {
       "metadata": {},
       "output_type": "display_data",
       "png": "[encoded data removed]",
       "text": [
        "<matplotlib.figure.Figure at 0x15d465c0>"
       ]
      },
      {
       "metadata": {},
       "output_type": "display_data",
       "png": "[encoded data removed]",
       "text": [
        "<matplotlib.figure.Figure at 0x15b74d30>"
       ]
      }
     ],
     "prompt_number": 27
    },
    {
     "cell_type": "markdown",
     "metadata": {},
     "source": [
      "### Which types of games are the most popular?"
     ]
    },
    {
     "cell_type": "code",
     "collapsed": false,
     "input": [],
     "language": "python",
     "metadata": {},
     "outputs": []
    },
    {
     "cell_type": "code",
     "collapsed": false,
     "input": [],
     "language": "python",
     "metadata": {},
     "outputs": []
    },
    {
     "cell_type": "code",
     "collapsed": false,
     "input": [],
     "language": "python",
     "metadata": {},
     "outputs": []
    },
    {
     "cell_type": "markdown",
     "metadata": {},
     "source": [
      "### Do the same companies consistently produce high scoring games?"
     ]
    },
    {
     "cell_type": "markdown",
     "metadata": {},
     "source": [
      "First thing we need to note is the difference between video game developers and video game publishers. The difference is akin to the difference between the writers for a magazine and the magazine itself. The magazine can publish work done by its in house staff, but it can also publish work done by free lance writers. Similarly, a company which is listed as a publisher acts as a publishing house for games that it may develop and games outside developers create. Quite simply, developers work to make the game and publishers handle the marketing and distribution for certain games. As to be expected, there are many more developers than there are publishers. \n",
      "\n",
      "As an example of the difference, the popular 2013 PS3 game The Last of Us was developed by Naughty Dog studio and was published by Sony Computer Entertainment.  \n",
      "\n",
      "(slightly impartial) reference: http://www.alteredgamer.com/pc-gaming/49397-what-is-the-difference-between-developers-and-publishers/"
     ]
    },
    {
     "cell_type": "code",
     "collapsed": false,
     "input": [],
     "language": "python",
     "metadata": {},
     "outputs": []
    },
    {
     "cell_type": "code",
     "collapsed": false,
     "input": [],
     "language": "python",
     "metadata": {},
     "outputs": []
    },
    {
     "cell_type": "code",
     "collapsed": false,
     "input": [],
     "language": "python",
     "metadata": {},
     "outputs": []
    },
    {
     "cell_type": "markdown",
     "metadata": {},
     "source": [
      "### What is the distribution of user score reviews?"
     ]
    },
    {
     "cell_type": "markdown",
     "metadata": {},
     "source": [
      "First let's find out how many user reviews are on the giant bomb site. "
     ]
    },
    {
     "cell_type": "code",
     "collapsed": false,
     "input": [
      "# API for Giant Bomb USER Reviews\n",
      "offset = 0 \n",
      "url_usrreviews = 'http://www.giantbomb.com/api/user_reviews/?api_key=' + key + '&format=json&offset=' + str(offset)\n",
      "# response format for API\n",
      "resp_usrreview = requests.get(url_usrreviews)\n",
      "# loads text of response into json format\n",
      "usrreview_info = json.loads(resp_usrreview.text)"
     ],
     "language": "python",
     "metadata": {},
     "outputs": [],
     "prompt_number": 14
    },
    {
     "cell_type": "code",
     "collapsed": false,
     "input": [
      "# number of results for single page\n",
      "print 'Total number of user API results: ',usrreview_info['number_of_total_results']"
     ],
     "language": "python",
     "metadata": {},
     "outputs": [
      {
       "output_type": "stream",
       "stream": "stdout",
       "text": [
        "Total number of user API results:  26379\n"
       ]
      }
     ],
     "prompt_number": 15
    },
    {
     "cell_type": "markdown",
     "metadata": {},
     "source": [
      "So we apparently have about 26,000 user reviews. However, some of these API calls produce empty results. For example, when we look at the 25,000th page we find no user review information. "
     ]
    },
    {
     "cell_type": "code",
     "collapsed": false,
     "input": [
      "offset = 25000\n",
      "url_usrreviews = 'http://www.giantbomb.com/api/user_reviews/?api_key=' + key + '&format=json&offset=' + str(offset)\n",
      "resp_usrreview = requests.get(url_usrreviews)\n",
      "usrreview_info = json.loads(resp_usrreview.text)\n",
      "usr_rvs = usrreview_info['results']\n",
      "\n",
      "usr_rvs"
     ],
     "language": "python",
     "metadata": {},
     "outputs": [
      {
       "ename": "NameError",
       "evalue": "name 'key' is not defined",
       "output_type": "pyerr",
       "traceback": [
        "\u001b[1;31m---------------------------------------------------------------------------\u001b[0m\n\u001b[1;31mNameError\u001b[0m                                 Traceback (most recent call last)",
        "\u001b[1;32m<ipython-input-1-e5362ca33147>\u001b[0m in \u001b[0;36m<module>\u001b[1;34m()\u001b[0m\n\u001b[0;32m      1\u001b[0m \u001b[0moffset\u001b[0m \u001b[1;33m=\u001b[0m \u001b[1;36m25000\u001b[0m\u001b[1;33m\u001b[0m\u001b[0m\n\u001b[1;32m----> 2\u001b[1;33m \u001b[0murl_usr_review_25k\u001b[0m \u001b[1;33m=\u001b[0m \u001b[1;34m'http://www.giantbomb.com/api/user_reviews/?api_key='\u001b[0m \u001b[1;33m+\u001b[0m \u001b[0mkey\u001b[0m \u001b[1;33m+\u001b[0m \u001b[1;34m'&format=json&offset='\u001b[0m \u001b[1;33m+\u001b[0m \u001b[0mstr\u001b[0m\u001b[1;33m(\u001b[0m\u001b[0moffset\u001b[0m\u001b[1;33m)\u001b[0m\u001b[1;33m\u001b[0m\u001b[0m\n\u001b[0m\u001b[0;32m      3\u001b[0m \u001b[0mresp_usr_review_25k\u001b[0m \u001b[1;33m=\u001b[0m \u001b[0mrequests\u001b[0m\u001b[1;33m.\u001b[0m\u001b[0mget\u001b[0m\u001b[1;33m(\u001b[0m\u001b[0murl_usr_review_25k\u001b[0m\u001b[1;33m)\u001b[0m\u001b[1;33m\u001b[0m\u001b[0m\n\u001b[0;32m      4\u001b[0m \u001b[0musr_review_info_25k\u001b[0m \u001b[1;33m=\u001b[0m \u001b[0mjson\u001b[0m\u001b[1;33m.\u001b[0m\u001b[0mloads\u001b[0m\u001b[1;33m(\u001b[0m\u001b[0mresp_usr_review_25k\u001b[0m\u001b[1;33m.\u001b[0m\u001b[0mtext\u001b[0m\u001b[1;33m)\u001b[0m\u001b[1;33m\u001b[0m\u001b[0m\n\u001b[0;32m      5\u001b[0m \u001b[0musr_rv_25k\u001b[0m \u001b[1;33m=\u001b[0m \u001b[0musr_review_info_25k\u001b[0m\u001b[1;33m[\u001b[0m\u001b[1;34m'results'\u001b[0m\u001b[1;33m]\u001b[0m\u001b[1;33m\u001b[0m\u001b[0m\n",
        "\u001b[1;31mNameError\u001b[0m: name 'key' is not defined"
       ]
      }
     ],
     "prompt_number": 1
    },
    {
     "cell_type": "markdown",
     "metadata": {},
     "source": [
      "We will create a data frame which includes the name of the game, the score given to it by the user, the screen name of the user, and the date the review was provided. The empty API calls will automatically be excluded from the frame. "
     ]
    },
    {
     "cell_type": "code",
     "collapsed": false,
     "input": [
      "## creates a list of all games reviewers have reviewed with the score for the game, the date added, and the name of the reviewer. \n",
      "\n",
      "usr_g_names = list()\n",
      "usr_g_score = list()\n",
      "usr_g_reviewer = list()\n",
      "usr_g_rv_date = list()\n",
      "\n",
      "for offset in np.array(range(260))*100:\n",
      "    url_usrreviews = 'http://www.giantbomb.com/api/user_reviews/?api_key=' + key + '&format=json&offset=' + str(offset)\n",
      "\n",
      "    # response format for API\n",
      "    resp_usrreview = requests.get(url_usrreviews)\n",
      "\n",
      "    # loads text of response into json format\n",
      "    usrreview_info = json.loads(resp_usrreview.text)\n",
      "\n",
      "    # redefine list\n",
      "    usr_rvs = usrreview_info['results']\n",
      "\n",
      "    for k in range(len(usr_rvs)):\n",
      "        elem = usr_rvs[k]\n",
      "        usr_g_score.append(elem['score'])\n",
      "        usr_g_names.append(elem['wikiObject'])\n",
      "        usr_g_reviewer.append(elem['reviewer'])\n",
      "        usr_g_rv_date.append(elem['date_added'])"
     ],
     "language": "python",
     "metadata": {},
     "outputs": [],
     "prompt_number": 17
    },
    {
     "cell_type": "code",
     "collapsed": false,
     "input": [
      "usr_rv_dict = {'Name': usr_g_names, 'User Review Score': usr_g_score, 'User Reviewer': usr_g_reviewer, 'Date of Review':usr_g_rv_date }\n",
      "\n",
      "from pandas import DataFrame\n",
      "\n",
      "usr_rv_frame = DataFrame(usr_rv_dict, columns = ['Name', 'User Review Score', 'User Reviewer', 'Date of Review'])\n",
      "\n",
      "# Defined as of November 18, 2014\n",
      "usr_rv_frame"
     ],
     "language": "python",
     "metadata": {},
     "outputs": [
      {
       "html": [
        "<div style=\"max-height:1000px;max-width:1500px;overflow:auto;\">\n",
        "<table border=\"1\" class=\"dataframe\">\n",
        "  <thead>\n",
        "    <tr style=\"text-align: right;\">\n",
        "      <th></th>\n",
        "      <th>Name</th>\n",
        "      <th>User Review Score</th>\n",
        "      <th>User Reviewer</th>\n",
        "      <th>Date of Review</th>\n",
        "    </tr>\n",
        "  </thead>\n",
        "  <tbody>\n",
        "    <tr>\n",
        "      <th>0    </th>\n",
        "      <td>                             Famicom Mini: Pac-Man</td>\n",
        "      <td> 5</td>\n",
        "      <td>            snide</td>\n",
        "      <td> 2008-07-14 21:49:21</td>\n",
        "    </tr>\n",
        "    <tr>\n",
        "      <th>1    </th>\n",
        "      <td>             Icewind Dale II (Collector's Edition)</td>\n",
        "      <td> 5</td>\n",
        "      <td>            snide</td>\n",
        "      <td> 2008-07-20 01:09:02</td>\n",
        "    </tr>\n",
        "    <tr>\n",
        "      <th>2    </th>\n",
        "      <td>                                  Gauntlet Legends</td>\n",
        "      <td> 4</td>\n",
        "      <td>         joseppie</td>\n",
        "      <td> 2008-07-21 00:34:06</td>\n",
        "    </tr>\n",
        "    <tr>\n",
        "      <th>3    </th>\n",
        "      <td>                                 MVP Baseball 2005</td>\n",
        "      <td> 5</td>\n",
        "      <td>         joseppie</td>\n",
        "      <td> 2008-07-21 00:36:10</td>\n",
        "    </tr>\n",
        "    <tr>\n",
        "      <th>4    </th>\n",
        "      <td>                       Need for Speed: Most Wanted</td>\n",
        "      <td> 4</td>\n",
        "      <td>         joseppie</td>\n",
        "      <td> 2008-07-21 00:44:42</td>\n",
        "    </tr>\n",
        "    <tr>\n",
        "      <th>5    </th>\n",
        "      <td>                               Grand Theft Auto IV</td>\n",
        "      <td> 5</td>\n",
        "      <td>           toriko</td>\n",
        "      <td> 2008-07-21 00:49:38</td>\n",
        "    </tr>\n",
        "    <tr>\n",
        "      <th>6    </th>\n",
        "      <td> Metal Gear Solid 4: Guns of the Patriots (Limi...</td>\n",
        "      <td> 5</td>\n",
        "      <td>     star_wars117</td>\n",
        "      <td> 2008-07-21 00:51:31</td>\n",
        "    </tr>\n",
        "    <tr>\n",
        "      <th>7    </th>\n",
        "      <td> Metal Gear Solid 4: Guns of the Patriots (Limi...</td>\n",
        "      <td> 4</td>\n",
        "      <td>  microwavedapple</td>\n",
        "      <td> 2008-07-21 00:53:41</td>\n",
        "    </tr>\n",
        "    <tr>\n",
        "      <th>8    </th>\n",
        "      <td>        Gears of War (Limited Collector's Edition)</td>\n",
        "      <td> 5</td>\n",
        "      <td>     star_wars117</td>\n",
        "      <td> 2008-07-21 00:54:52</td>\n",
        "    </tr>\n",
        "    <tr>\n",
        "      <th>9    </th>\n",
        "      <td>                                    Mario Kart Wii</td>\n",
        "      <td> 4</td>\n",
        "      <td>       cann3dheat</td>\n",
        "      <td> 2008-07-21 00:56:51</td>\n",
        "    </tr>\n",
        "    <tr>\n",
        "      <th>10   </th>\n",
        "      <td>                    Deadliest Catch: Alaskan Storm</td>\n",
        "      <td> 3</td>\n",
        "      <td>             artg</td>\n",
        "      <td> 2008-07-21 00:57:03</td>\n",
        "    </tr>\n",
        "    <tr>\n",
        "      <th>11   </th>\n",
        "      <td>                  Battlefield 2142: Deluxe Edition</td>\n",
        "      <td> 3</td>\n",
        "      <td>     star_wars117</td>\n",
        "      <td> 2008-07-21 00:57:04</td>\n",
        "    </tr>\n",
        "    <tr>\n",
        "      <th>12   </th>\n",
        "      <td>                Tsumi to Batsu: Hoshi no Keish\u014dsha</td>\n",
        "      <td> 4</td>\n",
        "      <td>         pepsiman</td>\n",
        "      <td> 2008-07-21 00:57:06</td>\n",
        "    </tr>\n",
        "    <tr>\n",
        "      <th>13   </th>\n",
        "      <td>                                        Vib-Ribbon</td>\n",
        "      <td> 4</td>\n",
        "      <td>         pepsiman</td>\n",
        "      <td> 2008-07-21 00:58:45</td>\n",
        "    </tr>\n",
        "    <tr>\n",
        "      <th>14   </th>\n",
        "      <td> Metal Gear Solid 4: Guns of the Patriots (Limi...</td>\n",
        "      <td> 5</td>\n",
        "      <td>             artg</td>\n",
        "      <td> 2008-07-21 00:58:54</td>\n",
        "    </tr>\n",
        "    <tr>\n",
        "      <th>15   </th>\n",
        "      <td>                                        Sneak King</td>\n",
        "      <td> 3</td>\n",
        "      <td>     star_wars117</td>\n",
        "      <td> 2008-07-21 01:00:09</td>\n",
        "    </tr>\n",
        "    <tr>\n",
        "      <th>16   </th>\n",
        "      <td>                                             \u014ckami</td>\n",
        "      <td> 5</td>\n",
        "      <td>         pepsiman</td>\n",
        "      <td> 2008-07-21 01:00:14</td>\n",
        "    </tr>\n",
        "    <tr>\n",
        "      <th>17   </th>\n",
        "      <td>                          Battlefield: Bad Company</td>\n",
        "      <td> 5</td>\n",
        "      <td>            chase</td>\n",
        "      <td> 2008-07-21 01:00:17</td>\n",
        "    </tr>\n",
        "    <tr>\n",
        "      <th>18   </th>\n",
        "      <td>            Grand Theft Auto: Liberty City Stories</td>\n",
        "      <td> 1</td>\n",
        "      <td>     star_wars117</td>\n",
        "      <td> 2008-07-21 01:01:24</td>\n",
        "    </tr>\n",
        "    <tr>\n",
        "      <th>19   </th>\n",
        "      <td>                                         Red Steel</td>\n",
        "      <td> 3</td>\n",
        "      <td>     star_wars117</td>\n",
        "      <td> 2008-07-21 01:03:38</td>\n",
        "    </tr>\n",
        "    <tr>\n",
        "      <th>20   </th>\n",
        "      <td>                                        Just Cause</td>\n",
        "      <td> 4</td>\n",
        "      <td>         indieboy</td>\n",
        "      <td> 2008-07-21 01:06:05</td>\n",
        "    </tr>\n",
        "    <tr>\n",
        "      <th>21   </th>\n",
        "      <td> Metal Gear Solid 4: Guns of the Patriots (Limi...</td>\n",
        "      <td> 5</td>\n",
        "      <td>          rearmed</td>\n",
        "      <td> 2008-07-21 01:06:50</td>\n",
        "    </tr>\n",
        "    <tr>\n",
        "      <th>22   </th>\n",
        "      <td>                                               ICO</td>\n",
        "      <td> 5</td>\n",
        "      <td>         pepsiman</td>\n",
        "      <td> 2008-07-21 01:08:03</td>\n",
        "    </tr>\n",
        "    <tr>\n",
        "      <th>23   </th>\n",
        "      <td>               Starship Troopers (Special Edition)</td>\n",
        "      <td> 1</td>\n",
        "      <td>     star_wars117</td>\n",
        "      <td> 2008-07-21 01:08:15</td>\n",
        "    </tr>\n",
        "    <tr>\n",
        "      <th>24   </th>\n",
        "      <td>                      Geometry Wars: Retro Evolved</td>\n",
        "      <td> 4</td>\n",
        "      <td>     powicewobots</td>\n",
        "      <td> 2008-07-21 01:08:31</td>\n",
        "    </tr>\n",
        "    <tr>\n",
        "      <th>25   </th>\n",
        "      <td>                    Dark Messiah of Might &amp; Magic </td>\n",
        "      <td> 4</td>\n",
        "      <td>     star_wars117</td>\n",
        "      <td> 2008-07-21 01:09:03</td>\n",
        "    </tr>\n",
        "    <tr>\n",
        "      <th>26   </th>\n",
        "      <td>                           Civilization Revolution</td>\n",
        "      <td> 4</td>\n",
        "      <td>             artg</td>\n",
        "      <td> 2008-07-21 01:09:04</td>\n",
        "    </tr>\n",
        "    <tr>\n",
        "      <th>27   </th>\n",
        "      <td>                             Unreal Tournament III</td>\n",
        "      <td> 4</td>\n",
        "      <td>   senior_waffles</td>\n",
        "      <td> 2008-07-21 01:09:32</td>\n",
        "    </tr>\n",
        "    <tr>\n",
        "      <th>28   </th>\n",
        "      <td>                                         Actraiser</td>\n",
        "      <td> 4</td>\n",
        "      <td>           ruukie</td>\n",
        "      <td> 2008-07-21 01:12:06</td>\n",
        "    </tr>\n",
        "    <tr>\n",
        "      <th>29   </th>\n",
        "      <td>                               Grand Theft Auto IV</td>\n",
        "      <td> 5</td>\n",
        "      <td>      thatguy0130</td>\n",
        "      <td> 2008-07-21 01:13:56</td>\n",
        "    </tr>\n",
        "    <tr>\n",
        "      <th>...</th>\n",
        "      <td>...</td>\n",
        "      <td>...</td>\n",
        "      <td>...</td>\n",
        "      <td>...</td>\n",
        "    </tr>\n",
        "    <tr>\n",
        "      <th>24825</th>\n",
        "      <td>                   Tomb Raider: Definitive Edition</td>\n",
        "      <td> 5</td>\n",
        "      <td>          castiel</td>\n",
        "      <td> 2014-11-17 13:27:56</td>\n",
        "    </tr>\n",
        "    <tr>\n",
        "      <th>24826</th>\n",
        "      <td>                                       Angry Birds</td>\n",
        "      <td> 2</td>\n",
        "      <td>      spainstaion</td>\n",
        "      <td> 2014-11-17 15:16:53</td>\n",
        "    </tr>\n",
        "    <tr>\n",
        "      <th>24827</th>\n",
        "      <td>                                           Ingress</td>\n",
        "      <td> 4</td>\n",
        "      <td>      djwoodgrain</td>\n",
        "      <td> 2014-11-17 22:54:46</td>\n",
        "    </tr>\n",
        "    <tr>\n",
        "      <th>24828</th>\n",
        "      <td>                               Antichamber (Steam)</td>\n",
        "      <td> 4</td>\n",
        "      <td>          fenster</td>\n",
        "      <td> 2014-11-17 23:20:41</td>\n",
        "    </tr>\n",
        "    <tr>\n",
        "      <th>24829</th>\n",
        "      <td>                        Wolfenstein: The New Order</td>\n",
        "      <td> 5</td>\n",
        "      <td>            mento</td>\n",
        "      <td> 2014-11-18 09:14:20</td>\n",
        "    </tr>\n",
        "    <tr>\n",
        "      <th>24830</th>\n",
        "      <td>                           Assassin's Creed: Rogue</td>\n",
        "      <td> 2</td>\n",
        "      <td>        aztecomar</td>\n",
        "      <td> 2014-11-18 20:58:38</td>\n",
        "    </tr>\n",
        "    <tr>\n",
        "      <th>24831</th>\n",
        "      <td>                                Serious Sam 3: BFE</td>\n",
        "      <td> 3</td>\n",
        "      <td>        clive_far</td>\n",
        "      <td> 2014-11-18 22:03:20</td>\n",
        "    </tr>\n",
        "    <tr>\n",
        "      <th>24832</th>\n",
        "      <td>                           The King of Fighters XI</td>\n",
        "      <td> 4</td>\n",
        "      <td>     reverendhunt</td>\n",
        "      <td> 2014-11-19 04:55:25</td>\n",
        "    </tr>\n",
        "    <tr>\n",
        "      <th>24833</th>\n",
        "      <td>                        Street Fighter Alpha 3 MAX</td>\n",
        "      <td> 4</td>\n",
        "      <td>     reverendhunt</td>\n",
        "      <td> 2014-11-19 04:59:50</td>\n",
        "    </tr>\n",
        "    <tr>\n",
        "      <th>24834</th>\n",
        "      <td>          Tatsunoko vs. Capcom: Ultimate All Stars</td>\n",
        "      <td> 4</td>\n",
        "      <td>     reverendhunt</td>\n",
        "      <td> 2014-11-19 05:02:22</td>\n",
        "    </tr>\n",
        "    <tr>\n",
        "      <th>24835</th>\n",
        "      <td>                                     The Outfoxies</td>\n",
        "      <td> 4</td>\n",
        "      <td>     reverendhunt</td>\n",
        "      <td> 2014-11-19 05:05:41</td>\n",
        "    </tr>\n",
        "    <tr>\n",
        "      <th>24836</th>\n",
        "      <td>                               Godzilla: Unleashed</td>\n",
        "      <td> 3</td>\n",
        "      <td>     reverendhunt</td>\n",
        "      <td> 2014-11-19 05:08:55</td>\n",
        "    </tr>\n",
        "    <tr>\n",
        "      <th>24837</th>\n",
        "      <td>               Naruto: Clash of Ninja Revolution 2</td>\n",
        "      <td> 3</td>\n",
        "      <td>     reverendhunt</td>\n",
        "      <td> 2014-11-19 05:11:14</td>\n",
        "    </tr>\n",
        "    <tr>\n",
        "      <th>24838</th>\n",
        "      <td>                     Mortal Kombat vs. DC Universe</td>\n",
        "      <td> 3</td>\n",
        "      <td>     reverendhunt</td>\n",
        "      <td> 2014-11-19 05:18:34</td>\n",
        "    </tr>\n",
        "    <tr>\n",
        "      <th>24839</th>\n",
        "      <td>                                          Tekken 6</td>\n",
        "      <td> 2</td>\n",
        "      <td>     reverendhunt</td>\n",
        "      <td> 2014-11-19 05:23:05</td>\n",
        "    </tr>\n",
        "    <tr>\n",
        "      <th>24840</th>\n",
        "      <td>          Hokuto No Ken: Raoh Gaiden - Ten No Haoh</td>\n",
        "      <td> 2</td>\n",
        "      <td>     reverendhunt</td>\n",
        "      <td> 2014-11-19 05:27:28</td>\n",
        "    </tr>\n",
        "    <tr>\n",
        "      <th>24841</th>\n",
        "      <td>                           Assassin's Creed: Rogue</td>\n",
        "      <td> 3</td>\n",
        "      <td>       poobumbutt</td>\n",
        "      <td> 2014-11-19 16:36:26</td>\n",
        "    </tr>\n",
        "    <tr>\n",
        "      <th>24842</th>\n",
        "      <td>                                      Advance Wars</td>\n",
        "      <td> 5</td>\n",
        "      <td>           niko23</td>\n",
        "      <td> 2014-11-19 20:13:23</td>\n",
        "    </tr>\n",
        "    <tr>\n",
        "      <th>24843</th>\n",
        "      <td>                                        Golden Sun</td>\n",
        "      <td> 5</td>\n",
        "      <td>           niko23</td>\n",
        "      <td> 2014-11-19 20:22:50</td>\n",
        "    </tr>\n",
        "    <tr>\n",
        "      <th>24844</th>\n",
        "      <td>                                           Only If</td>\n",
        "      <td> 2</td>\n",
        "      <td>        gamer_152</td>\n",
        "      <td> 2014-11-20 16:34:30</td>\n",
        "    </tr>\n",
        "    <tr>\n",
        "      <th>24845</th>\n",
        "      <td>                   The Last Tinker: City of Colors</td>\n",
        "      <td> 2</td>\n",
        "      <td>      theosgvault</td>\n",
        "      <td> 2014-11-20 19:47:25</td>\n",
        "    </tr>\n",
        "    <tr>\n",
        "      <th>24846</th>\n",
        "      <td>                The Legend of Zelda: Spirit Tracks</td>\n",
        "      <td> 1</td>\n",
        "      <td> adriangabbyeliot</td>\n",
        "      <td> 2014-11-21 12:59:54</td>\n",
        "    </tr>\n",
        "    <tr>\n",
        "      <th>24847</th>\n",
        "      <td>                       Super Smash Bros. for Wii U</td>\n",
        "      <td> 5</td>\n",
        "      <td>          jaypb08</td>\n",
        "      <td> 2014-11-21 21:53:51</td>\n",
        "    </tr>\n",
        "    <tr>\n",
        "      <th>24848</th>\n",
        "      <td>                       Senran Kagura: Bon App\u00e9tit!</td>\n",
        "      <td> 2</td>\n",
        "      <td>    megabite10164</td>\n",
        "      <td> 2014-11-22 17:07:59</td>\n",
        "    </tr>\n",
        "    <tr>\n",
        "      <th>24849</th>\n",
        "      <td>                    Middle-earth: Shadow of Mordor</td>\n",
        "      <td> 4</td>\n",
        "      <td>     apollodynamo</td>\n",
        "      <td> 2014-11-23 01:58:40</td>\n",
        "    </tr>\n",
        "    <tr>\n",
        "      <th>24850</th>\n",
        "      <td>                            Murdered: Soul Suspect</td>\n",
        "      <td> 3</td>\n",
        "      <td>            mento</td>\n",
        "      <td> 2014-11-23 09:00:54</td>\n",
        "    </tr>\n",
        "    <tr>\n",
        "      <th>24851</th>\n",
        "      <td>                Sunset Overdrive (Day One Edition)</td>\n",
        "      <td> 4</td>\n",
        "      <td>     theacidskull</td>\n",
        "      <td> 2014-11-23 20:11:53</td>\n",
        "    </tr>\n",
        "    <tr>\n",
        "      <th>24852</th>\n",
        "      <td>           Mighty Morphin Power Rangers: The Movie</td>\n",
        "      <td> 3</td>\n",
        "      <td>         hunterob</td>\n",
        "      <td> 2014-11-23 21:37:36</td>\n",
        "    </tr>\n",
        "    <tr>\n",
        "      <th>24853</th>\n",
        "      <td>                          This War of Mine (Steam)</td>\n",
        "      <td> 4</td>\n",
        "      <td>       syndrifter</td>\n",
        "      <td> 2014-11-23 23:00:12</td>\n",
        "    </tr>\n",
        "    <tr>\n",
        "      <th>24854</th>\n",
        "      <td>                           Assassin's Creed: Unity</td>\n",
        "      <td> 2</td>\n",
        "      <td>     321smilepaul</td>\n",
        "      <td> 2014-11-24 08:22:55</td>\n",
        "    </tr>\n",
        "  </tbody>\n",
        "</table>\n",
        "<p>24855 rows \u00d7 4 columns</p>\n",
        "</div>"
       ],
       "metadata": {},
       "output_type": "pyout",
       "prompt_number": 18,
       "text": [
        "                                                    Name  User Review Score  \\\n",
        "0                                  Famicom Mini: Pac-Man                  5   \n",
        "1                  Icewind Dale II (Collector's Edition)                  5   \n",
        "2                                       Gauntlet Legends                  4   \n",
        "3                                      MVP Baseball 2005                  5   \n",
        "4                            Need for Speed: Most Wanted                  4   \n",
        "5                                    Grand Theft Auto IV                  5   \n",
        "6      Metal Gear Solid 4: Guns of the Patriots (Limi...                  5   \n",
        "7      Metal Gear Solid 4: Guns of the Patriots (Limi...                  4   \n",
        "8             Gears of War (Limited Collector's Edition)                  5   \n",
        "9                                         Mario Kart Wii                  4   \n",
        "10                        Deadliest Catch: Alaskan Storm                  3   \n",
        "11                      Battlefield 2142: Deluxe Edition                  3   \n",
        "12                    Tsumi to Batsu: Hoshi no Keish\u014dsha                  4   \n",
        "13                                            Vib-Ribbon                  4   \n",
        "14     Metal Gear Solid 4: Guns of the Patriots (Limi...                  5   \n",
        "15                                            Sneak King                  3   \n",
        "16                                                 \u014ckami                  5   \n",
        "17                              Battlefield: Bad Company                  5   \n",
        "18                Grand Theft Auto: Liberty City Stories                  1   \n",
        "19                                             Red Steel                  3   \n",
        "20                                            Just Cause                  4   \n",
        "21     Metal Gear Solid 4: Guns of the Patriots (Limi...                  5   \n",
        "22                                                   ICO                  5   \n",
        "23                   Starship Troopers (Special Edition)                  1   \n",
        "24                          Geometry Wars: Retro Evolved                  4   \n",
        "25                        Dark Messiah of Might & Magic                   4   \n",
        "26                               Civilization Revolution                  4   \n",
        "27                                 Unreal Tournament III                  4   \n",
        "28                                             Actraiser                  4   \n",
        "29                                   Grand Theft Auto IV                  5   \n",
        "...                                                  ...                ...   \n",
        "24825                    Tomb Raider: Definitive Edition                  5   \n",
        "24826                                        Angry Birds                  2   \n",
        "24827                                            Ingress                  4   \n",
        "24828                                Antichamber (Steam)                  4   \n",
        "24829                         Wolfenstein: The New Order                  5   \n",
        "24830                            Assassin's Creed: Rogue                  2   \n",
        "24831                                 Serious Sam 3: BFE                  3   \n",
        "24832                            The King of Fighters XI                  4   \n",
        "24833                         Street Fighter Alpha 3 MAX                  4   \n",
        "24834           Tatsunoko vs. Capcom: Ultimate All Stars                  4   \n",
        "24835                                      The Outfoxies                  4   \n",
        "24836                                Godzilla: Unleashed                  3   \n",
        "24837                Naruto: Clash of Ninja Revolution 2                  3   \n",
        "24838                      Mortal Kombat vs. DC Universe                  3   \n",
        "24839                                           Tekken 6                  2   \n",
        "24840           Hokuto No Ken: Raoh Gaiden - Ten No Haoh                  2   \n",
        "24841                            Assassin's Creed: Rogue                  3   \n",
        "24842                                       Advance Wars                  5   \n",
        "24843                                         Golden Sun                  5   \n",
        "24844                                            Only If                  2   \n",
        "24845                    The Last Tinker: City of Colors                  2   \n",
        "24846                 The Legend of Zelda: Spirit Tracks                  1   \n",
        "24847                        Super Smash Bros. for Wii U                  5   \n",
        "24848                        Senran Kagura: Bon App\u00e9tit!                  2   \n",
        "24849                     Middle-earth: Shadow of Mordor                  4   \n",
        "24850                             Murdered: Soul Suspect                  3   \n",
        "24851                 Sunset Overdrive (Day One Edition)                  4   \n",
        "24852            Mighty Morphin Power Rangers: The Movie                  3   \n",
        "24853                           This War of Mine (Steam)                  4   \n",
        "24854                            Assassin's Creed: Unity                  2   \n",
        "\n",
        "          User Reviewer       Date of Review  \n",
        "0                 snide  2008-07-14 21:49:21  \n",
        "1                 snide  2008-07-20 01:09:02  \n",
        "2              joseppie  2008-07-21 00:34:06  \n",
        "3              joseppie  2008-07-21 00:36:10  \n",
        "4              joseppie  2008-07-21 00:44:42  \n",
        "5                toriko  2008-07-21 00:49:38  \n",
        "6          star_wars117  2008-07-21 00:51:31  \n",
        "7       microwavedapple  2008-07-21 00:53:41  \n",
        "8          star_wars117  2008-07-21 00:54:52  \n",
        "9            cann3dheat  2008-07-21 00:56:51  \n",
        "10                 artg  2008-07-21 00:57:03  \n",
        "11         star_wars117  2008-07-21 00:57:04  \n",
        "12             pepsiman  2008-07-21 00:57:06  \n",
        "13             pepsiman  2008-07-21 00:58:45  \n",
        "14                 artg  2008-07-21 00:58:54  \n",
        "15         star_wars117  2008-07-21 01:00:09  \n",
        "16             pepsiman  2008-07-21 01:00:14  \n",
        "17                chase  2008-07-21 01:00:17  \n",
        "18         star_wars117  2008-07-21 01:01:24  \n",
        "19         star_wars117  2008-07-21 01:03:38  \n",
        "20             indieboy  2008-07-21 01:06:05  \n",
        "21              rearmed  2008-07-21 01:06:50  \n",
        "22             pepsiman  2008-07-21 01:08:03  \n",
        "23         star_wars117  2008-07-21 01:08:15  \n",
        "24         powicewobots  2008-07-21 01:08:31  \n",
        "25         star_wars117  2008-07-21 01:09:03  \n",
        "26                 artg  2008-07-21 01:09:04  \n",
        "27       senior_waffles  2008-07-21 01:09:32  \n",
        "28               ruukie  2008-07-21 01:12:06  \n",
        "29          thatguy0130  2008-07-21 01:13:56  \n",
        "...                 ...                  ...  \n",
        "24825           castiel  2014-11-17 13:27:56  \n",
        "24826       spainstaion  2014-11-17 15:16:53  \n",
        "24827       djwoodgrain  2014-11-17 22:54:46  \n",
        "24828           fenster  2014-11-17 23:20:41  \n",
        "24829             mento  2014-11-18 09:14:20  \n",
        "24830         aztecomar  2014-11-18 20:58:38  \n",
        "24831         clive_far  2014-11-18 22:03:20  \n",
        "24832      reverendhunt  2014-11-19 04:55:25  \n",
        "24833      reverendhunt  2014-11-19 04:59:50  \n",
        "24834      reverendhunt  2014-11-19 05:02:22  \n",
        "24835      reverendhunt  2014-11-19 05:05:41  \n",
        "24836      reverendhunt  2014-11-19 05:08:55  \n",
        "24837      reverendhunt  2014-11-19 05:11:14  \n",
        "24838      reverendhunt  2014-11-19 05:18:34  \n",
        "24839      reverendhunt  2014-11-19 05:23:05  \n",
        "24840      reverendhunt  2014-11-19 05:27:28  \n",
        "24841        poobumbutt  2014-11-19 16:36:26  \n",
        "24842            niko23  2014-11-19 20:13:23  \n",
        "24843            niko23  2014-11-19 20:22:50  \n",
        "24844         gamer_152  2014-11-20 16:34:30  \n",
        "24845       theosgvault  2014-11-20 19:47:25  \n",
        "24846  adriangabbyeliot  2014-11-21 12:59:54  \n",
        "24847           jaypb08  2014-11-21 21:53:51  \n",
        "24848     megabite10164  2014-11-22 17:07:59  \n",
        "24849      apollodynamo  2014-11-23 01:58:40  \n",
        "24850             mento  2014-11-23 09:00:54  \n",
        "24851      theacidskull  2014-11-23 20:11:53  \n",
        "24852          hunterob  2014-11-23 21:37:36  \n",
        "24853        syndrifter  2014-11-23 23:00:12  \n",
        "24854      321smilepaul  2014-11-24 08:22:55  \n",
        "\n",
        "[24855 rows x 4 columns]"
       ]
      }
     ],
     "prompt_number": 18
    },
    {
     "cell_type": "code",
     "collapsed": false,
     "input": [],
     "language": "python",
     "metadata": {},
     "outputs": []
    },
    {
     "cell_type": "markdown",
     "metadata": {},
     "source": [
      "We can now answer the question: What is the distribution of giant bomb user review scores?"
     ]
    },
    {
     "cell_type": "code",
     "collapsed": false,
     "input": [
      "# Histogram distribution of Giant Bomb User Review Scores\n",
      "\n",
      "plt.figure(figsize=(8,6))\n",
      "n, bins, patches = plt.hist(usr_g_score, 15)\n",
      "plt.title(\" Distribution of Giant Bomb User Review Scores\")\n",
      "plt.xlabel(\"Score\")\n",
      "plt.ylabel(\"Numbers of Occurences\")"
     ],
     "language": "python",
     "metadata": {},
     "outputs": [
      {
       "metadata": {},
       "output_type": "pyout",
       "prompt_number": 14,
       "text": [
        "<matplotlib.text.Text at 0x15efba20>"
       ]
      },
      {
       "metadata": {},
       "output_type": "display_data",
       "png": "[encoded data removed]",
       "text": [
        "<matplotlib.figure.Figure at 0xc309128>"
       ]
      }
     ],
     "prompt_number": 14
    },
    {
     "cell_type": "markdown",
     "metadata": {},
     "source": [
      "We first note that unlike the Giant Bomb staff review scores, a user review score can in a sense be '0'. We say in a sense because the Giant Bomb API associates a score of 0 to user reviews which don't include a specific score. See the two reviews in http://www.giantbomb.com/jumper-griffins-story/3030-20797/user-reviews/ for example. \n",
      "\n",
      "More relevantnly, we see that similar to the Giant Bomb staff review scores, the distribution of user review scores has a mode centered well above the mid point of the range. In fact the user review scores have a mode of 5 in comaprison to the critic mode of 4. There is one important distinction between the two distributions, however: there was only a single critic review per game. This is not the case for the user reviews. "
     ]
    },
    {
     "cell_type": "code",
     "collapsed": false,
     "input": [
      "print 'Total Number of User Game Reviews: ', len(usr_g_names)\n",
      "print 'Total Number of Unique User Game Reviews: ', len(set(usr_g_names))"
     ],
     "language": "python",
     "metadata": {},
     "outputs": [
      {
       "output_type": "stream",
       "stream": "stdout",
       "text": [
        "Total Number of User Game Reviews:  24830\n",
        "Total Number of Unique User Game Reviews:  4955\n"
       ]
      }
     ],
     "prompt_number": 17
    },
    {
     "cell_type": "markdown",
     "metadata": {},
     "source": [
      "So there are about 25000 user game reviews, but only about 5000 reviews unique to a game.\n",
      "\n",
      "Given that the more popular (i.e. highly rated) games will most likely have more user reviews, it makes sense that the mode of the total distribution of user reviews is at 5. So, a more informative plot would perhaps be the distribution of user scores uniquely associated with a particular game. To find the score associated with a particular game we will simply average all the user scores for that game and round to the nearest integer. "
     ]
    },
    {
     "cell_type": "code",
     "collapsed": false,
     "input": [
      "## Data frame of average user review score per game\n",
      "\n",
      "#This averaging washes away the time and reviewer name data from the previous frame\n",
      "\n",
      "unique_rvs = usr_rv_frame.groupby('Name',as_index = False)['Name', 'User Review Score'].mean()\n",
      "unique_rvs.head()"
     ],
     "language": "python",
     "metadata": {},
     "outputs": [
      {
       "html": [
        "<div style=\"max-height:1000px;max-width:1500px;overflow:auto;\">\n",
        "<table border=\"1\" class=\"dataframe\">\n",
        "  <thead>\n",
        "    <tr style=\"text-align: right;\">\n",
        "      <th></th>\n",
        "      <th>Name</th>\n",
        "      <th>User Review Score</th>\n",
        "    </tr>\n",
        "  </thead>\n",
        "  <tbody>\n",
        "    <tr>\n",
        "      <th>0</th>\n",
        "      <td>  .hack//QUARANTINE - Part 4</td>\n",
        "      <td> 3.0</td>\n",
        "    </tr>\n",
        "    <tr>\n",
        "      <th>1</th>\n",
        "      <td>       007: Agent Under Fire</td>\n",
        "      <td> 4.5</td>\n",
        "    </tr>\n",
        "    <tr>\n",
        "      <th>2</th>\n",
        "      <td>  007: Everything or Nothing</td>\n",
        "      <td> 4.0</td>\n",
        "    </tr>\n",
        "    <tr>\n",
        "      <th>3</th>\n",
        "      <td>              007: Nightfire</td>\n",
        "      <td> 2.8</td>\n",
        "    </tr>\n",
        "    <tr>\n",
        "      <th>4</th>\n",
        "      <td>        Adventures of Lolo 2</td>\n",
        "      <td> 5.0</td>\n",
        "    </tr>\n",
        "  </tbody>\n",
        "</table>\n",
        "</div>"
       ],
       "metadata": {},
       "output_type": "pyout",
       "prompt_number": 33,
       "text": [
        "                          Name  User Review Score\n",
        "0   .hack//QUARANTINE - Part 4                3.0\n",
        "1        007: Agent Under Fire                4.5\n",
        "2   007: Everything or Nothing                4.0\n",
        "3               007: Nightfire                2.8\n",
        "4         Adventures of Lolo 2                5.0"
       ]
      }
     ],
     "prompt_number": 33
    },
    {
     "cell_type": "code",
     "collapsed": false,
     "input": [
      "# rounds the scores in the above fame to their nearest integer values\n",
      "discrete_score = list()\n",
      "for elem in list(unique_rvs['User Review Score']):\n",
      "    discrete_score.append(round(elem))\n"
     ],
     "language": "python",
     "metadata": {},
     "outputs": [],
     "prompt_number": 20
    },
    {
     "cell_type": "code",
     "collapsed": false,
     "input": [
      "# Histogram distribution of average user review scores for each game (rounded)\n",
      "\n",
      "plt.figure(figsize=(8,6))\n",
      "n, bins, patches = plt.hist(discrete_score, 15)\n",
      "plt.title(\" Distribution of User Review Scores-rounded avg per game\", y =1.1)\n",
      "plt.xlabel(\"Score\")\n",
      "plt.ylabel(\"Numbers of Occurences\")"
     ],
     "language": "python",
     "metadata": {},
     "outputs": [
      {
       "metadata": {},
       "output_type": "pyout",
       "prompt_number": 21,
       "text": [
        "<matplotlib.text.Text at 0x16483b38>"
       ]
      },
      {
       "metadata": {},
       "output_type": "display_data",
       "png": "[encoded data removed]",
       "text": [
        "<matplotlib.figure.Figure at 0x16460320>"
       ]
      }
     ],
     "prompt_number": 21
    },
    {
     "cell_type": "code",
     "collapsed": false,
     "input": [
      "i = 0\n",
      "for elem in discrete_score:\n",
      "    if elem == 0:\n",
      "        i = i+1\n",
      "i "
     ],
     "language": "python",
     "metadata": {},
     "outputs": [
      {
       "metadata": {},
       "output_type": "pyout",
       "prompt_number": 24,
       "text": [
        "9"
       ]
      }
     ],
     "prompt_number": 24
    },
    {
     "cell_type": "markdown",
     "metadata": {},
     "source": [
      "### Plot of Giant Bomb Review Over Time"
     ]
    },
    {
     "cell_type": "code",
     "collapsed": false,
     "input": [
      "import datetime as dt # module for manipulating dates and times\n",
      "\n",
      "game_frame['Date of Review'] = pd.to_datetime(game_frame['Date of Review'])\n",
      "\n",
      "# extracts year and month from review\n",
      "game_frame['year'] = map(lambda x: x.year, game_frame['Date of Review'])\n",
      "game_frame['month'] = map(lambda x: x.month, game_frame['Date of Review'])"
     ],
     "language": "python",
     "metadata": {},
     "outputs": [],
     "prompt_number": 19
    },
    {
     "cell_type": "markdown",
     "metadata": {},
     "source": [
      "Plotting a boxplot of the average per year gives us the following uniformative result:"
     ]
    },
    {
     "cell_type": "code",
     "collapsed": false,
     "input": [
      "game_frame.boxplot('Giant Bomb Score', by = 'year', rot = 90)\n",
      "plt.ylabel('Giant Bomb Score')\n",
      "plt.ylim(0,6)\n",
      "plt.show"
     ],
     "language": "python",
     "metadata": {},
     "outputs": [
      {
       "metadata": {},
       "output_type": "pyout",
       "prompt_number": 21,
       "text": [
        "<function matplotlib.pyplot.show>"
       ]
      },
      {
       "metadata": {},
       "output_type": "display_data",
       "png": "[encoded data removed]",
       "text": [
        "<matplotlib.figure.Figure at 0xc73e160>"
       ]
      }
     ],
     "prompt_number": 21
    },
    {
     "cell_type": "markdown",
     "metadata": {},
     "source": [
      "It turns out that it is better to plot the distribution of the monthly average of the reviews per year. This average is perhaps not too informative because the width of the plots vary according to the number of reviews within a select year. "
     ]
    },
    {
     "cell_type": "code",
     "collapsed": false,
     "input": [
      "# compute the average of reviews for each month of a year\n",
      "avg_game_frame = game_frame.groupby(['year','month'], \n",
      "                                     as_index = False)['Giant Bomb Score', 'year', 'month'].mean()\n",
      "\n",
      "# plot the distribution of these averages by year\n",
      "avg_game_frame.boxplot('Giant Bomb Score', by = 'year', rot = 90)\n",
      "plt.ylabel('Giant Bomb Score')\n",
      "plt.ylim(0,6)\n",
      "plt.show"
     ],
     "language": "python",
     "metadata": {},
     "outputs": [
      {
       "metadata": {},
       "output_type": "pyout",
       "prompt_number": 23,
       "text": [
        "<function matplotlib.pyplot.show>"
       ]
      },
      {
       "metadata": {},
       "output_type": "display_data",
       "png": "[encoded data removed]",
       "text": [
        "<matplotlib.figure.Figure at 0x16cd9ba8>"
       ]
      }
     ],
     "prompt_number": 23
    },
    {
     "cell_type": "markdown",
     "metadata": {},
     "source": [
      "Some questions\n",
      "\n",
      "The above is the distribution of the monthly average for each year of reviews. \n",
      "\n",
      "Why is this spread so different from the spread for the entire data set. Here we took a distribution of averages for the months in a year and there we simply took the entire data set for the year. \n",
      "- Why is the width of the distribution of averages so much smaller than the width of the distribution of all the data points. \n",
      "- Why are we able to observe variations in the median of the distribution in the case of averaging within a month, but we are unable to do so when we look at the total year? \n"
     ]
    },
    {
     "cell_type": "markdown",
     "metadata": {},
     "source": [
      "### Plot of User Reviews Over Time"
     ]
    },
    {
     "cell_type": "markdown",
     "metadata": {},
     "source": [
      "We repeat the previous analysis except with user reviews. We want to see if there are any changes in the distribution of reviews. "
     ]
    },
    {
     "cell_type": "code",
     "collapsed": false,
     "input": [
      "usr_rv_frame['Date of Review'] = pd.to_datetime(usr_rv_frame['Date of Review'])\n",
      "\n",
      "usr_rv_frame['year'] = map(lambda x: x.year, usr_rv_frame['Date of Review'])\n",
      "usr_rv_frame['month'] = map(lambda x: x.month, usr_rv_frame['Date of Review'])"
     ],
     "language": "python",
     "metadata": {},
     "outputs": [],
     "prompt_number": 25
    },
    {
     "cell_type": "code",
     "collapsed": false,
     "input": [
      "# to eliminate review entry from 1999\n",
      "usr_rv_frame= usr_rv_frame[usr_rv_frame['year']>=2008].copy(deep=True)"
     ],
     "language": "python",
     "metadata": {},
     "outputs": [],
     "prompt_number": 26
    },
    {
     "cell_type": "code",
     "collapsed": false,
     "input": [
      "avg_usr_rv_frame = usr_rv_frame.groupby(['year','month'], \n",
      "                                     as_index = False)['User Review Score', 'year', 'month'].mean()"
     ],
     "language": "python",
     "metadata": {},
     "outputs": [],
     "prompt_number": 30
    },
    {
     "cell_type": "code",
     "collapsed": false,
     "input": [
      "avg_usr_rv_frame.boxplot('User Review Score', by = 'year', rot = 90)\n",
      "plt.ylabel('User Review Score')\n",
      "plt.ylim(3,4.5)\n",
      "plt.show"
     ],
     "language": "python",
     "metadata": {},
     "outputs": [
      {
       "metadata": {},
       "output_type": "pyout",
       "prompt_number": 31,
       "text": [
        "<function matplotlib.pyplot.show>"
       ]
      },
      {
       "metadata": {},
       "output_type": "display_data",
       "png": "[encoded data removed]",
       "text": [
        "<matplotlib.figure.Figure at 0x16e7e710>"
       ]
      }
     ],
     "prompt_number": 31
    },
    {
     "cell_type": "markdown",
     "metadata": {},
     "source": [
      "We see there is a noticeable decline in the median (and average) monthly  review over the years. "
     ]
    },
    {
     "cell_type": "markdown",
     "metadata": {},
     "source": [
      "### Do user reviews correlate with critics score?"
     ]
    },
    {
     "cell_type": "markdown",
     "metadata": {},
     "source": [
      "To compute the correlation between user reviews and critic reviews we first merge the two data frames"
     ]
    },
    {
     "cell_type": "code",
     "collapsed": false,
     "input": [
      "from pandas import merge\n",
      "\n",
      "all_rvs = merge(unique_rvs, game_frame, how = 'inner')\n",
      "all_rvs.head()"
     ],
     "language": "python",
     "metadata": {},
     "outputs": [
      {
       "html": [
        "<div style=\"max-height:1000px;max-width:1500px;overflow:auto;\">\n",
        "<table border=\"1\" class=\"dataframe\">\n",
        "  <thead>\n",
        "    <tr style=\"text-align: right;\">\n",
        "      <th></th>\n",
        "      <th>Name</th>\n",
        "      <th>User Review Score</th>\n",
        "      <th>Giant Bomb Score</th>\n",
        "      <th>Reviewer</th>\n",
        "      <th>Date of Review</th>\n",
        "      <th>year</th>\n",
        "      <th>month</th>\n",
        "    </tr>\n",
        "  </thead>\n",
        "  <tbody>\n",
        "    <tr>\n",
        "      <th>0</th>\n",
        "      <td>                007 Legends</td>\n",
        "      <td> 2.000000</td>\n",
        "      <td> 2</td>\n",
        "      <td> Alex</td>\n",
        "      <td>2012-10-18 13:00:00</td>\n",
        "      <td> 2012</td>\n",
        "      <td> 10</td>\n",
        "    </tr>\n",
        "    <tr>\n",
        "      <th>1</th>\n",
        "      <td>         1942: Joint Strike</td>\n",
        "      <td> 3.333333</td>\n",
        "      <td> 3</td>\n",
        "      <td> Jeff</td>\n",
        "      <td>2008-08-20 14:00:00</td>\n",
        "      <td> 2008</td>\n",
        "      <td>  8</td>\n",
        "    </tr>\n",
        "    <tr>\n",
        "      <th>2</th>\n",
        "      <td>         3D Dot Game Heroes</td>\n",
        "      <td> 3.333333</td>\n",
        "      <td> 3</td>\n",
        "      <td> Ryan</td>\n",
        "      <td>2010-05-12 20:00:00</td>\n",
        "      <td> 2010</td>\n",
        "      <td>  5</td>\n",
        "    </tr>\n",
        "    <tr>\n",
        "      <th>3</th>\n",
        "      <td> 50 Cent: Blood on the Sand</td>\n",
        "      <td> 3.214286</td>\n",
        "      <td> 3</td>\n",
        "      <td> Jeff</td>\n",
        "      <td>2009-02-24 08:00:00</td>\n",
        "      <td> 2009</td>\n",
        "      <td>  2</td>\n",
        "    </tr>\n",
        "    <tr>\n",
        "      <th>4</th>\n",
        "      <td>         A Boy and His Blob</td>\n",
        "      <td> 3.666667</td>\n",
        "      <td> 4</td>\n",
        "      <td> Ryan</td>\n",
        "      <td>2009-10-23 11:00:00</td>\n",
        "      <td> 2009</td>\n",
        "      <td> 10</td>\n",
        "    </tr>\n",
        "  </tbody>\n",
        "</table>\n",
        "</div>"
       ],
       "metadata": {},
       "output_type": "pyout",
       "prompt_number": 34,
       "text": [
        "                         Name  User Review Score  Giant Bomb Score Reviewer  \\\n",
        "0                 007 Legends           2.000000                 2     Alex   \n",
        "1          1942: Joint Strike           3.333333                 3     Jeff   \n",
        "2          3D Dot Game Heroes           3.333333                 3     Ryan   \n",
        "3  50 Cent: Blood on the Sand           3.214286                 3     Jeff   \n",
        "4          A Boy and His Blob           3.666667                 4     Ryan   \n",
        "\n",
        "       Date of Review  year  month  \n",
        "0 2012-10-18 13:00:00  2012     10  \n",
        "1 2008-08-20 14:00:00  2008      8  \n",
        "2 2010-05-12 20:00:00  2010      5  \n",
        "3 2009-02-24 08:00:00  2009      2  \n",
        "4 2009-10-23 11:00:00  2009     10  "
       ]
      }
     ],
     "prompt_number": 34
    },
    {
     "cell_type": "markdown",
     "metadata": {},
     "source": [
      "We present a scatter plot to illustrate the relationship."
     ]
    },
    {
     "cell_type": "code",
     "collapsed": false,
     "input": [
      "all_rvs.plot(x = \"User Review Score\", y = 'Giant Bomb Score', kind = 'scatter',figsize=(8,6), title = 'Correlation between Staff and User Review Scores')"
     ],
     "language": "python",
     "metadata": {},
     "outputs": [
      {
       "metadata": {},
       "output_type": "pyout",
       "prompt_number": 35,
       "text": [
        "<matplotlib.axes.AxesSubplot at 0x16bdba58>"
       ]
      },
      {
       "metadata": {},
       "output_type": "display_data",
       "png": "[encoded data removed]",
       "text": [
        "<matplotlib.figure.Figure at 0x17a2bf98>"
       ]
      }
     ],
     "prompt_number": 35
    },
    {
     "cell_type": "markdown",
     "metadata": {},
     "source": [
      "And then we compute the correlation between the two data sets."
     ]
    },
    {
     "cell_type": "code",
     "collapsed": false,
     "input": [
      "print 'Correlation between User Reviews and Critics Reviews: ', all_rvs['Giant Bomb Score'].corr(all_rvs['User Review Score'])"
     ],
     "language": "python",
     "metadata": {},
     "outputs": [
      {
       "output_type": "stream",
       "stream": "stdout",
       "text": [
        "Correlation between User Reviews and Critics Reviews:  "
       ]
      },
      {
       "output_type": "stream",
       "stream": "stdout",
       "text": [
        "0.704367844191\n"
       ]
      }
     ],
     "prompt_number": 36
    },
    {
     "cell_type": "markdown",
     "metadata": {},
     "source": [
      "There is a strong correlation between user reviews and critics reviews."
     ]
    },
    {
     "cell_type": "code",
     "collapsed": false,
     "input": [],
     "language": "python",
     "metadata": {},
     "outputs": []
    },
    {
     "cell_type": "code",
     "collapsed": false,
     "input": [
      "# special IPython command to prepare the notebook for matplotlib\n",
      "%matplotlib inline \n",
      "\n",
      "import json\n",
      "\n",
      "from pandas import DataFrame\n",
      "\n",
      "import scipy.stats\n",
      "from scipy.stats import norm\n",
      "import matplotlib.mlab as mlab\n",
      "import csv\n",
      "\n",
      "\n",
      "import requests \n",
      "import numpy as np\n",
      "import pandas as pd # pandas\n",
      "import matplotlib.pyplot as plt # module for plotting "
     ],
     "language": "python",
     "metadata": {},
     "outputs": [],
     "prompt_number": 4
    },
    {
     "cell_type": "code",
     "collapsed": false,
     "input": [
      "#nice defaults for matplotlib\n",
      "from matplotlib import rcParams\n",
      "\n",
      "dark2_colors = [(0.10588235294117647, 0.6196078431372549, 0.4666666666666667),\n",
      "                (0.8509803921568627, 0.37254901960784315, 0.00784313725490196),\n",
      "                (0.4588235294117647, 0.4392156862745098, 0.7019607843137254),\n",
      "                (0.9058823529411765, 0.1607843137254902, 0.5411764705882353),\n",
      "                (0.4, 0.6509803921568628, 0.11764705882352941),\n",
      "                (0.9019607843137255, 0.6705882352941176, 0.00784313725490196),\n",
      "                (0.6509803921568628, 0.4627450980392157, 0.11372549019607843),\n",
      "                (0.4, 0.4, 0.4)]\n",
      "\n",
      "rcParams['figure.figsize'] = (10, 6)\n",
      "rcParams['figure.dpi'] = 150\n",
      "rcParams['axes.color_cycle'] = dark2_colors\n",
      "rcParams['lines.linewidth'] = 2\n",
      "rcParams['axes.grid'] = True\n",
      "rcParams['axes.facecolor'] = '#eeeeee'\n",
      "rcParams['font.size'] = 14\n",
      "rcParams['patch.edgecolor'] = 'none'"
     ],
     "language": "python",
     "metadata": {},
     "outputs": [],
     "prompt_number": 2
    },
    {
     "cell_type": "markdown",
     "metadata": {},
     "source": [
      "# Video Game Reviews: Text Classification and Predicted Ratings #"
     ]
    },
    {
     "cell_type": "markdown",
     "metadata": {},
     "source": []
    },
    {
     "cell_type": "markdown",
     "metadata": {},
     "source": [
      "The goal of our analysis was to determine which words in the review summaries for video games are most closely associated with a positive video game score. For the baseline classification model, we applied a Naive Bayes classifier(http://www.statsoft.com/textbook/naive-bayes-classifier) to determine the likelihood that the review summary for a game was associated with a \"good\" (higher than the mean) or \"bad\" (lower than the mean) review score. As supporting analysis, we investigated some meta-data questions to see what other variables might affect the distribution of video game scores. \n",
      "\n",
      "As a wider application of this analysis we hope to apply textual classification on less formal video game discussions and thereby be able to draw from a wider assortment of sites (not just review sites) to determine general online sentiment associated with a video game.  \n",
      "\n"
     ]
    },
    {
     "cell_type": "markdown",
     "metadata": {},
     "source": [
      "## I. Data Collection and Exploratory Analysis"
     ]
    },
    {
     "cell_type": "markdown",
     "metadata": {},
     "source": [
      "We used video game review data from two primary sources: Game Spot (gamespot.com) and Giant Bomb (giantbomb.com). Both websites are well maintained gaming sites with many users and many reviews. For our analysis the two fundamental disparities between the two sites were Game Spot\u2019s comparatively larger collection of staff reviews (Game Spot has roughly 13,000 staff reviews while Giant Bomb has only 700), and the existence of a Giant Bomb API for application development and data analysis. Game Spot\u2019s high number of user reviews makes its data set amenable to the score-text classification analysis developed in another part of the project, but because the site did not have an API, the relevant data had to be carefully scraped from each review webpage. Alternatively, the Giant Bomb API allows us to flexibly and easily answer many quantitative questions on gaming statistics, but the small staff review set means that any score-text classification would have a larger source of error. Another quantitative difference between the two sites, relevant for a later analysis of our scoring data, is that the video game scores provided by Giant Bomb ranged from 1 to 5, while the scores provided by Game Spot ranged from 1 to 10. \n",
      "\n",
      "We capitalized on the differences between the two data sets by using each set to answer the questions it most conveniently could. From Game Spot, we scraped all 13,000+ staff game reviews for four elements: the name of the game; the review score of the game; the date of the review; the single sentence summary of the review. These were the elements needed in our basic text classification analysis. (The method of data scraping from Game Spot is described in another notebook; possibly)\n",
      "\n",
      "The Giant Bomb data was then slated to be used as a sandbox to answer some more general questions about the meta-data which could effect staff reviews on gaming sites. The Giant Bomb data was also used to consider the possibility of extending the score-text classification to analyze reviews written by general internet users rather than formal gaming site staff. The hope is that by first calibrating the text-classifier with formal staff reviews, one could then inspect any online text referring to a game and come up with a binary evaluation whether that text is referring to the game favorably or not favorably. \n"
     ]
    },
    {
     "cell_type": "markdown",
     "metadata": {},
     "source": [
      "### I.A. Giant Bomb Data Collection"
     ]
    },
    {
     "cell_type": "markdown",
     "metadata": {},
     "source": [
      "From Giant Bomb we collected statistics on video game reviews written by the Giant Bomb staff and written by the users who sign up (for free) on the site. The method of data collection from Giant Bomb went as follows. "
     ]
    },
    {
     "cell_type": "markdown",
     "metadata": {},
     "source": [
      "We first signed up for user access and requested an API key through the link http://www.giantbomb.com/api/ . After acquiring a key, the full Giant Bomb API was available to us at a rate limit of 400 requests every 15 minutes. "
     ]
    },
    {
     "cell_type": "code",
     "collapsed": false,
     "input": [
      "# definition of API Key\n",
      "key = '4e5fb6427e24a4c3b594157915684189d9c72297'"
     ],
     "language": "python",
     "metadata": {},
     "outputs": [],
     "prompt_number": 3
    },
    {
     "cell_type": "markdown",
     "metadata": {},
     "source": [
      "The Giant Bomb API is conveniently organized to be accessed through certain keywords. The first Giant Bomb data set we built was for the staff review data, and so we accessed http://www.giantbomb.com/api/reviews . The elements we extracted were the name of the game, the score given to the game, the staff person who reviewed the game, and the date of the review. "
     ]
    },
    {
     "cell_type": "code",
     "collapsed": false,
     "input": [
      "## creating a dictionary of game names, score, reviewer, and review date\n",
      "\n",
      "# This code collects giant bomb staff review data. We collect \n",
      "# - the name of the game\n",
      "# - the name of the reviewer\n",
      "# - the date of the review\n",
      "# - the review score\n",
      "#\n",
      "# Date and time of collection: 12/4/2014 7:28 PM\n",
      "\n",
      "staff_g_names = list()\n",
      "staff_g_score = list()\n",
      "staff_g_reviewer = list()\n",
      "staff_g_rv_date = list()\n",
      "\n",
      "for offset in np.array(range(7))*100: # cycle through possible offests\n",
      "\n",
      "    url_reviews = 'http://www.giantbomb.com/api/reviews/?api_key=' + key + '&format=json&offset=' + str(offset)\n",
      "    \n",
      "    resp_review = requests.get(url_reviews)\n",
      "    \n",
      "    review_info = json.loads(resp_review.text)\n",
      "\n",
      "    game_results = review_info['results']\n",
      "\n",
      "    for elem in game_results:\n",
      "        game = elem['game']\n",
      "        if type(game) == dict: # to ensure that we only consider non-empty entries\n",
      "            staff_g_score.append(elem['score'])\n",
      "            staff_g_names.append(game['name'])\n",
      "            staff_g_reviewer.append(elem['reviewer'])\n",
      "            staff_g_rv_date.append(elem['publish_date'])\n",
      "            "
     ],
     "language": "python",
     "metadata": {},
     "outputs": []
    },
    {
     "cell_type": "markdown",
     "metadata": {},
     "source": [
      "Because the video game name data included some elements which we could not directly write to strings (for example, some names are written with accents and other non-ascii typographical characters), we had to define an encoding function to convert the names into writable elements. "
     ]
    },
    {
     "cell_type": "code",
     "collapsed": false,
     "input": [
      "# allows us to encode unicode objects so they're writable as strings\n",
      "# necessary so we can write to file\n",
      "# uses http://stackoverflow.com/questions/6048085/python-write-unicode-text-to-a-text-file\n",
      "\n",
      "def encoding(list_):\n",
      "    new_ls = list()\n",
      "    for k in range(len(list_)):\n",
      "        string = list_[k].encode('utf8')\n",
      "        new_ls.append(string)\n",
      "    return new_ls"
     ],
     "language": "python",
     "metadata": {},
     "outputs": [],
     "prompt_number": 5
    },
    {
     "cell_type": "markdown",
     "metadata": {},
     "source": [
      "We then defined a dictionary of all our relevant data."
     ]
    },
    {
     "cell_type": "code",
     "collapsed": false,
     "input": [
      "# defines data dictionary \n",
      "staff_rv_dict = {'Name': encoding(staff_g_names), 'Giant Bomb Score': staff_g_score, 'Reviewer': staff_g_reviewer, 'Date of Review': staff_g_rv_date }"
     ],
     "language": "python",
     "metadata": {},
     "outputs": []
    },
    {
     "cell_type": "markdown",
     "metadata": {},
     "source": [
      "And then we wrote the dictionary to a file. The code below is commented out in order to prevent an accidental erasure of already accumulated data. "
     ]
    },
    {
     "cell_type": "code",
     "collapsed": false,
     "input": [
      "# This code writes the staff review data to a stable file. \n",
      "# Date and time of writing: 12/4/2014 7:30 PM\n",
      "\n",
      "## CODE IS COMMENTED SO FIlE IS NOT OVERWRITTEN\n",
      "\n",
      "## DO NOT UNCOMMENT AND WRITE AGAIN UNLESS YOU\n",
      "## 1) change the name of the file you're writing to\n",
      "## 2) no longer need the data you already wrote\n",
      "\n",
      "#with open('data/gb_staff_review_data_12_04_2014.csv', 'wb') as f:  # Just use 'w' mode in 3.x\n",
      "#    w = csv.DictWriter(f, fieldnames = staff_rv_dict.keys())\n",
      "#    w.writeheader()\n",
      "\n",
      "#    for k in range(len(staff_g_names)):\n",
      "#        w.writerow({'Name': encoding(staff_g_names)[k], 'Giant Bomb Score': staff_g_score[k], 'Reviewer': staff_g_reviewer[k], 'Date of Review':staff_g_rv_date[k]})"
     ],
     "language": "python",
     "metadata": {},
     "outputs": []
    },
    {
     "cell_type": "markdown",
     "metadata": {},
     "source": [
      "-------------------\n"
     ]
    },
    {
     "cell_type": "markdown",
     "metadata": {},
     "source": [
      "The second Giant Bomb data set we built was for user review data, and so we accessed http://www.giantbomb.com/api/user_reviews . Similar to the staff review data we extracted the name of the game, the score given to the game by the user, the user who reviewed the game, and the date of the review. Also, because the user review data set was much larger than the staff review data set (24,000 vs. 600) and contained games with multiple reviews, we also extracted the game ID number for each game to provide an additional measure of identification. "
     ]
    },
    {
     "cell_type": "code",
     "collapsed": false,
     "input": [
      "# This code collects user review data. We collect \n",
      "# - the name of the game\n",
      "# - the name of the reviewer\n",
      "# - the date of the review\n",
      "# - the review score\n",
      "# - the game id\n",
      "# Date and time of collection: 12/4/2014 7:27 PM\n",
      "\n",
      "usr_g_names = list()\n",
      "usr_g_score = list()\n",
      "usr_g_reviewer = list()\n",
      "usr_g_rv_date = list()\n",
      "g_id = list()\n",
      "\n",
      "for offset in np.array(range(264))*100:\n",
      "    url_usrreviews = 'http://www.giantbomb.com/api/user_reviews/?api_key=' + key + '&format=json&offset=' + str(offset)\n",
      "\n",
      "    # response format for API\n",
      "    resp_usrreview = requests.get(url_usrreviews)\n",
      "\n",
      "    # loads text of response into json format\n",
      "    usrreview_info = json.loads(resp_usrreview.text)\n",
      "\n",
      "    # redefine list\n",
      "    usr_rvs = usrreview_info['results']\n",
      "\n",
      "    for k in range(len(usr_rvs)):\n",
      "        elem = usr_rvs[k]\n",
      "\n",
      "        if elem['wikiObject'] != None:\n",
      "            usr_g_score.append(elem['score'])\n",
      "            usr_g_names.append(elem['wikiObject'])\n",
      "            usr_g_reviewer.append(elem['reviewer'])\n",
      "            usr_g_rv_date.append(elem['date_added'])\n",
      "            url = elem['site_detail_url']\n",
      "            g_id.append(url.rsplit('/')[4])"
     ],
     "language": "python",
     "metadata": {},
     "outputs": []
    },
    {
     "cell_type": "markdown",
     "metadata": {},
     "source": [
      "Defining a dictionary for the relevant data. "
     ]
    },
    {
     "cell_type": "code",
     "collapsed": false,
     "input": [
      "# defines dictionary we're going to write to file\n",
      "usr_rv_dict = {'Name': encoding(usr_g_names), 'User Review Score': usr_g_score, 'User Reviewer': usr_g_reviewer, 'Date of Review':usr_g_rv_date, \n",
      "               'Game Id': g_id }"
     ],
     "language": "python",
     "metadata": {},
     "outputs": []
    },
    {
     "cell_type": "markdown",
     "metadata": {},
     "source": [
      "Writing the dictionary to a file. "
     ]
    },
    {
     "cell_type": "code",
     "collapsed": false,
     "input": [
      "# This code writes the user review data to a stable file. \n",
      "# Date and time of writing: 12/4/2014 7:32 PM\n",
      "\n",
      "## DO NOT UNCOMMENT AND WRITE AGAIN UNLESS YOU\n",
      "## 1) change the name of the file you're writing to\n",
      "## 2) no longer need the data you already wrote\n",
      "\n",
      "#with open('data/gb_user_review_data_12_04_2014.csv', 'wb') as f:  # Just use 'w' mode in 3.x\n",
      "#    w = csv.DictWriter(f, fieldnames = usr_rv_dict.keys())\n",
      "#    w.writeheader()\n",
      "\n",
      "#    for k in range(len(usr_g_names)):\n",
      "#        w.writerow({'Name': encoding(usr_g_names)[k], 'User Review Score': usr_g_score[k], 'User Reviewer': usr_g_reviewer[k], 'Date of Review':usr_g_rv_date[k], \n",
      "#               'Game Id': g_id[k] })"
     ],
     "language": "python",
     "metadata": {},
     "outputs": []
    },
    {
     "cell_type": "markdown",
     "metadata": {},
     "source": [
      "### I.B. Giant Bomb Exploratory Analysis"
     ]
    },
    {
     "cell_type": "markdown",
     "metadata": {},
     "source": [
      "#### What is the distribution of staff review scores?\n",
      "\n",
      "Our collected staff review data includes the staff member who reviewed the game, the date the game was reviewed and the score given to the game. The most basic question we can ask about the data is what is the distribution of all staff review scores. "
     ]
    },
    {
     "cell_type": "markdown",
     "metadata": {},
     "source": [
      "Using our collected data to define a data frame"
     ]
    },
    {
     "cell_type": "code",
     "collapsed": false,
     "input": [
      "staff_rv_frame = pd.read_csv('data/gb_staff_review_data_12_04_2014.csv')[['Name', 'Giant Bomb Score', 'Reviewer', 'Date of Review']]"
     ],
     "language": "python",
     "metadata": {},
     "outputs": [],
     "prompt_number": 6
    },
    {
     "cell_type": "markdown",
     "metadata": {},
     "source": [
      "and printing the head of the frame and the number of elements, we have"
     ]
    },
    {
     "cell_type": "code",
     "collapsed": false,
     "input": [
      "staff_rv_frame.head()"
     ],
     "language": "python",
     "metadata": {},
     "outputs": [
      {
       "html": [
        "<div style=\"max-height:1000px;max-width:1500px;overflow:auto;\">\n",
        "<table border=\"1\" class=\"dataframe\">\n",
        "  <thead>\n",
        "    <tr style=\"text-align: right;\">\n",
        "      <th></th>\n",
        "      <th>Name</th>\n",
        "      <th>Giant Bomb Score</th>\n",
        "      <th>Reviewer</th>\n",
        "      <th>Date of Review</th>\n",
        "    </tr>\n",
        "  </thead>\n",
        "  <tbody>\n",
        "    <tr>\n",
        "      <th>0</th>\n",
        "      <td>                                 SingStar</td>\n",
        "      <td> 4</td>\n",
        "      <td> Jeff</td>\n",
        "      <td> 2008-05-23 13:00:00</td>\n",
        "    </tr>\n",
        "    <tr>\n",
        "      <th>1</th>\n",
        "      <td>                                     Haze</td>\n",
        "      <td> 2</td>\n",
        "      <td> Jeff</td>\n",
        "      <td> 2008-05-20 17:00:00</td>\n",
        "    </tr>\n",
        "    <tr>\n",
        "      <th>2</th>\n",
        "      <td> Metal Gear Solid 4: Guns of the Patriots</td>\n",
        "      <td> 5</td>\n",
        "      <td> Brad</td>\n",
        "      <td> 2008-06-20 12:00:00</td>\n",
        "    </tr>\n",
        "    <tr>\n",
        "      <th>3</th>\n",
        "      <td>                              Poker Smash</td>\n",
        "      <td> 4</td>\n",
        "      <td> Jeff</td>\n",
        "      <td> 2008-02-29 12:00:00</td>\n",
        "    </tr>\n",
        "    <tr>\n",
        "      <th>4</th>\n",
        "      <td>                 Battlefield: Bad Company</td>\n",
        "      <td> 5</td>\n",
        "      <td> Jeff</td>\n",
        "      <td> 2008-07-06 12:00:00</td>\n",
        "    </tr>\n",
        "  </tbody>\n",
        "</table>\n",
        "</div>"
       ],
       "metadata": {},
       "output_type": "pyout",
       "prompt_number": 7,
       "text": [
        "                                       Name  Giant Bomb Score Reviewer  \\\n",
        "0                                  SingStar                 4     Jeff   \n",
        "1                                      Haze                 2     Jeff   \n",
        "2  Metal Gear Solid 4: Guns of the Patriots                 5     Brad   \n",
        "3                               Poker Smash                 4     Jeff   \n",
        "4                  Battlefield: Bad Company                 5     Jeff   \n",
        "\n",
        "        Date of Review  \n",
        "0  2008-05-23 13:00:00  \n",
        "1  2008-05-20 17:00:00  \n",
        "2  2008-06-20 12:00:00  \n",
        "3  2008-02-29 12:00:00  \n",
        "4  2008-07-06 12:00:00  "
       ]
      }
     ],
     "prompt_number": 7
    },
    {
     "cell_type": "code",
     "collapsed": false,
     "input": [
      "print 'Number of staff reviews: ', len(staff_rv_frame)"
     ],
     "language": "python",
     "metadata": {},
     "outputs": [
      {
       "output_type": "stream",
       "stream": "stdout",
       "text": [
        "Number of staff reviews:  652\n"
       ]
      }
     ],
     "prompt_number": 10
    },
    {
     "cell_type": "markdown",
     "metadata": {},
     "source": [
      "And now plotting a simple histogram of scores, gives us"
     ]
    },
    {
     "cell_type": "code",
     "collapsed": false,
     "input": [
      "# Histogram distribution of Giant Bomb Scores\n",
      "\n",
      "plt.figure(figsize=(8,6))\n",
      "n, bins, patches = plt.hist(staff_rv_frame['Giant Bomb Score'], 15)\n",
      "plt.title(\" Distribution of Giant Bomb Game Scores\")\n",
      "plt.xlabel(\"Score\")\n",
      "plt.ylabel(\"Numbers of Occurences\")"
     ],
     "language": "python",
     "metadata": {},
     "outputs": [
      {
       "metadata": {},
       "output_type": "pyout",
       "prompt_number": 11,
       "text": [
        "<matplotlib.text.Text at 0xc2c1a20>"
       ]
      },
      {
       "metadata": {},
       "output_type": "display_data",
       "png": "[encoded data removed]",
       "text": [
        "<matplotlib.figure.Figure at 0xc415f98>"
       ]
      }
     ],
     "prompt_number": 11
    },
    {
     "cell_type": "markdown",
     "metadata": {},
     "source": [
      "We see that 4/5 is the most common score given by staff to video games, followed by 3/5, then 5/5. Taking 3/5 to be define an average game, interestingly, we see that the most of the games the Giant Bomb staff reviews appear to be above average. This is perhaps not too surprising: The Giant Bomb staff cannot review all newly released games and consequently must choose the games which are most likely to be played by its user base. The games most likely to be played by the user base would tend to be the franchise (*e.g. Batman: Arkham Asylum* or *Pokemon*) or more heavily advertised games which are connected to big name publishers such as Activision or Nintendo. Because of the financial resources at the disposal of these publishers it\u2019s not unreasonable to expect that the quality of the games they publish are generally better than average. "
     ]
    },
    {
     "cell_type": "markdown",
     "metadata": {},
     "source": [
      "We see this \u2018high mean\u2019 effect in the Game Spot data as well. The Game Spot score spectrum runs from 1 to 10, but most of the games reviewed by the Game Spot staff are give a score of 7 or 9. \n",
      "\n",
      "--------"
     ]
    },
    {
     "cell_type": "markdown",
     "metadata": {},
     "source": [
      "#### Do different reviewers have different distributions of scores?\n",
      "\n",
      "Now, given that the games are reviewed and scored by different people, we can ask whether some Giant Bomb reviewers are more stringent reviewers than others. Namely, we want to know the distribution of review scores for all of Giant Bomb\u2019s reviewers. "
     ]
    },
    {
     "cell_type": "markdown",
     "metadata": {},
     "source": [
      "First we need to determine who Giant Bomb\u2019s reviewers are. This can be easily done by finding the unique elements in the list of reviewers. "
     ]
    },
    {
     "cell_type": "code",
     "collapsed": false,
     "input": [
      "rvwr_list = list(set(staff_rv_frame['Reviewer']))\n",
      "rvwr_list"
     ],
     "language": "python",
     "metadata": {},
     "outputs": [
      {
       "metadata": {},
       "output_type": "pyout",
       "prompt_number": 15,
       "text": [
        "['Matt',\n",
        " 'Alex',\n",
        " 'Jeff',\n",
        " 'Patrick',\n",
        " 'Dan',\n",
        " 'Ryan',\n",
        " 'Dave',\n",
        " 'Andy',\n",
        " 'Vinny',\n",
        " 'Brad',\n",
        " 'Drew']"
       ]
      }
     ],
     "prompt_number": 15
    },
    {
     "cell_type": "markdown",
     "metadata": {},
     "source": [
      "For each reviewer we can also subset our main data frame to include only reviews written by that particular reviewer. "
     ]
    },
    {
     "cell_type": "code",
     "collapsed": false,
     "input": [
      "# creating dictionary of data frames for each reviewer\n",
      "rvwr_frames = dict()\n",
      "for elem in rvwr_list: \n",
      "    rvwr_frames[elem] = staff_rv_frame[staff_rv_frame['Reviewer']==elem]"
     ],
     "language": "python",
     "metadata": {},
     "outputs": [],
     "prompt_number": 18
    },
    {
     "cell_type": "code",
     "collapsed": false,
     "input": [
      "rvwr_frames['Brad'].head()"
     ],
     "language": "python",
     "metadata": {},
     "outputs": [
      {
       "html": [
        "<div style=\"max-height:1000px;max-width:1500px;overflow:auto;\">\n",
        "<table border=\"1\" class=\"dataframe\">\n",
        "  <thead>\n",
        "    <tr style=\"text-align: right;\">\n",
        "      <th></th>\n",
        "      <th>Name</th>\n",
        "      <th>Giant Bomb Score</th>\n",
        "      <th>Reviewer</th>\n",
        "      <th>Date of Review</th>\n",
        "    </tr>\n",
        "  </thead>\n",
        "  <tbody>\n",
        "    <tr>\n",
        "      <th>2 </th>\n",
        "      <td>    Metal Gear Solid 4: Guns of the Patriots</td>\n",
        "      <td> 5</td>\n",
        "      <td> Brad</td>\n",
        "      <td> 2008-06-20 12:00:00</td>\n",
        "    </tr>\n",
        "    <tr>\n",
        "      <th>5 </th>\n",
        "      <td> LEGO Indiana Jones: The Original Adventures</td>\n",
        "      <td> 3</td>\n",
        "      <td> Brad</td>\n",
        "      <td> 2008-07-02 12:00:00</td>\n",
        "    </tr>\n",
        "    <tr>\n",
        "      <th>45</th>\n",
        "      <td>                                 Space Siege</td>\n",
        "      <td> 3</td>\n",
        "      <td> Brad</td>\n",
        "      <td> 2008-08-21 14:00:00</td>\n",
        "    </tr>\n",
        "    <tr>\n",
        "      <th>49</th>\n",
        "      <td>            Viva Pi\u00f1ata: Trouble in Paradise</td>\n",
        "      <td> 4</td>\n",
        "      <td> Brad</td>\n",
        "      <td> 2008-09-03 18:00:00</td>\n",
        "    </tr>\n",
        "    <tr>\n",
        "      <th>53</th>\n",
        "      <td>                                       Spore</td>\n",
        "      <td> 4</td>\n",
        "      <td> Brad</td>\n",
        "      <td> 2008-09-08 19:00:00</td>\n",
        "    </tr>\n",
        "  </tbody>\n",
        "</table>\n",
        "</div>"
       ],
       "metadata": {},
       "output_type": "pyout",
       "prompt_number": 19,
       "text": [
        "                                           Name  Giant Bomb Score Reviewer  \\\n",
        "2      Metal Gear Solid 4: Guns of the Patriots                 5     Brad   \n",
        "5   LEGO Indiana Jones: The Original Adventures                 3     Brad   \n",
        "45                                  Space Siege                 3     Brad   \n",
        "49             Viva Pi\u00f1ata: Trouble in Paradise                 4     Brad   \n",
        "53                                        Spore                 4     Brad   \n",
        "\n",
        "         Date of Review  \n",
        "2   2008-06-20 12:00:00  \n",
        "5   2008-07-02 12:00:00  \n",
        "45  2008-08-21 14:00:00  \n",
        "49  2008-09-03 18:00:00  \n",
        "53  2008-09-08 19:00:00  "
       ]
      }
     ],
     "prompt_number": 19
    },
    {
     "cell_type": "markdown",
     "metadata": {},
     "source": [
      "Then, if we are to see how the distribution of review scores changes according to the reviewer we need to make sure we have enough reviews for each reviewer. Let\u2019s let 100 be a minimum number of reviews for us to consider the reviewer as a significant statistical part of Giant Bomb\u2019s total review database. Printing the number of reviews written by each reviewer, we find that only Alex, Jeff, Ryan, and Brad have more than 100 reviews. "
     ]
    },
    {
     "cell_type": "code",
     "collapsed": false,
     "input": [
      "# number of reviews for each reviewer\n",
      "for name in rvwr_frames.keys():\n",
      "    print name +': ',len(rvwr_frames[name])"
     ],
     "language": "python",
     "metadata": {},
     "outputs": [
      {
       "output_type": "stream",
       "stream": "stdout",
       "text": [
        "Matt:  8\n",
        "Alex:  106\n",
        "Jeff:  251\n",
        "Patrick:  24\n",
        "Dan:  5\n",
        "Ryan:  107\n",
        "Dave:  9\n",
        "Andy:  1\n",
        "Vinny:  9\n",
        "Brad:  130\n",
        "Drew:  2\n"
       ]
      }
     ],
     "prompt_number": 20
    },
    {
     "cell_type": "markdown",
     "metadata": {},
     "source": [
      "We can then plot the distribution of review scores for these reviewers. "
     ]
    },
    {
     "cell_type": "code",
     "collapsed": false,
     "input": [
      "## score distributions of the top reviewers\n",
      "\n",
      "Rvw_list = ['Brad', 'Jeff', 'Alex', 'Ryan']\n",
      "\n",
      "for reviewer in Rvw_list:\n",
      "    \n",
      "    g_score = list(rvwr_frames[reviewer]['Giant Bomb Score'])\n",
      "    \n",
      "    plt.figure(figsize=(6,5))\n",
      "    \n",
      "    n, bins, patches = plt.hist(g_score, 15)\n",
      "    \n",
      "    plt.title(reviewer+\": Distribution of Giant Bomb Game Scores\")\n",
      "    \n",
      "    plt.xlabel(\"Score\")\n",
      "    \n",
      "    plt.ylabel(\"Numbers of Occurences\")\n",
      "    \n",
      "    plt.show()"
     ],
     "language": "python",
     "metadata": {},
     "outputs": [
      {
       "metadata": {},
       "output_type": "display_data",
       "png": "[encoded data removed]",
       "text": [
        "<matplotlib.figure.Figure at 0xc7cc400>"
       ]
      },
      {
       "metadata": {},
       "output_type": "display_data",
       "png": "[encoded data removed]",
       "text": [
        "<matplotlib.figure.Figure at 0x16023400>"
       ]
      },
      {
       "metadata": {},
       "output_type": "display_data",
       "png": "[encoded data removed]",
       "text": [
        "<matplotlib.figure.Figure at 0x16182550>"
       ]
      },
      {
       "metadata": {},
       "output_type": "display_data",
       "png": "[encoded data removed]",
       "text": [
        "<matplotlib.figure.Figure at 0x15e07048>"
       ]
      }
     ],
     "prompt_number": 22
    },
    {
     "cell_type": "markdown",
     "metadata": {},
     "source": [
      "We see that each distribution has the same shape as the total distribution of Giant Bomb scores. Thus no staff reviewers significantly deviate from the aforementioned high mean effect. Still, there are slight variances in the score distributions. We can highlight these variances by defining a stringency score:\n",
      "\n",
      "$$ \\text{stringency score} = \\frac{\\text{# of reviews with score }< 4}{\\text{# of total reviews}} $$\n",
      "\n",
      "The closer the stringency score is to 1, the more often the reviewer assigns scores which are below the mean, and the more \u2018stringent\u2019 we can claim he is. Listing the stringency scores for each of the above reviewers we have"
     ]
    },
    {
     "cell_type": "code",
     "collapsed": false,
     "input": [
      "for reviewer in ['Brad', 'Jeff', 'Alex', 'Ryan']:\n",
      "    num_of_less_4_rvs = len(rvwr_frames[reviewer][rvwr_frames[reviewer]['Giant Bomb Score'] <4])\n",
      "    num_of_total_rvs = rvwr_frames[reviewer]\n",
      "    stringency_score = float(num_of_less_4_rvs)/len(num_of_total_rvs)\n",
      "    print reviewer+\"'s\"+' stringency score: ',stringency_score"
     ],
     "language": "python",
     "metadata": {},
     "outputs": [
      {
       "output_type": "stream",
       "stream": "stdout",
       "text": [
        "Brad's stringency score:  0.323076923077\n",
        "Jeff's stringency score:  0.462151394422\n",
        "Alex's stringency score:  0.518867924528\n",
        "Ryan's stringency score:  0.457943925234\n"
       ]
      }
     ],
     "prompt_number": 28
    },
    {
     "cell_type": "markdown",
     "metadata": {},
     "source": [
      "and thus we see that Alex is the most stringent reviewer while Brad is the most lenient. This means all the games Alex reviews will have a mean score to the left of the net Giant Bomb score distribution while Brad's games will have a mean score to the right of the Giant Bomb distribution. This fact is significant because it reveas there are important variations in the data not seen by a na\u00efve binning of all the review scores. \n",
      "\n",
      "--------"
     ]
    },
    {
     "cell_type": "markdown",
     "metadata": {},
     "source": [
      "#### Does the distribution of staff review scores change over time? \n",
      "\n",
      "Another possibly hidden variation is in the time the review was logged. We could ask, is there any variation in the average of Giant Bomb scores from year to year?"
     ]
    },
    {
     "cell_type": "markdown",
     "metadata": {},
     "source": [
      "First converting the date and time datat to the datetime format"
     ]
    },
    {
     "cell_type": "code",
     "collapsed": false,
     "input": [
      "import datetime as dt # module for manipulating dates and times\n",
      "\n",
      "# converting Data of Review to Datetime format\n",
      "staff_rv_frame['Date of Review'] = pd.to_datetime(staff_rv_frame['Date of Review'])"
     ],
     "language": "python",
     "metadata": {},
     "outputs": [],
     "prompt_number": 29
    },
    {
     "cell_type": "markdown",
     "metadata": {},
     "source": [
      "and then plotting the distribution of score values for each year, gives us the following uninformative result"
     ]
    },
    {
     "cell_type": "code",
     "collapsed": false,
     "input": [
      "staff_rv_frame.boxplot('Giant Bomb Score', by = 'year', rot = 90)\n",
      "plt.ylabel('Giant Bomb Score')\n",
      "plt.ylim(0,6)\n",
      "plt.show()"
     ],
     "language": "python",
     "metadata": {},
     "outputs": [
      {
       "metadata": {},
       "output_type": "display_data",
       "png": "[encoded data removed]",
       "text": [
        "<matplotlib.figure.Figure at 0x15dc7e10>"
       ]
      }
     ],
     "prompt_number": 31
    },
    {
     "cell_type": "markdown",
     "metadata": {},
     "source": [
      "This simply states that from year to year, all the review scores maintain roughly the same distribution. To see variations in the distribution over time, it turns out that it is better to plot the distribution of the monthly average of the reviews per year.  "
     ]
    },
    {
     "cell_type": "markdown",
     "metadata": {},
     "source": [
      "First extracting the month and year data from our time data and adding them to our data frame"
     ]
    },
    {
     "cell_type": "code",
     "collapsed": false,
     "input": [
      "# extracts year and month from review\n",
      "staff_rv_frame['year'] = map(lambda x: x.year, staff_rv_frame['Date of Review'])\n",
      "staff_rv_frame['month'] = map(lambda x: x.month, staff_rv_frame['Date of Review'])"
     ],
     "language": "python",
     "metadata": {},
     "outputs": [],
     "prompt_number": 30
    },
    {
     "cell_type": "markdown",
     "metadata": {},
     "source": [
      "And computing the average of the score values by month, "
     ]
    },
    {
     "cell_type": "code",
     "collapsed": false,
     "input": [
      "# compute the average of reviews for each month of a year\n",
      "avg_game_frame = staff_rv_frame.groupby(['year','month'], \n",
      "                                     as_index = False)['Giant Bomb Score', 'year', 'month'].mean()"
     ],
     "language": "python",
     "metadata": {},
     "outputs": [],
     "prompt_number": 32
    },
    {
     "cell_type": "markdown",
     "metadata": {},
     "source": [
      "and then plotting the distribution of these averages over the years, we have"
     ]
    },
    {
     "cell_type": "code",
     "collapsed": false,
     "input": [
      "# plot the distribution of these averages by year\n",
      "avg_game_frame.boxplot('Giant Bomb Score', by = 'year', rot = 90)\n",
      "plt.ylabel('Giant Bomb Score')\n",
      "plt.ylim(0,6)\n",
      "plt.show"
     ],
     "language": "python",
     "metadata": {},
     "outputs": [
      {
       "metadata": {},
       "output_type": "pyout",
       "prompt_number": 33,
       "text": [
        "<function matplotlib.pyplot.show>"
       ]
      },
      {
       "metadata": {},
       "output_type": "display_data",
       "png": "[encoded data removed]",
       "text": [
        "<matplotlib.figure.Figure at 0x15f4f550>"
       ]
      }
     ],
     "prompt_number": 33
    },
    {
     "cell_type": "markdown",
     "metadata": {},
     "source": [
      "We see that aside from the relatively large variance in score distribution in 2013, from year to year the Giant Bomb score remains relatively stable. \n",
      "\n",
      "--------"
     ]
    },
    {
     "cell_type": "markdown",
     "metadata": {},
     "source": [
      "#### What is the distribution of user review scores? \n",
      "\n",
      "We just analyzed the staff reviewer data set. The other more populous data set consists of user reviews. Just to get an idea of the number of elements in this data set we can do an API call directly to Giant Bomb\u2019s site. "
     ]
    },
    {
     "cell_type": "code",
     "collapsed": false,
     "input": [
      "# API for Giant Bomb USER Reviews\n",
      "url_usrreviews = 'http://www.giantbomb.com/api/user_reviews/?api_key=' + key + '&format=json&offset=0' \n",
      "# response format for API\n",
      "resp_usrreview = requests.get(url_usrreviews)\n",
      "# loads text of response into json format\n",
      "usrreview_info = json.loads(resp_usrreview.text)"
     ],
     "language": "python",
     "metadata": {},
     "outputs": [],
     "prompt_number": 34
    },
    {
     "cell_type": "code",
     "collapsed": false,
     "input": [
      "# number of results for single page\n",
      "print 'Total number of user review results: ',usrreview_info['number_of_total_results']"
     ],
     "language": "python",
     "metadata": {},
     "outputs": [
      {
       "output_type": "stream",
       "stream": "stdout",
       "text": [
        "Total number of user API results:  26395\n"
       ]
      }
     ],
     "prompt_number": 35
    },
    {
     "cell_type": "markdown",
     "metadata": {},
     "source": [
      "So we apparently have about 26,000 user reviews. However, some of these API calls produce empty results. For example, when we look at the 25,000th page we find no user review information."
     ]
    },
    {
     "cell_type": "code",
     "collapsed": false,
     "input": [
      "offset = 25000\n",
      "url_usr_review_25k = 'http://www.giantbomb.com/api/user_reviews/?api_key=' + key + '&format=json&offset=' + str(offset)\n",
      "resp_usr_review_25k = requests.get(url_usr_review_25k)\n",
      "usr_review_info_25k = json.loads(resp_usr_review_25k.text)\n",
      "usr_rv_25k = usr_review_info_25k['results']\n",
      "\n",
      "usr_rv_25k"
     ],
     "language": "python",
     "metadata": {},
     "outputs": [
      {
       "metadata": {},
       "output_type": "pyout",
       "prompt_number": 37,
       "text": [
        "[]"
       ]
      }
     ],
     "prompt_number": 37
    },
    {
     "cell_type": "markdown",
     "metadata": {},
     "source": [
      "Fortunately, even though the API calls empty elements, the data we inserted into a file only includes non-empty elements. Using that data to define a new data frame we have"
     ]
    },
    {
     "cell_type": "code",
     "collapsed": false,
     "input": [
      "usr_rv_frame = pd.read_csv('data/gb_user_review_data_12_04_2014.csv')[['Name', 'User Review Score', 'User Reviewer', 'Date of Review', 'Game Id']]\n",
      "usr_rv_frame.head()"
     ],
     "language": "python",
     "metadata": {},
     "outputs": [
      {
       "html": [
        "<div style=\"max-height:1000px;max-width:1500px;overflow:auto;\">\n",
        "<table border=\"1\" class=\"dataframe\">\n",
        "  <thead>\n",
        "    <tr style=\"text-align: right;\">\n",
        "      <th></th>\n",
        "      <th>Name</th>\n",
        "      <th>User Review Score</th>\n",
        "      <th>User Reviewer</th>\n",
        "      <th>Date of Review</th>\n",
        "      <th>Game Id</th>\n",
        "    </tr>\n",
        "  </thead>\n",
        "  <tbody>\n",
        "    <tr>\n",
        "      <th>0</th>\n",
        "      <td>                 Famicom Mini: Pac-Man</td>\n",
        "      <td> 5</td>\n",
        "      <td>    snide</td>\n",
        "      <td> 2008-07-14 21:49:21</td>\n",
        "      <td>  3030-7624</td>\n",
        "    </tr>\n",
        "    <tr>\n",
        "      <th>1</th>\n",
        "      <td> Icewind Dale II (Collector's Edition)</td>\n",
        "      <td> 5</td>\n",
        "      <td>    snide</td>\n",
        "      <td> 2008-07-20 01:09:02</td>\n",
        "      <td>  3030-8890</td>\n",
        "    </tr>\n",
        "    <tr>\n",
        "      <th>2</th>\n",
        "      <td>                      Gauntlet Legends</td>\n",
        "      <td> 4</td>\n",
        "      <td> joseppie</td>\n",
        "      <td> 2008-07-21 00:34:06</td>\n",
        "      <td> 3030-12245</td>\n",
        "    </tr>\n",
        "    <tr>\n",
        "      <th>3</th>\n",
        "      <td>                     MVP Baseball 2005</td>\n",
        "      <td> 5</td>\n",
        "      <td> joseppie</td>\n",
        "      <td> 2008-07-21 00:36:10</td>\n",
        "      <td>  3030-9978</td>\n",
        "    </tr>\n",
        "    <tr>\n",
        "      <th>4</th>\n",
        "      <td>           Need for Speed: Most Wanted</td>\n",
        "      <td> 4</td>\n",
        "      <td> joseppie</td>\n",
        "      <td> 2008-07-21 00:44:42</td>\n",
        "      <td> 3030-12976</td>\n",
        "    </tr>\n",
        "  </tbody>\n",
        "</table>\n",
        "</div>"
       ],
       "metadata": {},
       "output_type": "pyout",
       "prompt_number": 38,
       "text": [
        "                                    Name  User Review Score User Reviewer  \\\n",
        "0                  Famicom Mini: Pac-Man                  5         snide   \n",
        "1  Icewind Dale II (Collector's Edition)                  5         snide   \n",
        "2                       Gauntlet Legends                  4      joseppie   \n",
        "3                      MVP Baseball 2005                  5      joseppie   \n",
        "4            Need for Speed: Most Wanted                  4      joseppie   \n",
        "\n",
        "        Date of Review     Game Id  \n",
        "0  2008-07-14 21:49:21   3030-7624  \n",
        "1  2008-07-20 01:09:02   3030-8890  \n",
        "2  2008-07-21 00:34:06  3030-12245  \n",
        "3  2008-07-21 00:36:10   3030-9978  \n",
        "4  2008-07-21 00:44:42  3030-12976  "
       ]
      }
     ],
     "prompt_number": 38
    },
    {
     "cell_type": "markdown",
     "metadata": {},
     "source": [
      "The actual number of user reviews is then"
     ]
    },
    {
     "cell_type": "code",
     "collapsed": false,
     "input": [
      "print 'Total number of user reviews: ', len(usr_rv_frame)"
     ],
     "language": "python",
     "metadata": {},
     "outputs": [
      {
       "output_type": "stream",
       "stream": "stdout",
       "text": [
        "Total number of user reviews:  24742\n"
       ]
      }
     ],
     "prompt_number": 39
    },
    {
     "cell_type": "markdown",
     "metadata": {},
     "source": [
      "With this data frame we can now answer the analogous question to the one first asked above: What is the distribution of Giant Bomb user review scores? Making a basic plot we have"
     ]
    },
    {
     "cell_type": "code",
     "collapsed": false,
     "input": [
      "# Histogram distribution of Giant Bomb User Review Scores\n",
      "\n",
      "plt.figure(figsize=(8,6))\n",
      "n, bins, patches = plt.hist(usr_rv_frame['User Review Score'], 15)\n",
      "plt.title(\" Distribution of Giant Bomb User Review Scores\")\n",
      "plt.xlabel(\"Score\")\n",
      "plt.ylabel(\"Numbers of Occurences\")"
     ],
     "language": "python",
     "metadata": {},
     "outputs": [
      {
       "metadata": {},
       "output_type": "pyout",
       "prompt_number": 40,
       "text": [
        "<matplotlib.text.Text at 0x16919eb8>"
       ]
      },
      {
       "metadata": {},
       "output_type": "display_data",
       "png": "[encoded data removed]",
       "text": [
        "<matplotlib.figure.Figure at 0xc7c2198>"
       ]
      }
     ],
     "prompt_number": 40
    },
    {
     "cell_type": "markdown",
     "metadata": {},
     "source": [
      "We first note that unlike the Giant Bomb staff reviews, a user review can, in a sense, have a score of 0. We say 'in a sense' because although the Giant Bomb score spectrum is from one to five stars, the Giant Bomb API associates a score of 0 with user reviews which do not include a specific score. See the two reviews in http://www.giantbomb.com/jumper-griffins-story/3030-20797/user-reviews/ for instance. \n",
      "\n",
      "Second, we see that similar to the Giant Bomb staff review scores, the distribution of user review scores has a mean centered well above the natural mean of the range. In fact, the user reviews have a greater proportion of scores which are greater than or equal to three than do the staff reviews. \n"
     ]
    },
    {
     "cell_type": "code",
     "collapsed": false,
     "input": [
      "print 'Proportion of user reviews with score greater than 3: ', float(len(usr_rv_frame[usr_rv_frame['User Review Score'] > 3]))/(len(usr_rv_frame))\n",
      "print 'Proportion of staff reviews with score greater than 3: ', float(len(staff_rv_frame[staff_rv_frame['Giant Bomb Score'] > 3]))/(len(staff_rv_frame))"
     ],
     "language": "python",
     "metadata": {},
     "outputs": [
      {
       "output_type": "stream",
       "stream": "stdout",
       "text": [
        "Proportion of user reviews with score greater than 3:  0.737005900897\n",
        "Proportion of staff reviews with score greater than 3:  0.55981595092\n"
       ]
      }
     ],
     "prompt_number": 41
    },
    {
     "cell_type": "markdown",
     "metadata": {},
     "source": [
      "This disparity may naively be attributed to the hyperbolic tendencies common to an anonymous online public in comparison to the more level headed appraisals made by a staff who must be accountable to some institution. More constructively, we must note that while there is only one staff review per game, many different users can review and score the same game. The number of unique games reviewed in the entire Giant Bomb data set can be computed by finding the length of the list of unique names in the usr_rv_frame"
     ]
    },
    {
     "cell_type": "code",
     "collapsed": false,
     "input": [
      "print 'Total number of unique games reviewed: ', len(set(usr_rv_frame['Name']))"
     ],
     "language": "python",
     "metadata": {},
     "outputs": [
      {
       "output_type": "stream",
       "stream": "stdout",
       "text": [
        "Total number of unique games reviewed:  4970\n"
       ]
      }
     ],
     "prompt_number": 42
    },
    {
     "cell_type": "markdown",
     "metadata": {},
     "source": [
      "So although there are about 25000 user reviews, these users have collectively reviewed only about 5000 games. "
     ]
    },
    {
     "cell_type": "markdown",
     "metadata": {},
     "source": [
      "Aside from the possible differences in reviewing style between the two groups, how can we explain why the net user review distribution has a higher proportion of high ratings than the staff review distribution? Well, we note that the user review distribution includes all the user reviews for a particular game, and the popular games which are most likely of higher than average quality would have a higher number of the user reviews.  Consequently, collecting all user reviews would lead to a distribution with a higher proportion of 4s and 5s with respect to a distribution which slotted only one score per game. We can confirm this expectation by averaging over the user review scores per game. "
     ]
    },
    {
     "cell_type": "code",
     "collapsed": false,
     "input": [
      "## Data frame of average user review score per game\n",
      "# This averaging washes away the datetime and reviewer name data \n",
      "\n",
      "unique_rvs = usr_rv_frame.groupby('Name',as_index = False)['Name', 'User Review Score'].mean()\n",
      "unique_rvs.head()"
     ],
     "language": "python",
     "metadata": {},
     "outputs": [
      {
       "html": [
        "<div style=\"max-height:1000px;max-width:1500px;overflow:auto;\">\n",
        "<table border=\"1\" class=\"dataframe\">\n",
        "  <thead>\n",
        "    <tr style=\"text-align: right;\">\n",
        "      <th></th>\n",
        "      <th>Name</th>\n",
        "      <th>User Review Score</th>\n",
        "    </tr>\n",
        "  </thead>\n",
        "  <tbody>\n",
        "    <tr>\n",
        "      <th>0</th>\n",
        "      <td>  .hack//QUARANTINE - Part 4</td>\n",
        "      <td> 3.0</td>\n",
        "    </tr>\n",
        "    <tr>\n",
        "      <th>1</th>\n",
        "      <td>       007: Agent Under Fire</td>\n",
        "      <td> 4.5</td>\n",
        "    </tr>\n",
        "    <tr>\n",
        "      <th>2</th>\n",
        "      <td>  007: Everything or Nothing</td>\n",
        "      <td> 4.0</td>\n",
        "    </tr>\n",
        "    <tr>\n",
        "      <th>3</th>\n",
        "      <td>              007: Nightfire</td>\n",
        "      <td> 2.8</td>\n",
        "    </tr>\n",
        "    <tr>\n",
        "      <th>4</th>\n",
        "      <td>        Adventures of Lolo 2</td>\n",
        "      <td> 5.0</td>\n",
        "    </tr>\n",
        "  </tbody>\n",
        "</table>\n",
        "</div>"
       ],
       "metadata": {},
       "output_type": "pyout",
       "prompt_number": 44,
       "text": [
        "                          Name  User Review Score\n",
        "0   .hack//QUARANTINE - Part 4                3.0\n",
        "1        007: Agent Under Fire                4.5\n",
        "2   007: Everything or Nothing                4.0\n",
        "3               007: Nightfire                2.8\n",
        "4         Adventures of Lolo 2                5.0"
       ]
      }
     ],
     "prompt_number": 44
    },
    {
     "cell_type": "code",
     "collapsed": false,
     "input": [
      "# rounds the scores in the above frame to their nearest integer values\n",
      "discrete_score = list()\n",
      "for elem in list(unique_rvs['User Review Score']):\n",
      "    discrete_score.append(round(elem))"
     ],
     "language": "python",
     "metadata": {},
     "outputs": [],
     "prompt_number": 45
    },
    {
     "cell_type": "code",
     "collapsed": false,
     "input": [
      "# Histogram distribution of average user review scores for each game (rounded)\n",
      "\n",
      "plt.figure(figsize=(8,6))\n",
      "n, bins, patches = plt.hist(discrete_score, 15)\n",
      "plt.title(\" Distribution of User Review Scores-rounded avg per game\", y =1.1)\n",
      "plt.xlabel(\"Score\")\n",
      "plt.ylabel(\"Numbers of Occurences\")"
     ],
     "language": "python",
     "metadata": {},
     "outputs": [
      {
       "metadata": {},
       "output_type": "pyout",
       "prompt_number": 46,
       "text": [
        "<matplotlib.text.Text at 0x16182438>"
       ]
      },
      {
       "metadata": {},
       "output_type": "display_data",
       "png": "[encoded data removed]",
       "text": [
        "<matplotlib.figure.Figure at 0x16917a90>"
       ]
      }
     ],
     "prompt_number": 46
    },
    {
     "cell_type": "markdown",
     "metadata": {},
     "source": [
      "And thus we see that the user review distribution (with one average review score per game) more closely approximates the staff review distribution. \n",
      "\n",
      "----"
     ]
    },
    {
     "cell_type": "markdown",
     "metadata": {},
     "source": [
      "#### What is the correlation between user review scores and staff review scores? \n",
      "\n",
      "The final question we will consider is the correlation between staff review scores and user review scores. Phrased more colloquially we ask does the average user review score for a particular game typically match the score provided by a staff reviewer? Knowing the correspondence between staff review scores and user review scores will allow us to infer how well we expect a text-classification trained using staff review data could accurately predict the \u2018positive\u2019 or \u2018negative\u2019 sentiment expressed by a user\u2019s review. "
     ]
    },
    {
     "cell_type": "markdown",
     "metadata": {},
     "source": [
      "To find this correspondence we merge the two data sets based on the game name. In this case we choose to merge the average user review without applying the floor function to make the averages meet their standard integer values. If we were to apply the floor function all of the points of our scatter plot would be confined to grid like values which would obscure the underlying distribution. "
     ]
    },
    {
     "cell_type": "code",
     "collapsed": false,
     "input": [
      "from pandas import merge\n",
      "\n",
      "all_rvs = merge(unique_rvs, staff_rv_frame, how = 'inner')\n",
      "all_rvs.head()"
     ],
     "language": "python",
     "metadata": {},
     "outputs": [
      {
       "html": [
        "<div style=\"max-height:1000px;max-width:1500px;overflow:auto;\">\n",
        "<table border=\"1\" class=\"dataframe\">\n",
        "  <thead>\n",
        "    <tr style=\"text-align: right;\">\n",
        "      <th></th>\n",
        "      <th>Name</th>\n",
        "      <th>User Review Score</th>\n",
        "      <th>Giant Bomb Score</th>\n",
        "      <th>Reviewer</th>\n",
        "      <th>Date of Review</th>\n",
        "      <th>year</th>\n",
        "      <th>month</th>\n",
        "    </tr>\n",
        "  </thead>\n",
        "  <tbody>\n",
        "    <tr>\n",
        "      <th>0</th>\n",
        "      <td>                007 Legends</td>\n",
        "      <td> 2.000000</td>\n",
        "      <td> 2</td>\n",
        "      <td> Alex</td>\n",
        "      <td>2012-10-18 13:00:00</td>\n",
        "      <td> 2012</td>\n",
        "      <td> 10</td>\n",
        "    </tr>\n",
        "    <tr>\n",
        "      <th>1</th>\n",
        "      <td>         1942: Joint Strike</td>\n",
        "      <td> 3.333333</td>\n",
        "      <td> 3</td>\n",
        "      <td> Jeff</td>\n",
        "      <td>2008-08-20 14:00:00</td>\n",
        "      <td> 2008</td>\n",
        "      <td>  8</td>\n",
        "    </tr>\n",
        "    <tr>\n",
        "      <th>2</th>\n",
        "      <td>         3D Dot Game Heroes</td>\n",
        "      <td> 3.333333</td>\n",
        "      <td> 3</td>\n",
        "      <td> Ryan</td>\n",
        "      <td>2010-05-12 20:00:00</td>\n",
        "      <td> 2010</td>\n",
        "      <td>  5</td>\n",
        "    </tr>\n",
        "    <tr>\n",
        "      <th>3</th>\n",
        "      <td> 50 Cent: Blood on the Sand</td>\n",
        "      <td> 3.214286</td>\n",
        "      <td> 3</td>\n",
        "      <td> Jeff</td>\n",
        "      <td>2009-02-24 08:00:00</td>\n",
        "      <td> 2009</td>\n",
        "      <td>  2</td>\n",
        "    </tr>\n",
        "    <tr>\n",
        "      <th>4</th>\n",
        "      <td>         A Boy and His Blob</td>\n",
        "      <td> 3.666667</td>\n",
        "      <td> 4</td>\n",
        "      <td> Ryan</td>\n",
        "      <td>2009-10-23 11:00:00</td>\n",
        "      <td> 2009</td>\n",
        "      <td> 10</td>\n",
        "    </tr>\n",
        "  </tbody>\n",
        "</table>\n",
        "</div>"
       ],
       "metadata": {},
       "output_type": "pyout",
       "prompt_number": 48,
       "text": [
        "                         Name  User Review Score  Giant Bomb Score Reviewer  \\\n",
        "0                 007 Legends           2.000000                 2     Alex   \n",
        "1          1942: Joint Strike           3.333333                 3     Jeff   \n",
        "2          3D Dot Game Heroes           3.333333                 3     Ryan   \n",
        "3  50 Cent: Blood on the Sand           3.214286                 3     Jeff   \n",
        "4          A Boy and His Blob           3.666667                 4     Ryan   \n",
        "\n",
        "       Date of Review  year  month  \n",
        "0 2012-10-18 13:00:00  2012     10  \n",
        "1 2008-08-20 14:00:00  2008      8  \n",
        "2 2010-05-12 20:00:00  2010      5  \n",
        "3 2009-02-24 08:00:00  2009      2  \n",
        "4 2009-10-23 11:00:00  2009     10  "
       ]
      }
     ],
     "prompt_number": 48
    },
    {
     "cell_type": "markdown",
     "metadata": {},
     "source": [
      "Plotting the average user review scores against the staff review scores for each game we have"
     ]
    },
    {
     "cell_type": "code",
     "collapsed": false,
     "input": [
      "all_rvs.plot(x = \"User Review Score\", y = 'Giant Bomb Score', kind = 'scatter',figsize=(8,6), title = 'Correlation between Staff and User Review Scores')"
     ],
     "language": "python",
     "metadata": {},
     "outputs": [
      {
       "metadata": {},
       "output_type": "pyout",
       "prompt_number": 49,
       "text": [
        "<matplotlib.axes.AxesSubplot at 0x15f383c8>"
       ]
      },
      {
       "metadata": {},
       "output_type": "display_data",
       "png": "[encoded data removed]",
       "text": [
        "<matplotlib.figure.Figure at 0x16190908>"
       ]
      }
     ],
     "prompt_number": 49
    },
    {
     "cell_type": "markdown",
     "metadata": {},
     "source": [
      "And then computing the correlation between the two types of reviews yields"
     ]
    },
    {
     "cell_type": "code",
     "collapsed": false,
     "input": [
      "print 'Correlation between User Reviews and Critics Reviews: ', all_rvs['Giant Bomb Score'].corr(all_rvs['User Review Score'])"
     ],
     "language": "python",
     "metadata": {},
     "outputs": [
      {
       "output_type": "stream",
       "stream": "stdout",
       "text": [
        "Correlation between User Reviews and Critics Reviews:  "
       ]
      },
      {
       "output_type": "stream",
       "stream": "stdout",
       "text": [
        "0.706056356999\n"
       ]
      }
     ],
     "prompt_number": 50
    },
    {
     "cell_type": "markdown",
     "metadata": {},
     "source": [
      "Thus we see a strong correlation between user reviews and critics reviews. We can then reasonably use a text classifier trained on staff review data to predict the sentiment expressed by user reviews. As a further extension, since user reviews would more closely approximate general anonymous internet text than do the staff reviews, the close correspondence between staff review scores and user review scores suggests that it should be possible to use our score-text classifier to classify general online text. \n",
      "\n",
      "---------"
     ]
    }
   ],
   "metadata": {}
  }
 ]
}
