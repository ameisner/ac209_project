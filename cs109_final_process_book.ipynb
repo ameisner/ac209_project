{
 "metadata": {
  "name": "",
  "signature": "sha256:1ef594b152684ecd6aaae347fc6ee50c116fa35a746bc9a231e2ce8585a27a1c"
 },
 "nbformat": 3,
 "nbformat_minor": 0,
 "worksheets": [
  {
   "cells": [
    {
     "cell_type": "markdown",
     "metadata": {},
     "source": [
      "- Meisner, Aaron\n",
      "- Williams, Mobolaji\n",
      "- CS109 Final Project-Process Book\n",
      "- Dec 10, 2014"
     ]
    },
    {
     "cell_type": "markdown",
     "metadata": {},
     "source": [
      "#### Acquiring the Data for the Notebook\n",
      "The data we obtained can be accessed through github in the data subdirectory of the repo https://github.com/ameisner/ac209_project. To make the notebook executable and acquire the relevant data click the \"download zip\" button in the previous link to extract the repo contents. Save the \"data\" folder in the same folder which contains the current notebook and associated scripts. "
     ]
    },
    {
     "cell_type": "code",
     "collapsed": false,
     "input": [
      "# special IPython command to prepare the notebook for matplotlib\n",
      "%matplotlib inline \n",
      "\n",
      "import json\n",
      "import csv\n",
      "import datetime\n",
      "import scipy.stats\n",
      "\n",
      "from scipy.stats import scoreatpercentile\n",
      "from sklearn.feature_extraction.text import CountVectorizer\n",
      "from sklearn.cross_validation import train_test_split\n",
      "from sklearn.naive_bayes import MultinomialNB\n",
      "from pandas import DataFrame\n",
      "from scipy.stats import norm\n",
      "from sklearn.ensemble import RandomForestClassifier\n",
      "\n",
      "import cPickle\n",
      "import os\n",
      "import requests \n",
      "import numpy as np\n",
      "import pandas as pd # pandas\n",
      "import matplotlib.pyplot as plt # module for plotting \n",
      "import sklearn.grid_search"
     ],
     "language": "python",
     "metadata": {},
     "outputs": [],
     "prompt_number": 8
    },
    {
     "cell_type": "markdown",
     "metadata": {},
     "source": [
      "# Online Video Game Reviews:\n",
      "# Text-Sentiment Analysis and The Low Hanging Fruit of Game Development#"
     ]
    },
    {
     "cell_type": "markdown",
     "metadata": {},
     "source": [
      "<img src=\"http://images.gameskinny.com/gameskinny/14019156130bdc2d2197269d679b6848.jpg\">\n",
      "\n",
      "<img src=\"http://i1.sndcdn.com/artworks-000030231596-a4sejl-crop.jpg?30a2558\">\n",
      "\n",
      "<img src=\"http://upload.wikimedia.org/wikipedia/en/9/9e/TheLastOfUs.jpg\">"
     ]
    },
    {
     "cell_type": "markdown",
     "metadata": {},
     "source": [
      "## I. Introduction and Motivation"
     ]
    },
    {
     "cell_type": "markdown",
     "metadata": {},
     "source": [
      "Since their inception video games have been somewhat of a fringe cultural \n",
      "phenomenon. Not having the same aesthetic appeal as film or literature and not \n",
      "bearing the institutional legitimacy of more traditional strategy games like chess, \n",
      "video games were considered for a long time awkwardly placed in the world of \n",
      "leisure activities.\n",
      "\n",
      "But in the past decade with the development of new family-oriented gaming \n",
      "consoles like the Wii, the creation of artistically rendered and presented \n",
      "games like *Heavy Rain* and *The Last of Us*, and the organization of \n",
      "pre-professional and competitive gaming societies, video games are slowly \n",
      "evolving from merely being the visual toys used exclusively by male teenagers \n",
      "to a new form of media which people of widely different demographic backgrounds\n",
      "can engage with.\n",
      "\n",
      "For prospective game developers, the continually realized and expanded potential for artistic expression through video games suggests a basic question. What is the best way to make inroads into game development? More specifically, we can ask what are the genres most conducive to game development for a new developer?\n",
      "\n",
      "Moreover, as video games begin to reach wider audiences and their relevance grows, and a demand for a wider assortment of video games beyond the traditional action/adventure, role-playing game, shooter trifect grows in tandem, there will spring a larger need for video game criticism akin to that which exists for film and television today. \n",
      "\n",
      "Data scientists have a role in categorizing and understanding this criticism. \n",
      "By applying textual analysis techniques, we can determine whether a review for \n",
      "a video game is positive or negative and thus whether a prospective buyer \n",
      "should purchase the game. Moreover, not all online video game \n",
      "reviews/discussions are associated with a numerical score. Developing a \n",
      "text-based review classification scheme represents a step towards being able to \n",
      "determine what any arbitrary online text related to a video game suggests about\n",
      "the quality of that video game.\n",
      "\n",
      "\n",
      "In what follows, we present an outline of the objectives for the project. "
     ]
    },
    {
     "cell_type": "markdown",
     "metadata": {},
     "source": [
      "## II. Project Objectives"
     ]
    },
    {
     "cell_type": "markdown",
     "metadata": {},
     "source": [
      "This project had two main goals. First we wanted to determine which genres of video games exist as the greatest potential for new game development. Namely, we wanted to know which genres provided skilled game developers with the best conditions to develop a stand out game. To find such optimal genres, we defined a few conditions which quantified the levels of competition within, the public opinion of, and the gamer interest in a genre. By considering how a genre scored according to these criteria relative to the entire distribution of scores, we were able to come up with a few recommendations for \u201clow hanging fruit\u201d of game development. \n",
      "\n",
      "\n",
      "Second we wanted to explore the possibility of applying machine learning techniques to analyze the sentiment of video game reviews. For sentiment classification, we focused on building a [Naive Bayes model](http://www.statsoft.com/textbook/naive-bayes-classifier) to determine the likelihood that the review summary for a game was associated with a \"positive\" (relatively high) or \"negative\" (relatively low) review score. We could view this as an extension of the [\"Bayesian Tomatoes\"](http://nbviewer.ipython.org/github/cs109/content/blob/master/HW3.ipynb) assignment from CS109 2013 which showed that the Naive Bayes classifier was effective for categorizing Rotten Tomatoes reviews. \n",
      "\n",
      "As supporting analyses, we investigated some meta-data questions to see what other variables might affect the distribution of video game scores. \n",
      "\n",
      "As a wider application of this analysis we hope to apply textual classification on less formal video game discussions and thereby be able to draw from a wider assortment of sites (not just review sites) to determine general online sentiment associated with a video game.  \n",
      "\n"
     ]
    },
    {
     "cell_type": "markdown",
     "metadata": {},
     "source": [
      "## III. Data Collection and Exploratory Analysis"
     ]
    },
    {
     "cell_type": "markdown",
     "metadata": {},
     "source": [
      "We used video game review data from two primary sources: [Game Spot](www.gamespot.com) and [Giant Bomb](www.giantbomb.com). Both websites are well maintained gaming sites with many users and many reviews. For our analysis the two fundamental disparities between the two sites were Game Spot\u2019s comparatively larger collection of staff reviews (Game Spot has roughly 13,000 staff reviews while Giant Bomb has only 700), and the existence of a [Giant Bomb API](http://www.giantbomb.com/api/) for application development and data analysis. Game Spot\u2019s high number of staff reviews makes its data set amenable to the score-text classification analysis that we develop later in this notebook, but because the site did not have an API, the relevant data had to be carefully scraped from each review webpage. Alternatively, the Giant Bomb API allows us to flexibly and easily answer many quantitative questions on gaming statistics, but the small staff review set means that any score-text classification would have an insufficiently sized training data set. Another quantitative difference between the two sites, relevant for a later analysis of our scoring data, is that the video game scores provided by Giant Bomb ranged from 1 to 5, while the scores provided by Game Spot ranged from 1 to 10 in increments of 0.1. \n",
      "\n",
      "We capitalized on the differences between the two data sets by using each set to answer the questions it most conveniently could. From Game Spot, we scraped all 13,000+ staff game reviews for four elements: the name of the game; the review score of the game; the date of the review; the single sentence summary of the review. These were the elements needed in our basic text classification analysis.\n",
      "\n",
      "With the Giant Bomb data, since an API was available, we were much less constrained in the types of questions we could ask from it, and the data was thus utilized for two purposes. First, it formed the basis of our \"low-hanging fruit\" analysis, and second it served as a sandbox to answer some more general questions about the meta-data which could affect staff reviews on gaming sites."
     ]
    },
    {
     "cell_type": "markdown",
     "metadata": {},
     "source": [
      "### III.A. Game Spot Data Collection"
     ]
    },
    {
     "cell_type": "markdown",
     "metadata": {},
     "source": [
      "Because Game Spot does not provide an API, the data had to be scraped directly from the website's HTML source. Here we provide an example of the scraping procedure we went through to gather all 13,000 reviews. Our basic strategy was to use the `requests` module to download the source of Game Spot web pages, and then use the `pattern.web` module to parse the document object model, as illustrated below:"
     ]
    },
    {
     "cell_type": "code",
     "collapsed": false,
     "input": [
      "# to manipulate html text\n",
      "from pattern import web"
     ],
     "language": "python",
     "metadata": {},
     "outputs": [],
     "prompt_number": 2
    },
    {
     "cell_type": "code",
     "collapsed": false,
     "input": [
      "# example of URL at which many review summaries and scores can be found\n",
      "url = 'http://www.gamespot.com/reviews/?page=2'\n",
      "html = requests.get(url).text"
     ],
     "language": "python",
     "metadata": {},
     "outputs": [],
     "prompt_number": 3
    },
    {
     "cell_type": "code",
     "collapsed": false,
     "input": [
      "# document object model\n",
      "dom = web.Element(html)"
     ],
     "language": "python",
     "metadata": {},
     "outputs": [],
     "prompt_number": 5
    },
    {
     "cell_type": "markdown",
     "metadata": {},
     "source": [
      "The following cell prints out an example of the HTML source from which we gathered information about each review:"
     ]
    },
    {
     "cell_type": "code",
     "collapsed": false,
     "input": [
      "# get a list of the separate \"articles\" within the HTML page\n",
      "articles = dom.by_tag(\"article\")\n",
      "# look at the first article\n",
      "article = articles[0]\n",
      "# look at a single article's HTML snippet\n",
      "print article.content"
     ],
     "language": "python",
     "metadata": {},
     "outputs": [
      {
       "output_type": "stream",
       "stream": "stdout",
       "text": [
        "\n",
        "<a class=\"js-event-tracking\" href=\"/reviews/pokemon-omega-ruby-alpha-sapphire-review/1900-6415965/\">\n",
        "<div class=\"media-well l-item--push hide-mobile \"><div class=\"well--review-gs\"><span class=\"site-logo--mono\">GameSpot Score</span><strong>8</strong><span class=\"score-word\">Great</span></div></div>\n",
        "<figure class=\"media-figure l-item--pull\">\n",
        "<div class=\"media-img imgflare--boxart media-figure--medium\">\n",
        "<img src=\"http://static2.gamespot.com/uploads/scale_tiny/1197/11970954/2525352-pok%C3%87mon+omega+ruby+packaging+final.jpg\" alt=\"Pokemon Omega Ruby/Alpha Sapphire Review\" />\n",
        "</div>\n",
        "</figure>\n",
        "<div class=\"media-body\"> <h3 class=\"media-title\">Pokemon Omega Ruby/Alpha Sapphire Review</h3>\n",
        "<div class=\"media-byline\">\n",
        "<ul class=\"system-list\">\n",
        "<li class=\"system label\">Reviewed on:</li>\n",
        "<li class=\"system system--pill system--pill system--3ds \">3DS</li>\n",
        "</ul>\n",
        "</div>\n",
        "<p class=\"media-deck hide-mobile\"> Pokemon Omega Ruby and Alpha Sapphire resurrect two beloved games in style, and for better or worse, not much has changed.</p>\n",
        "<footer class=\"media-meta\">\n",
        "<time class=\"media-date\" datetime=\"2014-11-18 06:00:00\">Nov 18, 6:00am</time>\n",
        "</footer>\n",
        "</div>\n",
        "</a>\n",
        "\n"
       ]
      }
     ],
     "prompt_number": 6
    },
    {
     "cell_type": "markdown",
     "metadata": {},
     "source": [
      "The following code cell isolates and prints out the information we're really aiming to gather via this scraping effort: reiew summaries of approximately on sentence each, the date of the review, and the score of the review."
     ]
    },
    {
     "cell_type": "code",
     "collapsed": false,
     "input": [
      "# print first five elements in article\n",
      "for art in articles[:5]:\n",
      "    if art.attr['class'] == 'media media-review':\n",
      "        review_summary = art.by_tag('p')\n",
      "        review_score = art.by_tag('strong')\n",
      "        review_time = art.by_tag('time')\n",
      "        print review_summary[0].content + \" SCORE = \" + review_score[0].content\n",
      "        print review_time[0].attr['datetime']\n",
      "        print '*'*80"
     ],
     "language": "python",
     "metadata": {},
     "outputs": [
      {
       "output_type": "stream",
       "stream": "stdout",
       "text": [
        " Pokemon Omega Ruby and Alpha Sapphire resurrect two beloved games in style, and for better or worse, not much has changed. SCORE = 8\n",
        "2014-11-18 06:00:00\n",
        "********************************************************************************\n",
        " Little Big Planet 3\u2019s focus on creative expression is underutilized in its story campaign but shines in its level editor. SCORE = 7\n",
        "2014-11-17 21:20:00\n",
        "********************************************************************************\n",
        " This War of Mine is survival horror game of a very different, very literal kind. SCORE = 8\n",
        "2014-11-17 18:52:00\n",
        "********************************************************************************\n",
        " A Bird Story is a short but bittersweet tale that uses sparse interaction to great effect. SCORE = 8\n",
        "2014-11-17 11:59:00\n",
        "********************************************************************************\n",
        " Far Cry 4 is all about more: more fun things to do, more chances to create explosive chaos, and more opportunities for the story to make you cringe. SCORE = 7\n",
        "2014-11-17 09:27:00\n",
        "********************************************************************************\n"
       ]
      }
     ],
     "prompt_number": 7
    },
    {
     "cell_type": "markdown",
     "metadata": {},
     "source": [
      "It turns out that there are roughly 650 distinct HTML pages worth of Game Spot review summaries. We therefore wrote a scraper script called `scrape_gamespot.py` to do the work of gathering all 13000 review summaries and their associated scores and metadata. This scraper script is printed out below:"
     ]
    },
    {
     "cell_type": "code",
     "collapsed": false,
     "input": [
      "print open('scrape_gamespot.py').read()"
     ],
     "language": "python",
     "metadata": {},
     "outputs": [
      {
       "output_type": "stream",
       "stream": "stdout",
       "text": [
        "#!/usr/bin/env python\n",
        "# Aaron Meisner, 11/8/2014\n",
        "\n",
        "import requests\n",
        "from pattern import web\n",
        "import json\n",
        "import time\n",
        "\n",
        "def scrape_one_page(pagenum, jsondata):\n",
        "\n",
        "    url = 'http://www.gamespot.com/reviews/?page='+str(pagenum)\n",
        "    html = requests.get(url).text\n",
        "\n",
        "    dom = web.Element(html)\n",
        "\n",
        "    articles = dom.by_tag(\"article\")\n",
        "\n",
        "    for art in articles:\n",
        "        if art.attr['class'] == 'media media-review':\n",
        "            review_summary = art.by_tag('p')\n",
        "            review_score = art.by_tag('strong')\n",
        "            review_time = art.by_tag('time')\n",
        "            summary = review_summary[0].content\n",
        "            score = review_score[0].content\n",
        "            datetime = review_time[0].attr['datetime']\n",
        "            gamedata = {'summary' : summary, \n",
        "                        'score' : score,\n",
        "                        'datetime' : datetime}\n",
        "            jsondata.append(gamedata)\n",
        "    return jsondata\n",
        "\n",
        "def scrape_many_pages(pstart, npages, delay=10.):\n",
        "    jsondata = []\n",
        "    for pagenum in range(pstart, pstart+npages):\n",
        "        print \"Working on page \", pagenum\n",
        "        jsondata = scrape_one_page(pagenum, jsondata)\n",
        "        print \"Waiting...\"\n",
        "        # avoid thrashing GameSpot servers\n",
        "        time.sleep(delay)\n",
        "\n",
        "    # write out the json data accumulated\n",
        "    with open('gamespot.json', 'w') as outfile:\n",
        "        json.dump(jsondata, outfile)\n",
        "\n",
        "if __name__=='__main__':\n",
        "    # as of 11/8/2014, there were 653 pages of reviews available from GameSpot\n",
        "    npages = 653\n",
        "    scrape_many_pages(1, npages)\n",
        "\n"
       ]
      }
     ],
     "prompt_number": 47
    },
    {
     "cell_type": "markdown",
     "metadata": {},
     "source": [
      "The data we extracted was then loaded into a data file. Here is a sample data entry:"
     ]
    },
    {
     "cell_type": "code",
     "collapsed": false,
     "input": [
      "f = open('data/gamespot.json')\n",
      "gs_data = json.load(f)\n",
      "print \"The number of reviews scraped from GameSpot is \", len(gs_data)\n",
      "# print an example review\n",
      "print gs_data[0]"
     ],
     "language": "python",
     "metadata": {},
     "outputs": [
      {
       "output_type": "stream",
       "stream": "stdout",
       "text": [
        "The number of reviews scraped from GameSpot is  13702\n",
        "{u'score': u'8', u'summary': u' The Unfinished Swan on the PlayStation 4 is a pretty game made prettier, and a gentle charmer in its own right.', u'datetime': u'2014-11-06 18:50:00'}\n"
       ]
      }
     ],
     "prompt_number": 46
    },
    {
     "cell_type": "markdown",
     "metadata": {},
     "source": [
      "### III.B. Giant Bomb Data Collection"
     ]
    },
    {
     "cell_type": "markdown",
     "metadata": {},
     "source": [
      "From Giant Bomb we collected three types of data: statistics on video game reviews written by the Giant Bomb staff; statistics on video game reviews written by the users who sign up (for free) on the site; statistics on the video games which fall into various genres (Action, Role-Playing Game, etc.). The method of data collection from Giant Bomb went as follows. "
     ]
    },
    {
     "cell_type": "markdown",
     "metadata": {},
     "source": [
      "We first signed up for user access and requested an API key through the link http://www.giantbomb.com/api/ . After acquiring a key, the full Giant Bomb API was available to us at a rate limit of 400 requests every 15 minutes. "
     ]
    },
    {
     "cell_type": "markdown",
     "metadata": {},
     "source": [
      "#### III.B.1. Staff Review Data"
     ]
    },
    {
     "cell_type": "code",
     "collapsed": false,
     "input": [
      "# definition of API Key\n",
      "key = '4e5fb6427e24a4c3b594157915684189d9c72297'"
     ],
     "language": "python",
     "metadata": {},
     "outputs": [],
     "prompt_number": 56
    },
    {
     "cell_type": "markdown",
     "metadata": {},
     "source": [
      "The Giant Bomb API is conveniently organized to be accessed through certain keywords. The first Giant Bomb data set we built was for the staff review data, and so we accessed http://www.giantbomb.com/api/reviews/?api_key=4e5fb6427e24a4c3b594157915684189d9c72297 . The elements we extracted were the name of the game, the score given to the game, the staff person who reviewed the game, and the date of the review. "
     ]
    },
    {
     "cell_type": "code",
     "collapsed": false,
     "input": [
      "## creating a dictionary of game names, score, reviewer, and review date\n",
      "\n",
      "# This code collects giant bomb staff review data. We collect \n",
      "# - the name of the game\n",
      "# - the name of the reviewer\n",
      "# - the date of the review\n",
      "# - the review score\n",
      "#\n",
      "# Date and time of collection: 12/4/2014 7:28 PM\n",
      "\n",
      "staff_g_names = list()\n",
      "staff_g_score = list()\n",
      "staff_g_reviewer = list()\n",
      "staff_g_rv_date = list()\n",
      "\n",
      "for offset in np.array(range(7))*100: # cycle through possible offests\n",
      "\n",
      "    url_reviews = 'http://www.giantbomb.com/api/reviews/?api_key=' + key + '&format=json&offset=' + str(offset)\n",
      "    \n",
      "    resp_review = requests.get(url_reviews)\n",
      "    \n",
      "    review_info = json.loads(resp_review.text)\n",
      "\n",
      "    game_results = review_info['results']\n",
      "\n",
      "    for elem in game_results:\n",
      "        game = elem['game']\n",
      "        if type(game) == dict: # to ensure that we only consider non-empty entries\n",
      "            staff_g_score.append(elem['score'])\n",
      "            staff_g_names.append(game['name'])\n",
      "            staff_g_reviewer.append(elem['reviewer'])\n",
      "            staff_g_rv_date.append(elem['publish_date'])\n",
      "            "
     ],
     "language": "python",
     "metadata": {},
     "outputs": []
    },
    {
     "cell_type": "markdown",
     "metadata": {},
     "source": [
      "Because the video game name data included some elements which we could not directly write to strings (for example, some names are written with accents and other non-ascii typographical characters), we had to define an encoding function to convert the names into writable elements. "
     ]
    },
    {
     "cell_type": "code",
     "collapsed": false,
     "input": [
      "# allows us to encode unicode objects so they're writable as strings\n",
      "# necessary so we can write to file\n",
      "# uses http://stackoverflow.com/questions/6048085/python-write-unicode-text-to-a-text-file\n",
      "\n",
      "def encoding(list_):\n",
      "    new_ls = list()\n",
      "    for k in range(len(list_)):\n",
      "        string = list_[k].encode('utf8')\n",
      "        new_ls.append(string)\n",
      "    return new_ls"
     ],
     "language": "python",
     "metadata": {},
     "outputs": [],
     "prompt_number": 3
    },
    {
     "cell_type": "markdown",
     "metadata": {},
     "source": [
      "We then defined a dictionary of all our relevant data."
     ]
    },
    {
     "cell_type": "code",
     "collapsed": false,
     "input": [
      "# defines data dictionary \n",
      "staff_rv_dict = {'Name': encoding(staff_g_names), 'Giant Bomb Score': staff_g_score, 'Reviewer': staff_g_reviewer, 'Date of Review': staff_g_rv_date }"
     ],
     "language": "python",
     "metadata": {},
     "outputs": []
    },
    {
     "cell_type": "markdown",
     "metadata": {},
     "source": [
      "And then we wrote the dictionary to a file. The code we used to write the data to a file is in a stand alone python file to prevent any accidental erasure of already gathered data. "
     ]
    },
    {
     "cell_type": "code",
     "collapsed": false,
     "input": [
      "print open('gb_python/write_staff_review_data.py').read()"
     ],
     "language": "python",
     "metadata": {},
     "outputs": [
      {
       "output_type": "stream",
       "stream": "stdout",
       "text": [
        "# written by Mobolaji Williams,\n",
        "# AC209-Final Proj\n",
        "\n",
        "# This code writes the staff review data to a stable file. \n",
        "# Date and time of writing: 12/4/2014 7:30 PM\n",
        "\n",
        "## DO NOT WRITE AGAIN UNLESS YOU\n",
        "## 1) change the name of the file you're writing to\n",
        "## 2) no longer need the data you already wrote\n",
        "\n",
        "with open('data/gb_staff_review_data_12_04_2014.csv', 'wb') as f:  # Just use 'w' mode in 3.x\n",
        "    w = csv.DictWriter(f, fieldnames = staff_rv_dict.keys())\n",
        "    w.writeheader()\n",
        "\n",
        "    for k in range(len(staff_g_names)):\n",
        "        w.writerow({'Name': encoding(staff_g_names)[k],\n",
        "                    'Giant Bomb Score': staff_g_score[k],\n",
        "                    'Reviewer': staff_g_reviewer[k],\n",
        "                    'Date of Review':staff_g_rv_date[k]})\n",
        "\n"
       ]
      }
     ],
     "prompt_number": 23
    },
    {
     "cell_type": "markdown",
     "metadata": {},
     "source": [
      "We then used the data to define a data frame"
     ]
    },
    {
     "cell_type": "code",
     "collapsed": false,
     "input": [
      "# Staff review data frame\n",
      "staff_rv_frame = pd.read_csv('data/gb_staff_review_data_12_04_2014.csv')[['Name', 'Giant Bomb Score', 'Reviewer', 'Date of Review']]\n",
      "staff_rv_frame.head()"
     ],
     "language": "python",
     "metadata": {},
     "outputs": [
      {
       "html": [
        "<div style=\"max-height:1000px;max-width:1500px;overflow:auto;\">\n",
        "<table border=\"1\" class=\"dataframe\">\n",
        "  <thead>\n",
        "    <tr style=\"text-align: right;\">\n",
        "      <th></th>\n",
        "      <th>Name</th>\n",
        "      <th>Giant Bomb Score</th>\n",
        "      <th>Reviewer</th>\n",
        "      <th>Date of Review</th>\n",
        "    </tr>\n",
        "  </thead>\n",
        "  <tbody>\n",
        "    <tr>\n",
        "      <th>0</th>\n",
        "      <td>                                 SingStar</td>\n",
        "      <td> 4</td>\n",
        "      <td> Jeff</td>\n",
        "      <td> 2008-05-23 13:00:00</td>\n",
        "    </tr>\n",
        "    <tr>\n",
        "      <th>1</th>\n",
        "      <td>                                     Haze</td>\n",
        "      <td> 2</td>\n",
        "      <td> Jeff</td>\n",
        "      <td> 2008-05-20 17:00:00</td>\n",
        "    </tr>\n",
        "    <tr>\n",
        "      <th>2</th>\n",
        "      <td> Metal Gear Solid 4: Guns of the Patriots</td>\n",
        "      <td> 5</td>\n",
        "      <td> Brad</td>\n",
        "      <td> 2008-06-20 12:00:00</td>\n",
        "    </tr>\n",
        "    <tr>\n",
        "      <th>3</th>\n",
        "      <td>                              Poker Smash</td>\n",
        "      <td> 4</td>\n",
        "      <td> Jeff</td>\n",
        "      <td> 2008-02-29 12:00:00</td>\n",
        "    </tr>\n",
        "    <tr>\n",
        "      <th>4</th>\n",
        "      <td>                 Battlefield: Bad Company</td>\n",
        "      <td> 5</td>\n",
        "      <td> Jeff</td>\n",
        "      <td> 2008-07-06 12:00:00</td>\n",
        "    </tr>\n",
        "  </tbody>\n",
        "</table>\n",
        "</div>"
       ],
       "metadata": {},
       "output_type": "pyout",
       "prompt_number": 57,
       "text": [
        "                                       Name  Giant Bomb Score Reviewer  \\\n",
        "0                                  SingStar                 4     Jeff   \n",
        "1                                      Haze                 2     Jeff   \n",
        "2  Metal Gear Solid 4: Guns of the Patriots                 5     Brad   \n",
        "3                               Poker Smash                 4     Jeff   \n",
        "4                  Battlefield: Bad Company                 5     Jeff   \n",
        "\n",
        "        Date of Review  \n",
        "0  2008-05-23 13:00:00  \n",
        "1  2008-05-20 17:00:00  \n",
        "2  2008-06-20 12:00:00  \n",
        "3  2008-02-29 12:00:00  \n",
        "4  2008-07-06 12:00:00  "
       ]
      }
     ],
     "prompt_number": 57
    },
    {
     "cell_type": "markdown",
     "metadata": {},
     "source": [
      "-------------------\n"
     ]
    },
    {
     "cell_type": "markdown",
     "metadata": {},
     "source": [
      "#### III.B.2. User Review Data"
     ]
    },
    {
     "cell_type": "markdown",
     "metadata": {},
     "source": [
      "The second Giant Bomb data set we built was for user review data, and so we accessed http://www.giantbomb.com/api/user_reviews?api_key=4e5fb6427e24a4c3b594157915684189d9c72297 . Similar to the staff review data we extracted the name of the game, the score given to the game by the user, the user who reviewed the game, and the date of the review. Also, because the user review data set was much larger than the staff review data set (24,000 vs. 600) and contained games with multiple reviews, we also extracted the game ID number for each game to provide an additional measure of identification. "
     ]
    },
    {
     "cell_type": "code",
     "collapsed": false,
     "input": [
      "# This code collects user review data. We collect \n",
      "# - the name of the game\n",
      "# - the name of the reviewer\n",
      "# - the date of the review\n",
      "# - the review score\n",
      "# - the game id\n",
      "# Date and time of collection: 12/4/2014 7:27 PM\n",
      "\n",
      "usr_g_names = list()\n",
      "usr_g_score = list()\n",
      "usr_g_reviewer = list()\n",
      "usr_g_rv_date = list()\n",
      "g_id = list()\n",
      "\n",
      "for offset in np.array(range(264))*100:\n",
      "    url_usrreviews = 'http://www.giantbomb.com/api/user_reviews/?api_key=' + key + '&format=json&offset=' + str(offset)\n",
      "\n",
      "    # response format for API\n",
      "    resp_usrreview = requests.get(url_usrreviews)\n",
      "\n",
      "    # loads text of response into json format\n",
      "    usrreview_info = json.loads(resp_usrreview.text)\n",
      "\n",
      "    # redefine list\n",
      "    usr_rvs = usrreview_info['results']\n",
      "\n",
      "    for k in range(len(usr_rvs)):\n",
      "        elem = usr_rvs[k]\n",
      "\n",
      "        if elem['wikiObject'] != None:\n",
      "            usr_g_score.append(elem['score'])\n",
      "            usr_g_names.append(elem['wikiObject'])\n",
      "            usr_g_reviewer.append(elem['reviewer'])\n",
      "            usr_g_rv_date.append(elem['date_added'])\n",
      "            url = elem['site_detail_url']\n",
      "            g_id.append(url.rsplit('/')[4])"
     ],
     "language": "python",
     "metadata": {},
     "outputs": []
    },
    {
     "cell_type": "markdown",
     "metadata": {},
     "source": [
      "We defined a dictionary for the relevant data. "
     ]
    },
    {
     "cell_type": "code",
     "collapsed": false,
     "input": [
      "# defines dictionary we're going to write to file\n",
      "usr_rv_dict = {'Name': encoding(usr_g_names), 'User Review Score': usr_g_score, 'User Reviewer': usr_g_reviewer, 'Date of Review':usr_g_rv_date, \n",
      "               'Game Id': g_id }"
     ],
     "language": "python",
     "metadata": {},
     "outputs": []
    },
    {
     "cell_type": "markdown",
     "metadata": {},
     "source": [
      "Writing the dictionary to a file, we used the following code"
     ]
    },
    {
     "cell_type": "code",
     "collapsed": false,
     "input": [
      "print open('gb_python/write_user_review_data.py').read()"
     ],
     "language": "python",
     "metadata": {},
     "outputs": [
      {
       "output_type": "stream",
       "stream": "stdout",
       "text": [
        "# written by Mobolaji Williams,\n",
        "# AC209-Final Proj\n",
        "\n",
        "# This code writes the user review data to a stable file. \n",
        "# Date and time of writing: 12/4/2014 7:32 PM\n",
        "\n",
        "## DO NOT WRITE AGAIN UNLESS YOU\n",
        "## 1) change the name of the file you're writing to\n",
        "## 2) no longer need the data you already wrote\n",
        "\n",
        "with open('data/gb_user_review_data_12_04_2014.csv', 'wb') as f:  # Just use 'w' mode in 3.x\n",
        "    w = csv.DictWriter(f, fieldnames = usr_rv_dict.keys())\n",
        "    w.writeheader()\n",
        "\n",
        "    for k in range(len(usr_g_names)):\n",
        "        w.writerow({'Name': encoding(usr_g_names)[k], 'User Review Score': usr_g_score[k], 'User Reviewer': usr_g_reviewer[k], 'Date of Review':usr_g_rv_date[k], \n",
        "               'Game Id': g_id[k] })\n",
        "\n"
       ]
      }
     ],
     "prompt_number": 22
    },
    {
     "cell_type": "markdown",
     "metadata": {},
     "source": [
      "We then used the collected user review data to define a data frame."
     ]
    },
    {
     "cell_type": "code",
     "collapsed": false,
     "input": [
      "# User review data frame\n",
      "usr_rv_frame = pd.read_csv('data/gb_user_review_data_12_04_2014.csv')[['Name', 'User Review Score', 'User Reviewer', 'Date of Review', 'Game Id']]\n",
      "usr_rv_frame.head()"
     ],
     "language": "python",
     "metadata": {},
     "outputs": [
      {
       "html": [
        "<div style=\"max-height:1000px;max-width:1500px;overflow:auto;\">\n",
        "<table border=\"1\" class=\"dataframe\">\n",
        "  <thead>\n",
        "    <tr style=\"text-align: right;\">\n",
        "      <th></th>\n",
        "      <th>Name</th>\n",
        "      <th>User Review Score</th>\n",
        "      <th>User Reviewer</th>\n",
        "      <th>Date of Review</th>\n",
        "      <th>Game Id</th>\n",
        "    </tr>\n",
        "  </thead>\n",
        "  <tbody>\n",
        "    <tr>\n",
        "      <th>0</th>\n",
        "      <td>                 Famicom Mini: Pac-Man</td>\n",
        "      <td> 5</td>\n",
        "      <td>    snide</td>\n",
        "      <td> 2008-07-14 21:49:21</td>\n",
        "      <td>  3030-7624</td>\n",
        "    </tr>\n",
        "    <tr>\n",
        "      <th>1</th>\n",
        "      <td> Icewind Dale II (Collector's Edition)</td>\n",
        "      <td> 5</td>\n",
        "      <td>    snide</td>\n",
        "      <td> 2008-07-20 01:09:02</td>\n",
        "      <td>  3030-8890</td>\n",
        "    </tr>\n",
        "    <tr>\n",
        "      <th>2</th>\n",
        "      <td>                      Gauntlet Legends</td>\n",
        "      <td> 4</td>\n",
        "      <td> joseppie</td>\n",
        "      <td> 2008-07-21 00:34:06</td>\n",
        "      <td> 3030-12245</td>\n",
        "    </tr>\n",
        "    <tr>\n",
        "      <th>3</th>\n",
        "      <td>                     MVP Baseball 2005</td>\n",
        "      <td> 5</td>\n",
        "      <td> joseppie</td>\n",
        "      <td> 2008-07-21 00:36:10</td>\n",
        "      <td>  3030-9978</td>\n",
        "    </tr>\n",
        "    <tr>\n",
        "      <th>4</th>\n",
        "      <td>           Need for Speed: Most Wanted</td>\n",
        "      <td> 4</td>\n",
        "      <td> joseppie</td>\n",
        "      <td> 2008-07-21 00:44:42</td>\n",
        "      <td> 3030-12976</td>\n",
        "    </tr>\n",
        "  </tbody>\n",
        "</table>\n",
        "</div>"
       ],
       "metadata": {},
       "output_type": "pyout",
       "prompt_number": 58,
       "text": [
        "                                    Name  User Review Score User Reviewer  \\\n",
        "0                  Famicom Mini: Pac-Man                  5         snide   \n",
        "1  Icewind Dale II (Collector's Edition)                  5         snide   \n",
        "2                       Gauntlet Legends                  4      joseppie   \n",
        "3                      MVP Baseball 2005                  5      joseppie   \n",
        "4            Need for Speed: Most Wanted                  4      joseppie   \n",
        "\n",
        "        Date of Review     Game Id  \n",
        "0  2008-07-14 21:49:21   3030-7624  \n",
        "1  2008-07-20 01:09:02   3030-8890  \n",
        "2  2008-07-21 00:34:06  3030-12245  \n",
        "3  2008-07-21 00:36:10   3030-9978  \n",
        "4  2008-07-21 00:44:42  3030-12976  "
       ]
      }
     ],
     "prompt_number": 58
    },
    {
     "cell_type": "markdown",
     "metadata": {},
     "source": [
      "---------------"
     ]
    },
    {
     "cell_type": "markdown",
     "metadata": {},
     "source": [
      "#### III.B.3. Game Genre Data"
     ]
    },
    {
     "cell_type": "markdown",
     "metadata": {},
     "source": [
      "The final Giant Bomb data set we collected was for game genre data. The \"genre\" label applied to video games is similar to the \"genre\" label applied to movies. In the same way you have \"Romantic Comedies\" and \"Thrillers\" in movies, you have \"Action-Adventures\" and \"Shooters\" in video games. The Giant Bomb data set lists 50 genres. A list of these genres will be useful later, so we generate this list now: making the API request for genres"
     ]
    },
    {
     "cell_type": "code",
     "collapsed": false,
     "input": [
      "url_genres = 'http://www.giantbomb.com/api/genres/?api_key=' + key + '&format=json&offset=' + str(0)\n",
      "# response format for API\n",
      "resp_genres = requests.get(url_genres)\n",
      "# loads text of response into json format\n",
      "genres_info = json.loads(resp_genres.text)\n",
      "# takes results from response\n",
      "genres = genres_info['results']"
     ],
     "language": "python",
     "metadata": {},
     "outputs": [],
     "prompt_number": 76
    },
    {
     "cell_type": "markdown",
     "metadata": {},
     "source": [
      "and extracting a list of the first ten genres we have "
     ]
    },
    {
     "cell_type": "code",
     "collapsed": false,
     "input": [
      "# creates a list of genres\n",
      "genres_list = list()\n",
      "for elem in genres: \n",
      "    genres_list.append(elem['name'])\n",
      "\n",
      "#first five elements of list\n",
      "print genres_list[:10]\n",
      "#Total number of genres\n",
      "print 'Total number of genres:',len(genres_list)"
     ],
     "language": "python",
     "metadata": {},
     "outputs": [
      {
       "output_type": "stream",
       "stream": "stdout",
       "text": [
        "[u'Action', u'Strategy', u'Sports', u'Adventure', u'Role-Playing', u'Driving/Racing', u'Simulation', u'Educational', u'Fighting', u'Wrestling']\n",
        "Total number of genres: 50\n"
       ]
      }
     ],
     "prompt_number": 77
    },
    {
     "cell_type": "markdown",
     "metadata": {},
     "source": [
      "Our goal was to collect all the video games (with at least one user review) for each genre. Because Giant Bomb did not simply provide a list of video games associated with a particular genre, we had to collect this infomration indirectly. We first collected all the names of games with more than one user review; then we documented each game's list of genres and finally we inverted our collected data to give us all the games associated with a particular genre. \n",
      "\n",
      "To first collect the genres of all the video games in GB's data base we accessed http://www.giantbomb.com/api/games?api_key=4e5fb6427e24a4c3b594157915684189d9c72297. However, there are ~44,000 games in GB's database and the API has a rate limit of 400 requests every 15 minutes."
     ]
    },
    {
     "cell_type": "code",
     "collapsed": false,
     "input": [
      "url_games = 'http://www.giantbomb.com/api/games/?api_key=' + key + '&format=json&offset=' + str(0)\n",
      "# response format for API\n",
      "resp_games = requests.get(url_games)\n",
      "# loads text of response into json format\n",
      "games_info = json.loads(resp_games.text)\n",
      "# Total numbe of games in \n",
      "print 'Total number of games in Giant Bomb database: ', games_info['number_of_total_results']"
     ],
     "language": "python",
     "metadata": {},
     "outputs": [
      {
       "output_type": "stream",
       "stream": "stdout",
       "text": [
        "Total number of games in Giant Bomb database:  44348\n"
       ]
      }
     ],
     "prompt_number": 11
    },
    {
     "cell_type": "markdown",
     "metadata": {},
     "source": [
      "Collecting all the video game data, then would take about 25 hours. To reduce the time of data collection, we decided to collect only the games associated with a user review. This was not an arbitrary cut seeing as our later analysis of the genre data can only factor in games with at least one user review. We found the list of games with at least one user review with our `usr_rv_frame`. Collecting the unique list of game name and ID combinations, we had the new frame"
     ]
    },
    {
     "cell_type": "code",
     "collapsed": false,
     "input": [
      "unique_usr_rvs = usr_rv_frame[['Name', 'Game Id']].drop_duplicates().reset_index(drop=True)\n",
      "unique_usr_rvs.head()"
     ],
     "language": "python",
     "metadata": {},
     "outputs": [
      {
       "html": [
        "<div style=\"max-height:1000px;max-width:1500px;overflow:auto;\">\n",
        "<table border=\"1\" class=\"dataframe\">\n",
        "  <thead>\n",
        "    <tr style=\"text-align: right;\">\n",
        "      <th></th>\n",
        "      <th>Name</th>\n",
        "      <th>Game Id</th>\n",
        "    </tr>\n",
        "  </thead>\n",
        "  <tbody>\n",
        "    <tr>\n",
        "      <th>0</th>\n",
        "      <td>                 Famicom Mini: Pac-Man</td>\n",
        "      <td>  3030-7624</td>\n",
        "    </tr>\n",
        "    <tr>\n",
        "      <th>1</th>\n",
        "      <td> Icewind Dale II (Collector's Edition)</td>\n",
        "      <td>  3030-8890</td>\n",
        "    </tr>\n",
        "    <tr>\n",
        "      <th>2</th>\n",
        "      <td>                      Gauntlet Legends</td>\n",
        "      <td> 3030-12245</td>\n",
        "    </tr>\n",
        "    <tr>\n",
        "      <th>3</th>\n",
        "      <td>                     MVP Baseball 2005</td>\n",
        "      <td>  3030-9978</td>\n",
        "    </tr>\n",
        "    <tr>\n",
        "      <th>4</th>\n",
        "      <td>           Need for Speed: Most Wanted</td>\n",
        "      <td> 3030-12976</td>\n",
        "    </tr>\n",
        "  </tbody>\n",
        "</table>\n",
        "</div>"
       ],
       "metadata": {},
       "output_type": "pyout",
       "prompt_number": 59,
       "text": [
        "                                    Name     Game Id\n",
        "0                  Famicom Mini: Pac-Man   3030-7624\n",
        "1  Icewind Dale II (Collector's Edition)   3030-8890\n",
        "2                       Gauntlet Legends  3030-12245\n",
        "3                      MVP Baseball 2005   3030-9978\n",
        "4            Need for Speed: Most Wanted  3030-12976"
       ]
      }
     ],
     "prompt_number": 59
    },
    {
     "cell_type": "markdown",
     "metadata": {},
     "source": [
      "With a length of about ~5000:"
     ]
    },
    {
     "cell_type": "code",
     "collapsed": false,
     "input": [
      "print \"Number of games with at least one user review:\", len(unique_usr_rvs)"
     ],
     "language": "python",
     "metadata": {},
     "outputs": [
      {
       "output_type": "stream",
       "stream": "stdout",
       "text": [
        "Number of games with at least one user review: 5012\n"
       ]
      }
     ],
     "prompt_number": 14
    },
    {
     "cell_type": "markdown",
     "metadata": {},
     "source": [
      "Given our rate limit this presents a much more reasonable time scale of data collection. Still, because of the rate limit, we had to stratify our data collection. We had to call the API 5012 times with no more than 400 calls every 15 minutes. To ensure no requests overlapped, our calling scheme was to make a request for 350 entries every 20 minutes. Consequently, we defined a list of indices which defined the cutoffs for our request."
     ]
    },
    {
     "cell_type": "code",
     "collapsed": false,
     "input": [
      "interval_list = list(np.array(range(0,15))*350)\n",
      "interval_list.append(5012)\n",
      "print interval_list"
     ],
     "language": "python",
     "metadata": {},
     "outputs": [
      {
       "output_type": "stream",
       "stream": "stdout",
       "text": [
        "[0, 350, 700, 1050, 1400, 1750, 2100, 2450, 2800, 3150, 3500, 3850, 4200, 4550, 4900, 5012]\n"
       ]
      }
     ],
     "prompt_number": 19
    },
    {
     "cell_type": "markdown",
     "metadata": {},
     "source": [
      "We would make a request for the the first 350 games in the first 20 minutes, the next 350 in the next 20 minutes and so on, until we went through all of the games in `unique_usr_rvs`. We collected four pieces of information for each video game: the name of the game, the game id, the game release date, the genres associated with the game, and the number of user reviews of the game. Each piece of information could be straighforwardly extracted from the API. \n",
      "\n",
      "The code we used to extract the data was as follows"
     ]
    },
    {
     "cell_type": "code",
     "collapsed": false,
     "input": [
      "for call in range(1,15):\n",
      "    \n",
      "    intvl = range(interval_list[call-1],interval_list[call])\n",
      "    \n",
      "    print 'Starting time of call number '+str(call)+': ' +datetime.now().time().strftime('%I:%M:%S %p')\n",
      "    # data collection\n",
      "    for k in intvl:\n",
      "\n",
      "        \n",
      "        game_id = unique_usr_rvs['Game Id'][k]\n",
      "\n",
      "        url_eg_game = 'http://www.giantbomb.com/api/game/'+game_id+'/?api_key=' + key + '&format=json'\n",
      "\n",
      "        # response format for API\n",
      "        resp_eg_game = requests.get(url_eg_game)\n",
      "\n",
      "        # loads text of response into json format\n",
      "        eg_game_info= json.loads(resp_eg_game.text)\n",
      "\n",
      "        # redefine list\n",
      "        eg_game = eg_game_info['results']\n",
      "\n",
      "        if 'genres' in eg_game.keys():\n",
      "\n",
      "            game_name = eg_game['name']\n",
      "            game_date = eg_game['original_release_date']\n",
      "            game_rv_num = eg_game['number_of_user_reviews']\n",
      "\n",
      "            game_genre = list()\n",
      "            for elem1 in eg_game['genres']:\n",
      "                game_genre.append(elem1['name'])\n",
      "\n",
      "            game_names.append(game_name)\n",
      "            game_dates.append(game_date)\n",
      "            game_genres.append(game_genre)\n",
      "            game_rv_nums.append(game_rv_num)\n",
      "            game_id_list.append(game_id)\n",
      "            \n",
      "    print 'Ending time of call number '+str(call)+': ' +datetime.now().time().strftime('%I:%M:%S %p')\n",
      "    print \n",
      "    \n",
      "    time.sleep(60*20)"
     ],
     "language": "python",
     "metadata": {},
     "outputs": []
    },
    {
     "cell_type": "markdown",
     "metadata": {},
     "source": [
      "Once we gathered the data, we defined a dictionary including each data element"
     ]
    },
    {
     "cell_type": "code",
     "collapsed": false,
     "input": [
      "game_and_genre_dict = {'Name': game_names,'Genres': game_genres, 'Date Released': game_dates, 'Number of User Reviews': game_rv_nums , 'Game Id': game_id_list}"
     ],
     "language": "python",
     "metadata": {},
     "outputs": []
    },
    {
     "cell_type": "markdown",
     "metadata": {},
     "source": [
      "We then wrote the data to a file using the following code"
     ]
    },
    {
     "cell_type": "code",
     "collapsed": false,
     "input": [
      "print open('gb_python/write_game_genre_data.py').read()"
     ],
     "language": "python",
     "metadata": {},
     "outputs": [
      {
       "output_type": "stream",
       "stream": "stdout",
       "text": [
        "# This code writes the staff review data to a stable file. \n",
        "# Date and time of writing: 12/5/2014 11:52 PM\n",
        "\n",
        "## DO NOT WRITE AGAIN UNLESS YOU\n",
        "## 1) change the name of the file you're writing to\n",
        "## 2) no longer need the data you already wrote\n",
        "\n",
        "with open('my_data/game_genre_data2_12_05_2014.csv', 'wb') as f:  # Just use 'w' mode in 3.x\n",
        "    w = csv.DictWriter(f, fieldnames = game_and_genre_dict.keys())\n",
        "    w.writeheader()\n",
        "\n",
        "    for k in range(len(game_names)):\n",
        "        w.writerow({'Name': encoding(game_names)[k], 'Genres': game_genres[k], 'Date Released': game_dates[k], 'Number of User Reviews': game_rv_nums[k], \n",
        "                    'Game Id': game_id_list[k]})\n",
        "\n"
       ]
      }
     ],
     "prompt_number": 21
    },
    {
     "cell_type": "markdown",
     "metadata": {},
     "source": [
      "The collected data was then used to define a data frame:"
     ]
    },
    {
     "cell_type": "code",
     "collapsed": false,
     "input": [
      "# Genre frame\n",
      "game_and_genre_frame = pd.read_csv('data/gb_game_genre_data2_12_05_2014.csv')[['Name', 'Genres','Date Released', 'Number of User Reviews', 'Game Id']]\n",
      "game_and_genre_frame.head()"
     ],
     "language": "python",
     "metadata": {},
     "outputs": [
      {
       "html": [
        "<div style=\"max-height:1000px;max-width:1500px;overflow:auto;\">\n",
        "<table border=\"1\" class=\"dataframe\">\n",
        "  <thead>\n",
        "    <tr style=\"text-align: right;\">\n",
        "      <th></th>\n",
        "      <th>Name</th>\n",
        "      <th>Genres</th>\n",
        "      <th>Date Released</th>\n",
        "      <th>Number of User Reviews</th>\n",
        "      <th>Game Id</th>\n",
        "    </tr>\n",
        "  </thead>\n",
        "  <tbody>\n",
        "    <tr>\n",
        "      <th>0</th>\n",
        "      <td>                     Pac-Man</td>\n",
        "      <td>           [u'Strategy', u'Puzzle']</td>\n",
        "      <td> 1980-05-22 00:00:00</td>\n",
        "      <td>  4</td>\n",
        "      <td>  3030-7624</td>\n",
        "    </tr>\n",
        "    <tr>\n",
        "      <th>1</th>\n",
        "      <td>             Icewind Dale II</td>\n",
        "      <td>                  [u'Role-Playing']</td>\n",
        "      <td> 2002-08-28 00:00:00</td>\n",
        "      <td>  1</td>\n",
        "      <td>  3030-8890</td>\n",
        "    </tr>\n",
        "    <tr>\n",
        "      <th>2</th>\n",
        "      <td>            Gauntlet Legends</td>\n",
        "      <td>      [u'Role-Playing', u'Brawler']</td>\n",
        "      <td> 1998-10-31 00:00:00</td>\n",
        "      <td>  1</td>\n",
        "      <td> 3030-12245</td>\n",
        "    </tr>\n",
        "    <tr>\n",
        "      <th>3</th>\n",
        "      <td>           MVP Baseball 2005</td>\n",
        "      <td>           [u'Sports', u'Baseball']</td>\n",
        "      <td> 2005-02-22 00:00:00</td>\n",
        "      <td>  4</td>\n",
        "      <td>  3030-9978</td>\n",
        "    </tr>\n",
        "    <tr>\n",
        "      <th>4</th>\n",
        "      <td> Need for Speed: Most Wanted</td>\n",
        "      <td> [u'Driving/Racing', u'Simulation']</td>\n",
        "      <td> 2005-11-15 00:00:00</td>\n",
        "      <td> 17</td>\n",
        "      <td> 3030-12976</td>\n",
        "    </tr>\n",
        "  </tbody>\n",
        "</table>\n",
        "</div>"
       ],
       "metadata": {},
       "output_type": "pyout",
       "prompt_number": 60,
       "text": [
        "                          Name                              Genres  \\\n",
        "0                      Pac-Man            [u'Strategy', u'Puzzle']   \n",
        "1              Icewind Dale II                   [u'Role-Playing']   \n",
        "2             Gauntlet Legends       [u'Role-Playing', u'Brawler']   \n",
        "3            MVP Baseball 2005            [u'Sports', u'Baseball']   \n",
        "4  Need for Speed: Most Wanted  [u'Driving/Racing', u'Simulation']   \n",
        "\n",
        "         Date Released  Number of User Reviews     Game Id  \n",
        "0  1980-05-22 00:00:00                       4   3030-7624  \n",
        "1  2002-08-28 00:00:00                       1   3030-8890  \n",
        "2  1998-10-31 00:00:00                       1  3030-12245  \n",
        "3  2005-02-22 00:00:00                       4   3030-9978  \n",
        "4  2005-11-15 00:00:00                      17  3030-12976  "
       ]
      }
     ],
     "prompt_number": 60
    },
    {
     "cell_type": "markdown",
     "metadata": {},
     "source": [
      "With this gathered data, we were then able to begin our exploratory analysis."
     ]
    },
    {
     "cell_type": "markdown",
     "metadata": {},
     "source": [
      "### III.C. Giant Bomb Exploratory Analysis"
     ]
    },
    {
     "cell_type": "markdown",
     "metadata": {},
     "source": [
      "#### What is the distribution of staff review scores?\n",
      "\n",
      "Our collected staff review data includes the staff member who reviewed the game, the date the game was reviewed and the score given to the game. The most basic question we can ask about the data is what is the distribution of all staff review scores. "
     ]
    },
    {
     "cell_type": "markdown",
     "metadata": {},
     "source": [
      " Printing the head of the `staff_rv_frame` and the number of elements, we have"
     ]
    },
    {
     "cell_type": "code",
     "collapsed": false,
     "input": [
      "staff_rv_frame.head()"
     ],
     "language": "python",
     "metadata": {},
     "outputs": [
      {
       "html": [
        "<div style=\"max-height:1000px;max-width:1500px;overflow:auto;\">\n",
        "<table border=\"1\" class=\"dataframe\">\n",
        "  <thead>\n",
        "    <tr style=\"text-align: right;\">\n",
        "      <th></th>\n",
        "      <th>Name</th>\n",
        "      <th>Giant Bomb Score</th>\n",
        "      <th>Reviewer</th>\n",
        "      <th>Date of Review</th>\n",
        "    </tr>\n",
        "  </thead>\n",
        "  <tbody>\n",
        "    <tr>\n",
        "      <th>0</th>\n",
        "      <td>                                 SingStar</td>\n",
        "      <td> 4</td>\n",
        "      <td> Jeff</td>\n",
        "      <td> 2008-05-23 13:00:00</td>\n",
        "    </tr>\n",
        "    <tr>\n",
        "      <th>1</th>\n",
        "      <td>                                     Haze</td>\n",
        "      <td> 2</td>\n",
        "      <td> Jeff</td>\n",
        "      <td> 2008-05-20 17:00:00</td>\n",
        "    </tr>\n",
        "    <tr>\n",
        "      <th>2</th>\n",
        "      <td> Metal Gear Solid 4: Guns of the Patriots</td>\n",
        "      <td> 5</td>\n",
        "      <td> Brad</td>\n",
        "      <td> 2008-06-20 12:00:00</td>\n",
        "    </tr>\n",
        "    <tr>\n",
        "      <th>3</th>\n",
        "      <td>                              Poker Smash</td>\n",
        "      <td> 4</td>\n",
        "      <td> Jeff</td>\n",
        "      <td> 2008-02-29 12:00:00</td>\n",
        "    </tr>\n",
        "    <tr>\n",
        "      <th>4</th>\n",
        "      <td>                 Battlefield: Bad Company</td>\n",
        "      <td> 5</td>\n",
        "      <td> Jeff</td>\n",
        "      <td> 2008-07-06 12:00:00</td>\n",
        "    </tr>\n",
        "  </tbody>\n",
        "</table>\n",
        "</div>"
       ],
       "metadata": {},
       "output_type": "pyout",
       "prompt_number": 4,
       "text": [
        "                                       Name  Giant Bomb Score Reviewer  \\\n",
        "0                                  SingStar                 4     Jeff   \n",
        "1                                      Haze                 2     Jeff   \n",
        "2  Metal Gear Solid 4: Guns of the Patriots                 5     Brad   \n",
        "3                               Poker Smash                 4     Jeff   \n",
        "4                  Battlefield: Bad Company                 5     Jeff   \n",
        "\n",
        "        Date of Review  \n",
        "0  2008-05-23 13:00:00  \n",
        "1  2008-05-20 17:00:00  \n",
        "2  2008-06-20 12:00:00  \n",
        "3  2008-02-29 12:00:00  \n",
        "4  2008-07-06 12:00:00  "
       ]
      }
     ],
     "prompt_number": 4
    },
    {
     "cell_type": "code",
     "collapsed": false,
     "input": [
      "print 'Number of staff reviews: ', len(staff_rv_frame)"
     ],
     "language": "python",
     "metadata": {},
     "outputs": [
      {
       "output_type": "stream",
       "stream": "stdout",
       "text": [
        "Number of staff reviews:  652\n"
       ]
      }
     ],
     "prompt_number": 5
    },
    {
     "cell_type": "markdown",
     "metadata": {},
     "source": [
      "And now plotting a simple histogram of scores, gives us"
     ]
    },
    {
     "cell_type": "code",
     "collapsed": false,
     "input": [
      "# Histogram distribution of Giant Bomb Scores\n",
      "\n",
      "plt.figure(figsize=(8,6))\n",
      "n, bins, patches = plt.hist(staff_rv_frame['Giant Bomb Score'], 15)\n",
      "plt.title(\" Distribution of Giant Bomb Game Scores\")\n",
      "plt.xlabel(\"Score\")\n",
      "plt.ylabel(\"Numbers of Occurences\")"
     ],
     "language": "python",
     "metadata": {},
     "outputs": [
      {
       "metadata": {},
       "output_type": "pyout",
       "prompt_number": 6,
       "text": [
        "<matplotlib.text.Text at 0xc3d7940>"
       ]
      },
      {
       "metadata": {},
       "output_type": "display_data",
       "png": "[encoded data removed]",
       "text": [
        "<matplotlib.figure.Figure at 0xc451630>"
       ]
      }
     ],
     "prompt_number": 6
    },
    {
     "cell_type": "markdown",
     "metadata": {},
     "source": [
      "We see that 4/5 is the most common score given by staff to video games, followed by 3/5, then 5/5. Taking 3/5 to be define an average game, interestingly, we see that the most of the games the Giant Bomb staff reviews appear to be above average. This is perhaps not too surprising: The Giant Bomb staff cannot review all newly released games and consequently must choose the games which are most likely to be played by its user base. The games most likely to be played by the user base would tend to be the franchise (*e.g. Batman: Arkham Asylum* or *Pokemon*) or more heavily advertised games which are connected to big name publishers such as Activision or Nintendo. Because of the financial resources at the disposal of these publishers it\u2019s not unreasonable to expect that the quality of the games they publish are generally better than average. "
     ]
    },
    {
     "cell_type": "markdown",
     "metadata": {},
     "source": [
      "We see this \u2018high mean\u2019 effect in the Game Spot data as well. The Game Spot score spectrum runs from 1 to 10, but most of the games reviewed by the Game Spot staff are given a score of 7 or 8. Plotting the spectrum of game spot data we have:"
     ]
    },
    {
     "cell_type": "code",
     "collapsed": false,
     "input": [
      "gs_scores = np.array([float(r['score']) for r in gs_data])\n",
      "plt.figure(figsize=(8,6))\n",
      "plt.hist(gs_scores, bins=np.arange(0,12)-0.5)\n",
      "plt.xlim((-0.5, 10.5))\n",
      "plt.xticks(range(11))\n",
      "plt.xlabel('rating')\n",
      "plt.ylabel('number of reviews per bin')\n",
      "plt.title('Distribution of Game Spot Review Scores')"
     ],
     "language": "python",
     "metadata": {},
     "outputs": [
      {
       "metadata": {},
       "output_type": "pyout",
       "prompt_number": 25,
       "text": [
        "<matplotlib.text.Text at 0x21b12908>"
       ]
      },
      {
       "metadata": {},
       "output_type": "display_data",
       "png": "[encoded data removed]",
       "text": [
        "<matplotlib.figure.Figure at 0x21983828>"
       ]
      }
     ],
     "prompt_number": 25
    },
    {
     "cell_type": "markdown",
     "metadata": {},
     "source": [
      "#### Does the distribution of staff review scores change over time? "
     ]
    },
    {
     "cell_type": "markdown",
     "metadata": {},
     "source": [
      "It's possible that the review scores have some correlation with the time the review was logged. We could ask, is there any variation in the average of Giant Bomb scores from year to year?"
     ]
    },
    {
     "cell_type": "markdown",
     "metadata": {},
     "source": [
      "First converting the date and time data to the datetime format"
     ]
    },
    {
     "cell_type": "code",
     "collapsed": false,
     "input": [
      "import datetime as dt # module for manipulating dates and times\n",
      "\n",
      "# converting Data of Review to Datetime format\n",
      "staff_rv_frame['Date of Review'] = pd.to_datetime(staff_rv_frame['Date of Review'])"
     ],
     "language": "python",
     "metadata": {},
     "outputs": [],
     "prompt_number": 17
    },
    {
     "cell_type": "markdown",
     "metadata": {},
     "source": [
      "and extracting the month and year data from our time data and adding them to our data frame"
     ]
    },
    {
     "cell_type": "code",
     "collapsed": false,
     "input": [
      "# extracts year and month from review\n",
      "staff_rv_frame['year'] = map(lambda x: x.year, staff_rv_frame['Date of Review'])\n",
      "staff_rv_frame['month'] = map(lambda x: x.month, staff_rv_frame['Date of Review'])"
     ],
     "language": "python",
     "metadata": {},
     "outputs": [],
     "prompt_number": 18
    },
    {
     "cell_type": "markdown",
     "metadata": {},
     "source": [
      "and then plotting the distribution of score values for each year, gives us the following result"
     ]
    },
    {
     "cell_type": "code",
     "collapsed": false,
     "input": [
      "staff_rv_frame.boxplot('Giant Bomb Score', by = 'year', rot = 90)\n",
      "plt.ylabel('Giant Bomb Score')\n",
      "plt.ylim(0,6)\n",
      "plt.show()"
     ],
     "language": "python",
     "metadata": {},
     "outputs": [
      {
       "metadata": {},
       "output_type": "display_data",
       "png": "[encoded data removed]",
       "text": [
        "<matplotlib.figure.Figure at 0xc5e74a8>"
       ]
      }
     ],
     "prompt_number": 20
    },
    {
     "cell_type": "markdown",
     "metadata": {},
     "source": [
      "This simply states that from year to year, all the review scores maintain roughly the same distribution. To see variations in the distribution over time, it turns out that it is better to plot the distribution of the monthly average of the reviews per year.  "
     ]
    },
    {
     "cell_type": "markdown",
     "metadata": {},
     "source": [
      "Computing the average of the score values by month,"
     ]
    },
    {
     "cell_type": "code",
     "collapsed": false,
     "input": [
      "# compute the average of reviews for each month of a year\n",
      "avg_game_frame = staff_rv_frame.groupby(['year','month'], \n",
      "                                     as_index = False)['Giant Bomb Score', 'year', 'month'].mean()"
     ],
     "language": "python",
     "metadata": {},
     "outputs": [],
     "prompt_number": 21
    },
    {
     "cell_type": "markdown",
     "metadata": {},
     "source": [
      "and then plotting the distribution of these averages over the years, we have"
     ]
    },
    {
     "cell_type": "code",
     "collapsed": false,
     "input": [
      "# plot the distribution of these averages by year\n",
      "avg_game_frame.boxplot('Giant Bomb Score', by = 'year', rot = 90)\n",
      "plt.ylabel('Giant Bomb Score')\n",
      "plt.ylim(0,6)\n",
      "plt.show()"
     ],
     "language": "python",
     "metadata": {},
     "outputs": [
      {
       "metadata": {},
       "output_type": "display_data",
       "png": "[encoded data removed]",
       "text": [
        "<matplotlib.figure.Figure at 0x21a00eb8>"
       ]
      }
     ],
     "prompt_number": 24
    },
    {
     "cell_type": "markdown",
     "metadata": {},
     "source": [
      "We see that aside from the relatively large variance in score distribution in 2013, from year to year the Giant Bomb score remains relatively stable."
     ]
    },
    {
     "cell_type": "markdown",
     "metadata": {},
     "source": [
      "#### What is the distribution of user review scores? "
     ]
    },
    {
     "cell_type": "markdown",
     "metadata": {},
     "source": [
      "We just analyzed the staff reviewer data set. The other more populous data set consists of user reviews. Just to get an idea of the number of elements in this data set we can do an API call directly to Giant Bomb\u2019s site. "
     ]
    },
    {
     "cell_type": "code",
     "collapsed": false,
     "input": [
      "# API for Giant Bomb USER Reviews\n",
      "url_usrreviews = 'http://www.giantbomb.com/api/user_reviews/?api_key=' + key + '&format=json&offset=0' \n",
      "# response format for API\n",
      "resp_usrreview = requests.get(url_usrreviews)\n",
      "# loads text of response into json format\n",
      "usrreview_info = json.loads(resp_usrreview.text)"
     ],
     "language": "python",
     "metadata": {},
     "outputs": [],
     "prompt_number": 28
    },
    {
     "cell_type": "code",
     "collapsed": false,
     "input": [
      "# number of results for single page\n",
      "print 'Total number of user review results: ',usrreview_info['number_of_total_results']"
     ],
     "language": "python",
     "metadata": {},
     "outputs": [
      {
       "output_type": "stream",
       "stream": "stdout",
       "text": [
        "Total number of user review results:  26405\n"
       ]
      }
     ],
     "prompt_number": 29
    },
    {
     "cell_type": "markdown",
     "metadata": {},
     "source": [
      "So we apparently have about 26,000 user reviews. However, some of these API calls produce empty results. For example, when we look at the 25,000th page we find no user review information."
     ]
    },
    {
     "cell_type": "code",
     "collapsed": false,
     "input": [
      "offset = 25000\n",
      "url_usr_review_25k = 'http://www.giantbomb.com/api/user_reviews/?api_key=' + key + '&format=json&offset=' + str(offset)\n",
      "resp_usr_review_25k = requests.get(url_usr_review_25k)\n",
      "usr_review_info_25k = json.loads(resp_usr_review_25k.text)\n",
      "usr_rv_25k = usr_review_info_25k['results']\n",
      "\n",
      "usr_rv_25k"
     ],
     "language": "python",
     "metadata": {},
     "outputs": [
      {
       "metadata": {},
       "output_type": "pyout",
       "prompt_number": 31,
       "text": [
        "[]"
       ]
      }
     ],
     "prompt_number": 31
    },
    {
     "cell_type": "markdown",
     "metadata": {},
     "source": [
      "Fortunately, even though the API calls empty elements, the data we inserted into a file only includes non-empty elements. The actual number of user reviews is then"
     ]
    },
    {
     "cell_type": "code",
     "collapsed": false,
     "input": [
      "print 'Total number of user reviews: ', len(usr_rv_frame)"
     ],
     "language": "python",
     "metadata": {},
     "outputs": [
      {
       "output_type": "stream",
       "stream": "stdout",
       "text": [
        "Total number of user reviews:  24742\n"
       ]
      }
     ],
     "prompt_number": 32
    },
    {
     "cell_type": "markdown",
     "metadata": {},
     "source": [
      "With this data frame we can now answer the analogous question to the one first asked above: What is the distribution of Giant Bomb user review scores? Making a basic plot we have"
     ]
    },
    {
     "cell_type": "code",
     "collapsed": false,
     "input": [
      "# Histogram distribution of Giant Bomb User Review Scores\n",
      "\n",
      "plt.figure(figsize=(8,6))\n",
      "n, bins, patches = plt.hist(usr_rv_frame['User Review Score'], 15)\n",
      "plt.title(\" Distribution of Giant Bomb User Review Scores\")\n",
      "plt.xlabel(\"Score\")\n",
      "plt.ylabel(\"Numbers of Occurences\")"
     ],
     "language": "python",
     "metadata": {},
     "outputs": [
      {
       "metadata": {},
       "output_type": "pyout",
       "prompt_number": 33,
       "text": [
        "<matplotlib.text.Text at 0x27263828>"
       ]
      },
      {
       "metadata": {},
       "output_type": "display_data",
       "png": "[encoded data removed]",
       "text": [
        "<matplotlib.figure.Figure at 0x1aa3a0b8>"
       ]
      }
     ],
     "prompt_number": 33
    },
    {
     "cell_type": "markdown",
     "metadata": {},
     "source": [
      "We first note that unlike the Giant Bomb staff reviews, a user review can, in a sense, have a score of 0. We say 'in a sense' because although the Giant Bomb score spectrum is from one to five stars, the Giant Bomb API associates a score of 0 with user reviews which do not include a specific score. See the two reviews in http://www.giantbomb.com/jumper-griffins-story/3030-20797/user-reviews/ for instance. \n",
      "\n",
      "Second, we see that similar to the Giant Bomb staff review scores, the distribution of user review scores has a mean centered well above the natural mean of the range. In fact, the user reviews have a greater proportion of scores which are greater than or equal to three than do the staff reviews. \n"
     ]
    },
    {
     "cell_type": "code",
     "collapsed": false,
     "input": [
      "print 'Proportion of user reviews with score greater than 3: ', float(len(usr_rv_frame[usr_rv_frame['User Review Score'] > 3]))/(len(usr_rv_frame))\n",
      "print 'Proportion of staff reviews with score greater than 3: ', float(len(staff_rv_frame[staff_rv_frame['Giant Bomb Score'] > 3]))/(len(staff_rv_frame))"
     ],
     "language": "python",
     "metadata": {},
     "outputs": [
      {
       "output_type": "stream",
       "stream": "stdout",
       "text": [
        "Proportion of user reviews with score greater than 3:  "
       ]
      },
      {
       "output_type": "stream",
       "stream": "stdout",
       "text": [
        "0.737005900897\n",
        "Proportion of staff reviews with score greater than 3:  0.55981595092\n"
       ]
      }
     ],
     "prompt_number": 34
    },
    {
     "cell_type": "markdown",
     "metadata": {},
     "source": [
      "This disparity may naively be attributed to the hyperbolic tendencies common to an anonymous online public in comparison to the more level headed appraisals made by a staff who must be accountable to some institution. More constructively, we must note that while there is only one staff review per game, many different users can review and score the same game. The number of unique games reviewed in the entire Giant Bomb data set can be computed by finding the length of the list of unique names in the `usr_rv_frame`"
     ]
    },
    {
     "cell_type": "code",
     "collapsed": false,
     "input": [
      "print 'Total number of unique games reviewed: ', len(set(usr_rv_frame['Name']))"
     ],
     "language": "python",
     "metadata": {},
     "outputs": [
      {
       "output_type": "stream",
       "stream": "stdout",
       "text": [
        "Total number of unique games reviewed:  4970\n"
       ]
      }
     ],
     "prompt_number": 35
    },
    {
     "cell_type": "markdown",
     "metadata": {},
     "source": [
      "So although there are about 25000 user reviews, these users have collectively reviewed only about 5000 games. "
     ]
    },
    {
     "cell_type": "markdown",
     "metadata": {},
     "source": [
      "Aside from the possible differences in reviewing style between the two groups, how can we explain why the net user review distribution has a higher proportion of high ratings than the staff review distribution? Well, we note that the user review distribution includes all the user reviews for a particular game, and the popular games which are most likely of higher than average quality would have a higher number of the user reviews.  Consequently, collecting all user reviews would lead to a distribution with a higher proportion of 4s and 5s with respect to a distribution which slotted only one score per game. We can confirm this expectation by averaging over the user review scores per game. "
     ]
    },
    {
     "cell_type": "code",
     "collapsed": false,
     "input": [
      "## Data frame of average user review score per game\n",
      "# This averaging washes away the datetime and reviewer name data \n",
      "\n",
      "unique_rvs = usr_rv_frame.groupby(['Name','Game Id'],as_index = False)['Name', 'Game Id','User Review Score'].mean()\n",
      "unique_rvs.head()\n",
      "\n",
      "# rounds the scores in the above frame to their nearest integer values\n",
      "discrete_score = list()\n",
      "for elem in list(unique_rvs['User Review Score']):\n",
      "    discrete_score.append(round(elem))\n",
      "    \n",
      "# Histogram distribution of average user review scores for each game (rounded)\n",
      "plt.figure(figsize=(8,6))\n",
      "n, bins, patches = plt.hist(discrete_score, 15)\n",
      "plt.title(\" Distribution of User Review Scores-rounded avg per game\", y =1.1)\n",
      "plt.xlabel(\"Score\")\n",
      "plt.ylabel(\"Numbers of Occurences\")"
     ],
     "language": "python",
     "metadata": {},
     "outputs": [
      {
       "metadata": {},
       "output_type": "pyout",
       "prompt_number": 40,
       "text": [
        "<matplotlib.text.Text at 0x1fd309b0>"
       ]
      },
      {
       "metadata": {},
       "output_type": "display_data",
       "png": "[encoded data removed]",
       "text": [
        "<matplotlib.figure.Figure at 0x2725b898>"
       ]
      }
     ],
     "prompt_number": 40
    },
    {
     "cell_type": "markdown",
     "metadata": {},
     "source": [
      "And thus we see that the user review distribution (with one average review score per game) more closely approximates the staff review distribution. \n",
      "\n",
      "----"
     ]
    },
    {
     "cell_type": "markdown",
     "metadata": {},
     "source": [
      "#### What is the correlation between user review scores and staff review scores? \n"
     ]
    },
    {
     "cell_type": "markdown",
     "metadata": {},
     "source": [
      "The final exploratory question we will consider is the correlation between staff review scores and user review scores. Phrased more colloquially we ask does the average user review score for a particular game typically match the score provided by a staff reviewer? Knowing the correspondence between staff review scores and user review scores will allow us to infer how well we expect a text-classification trained using staff review data to accurately predict the \u2018positive\u2019 or \u2018negative\u2019 sentiment expressed by a user\u2019s review. \n",
      "\n",
      "To find this correspondence we merge the two data sets based on the game name. In this case we choose to merge the average user review without applying the floor function which makes the averages meet their standard integer values. If we were to apply the floor function all of the points of our scatter plot would be confined to grid like values which would obscure the underlying distribution."
     ]
    },
    {
     "cell_type": "code",
     "collapsed": false,
     "input": [
      "from pandas import merge\n",
      "\n",
      "all_rvs = merge(unique_rvs, staff_rv_frame, how = 'inner')\n",
      "all_rvs.head()"
     ],
     "language": "python",
     "metadata": {},
     "outputs": [
      {
       "html": [
        "<div style=\"max-height:1000px;max-width:1500px;overflow:auto;\">\n",
        "<table border=\"1\" class=\"dataframe\">\n",
        "  <thead>\n",
        "    <tr style=\"text-align: right;\">\n",
        "      <th></th>\n",
        "      <th>Name</th>\n",
        "      <th>Game Id</th>\n",
        "      <th>User Review Score</th>\n",
        "      <th>Giant Bomb Score</th>\n",
        "      <th>Reviewer</th>\n",
        "      <th>Date of Review</th>\n",
        "      <th>year</th>\n",
        "      <th>month</th>\n",
        "    </tr>\n",
        "  </thead>\n",
        "  <tbody>\n",
        "    <tr>\n",
        "      <th>0</th>\n",
        "      <td>                007 Legends</td>\n",
        "      <td> 3030-38040</td>\n",
        "      <td> 2.000000</td>\n",
        "      <td> 2</td>\n",
        "      <td> Alex</td>\n",
        "      <td>2012-10-18 13:00:00</td>\n",
        "      <td> 2012</td>\n",
        "      <td> 10</td>\n",
        "    </tr>\n",
        "    <tr>\n",
        "      <th>1</th>\n",
        "      <td>         1942: Joint Strike</td>\n",
        "      <td> 3030-20472</td>\n",
        "      <td> 3.333333</td>\n",
        "      <td> 3</td>\n",
        "      <td> Jeff</td>\n",
        "      <td>2008-08-20 14:00:00</td>\n",
        "      <td> 2008</td>\n",
        "      <td>  8</td>\n",
        "    </tr>\n",
        "    <tr>\n",
        "      <th>2</th>\n",
        "      <td>         3D Dot Game Heroes</td>\n",
        "      <td> 3030-27860</td>\n",
        "      <td> 3.333333</td>\n",
        "      <td> 3</td>\n",
        "      <td> Ryan</td>\n",
        "      <td>2010-05-12 20:00:00</td>\n",
        "      <td> 2010</td>\n",
        "      <td>  5</td>\n",
        "    </tr>\n",
        "    <tr>\n",
        "      <th>3</th>\n",
        "      <td> 50 Cent: Blood on the Sand</td>\n",
        "      <td> 3030-20454</td>\n",
        "      <td> 3.214286</td>\n",
        "      <td> 3</td>\n",
        "      <td> Jeff</td>\n",
        "      <td>2009-02-24 08:00:00</td>\n",
        "      <td> 2009</td>\n",
        "      <td>  2</td>\n",
        "    </tr>\n",
        "    <tr>\n",
        "      <th>4</th>\n",
        "      <td>         A Boy and His Blob</td>\n",
        "      <td> 3030-25508</td>\n",
        "      <td> 3.666667</td>\n",
        "      <td> 4</td>\n",
        "      <td> Ryan</td>\n",
        "      <td>2009-10-23 11:00:00</td>\n",
        "      <td> 2009</td>\n",
        "      <td> 10</td>\n",
        "    </tr>\n",
        "  </tbody>\n",
        "</table>\n",
        "</div>"
       ],
       "metadata": {},
       "output_type": "pyout",
       "prompt_number": 41,
       "text": [
        "                         Name     Game Id  User Review Score  \\\n",
        "0                 007 Legends  3030-38040           2.000000   \n",
        "1          1942: Joint Strike  3030-20472           3.333333   \n",
        "2          3D Dot Game Heroes  3030-27860           3.333333   \n",
        "3  50 Cent: Blood on the Sand  3030-20454           3.214286   \n",
        "4          A Boy and His Blob  3030-25508           3.666667   \n",
        "\n",
        "   Giant Bomb Score Reviewer      Date of Review  year  month  \n",
        "0                 2     Alex 2012-10-18 13:00:00  2012     10  \n",
        "1                 3     Jeff 2008-08-20 14:00:00  2008      8  \n",
        "2                 3     Ryan 2010-05-12 20:00:00  2010      5  \n",
        "3                 3     Jeff 2009-02-24 08:00:00  2009      2  \n",
        "4                 4     Ryan 2009-10-23 11:00:00  2009     10  "
       ]
      }
     ],
     "prompt_number": 41
    },
    {
     "cell_type": "markdown",
     "metadata": {},
     "source": [
      "Plotting the average user review scores against the staff review scores for each game we have"
     ]
    },
    {
     "cell_type": "code",
     "collapsed": false,
     "input": [
      "all_rvs.plot(x = \"User Review Score\", y = 'Giant Bomb Score', kind = 'scatter',figsize=(8,6), title = 'Correlation between Staff and User Review Scores')"
     ],
     "language": "python",
     "metadata": {},
     "outputs": [
      {
       "metadata": {},
       "output_type": "pyout",
       "prompt_number": 42,
       "text": [
        "<matplotlib.axes.AxesSubplot at 0x1fe502b0>"
       ]
      },
      {
       "metadata": {},
       "output_type": "display_data",
       "png": "[encoded data removed]",
       "text": [
        "<matplotlib.figure.Figure at 0xc2d9a20>"
       ]
      }
     ],
     "prompt_number": 42
    },
    {
     "cell_type": "markdown",
     "metadata": {},
     "source": [
      "And then computing the correlation between the two types of reviews yields"
     ]
    },
    {
     "cell_type": "code",
     "collapsed": false,
     "input": [
      "print 'Correlation between User Reviews and Critics Reviews: ', all_rvs['Giant Bomb Score'].corr(all_rvs['User Review Score'])"
     ],
     "language": "python",
     "metadata": {},
     "outputs": [
      {
       "output_type": "stream",
       "stream": "stdout",
       "text": [
        "Correlation between User Reviews and Critics Reviews:  "
       ]
      },
      {
       "output_type": "stream",
       "stream": "stdout",
       "text": [
        "0.676855376923\n"
       ]
      }
     ],
     "prompt_number": 44
    },
    {
     "cell_type": "markdown",
     "metadata": {},
     "source": [
      "Thus we see a strong correlation between user reviews and critics reviews. We can then reasonably imagine using a text classifier trained on staff review data to predict the sentiment expressed by user reviews. As a further extension, since user reviews would more closely approximate general anonymous internet text than do the staff reviews, the close correspondence between staff review scores and user review scores suggests that it should be possible to use our score-text classifier to classify general online text."
     ]
    },
    {
     "cell_type": "markdown",
     "metadata": {},
     "source": [
      "## IV. Finding Low-Hanging Fruit in Game Development"
     ]
    },
    {
     "cell_type": "markdown",
     "metadata": {},
     "source": [
      "\"What video game genres provide the best opportunity for enterprising young developers to break into game creation?\" This was the question which focused our analysis of the Giant Bomb data. To answer this question we looked at three aspects of all video game genres. \n",
      "\n",
      "In each genre, we wanted to know three things: the number of games produced in the last four years; the average number of user reviews per game; and the average user review score of games in the genre. \n",
      "\n",
      "- The **number of games produced in the last four years** gives us a sense of the current **competition** within the genre. If many hundreds of games are produced each year in a particular genre then it would be much more difficult for a contributing new developer to standout than if only a few dozen games were produced. Hence, low competition would favor new game developers. \n",
      "\n",
      "- The **average number of user reviews per game** for a genre tells us the level of **gamer interest** in the genre or the genre popularity. A genre with a high number of user reviews per game suggests that the developed games are being played by gamers and there already exists an established market for new games. \n",
      "\n",
      "- The **average user review score** of games in the genre tells us what gamers generally think of the current lot of games in the genre. We call this average the \"**public opinion**\" of a genre. A high public opinion score (i.e., a score greater than the mean public opinion score) suggests that users generally think that the games in the genre are of high quality, and hence gamers are satisfied with the existing games. Conversely, a low public opinion score suggests gamers are generally dissatisfied with games in the genre. A genre with such a score would thus be a good arena for a new developer to make high quality games. \n",
      "\n",
      "Given these genre qualities, we can devise general criteria to find the genre (or genres) which is the lowest hanging fruit in terms of game development. The prototypical genre for new game development would have **high gamer interest** (a high number of user reviews per game) so that a market already exists,  low **competition** (low number of games produced in the last four years) so that there are fewer other games to compete with, and a **low public opinion score** (a low average score for the games in the genre) so there is generally room for improvement within the genre. \n",
      "\n",
      "Thus our goal was to find the video game genres which were consistent with these \"low-hanging fruit\" criteria. "
     ]
    },
    {
     "cell_type": "markdown",
     "metadata": {},
     "source": [
      "First we needed to create a data frame which includes the genre names as rows and our \"low-hanging fruit\" criteria as columns. We begin with our game and genre frame"
     ]
    },
    {
     "cell_type": "code",
     "collapsed": false,
     "input": [
      "game_and_genre_frame.head()"
     ],
     "language": "python",
     "metadata": {},
     "outputs": [
      {
       "html": [
        "<div style=\"max-height:1000px;max-width:1500px;overflow:auto;\">\n",
        "<table border=\"1\" class=\"dataframe\">\n",
        "  <thead>\n",
        "    <tr style=\"text-align: right;\">\n",
        "      <th></th>\n",
        "      <th>Name</th>\n",
        "      <th>Genres</th>\n",
        "      <th>Date Released</th>\n",
        "      <th>Number of User Reviews</th>\n",
        "      <th>Game Id</th>\n",
        "    </tr>\n",
        "  </thead>\n",
        "  <tbody>\n",
        "    <tr>\n",
        "      <th>0</th>\n",
        "      <td>                     Pac-Man</td>\n",
        "      <td>           [u'Strategy', u'Puzzle']</td>\n",
        "      <td> 1980-05-22 00:00:00</td>\n",
        "      <td>  4</td>\n",
        "      <td>  3030-7624</td>\n",
        "    </tr>\n",
        "    <tr>\n",
        "      <th>1</th>\n",
        "      <td>             Icewind Dale II</td>\n",
        "      <td>                  [u'Role-Playing']</td>\n",
        "      <td> 2002-08-28 00:00:00</td>\n",
        "      <td>  1</td>\n",
        "      <td>  3030-8890</td>\n",
        "    </tr>\n",
        "    <tr>\n",
        "      <th>2</th>\n",
        "      <td>            Gauntlet Legends</td>\n",
        "      <td>      [u'Role-Playing', u'Brawler']</td>\n",
        "      <td> 1998-10-31 00:00:00</td>\n",
        "      <td>  1</td>\n",
        "      <td> 3030-12245</td>\n",
        "    </tr>\n",
        "    <tr>\n",
        "      <th>3</th>\n",
        "      <td>           MVP Baseball 2005</td>\n",
        "      <td>           [u'Sports', u'Baseball']</td>\n",
        "      <td> 2005-02-22 00:00:00</td>\n",
        "      <td>  4</td>\n",
        "      <td>  3030-9978</td>\n",
        "    </tr>\n",
        "    <tr>\n",
        "      <th>4</th>\n",
        "      <td> Need for Speed: Most Wanted</td>\n",
        "      <td> [u'Driving/Racing', u'Simulation']</td>\n",
        "      <td> 2005-11-15 00:00:00</td>\n",
        "      <td> 17</td>\n",
        "      <td> 3030-12976</td>\n",
        "    </tr>\n",
        "  </tbody>\n",
        "</table>\n",
        "</div>"
       ],
       "metadata": {},
       "output_type": "pyout",
       "prompt_number": 61,
       "text": [
        "                          Name                              Genres  \\\n",
        "0                      Pac-Man            [u'Strategy', u'Puzzle']   \n",
        "1              Icewind Dale II                   [u'Role-Playing']   \n",
        "2             Gauntlet Legends       [u'Role-Playing', u'Brawler']   \n",
        "3            MVP Baseball 2005            [u'Sports', u'Baseball']   \n",
        "4  Need for Speed: Most Wanted  [u'Driving/Racing', u'Simulation']   \n",
        "\n",
        "         Date Released  Number of User Reviews     Game Id  \n",
        "0  1980-05-22 00:00:00                       4   3030-7624  \n",
        "1  2002-08-28 00:00:00                       1   3030-8890  \n",
        "2  1998-10-31 00:00:00                       1  3030-12245  \n",
        "3  2005-02-22 00:00:00                       4   3030-9978  \n",
        "4  2005-11-15 00:00:00                      17  3030-12976  "
       ]
      }
     ],
     "prompt_number": 61
    },
    {
     "cell_type": "markdown",
     "metadata": {},
     "source": [
      "We note that our data collection resulted in duplicated entries"
     ]
    },
    {
     "cell_type": "code",
     "collapsed": false,
     "input": [
      "game_and_genre_frame[game_and_genre_frame.duplicated()].head()"
     ],
     "language": "python",
     "metadata": {},
     "outputs": [
      {
       "html": [
        "<div style=\"max-height:1000px;max-width:1500px;overflow:auto;\">\n",
        "<table border=\"1\" class=\"dataframe\">\n",
        "  <thead>\n",
        "    <tr style=\"text-align: right;\">\n",
        "      <th></th>\n",
        "      <th>Name</th>\n",
        "      <th>Genres</th>\n",
        "      <th>Date Released</th>\n",
        "      <th>Number of User Reviews</th>\n",
        "      <th>Game Id</th>\n",
        "    </tr>\n",
        "  </thead>\n",
        "  <tbody>\n",
        "    <tr>\n",
        "      <th>65 </th>\n",
        "      <td> LEGO Indiana Jones: The Original Adventures</td>\n",
        "      <td>                         [u'Action', u'Adventure']</td>\n",
        "      <td> 2008-06-03 00:00:00</td>\n",
        "      <td>  30</td>\n",
        "      <td> 3030-20534</td>\n",
        "    </tr>\n",
        "    <tr>\n",
        "      <th>113</th>\n",
        "      <td>                         Unreal Tournament 3</td>\n",
        "      <td> [u'Action', u'Shooter', u'First-Person Shooter...</td>\n",
        "      <td> 2007-12-10 00:00:00</td>\n",
        "      <td>  27</td>\n",
        "      <td> 3030-10955</td>\n",
        "    </tr>\n",
        "    <tr>\n",
        "      <th>175</th>\n",
        "      <td>            Guitar Hero III: Legends of Rock</td>\n",
        "      <td>                  [u'Simulation', u'Music/Rhythm']</td>\n",
        "      <td> 2007-10-28 00:00:00</td>\n",
        "      <td>  33</td>\n",
        "      <td>  3030-4031</td>\n",
        "    </tr>\n",
        "    <tr>\n",
        "      <th>289</th>\n",
        "      <td>                                Gears of War</td>\n",
        "      <td>                           [u'Action', u'Shooter']</td>\n",
        "      <td> 2006-11-07 00:00:00</td>\n",
        "      <td> 107</td>\n",
        "      <td> 3030-12231</td>\n",
        "    </tr>\n",
        "    <tr>\n",
        "      <th>327</th>\n",
        "      <td>         Grand Theft Auto: Vice City Stories</td>\n",
        "      <td>                    [u'Action', u'Driving/Racing']</td>\n",
        "      <td> 2006-10-31 00:00:00</td>\n",
        "      <td>   5</td>\n",
        "      <td> 3030-10264</td>\n",
        "    </tr>\n",
        "  </tbody>\n",
        "</table>\n",
        "</div>"
       ],
       "metadata": {},
       "output_type": "pyout",
       "prompt_number": 62,
       "text": [
        "                                            Name  \\\n",
        "65   LEGO Indiana Jones: The Original Adventures   \n",
        "113                          Unreal Tournament 3   \n",
        "175             Guitar Hero III: Legends of Rock   \n",
        "289                                 Gears of War   \n",
        "327          Grand Theft Auto: Vice City Stories   \n",
        "\n",
        "                                                Genres        Date Released  \\\n",
        "65                           [u'Action', u'Adventure']  2008-06-03 00:00:00   \n",
        "113  [u'Action', u'Shooter', u'First-Person Shooter...  2007-12-10 00:00:00   \n",
        "175                   [u'Simulation', u'Music/Rhythm']  2007-10-28 00:00:00   \n",
        "289                            [u'Action', u'Shooter']  2006-11-07 00:00:00   \n",
        "327                     [u'Action', u'Driving/Racing']  2006-10-31 00:00:00   \n",
        "\n",
        "     Number of User Reviews     Game Id  \n",
        "65                       30  3030-20534  \n",
        "113                      27  3030-10955  \n",
        "175                      33   3030-4031  \n",
        "289                     107  3030-12231  \n",
        "327                       5  3030-10264  "
       ]
      }
     ],
     "prompt_number": 62
    },
    {
     "cell_type": "markdown",
     "metadata": {},
     "source": [
      "So, we drop the duplicates and redefine our frame"
     ]
    },
    {
     "cell_type": "code",
     "collapsed": false,
     "input": [
      "# drops duplicated entries and redefinition\n",
      "game_and_genre_frame.drop_duplicates(inplace=True)\n",
      "# checks that duplicated entries don't exist\n",
      "game_and_genre_frame[game_and_genre_frame.duplicated()]"
     ],
     "language": "python",
     "metadata": {},
     "outputs": [
      {
       "html": [
        "<div style=\"max-height:1000px;max-width:1500px;overflow:auto;\">\n",
        "<table border=\"1\" class=\"dataframe\">\n",
        "  <thead>\n",
        "    <tr style=\"text-align: right;\">\n",
        "      <th></th>\n",
        "      <th>Name</th>\n",
        "      <th>Genres</th>\n",
        "      <th>Date Released</th>\n",
        "      <th>Number of User Reviews</th>\n",
        "      <th>Game Id</th>\n",
        "    </tr>\n",
        "  </thead>\n",
        "  <tbody>\n",
        "  </tbody>\n",
        "</table>\n",
        "</div>"
       ],
       "metadata": {},
       "output_type": "pyout",
       "prompt_number": 63,
       "text": [
        "Empty DataFrame\n",
        "Columns: [Name, Genres, Date Released, Number of User Reviews, Game Id]\n",
        "Index: []"
       ]
      }
     ],
     "prompt_number": 63
    },
    {
     "cell_type": "markdown",
     "metadata": {},
     "source": [
      "Also, it turns out that the Giant Bomb API incorrectly counts some of the user reviews. For example, some games are shown to have -1 or even fewer user reviews: "
     ]
    },
    {
     "cell_type": "code",
     "collapsed": false,
     "input": [
      "game_and_genre_frame[game_and_genre_frame['Number of User Reviews']<0].head(10)"
     ],
     "language": "python",
     "metadata": {},
     "outputs": [
      {
       "html": [
        "<div style=\"max-height:1000px;max-width:1500px;overflow:auto;\">\n",
        "<table border=\"1\" class=\"dataframe\">\n",
        "  <thead>\n",
        "    <tr style=\"text-align: right;\">\n",
        "      <th></th>\n",
        "      <th>Name</th>\n",
        "      <th>Genres</th>\n",
        "      <th>Date Released</th>\n",
        "      <th>Number of User Reviews</th>\n",
        "      <th>Game Id</th>\n",
        "    </tr>\n",
        "  </thead>\n",
        "  <tbody>\n",
        "    <tr>\n",
        "      <th>1176</th>\n",
        "      <td>                                   Chulip</td>\n",
        "      <td>                       [u'Adventure']</td>\n",
        "      <td> 2007-02-14 00:00:00</td>\n",
        "      <td>-1</td>\n",
        "      <td>  3030-1392</td>\n",
        "    </tr>\n",
        "    <tr>\n",
        "      <th>2984</th>\n",
        "      <td> Final Fantasy XIV Online: A Realm Reborn</td>\n",
        "      <td>                          [u'MMORPG']</td>\n",
        "      <td> 2010-09-22 00:00:00</td>\n",
        "      <td>-1</td>\n",
        "      <td> 3030-26847</td>\n",
        "    </tr>\n",
        "    <tr>\n",
        "      <th>3089</th>\n",
        "      <td>                     Doritos Crash Course</td>\n",
        "      <td>                      [u'Platformer']</td>\n",
        "      <td> 2010-12-08 00:00:00</td>\n",
        "      <td>-1</td>\n",
        "      <td> 3030-33114</td>\n",
        "    </tr>\n",
        "    <tr>\n",
        "      <th>4162</th>\n",
        "      <td>                         Thomas Was Alone</td>\n",
        "      <td>           [u'Puzzle', u'Platformer']</td>\n",
        "      <td> 2012-06-30 00:00:00</td>\n",
        "      <td>-1</td>\n",
        "      <td> 3030-38825</td>\n",
        "    </tr>\n",
        "    <tr>\n",
        "      <th>4310</th>\n",
        "      <td>                  Joe Danger 2: The Movie</td>\n",
        "      <td>   [u'Driving/Racing', u'Platformer']</td>\n",
        "      <td> 2012-10-09 00:00:00</td>\n",
        "      <td>-1</td>\n",
        "      <td> 3030-36129</td>\n",
        "    </tr>\n",
        "    <tr>\n",
        "      <th>4424</th>\n",
        "      <td>     Dragon Ball Z: Budokai HD Collection</td>\n",
        "      <td>                        [u'Fighting']</td>\n",
        "      <td> 2012-11-06 00:00:00</td>\n",
        "      <td>-1</td>\n",
        "      <td> 3030-38894</td>\n",
        "    </tr>\n",
        "    <tr>\n",
        "      <th>4448</th>\n",
        "      <td>                                  McPixel</td>\n",
        "      <td>                          [u'Puzzle']</td>\n",
        "      <td> 2012-06-25 00:00:00</td>\n",
        "      <td>-1</td>\n",
        "      <td> 3030-38824</td>\n",
        "    </tr>\n",
        "    <tr>\n",
        "      <th>4455</th>\n",
        "      <td>                             Just Dance 3</td>\n",
        "      <td>                    [u'Music/Rhythm']</td>\n",
        "      <td> 2011-10-11 00:00:00</td>\n",
        "      <td>-1</td>\n",
        "      <td> 3030-35553</td>\n",
        "    </tr>\n",
        "    <tr>\n",
        "      <th>4459</th>\n",
        "      <td>                         Persona 4 Golden</td>\n",
        "      <td>                    [u'Role-Playing']</td>\n",
        "      <td> 2012-11-20 00:00:00</td>\n",
        "      <td>-4</td>\n",
        "      <td> 3030-36273</td>\n",
        "    </tr>\n",
        "    <tr>\n",
        "      <th>4468</th>\n",
        "      <td>                           Primal Carnage</td>\n",
        "      <td> [u'Action', u'First-Person Shooter']</td>\n",
        "      <td> 2012-10-29 00:00:00</td>\n",
        "      <td>-1</td>\n",
        "      <td> 3030-29981</td>\n",
        "    </tr>\n",
        "  </tbody>\n",
        "</table>\n",
        "</div>"
       ],
       "metadata": {},
       "output_type": "pyout",
       "prompt_number": 64,
       "text": [
        "                                          Name  \\\n",
        "1176                                    Chulip   \n",
        "2984  Final Fantasy XIV Online: A Realm Reborn   \n",
        "3089                      Doritos Crash Course   \n",
        "4162                          Thomas Was Alone   \n",
        "4310                   Joe Danger 2: The Movie   \n",
        "4424      Dragon Ball Z: Budokai HD Collection   \n",
        "4448                                   McPixel   \n",
        "4455                              Just Dance 3   \n",
        "4459                          Persona 4 Golden   \n",
        "4468                            Primal Carnage   \n",
        "\n",
        "                                    Genres        Date Released  \\\n",
        "1176                        [u'Adventure']  2007-02-14 00:00:00   \n",
        "2984                           [u'MMORPG']  2010-09-22 00:00:00   \n",
        "3089                       [u'Platformer']  2010-12-08 00:00:00   \n",
        "4162            [u'Puzzle', u'Platformer']  2012-06-30 00:00:00   \n",
        "4310    [u'Driving/Racing', u'Platformer']  2012-10-09 00:00:00   \n",
        "4424                         [u'Fighting']  2012-11-06 00:00:00   \n",
        "4448                           [u'Puzzle']  2012-06-25 00:00:00   \n",
        "4455                     [u'Music/Rhythm']  2011-10-11 00:00:00   \n",
        "4459                     [u'Role-Playing']  2012-11-20 00:00:00   \n",
        "4468  [u'Action', u'First-Person Shooter']  2012-10-29 00:00:00   \n",
        "\n",
        "      Number of User Reviews     Game Id  \n",
        "1176                      -1   3030-1392  \n",
        "2984                      -1  3030-26847  \n",
        "3089                      -1  3030-33114  \n",
        "4162                      -1  3030-38825  \n",
        "4310                      -1  3030-36129  \n",
        "4424                      -1  3030-38894  \n",
        "4448                      -1  3030-38824  \n",
        "4455                      -1  3030-35553  \n",
        "4459                      -4  3030-36273  \n",
        "4468                      -1  3030-29981  "
       ]
      }
     ],
     "prompt_number": 64
    },
    {
     "cell_type": "markdown",
     "metadata": {},
     "source": [
      "Instead of attempting to clean this data column, we simply deem it as spurious and delete it. "
     ]
    },
    {
     "cell_type": "code",
     "collapsed": false,
     "input": [
      "del game_and_genre_frame['Number of User Reviews']"
     ],
     "language": "python",
     "metadata": {},
     "outputs": [],
     "prompt_number": 65
    },
    {
     "cell_type": "markdown",
     "metadata": {},
     "source": [
      "We will instead use the `usr_rv_frame` to calculate the correct number of user reviews. Specifically, a game name appears in the `usr_rv_frame` each time someone writes a review for the game. Thus, by simply counting the number of times a game name appears we can find the number of user reviews it has. First, for recollection we show the head of the user review frame. "
     ]
    },
    {
     "cell_type": "code",
     "collapsed": false,
     "input": [
      "usr_rv_frame.head()"
     ],
     "language": "python",
     "metadata": {},
     "outputs": [
      {
       "html": [
        "<div style=\"max-height:1000px;max-width:1500px;overflow:auto;\">\n",
        "<table border=\"1\" class=\"dataframe\">\n",
        "  <thead>\n",
        "    <tr style=\"text-align: right;\">\n",
        "      <th></th>\n",
        "      <th>Name</th>\n",
        "      <th>User Review Score</th>\n",
        "      <th>User Reviewer</th>\n",
        "      <th>Date of Review</th>\n",
        "      <th>Game Id</th>\n",
        "    </tr>\n",
        "  </thead>\n",
        "  <tbody>\n",
        "    <tr>\n",
        "      <th>0</th>\n",
        "      <td>                 Famicom Mini: Pac-Man</td>\n",
        "      <td> 5</td>\n",
        "      <td>    snide</td>\n",
        "      <td> 2008-07-14 21:49:21</td>\n",
        "      <td>  3030-7624</td>\n",
        "    </tr>\n",
        "    <tr>\n",
        "      <th>1</th>\n",
        "      <td> Icewind Dale II (Collector's Edition)</td>\n",
        "      <td> 5</td>\n",
        "      <td>    snide</td>\n",
        "      <td> 2008-07-20 01:09:02</td>\n",
        "      <td>  3030-8890</td>\n",
        "    </tr>\n",
        "    <tr>\n",
        "      <th>2</th>\n",
        "      <td>                      Gauntlet Legends</td>\n",
        "      <td> 4</td>\n",
        "      <td> joseppie</td>\n",
        "      <td> 2008-07-21 00:34:06</td>\n",
        "      <td> 3030-12245</td>\n",
        "    </tr>\n",
        "    <tr>\n",
        "      <th>3</th>\n",
        "      <td>                     MVP Baseball 2005</td>\n",
        "      <td> 5</td>\n",
        "      <td> joseppie</td>\n",
        "      <td> 2008-07-21 00:36:10</td>\n",
        "      <td>  3030-9978</td>\n",
        "    </tr>\n",
        "    <tr>\n",
        "      <th>4</th>\n",
        "      <td>           Need for Speed: Most Wanted</td>\n",
        "      <td> 4</td>\n",
        "      <td> joseppie</td>\n",
        "      <td> 2008-07-21 00:44:42</td>\n",
        "      <td> 3030-12976</td>\n",
        "    </tr>\n",
        "  </tbody>\n",
        "</table>\n",
        "</div>"
       ],
       "metadata": {},
       "output_type": "pyout",
       "prompt_number": 66,
       "text": [
        "                                    Name  User Review Score User Reviewer  \\\n",
        "0                  Famicom Mini: Pac-Man                  5         snide   \n",
        "1  Icewind Dale II (Collector's Edition)                  5         snide   \n",
        "2                       Gauntlet Legends                  4      joseppie   \n",
        "3                      MVP Baseball 2005                  5      joseppie   \n",
        "4            Need for Speed: Most Wanted                  4      joseppie   \n",
        "\n",
        "        Date of Review     Game Id  \n",
        "0  2008-07-14 21:49:21   3030-7624  \n",
        "1  2008-07-20 01:09:02   3030-8890  \n",
        "2  2008-07-21 00:34:06  3030-12245  \n",
        "3  2008-07-21 00:36:10   3030-9978  \n",
        "4  2008-07-21 00:44:42  3030-12976  "
       ]
      }
     ],
     "prompt_number": 66
    },
    {
     "cell_type": "markdown",
     "metadata": {},
     "source": [
      "We will draw the name and Game ID of the game from the `unique_rvs` frame. But first, we redefine it to include the mean user review score associated with a video game. This mean score will factor into our \"public opinion\" calculation for the genre of the video game. "
     ]
    },
    {
     "cell_type": "code",
     "collapsed": false,
     "input": [
      "# average the scores for individual games (with name and game id)\n",
      "unique_usr_rvs = usr_rv_frame.groupby(['Name','Game Id'],as_index = False)['Name', 'Game Id','User Review Score'].mean()\n",
      "unique_usr_rvs.head()"
     ],
     "language": "python",
     "metadata": {},
     "outputs": [
      {
       "html": [
        "<div style=\"max-height:1000px;max-width:1500px;overflow:auto;\">\n",
        "<table border=\"1\" class=\"dataframe\">\n",
        "  <thead>\n",
        "    <tr style=\"text-align: right;\">\n",
        "      <th></th>\n",
        "      <th>Name</th>\n",
        "      <th>Game Id</th>\n",
        "      <th>User Review Score</th>\n",
        "    </tr>\n",
        "  </thead>\n",
        "  <tbody>\n",
        "    <tr>\n",
        "      <th>0</th>\n",
        "      <td>  .hack//QUARANTINE - Part 4</td>\n",
        "      <td> 3030-13921</td>\n",
        "      <td> 3.0</td>\n",
        "    </tr>\n",
        "    <tr>\n",
        "      <th>1</th>\n",
        "      <td>       007: Agent Under Fire</td>\n",
        "      <td> 3030-16559</td>\n",
        "      <td> 4.5</td>\n",
        "    </tr>\n",
        "    <tr>\n",
        "      <th>2</th>\n",
        "      <td>  007: Everything or Nothing</td>\n",
        "      <td>  3030-6530</td>\n",
        "      <td> 4.0</td>\n",
        "    </tr>\n",
        "    <tr>\n",
        "      <th>3</th>\n",
        "      <td>              007: Nightfire</td>\n",
        "      <td>  3030-6647</td>\n",
        "      <td> 2.8</td>\n",
        "    </tr>\n",
        "    <tr>\n",
        "      <th>4</th>\n",
        "      <td>        Adventures of Lolo 2</td>\n",
        "      <td>  3030-6430</td>\n",
        "      <td> 5.0</td>\n",
        "    </tr>\n",
        "  </tbody>\n",
        "</table>\n",
        "</div>"
       ],
       "metadata": {},
       "output_type": "pyout",
       "prompt_number": 67,
       "text": [
        "                          Name     Game Id  User Review Score\n",
        "0   .hack//QUARANTINE - Part 4  3030-13921                3.0\n",
        "1        007: Agent Under Fire  3030-16559                4.5\n",
        "2   007: Everything or Nothing   3030-6530                4.0\n",
        "3               007: Nightfire   3030-6647                2.8\n",
        "4         Adventures of Lolo 2   3030-6430                5.0"
       ]
      }
     ],
     "prompt_number": 67
    },
    {
     "cell_type": "markdown",
     "metadata": {},
     "source": [
      "To create the list of \"number of user reviews\" according to the list of unique game name and ID combinations, we use the following code:"
     ]
    },
    {
     "cell_type": "code",
     "collapsed": false,
     "input": [
      "# calculates the number of user reviews\n",
      "num_usr_rvs = list()\n",
      "for k in range(len(unique_usr_rvs)):\n",
      "    name = unique_usr_rvs['Name'][k]\n",
      "    game_id = unique_usr_rvs['Game Id'][k]\n",
      "    num = len(usr_rv_frame[usr_rv_frame['Name']==name][usr_rv_frame['Game Id']==game_id])\n",
      "    num_usr_rvs.append(num)"
     ],
     "language": "python",
     "metadata": {},
     "outputs": [
      {
       "output_type": "stream",
       "stream": "stderr",
       "text": [
        "C:\\Users\\Mobolaji\\Anaconda\\lib\\site-packages\\pandas\\core\\frame.py:1712: UserWarning: Boolean Series key will be reindexed to match DataFrame index.\n",
        "  \"DataFrame index.\", UserWarning)\n"
       ]
      }
     ],
     "prompt_number": 68
    },
    {
     "cell_type": "markdown",
     "metadata": {},
     "source": [
      "And now we add this new data column to our `unique_usr_rvs` frame:"
     ]
    },
    {
     "cell_type": "code",
     "collapsed": false,
     "input": [
      "unique_usr_rvs['Number of User Reviews'] = num_usr_rvs\n",
      "unique_usr_rvs.head()"
     ],
     "language": "python",
     "metadata": {},
     "outputs": [
      {
       "html": [
        "<div style=\"max-height:1000px;max-width:1500px;overflow:auto;\">\n",
        "<table border=\"1\" class=\"dataframe\">\n",
        "  <thead>\n",
        "    <tr style=\"text-align: right;\">\n",
        "      <th></th>\n",
        "      <th>Name</th>\n",
        "      <th>Game Id</th>\n",
        "      <th>User Review Score</th>\n",
        "      <th>Number of User Reviews</th>\n",
        "    </tr>\n",
        "  </thead>\n",
        "  <tbody>\n",
        "    <tr>\n",
        "      <th>0</th>\n",
        "      <td>  .hack//QUARANTINE - Part 4</td>\n",
        "      <td> 3030-13921</td>\n",
        "      <td> 3.0</td>\n",
        "      <td> 1</td>\n",
        "    </tr>\n",
        "    <tr>\n",
        "      <th>1</th>\n",
        "      <td>       007: Agent Under Fire</td>\n",
        "      <td> 3030-16559</td>\n",
        "      <td> 4.5</td>\n",
        "      <td> 2</td>\n",
        "    </tr>\n",
        "    <tr>\n",
        "      <th>2</th>\n",
        "      <td>  007: Everything or Nothing</td>\n",
        "      <td>  3030-6530</td>\n",
        "      <td> 4.0</td>\n",
        "      <td> 2</td>\n",
        "    </tr>\n",
        "    <tr>\n",
        "      <th>3</th>\n",
        "      <td>              007: Nightfire</td>\n",
        "      <td>  3030-6647</td>\n",
        "      <td> 2.8</td>\n",
        "      <td> 5</td>\n",
        "    </tr>\n",
        "    <tr>\n",
        "      <th>4</th>\n",
        "      <td>        Adventures of Lolo 2</td>\n",
        "      <td>  3030-6430</td>\n",
        "      <td> 5.0</td>\n",
        "      <td> 1</td>\n",
        "    </tr>\n",
        "  </tbody>\n",
        "</table>\n",
        "</div>"
       ],
       "metadata": {},
       "output_type": "pyout",
       "prompt_number": 69,
       "text": [
        "                          Name     Game Id  User Review Score  \\\n",
        "0   .hack//QUARANTINE - Part 4  3030-13921                3.0   \n",
        "1        007: Agent Under Fire  3030-16559                4.5   \n",
        "2   007: Everything or Nothing   3030-6530                4.0   \n",
        "3               007: Nightfire   3030-6647                2.8   \n",
        "4         Adventures of Lolo 2   3030-6430                5.0   \n",
        "\n",
        "   Number of User Reviews  \n",
        "0                       1  \n",
        "1                       2  \n",
        "2                       2  \n",
        "3                       5  \n",
        "4                       1  "
       ]
      }
     ],
     "prompt_number": 69
    },
    {
     "cell_type": "markdown",
     "metadata": {},
     "source": [
      "We recall our (de-duplicated) `game_and_genre_frame`"
     ]
    },
    {
     "cell_type": "code",
     "collapsed": false,
     "input": [
      "game_and_genre_frame.head()"
     ],
     "language": "python",
     "metadata": {},
     "outputs": [
      {
       "html": [
        "<div style=\"max-height:1000px;max-width:1500px;overflow:auto;\">\n",
        "<table border=\"1\" class=\"dataframe\">\n",
        "  <thead>\n",
        "    <tr style=\"text-align: right;\">\n",
        "      <th></th>\n",
        "      <th>Name</th>\n",
        "      <th>Genres</th>\n",
        "      <th>Date Released</th>\n",
        "      <th>Game Id</th>\n",
        "    </tr>\n",
        "  </thead>\n",
        "  <tbody>\n",
        "    <tr>\n",
        "      <th>0</th>\n",
        "      <td>                     Pac-Man</td>\n",
        "      <td>           [u'Strategy', u'Puzzle']</td>\n",
        "      <td> 1980-05-22 00:00:00</td>\n",
        "      <td>  3030-7624</td>\n",
        "    </tr>\n",
        "    <tr>\n",
        "      <th>1</th>\n",
        "      <td>             Icewind Dale II</td>\n",
        "      <td>                  [u'Role-Playing']</td>\n",
        "      <td> 2002-08-28 00:00:00</td>\n",
        "      <td>  3030-8890</td>\n",
        "    </tr>\n",
        "    <tr>\n",
        "      <th>2</th>\n",
        "      <td>            Gauntlet Legends</td>\n",
        "      <td>      [u'Role-Playing', u'Brawler']</td>\n",
        "      <td> 1998-10-31 00:00:00</td>\n",
        "      <td> 3030-12245</td>\n",
        "    </tr>\n",
        "    <tr>\n",
        "      <th>3</th>\n",
        "      <td>           MVP Baseball 2005</td>\n",
        "      <td>           [u'Sports', u'Baseball']</td>\n",
        "      <td> 2005-02-22 00:00:00</td>\n",
        "      <td>  3030-9978</td>\n",
        "    </tr>\n",
        "    <tr>\n",
        "      <th>4</th>\n",
        "      <td> Need for Speed: Most Wanted</td>\n",
        "      <td> [u'Driving/Racing', u'Simulation']</td>\n",
        "      <td> 2005-11-15 00:00:00</td>\n",
        "      <td> 3030-12976</td>\n",
        "    </tr>\n",
        "  </tbody>\n",
        "</table>\n",
        "</div>"
       ],
       "metadata": {},
       "output_type": "pyout",
       "prompt_number": 70,
       "text": [
        "                          Name                              Genres  \\\n",
        "0                      Pac-Man            [u'Strategy', u'Puzzle']   \n",
        "1              Icewind Dale II                   [u'Role-Playing']   \n",
        "2             Gauntlet Legends       [u'Role-Playing', u'Brawler']   \n",
        "3            MVP Baseball 2005            [u'Sports', u'Baseball']   \n",
        "4  Need for Speed: Most Wanted  [u'Driving/Racing', u'Simulation']   \n",
        "\n",
        "         Date Released     Game Id  \n",
        "0  1980-05-22 00:00:00   3030-7624  \n",
        "1  2002-08-28 00:00:00   3030-8890  \n",
        "2  1998-10-31 00:00:00  3030-12245  \n",
        "3  2005-02-22 00:00:00   3030-9978  \n",
        "4  2005-11-15 00:00:00  3030-12976  "
       ]
      }
     ],
     "prompt_number": 70
    },
    {
     "cell_type": "markdown",
     "metadata": {},
     "source": [
      "Merging the `game_and_genre_frame` with the `unique_usr_rvs` will give us a frame with all the information we need to create a master data frame with the public opinion score, current competition, and gamer interest. We call this new frame `gamer_usrscore_frame`"
     ]
    },
    {
     "cell_type": "code",
     "collapsed": false,
     "input": [
      "from pandas import merge\n",
      "\n",
      "# merge user review score and genres\n",
      "genre_usrscore_frame = merge(unique_usr_rvs, game_and_genre_frame, how = 'inner')\n",
      "genre_usrscore_frame.head()"
     ],
     "language": "python",
     "metadata": {},
     "outputs": [
      {
       "html": [
        "<div style=\"max-height:1000px;max-width:1500px;overflow:auto;\">\n",
        "<table border=\"1\" class=\"dataframe\">\n",
        "  <thead>\n",
        "    <tr style=\"text-align: right;\">\n",
        "      <th></th>\n",
        "      <th>Name</th>\n",
        "      <th>Game Id</th>\n",
        "      <th>User Review Score</th>\n",
        "      <th>Number of User Reviews</th>\n",
        "      <th>Genres</th>\n",
        "      <th>Date Released</th>\n",
        "    </tr>\n",
        "  </thead>\n",
        "  <tbody>\n",
        "    <tr>\n",
        "      <th>0</th>\n",
        "      <td>  .hack//INFECTION - Part 1</td>\n",
        "      <td> 3030-10287</td>\n",
        "      <td> 2.666667</td>\n",
        "      <td> 3</td>\n",
        "      <td>                     [u'Action', u'Role-Playing']</td>\n",
        "      <td> 2003-02-11 00:00:00</td>\n",
        "    </tr>\n",
        "    <tr>\n",
        "      <th>1</th>\n",
        "      <td>                007 Legends</td>\n",
        "      <td> 3030-38040</td>\n",
        "      <td> 2.000000</td>\n",
        "      <td> 1</td>\n",
        "      <td>             [u'Action', u'First-Person Shooter']</td>\n",
        "      <td> 2012-10-16 00:00:00</td>\n",
        "    </tr>\n",
        "    <tr>\n",
        "      <th>2</th>\n",
        "      <td>      007: Agent Under Fire</td>\n",
        "      <td> 3030-16559</td>\n",
        "      <td> 3.500000</td>\n",
        "      <td> 2</td>\n",
        "      <td> [u'Action', u'Shooter', u'First-Person Shooter']</td>\n",
        "      <td> 2001-11-13 00:00:00</td>\n",
        "    </tr>\n",
        "    <tr>\n",
        "      <th>3</th>\n",
        "      <td> 007: Everything or Nothing</td>\n",
        "      <td>  3030-6530</td>\n",
        "      <td> 4.000000</td>\n",
        "      <td> 3</td>\n",
        "      <td>     [u'Action', u'Shooter', u'Vehicular Combat']</td>\n",
        "      <td> 2003-02-17 00:00:00</td>\n",
        "    </tr>\n",
        "    <tr>\n",
        "      <th>4</th>\n",
        "      <td>              10-Yard Fight</td>\n",
        "      <td> 3030-10166</td>\n",
        "      <td> 1.000000</td>\n",
        "      <td> 1</td>\n",
        "      <td>                         [u'Sports', u'Football']</td>\n",
        "      <td> 1983-12-31 00:00:00</td>\n",
        "    </tr>\n",
        "  </tbody>\n",
        "</table>\n",
        "</div>"
       ],
       "metadata": {},
       "output_type": "pyout",
       "prompt_number": 71,
       "text": [
        "                         Name     Game Id  User Review Score  \\\n",
        "0   .hack//INFECTION - Part 1  3030-10287           2.666667   \n",
        "1                 007 Legends  3030-38040           2.000000   \n",
        "2       007: Agent Under Fire  3030-16559           3.500000   \n",
        "3  007: Everything or Nothing   3030-6530           4.000000   \n",
        "4               10-Yard Fight  3030-10166           1.000000   \n",
        "\n",
        "   Number of User Reviews                                            Genres  \\\n",
        "0                       3                      [u'Action', u'Role-Playing']   \n",
        "1                       1              [u'Action', u'First-Person Shooter']   \n",
        "2                       2  [u'Action', u'Shooter', u'First-Person Shooter']   \n",
        "3                       3      [u'Action', u'Shooter', u'Vehicular Combat']   \n",
        "4                       1                          [u'Sports', u'Football']   \n",
        "\n",
        "         Date Released  \n",
        "0  2003-02-11 00:00:00  \n",
        "1  2012-10-16 00:00:00  \n",
        "2  2001-11-13 00:00:00  \n",
        "3  2003-02-17 00:00:00  \n",
        "4  1983-12-31 00:00:00  "
       ]
      }
     ],
     "prompt_number": 71
    },
    {
     "cell_type": "markdown",
     "metadata": {},
     "source": [
      "With this new frame we can now create a dictionary of data frames, where each key is the name of a genre and the value is a data frame which lists the games within the genre along the rows and the release date, user review score, and number of user reviews along the columns. We first define a function to extract this genre specific information from the frame:"
     ]
    },
    {
     "cell_type": "code",
     "collapsed": false,
     "input": [
      "# builds a data frame for a particular genre\n",
      "\n",
      "# needed to check if genre is in the list of genres\n",
      "from ast import literal_eval\n",
      "\n",
      "def genre_frame(string):\n",
      "\n",
      "    g_game_names = list()\n",
      "    g_game_dates = list()\n",
      "    g_game_rv_nums = list()\n",
      "    g_game_id = list()\n",
      "    g_game_score = list()\n",
      "\n",
      "    \n",
      "    for k in range(len(genre_usrscore_frame)):\n",
      "        if string in literal_eval(genre_usrscore_frame['Genres'][k]):\n",
      "            g_game_names.append(genre_usrscore_frame['Name'][k])\n",
      "            \n",
      "            # write dates in a datetime format\n",
      "            g_game_dates.append(pd.to_datetime(genre_usrscore_frame['Date Released'][k]))\n",
      "            \n",
      "            g_game_rv_nums.append(genre_usrscore_frame['Number of User Reviews'][k])\n",
      "            g_game_id.append(genre_usrscore_frame['Game Id'][k])\n",
      "            g_game_score.append(genre_usrscore_frame['User Review Score'][k])\n",
      "            \n",
      "            \n",
      "    g_game_genres = [string]*(len(g_game_names))\n",
      "\n",
      "    g_game_dict = {'Name': g_game_names,'Game Id': g_game_id ,'Genre': g_game_genres, \n",
      "                   'Date Released': g_game_dates, 'Number of User Reviews': g_game_rv_nums,\n",
      "                   'Avg Review Score':g_game_score}\n",
      "    \n",
      "    g_game_frame = DataFrame(g_game_dict, columns = ['Name', 'Game Id', 'Genre','Date Released', 'Number of User Reviews', 'Avg Review Score'])\n",
      "\n",
      "    return g_game_frame"
     ],
     "language": "python",
     "metadata": {},
     "outputs": [],
     "prompt_number": 73
    },
    {
     "cell_type": "code",
     "collapsed": false,
     "input": [
      "# example data frame\n",
      "genre_frame('Action').head()"
     ],
     "language": "python",
     "metadata": {},
     "outputs": [
      {
       "html": [
        "<div style=\"max-height:1000px;max-width:1500px;overflow:auto;\">\n",
        "<table border=\"1\" class=\"dataframe\">\n",
        "  <thead>\n",
        "    <tr style=\"text-align: right;\">\n",
        "      <th></th>\n",
        "      <th>Name</th>\n",
        "      <th>Game Id</th>\n",
        "      <th>Genre</th>\n",
        "      <th>Date Released</th>\n",
        "      <th>Number of User Reviews</th>\n",
        "      <th>Avg Review Score</th>\n",
        "    </tr>\n",
        "  </thead>\n",
        "  <tbody>\n",
        "    <tr>\n",
        "      <th>0</th>\n",
        "      <td>  .hack//INFECTION - Part 1</td>\n",
        "      <td> 3030-10287</td>\n",
        "      <td> Action</td>\n",
        "      <td>2003-02-11</td>\n",
        "      <td> 3</td>\n",
        "      <td> 2.666667</td>\n",
        "    </tr>\n",
        "    <tr>\n",
        "      <th>1</th>\n",
        "      <td>                007 Legends</td>\n",
        "      <td> 3030-38040</td>\n",
        "      <td> Action</td>\n",
        "      <td>2012-10-16</td>\n",
        "      <td> 1</td>\n",
        "      <td> 2.000000</td>\n",
        "    </tr>\n",
        "    <tr>\n",
        "      <th>2</th>\n",
        "      <td>      007: Agent Under Fire</td>\n",
        "      <td> 3030-16559</td>\n",
        "      <td> Action</td>\n",
        "      <td>2001-11-13</td>\n",
        "      <td> 2</td>\n",
        "      <td> 3.500000</td>\n",
        "    </tr>\n",
        "    <tr>\n",
        "      <th>3</th>\n",
        "      <td> 007: Everything or Nothing</td>\n",
        "      <td>  3030-6530</td>\n",
        "      <td> Action</td>\n",
        "      <td>2003-02-17</td>\n",
        "      <td> 3</td>\n",
        "      <td> 4.000000</td>\n",
        "    </tr>\n",
        "    <tr>\n",
        "      <th>4</th>\n",
        "      <td>               24: The Game</td>\n",
        "      <td> 3030-13700</td>\n",
        "      <td> Action</td>\n",
        "      <td>2006-02-28</td>\n",
        "      <td> 4</td>\n",
        "      <td> 2.750000</td>\n",
        "    </tr>\n",
        "  </tbody>\n",
        "</table>\n",
        "</div>"
       ],
       "metadata": {},
       "output_type": "pyout",
       "prompt_number": 74,
       "text": [
        "                         Name     Game Id   Genre Date Released  \\\n",
        "0   .hack//INFECTION - Part 1  3030-10287  Action    2003-02-11   \n",
        "1                 007 Legends  3030-38040  Action    2012-10-16   \n",
        "2       007: Agent Under Fire  3030-16559  Action    2001-11-13   \n",
        "3  007: Everything or Nothing   3030-6530  Action    2003-02-17   \n",
        "4                24: The Game  3030-13700  Action    2006-02-28   \n",
        "\n",
        "   Number of User Reviews  Avg Review Score  \n",
        "0                       3          2.666667  \n",
        "1                       1          2.000000  \n",
        "2                       2          3.500000  \n",
        "3                       3          4.000000  \n",
        "4                       4          2.750000  "
       ]
      }
     ],
     "prompt_number": 74
    },
    {
     "cell_type": "markdown",
     "metadata": {},
     "source": [
      "And then we create a dictionary of the data frames"
     ]
    },
    {
     "cell_type": "code",
     "collapsed": false,
     "input": [
      "# builds a dictionary of genre frames \n",
      "genre_dict = dict()\n",
      "for name in genres_list:\n",
      "    genre_dict[name] = genre_frame(name)"
     ],
     "language": "python",
     "metadata": {},
     "outputs": [],
     "prompt_number": 78
    },
    {
     "cell_type": "markdown",
     "metadata": {},
     "source": [
      "Having this dictionary will make it easier to extract specific genre information when we create the master genre frame. To create this frame we first recall the definition of the variables which define our \"low hanging fruit\" criteria:\n",
      "\n",
      "- Public Opinion: The public opinion of a genre is the average user review score for games within a particular genre. Given our already calculated, average user score for each game, we calculate the public opinion score by calculating an average of these average game scores weighted by the number of reviews used to compute them: \n",
      "$$ \\text{Public Opinion} = \\frac{\\sum_{k} (\\text{avg user review score for game } k)\\times(\\text{number of reviews for game } k)}{\\sum_{k}\\text{number of reviews for game } k)}$$\n",
      "\n",
      "\n",
      "- Gamer Interest: The gamer interest in a genre is the average number of user reviews for games within the genre: \n",
      "$$ \\text{Gamer Interest} = \\frac{\\sum_{k}(\\text{num of user reviews for game } k)}{\\text{total number of games}}$$\n",
      "\n",
      "\n",
      "- Competition: The competition within a genre is the number of games made in the past four years for the genre: \n",
      "$$ \\text{Competition} = \\text{num of games made within the past four years}$$. \n",
      "\n",
      "\n",
      "The choice of four years is from inspection. We wanted to choose a time scale such that each genre was populated with at least a single game. \n"
     ]
    },
    {
     "cell_type": "markdown",
     "metadata": {},
     "source": [
      "From the definition of the public opinion score, we define a `public_opinion` function which takes the name of a genre and outputs the public opinion of that genre:"
     ]
    },
    {
     "cell_type": "code",
     "collapsed": false,
     "input": [
      "def public_opinion(genre_string):\n",
      "    wght_raw = 0\n",
      "    total_num = genre_dict[genre_string]['Number of User Reviews'].sum()\n",
      "    for k in range(len(genre_frame(genre_string))):\n",
      "        score = genre_dict[genre_string]['Avg Review Score'][k]\n",
      "        weight = genre_dict[genre_string]['Number of User Reviews'][k]\n",
      "        wght_raw = wght_raw + score*weight\n",
      "\n",
      "    wght_mean = wght_raw/(total_num )\n",
      "    return wght_mean"
     ],
     "language": "python",
     "metadata": {},
     "outputs": [],
     "prompt_number": 79
    },
    {
     "cell_type": "markdown",
     "metadata": {},
     "source": [
      "Now we can compute the gamer interest, public opinion, and competition for each genre. "
     ]
    },
    {
     "cell_type": "code",
     "collapsed": false,
     "input": [
      "genres_avg_num_usr_rvw = list() # defines the gamer interest of a genre \n",
      "genres_avg_usr_score = list() # defines the public opinion of a genre\n",
      "genres_num_games = list() # defines the competition within the genre\n",
      "\n",
      "startdate = datetime.datetime(2010,12,1,0,0)\n",
      "\n",
      "for elem in genres_list:\n",
      "    genres_avg_num_usr_rvw.append( genre_dict[elem]['Number of User Reviews'].mean())\n",
      "    genres_avg_usr_score.append(public_opinion(elem))\n",
      "    genres_num_games.append( float(len(genre_dict[elem][genre_dict[elem]['Date Released']> startdate])) )"
     ],
     "language": "python",
     "metadata": {},
     "outputs": [],
     "prompt_number": 80
    },
    {
     "cell_type": "markdown",
     "metadata": {},
     "source": [
      "Assembling this information into a dictionary (which includes the list of genres), and writing the dictionary as a data frame we have"
     ]
    },
    {
     "cell_type": "code",
     "collapsed": false,
     "input": [
      "master_genre_dict = {'Genre':genres_list, 'Gamer Interest': genres_avg_num_usr_rvw, 'Public Opinion': genres_avg_usr_score, 'Competition': genres_num_games }\n",
      "mgf = DataFrame(master_genre_dict, columns = ['Genre','Gamer Interest', 'Public Opinion', 'Competition'])\n",
      "mgf"
     ],
     "language": "python",
     "metadata": {},
     "outputs": [
      {
       "html": [
        "<div style=\"max-height:1000px;max-width:1500px;overflow:auto;\">\n",
        "<table border=\"1\" class=\"dataframe\">\n",
        "  <thead>\n",
        "    <tr style=\"text-align: right;\">\n",
        "      <th></th>\n",
        "      <th>Genre</th>\n",
        "      <th>Gamer Interest</th>\n",
        "      <th>Public Opinion</th>\n",
        "      <th>Competition</th>\n",
        "    </tr>\n",
        "  </thead>\n",
        "  <tbody>\n",
        "    <tr>\n",
        "      <th>0 </th>\n",
        "      <td>                Action</td>\n",
        "      <td>  4.876793</td>\n",
        "      <td> 3.860876</td>\n",
        "      <td> 199</td>\n",
        "    </tr>\n",
        "    <tr>\n",
        "      <th>1 </th>\n",
        "      <td>              Strategy</td>\n",
        "      <td>  2.955614</td>\n",
        "      <td> 3.918286</td>\n",
        "      <td>  87</td>\n",
        "    </tr>\n",
        "    <tr>\n",
        "      <th>2 </th>\n",
        "      <td>                Sports</td>\n",
        "      <td>  3.127451</td>\n",
        "      <td> 3.849530</td>\n",
        "      <td>  31</td>\n",
        "    </tr>\n",
        "    <tr>\n",
        "      <th>3 </th>\n",
        "      <td>             Adventure</td>\n",
        "      <td>  3.583144</td>\n",
        "      <td> 3.907819</td>\n",
        "      <td>  93</td>\n",
        "    </tr>\n",
        "    <tr>\n",
        "      <th>4 </th>\n",
        "      <td>          Role-Playing</td>\n",
        "      <td>  5.218579</td>\n",
        "      <td> 4.010297</td>\n",
        "      <td> 130</td>\n",
        "    </tr>\n",
        "    <tr>\n",
        "      <th>5 </th>\n",
        "      <td>        Driving/Racing</td>\n",
        "      <td>  6.253589</td>\n",
        "      <td> 4.041316</td>\n",
        "      <td>  41</td>\n",
        "    </tr>\n",
        "    <tr>\n",
        "      <th>6 </th>\n",
        "      <td>            Simulation</td>\n",
        "      <td>  3.061017</td>\n",
        "      <td> 3.911406</td>\n",
        "      <td>  65</td>\n",
        "    </tr>\n",
        "    <tr>\n",
        "      <th>7 </th>\n",
        "      <td>           Educational</td>\n",
        "      <td>  1.739130</td>\n",
        "      <td> 3.350000</td>\n",
        "      <td>   6</td>\n",
        "    </tr>\n",
        "    <tr>\n",
        "      <th>8 </th>\n",
        "      <td>              Fighting</td>\n",
        "      <td>  3.869318</td>\n",
        "      <td> 3.892805</td>\n",
        "      <td>  36</td>\n",
        "    </tr>\n",
        "    <tr>\n",
        "      <th>9 </th>\n",
        "      <td>             Wrestling</td>\n",
        "      <td>  3.045455</td>\n",
        "      <td> 3.417910</td>\n",
        "      <td>   5</td>\n",
        "    </tr>\n",
        "    <tr>\n",
        "      <th>10</th>\n",
        "      <td>               Shooter</td>\n",
        "      <td>  9.825215</td>\n",
        "      <td> 3.981919</td>\n",
        "      <td>  93</td>\n",
        "    </tr>\n",
        "    <tr>\n",
        "      <th>11</th>\n",
        "      <td>    Real-Time Strategy</td>\n",
        "      <td>  3.771930</td>\n",
        "      <td> 4.005814</td>\n",
        "      <td>  26</td>\n",
        "    </tr>\n",
        "    <tr>\n",
        "      <th>12</th>\n",
        "      <td>             Card Game</td>\n",
        "      <td>  1.857143</td>\n",
        "      <td> 3.692308</td>\n",
        "      <td>   9</td>\n",
        "    </tr>\n",
        "    <tr>\n",
        "      <th>13</th>\n",
        "      <td>     Trivia/Board Game</td>\n",
        "      <td>  2.320000</td>\n",
        "      <td> 3.655172</td>\n",
        "      <td>   3</td>\n",
        "    </tr>\n",
        "    <tr>\n",
        "      <th>14</th>\n",
        "      <td>           Compilation</td>\n",
        "      <td>  2.341463</td>\n",
        "      <td> 3.854167</td>\n",
        "      <td>  14</td>\n",
        "    </tr>\n",
        "    <tr>\n",
        "      <th>15</th>\n",
        "      <td>                MMORPG</td>\n",
        "      <td>  2.590909</td>\n",
        "      <td> 3.728070</td>\n",
        "      <td>  19</td>\n",
        "    </tr>\n",
        "    <tr>\n",
        "      <th>16</th>\n",
        "      <td>   Minigame Collection</td>\n",
        "      <td>  3.509091</td>\n",
        "      <td> 3.435233</td>\n",
        "      <td>   8</td>\n",
        "    </tr>\n",
        "    <tr>\n",
        "      <th>17</th>\n",
        "      <td>                Puzzle</td>\n",
        "      <td>  4.178914</td>\n",
        "      <td> 4.029052</td>\n",
        "      <td> 105</td>\n",
        "    </tr>\n",
        "    <tr>\n",
        "      <th>18</th>\n",
        "      <td>          Music/Rhythm</td>\n",
        "      <td>  4.871287</td>\n",
        "      <td> 4.036585</td>\n",
        "      <td>  24</td>\n",
        "    </tr>\n",
        "    <tr>\n",
        "      <th>19</th>\n",
        "      <td>                Boxing</td>\n",
        "      <td>  7.900000</td>\n",
        "      <td> 3.797468</td>\n",
        "      <td>   1</td>\n",
        "    </tr>\n",
        "    <tr>\n",
        "      <th>20</th>\n",
        "      <td>              Football</td>\n",
        "      <td>  3.066667</td>\n",
        "      <td> 3.836957</td>\n",
        "      <td>   8</td>\n",
        "    </tr>\n",
        "    <tr>\n",
        "      <th>21</th>\n",
        "      <td>            Basketball</td>\n",
        "      <td>  1.956522</td>\n",
        "      <td> 3.488889</td>\n",
        "      <td>   4</td>\n",
        "    </tr>\n",
        "    <tr>\n",
        "      <th>22</th>\n",
        "      <td>         Skateboarding</td>\n",
        "      <td>  4.105263</td>\n",
        "      <td> 3.935897</td>\n",
        "      <td>   1</td>\n",
        "    </tr>\n",
        "    <tr>\n",
        "      <th>23</th>\n",
        "      <td>      Flight Simulator</td>\n",
        "      <td>  2.894737</td>\n",
        "      <td> 3.545455</td>\n",
        "      <td>   6</td>\n",
        "    </tr>\n",
        "    <tr>\n",
        "      <th>24</th>\n",
        "      <td>                Tennis</td>\n",
        "      <td>  4.833333</td>\n",
        "      <td> 3.689655</td>\n",
        "      <td>   4</td>\n",
        "    </tr>\n",
        "    <tr>\n",
        "      <th>25</th>\n",
        "      <td>             Billiards</td>\n",
        "      <td>  1.000000</td>\n",
        "      <td> 3.333333</td>\n",
        "      <td>   1</td>\n",
        "    </tr>\n",
        "    <tr>\n",
        "      <th>26</th>\n",
        "      <td>               Fishing</td>\n",
        "      <td>  2.500000</td>\n",
        "      <td> 2.600000</td>\n",
        "      <td>   0</td>\n",
        "    </tr>\n",
        "    <tr>\n",
        "      <th>27</th>\n",
        "      <td>                  Golf</td>\n",
        "      <td>  3.437500</td>\n",
        "      <td> 3.709091</td>\n",
        "      <td>   3</td>\n",
        "    </tr>\n",
        "    <tr>\n",
        "      <th>28</th>\n",
        "      <td>               Bowling</td>\n",
        "      <td>  9.000000</td>\n",
        "      <td> 3.518519</td>\n",
        "      <td>   1</td>\n",
        "    </tr>\n",
        "    <tr>\n",
        "      <th>29</th>\n",
        "      <td>               Pinball</td>\n",
        "      <td>  1.500000</td>\n",
        "      <td> 3.952381</td>\n",
        "      <td>   2</td>\n",
        "    </tr>\n",
        "    <tr>\n",
        "      <th>30</th>\n",
        "      <td> Dual-Joystick Shooter</td>\n",
        "      <td>  4.926829</td>\n",
        "      <td> 3.985149</td>\n",
        "      <td>  13</td>\n",
        "    </tr>\n",
        "    <tr>\n",
        "      <th>31</th>\n",
        "      <td>  First-Person Shooter</td>\n",
        "      <td> 11.680556</td>\n",
        "      <td> 3.986920</td>\n",
        "      <td>  77</td>\n",
        "    </tr>\n",
        "    <tr>\n",
        "      <th>32</th>\n",
        "      <td>   Snowboarding/Skiing</td>\n",
        "      <td>  3.000000</td>\n",
        "      <td> 3.750000</td>\n",
        "      <td>   1</td>\n",
        "    </tr>\n",
        "    <tr>\n",
        "      <th>33</th>\n",
        "      <td>              Baseball</td>\n",
        "      <td>  3.300000</td>\n",
        "      <td> 3.833333</td>\n",
        "      <td>   3</td>\n",
        "    </tr>\n",
        "    <tr>\n",
        "      <th>34</th>\n",
        "      <td>     Light-Gun Shooter</td>\n",
        "      <td>  2.857143</td>\n",
        "      <td> 3.275000</td>\n",
        "      <td>   2</td>\n",
        "    </tr>\n",
        "    <tr>\n",
        "      <th>35</th>\n",
        "      <td>        Text Adventure</td>\n",
        "      <td>  1.000000</td>\n",
        "      <td> 3.833333</td>\n",
        "      <td>   3</td>\n",
        "    </tr>\n",
        "    <tr>\n",
        "      <th>36</th>\n",
        "      <td>               Brawler</td>\n",
        "      <td>  6.058333</td>\n",
        "      <td> 3.801926</td>\n",
        "      <td>  26</td>\n",
        "    </tr>\n",
        "    <tr>\n",
        "      <th>37</th>\n",
        "      <td>      Vehicular Combat</td>\n",
        "      <td>  7.479452</td>\n",
        "      <td> 4.003663</td>\n",
        "      <td>  13</td>\n",
        "    </tr>\n",
        "    <tr>\n",
        "      <th>38</th>\n",
        "      <td>                Hockey</td>\n",
        "      <td>  2.368421</td>\n",
        "      <td> 4.222222</td>\n",
        "      <td>   3</td>\n",
        "    </tr>\n",
        "    <tr>\n",
        "      <th>39</th>\n",
        "      <td>                Soccer</td>\n",
        "      <td>  2.608696</td>\n",
        "      <td> 4.350000</td>\n",
        "      <td>   4</td>\n",
        "    </tr>\n",
        "    <tr>\n",
        "      <th>40</th>\n",
        "      <td>            Platformer</td>\n",
        "      <td>  5.176744</td>\n",
        "      <td> 4.110063</td>\n",
        "      <td> 134</td>\n",
        "    </tr>\n",
        "    <tr>\n",
        "      <th>41</th>\n",
        "      <td>         Track &amp; Field</td>\n",
        "      <td>  1.800000</td>\n",
        "      <td> 2.666667</td>\n",
        "      <td>   2</td>\n",
        "    </tr>\n",
        "    <tr>\n",
        "      <th>42</th>\n",
        "      <td>      Action-Adventure</td>\n",
        "      <td>  9.750000</td>\n",
        "      <td> 4.061984</td>\n",
        "      <td> 142</td>\n",
        "    </tr>\n",
        "    <tr>\n",
        "      <th>43</th>\n",
        "      <td>               Fitness</td>\n",
        "      <td>  1.400000</td>\n",
        "      <td> 4.142857</td>\n",
        "      <td>   2</td>\n",
        "    </tr>\n",
        "    <tr>\n",
        "      <th>44</th>\n",
        "      <td>        Block-Breaking</td>\n",
        "      <td>  4.272727</td>\n",
        "      <td> 4.042553</td>\n",
        "      <td>   4</td>\n",
        "    </tr>\n",
        "    <tr>\n",
        "      <th>45</th>\n",
        "      <td>               Cricket</td>\n",
        "      <td>  1.000000</td>\n",
        "      <td> 3.500000</td>\n",
        "      <td>   1</td>\n",
        "    </tr>\n",
        "    <tr>\n",
        "      <th>46</th>\n",
        "      <td>               Surfing</td>\n",
        "      <td>  1.333333</td>\n",
        "      <td> 2.500000</td>\n",
        "      <td>   0</td>\n",
        "    </tr>\n",
        "    <tr>\n",
        "      <th>47</th>\n",
        "      <td>          Shoot 'Em Up</td>\n",
        "      <td>  2.400000</td>\n",
        "      <td> 3.970238</td>\n",
        "      <td>  15</td>\n",
        "    </tr>\n",
        "    <tr>\n",
        "      <th>48</th>\n",
        "      <td>              Gambling</td>\n",
        "      <td>  3.000000</td>\n",
        "      <td> 2.833333</td>\n",
        "      <td>   1</td>\n",
        "    </tr>\n",
        "    <tr>\n",
        "      <th>49</th>\n",
        "      <td>                  MOBA</td>\n",
        "      <td>  4.125000</td>\n",
        "      <td> 4.151515</td>\n",
        "      <td>   5</td>\n",
        "    </tr>\n",
        "  </tbody>\n",
        "</table>\n",
        "</div>"
       ],
       "metadata": {},
       "output_type": "pyout",
       "prompt_number": 81,
       "text": [
        "                    Genre  Gamer Interest  Public Opinion  Competition\n",
        "0                  Action        4.876793        3.860876          199\n",
        "1                Strategy        2.955614        3.918286           87\n",
        "2                  Sports        3.127451        3.849530           31\n",
        "3               Adventure        3.583144        3.907819           93\n",
        "4            Role-Playing        5.218579        4.010297          130\n",
        "5          Driving/Racing        6.253589        4.041316           41\n",
        "6              Simulation        3.061017        3.911406           65\n",
        "7             Educational        1.739130        3.350000            6\n",
        "8                Fighting        3.869318        3.892805           36\n",
        "9               Wrestling        3.045455        3.417910            5\n",
        "10                Shooter        9.825215        3.981919           93\n",
        "11     Real-Time Strategy        3.771930        4.005814           26\n",
        "12              Card Game        1.857143        3.692308            9\n",
        "13      Trivia/Board Game        2.320000        3.655172            3\n",
        "14            Compilation        2.341463        3.854167           14\n",
        "15                 MMORPG        2.590909        3.728070           19\n",
        "16    Minigame Collection        3.509091        3.435233            8\n",
        "17                 Puzzle        4.178914        4.029052          105\n",
        "18           Music/Rhythm        4.871287        4.036585           24\n",
        "19                 Boxing        7.900000        3.797468            1\n",
        "20               Football        3.066667        3.836957            8\n",
        "21             Basketball        1.956522        3.488889            4\n",
        "22          Skateboarding        4.105263        3.935897            1\n",
        "23       Flight Simulator        2.894737        3.545455            6\n",
        "24                 Tennis        4.833333        3.689655            4\n",
        "25              Billiards        1.000000        3.333333            1\n",
        "26                Fishing        2.500000        2.600000            0\n",
        "27                   Golf        3.437500        3.709091            3\n",
        "28                Bowling        9.000000        3.518519            1\n",
        "29                Pinball        1.500000        3.952381            2\n",
        "30  Dual-Joystick Shooter        4.926829        3.985149           13\n",
        "31   First-Person Shooter       11.680556        3.986920           77\n",
        "32    Snowboarding/Skiing        3.000000        3.750000            1\n",
        "33               Baseball        3.300000        3.833333            3\n",
        "34      Light-Gun Shooter        2.857143        3.275000            2\n",
        "35         Text Adventure        1.000000        3.833333            3\n",
        "36                Brawler        6.058333        3.801926           26\n",
        "37       Vehicular Combat        7.479452        4.003663           13\n",
        "38                 Hockey        2.368421        4.222222            3\n",
        "39                 Soccer        2.608696        4.350000            4\n",
        "40             Platformer        5.176744        4.110063          134\n",
        "41          Track & Field        1.800000        2.666667            2\n",
        "42       Action-Adventure        9.750000        4.061984          142\n",
        "43                Fitness        1.400000        4.142857            2\n",
        "44         Block-Breaking        4.272727        4.042553            4\n",
        "45                Cricket        1.000000        3.500000            1\n",
        "46                Surfing        1.333333        2.500000            0\n",
        "47           Shoot 'Em Up        2.400000        3.970238           15\n",
        "48               Gambling        3.000000        2.833333            1\n",
        "49                   MOBA        4.125000        4.151515            5"
       ]
      }
     ],
     "prompt_number": 81
    },
    {
     "cell_type": "markdown",
     "metadata": {},
     "source": [
      "It is now simple to find which genres can be considered the \"low-hanging fruit\" of game development. We recall that a genre is considered \"low-hanging fruit\" if it has a lower than average public opinion, a lower than average competition, and a higher than average gamer interest. Thus, calculating the average public opinion, competition, and gamer interest"
     ]
    },
    {
     "cell_type": "code",
     "collapsed": false,
     "input": [
      "# mean quantities\n",
      "mean_gi = mgf['Gamer Interest'].mean()\n",
      "mean_po = mgf['Public Opinion'].mean()\n",
      "mean_comp = mgf['Competition'].mean()\n",
      "\n",
      "# printing mean quantities\n",
      "print 'Mean gamer interest:', mean_gi\n",
      "print 'Mean public opinion:',mean_po\n",
      "print 'Mean competition:',mean_comp"
     ],
     "language": "python",
     "metadata": {},
     "outputs": [
      {
       "output_type": "stream",
       "stream": "stdout",
       "text": [
        "Mean gamer interest: 3.8945459469\n",
        "Mean public opinion: 3.74013935171\n",
        "Mean competition: 29.52\n"
       ]
      }
     ],
     "prompt_number": 82
    },
    {
     "cell_type": "markdown",
     "metadata": {},
     "source": [
      "And finding the genres which satisfy the criteria listed above, we have "
     ]
    },
    {
     "cell_type": "code",
     "collapsed": false,
     "input": [
      "mgf[mgf['Public Opinion']<mean_po][mgf['Competition']<mean_comp][mgf['Gamer Interest']>mean_gi]"
     ],
     "language": "python",
     "metadata": {},
     "outputs": [
      {
       "html": [
        "<div style=\"max-height:1000px;max-width:1500px;overflow:auto;\">\n",
        "<table border=\"1\" class=\"dataframe\">\n",
        "  <thead>\n",
        "    <tr style=\"text-align: right;\">\n",
        "      <th></th>\n",
        "      <th>Genre</th>\n",
        "      <th>Gamer Interest</th>\n",
        "      <th>Public Opinion</th>\n",
        "      <th>Competition</th>\n",
        "    </tr>\n",
        "  </thead>\n",
        "  <tbody>\n",
        "    <tr>\n",
        "      <th>24</th>\n",
        "      <td>  Tennis</td>\n",
        "      <td> 4.833333</td>\n",
        "      <td> 3.689655</td>\n",
        "      <td> 4</td>\n",
        "    </tr>\n",
        "    <tr>\n",
        "      <th>28</th>\n",
        "      <td> Bowling</td>\n",
        "      <td> 9.000000</td>\n",
        "      <td> 3.518519</td>\n",
        "      <td> 1</td>\n",
        "    </tr>\n",
        "  </tbody>\n",
        "</table>\n",
        "</div>"
       ],
       "metadata": {},
       "output_type": "pyout",
       "prompt_number": 83,
       "text": [
        "      Genre  Gamer Interest  Public Opinion  Competition\n",
        "24   Tennis        4.833333        3.689655            4\n",
        "28  Bowling        9.000000        3.518519            1"
       ]
      }
     ],
     "prompt_number": 83
    },
    {
     "cell_type": "markdown",
     "metadata": {},
     "source": [
      "Thus, we see that the genres Tennis and Bowling comprise the lowest hanging fruit for game development. This means, theoretically, it would be easier for game developers to distinguish themselves within these two genres than within any other. "
     ]
    },
    {
     "cell_type": "markdown",
     "metadata": {},
     "source": [
      "We can see how these genres relate to the other genres by plotting scatter plot distributions of the public opinion, gamer interest, and competition score."
     ]
    },
    {
     "cell_type": "markdown",
     "metadata": {},
     "source": [
      "First, we have the Gamer Interest versus the Public Opinion Score, where we mark the mean values with straight lines :"
     ]
    },
    {
     "cell_type": "code",
     "collapsed": false,
     "input": [
      "plt.figure(figsize = (8,6))\n",
      "mgf.plot(x = 'Gamer Interest', y = 'Public Opinion', style = 'ko')\n",
      "\n",
      "plt.annotate('Tennis', \n",
      "    xy = (mgf['Gamer Interest'][mgf['Genre'] == 'Tennis'],  mgf['Public Opinion'][mgf['Genre'] == 'Tennis']),\n",
      "    arrowprops = dict(arrowstyle = '->',  facecolor = 'black' , connectionstyle = 'arc3,rad=0'), \n",
      "    xytext = (30, -30), textcoords = 'offset points', ha = 'right', va = 'bottom',\n",
      "    bbox = dict(boxstyle = 'round,pad=0.5', fc = 'yellow', alpha = 0.5))\n",
      "\n",
      "plt.annotate('Bowling', \n",
      "    xy = (mgf['Gamer Interest'][mgf['Genre'] == 'Bowling'],  mgf['Public Opinion'][mgf['Genre'] == 'Bowling']),\n",
      "    arrowprops = dict(arrowstyle = '->',  facecolor = 'black' , connectionstyle = 'arc3,rad=0'), \n",
      "    xytext = (30, -30), textcoords = 'offset points', ha = 'right', va = 'bottom',\n",
      "    bbox = dict(boxstyle = 'round,pad=0.5', fc = 'yellow', alpha = 0.5))\n",
      "\n",
      "plt.ylim([0,5])\n",
      "plt.ylabel('Public Opinion Score', color = 'r')\n",
      "plt.xlabel('Gamer Interest', color = 'g')\n",
      "\n",
      "\n",
      "plt.plot(range(0,13), [mean_po]*13, 'r-')\n",
      "plt.plot([mean_gi]*6, range(0,6) , 'g-')\n",
      "\n",
      "\n",
      "plt.title('Scatter plot of Public Opinion vs. Gamer Interest')"
     ],
     "language": "python",
     "metadata": {},
     "outputs": [
      {
       "metadata": {},
       "output_type": "pyout",
       "prompt_number": 85,
       "text": [
        "<matplotlib.text.Text at 0x1c66b208>"
       ]
      },
      {
       "metadata": {},
       "output_type": "display_data",
       "png": "[encoded data removed]",
       "text": [
        "<matplotlib.figure.Figure at 0x1acf7f60>"
       ]
      }
     ],
     "prompt_number": 85
    },
    {
     "cell_type": "markdown",
     "metadata": {},
     "source": [
      "Then, we have the Gamer Interest versus the Competition Score: "
     ]
    },
    {
     "cell_type": "code",
     "collapsed": false,
     "input": [
      "plt.figure(figsize = (8,6))\n",
      "mgf.plot(x = 'Competition', y = 'Gamer Interest', style = 'ko')\n",
      "\n",
      "plt.annotate('Tennis', \n",
      "    xy = (mgf['Competition'][mgf['Genre'] == 'Tennis'],  mgf['Gamer Interest'][mgf['Genre'] == 'Tennis']),\n",
      "    arrowprops = dict(arrowstyle = '->',  facecolor = 'black' , connectionstyle = 'arc3,rad=0'), \n",
      "    xytext = (30, 30), textcoords = 'offset points', ha = 'right', va = 'bottom',\n",
      "    bbox = dict(boxstyle = 'round,pad=0.5', fc = 'yellow', alpha = 0.5))\n",
      "\n",
      "plt.annotate('Bowling', \n",
      "    xy = (mgf['Competition'][mgf['Genre'] == 'Bowling'],  mgf['Gamer Interest'][mgf['Genre'] == 'Bowling']),\n",
      "    arrowprops = dict(arrowstyle = '->',  facecolor = 'black' , connectionstyle = 'arc3,rad=0'), \n",
      "    xytext = (45, 30), textcoords = 'offset points', ha = 'right', va = 'bottom',\n",
      "    bbox = dict(boxstyle = 'round,pad=0.5', fc = 'yellow', alpha = 0.5))\n",
      "\n",
      "plt.ylim([0,12])\n",
      "plt.ylabel('Gamer Interest', color = 'g')\n",
      "plt.xlabel('Competition', color = 'b')\n",
      "\n",
      "plt.plot([mean_comp]*13, range(0,13), 'b-')\n",
      "plt.plot(range(0,201), [mean_gi]*201, 'g-')\n",
      "\n",
      "\n",
      "plt.title('Scatter plot of Gamer Interest vs. Competition')"
     ],
     "language": "python",
     "metadata": {},
     "outputs": [
      {
       "metadata": {},
       "output_type": "pyout",
       "prompt_number": 86,
       "text": [
        "<matplotlib.text.Text at 0x209eb240>"
       ]
      },
      {
       "metadata": {},
       "output_type": "display_data",
       "png": "[encoded data removed]",
       "text": [
        "<matplotlib.figure.Figure at 0x1acf7c18>"
       ]
      }
     ],
     "prompt_number": 86
    },
    {
     "cell_type": "markdown",
     "metadata": {},
     "source": [
      "Finally, we have the Competition versus the Public Opinion score:"
     ]
    },
    {
     "cell_type": "code",
     "collapsed": false,
     "input": [
      "plt.figure(figsize = (8,6))\n",
      "mgf.plot(x= 'Public Opinion', y = 'Competition',  style = 'ko')\n",
      "\n",
      "plt.annotate('Tennis', \n",
      "    xy = (mgf['Public Opinion'][mgf['Genre'] == 'Tennis'],  mgf['Competition'][mgf['Genre'] == 'Tennis']),\n",
      "    arrowprops = dict(arrowstyle = '->',  facecolor = 'black' , connectionstyle = 'arc3,rad=0'), \n",
      "    xytext = (-10, 55), textcoords = 'offset points', ha = 'right', va = 'bottom',\n",
      "    bbox = dict(boxstyle = 'round,pad=0.5', fc = 'yellow', alpha = 0.5))\n",
      "\n",
      "plt.annotate('Bowling', \n",
      "    xy = (mgf['Public Opinion'][mgf['Genre'] == 'Bowling'],  mgf['Competition'][mgf['Genre'] == 'Bowling']),\n",
      "    arrowprops = dict(arrowstyle = '->',  facecolor = 'black' , connectionstyle = 'arc3,rad=0'), \n",
      "    xytext = (-45, 55), textcoords = 'offset points', ha = 'right', va = 'bottom',\n",
      "    bbox = dict(boxstyle = 'round,pad=0.5', fc = 'yellow', alpha = 0.5))\n",
      "\n",
      "plt.xlim([0,5])\n",
      "plt.ylim([-1,200])\n",
      "plt.ylabel('Competition', color = 'b')\n",
      "plt.xlabel('Public Opinion', color = 'r')\n",
      "\n",
      "plt.plot(range(0,6), [mean_comp]*6, 'b-')\n",
      "plt.plot( [mean_po]*201, range(0,201), 'r-')\n",
      "\n",
      "plt.title('Scatter plot of Competition vs. Public Opinion Score')"
     ],
     "language": "python",
     "metadata": {},
     "outputs": [
      {
       "metadata": {},
       "output_type": "pyout",
       "prompt_number": 87,
       "text": [
        "<matplotlib.text.Text at 0x22474b00>"
       ]
      },
      {
       "metadata": {},
       "output_type": "display_data",
       "png": "[encoded data removed]",
       "text": [
        "<matplotlib.figure.Figure at 0x272d52e8>"
       ]
      }
     ],
     "prompt_number": 87
    },
    {
     "cell_type": "markdown",
     "metadata": {},
     "source": [
      "We can summarize these plots with a scatter plot matrix, where the Tennis and Bowling genres are labeled with a 'T' and a 'B' respectively. "
     ]
    },
    {
     "cell_type": "code",
     "collapsed": false,
     "input": [
      "execfile(\"gb_python/genre_scatter_matrix.py\")"
     ],
     "language": "python",
     "metadata": {},
     "outputs": [
      {
       "metadata": {},
       "output_type": "display_data",
       "text": [
        "<matplotlib.figure.Figure at 0x163f0710>"
       ]
      },
      {
       "metadata": {},
       "output_type": "display_data",
       "png": "[encoded data removed]",
       "text": [
        "<matplotlib.figure.Figure at 0x15da3550>"
       ]
      }
     ],
     "prompt_number": 90
    },
    {
     "cell_type": "markdown",
     "metadata": {},
     "source": [
      "** Comments/Discussion **\n",
      "\n",
      "From a simple analysis of game genre statistics, we were able to determine which genres existed as the most fertile ground for game development, but in a few ways our analysis was incomplete. This was in part due to the constraints posed by the source of our data. Giant Bomb's genre listing seems to be both too specific and somewhat incomplete. For example, our genre criterion of \"low competition\" was met by both the Tennis and Bowling genres, but these two genres may only have low competition because ordinarily one would consider them as part of the same genre (\"Sports\"). Also, the list of genres doesn't contain a \"Horror\" category, a genre which is a staple of game development. \n",
      "\n",
      "A more complete analysis would also allow for the possibility of genre mixes. For example, many of the games in our original `game_and_genre_frame` included multiple genres. "
     ]
    },
    {
     "cell_type": "code",
     "collapsed": false,
     "input": [
      "game_and_genre_frame.head()"
     ],
     "language": "python",
     "metadata": {},
     "outputs": [
      {
       "html": [
        "<div style=\"max-height:1000px;max-width:1500px;overflow:auto;\">\n",
        "<table border=\"1\" class=\"dataframe\">\n",
        "  <thead>\n",
        "    <tr style=\"text-align: right;\">\n",
        "      <th></th>\n",
        "      <th>Name</th>\n",
        "      <th>Genres</th>\n",
        "      <th>Date Released</th>\n",
        "      <th>Game Id</th>\n",
        "    </tr>\n",
        "  </thead>\n",
        "  <tbody>\n",
        "    <tr>\n",
        "      <th>0</th>\n",
        "      <td>                     Pac-Man</td>\n",
        "      <td>           [u'Strategy', u'Puzzle']</td>\n",
        "      <td> 1980-05-22 00:00:00</td>\n",
        "      <td>  3030-7624</td>\n",
        "    </tr>\n",
        "    <tr>\n",
        "      <th>1</th>\n",
        "      <td>             Icewind Dale II</td>\n",
        "      <td>                  [u'Role-Playing']</td>\n",
        "      <td> 2002-08-28 00:00:00</td>\n",
        "      <td>  3030-8890</td>\n",
        "    </tr>\n",
        "    <tr>\n",
        "      <th>2</th>\n",
        "      <td>            Gauntlet Legends</td>\n",
        "      <td>      [u'Role-Playing', u'Brawler']</td>\n",
        "      <td> 1998-10-31 00:00:00</td>\n",
        "      <td> 3030-12245</td>\n",
        "    </tr>\n",
        "    <tr>\n",
        "      <th>3</th>\n",
        "      <td>           MVP Baseball 2005</td>\n",
        "      <td>           [u'Sports', u'Baseball']</td>\n",
        "      <td> 2005-02-22 00:00:00</td>\n",
        "      <td>  3030-9978</td>\n",
        "    </tr>\n",
        "    <tr>\n",
        "      <th>4</th>\n",
        "      <td> Need for Speed: Most Wanted</td>\n",
        "      <td> [u'Driving/Racing', u'Simulation']</td>\n",
        "      <td> 2005-11-15 00:00:00</td>\n",
        "      <td> 3030-12976</td>\n",
        "    </tr>\n",
        "  </tbody>\n",
        "</table>\n",
        "</div>"
       ],
       "metadata": {},
       "output_type": "pyout",
       "prompt_number": 91,
       "text": [
        "                          Name                              Genres  \\\n",
        "0                      Pac-Man            [u'Strategy', u'Puzzle']   \n",
        "1              Icewind Dale II                   [u'Role-Playing']   \n",
        "2             Gauntlet Legends       [u'Role-Playing', u'Brawler']   \n",
        "3            MVP Baseball 2005            [u'Sports', u'Baseball']   \n",
        "4  Need for Speed: Most Wanted  [u'Driving/Racing', u'Simulation']   \n",
        "\n",
        "         Date Released     Game Id  \n",
        "0  1980-05-22 00:00:00   3030-7624  \n",
        "1  2002-08-28 00:00:00   3030-8890  \n",
        "2  1998-10-31 00:00:00  3030-12245  \n",
        "3  2005-02-22 00:00:00   3030-9978  \n",
        "4  2005-11-15 00:00:00  3030-12976  "
       ]
      }
     ],
     "prompt_number": 91
    },
    {
     "cell_type": "markdown",
     "metadata": {},
     "source": [
      "Consequently, it would be interesting to repeat this analysis looking at combinations of genres. "
     ]
    },
    {
     "cell_type": "markdown",
     "metadata": {},
     "source": [
      "## V. Final Machine Learning Analysis"
     ]
    },
    {
     "cell_type": "markdown",
     "metadata": {},
     "source": [
      "Clearly, we have been able to extract valuable insights by exploring the data gathered from Giant Bomb and Game Spot. However, we can go even further by applying the techniques of machine learning to these data sets."
     ]
    },
    {
     "cell_type": "markdown",
     "metadata": {},
     "source": [
      "### V.A. The Problem\n",
      "\n",
      "We wish to perform text classification and regression to quantitatively characterize the sentiment of GameSpot video game reviews. The classification will take the form of labeling each review as either \"positive\" or \"negative\" based on its numerical score and training/optimizing various classifiers to predict \"positive\" versus \"negative\" sentiment based on review text. This classification goal was inspired by the application of Naive Bayes classification to Rotten Tomatoes movie reviews (\"fresh\" versus \"rotten\") in the Bayesian Tomatoes exercise from AC209 Fall 2013. Here we extend this prior work in several ways:\n",
      "1. We apply Naive Bayes classification to video game reviews from GameSpot rather than movie reviews from Rotten Tomatoes.\n",
      "2. We apply random forest classification and compare its results to those of Naive Bayes classification.\n",
      "3. We attempt to predict numerical review scores using k nearest neighbors regression.\n",
      "4. We apply feature-cleaning techniques such as regular expressions and stemming to the video game review corpus."
     ]
    },
    {
     "cell_type": "markdown",
     "metadata": {},
     "source": [
      "### V.B. Preliminaries"
     ]
    },
    {
     "cell_type": "markdown",
     "metadata": {},
     "source": [
      "The first step to running any text analysis on the reviews is to load them into numpy arrays from the JSON file we constructed while scraping.\n",
      "To do this, we have written a Python utility script called `load_reviews_scores.py`. This script offers the option of either stemming or not stemming the words in the reviews as an additional preprocessing step, via the `stem` keyword in the `load_reviews_scores` function. The following code cell prints the contents of this file:"
     ]
    },
    {
     "cell_type": "code",
     "collapsed": false,
     "input": [
      "print open('load_reviews_scores.py').read()"
     ],
     "language": "python",
     "metadata": {},
     "outputs": [
      {
       "output_type": "stream",
       "stream": "stdout",
       "text": [
        "# written by Aaron Meisner, 12/4/2014\n",
        "\n",
        "import json\n",
        "import numpy as np\n",
        "from nltk.tokenize import RegexpTokenizer\n",
        "from nltk.stem.porter import PorterStemmer\n",
        "\n",
        "def remove_empty_reviews(rev_list, scores):\n",
        "    l = np.array([len(r.replace(' ', '')) for r in rev_list])\n",
        "\n",
        "    return rev_list[l > 0], scores[l > 0]\n",
        "\n",
        "def load_reviews_scores(stem=False):\n",
        "    f = open('data/gamespot.json')\n",
        "    data = json.load(f)\n",
        "\n",
        "    rev_list = np.array([g['summary'] for g in data])\n",
        "    scores = np.array([g['score'] for g in data]).astype(float)\n",
        "\n",
        "    rev_list, scores = remove_empty_reviews(rev_list, scores)\n",
        "\n",
        "    u, ind_u = np.unique(rev_list, return_index=True)\n",
        "    rev_list = rev_list[ind_u]\n",
        "    scores = scores[ind_u]\n",
        "\n",
        "    if stem:\n",
        "        stemmer = PorterStemmer()\n",
        "        rev_list_stemmed = []\n",
        "        tokenizer = RegexpTokenizer(ur'\\b[a-zA-Z][a-zA-Z]+\\b')\n",
        "\n",
        "        for rev in rev_list:\n",
        "            tokens = tokenizer.tokenize(rev)\n",
        "            stemmed = \"\"\n",
        "            for token in tokens:\n",
        "                stemmed = stemmed + \" \" + stemmer.stem(token)\n",
        "            rev_list_stemmed.append(stemmed)\n",
        "        return rev_list_stemmed, scores\n",
        "    else:\n",
        "        return rev_list, scores\n",
        "\n"
       ]
      }
     ],
     "prompt_number": 36
    },
    {
     "cell_type": "markdown",
     "metadata": {},
     "source": [
      "### V.C. The Baseline"
     ]
    },
    {
     "cell_type": "markdown",
     "metadata": {},
     "source": [
      "In any machine learning task, especially classification, it is extremely important to establish a baseline accuracy for the *simplest possible model*. In our case, the simplest possible model corresponds to guessing that all reviews are positive or all reviews are negative, without any examination of the review text. If we do not choose our threshold for \"positive\" versus \"negative\" reviews carefully, we will end up with an unbalanced set of examples for which it is difficult to interpret accuracy scores. For example, in the classic fraud detection problem, 99.99% of examples could be non-fraudulent, and therefore a trivial solution can produce 99.99% nominal accuracy, depending on the accuracy metric used. In order to avoid the subtleties introduced by unbalanced examples, we will choose the boundary between \"positive\" and \"negative\" reviews which makes the examples maximally balanced. Below is code showing how we choose the boundary between positive and negative reviews."
     ]
    },
    {
     "cell_type": "code",
     "collapsed": false,
     "input": [
      "from load_reviews_scores import load_reviews_scores\n",
      "reviews, scores = load_reviews_scores()"
     ],
     "language": "python",
     "metadata": {},
     "outputs": [],
     "prompt_number": 37
    },
    {
     "cell_type": "code",
     "collapsed": false,
     "input": [
      "print 'The median review score is ', scoreatpercentile(scores, 50)\n",
      "print 'The fraction of reviews that have score greater than or equal to 7 is', float(np.sum(scores >=  7))/len(scores)\n",
      "print 'The fraction of reviews that have score greater than 7 is', float(np.sum(scores > 7))/len(scores)"
     ],
     "language": "python",
     "metadata": {},
     "outputs": [
      {
       "output_type": "stream",
       "stream": "stdout",
       "text": [
        "The median review score is  7.0\n",
        "The fraction of reviews that have score greater than or equal to 7 is 0.535880708295\n",
        "The fraction of reviews that have score greater than 7 is 0.461747013471\n"
       ]
      }
     ],
     "prompt_number": 38
    },
    {
     "cell_type": "markdown",
     "metadata": {},
     "source": [
      "The above printouts show that we can get closest to an even split of the data by labeling \"positive\" reviews as those with score greater than\n",
      "or equal to seven, and \"negative\" reviews as those with score less than seven. With this choice of threshold, a trivial solution can achieve accuracy of 53.6% at best, by guessing that every review is positive."
     ]
    },
    {
     "cell_type": "markdown",
     "metadata": {},
     "source": [
      "### V.D. Train/Test Split"
     ]
    },
    {
     "cell_type": "markdown",
     "metadata": {},
     "source": [
      "In the Bayesian Tomatoes exercise, 3000 reviews were collected in total. Here, we have nearly 12000 reviews. Thus, we have plenty of data and can choose a substantial number of reviews to be set aside completely as test examples, which are not used at any point during training or cross-validation."
     ]
    },
    {
     "cell_type": "code",
     "collapsed": false,
     "input": [
      "print 'The total number of GameSpot reviews that we have is', len(reviews)"
     ],
     "language": "python",
     "metadata": {},
     "outputs": [
      {
       "output_type": "stream",
       "stream": "stdout",
       "text": [
        "The total number of GameSpot reviews that we have is 11803\n"
       ]
      }
     ],
     "prompt_number": 39
    },
    {
     "cell_type": "markdown",
     "metadata": {},
     "source": [
      "Throughout our machine learning work, we will set aside aside 1803 of our examples as a test set, leaving 10000 examples on which to train and cross-validate our classification/regression models."
     ]
    },
    {
     "cell_type": "markdown",
     "metadata": {},
     "source": [
      "In order to perform our train/test split, we need to set up our feature matrix $X$ and target vector $Y$. As in Bayesian Tomatoes, we take features to be individual words by using the [bag of words](http://en.wikipedia.org/wiki/Bag-of-words_model) technique. It is extremely important to keep in mind that this bag of words model considers a block of text to be a random accumulation of various words, and that this model makes no attempt whatsoever to account for the order/grammatical structure in which these words are arranged. This is obviously a gigantic oversimplification, but it makes the problem at hand much more computationally tractable; to whatever extent higher-order groupings of words are taken as features, the classification becomes combinatorically more computationally demanding. In the following cell we set up the feature matrix $X$ using the bag of words model:"
     ]
    },
    {
     "cell_type": "code",
     "collapsed": false,
     "input": [
      "vectorizer = CountVectorizer()\n",
      "vectorizer.fit(reviews)\n",
      "X = vectorizer.transform(reviews)"
     ],
     "language": "python",
     "metadata": {},
     "outputs": [],
     "prompt_number": 40
    },
    {
     "cell_type": "markdown",
     "metadata": {},
     "source": [
      "Per the discussion above, the target vector $Y$ will simply be a vector of 1's and 0's and is easy to calculate. We will choose the labels such that 1 corresponds to a \"positive\" review, and \"0\" corresponds to a \"negative review\""
     ]
    },
    {
     "cell_type": "code",
     "collapsed": false,
     "input": [
      "Y = (scores >= 7).astype(int)"
     ],
     "language": "python",
     "metadata": {},
     "outputs": [],
     "prompt_number": 41
    },
    {
     "cell_type": "markdown",
     "metadata": {},
     "source": [
      "We can check that X and Y have compatible dimensions:"
     ]
    },
    {
     "cell_type": "code",
     "collapsed": false,
     "input": [
      "print X.shape\n",
      "print Y.shape"
     ],
     "language": "python",
     "metadata": {},
     "outputs": [
      {
       "output_type": "stream",
       "stream": "stdout",
       "text": [
        "(11803, 13631)\n",
        "(11803,)\n"
       ]
      }
     ],
     "prompt_number": 42
    },
    {
     "cell_type": "markdown",
     "metadata": {},
     "source": [
      "Note that the second dimension of $X$ encodes the number of features. With this default vectorizer, we actually have more \n",
      "features than examples! The number of features can be adjusted with the `df_min` parameter of CountVectorizer. We will tune this `df_min` parameter later."
     ]
    },
    {
     "cell_type": "markdown",
     "metadata": {},
     "source": [
      "Now we can actually perform the train/test split. The train/test split in this case is somewhat subtle, because we will tune the `min_df` parameter (see below), which actually *changes the dimensions* of the feature matrix $X$. Therefore, in order to make sure we keep our test data truly separate from the training/cross-validation process, we will perform our train/test split by saving the *indices* of the reviews which will be used for training, and those which will be saved for testing:"
     ]
    },
    {
     "cell_type": "code",
     "collapsed": false,
     "input": [
      "np.random.seed(seed=99)\n",
      "ind_train = np.random.choice(len(reviews), 10000, replace=False) \n",
      "ind_all = np.arange(len(reviews))\n",
      "ind_test = np.array(list(set(ind_all).difference(set(ind_train))))"
     ],
     "language": "python",
     "metadata": {},
     "outputs": [],
     "prompt_number": 47
    },
    {
     "cell_type": "markdown",
     "metadata": {},
     "source": [
      "Because some of the classifier training happens via auxiliary scripts outside of this notebook (due to the computational infeasibility of running everything within the notebook), it is necessary to write out these train/test indices to files which can be read in by these auxiliary scripts."
     ]
    },
    {
     "cell_type": "code",
     "collapsed": false,
     "input": [
      "o_train = open('data/ind_train.pkl', 'wb')\n",
      "cPickle.dump(ind_train, o_train)\n",
      "o_train.close()\n",
      "\n",
      "o_test = open('data/ind_test.pkl','wb')\n",
      "cPickle.dump(ind_test, o_test)\n",
      "o_test.close()"
     ],
     "language": "python",
     "metadata": {},
     "outputs": [],
     "prompt_number": 10
    },
    {
     "cell_type": "markdown",
     "metadata": {},
     "source": [
      "### V.E. Naivest Bayes"
     ]
    },
    {
     "cell_type": "markdown",
     "metadata": {},
     "source": [
      "Here we try the simplest possible version of Naive Bayes classification. As demonstrated in Bayesian Tomatoes, there are two important parameters which must be tuned. The first is `min_df`, which encodes the minimum frequency with which a word must appear in the training corpus in order to become a feature of the model. This is useful in getting rid of random junk which may have been accidentally incorporated into the review text during scraping, or words which are proper nouns (e.g. game names) rather than part of the standard english vocabulary. In Bayesian tomatoes, it was found that `min_df`=0.001 is optimal, but here in our \"Naivest Bayes\" experiment, we simply use the default value, which includes all words that appear even once in the corpus as features. The other important parameter that should be tuned is called `alpha`, the additive (Laplace/Lidstone) smoothing parameter, which effectively smooths out individual features and thereby dictates how strongly the predicted positive/negative probabilities are dragged toward 0.50. Here, to establish a baseline, we adopt the default value of `alpha`=1."
     ]
    },
    {
     "cell_type": "code",
     "collapsed": false,
     "input": [
      "clf = MultinomialNB().fit(X[ind_train,:], Y[ind_train])\n",
      "print \"Training set accuracy: %0.2f%%\" % (100 * clf.score(X[ind_train,:], Y[ind_train]))\n",
      "print \"Test set accuracy: %0.2f%%\" % (100 * clf.score(X[ind_test,:], Y[ind_test]))"
     ],
     "language": "python",
     "metadata": {},
     "outputs": [
      {
       "output_type": "stream",
       "stream": "stdout",
       "text": [
        "Training set accuracy: 89.27%\n",
        "Test set accuracy: 75.43%\n"
       ]
      }
     ],
     "prompt_number": 46
    },
    {
     "cell_type": "markdown",
     "metadata": {},
     "source": [
      "Thus, without being careful about cleaning or stemming our features, and without any cross-validation to tune the model parameters, we can already achieve an accuracy of $\\sim$75.4% on the test data. That's pretty good!"
     ]
    },
    {
     "cell_type": "markdown",
     "metadata": {},
     "source": [
      "### V.F. Cross-Validation Framework"
     ]
    },
    {
     "cell_type": "markdown",
     "metadata": {},
     "source": [
      "Cross-validation will consist of running a two-dimensional grid in (`min_df`, `alpha`) to find the combination of these parameters which yields the highest cross-validation accuracy score during 10-fold cross-validation. Note that it is not possible in this situation to trivially use GridSearchSV as in Homework 3, because technically `min_df` is not a parameter of the Naive Bayes classifier, but rather it *dictates the shape and contents of the feature matrix, irrespective of the model trained on the feature matrix to predict the target*. Therefore, we have written a custom script to search for the optimal (`min_df`, `alpha`) pair for the Naive Bayes classification. This script is printed below:"
     ]
    },
    {
     "cell_type": "code",
     "collapsed": false,
     "input": [
      "print open('crossval_naive_bayes.py').read()"
     ],
     "language": "python",
     "metadata": {},
     "outputs": [
      {
       "output_type": "stream",
       "stream": "stdout",
       "text": [
        "#!/usr/bin/env python\n",
        "# written by Aaron Meisner, 12/5/2014\n",
        "\n",
        "import cPickle\n",
        "import numpy as np\n",
        "from sklearn.feature_extraction.text import CountVectorizer\n",
        "from sklearn.naive_bayes import MultinomialNB\n",
        "import sklearn.grid_search\n",
        "from load_reviews_scores import load_reviews_scores\n",
        "\n",
        "def crossval_naive_bayes(stem=False, regex=False):\n",
        "    # load review/score data (pass stem keyword along)\n",
        "    reviews, scores = load_reviews_scores(stem=stem)\n",
        "\n",
        "    # construct target vector\n",
        "    Y = (scores >= 7)\n",
        "\n",
        "    # load train/test indices\n",
        "    ind_train = cPickle.load(file('data/ind_train.pkl'))\n",
        "\n",
        "    # make array of candidate min_df values\n",
        "    min_dfs = np.arange(0.00008, 0.01002, 0.00002)\n",
        "    # make array of candidate alpha values\n",
        "    alphas = np.array([0.005, 0.1, 0.5, 1, 1.7, 1.8, 1.9, 2, 2.1, 2.2, 2.3, 5, \n",
        "                       10])\n",
        "\n",
        "    n_min_df = len(min_dfs)\n",
        "    n_alpha = len(alphas)\n",
        "\n",
        "    # initialize 2d grids holding cross-validation results\n",
        "    grid_cv_score = np.zeros((n_min_df, n_alpha))\n",
        "    grid_score_std = np.zeros((n_min_df, n_alpha))\n",
        "    grid_min_df = np.zeros((n_min_df, n_alpha))\n",
        "    grid_alpha = np.zeros((n_min_df, n_alpha))\n",
        "\n",
        "    parameters = {'alpha' : alphas}\n",
        "\n",
        "    for i, min_df in enumerate(min_dfs):\n",
        "    #   print out current min_df parameter value\n",
        "        print i, min_df\n",
        "    #   construct feature matrix \n",
        "        vectorizer = CountVectorizer(min_df=min_df)\n",
        "        vectorizer.fit(reviews)\n",
        "        X = vectorizer.transform(reviews)\n",
        "  \n",
        "    #   restrict to the training indices and run 10-fold CV with GridSearchCV\n",
        "        clf_gs = sklearn.grid_search.GridSearchCV(MultinomialNB(), parameters,\n",
        "                                                   cv=10)\n",
        "        clf_gs.fit(X[ind_train,:], Y[ind_train])\n",
        "        clf_gs.grid_scores_\n",
        "\n",
        "        cv_means = np.array([clf_gs.grid_scores_[j][1] for j in range(n_alpha)])\n",
        "        cv_stds = np.array([np.std(clf_gs.grid_scores_[j][2]) for j in range(n_alpha)])\n",
        "    #   store information about inputs and scores for this value of min_df\n",
        "        grid_cv_score[i, :] = cv_means\n",
        "        grid_score_std[i, :] = cv_stds\n",
        "        grid_min_df[i, :] = min_df\n",
        "        grid_alpha[i, :] = alphas\n",
        "\n",
        "    # write out 2d grids to pkl file\n",
        "    o_scores = open('data/grid_cv_score.pkl', 'wb')\n",
        "    cPickle.dump(grid_cv_score, o_scores)\n",
        "    o_scores.close()\n",
        "\n",
        "    o_score_stds = open('data/grid_score_std.pkl', 'wb')\n",
        "    cPickle.dump(grid_score_std, o_score_stds)\n",
        "    o_score_stds.close()\n",
        "\n",
        "    o_alphas = open('data/grid_alpha.pkl', 'wb')\n",
        "    cPickle.dump(grid_alpha, o_alphas)\n",
        "    o_alphas.close()\n",
        "\n",
        "    o_min_dfs = open('data/grid_min_df.pkl', 'wb')\n",
        "    cPickle.dump(grid_min_df, o_min_dfs)\n",
        "    o_min_dfs.close()\n",
        "\n"
       ]
      }
     ],
     "prompt_number": 48
    },
    {
     "cell_type": "markdown",
     "metadata": {},
     "source": [
      "### V.G. Tuned Naive Bayes Classifier\n",
      "\n",
      "We have applied the above ideas and script to search a rectangular grid in (`min_df`, `alpha`), where the `min_df` values are\n",
      "[0.00008, 0.0001, 0.00012, 0.00014, ..., 0.00980, 0.01] and the `alpha` values are [0.005, 0.1, 0.5, 1, 1.7, 1.8, 1.9, 2, 2.1, 2.2, 2.3, 5, 10]. This represents 497 `min_df` values and 13 `alpha` values, for a total of 6461 parameter choice pairs evaluated. Note that the `min_df` values are evenly spaced in increments of $2\\times10^{-5}$, whereas the `alpha` values are not evenly spaced.\n",
      "\n",
      "We define the \"optimal\" choice of (`min_df`, `alpha`) to be that which maximizes the cross-validation accuracy score. A colorscale map of the cross-validation accuracy score over the grid of (`min_df`, `alpha`), computed using `crossval_naive_bayes.py`, is shown below (top left subplot). For comparison and ease of interpretation, several additional related colormap figures are shown. The top right panel shows the standard deviation of the cross-validation score at every point in the grid, to give a sense of the uncertainty on each cross-validation accuracy shown in the top panel. The lower left panel shows the grid of `min_df` values used. The lower right panel shows the the grid of `alpha` values used."
     ]
    },
    {
     "cell_type": "code",
     "collapsed": false,
     "input": [
      "cv_scores = cPickle.load(file('data/grid_cv_score.pkl'))\n",
      "cv_scores_std = cPickle.load(file('data/grid_score_std.pkl'))\n",
      "alpha_grid = cPickle.load(file('data/grid_alpha.pkl'))\n",
      "min_df_grid = cPickle.load(file('data/grid_min_df.pkl'))"
     ],
     "language": "python",
     "metadata": {},
     "outputs": [],
     "prompt_number": 9
    },
    {
     "cell_type": "code",
     "collapsed": false,
     "input": [
      "plt.figure(figsize=(14,12))\n",
      "plt.subplot(2,2,1)\n",
      "plt.title('cross-validation accuracy score')\n",
      "plt.imshow(cv_scores, interpolation='nearest', aspect=0.02)\n",
      "plt.colorbar(label='accuracy')\n",
      "plt.xlabel('alpha')\n",
      "plt.ylabel('min_df')\n",
      "plt.xticks(np.arange(len(np.unique(alpha_grid))), rotation='vertical')\n",
      "ax = plt.gca()\n",
      "labels = [item.get_text() for item in ax.get_xticklabels()]\n",
      "for i in range(len(labels)):\n",
      "    labels[i] = str((np.unique(alpha_grid))[i])\n",
      "ax.set_xticklabels(labels)\n",
      "\n",
      "ytick_locs = [0,100,200,300,400]\n",
      "plt.yticks(ytick_locs)\n",
      "labels = [item.get_text() for item in ax.get_yticklabels()]\n",
      "for i in range(len(labels)):\n",
      "    labels[i] = str((2e-5)*ytick_locs[i])\n",
      "ax.set_yticklabels(labels)\n",
      "\n",
      "plt.subplot(2,2,2)\n",
      "plt.title('cross-validation accuracy score standard deviation')\n",
      "plt.imshow(cv_scores_std, interpolation='nearest', aspect=0.02)\n",
      "plt.colorbar(label='accuracy standard deviation')\n",
      "plt.xlabel('alpha')\n",
      "plt.ylabel('min_df')\n",
      "plt.xticks(np.arange(len(np.unique(alpha_grid))), rotation='vertical')\n",
      "ax = plt.gca()\n",
      "labels = [item.get_text() for item in ax.get_xticklabels()]\n",
      "for i in range(len(labels)):\n",
      "    labels[i] = str((np.unique(alpha_grid))[i])\n",
      "ax.set_xticklabels(labels)\n",
      "\n",
      "ytick_locs = [0,100,200,300,400]\n",
      "plt.yticks(ytick_locs)\n",
      "labels = [item.get_text() for item in ax.get_yticklabels()]\n",
      "for i in range(len(labels)):\n",
      "    labels[i] = str((2e-5)*ytick_locs[i])\n",
      "ax.set_yticklabels(labels)\n",
      "\n",
      "plt.subplot(2,2,3)\n",
      "plt.title('min_df values for cross-validation grid')\n",
      "plt.imshow(min_df_grid, interpolation='nearest', aspect=0.02)\n",
      "plt.colorbar(label='min_df')\n",
      "plt.xlabel('alpha')\n",
      "plt.ylabel('min_df')\n",
      "plt.xticks(np.arange(len(np.unique(alpha_grid))), rotation='vertical')\n",
      "ax = plt.gca()\n",
      "labels = [item.get_text() for item in ax.get_xticklabels()]\n",
      "for i in range(len(labels)):\n",
      "    labels[i] = str((np.unique(alpha_grid))[i])\n",
      "ax.set_xticklabels(labels)\n",
      "\n",
      "ytick_locs = [0,100,200,300,400]\n",
      "plt.yticks(ytick_locs)\n",
      "labels = [item.get_text() for item in ax.get_yticklabels()]\n",
      "for i in range(len(labels)):\n",
      "    labels[i] = str((2e-5)*ytick_locs[i])\n",
      "ax.set_yticklabels(labels)\n",
      "\n",
      "plt.subplot(2,2,4)\n",
      "plt.title('alpha values for cross-validation grid')\n",
      "plt.imshow(alpha_grid, interpolation='nearest', aspect=0.02)\n",
      "plt.colorbar(label='alpha')\n",
      "plt.xlabel('alpha')\n",
      "plt.ylabel('min_df')\n",
      "plt.xticks(np.arange(len(np.unique(alpha_grid))), rotation='vertical')\n",
      "ax = plt.gca()\n",
      "labels = [item.get_text() for item in ax.get_xticklabels()]\n",
      "for i in range(len(labels)):\n",
      "    labels[i] = str((np.unique(alpha_grid))[i])\n",
      "ax.set_xticklabels(labels)\n",
      "\n",
      "ytick_locs = [0,100,200,300,400]\n",
      "plt.yticks(ytick_locs)\n",
      "labels = [item.get_text() for item in ax.get_yticklabels()]\n",
      "for i in range(len(labels)):\n",
      "    labels[i] = str((2e-5)*ytick_locs[i])\n",
      "_ = ax.set_yticklabels(labels)"
     ],
     "language": "python",
     "metadata": {},
     "outputs": [
      {
       "metadata": {},
       "output_type": "display_data",
       "png": "[encoded data removed]",
       "text": [
        "<matplotlib.figure.Figure at 0x15f273a50>"
       ]
      }
     ],
     "prompt_number": 346
    },
    {
     "cell_type": "markdown",
     "metadata": {},
     "source": [
      "In the following cell, we take the initial steps toward determining the optimal choice of (`min_df`, `alpha`) based on the cross-validation accuracy grid shown above:"
     ]
    },
    {
     "cell_type": "code",
     "collapsed": false,
     "input": [
      "print \"The maximum cross-validation accuracy score is \", np.max(cv_scores)\n",
      "w = np.where(cv_scores == np.max(cv_scores))\n",
      "print \"The data points at which the maximum accuracy score is achieved have alpha=\", alpha_grid[w[0],w[1]]\n",
      "print \"The data points at which the maximum accuracy score is achieved have min_df=\", min_df_grid[w[0],w[1]]"
     ],
     "language": "python",
     "metadata": {},
     "outputs": [
      {
       "output_type": "stream",
       "stream": "stdout",
       "text": [
        "The maximum cross-validation accuracy score is  0.7663\n",
        "The data points at which the maximum accuracy score is achieved have alpha= [ 1.7  1.7  1.7  1.7]\n",
        "The data points at which the maximum accuracy score is achieved have min_df= [ 0.0001   0.00012  0.00014  0.00016]\n"
       ]
      }
     ],
     "prompt_number": 51
    },
    {
     "cell_type": "markdown",
     "metadata": {},
     "source": [
      "We can see that there are actually four points in the grid tied for the best accuracy score. This can happen because only 1000 reviews are being used to calculate each cross-validation accuracy score, so the possible accuracy scores are effectively discretized. We can see that all of the best parameter choices have `alpha`=1.7, so for our \"optimized Naive Bayes classifier\" we will employ `alpha`=1.7. For the optimized Naive Bayes classifier, we will adopt a `min_df` value which is the median of the `min_df` values that are tied for the best cross-validation accuracy:"
     ]
    },
    {
     "cell_type": "code",
     "collapsed": false,
     "input": [
      "print \"We will adopt min_df=\", np.median(min_df_grid[w[0],w[1]]), \" for our optimized Naive Bayes classifier.\""
     ],
     "language": "python",
     "metadata": {},
     "outputs": [
      {
       "output_type": "stream",
       "stream": "stdout",
       "text": [
        "We will adopt min_df= 0.00013  for our optimized Naive Bayes classifier.\n"
       ]
      }
     ],
     "prompt_number": 52
    },
    {
     "cell_type": "markdown",
     "metadata": {},
     "source": [
      "We should take note of and attempt to understand this optimal value of  `min_df`. The default value of `min_df` corresponds to including every word that appears even once as a feature. With `min_df` at its default value, we have 13631 features. As shown below, with `min_df`=0.00013, we have only 7764 features. This means that the optimized Naive Bayes classifier uses approximately the most frequent half of all unique words as features."
     ]
    },
    {
     "cell_type": "code",
     "collapsed": false,
     "input": [
      "vectorizer_opt = CountVectorizer(min_df=0.00013)\n",
      "vectorizer_opt.fit(reviews)\n",
      "print \"In the optimized classifier, the most frequent \", len(vectorizer_opt.get_feature_names()), \" words are used as features.\""
     ],
     "language": "python",
     "metadata": {},
     "outputs": [
      {
       "output_type": "stream",
       "stream": "stdout",
       "text": [
        "In the optimized classifier, the most frequent  7764  words are used as features.\n"
       ]
      }
     ],
     "prompt_number": 246
    },
    {
     "cell_type": "markdown",
     "metadata": {},
     "source": [
      "It is also interesting to compare our optimal values of `alpha` and `min_df` to those found in the Bayesian Tomatoes study of movie reviews. In Bayesian Tomatoes, (`min_df`, `alpha`)=(0.001, 5) was determined to be optimal. Aside from the fact that our analysis and Bayesian Tomatoes rely upon completely different data sets, another reason we might end up with somewhat different values is that we chose to optimize the cross-validation accuracy score, whereas in Bayesian Tomatoes the log-likelihood was optimized. Using our optimal combination of (`min_df`, `alpha`) = (0.00013, 1.7) we can evaluate the *test* accuracy score, to see how much improvement has been achieved relative to simply using the default parameters."
     ]
    },
    {
     "cell_type": "code",
     "collapsed": false,
     "input": [
      "X_opt = vectorizer_opt.transform(reviews)\n",
      "clf_opt = MultinomialNB(alpha=1.7).fit(X_opt[ind_train,:], Y[ind_train])\n",
      "print \"Training set accuracy: %0.2f%%\" % (100 * clf_opt.score(X_opt[ind_train,:], Y[ind_train]))\n",
      "print \"Test set accuracy: %0.2f%%\" % (100 * clf_opt.score(X_opt[ind_test,:], Y[ind_test]))"
     ],
     "language": "python",
     "metadata": {},
     "outputs": [
      {
       "output_type": "stream",
       "stream": "stdout",
       "text": [
        "Training set accuracy: 86.13%\n",
        "Test set accuracy: 75.93%\n"
       ]
      }
     ],
     "prompt_number": 247
    },
    {
     "cell_type": "markdown",
     "metadata": {},
     "source": [
      "Notice that this test accuracy (75.93%) is only very slightly higher than the \"Naivest Bayes\" test accuracy (75.43%), by half a percent. This optimized optimized Naive Bayes classifier accuracy for video game reviews is very similar to that found for movie reviews in Bayesian Tomatoes: their final \"calibrated\" classifier had a test accuracy of 74%."
     ]
    },
    {
     "cell_type": "markdown",
     "metadata": {},
     "source": [
      "#### V.G.1 Understanding the Naive Bayes Classifier\n",
      "\n",
      "With the \"heavy lifting\" of training, cross-validating, optimizing and testing our Naive Bayes classifier out of the way, we can demonstrate some of its amusing properties and capabilities. A reasonable first question to ask about the classifier is: Which features (individual words) are the most strongly indicative of a \"positive\" or \"negative\" review. A way to phrase this more quantitatively within the Naive Bayes framework is to ask: which words have the highest and lowest values of P(positive|word)? The words with highest P(positive|word) are most strongly indicative of a positive review, and the words with lowest P(positive|word) are most strongly indicative of a negative review. The following code prints out the ten most \n",
      "strongly positive and strongly negative words:"
     ]
    },
    {
     "cell_type": "code",
     "collapsed": false,
     "input": [
      "# this code is adapted from the Bayesian Tomatoes solutions\n",
      "\n",
      "words = np.array(vectorizer_opt.get_feature_names())\n",
      "x = np.eye(X_opt.shape[1])\n",
      "probs = clf_opt.predict_log_proba(x)[:, 0]\n",
      "ix = np.argsort(probs)\n",
      "\n",
      "n_example=10\n",
      "\n",
      "good_words = words[ix[:n_example]]\n",
      "bad_words = words[ix[-n_example:]]\n",
      "bad_words = bad_words[::-1]\n",
      "\n",
      "good_prob = probs[ix[:n_example]]\n",
      "bad_prob = probs[ix[-n_example:]]\n",
      "bad_prob = bad_prob[::-1]\n",
      "\n",
      "print \"Most positive words\\t     P(positive | word)\"\n",
      "for w, p in zip(good_words, good_prob):\n",
      "    print \"%20s\" % w, \"%0.3f\" % (1 - np.exp(p))\n",
      "    \n",
      "print \"Most negative words\\t     P(positive | word)\"\n",
      "for w, p in zip(bad_words, bad_prob):\n",
      "    print \"%20s\" % w, \"%0.3f\" % (1 - np.exp(p))"
     ],
     "language": "python",
     "metadata": {},
     "outputs": [
      {
       "output_type": "stream",
       "stream": "stdout",
       "text": [
        "Most positive words\t     P(positive | word)\n",
        "              superb 0.956\n",
        "            terrific 0.931\n",
        "               tight 0.928\n",
        "            stunning 0.928\n",
        "             crafted 0.925\n",
        "               notch 0.904\n",
        "         refinements 0.904\n",
        "                maps 0.904\n",
        "        successfully 0.902\n",
        "           excellent 0.900\n",
        "Most negative words\t     P(positive | word)\n",
        "            terrible 0.036\n",
        "                dull 0.063\n",
        "               avoid 0.065\n",
        "          mediocrity 0.073\n",
        "              boring 0.074\n",
        "              poorly 0.076\n",
        "                mess 0.081\n",
        "       uninteresting 0.081\n",
        "              shoddy 0.085\n",
        "                rent 0.085\n"
       ]
      }
     ],
     "prompt_number": 154
    },
    {
     "cell_type": "markdown",
     "metadata": {},
     "source": [
      "These most positive/negative words are almost entirely self explanatory. For example, it would be unlikely to use the word \"superb\" in a negative review or to use the word \"mediocrity\" in a positive review. A few of these words are worthy of further exploration, which is possible by simply scanning through the input reviews for their occurence. In particular, it is interesting to investigate \"tight\", \"maps\" and \"rent\", which seem unexpected relative to the other best/worst words. The code in the cell below is a utility function to scan through the reviews for a single word:"
     ]
    },
    {
     "cell_type": "code",
     "collapsed": false,
     "input": [
      "def scan_for_word(word):\n",
      "    reviews_with_word = []\n",
      "    for review in reviews:\n",
      "        if review.find(word) != -1:\n",
      "            reviews_with_word.append(review)\n",
      "    return np.array(reviews_with_word)"
     ],
     "language": "python",
     "metadata": {},
     "outputs": [],
     "prompt_number": 32
    },
    {
     "cell_type": "markdown",
     "metadata": {},
     "source": [
      "Now we use this utility function to print out reviews containing the words with unexpectedly strong influence on sentiment:"
     ]
    },
    {
     "cell_type": "code",
     "collapsed": false,
     "input": [
      "print 'tight\\n' + '*'*80\n",
      "print scan_for_word(\" tight \")[1]\n",
      "print scan_for_word(\" tight \")[3]\n",
      "print scan_for_word(\" tight \")[7]\n",
      "\n",
      "print '\\nmaps\\n' + '*'*80\n",
      "print scan_for_word(\" maps \")[4]\n",
      "print scan_for_word(\" maps \")[5]\n",
      "print scan_for_word(\" maps \")[6]\n",
      "\n",
      "print '\\nrent\\n' + '*'*80\n",
      "print scan_for_word(\" rent \")[11]\n",
      "print scan_for_word(\" rent \")[0]\n",
      "print scan_for_word(\" rent \")[7]"
     ],
     "language": "python",
     "metadata": {},
     "outputs": [
      {
       "output_type": "stream",
       "stream": "stdout",
       "text": [
        "tight\n",
        "********************************************************************************\n",
        " Burnout is one of the most intense and entertaining racing games on the PlayStation 2, complete with tight controls and impressive graphics.\n",
        " No-frills realism and tight teamwork make Insurgency a welcome break from the status quo."
       ]
      },
      {
       "output_type": "stream",
       "stream": "stdout",
       "text": [
        "\n",
        " Super Mario 3D Land eases you in with creative level design and tight controls while leaving plenty of challenging content to be discovered.\n",
        "\n",
        "maps\n",
        "********************************************************************************\n",
        " Island Thunder offers more than enough in the way of a challenging single-player game and new multiplayer maps for players who are serious about tactical shooters."
       ]
      },
      {
       "output_type": "stream",
       "stream": "stdout",
       "text": [
        "\n",
        " The first booster pack for Battlefield 2142 offers up three exciting new maps and a new gameplay mode, making it a must-have for fans of the multiplayer action game.\n",
        " The nine new maps are outstanding, making one of the best-ever multiplayer shooters even better."
       ]
      },
      {
       "output_type": "stream",
       "stream": "stdout",
       "text": [
        "\n",
        "\n",
        "rent\n",
        "********************************************************************************\n",
        " The unfortunates who decide to rent or buy this game will be stuck with nothing more than a filthy, horribly buggy port of an already middling game.\n",
        " Buy Asteroids Hyper 64 if you really, really adore the classic Asteroids, but all others are advised to either rent it or forget about it entirely."
       ]
      },
      {
       "output_type": "stream",
       "stream": "stdout",
       "text": [
        "\n",
        " Parents whose kids have Scooby-Doo hot on the brain from the movie can safely rent this one, or not, without worry of missing much.\n"
       ]
      }
     ],
     "prompt_number": 34
    },
    {
     "cell_type": "markdown",
     "metadata": {},
     "source": [
      "So, apparently \"tight\" is among the most positive words because it's a common term used to compliment video game design (as opposed to \"tight\" in the [UrbanDictionary](http://www.urbandictionary.com/define.php?term=Tight&defid=116155) sense of the word). Also, \"maps\" are apparently a common feature of games to be complimented in reviews. Last, we can see that \"rent\" is such a negative indicator because suggesting that readers rent a game is effectively a way of insulting the game.\n",
      "\n",
      "Finally, we can verify that, as in the case of movie reviews, our video game review classifier is also ineffective at identifying negation. For instance, we can easily construct a review that is clearly negative, yet is misclassified because the word \"not\" has been used for negation of a positive word:"
     ]
    },
    {
     "cell_type": "code",
     "collapsed": false,
     "input": [
      "print \"P(negative), P(positive)\"\n",
      "# negative sentiment, wrongly classified as positive\n",
      "misclassified = 'This game is not excellent and could definitely use some refinements.'\n",
      "# positive sentiment with same important features (words) as prior example, correctly classified as positive\n",
      "properly_classified = 'Excellent refinements!'\n",
      "print clf_opt.predict_proba(vectorizer_opt.transform([misclassified])), misclassified\n",
      "print clf_opt.predict_proba(vectorizer_opt.transform([properly_classified])), properly_classified"
     ],
     "language": "python",
     "metadata": {},
     "outputs": [
      {
       "output_type": "stream",
       "stream": "stdout",
       "text": [
        "P(negative), P(positive)\n",
        "[[ 0.01258504  0.98741496]] This game is not excellent and could definitely use some refinements.\n",
        "[[ 0.01339007  0.98660993]] Excellent refinements!\n"
       ]
      }
     ],
     "prompt_number": 41
    },
    {
     "cell_type": "markdown",
     "metadata": {},
     "source": [
      "So the review \"This game is not excellent and could definitely use some refinements\", which humans would classify as having negative sentiment, is badly misclassified by our Naive Bayes classifier (98.7% probability of being positive) which fails to recognize the negation of \"excellent\" and the use of \"refinements\" which is referring to hypothetical/suggested refinements, rather than praising refinements which were actually implemented/included."
     ]
    },
    {
     "cell_type": "markdown",
     "metadata": {},
     "source": [
      "### V.H. Random Forest Classification"
     ]
    },
    {
     "cell_type": "markdown",
     "metadata": {},
     "source": [
      "Here we apply random forests to the classification problem at hand. Note that for the sake of reducing computational cost, we have set `min_df`=0.001, as smaller values allow for so many features that our local machine struggles due to RAM limitations. Note that this restriction means that only the most frequent 2057 words are used as features, which is a factor of $\\sim$3.5$\\times$ fewer features than used in the Naive Bayes classifier. Having adopted `min_df`=0.001, we only have one important parameter to tune, which is the number of trees in the random forest. The script printed below uses ten-fold cross-validation on the training sample to explore the change in accuracy score as a function of the number of trees in the forest:"
     ]
    },
    {
     "cell_type": "code",
     "collapsed": false,
     "input": [
      "print open('tune_random_forest.py').read()"
     ],
     "language": "python",
     "metadata": {},
     "outputs": [
      {
       "output_type": "stream",
       "stream": "stdout",
       "text": [
        "#!/usr/bin/env python\n",
        "# written by Aaron Meisner, 12/6/2014\n",
        "\n",
        "import cPickle\n",
        "import numpy as np\n",
        "from sklearn.feature_extraction.text import CountVectorizer\n",
        "from sklearn.ensemble import RandomForestClassifier\n",
        "import sklearn.grid_search\n",
        "from load_reviews_scores import load_reviews_scores\n",
        "\n",
        "def tune_random_forest(stem=False):\n",
        "    min_df_opt = 0.001 # from Naive Bayes cross-validation\n",
        "\n",
        "    # set up the list of trial n_trees values\n",
        "    n_trees = np.array([1, 2, 3, 4, 5, 10, 20, 30, 40, 50, 100, 150])\n",
        "\n",
        "    # load review/score data (pass stem keyword along)\n",
        "    reviews, scores = load_reviews_scores(stem=stem)\n",
        "\n",
        "    # construct target vector\n",
        "    Y = (scores >= 7)\n",
        "\n",
        "    # load train/test indices\n",
        "    ind_train = cPickle.load(file('data/ind_train.pkl'))\n",
        "\n",
        "    # make array of candidate min_df values\n",
        "    vectorizer = CountVectorizer(min_df=min_df_opt)\n",
        "    vectorizer.fit(reviews)\n",
        "    X = vectorizer.transform(reviews)\n",
        "\n",
        "    print X.shape\n",
        "\n",
        "    parameters = {'n_estimators' : n_trees}\n",
        "\n",
        "    clf_gs = sklearn.grid_search.GridSearchCV(RandomForestClassifier(), \n",
        "                                              parameters, cv=10)\n",
        "    clf_gs.fit(X[ind_train,:].toarray(), Y[ind_train])\n",
        "    \n",
        "    cv_means = np.array([clf_gs.grid_scores_[j][1] for j in range(len(n_trees))])\n",
        "    cv_stds = np.array([np.std(clf_gs.grid_scores_[j][2]) for j in range(len(n_trees))])\n",
        "\n",
        "    # write out results to pkl files\n",
        "    o_ntree = open('data/rf_ntrees.pkl', 'wb')\n",
        "    cPickle.dump(n_trees, o_ntree)\n",
        "    o_ntree.close()\n",
        "\n",
        "    o_score = open('data/rf_scores.pkl', 'wb')\n",
        "    cPickle.dump(cv_means, o_score)\n",
        "    o_score.close()\n",
        "\n",
        "    o_std_score = open('data/rf_std_scores.pkl', 'wb')\n",
        "    cPickle.dump(cv_stds, o_std_score)\n",
        "    o_std_score.close()\n",
        "\n",
        "\n",
        "\n"
       ]
      }
     ],
     "prompt_number": 23
    },
    {
     "cell_type": "markdown",
     "metadata": {},
     "source": [
      "We tested random forests with $n_{trees}$=[1, 2, 3, 4, 5, 10, 20, 30, 40, 50, 100, 150]. Below the cross-validation accuracy scores and their standard deviations are plotted as a function of $n_{trees}$."
     ]
    },
    {
     "cell_type": "code",
     "collapsed": false,
     "input": [
      "n_trees = cPickle.load(file('data/rf_ntrees.pkl'))\n",
      "rf_scores = cPickle.load(file('data/rf_scores.pkl'))\n",
      "rf_score_stds = cPickle.load(file('data/rf_std_scores.pkl'))\n",
      "\n",
      "plt.figure(figsize=(8,5))\n",
      "plt.errorbar(n_trees, rf_scores, yerr=rf_score_stds)\n",
      "plt.xlabel('number of trees')\n",
      "plt.ylabel('cross-validation accuracy score')\n",
      "plt.title('tuning number of trees in random forest classifier')"
     ],
     "language": "python",
     "metadata": {},
     "outputs": [
      {
       "metadata": {},
       "output_type": "pyout",
       "prompt_number": 45,
       "text": [
        "<matplotlib.text.Text at 0x10b541dd0>"
       ]
      },
      {
       "metadata": {},
       "output_type": "display_data",
       "png": "[encoded data removed]",
       "text": [
        "<matplotlib.figure.Figure at 0x10d7743d0>"
       ]
      }
     ],
     "prompt_number": 45
    },
    {
     "cell_type": "markdown",
     "metadata": {},
     "source": [
      "Evidently there is a general trend of increasing cross-validation accuracy with increasing number of trees between n_trees=1 and n_trees$\\approx$100, at which point the accuracy levels off at around 73.5%. Technically, the best cross-validation accuracy (73.58%) occurs at n_trees=100. To compare Naive Bayes versus random forest classification, we must train the optimized random forest classifier (n_trees=100) to the 10000 review training set and apply it to the 1803 review test set: "
     ]
    },
    {
     "cell_type": "code",
     "collapsed": false,
     "input": [
      "vectorizer_rf = CountVectorizer(min_df=0.001)\n",
      "vectorizer_rf.fit(reviews)\n",
      "X_rf = vectorizer_rf.transform(reviews)\n",
      "\n",
      "clf_rf = RandomForestClassifier(n_estimators=100)\n",
      "clf_rf.fit((X_rf[ind_train,:]).toarray(), Y[ind_train])"
     ],
     "language": "python",
     "metadata": {},
     "outputs": [
      {
       "metadata": {},
       "output_type": "pyout",
       "prompt_number": 16,
       "text": [
        "RandomForestClassifier(bootstrap=True, compute_importances=None,\n",
        "            criterion='gini', max_depth=None, max_features='auto',\n",
        "            max_leaf_nodes=None, min_density=None, min_samples_leaf=1,\n",
        "            min_samples_split=2, n_estimators=100, n_jobs=1,\n",
        "            oob_score=False, random_state=None, verbose=0)"
       ]
      }
     ],
     "prompt_number": 16
    },
    {
     "cell_type": "code",
     "collapsed": false,
     "input": [
      "print 'The number of features used by our random forest classifier is', (X_rf.shape)[1]\n",
      "print 'The test accuracy for the tuned random forest classifier is ', clf_rf.score((X_rf[ind_test,:]).toarray(), Y[ind_test])"
     ],
     "language": "python",
     "metadata": {},
     "outputs": [
      {
       "output_type": "stream",
       "stream": "stdout",
       "text": [
        "The number of features used by our random forest classifier is 2057\n",
        "The test accuracy for the tuned random forest classifier is  "
       ]
      },
      {
       "output_type": "stream",
       "stream": "stdout",
       "text": [
        "0.728230726567\n"
       ]
      }
     ],
     "prompt_number": 21
    },
    {
     "cell_type": "markdown",
     "metadata": {},
     "source": [
      "Thus, the test accuracy for the tuned random forest classifier (100 trees) is $\\sim$72.8%. This is roughly three percent worse than the test accuracy for the tuned Naive Bayes classifier. Still, the tuned random forest classifier significantly outperforms the baseline of always guessing positive review sentiment. Futhermore, it is important to keep in mind that computational resources have limited us to using 2057 feaures for the random forest classifier, which is a factor of $\\sim$3.5\n",
      "fewer than we used for the tuned Naive Bayes classifier. Therefore, there is some reason to believe we could improve the random forest classifier's performance to match that of the tuned Naive Bayes classifier by increasing the number of features retained, provided we could obtain access to appropriate computational resources (machines with more RAM)."
     ]
    },
    {
     "cell_type": "markdown",
     "metadata": {},
     "source": [
      "### V.I. Predicted Ratings: K Nearest Neighbors Regression"
     ]
    },
    {
     "cell_type": "markdown",
     "metadata": {},
     "source": [
      "#### V.I.1 The Regression Baseline"
     ]
    },
    {
     "cell_type": "markdown",
     "metadata": {},
     "source": [
      "In the regression problem, the standard choice of metric for \"goodness\" of a model is the RMS error (RMSE) of the predictions relative to the truth. Note that the objective is obtain the best possible model by *minimizing* the RMSE, whereas previously we were seeking to *maximize* a classification accuracy score. In this case, the simplest possible model simply takes the mean of the training data, and guesses that value for all of the test examples. In the following cell we have evaluated this trivial baseline model and calculated its RMSE:"
     ]
    },
    {
     "cell_type": "code",
     "collapsed": false,
     "input": [
      "print 'The mean of the training scores is : ', np.mean(scores[ind_train])\n",
      "# calculate the baseline RMSE corresponding to always guessing a score equal to the mean score of the training set\n",
      "baseline_rmse = np.std(scores[ind_test]-np.mean(scores[ind_train]))\n",
      "print 'The RMSE of guessing the training data mean for every test example is', baseline_rmse"
     ],
     "language": "python",
     "metadata": {},
     "outputs": [
      {
       "output_type": "stream",
       "stream": "stdout",
       "text": [
        "The mean of the training scores is :  6.70872\n",
        "The RMSE of guessing the training data mean for every test example is 1.62154353936\n"
       ]
      }
     ],
     "prompt_number": 29
    },
    {
     "cell_type": "markdown",
     "metadata": {},
     "source": [
      "#### V.I.2 KNN with Bag of Words"
     ]
    },
    {
     "cell_type": "markdown",
     "metadata": {},
     "source": [
      "A naive form of KNN regression for predicting review scores based on review text is to continue using the bag of words model to define the features. In this implementation, each review resides in a sparsely populated, very high-dimensional space (the dimensionality is the number of words chosen as features, which is of order several thousand based on the classification analyses above). Since it is easy to continue building the feature matrix using the bag of words model, we will employ this strategy as a \"KNN regression baseline\", to see how a simplistic strategy performs. The following script `predict_scores_knn.py` performs KNN regression for various choices of the $k$, the number of neighbors:"
     ]
    },
    {
     "cell_type": "code",
     "collapsed": false,
     "input": [
      "print open('predict_scores_knn.py').read()"
     ],
     "language": "python",
     "metadata": {},
     "outputs": [
      {
       "output_type": "stream",
       "stream": "stdout",
       "text": [
        "#!/usr/bin/env python\n",
        "# written by Aaron Meisner, 12/7/2014\n",
        "\n",
        "import numpy as np\n",
        "from sklearn.neighbors import KNeighborsRegressor\n",
        "from load_reviews_scores import load_reviews_scores\n",
        "import cPickle\n",
        "from sklearn.feature_extraction.text import CountVectorizer\n",
        "\n",
        "min_df_opt = 0.001 # from Naive Bayes cross-validation\n",
        "\n",
        "# load review/score data (pass stem keyword along)\n",
        "reviews, scores = load_reviews_scores()\n",
        "\n",
        "# construct target vector\n",
        "Y = (scores >= 7)\n",
        "\n",
        "# load train/test indices\n",
        "ind_train = cPickle.load(file('data/ind_train.pkl'))\n",
        "ind_test = cPickle.load(file('data/ind_test.pkl'))\n",
        "\n",
        "# make array of candidate min_df values\n",
        "vectorizer = CountVectorizer(min_df=min_df_opt)\n",
        "vectorizer.fit(reviews)\n",
        "X = vectorizer.transform(reviews)\n",
        "\n",
        "print X.shape\n",
        "\n",
        "n_neighbors_list = [1, 2, 3, 4, 5, 10, 25, 50, 75, 100, 150, 200, \n",
        "                    250, 300, 350, 400, 450, 500, 550, 600, 650, 700, 750]\n",
        "\n",
        "rmse_values = np.zeros(len(n_neighbors_list))\n",
        "for i, n_neighbors in enumerate(n_neighbors_list):\n",
        "# all of the keyword inputs are defaults, except n_neighbors\n",
        "    knnr = KNeighborsRegressor(n_neighbors=n_neighbors_list[i], weights='uniform', \n",
        "                               algorithm='auto', leaf_size=30, p=2, metric='minkowski', \n",
        "                               metric_params=None)\n",
        "\n",
        "    knnr.fit(X[ind_train, :], scores[ind_train])\n",
        "    pred = knnr.predict(X[ind_test, :])\n",
        "    rmse_values[i] = np.std(pred-scores[ind_test])\n",
        "    print i, n_neighbors_list[i], rmse_values[i]\n",
        "\n",
        "o_rmse = open('data/knnr_rmse.pkl', 'wb')\n",
        "cPickle.dump(rmse_values, o_rmse)\n",
        "o_rmse.close()\n",
        "\n",
        "o_nneighbor = open('data/knnr_nneighbor.pkl', 'wb')\n",
        "cPickle.dump(n_neighbors_list, o_nneighbor)\n",
        "o_nneighbor.close()\n",
        "\n"
       ]
      }
     ],
     "prompt_number": 22
    },
    {
     "cell_type": "markdown",
     "metadata": {},
     "source": [
      "Note that we have tested $k$ values of [1, 2, 3, 4, 5, 10, 25, 50, 75, 100, 150, 200, 250, 300, 350, 400, 450, 500, 550, 600, 650, 700, 750], and that we have saved the test RMSE values as a function of $k$ in a file called `data/knnr_rmse.pkl`. We can\n",
      "understand the results of this analysis by plotting the RMSE values versus $k$, as shown below:"
     ]
    },
    {
     "cell_type": "code",
     "collapsed": false,
     "input": [
      "# RMSE values for KNN using bag of words features\n",
      "rmse_bw = cPickle.load(file('data/knnr_rmse.pkl'))\n",
      "k_bw = cPickle.load(file('data/knnr_nneighbor.pkl'))\n",
      "plt.plot(k_bw, rmse_bw)\n",
      "plt.plot(np.array([np.min(k_bw), np.max(k_bw)]), np.array([baseline_rmse, baseline_rmse]), c='k')\n",
      "plt.xlim((np.min(k_bw), np.max(k_bw)))\n",
      "plt.xlabel('number of neighbors')\n",
      "plt.ylabel('RMSE')\n",
      "plt.title('bag of words KNN regression')\n",
      "ax = plt.gca()\n",
      "ax.set_xscale('log')"
     ],
     "language": "python",
     "metadata": {},
     "outputs": [
      {
       "metadata": {},
       "output_type": "display_data",
       "png": "[encoded data removed]",
       "text": [
        "<matplotlib.figure.Figure at 0x1090dc610>"
       ]
      }
     ],
     "prompt_number": 77
    },
    {
     "cell_type": "markdown",
     "metadata": {},
     "source": [
      "We can see that the optimal number of neighbors for this model is $k$=7, with a corresponding RMSE of 1.567. This is not very encouraging, because it only represents a very small improvement relative to guessing the same score for every review without taking into account the review text at all (RMSE=1.622).\n",
      "\n",
      "Having demonstrated quantitatively that bag of words KNN regression isn't very effective, we can intuitively understand why. The central flaw in this methodology is that *reviews with similar scores won't necessarily be nearby each other in the bag of words feature space*. For instance \"Playing this superb game was an awesome experience\" and \"Amazing action, teriffic attention to detail\" would be two reviews expected to have similarly high scores of 9/10 or 10/10. However, in the bag of words\n",
      "feature decomposition, these two high-scoring reviews have *zero overlap* (because they don't share an of the same words). Thus, it seems clear both intuitively and empirically that using single-word features is an ineffective strategy for KNN regression."
     ]
    },
    {
     "cell_type": "markdown",
     "metadata": {},
     "source": [
      "#### V.I.3 KNN using Dimensionality Reduction"
     ]
    },
    {
     "cell_type": "markdown",
     "metadata": {},
     "source": [
      "Instead of using single words as features in KNN regression, we can attempt to find some smaller number of features which more plausibly place similarly scored reviews nearby each other in feature space. To be ambitious, we'd even like to collapse the problem down to one dimension, by finding a single feature which encapsulates the sentiment of a review. Conveniently, we have derived such a continuous scalar-valued summary of the review text sentiment as a byproduct of our Naive Bayes classification: P(positive|text), the probability that the review is positive .\n",
      "\n",
      "We can use P(positive|text) to perform KNN regression by calculating P(positive|text) for each review, finding the $k$ training set reviews with the most similar values of P(positive|text), and then taking the predicted score to be the average of the scores for the $k$ nearest neighbors in P(positive|text). I have implemented this one-dimensional KNN regression below:"
     ]
    },
    {
     "cell_type": "code",
     "collapsed": false,
     "input": [
      "probs_train = (clf_opt.predict_proba(X_opt[ind_train,:]))[:,1] # probability of review being positive\n",
      "scores_train = scores[ind_train]\n",
      "\n",
      "ind_sort_probs = np.argsort(probs_train)\n",
      "probs_train_sorted = probs_train[ind_sort_probs]\n",
      "scores_train_sorted = scores_train[ind_sort_probs]\n",
      "\n",
      "def my_knn_1d(review, probs_train_sorted, scores_train_sorted, median=False, n_neighbors=10):\n",
      "    prob_test = (clf_opt.predict_proba(vectorizer_opt.transform([review])))[0,1]\n",
      "    diff = np.abs(probs_train_sorted - prob_test)\n",
      "    sind_diff = np.argsort(diff)\n",
      "    \n",
      "    neighbor_scores = scores_train_sorted[sind_diff[0:(n_neighbors)]]\n",
      "    \n",
      "    result = (np.median(neighbor_scores) if median else np.mean(neighbor_scores))\n",
      "    return result\n",
      "\n",
      "def try_k_value(n_neighbors):\n",
      "    scores_pred_test = np.zeros(len(ind_test))\n",
      "    for i in range(len(ind_test)):\n",
      "        scores_pred_test[i] = my_knn_1d((reviews[ind_test])[i], probs_train_sorted,\n",
      "                                        scores_train_sorted, n_neighbors=n_neighbors)\n",
      "    return scores_pred_test\n",
      "\n",
      "def try_many_k(n_neighbors_list):\n",
      "    rmses = []\n",
      "    for n_neighbors_val in n_neighbors_list:\n",
      "        scores_pred_test = try_k_value(n_neighbors_val)\n",
      "        # print the RMS error\n",
      "        rmses.append(np.std(scores[ind_test]-scores_pred_test))\n",
      "    return rmses\n",
      "\n",
      "ks = np.array([1,2,3,4,5,10, 20, 40, 80, 160, 320, 360, 380, 400, 420, 440, 640, 1000, 1500, 2000, 3000])\n",
      "rmses = np.array(try_many_k(ks))"
     ],
     "language": "python",
     "metadata": {},
     "outputs": [],
     "prompt_number": 68
    },
    {
     "cell_type": "code",
     "collapsed": false,
     "input": [
      "plt.plot(ks,rmses)\n",
      "plt.xlabel('number of neighbors')\n",
      "plt.ylabel('RMSE')\n",
      "plt.title('KNN regression with dimensionality reduction')\n",
      "plt.plot(np.array([np.min(ks), np.max(ks)]), np.array([baseline_rmse, baseline_rmse]), c='k')\n",
      "plt.xlim((np.min(ks), np.max(ks)))\n",
      "ax = plt.gca()\n",
      "ax.set_xscale('log')"
     ],
     "language": "python",
     "metadata": {},
     "outputs": [
      {
       "metadata": {},
       "output_type": "display_data",
       "png": "[encoded data removed]",
       "text": [
        "<matplotlib.figure.Figure at 0x10cc0bcd0>"
       ]
      }
     ],
     "prompt_number": 78
    },
    {
     "cell_type": "code",
     "collapsed": false,
     "input": [
      "print 'The best RMSE achieved is', np.min(rmses)\n",
      "print 'The best RMSE is achieved when using k =', (ks[rmses == np.min(rmses)])[0]"
     ],
     "language": "python",
     "metadata": {},
     "outputs": [
      {
       "output_type": "stream",
       "stream": "stdout",
       "text": [
        "The best RMSE achieved is 1.29475760861\n",
        "The best RMSE is achieved when using k = 400\n"
       ]
      }
     ],
     "prompt_number": 82
    },
    {
     "cell_type": "markdown",
     "metadata": {},
     "source": [
      "The best RMSE achieved is $\\sim$1.295, which is significantly better than both the bag of words KNN regression and the constant guess baseline. Using subtraction in quadrature, the decrease of RMSE from 1.62 (baseline) to 1.295 (best one-dimensional KNN) means that we've successfully accounted for $\\sqrt{1.622^2-1.295^2}$$\\approx$1 rating point of scatter within the set of test data ratings.  "
     ]
    },
    {
     "cell_type": "markdown",
     "metadata": {},
     "source": [
      "It's also useful to try to understand the fact that the optimal $k$ value is 400. Recall that our KNN regression model is built upon the scores and P(positive|text) values for 10000 training examples. So even though using the 400 nearest neighbors in P(positive|text) sounds like using a huge number of neighbors, it actually only represents using the 4% of training examples most similar to each test sample. When viewed this way, it's clear that 400 neighbors is by no means an inordinately large value."
     ]
    },
    {
     "cell_type": "markdown",
     "metadata": {},
     "source": [
      "Lastly, it's interesting to examine the optimal ($k$=400) KNN regressor in more detail. In particular, a nice way to visualize\n",
      "the extent of the regressor's success is to make a scatter plot of predicted rating versus actual rating for the set of test reviews."
     ]
    },
    {
     "cell_type": "code",
     "collapsed": false,
     "input": [
      "scores_pred_test = try_k_value(400)\n",
      "plt.scatter(scores[ind_test], scores_pred_test,edgecolor='none', s=2)\n",
      "plt.plot(np.array([0,10]), np.array([0,10]), c='r')\n",
      "plt.xlim((0,10))\n",
      "plt.ylim((4,9))\n",
      "plt.xlabel('true test example rating')\n",
      "plt.ylabel('k=400 KNN regression predicted rating')"
     ],
     "language": "python",
     "metadata": {},
     "outputs": [
      {
       "metadata": {},
       "output_type": "pyout",
       "prompt_number": 93,
       "text": [
        "<matplotlib.text.Text at 0x1102cd110>"
       ]
      },
      {
       "metadata": {},
       "output_type": "display_data",
       "png": "[encoded data removed]",
       "text": [
        "<matplotlib.figure.Figure at 0x10a72f1d0>"
       ]
      }
     ],
     "prompt_number": 93
    },
    {
     "cell_type": "markdown",
     "metadata": {},
     "source": [
      "For a perfect KNN regressor, this plot would show the points lining up exactly along the line Y=X (shown in red in the plot above). Clearly, our regressor does not meet this standard of perfection. Hover there certainly appears to be a clear correlation between the predicted and true ratings, as shown by the blue data points. Thus, we have achieved a degree of success in predicting numerical ratings based on review text."
     ]
    },
    {
     "cell_type": "markdown",
     "metadata": {},
     "source": [
      "### V.J. Cleaning Features with Regular Expressions"
     ]
    },
    {
     "cell_type": "markdown",
     "metadata": {},
     "source": [
      "Even in our optimized Naive Bayes classifier, we have been fairly cavalier about the features that are allowed to factor into our model. This is becuase we only filtered features using a single very weak constraint on the frequency with which a word must appear in the corpus. But, as we will see below, there are still dozens of features in our optimized model which realistically don't make sense to use in predicting text sentiment.\n",
      "\n",
      "One main deficiency in our filtering of features is that we never enforced that the words included in our \"bag of words\" should contain only alphabetical characters. As a result, our bag of words model includes features like \"2002\" and \"2k14\", which appear several times within the corpus, but could be damaging our Naive Bayes model moreso than helping to accurately classify text sentiment.\n",
      "\n",
      "We have therefore investigated filtering the bag of words features using regular expressions. This is achieved via the keyword\n",
      "argument `token_pattern` which is passed to the sci-kit learn `CountVectorizer`. By default, `CountVectorizer` requires features to contain at least two characters. To additionally filter in such a way as to only allow words composed entirely of alphabetical characters, we have set `token_pattern=ur'\\b[a-zA-Z][a-zA-Z]+\\b'`. In brief, this regular expression restricts to\n",
      "features to tokens which are only alphabetical characters (either upper or lower case, hence the `[a-zA-Z]`) and which have\n",
      "at least two alphabetical (hence why `[a-zA-Z]` is repeated twice in the pattern matching string).\n",
      "\n",
      "The following code constructs a new feature matrix $X_{regexp}$ based on tokenizing the corpus using this regular expression filter. The code also prints out the list of features which were included in our optimized Naive Bayes classifier of section 7 but have now been removed by the regexp filtering:"
     ]
    },
    {
     "cell_type": "code",
     "collapsed": false,
     "input": [
      "vectorizer_regexp = CountVectorizer(min_df=0.00013, token_pattern=ur'\\b[a-zA-Z][a-zA-Z]+\\b')\n",
      "vectorizer_regexp.fit(reviews)\n",
      "X_regexp = vectorizer_regexp.transform(reviews)\n",
      "words_no_regexp = set(vectorizer_opt.get_feature_names())\n",
      "words_regexp = set(vectorizer_regexp.get_feature_names())\n",
      "print \"FEATURES REMOVED BY REGEXP FILTERING\"\n",
      "print '*'*80\n",
      "words_removed = words_no_regexp.difference(words_regexp)\n",
      "for w in words_removed: print w + ' | ',"
     ],
     "language": "python",
     "metadata": {},
     "outputs": [
      {
       "output_type": "stream",
       "stream": "stdout",
       "text": [
        "FEATURES REMOVED BY REGEXP FILTERING\n",
        "********************************************************************************\n",
        "d\u00e9j\u00e0 |  pi\u00f1ata |  133 |  x3 |  ps2 |  ps3 |  5500 |  24 |  25 |  21st |  20 |  21 |  22 |  1942 |  2150 |  graw2 |  400 |  2015 |  2033 |  2017 |  2011 |  2010 |  2013 |  2012 |  1993 |  121 |  f355 |  dkc2 |  15 |  1997 |  16 |  51 |  50 |  2d |  2142 |  2k |  2k5 |  2k6 |  989 |  2k1 |  2k2 |  2k3 |  2k8 |  2k9 |  039 |  7th |  80 |  4x4 |  90s |  06 |  07 |  04 |  08 |  09 |  19th |  360 |  3d |  n64 |  2600 |  300 |  100 |  101 |  v8so |  2100 |  vx8000 |  sk8land |  32 |  30 |  35 |  2049 |  v4 |  514 |  30th |  3ds |  clich\u00e9d |  2nd |  60 |  2k7 |  64 |  3000 |  66 |  clich\u00e9s |  1987 |  2k14 |  2k15 |  2k12 |  2k13 |  2k10 |  2k11 |  1080 |  1989 |  m1 |  99 |  98 |  x8 |  2014 |  x2 |  90 |  95 |  97 |  96 |  11 |  10 |  13 |  12 |  1995 |  14 |  17 |  1996 |  19 |  18 |  10th |  2night |  151 |  f1 |  1980s |  1981 |  fury3 |  re4 |  233 |  40 |  ex2 |  80s |  sk8er |  200 |  145 |  76 |  v2 |  000 |  007 |  2009 |  3rd |  4x |  pok\u00e9mon |  2084 |  2002 |  2003 |  2000 |  2001 |  2006 |  2007 |  2004 |  2005 |  2008 |  800 | \n"
       ]
      }
     ],
     "prompt_number": 96
    },
    {
     "cell_type": "markdown",
     "metadata": {},
     "source": [
      "With these features removed, we want to see to what extent the Naive Bayes classifier with optimal (`min_df`, `alpha`) improves in test accuracy. Below I have printed out the train and test accuracy for such Naive Bayes classifiers, both with and without regexp filtering:"
     ]
    },
    {
     "cell_type": "code",
     "collapsed": false,
     "input": [
      "clf_regexp = MultinomialNB(alpha=1.7).fit(X_regexp[ind_train,:], Y[ind_train])\n",
      "\n",
      "print '*'*80\n",
      "print 'NO REGEXP FILTERING'\n",
      "print \"Training set accuracy: %0.2f%%\" % (100 * clf_opt.score(X_opt[ind_train,:], Y[ind_train]))\n",
      "print \"Test set accuracy: %0.2f%%\" % (100 * clf_opt.score(X_opt[ind_test,:], Y[ind_test]))\n",
      "\n",
      "print '*'*80\n",
      "print 'WITH REGEXP FILTERING'\n",
      "print \"Training set accuracy: %0.2f%%\" % (100 * clf_regexp.score(X_regexp[ind_train,:], Y[ind_train]))\n",
      "print \"Test set accuracy: %0.2f%%\" % (100 * clf_regexp.score(X_regexp[ind_test,:], Y[ind_test]))"
     ],
     "language": "python",
     "metadata": {},
     "outputs": [
      {
       "output_type": "stream",
       "stream": "stdout",
       "text": [
        "********************************************************************************\n",
        "NO REGEXP FILTERING\n",
        "Training set accuracy: 86.13%\n",
        "Test set accuracy: 75.93%\n",
        "********************************************************************************\n",
        "WITH REGEXP FILTERING\n",
        "Training set accuracy: 85.94%"
       ]
      },
      {
       "output_type": "stream",
       "stream": "stdout",
       "text": [
        "\n",
        "Test set accuracy: 75.98%\n"
       ]
      }
     ],
     "prompt_number": 97
    },
    {
     "cell_type": "markdown",
     "metadata": {},
     "source": [
      "We can see that the test accuracy score does not change in a significant way -- it increases by only 0.05%. This validates our cavalier attitude towards cleaning the features in section 7. The Naive Bayes classification scheme is sufficiently robust to not be confused by a few spurious features."
     ]
    },
    {
     "cell_type": "markdown",
     "metadata": {},
     "source": [
      "### V.K. Merging Features with Stemming"
     ]
    },
    {
     "cell_type": "markdown",
     "metadata": {},
     "source": [
      "Another potential deficiency of our Naive Bayes treatment from section 7 is that we have made no attempt to merge words with the same root, which typically convey similar sentiment, into single features. For example, treating \"awesome\" and \"awesomeness\" as a single feature might allow us to reduce the number of distinct features in our model, achieve a denser feature matrix, and end up with a more accurate model. \n",
      "\n",
      "\n",
      "In [natural language processing](http://en.wikipedia.org/wiki/Natural_language_processing), the feature merging we are describing is referred to as [\"stemming\"](http://en.wikipedia.org/wiki/Stemming). To address this, we have included a keyword option `stem` in the routine which loads the JSON scraped from GameSpot into an array of review text summaries. When we set `stem=True`, every token of every review is stemmed upon loading. Below we show the loading of stemmed reviews and print a few illustrative examples. Note also that we have applied the regexp filtering before stemming."
     ]
    },
    {
     "cell_type": "code",
     "collapsed": false,
     "input": [
      "reviews_stemmed, scores = load_reviews_scores(stem=True)"
     ],
     "language": "python",
     "metadata": {},
     "outputs": [],
     "prompt_number": 98
    },
    {
     "cell_type": "code",
     "collapsed": false,
     "input": [
      "print '[NOT STEMMED]', reviews[6]\n",
      "print '[STEMMED]    ', reviews_stemmed[6]\n",
      "print '*'*80\n",
      "\n",
      "print '[NOT STEMMED]', reviews[7]\n",
      "print '[STEMMED]    ', reviews_stemmed[7]\n",
      "print '*'*80\n",
      "\n",
      "print '[NOT STEMMED]', reviews[15]\n",
      "print '[STEMMED]    ', reviews_stemmed[15]\n",
      "print '*'*80"
     ],
     "language": "python",
     "metadata": {},
     "outputs": [
      {
       "output_type": "stream",
       "stream": "stdout",
       "text": [
        "[NOT STEMMED]  101 simulates the chaos of an airborne drop very well, and the level of detail is tremendous.\n",
        "[STEMMED]      simul the chao of an airborn drop veri well and the level of detail is tremend\n",
        "********************************************************************************\n",
        "[NOT STEMMED]  1080 Avalanche delivers a sometimes thrilling sensation of speed and features a number of nice touches not found in other snowboarding games, but it has very limited lasting value.\n",
        "[STEMMED]      Avalanch deliv sometim thrill sensat of speed and featur number of nice touch not found in other snowboard game but it ha veri limit last valu\n",
        "********************************************************************************\n",
        "[NOT STEMMED]  187 Ride or Die is a fairly standard car combat game with extremely repetitive gameplay and a hip-hop theme that feels about as fake and forced as it possibly could.\n",
        "[STEMMED]      Ride or Die is fairli standard car combat game with extrem repetit gameplay and hip hop theme that feel about as fake and forc as it possibl could\n",
        "********************************************************************************\n"
       ]
      }
     ],
     "prompt_number": 142
    },
    {
     "cell_type": "markdown",
     "metadata": {},
     "source": [
      "With stemmed reviews in hand, we compare the Naive Bayes classification accuracy when including this stemming and regexp to the accuracy of section 7 (neither stemming nor regexp filtering), to see if an increased accuracy is achieved via stemming."
     ]
    },
    {
     "cell_type": "code",
     "collapsed": false,
     "input": [
      "vectorizer_stemmed = CountVectorizer(min_df=0.00013)\n",
      "vectorizer_stemmed.fit(reviews_stemmed)\n",
      "X_stemmed = vectorizer_stemmed.transform(reviews_stemmed)"
     ],
     "language": "python",
     "metadata": {},
     "outputs": [],
     "prompt_number": 143
    },
    {
     "cell_type": "code",
     "collapsed": false,
     "input": [
      "print X_stemmed.shape\n",
      "print X_opt.shape"
     ],
     "language": "python",
     "metadata": {},
     "outputs": [
      {
       "output_type": "stream",
       "stream": "stdout",
       "text": [
        "(11803, 5789)\n",
        "(11803, 7764)\n"
       ]
      }
     ],
     "prompt_number": 144
    },
    {
     "cell_type": "markdown",
     "metadata": {},
     "source": [
      "The above cell illustrates that, although `dfmin` has been fixed to its optimal value from section 7, there are now 5789 features in our model, as opposed to 7764 without any stemming or regexp filtering. This is largely the point of stemming: to avoid having redundant features and use a model with the smallest possible number of features. The following cell prints out the train and test accuracies of our Naive Bayes classifier with stemming and regexp filtering:"
     ]
    },
    {
     "cell_type": "code",
     "collapsed": false,
     "input": [
      "clf_stemmed = MultinomialNB(alpha=1.7).fit(X_stemmed[ind_train,:], Y[ind_train])\n",
      "print 'WITH FEATURE STEMMING'\n",
      "print \"Training set accuracy: %0.2f%%\" % (100 * clf_stemmed.score(X_stemmed[ind_train,:], Y[ind_train]))\n",
      "print \"Test set accuracy: %0.2f%%\" % (100 * clf_stemmed.score(X_stemmed[ind_test,:], Y[ind_test]))"
     ],
     "language": "python",
     "metadata": {},
     "outputs": [
      {
       "output_type": "stream",
       "stream": "stdout",
       "text": [
        "WITH FEATURE STEMMING\n",
        "Training set accuracy: 84.25%\n",
        "Test set accuracy: 76.26%\n"
       ]
      }
     ],
     "prompt_number": 66
    },
    {
     "cell_type": "markdown",
     "metadata": {},
     "source": [
      "Evidently the test accuracy score goes up by only $\\sim$0.3% when using stemming and regexp filtering relative to the case of using neither as in section 7. On one hand this seems disappointing, but on the other hand it justifies our simplistic approach in section 7."
     ]
    },
    {
     "cell_type": "markdown",
     "metadata": {},
     "source": [
      "### V.L. Visualizing the Classification Results"
     ]
    },
    {
     "cell_type": "markdown",
     "metadata": {},
     "source": [
      "In this section, we seek to create an informative visual depiction of our Naive Bayes review classification based on the bag of words technique. To do so, we will create a per-review bar chart, with one bar for each word in the review. Each bar will be of fixed total length and be split into blue and red segments. The length of the blue segment will be P(positive|word) while the red segment will be P(negative|word). Thus, a word with a mostly blue bar is interpreted by the classifier as having positive sentiment while a word with a mostly red bar is seen as having negative sentiment. Showing all of these red/blue bars in the order in which the corresponding words in the sentence appear can help us to understand which words in the sentence are causing to the classifier to return its overall probability P(positive|review text). In these plots, we have also drawn a dotted white line to represent P(postitive|review text), to see where the overall sentiment lies relative to the per-word sentiments. The code cells below implement this custom Naive Bayes visualization, and show this visualization for one toy example consisting of a fake review summary, as well as three actual reviews from the GameSpot data set."
     ]
    },
    {
     "cell_type": "code",
     "collapsed": false,
     "input": [
      "words_opt = np.array(vectorizer_opt.get_feature_names())\n",
      "x_1word = np.eye(X_opt.shape[1])\n",
      "probs_1word = clf_opt.predict_proba(x)[:, 1]\n",
      "# get the tokenizer\n",
      "tokenizer_opt = vectorizer_opt.build_tokenizer()\n",
      "\n",
      "def text2problist(text):\n",
      "    \"\"\"Transform a string of text to an appropriate ordered array of P(good|word)\"\"\"\n",
      "    probs_list = []\n",
      "    # tokenize\n",
      "    words = tokenizer_opt(text)\n",
      "    # for each token do a fit_transform\n",
      "    for word in words:\n",
      "    # figure out which index is nonzero\n",
      "        w = np.where((words_opt == word))\n",
      "        if len(w[0])==0:\n",
      "            probs_list.append(0.5)\n",
      "        else:\n",
      "            probs_list.append(probs_1word[w[0][0]])\n",
      "    return probs_list, words"
     ],
     "language": "python",
     "metadata": {},
     "outputs": []
    },
    {
     "cell_type": "code",
     "collapsed": false,
     "input": [
      "def sentiment_barplot(text, classify=False):\n",
      "    \"\"\" Make a custom barplot illustrating the sentiment of each word in a review summary. \"\"\"\n",
      "    ppp, www = text2problist(text)\n",
      "    plt.figure(figsize=(6, 0.5*len(www)))\n",
      "    plt.barh(np.arange(len(ppp)), np.zeros(len(ppp))+1, color='r')\n",
      "    plt.barh(np.arange(len(ppp)), ppp[::-1])\n",
      "    plt.yticks(np.arange(len(ppp))+0.5)\n",
      "\n",
      "    ax = plt.gca()\n",
      "    labels = [item.get_text() for item in ax.get_yticklabels()]\n",
      "    for i in range(len(labels)):\n",
      "        labels[i] = www[len(www)-i-1]\n",
      "\n",
      "    ax.set_yticklabels(labels, fontsize=16)\n",
      "    plt.xlabel('blue=P(positive|word), red=P(negative|word)', fontsize=14)\n",
      "    if classify:\n",
      "        ppositive = (clf_opt.predict_proba(vectorizer_opt.transform([text])))[0][1]\n",
      "        plt.title('P(positive|text) = ' + str(round(ppositive,2)))\n",
      "        plt.plot(np.array([ppositive, ppositive]), np.array([0, len(www)]), c='w', linestyle=':', linewidth=3)\n",
      "\n",
      "# try a fake toy example of a very short, positive review\n",
      "sentiment_barplot('this game is superb', classify=True)"
     ],
     "language": "python",
     "metadata": {},
     "outputs": [
      {
       "metadata": {},
       "output_type": "display_data",
       "png": "[encoded data removed]",
       "text": [
        "<matplotlib.figure.Figure at 0x1665c5e90>"
       ]
      }
     ],
     "prompt_number": 352
    },
    {
     "cell_type": "code",
     "collapsed": false,
     "input": [
      "sentiment_barplot(reviews[8], classify=True)"
     ],
     "language": "python",
     "metadata": {},
     "outputs": [
      {
       "metadata": {},
       "output_type": "display_data",
       "png": "[encoded data removed]",
       "text": [
        "<matplotlib.figure.Figure at 0x10ecb04d0>"
       ]
      }
     ],
     "prompt_number": 262
    },
    {
     "cell_type": "code",
     "collapsed": false,
     "input": [
      "sentiment_barplot(reviews[29], classify=True)"
     ],
     "language": "python",
     "metadata": {},
     "outputs": [
      {
       "metadata": {},
       "output_type": "display_data",
       "png": "[encoded data removed]",
       "text": [
        "<matplotlib.figure.Figure at 0x10e07cc10>"
       ]
      }
     ],
     "prompt_number": 263
    },
    {
     "cell_type": "code",
     "collapsed": false,
     "input": [
      "sentiment_barplot(reviews[42], classify=True)"
     ],
     "language": "python",
     "metadata": {},
     "outputs": [
      {
       "metadata": {},
       "output_type": "display_data",
       "png": "[encoded data removed]",
       "text": [
        "<matplotlib.figure.Figure at 0x10bca4090>"
       ]
      }
     ],
     "prompt_number": 267
    },
    {
     "cell_type": "markdown",
     "metadata": {},
     "source": [
      "### V.M. Full-Circle: Classifying Giant Bomb Reviews"
     ]
    },
    {
     "cell_type": "markdown",
     "metadata": {},
     "source": [
      "As discussed in the introduction, our GameSpot review classification is a small step towards the bigger-picture goal of using machine learning to understand any arbitrary video game related text found on the internet. Here we take an important first step towards that goal, by demonstrating that the optimized Naive Bayes classifier trained on GameSpot reviews performs very  well when applied to a data set of completely different origin, namely reviews from Giant Bomb. First, we load the $\\sim$650 gamespot reviews and scores:"
     ]
    },
    {
     "cell_type": "code",
     "collapsed": false,
     "input": [
      "def load_gb_reviews():\n",
      "    \"\"\"Helper routine to read in the files written while querying the GiantBomb API\"\"\"\n",
      "    flist = os.listdir('data/gb_review_text')\n",
      "    gb_reviews = []\n",
      "    gb_scores = []\n",
      "    for f in flist:\n",
      "        jf = json.load(open(os.path.join('data/gb_review_text', f)))\n",
      "        for result in jf['results']:\n",
      "            gb_reviews.append(result['deck'])\n",
      "            gb_scores.append(float(result['score']))\n",
      "    return np.array(gb_reviews), np.array(gb_scores)"
     ],
     "language": "python",
     "metadata": {},
     "outputs": [],
     "prompt_number": 305
    },
    {
     "cell_type": "code",
     "collapsed": false,
     "input": [
      "# invoke the helper routine to get all of the reviews and scores available from GiantBomb\n",
      "gb_reviews, gb_scores = load_gb_reviews()"
     ],
     "language": "python",
     "metadata": {},
     "outputs": [],
     "prompt_number": 306
    },
    {
     "cell_type": "markdown",
     "metadata": {},
     "source": [
      "We can see that there are 646 review summaries and corresponding scores in this Giant Bomb data set."
     ]
    },
    {
     "cell_type": "code",
     "collapsed": false,
     "input": [
      "len(gb_reviews), len(gb_scores)"
     ],
     "language": "python",
     "metadata": {},
     "outputs": [
      {
       "metadata": {},
       "output_type": "pyout",
       "prompt_number": 293,
       "text": [
        "(646, 646)"
       ]
      }
     ],
     "prompt_number": 293
    },
    {
     "cell_type": "markdown",
     "metadata": {},
     "source": [
      "We can print an example Giant Bomb review summary and its corresponding score to give a sense for the nature of the relevant Giant Bomb data. Recall from the exploratory analysis that Giant Bomb ratings are on a 1-5 scale rather than a 1-10 scale."
     ]
    },
    {
     "cell_type": "code",
     "collapsed": false,
     "input": [
      "print gb_reviews[0] + '' + ' | SCORE =' + str(int(gb_scores[0]))"
     ],
     "language": "python",
     "metadata": {},
     "outputs": [
      {
       "output_type": "stream",
       "stream": "stdout",
       "text": [
        "Adding an online video repository and an online store full of songs takes SingStar to exciting new heights. | SCORE =4\n"
       ]
      }
     ],
     "prompt_number": 295
    },
    {
     "cell_type": "markdown",
     "metadata": {},
     "source": [
      "In analogy to the the GameSpot review methodology, we take GiantBomb scores greater than 3.5 to be \"positive\" and less than or equal to 3.5 to be \"negative\". Conveniently, this results in almost the same degree of balance between positive and negative reviews for both the GameSpot and GiantBomb data sets. This makes possible a fair comparison between the classification accuracies for these two data sets -- if one data set were significantly more unbalanced, we'd need to take additional steps to account for this. We show below that, under our definition of a \"positive\" review, Giant Bomb reviews are 56% positive."
     ]
    },
    {
     "cell_type": "code",
     "collapsed": false,
     "input": [
      "print \"The fraction of Giant Bomb reviews which we have labeled positive is\", np.sum(gb_scores > 3.5)/float(len(gb_scores))"
     ],
     "language": "python",
     "metadata": {},
     "outputs": [
      {
       "output_type": "stream",
       "stream": "stdout",
       "text": [
        "The fraction of Giant Bomb reviews which we have labeled positive is 0.560371517028\n"
       ]
      }
     ],
     "prompt_number": 349
    },
    {
     "cell_type": "markdown",
     "metadata": {},
     "source": [
      "Now we perform Naive Bayes classification on the Giant Bomb reviews, using the optimized classifier trained on the GameSpot reviews:"
     ]
    },
    {
     "cell_type": "code",
     "collapsed": false,
     "input": [
      "X_gb = vectorizer_opt.transform(gb_reviews)\n",
      "Y_gb = (gb_scores > 3.5).astype(int)\n",
      "print 'The accuracy of the optimized classifier trained on GameSpot data, when applied to GiantBomb data is', \\\n",
      "       clf_opt.score(X_gb, Y_gb)"
     ],
     "language": "python",
     "metadata": {},
     "outputs": [
      {
       "output_type": "stream",
       "stream": "stdout",
       "text": [
        "The accuracy of the optimized classifier trained on GameSpot data, when applied to GiantBomb data is 0.752321981424\n"
       ]
      }
     ],
     "prompt_number": 350
    },
    {
     "cell_type": "markdown",
     "metadata": {},
     "source": [
      "We can see above that the classifier is still $\\sim$75.2% accurate when applied to the GiantBomb reviews, even though the classifier was trained on data from a completely different source. This is only $\\sim$0.7% less accurate than the classifier was when predicting GameSpot sentiment. That is really amazing! This also hints at the feasibility of the big-picture goal discussed in the introduction of training machine learning tools to handle *any* arbitrary video-game related text found on the internet."
     ]
    },
    {
     "cell_type": "markdown",
     "metadata": {},
     "source": [
      "## VI. Conclusions"
     ]
    },
    {
     "cell_type": "markdown",
     "metadata": {},
     "source": [
      "In this study, we have applied exploratory analysis and machine learning techniques to online video game reviews culled from the\n",
      "Giant Bomb and GameSpot websites. To gather the data we used the Giant Bomb API and wrote a custom web scraper to extract review information\n",
      "directly from GameSpot HTML source. In total we analyzed more than 40000 video game reviews, from both professional critics and anonymous \n",
      "users.\n",
      "\n",
      "We gained valuable insights about these particular data sets and the video game industry as a whole via our initial exploratory analysis of the reviews\n",
      "and associated metadata. In one highlight, we found that user review scores correlated well with the scores given by professional critics. This \n",
      "is an encouraging sign in the context of our broader goal of generalizing the analysis we've present to arbitrary to video game related text found on the \n",
      "internet. We also found that, even without recourse to sophisticated machine learning techniques, the data gathered were sufficient to identify\n",
      "\"low-hanging fruit\" for future game developers -- that is, we found game genres which are highly sought after by users, yet have an underabundance of titles\n",
      "and poor user reviews. This is an example of a way in which data science can provide actionable insights to the gaming industry.\n",
      "\n",
      "In our final analysis, we applied a variety of machine learning techniques to the problem of analyzing review sentiment. We used Naive Bayes classification\n",
      "to predict whether a review conveyed positive or negative sentiment, and found $\\sim$76% accuracy after optimizing our classifier. We further \n",
      "applied random forest classification to the same problem, finding $\\sim$73% accuracy. These findings are very comparable to those of the Bayesian Tomatoes\n",
      "movie review analysis, which found Naive Bayes classification accuracies of $\\sim$74-77%. We further extended beyond the Bayesian Tomatoes study by building \n",
      "regression models to predict the numerical score corresponding to a review based on its text. We achieve an RMSE of $<1.3$, with reviews rated on a 1-10 scale.\n",
      "\n",
      "Lastly, we applied our optimized Naive Bayes classifier, trained on GameSpot reviews, to predict the sentiment of reviews from the Giant Bomb data set. Remarkably,\n",
      "the classifier still achieved $>$75% accuracy when applied to a completely different game review data set than that used to train the model. Thus, this study\n",
      "represents a good first step in the goal of applying machine learning and data science techniques to arbitrary video game related online content in order\n",
      "to gain insights about consumer opinion and future development endeavors."
     ]
    }
   ],
   "metadata": {}
  }
 ]
}