{
 "metadata": {
  "name": "",
  "signature": "sha256:e0dcd19be81dd9cb03547898bde1fe980be969d6ac9e46a8897c631a972e282e"
 },
 "nbformat": 3,
 "nbformat_minor": 0,
 "worksheets": [
  {
   "cells": [
    {
     "cell_type": "markdown",
     "metadata": {},
     "source": [
      "# Classification Process Book"
     ]
    },
    {
     "cell_type": "code",
     "collapsed": false,
     "input": [
      "import numpy as np\n",
      "from scipy.stats import scoreatpercentile\n",
      "from sklearn.feature_extraction.text import CountVectorizer\n",
      "from sklearn.cross_validation import train_test_split\n",
      "from sklearn.naive_bayes import MultinomialNB\n",
      "import sklearn.grid_search\n",
      "from sklearn.ensemble import RandomForestClassifier\n",
      "import cPickle\n",
      "import json\n",
      "import os\n",
      "import matplotlib.pyplot as plt\n",
      "%matplotlib inline"
     ],
     "language": "python",
     "metadata": {},
     "outputs": [],
     "prompt_number": 282
    },
    {
     "cell_type": "markdown",
     "metadata": {},
     "source": [
      "#1. The Problem\n",
      "\n",
      "We wish to perform text classification and regression on GameSpot video game reviews. The classification will take the form of labeling each review as either \"positive\" or \"negative\" based on its numerical score and training/optimizing various classifiers to predict \"positive\" versus \"negative\" sentiment based on review text. This classification goal was inspired by the application of Naive Bayes classification to Rotten Tomatoes movie reviews (\"fresh\" versus \"rotten\") in the Bayesian Tomatoes exercise from AC209 Fall 2013. Here we extend this prior work in several ways:\n",
      "1. We apply Naive Bayes classification to video game reviews from GameSpot rather than movie reviews from Rotten Tomatoes.\n",
      "2. We apply random forest classification and compare its results to those of Naive Bayes classification.\n",
      "3. We attempt to predict numerical review scores using k nearest neighbors regression.\n",
      "4. We apply feature-cleaning techniques such as regular expressions and stemming to the video game review corpus."
     ]
    },
    {
     "cell_type": "markdown",
     "metadata": {},
     "source": [
      "#2. Preliminaries"
     ]
    },
    {
     "cell_type": "markdown",
     "metadata": {},
     "source": [
      "The first step to running any text analysis on the reviews is to load them into numpy arrays from the JSON file we constructed while scraping.\n",
      "To do this, we have written a Python utility script called `load_reviews_scores.py`. This script offers the option of either stemming or not stemming the words in the reviews as an additional preprocessing step, via the `stem` keyword in the `load_reviews_scores` function. The following code cell prints the contents of this file:"
     ]
    },
    {
     "cell_type": "code",
     "collapsed": false,
     "input": [
      "print open('load_reviews_scores.py').read()"
     ],
     "language": "python",
     "metadata": {},
     "outputs": [
      {
       "output_type": "stream",
       "stream": "stdout",
       "text": [
        "# written by Aaron Meisner, 12/4/2014\n",
        "\n",
        "import json\n",
        "import numpy as np\n",
        "from nltk.tokenize import RegexpTokenizer\n",
        "from nltk.stem.porter import PorterStemmer\n",
        "\n",
        "def remove_empty_reviews(rev_list, scores):\n",
        "    l = np.array([len(r.replace(' ', '')) for r in rev_list])\n",
        "\n",
        "    return rev_list[l > 0], scores[l > 0]\n",
        "\n",
        "def load_reviews_scores(stem=False):\n",
        "    f = open('data/gamespot.json')\n",
        "    data = json.load(f)\n",
        "\n",
        "    rev_list = np.array([g['summary'] for g in data])\n",
        "    scores = np.array([g['score'] for g in data]).astype(float)\n",
        "\n",
        "    rev_list, scores = remove_empty_reviews(rev_list, scores)\n",
        "\n",
        "    u, ind_u = np.unique(rev_list, return_index=True)\n",
        "    rev_list = rev_list[ind_u]\n",
        "    scores = scores[ind_u]\n",
        "\n",
        "    if stem:\n",
        "        stemmer = PorterStemmer()\n",
        "        rev_list_stemmed = []\n",
        "        tokenizer = RegexpTokenizer(ur'\\b[a-zA-Z][a-zA-Z]+\\b')\n",
        "\n",
        "        for rev in rev_list:\n",
        "            tokens = tokenizer.tokenize(rev)\n",
        "            stemmed = \"\"\n",
        "            for token in tokens:\n",
        "                stemmed = stemmed + \" \" + stemmer.stem(token)\n",
        "            rev_list_stemmed.append(stemmed)\n",
        "        return rev_list_stemmed, scores\n",
        "    else:\n",
        "        return rev_list, scores\n",
        "\n"
       ]
      }
     ],
     "prompt_number": 36
    },
    {
     "cell_type": "markdown",
     "metadata": {},
     "source": [
      "##3. The Baseline"
     ]
    },
    {
     "cell_type": "markdown",
     "metadata": {},
     "source": [
      "In any machine learning task, especially classification, it is extremely important to establish a baseline accuracy for the *simplest possible model*. In our case, the simplest possible model corresponds to guessing that all reviews are positive or all reviews are negative, without any examination of the review text. If we do not choose our threshold for \"positive\" versus \"negative\" reviews carefully, we will end up with an unbalanced set of examples for which it is difficult to interpret accuracy scores. For example, in the classic fraud detection problem, 99.99% of examples could be non-fraudulent, and therefore a trivial solution can produce 99.99% nominal accuracy, depending on the accuracy metric used. In order to avoid the subtleties introduced by unbalanced examples, we will choose the boundary between \"positive\" and \"negative\" reviews which makes the examples maximally balanced. Below is code showing how we choose the boundary between positive and negative reviews."
     ]
    },
    {
     "cell_type": "code",
     "collapsed": false,
     "input": [
      "from load_reviews_scores import load_reviews_scores\n",
      "reviews, scores = load_reviews_scores()"
     ],
     "language": "python",
     "metadata": {},
     "outputs": [],
     "prompt_number": 37
    },
    {
     "cell_type": "code",
     "collapsed": false,
     "input": [
      "print 'The median review score is ', scoreatpercentile(scores, 50)\n",
      "print 'The fraction of reviews that have score greater than or equal to 7 is', float(np.sum(scores >=  7))/len(scores)\n",
      "print 'The fraction of reviews that have score greater than 7 is', float(np.sum(scores > 7))/len(scores)"
     ],
     "language": "python",
     "metadata": {},
     "outputs": [
      {
       "output_type": "stream",
       "stream": "stdout",
       "text": [
        "The median review score is  7.0\n",
        "The fraction of reviews that have score greater than or equal to 7 is 0.535880708295\n",
        "The fraction of reviews that have score greater than 7 is 0.461747013471\n"
       ]
      }
     ],
     "prompt_number": 38
    },
    {
     "cell_type": "markdown",
     "metadata": {},
     "source": [
      "The above printouts show that we can get closest to an even split of the data by labeling \"positive\" reviews as those with score greater than\n",
      "or equal to seven, and \"negative\" reviews as those with score less than seven. With this choice of threshold, a trivial solution can achieve accuracy of 53.6% at best, by guessing that every review is positive."
     ]
    },
    {
     "cell_type": "markdown",
     "metadata": {},
     "source": [
      "##4. Train/Test Split"
     ]
    },
    {
     "cell_type": "markdown",
     "metadata": {},
     "source": [
      "In the Bayesian Tomatoes exercise, 3000 reviews were collected in total. Here, we have nearly 12000 reviews. Thus, we have plenty of data and can choose a substantial number of reviews to be set aside completely as test examples, which are not used at any point during training or cross-validation."
     ]
    },
    {
     "cell_type": "code",
     "collapsed": false,
     "input": [
      "print 'The total number of GameSpot reviews that we have is', len(reviews)"
     ],
     "language": "python",
     "metadata": {},
     "outputs": [
      {
       "output_type": "stream",
       "stream": "stdout",
       "text": [
        "The total number of GameSpot reviews that we have is 11803\n"
       ]
      }
     ],
     "prompt_number": 39
    },
    {
     "cell_type": "markdown",
     "metadata": {},
     "source": [
      "Throughout our machine learning work, we will set aside aside 1803 of our examples as a test set, leaving 10000 examples on which to train and cross-validate our classification/regression models."
     ]
    },
    {
     "cell_type": "markdown",
     "metadata": {},
     "source": [
      "In order to perform our train/test split, we need to set up our feature matrix $X$ and target vector $Y$. As in Bayesian Tomatoes, we take features to be individual words by using the [bag of words](http://en.wikipedia.org/wiki/Bag-of-words_model) technique. It is extremely important to keep in mind that this bag of words model considers a block of text to be a random accumulation of various words, and that this model makes no attempt whatsoever to account for the order/grammatical structure in which these words are arranged. This is obviously a gigantic oversimplification, but it makes the problem at hand much more computationally tractable; to whatever extent higher-order groupings of words are taken as features, the classification becomes combinatorically more computationally demanding. In the following cell we set up the feature matrix $X$ using the bag of words model:"
     ]
    },
    {
     "cell_type": "code",
     "collapsed": false,
     "input": [
      "vectorizer = CountVectorizer()\n",
      "vectorizer.fit(reviews)\n",
      "X = vectorizer.transform(reviews)"
     ],
     "language": "python",
     "metadata": {},
     "outputs": [],
     "prompt_number": 40
    },
    {
     "cell_type": "markdown",
     "metadata": {},
     "source": [
      "Per the discussion above, the target vector $Y$ will simply be a vector of 1's and 0's and is easy to calculate. We will choose the labels such that 1 corresponds to a \"positive\" review, and \"0\" corresponds to a \"negative review\""
     ]
    },
    {
     "cell_type": "code",
     "collapsed": false,
     "input": [
      "Y = (scores >= 7).astype(int)"
     ],
     "language": "python",
     "metadata": {},
     "outputs": [],
     "prompt_number": 41
    },
    {
     "cell_type": "markdown",
     "metadata": {},
     "source": [
      "We can check that X and Y have compatible dimensions:"
     ]
    },
    {
     "cell_type": "code",
     "collapsed": false,
     "input": [
      "print X.shape\n",
      "print Y.shape"
     ],
     "language": "python",
     "metadata": {},
     "outputs": [
      {
       "output_type": "stream",
       "stream": "stdout",
       "text": [
        "(11803, 13631)\n",
        "(11803,)\n"
       ]
      }
     ],
     "prompt_number": 42
    },
    {
     "cell_type": "markdown",
     "metadata": {},
     "source": [
      "Note that the second dimension of $X$ encodes the number of features. With this default vectorizer, we actually have more \n",
      "features than examples! The number of features can be adjusted with the `df_min` parameter of CountVectorizer. We will tune this `df_min` parameter later."
     ]
    },
    {
     "cell_type": "markdown",
     "metadata": {},
     "source": [
      "Now we can actually perform the train/test split. The train/test split in this case is somewhat subtle, because we will tune the `min_df` parameter (see below), which actually *changes the dimensions* of the feature matrix $X$. Therefore, in order to make sure we keep our test data truly separate from the training/cross-validation process, we will perform our train/test split by saving the *indices* of the reviews which will be used for training, and those which will be saved for testing:"
     ]
    },
    {
     "cell_type": "code",
     "collapsed": false,
     "input": [
      "np.random.seed(seed=99)\n",
      "ind_train = np.random.choice(len(reviews), 10000, replace=False) \n",
      "ind_all = np.arange(len(reviews))\n",
      "ind_test = np.array(list(set(ind_all).difference(set(ind_train))))"
     ],
     "language": "python",
     "metadata": {},
     "outputs": [],
     "prompt_number": 47
    },
    {
     "cell_type": "markdown",
     "metadata": {},
     "source": [
      "Because some of the classifier training happens via auxiliary scripts outside of this notebook (due to the computational infeasibility of running everything within the notebook), it is necessary to write out these train/test indices to files which can be read in by these auxiliary scripts."
     ]
    },
    {
     "cell_type": "code",
     "collapsed": false,
     "input": [
      "o_train = open('data/ind_train.pkl', 'wb')\n",
      "cPickle.dump(ind_train, o_train)\n",
      "o_train.close()\n",
      "\n",
      "o_test = open('data/ind_test.pkl','wb')\n",
      "cPickle.dump(ind_test, o_test)\n",
      "o_test.close()"
     ],
     "language": "python",
     "metadata": {},
     "outputs": [],
     "prompt_number": 10
    },
    {
     "cell_type": "markdown",
     "metadata": {},
     "source": [
      "##5. Naivest Bayes"
     ]
    },
    {
     "cell_type": "markdown",
     "metadata": {},
     "source": [
      "Here we try the simplest possible version of Naive Bayes classification. As demonstrated in Bayesian Tomatoes, there are two important parameters which must be tuned. The first is `min_df`, which encodes the minimum frequency with which a word must appear in the training corpus in order to become a feature of the model. This is useful in getting rid of random junk which may have been accidentally incorporated into the review text during scraping, or words which are proper nouns (e.g. game names) rather than part of the standard english vocabulary. In Bayesian tomatoes, it was found that `min_df`=0.001 is optimal, but here in our \"Naivest Bayes\" experiment, we simply use the default value, which includes all words that appear even once in the corpus as features. The other important parameter that should be tuned is called `alpha`, the additive (Laplace/Lidstone) smoothing parameter, which effectively smooths out individual features and thereby dictates how strongly the predicted positive/negative probabilities are dragged toward 0.50. Here, to establish a baseline, we adopt the default value of `alpha`=1."
     ]
    },
    {
     "cell_type": "code",
     "collapsed": false,
     "input": [
      "clf = MultinomialNB().fit(X[ind_train,:], Y[ind_train])\n",
      "print \"Training set accuracy: %0.2f%%\" % (100 * clf.score(X[ind_train,:], Y[ind_train]))\n",
      "print \"Test set accuracy: %0.2f%%\" % (100 * clf.score(X[ind_test,:], Y[ind_test]))"
     ],
     "language": "python",
     "metadata": {},
     "outputs": [
      {
       "output_type": "stream",
       "stream": "stdout",
       "text": [
        "Training set accuracy: 89.27%\n",
        "Test set accuracy: 75.43%\n"
       ]
      }
     ],
     "prompt_number": 46
    },
    {
     "cell_type": "markdown",
     "metadata": {},
     "source": [
      "Thus, without being careful about cleaning or stemming our features, and without any cross-validation to tune the model parameters, we can already achieve an accuracy of $\\sim$75.4% on the test data. That's pretty good!"
     ]
    },
    {
     "cell_type": "markdown",
     "metadata": {},
     "source": [
      "##6. Cross-Validation Framework"
     ]
    },
    {
     "cell_type": "markdown",
     "metadata": {},
     "source": [
      "Cross-validation will consist of running a two-dimensional grid in (`min_df`, `alpha`) to find the combination of these parameters which yields the highest cross-validation accuracy score during 10-fold cross-validation. Note that it is not possible in this situation to trivially use GridSearchSV as in Homework 3, because technically `min_df` is not a parameter of the Naive Bayes classifier, but rather it *dictates the shape and contents of the feature matrix, irrespective of the model trained on the feature matrix to predict the target*. Therefore, we have written a custom script to search for the optimal (`min_df`, `alpha`) pair for the Naive Bayes classification. This script is printed below:"
     ]
    },
    {
     "cell_type": "code",
     "collapsed": false,
     "input": [
      "print open('crossval_naive_bayes.py').read()"
     ],
     "language": "python",
     "metadata": {},
     "outputs": [
      {
       "output_type": "stream",
       "stream": "stdout",
       "text": [
        "#!/usr/bin/env python\n",
        "# written by Aaron Meisner, 12/5/2014\n",
        "\n",
        "import cPickle\n",
        "import numpy as np\n",
        "from sklearn.feature_extraction.text import CountVectorizer\n",
        "from sklearn.naive_bayes import MultinomialNB\n",
        "import sklearn.grid_search\n",
        "from load_reviews_scores import load_reviews_scores\n",
        "\n",
        "def crossval_naive_bayes(stem=False, regex=False):\n",
        "    # load review/score data (pass stem keyword along)\n",
        "    reviews, scores = load_reviews_scores(stem=stem)\n",
        "\n",
        "    # construct target vector\n",
        "    Y = (scores >= 7)\n",
        "\n",
        "    # load train/test indices\n",
        "    ind_train = cPickle.load(file('data/ind_train.pkl'))\n",
        "\n",
        "    # make array of candidate min_df values\n",
        "    min_dfs = np.arange(0.00008, 0.01002, 0.00002)\n",
        "    # make array of candidate alpha values\n",
        "    alphas = np.array([0.005, 0.1, 0.5, 1, 1.7, 1.8, 1.9, 2, 2.1, 2.2, 2.3, 5, \n",
        "                       10])\n",
        "\n",
        "    n_min_df = len(min_dfs)\n",
        "    n_alpha = len(alphas)\n",
        "\n",
        "    # initialize 2d grids holding cross-validation results\n",
        "    grid_cv_score = np.zeros((n_min_df, n_alpha))\n",
        "    grid_score_std = np.zeros((n_min_df, n_alpha))\n",
        "    grid_min_df = np.zeros((n_min_df, n_alpha))\n",
        "    grid_alpha = np.zeros((n_min_df, n_alpha))\n",
        "\n",
        "    parameters = {'alpha' : alphas}\n",
        "\n",
        "    for i, min_df in enumerate(min_dfs):\n",
        "    #   print out current min_df parameter value\n",
        "        print i, min_df\n",
        "    #   construct feature matrix \n",
        "        vectorizer = CountVectorizer(min_df=min_df)\n",
        "        vectorizer.fit(reviews)\n",
        "        X = vectorizer.transform(reviews)\n",
        "  \n",
        "    #   restrict to the training indices and run 10-fold CV with GridSearchCV\n",
        "        clf_gs = sklearn.grid_search.GridSearchCV(MultinomialNB(), parameters,\n",
        "                                                   cv=10)\n",
        "        clf_gs.fit(X[ind_train,:], Y[ind_train])\n",
        "        clf_gs.grid_scores_\n",
        "\n",
        "        cv_means = np.array([clf_gs.grid_scores_[j][1] for j in range(n_alpha)])\n",
        "        cv_stds = np.array([np.std(clf_gs.grid_scores_[j][2]) for j in range(n_alpha)])\n",
        "    #   store information about inputs and scores for this value of min_df\n",
        "        grid_cv_score[i, :] = cv_means\n",
        "        grid_score_std[i, :] = cv_stds\n",
        "        grid_min_df[i, :] = min_df\n",
        "        grid_alpha[i, :] = alphas\n",
        "\n",
        "    # write out 2d grids to pkl file\n",
        "    o_scores = open('data/grid_cv_score.pkl', 'wb')\n",
        "    cPickle.dump(grid_cv_score, o_scores)\n",
        "    o_scores.close()\n",
        "\n",
        "    o_score_stds = open('data/grid_score_std.pkl', 'wb')\n",
        "    cPickle.dump(grid_score_std, o_score_stds)\n",
        "    o_score_stds.close()\n",
        "\n",
        "    o_alphas = open('data/grid_alpha.pkl', 'wb')\n",
        "    cPickle.dump(grid_alpha, o_alphas)\n",
        "    o_alphas.close()\n",
        "\n",
        "    o_min_dfs = open('data/grid_min_df.pkl', 'wb')\n",
        "    cPickle.dump(grid_min_df, o_min_dfs)\n",
        "    o_min_dfs.close()\n",
        "\n"
       ]
      }
     ],
     "prompt_number": 48
    },
    {
     "cell_type": "markdown",
     "metadata": {},
     "source": [
      "##7. Tuned Naive Bayes Classifier\n",
      "\n",
      "We have applied the above ideas and script to search a rectangular grid in (`min_df`, `alpha`), where the `min_df` values are\n",
      "[0.00008, 0.0001, 0.00012, 0.00014, ..., 0.00980, 0.01] and the `alpha` values are [0.005, 0.1, 0.5, 1, 1.7, 1.8, 1.9, 2, 2.1, 2.2, 2.3, 5, 10]. This represents 497 `min_df` values and 13 `alpha` values, for a total of 6461 parameter choice pairs evaluated. Note that the `min_df` values are evenly spaced in increments of $2\\times10^{-5}$, whereas the `alpha` values are not evenly spaced.\n",
      "\n",
      "We define the \"optimal\" choice of (`min_df`, `alpha`) to be that which maximizes the cross-validation accuracy score. A colorscale map of the cross-validation accuracy score over the grid of (`min_df`, `alpha`), computed using `crossval_naive_bayes.py`, is shown below (top left subplot). For comparison and ease of interpretation, several additional related colormap figures are shown. The top right panel shows the standard deviation of the cross-validation score at every point in the grid, to give a sense of the uncertainty on each cross-validation accuracy shown in the top panel. The lower left panel shows the grid of `min_df` values used. The lower right panel shows the the grid of `alpha` values used."
     ]
    },
    {
     "cell_type": "code",
     "collapsed": false,
     "input": [
      "cv_scores = cPickle.load(file('data/grid_cv_score.pkl'))\n",
      "cv_scores_std = cPickle.load(file('data/grid_score_std.pkl'))\n",
      "alpha_grid = cPickle.load(file('data/grid_alpha.pkl'))\n",
      "min_df_grid = cPickle.load(file('data/grid_min_df.pkl'))"
     ],
     "language": "python",
     "metadata": {},
     "outputs": [
      {
       "output_type": "stream",
       "stream": "stdout",
       "text": [
        "[[  5.00000000e-03   1.00000000e-01   5.00000000e-01 ...,   2.30000000e+00\n",
        "    5.00000000e+00   1.00000000e+01]\n",
        " [  5.00000000e-03   1.00000000e-01   5.00000000e-01 ...,   2.30000000e+00\n",
        "    5.00000000e+00   1.00000000e+01]\n",
        " [  5.00000000e-03   1.00000000e-01   5.00000000e-01 ...,   2.30000000e+00\n",
        "    5.00000000e+00   1.00000000e+01]\n",
        " ..., \n",
        " [  5.00000000e-03   1.00000000e-01   5.00000000e-01 ...,   2.30000000e+00\n",
        "    5.00000000e+00   1.00000000e+01]\n",
        " [  5.00000000e-03   1.00000000e-01   5.00000000e-01 ...,   2.30000000e+00\n",
        "    5.00000000e+00   1.00000000e+01]\n",
        " [  5.00000000e-03   1.00000000e-01   5.00000000e-01 ...,   2.30000000e+00\n",
        "    5.00000000e+00   1.00000000e+01]]\n"
       ]
      }
     ],
     "prompt_number": 327
    },
    {
     "cell_type": "code",
     "collapsed": false,
     "input": [
      "plt.figure(figsize=(14,12))\n",
      "plt.subplot(2,2,1)\n",
      "plt.title('cross-validation accuracy score')\n",
      "plt.imshow(cv_scores, interpolation='nearest', aspect=0.02)\n",
      "plt.colorbar(label='accuracy')\n",
      "plt.xlabel('alpha')\n",
      "plt.ylabel('min_df')\n",
      "plt.xticks(np.arange(len(np.unique(alpha_grid))), rotation='vertical')\n",
      "ax = plt.gca()\n",
      "labels = [item.get_text() for item in ax.get_xticklabels()]\n",
      "for i in range(len(labels)):\n",
      "    labels[i] = str((np.unique(alpha_grid))[i])\n",
      "ax.set_xticklabels(labels)\n",
      "\n",
      "ytick_locs = [0,100,200,300,400]\n",
      "plt.yticks(ytick_locs)\n",
      "labels = [item.get_text() for item in ax.get_yticklabels()]\n",
      "for i in range(len(labels)):\n",
      "    labels[i] = str((2e-5)*ytick_locs[i])\n",
      "ax.set_yticklabels(labels)\n",
      "\n",
      "plt.subplot(2,2,2)\n",
      "plt.title('cross-validation accuracy score standard deviation')\n",
      "plt.imshow(cv_scores_std, interpolation='nearest', aspect=0.02)\n",
      "plt.colorbar(label='accuracy standard deviation')\n",
      "plt.xlabel('alpha')\n",
      "plt.ylabel('min_df')\n",
      "plt.xticks(np.arange(len(np.unique(alpha_grid))), rotation='vertical')\n",
      "ax = plt.gca()\n",
      "labels = [item.get_text() for item in ax.get_xticklabels()]\n",
      "for i in range(len(labels)):\n",
      "    labels[i] = str((np.unique(alpha_grid))[i])\n",
      "ax.set_xticklabels(labels)\n",
      "\n",
      "ytick_locs = [0,100,200,300,400]\n",
      "plt.yticks(ytick_locs)\n",
      "labels = [item.get_text() for item in ax.get_yticklabels()]\n",
      "for i in range(len(labels)):\n",
      "    labels[i] = str((2e-5)*ytick_locs[i])\n",
      "ax.set_yticklabels(labels)\n",
      "\n",
      "plt.subplot(2,2,3)\n",
      "plt.title('min_df values for cross-validation grid')\n",
      "plt.imshow(min_df_grid, interpolation='nearest', aspect=0.02)\n",
      "plt.colorbar(label='min_df')\n",
      "plt.xlabel('alpha')\n",
      "plt.ylabel('min_df')\n",
      "plt.xticks(np.arange(len(np.unique(alpha_grid))), rotation='vertical')\n",
      "ax = plt.gca()\n",
      "labels = [item.get_text() for item in ax.get_xticklabels()]\n",
      "for i in range(len(labels)):\n",
      "    labels[i] = str((np.unique(alpha_grid))[i])\n",
      "ax.set_xticklabels(labels)\n",
      "\n",
      "ytick_locs = [0,100,200,300,400]\n",
      "plt.yticks(ytick_locs)\n",
      "labels = [item.get_text() for item in ax.get_yticklabels()]\n",
      "for i in range(len(labels)):\n",
      "    labels[i] = str((2e-5)*ytick_locs[i])\n",
      "ax.set_yticklabels(labels)\n",
      "\n",
      "plt.subplot(2,2,4)\n",
      "plt.title('alpha values for cross-validation grid')\n",
      "plt.imshow(alpha_grid, interpolation='nearest', aspect=0.02)\n",
      "plt.colorbar(label='alpha')\n",
      "plt.xlabel('alpha')\n",
      "plt.ylabel('min_df')\n",
      "plt.xticks(np.arange(len(np.unique(alpha_grid))), rotation='vertical')\n",
      "ax = plt.gca()\n",
      "labels = [item.get_text() for item in ax.get_xticklabels()]\n",
      "for i in range(len(labels)):\n",
      "    labels[i] = str((np.unique(alpha_grid))[i])\n",
      "ax.set_xticklabels(labels)\n",
      "\n",
      "ytick_locs = [0,100,200,300,400]\n",
      "plt.yticks(ytick_locs)\n",
      "labels = [item.get_text() for item in ax.get_yticklabels()]\n",
      "for i in range(len(labels)):\n",
      "    labels[i] = str((2e-5)*ytick_locs[i])\n",
      "_ = ax.set_yticklabels(labels)"
     ],
     "language": "python",
     "metadata": {},
     "outputs": [
      {
       "metadata": {},
       "output_type": "display_data",
       "png": "[encoded data removed]",
       "text": [
        "<matplotlib.figure.Figure at 0x15f273a50>"
       ]
      }
     ],
     "prompt_number": 346
    },
    {
     "cell_type": "markdown",
     "metadata": {},
     "source": [
      "In the following cell, we take the initial steps toward determining the optimal choice of (`min_df`, `alpha`) based on the cross-validation accuracy grid shown above:"
     ]
    },
    {
     "cell_type": "code",
     "collapsed": false,
     "input": [
      "print \"The maximum cross-validation accuracy score is \", np.max(cv_scores)\n",
      "w = np.where(cv_scores == np.max(cv_scores))\n",
      "print \"The data points at which the maximum accuracy score is achieved have alpha=\", alpha_grid[w[0],w[1]]\n",
      "print \"The data points at which the maximum accuracy score is achieved have min_df=\", min_df_grid[w[0],w[1]]"
     ],
     "language": "python",
     "metadata": {},
     "outputs": [
      {
       "output_type": "stream",
       "stream": "stdout",
       "text": [
        "The maximum cross-validation accuracy score is  0.7663\n",
        "The data points at which the maximum accuracy score is achieved have alpha= [ 1.7  1.7  1.7  1.7]\n",
        "The data points at which the maximum accuracy score is achieved have min_df= [ 0.0001   0.00012  0.00014  0.00016]\n"
       ]
      }
     ],
     "prompt_number": 51
    },
    {
     "cell_type": "markdown",
     "metadata": {},
     "source": [
      "We can see that there are actually four points in the grid tied for the best accuracy score. This can happen because only 1000 reviews are being used to calculate each cross-validation accuracy score, so the possible accuracy scores are effectively discretized. We can see that all of the best parameter choices have `alpha`=1.7, so for our \"optimized Naive Bayes classifier\" we will employ `alpha`=1.7. For the optimized Naive Bayes classifier, we will adopt a `min_df` value which is the median of the `min_df` values that are tied for the best cross-validation accuracy:"
     ]
    },
    {
     "cell_type": "code",
     "collapsed": false,
     "input": [
      "print \"We will adopt min_df=\", np.median(min_df_grid[w[0],w[1]]), \" for our optimized Naive Bayes classifier.\""
     ],
     "language": "python",
     "metadata": {},
     "outputs": [
      {
       "output_type": "stream",
       "stream": "stdout",
       "text": [
        "We will adopt min_df= 0.00013  for our optimized Naive Bayes classifier.\n"
       ]
      }
     ],
     "prompt_number": 52
    },
    {
     "cell_type": "markdown",
     "metadata": {},
     "source": [
      "We should take note of and attempt to understand this optimal value of  `min_df`. The default value of `min_df` corresponds to including every word that appears even once as a feature. With `min_df` at its default value, we have 13631 features. As shown below, with `min_df`=0.00013, we have only 7764 features. This means that the optimized Naive Bayes classifier uses approximately the most frequent half of all unique words as features."
     ]
    },
    {
     "cell_type": "code",
     "collapsed": false,
     "input": [
      "vectorizer_opt = CountVectorizer(min_df=0.00013)\n",
      "vectorizer_opt.fit(reviews)\n",
      "print \"In the optimized classifier, the most frequent \", len(vectorizer_opt.get_feature_names()), \" words are used as features.\""
     ],
     "language": "python",
     "metadata": {},
     "outputs": [
      {
       "output_type": "stream",
       "stream": "stdout",
       "text": [
        "In the optimized classifier, the most frequent  7764  words are used as features.\n"
       ]
      }
     ],
     "prompt_number": 246
    },
    {
     "cell_type": "markdown",
     "metadata": {},
     "source": [
      "It is also interesting to compare our optimal values of `alpha` and `min_df` to those found in the Bayesian Tomatoes study of movie reviews. In Bayesian Tomatoes, (`min_df`, `alpha`)=(0.001, 5) was determined to be optimal. Aside from the fact that our analysis and Bayesian Tomatoes rely upon completely different data sets, another reason we might end up with somewhat different values is that we chose to optimize the cross-validation accuracy score, whereas in Bayesian Tomatoes the log-likelihood was optimized. Using our optimal combination of (`min_df`, `alpha`) = (0.00013, 1.7) we can evaluate the *test* accuracy score, to see how much improvement has been achieved relative to simply using the default parameters."
     ]
    },
    {
     "cell_type": "code",
     "collapsed": false,
     "input": [
      "X_opt = vectorizer_opt.transform(reviews)\n",
      "clf_opt = MultinomialNB(alpha=1.7).fit(X_opt[ind_train,:], Y[ind_train])\n",
      "print \"Training set accuracy: %0.2f%%\" % (100 * clf_opt.score(X_opt[ind_train,:], Y[ind_train]))\n",
      "print \"Test set accuracy: %0.2f%%\" % (100 * clf_opt.score(X_opt[ind_test,:], Y[ind_test]))"
     ],
     "language": "python",
     "metadata": {},
     "outputs": [
      {
       "output_type": "stream",
       "stream": "stdout",
       "text": [
        "Training set accuracy: 86.13%\n",
        "Test set accuracy: 75.93%\n"
       ]
      }
     ],
     "prompt_number": 247
    },
    {
     "cell_type": "markdown",
     "metadata": {},
     "source": [
      "Notice that this test accuracy (75.93%) is only very slightly higher than the \"Naivest Bayes\" test accuracy (75.43%), by half a percent. This optimized optimized Naive Bayes classifier accuracy for video game reviews is very similar to that found for movie reviews in Bayesian Tomatoes: their final \"calibrated\" classifier had a test accuracy of 74%."
     ]
    },
    {
     "cell_type": "markdown",
     "metadata": {},
     "source": [
      "###7.1 Understanding the Naive Bayes Classifier\n",
      "\n",
      "With the \"heavy lifting\" of training, cross-validating, optimizing and testing our Naive Bayes classifier out of the way, we can demonstrate some of its amusing properties and capabilities. A reasonable first question to ask about the classifier is: Which features (individual words) are the most strongly indicative of a \"positive\" or \"negative\" review. A way to phrase this more quantitatively within the Naive Bayes framework is to ask: which words have the highest and lowest values of P(positive|word)? The words with highest P(positive|word) are most strongly indicative of a positive review, and the words with lowest P(positive|word) are most strongly indicative of a negative review. The following code prints out the ten most \n",
      "strongly positive and strongly negative words:"
     ]
    },
    {
     "cell_type": "code",
     "collapsed": false,
     "input": [
      "words = np.array(vectorizer_opt.get_feature_names())\n",
      "x = np.eye(X_opt.shape[1])\n",
      "probs = clf_opt.predict_log_proba(x)[:, 0]\n",
      "ix = np.argsort(probs)\n",
      "\n",
      "n_example=10\n",
      "\n",
      "good_words = words[ix[:n_example]]\n",
      "bad_words = words[ix[-n_example:]]\n",
      "bad_words = bad_words[::-1]\n",
      "\n",
      "good_prob = probs[ix[:n_example]]\n",
      "bad_prob = probs[ix[-n_example:]]\n",
      "bad_prob = bad_prob[::-1]\n",
      "\n",
      "print \"Most positive words\\t     P(positive | word)\"\n",
      "for w, p in zip(good_words, good_prob):\n",
      "    print \"%20s\" % w, \"%0.3f\" % (1 - np.exp(p))\n",
      "    \n",
      "print \"Most negative words\\t     P(positive | word)\"\n",
      "for w, p in zip(bad_words, bad_prob):\n",
      "    print \"%20s\" % w, \"%0.3f\" % (1 - np.exp(p))"
     ],
     "language": "python",
     "metadata": {},
     "outputs": [
      {
       "output_type": "stream",
       "stream": "stdout",
       "text": [
        "Most positive words\t     P(positive | word)\n",
        "              superb 0.956\n",
        "            terrific 0.931\n",
        "               tight 0.928\n",
        "            stunning 0.928\n",
        "             crafted 0.925\n",
        "               notch 0.904\n",
        "         refinements 0.904\n",
        "                maps 0.904\n",
        "        successfully 0.902\n",
        "           excellent 0.900\n",
        "Most negative words\t     P(positive | word)\n",
        "            terrible 0.036\n",
        "                dull 0.063\n",
        "               avoid 0.065\n",
        "          mediocrity 0.073\n",
        "              boring 0.074\n",
        "              poorly 0.076\n",
        "                mess 0.081\n",
        "       uninteresting 0.081\n",
        "              shoddy 0.085\n",
        "                rent 0.085\n"
       ]
      }
     ],
     "prompt_number": 154
    },
    {
     "cell_type": "markdown",
     "metadata": {},
     "source": [
      "These most positive/negative words are almost entirely self explanatory. For example, it would be unlikely to use the word \"superb\" in a negative review or to use the word \"mediocrity\" in a positive review. A few of these words are worthy of further exploration, which is possible by simply scanning through the input reviews for their occurence. In particular, it is interesting to investigate \"tight\", \"maps\" and \"rent\", which seem unexpected relative to the other best/worst words. The code in the cell below is a utility function to scan through the reviews for a single word:"
     ]
    },
    {
     "cell_type": "code",
     "collapsed": false,
     "input": [
      "def scan_for_word(word):\n",
      "    reviews_with_word = []\n",
      "    for review in reviews:\n",
      "        if review.find(word) != -1:\n",
      "            reviews_with_word.append(review)\n",
      "    return np.array(reviews_with_word)"
     ],
     "language": "python",
     "metadata": {},
     "outputs": [],
     "prompt_number": 32
    },
    {
     "cell_type": "markdown",
     "metadata": {},
     "source": [
      "Now we use this utility function to print out reviews containing the words with unexpectedly strong influence on sentiment:"
     ]
    },
    {
     "cell_type": "code",
     "collapsed": false,
     "input": [
      "print 'tight\\n' + '*'*80\n",
      "print scan_for_word(\" tight \")[1]\n",
      "print scan_for_word(\" tight \")[3]\n",
      "print scan_for_word(\" tight \")[7]\n",
      "\n",
      "print '\\nmaps\\n' + '*'*80\n",
      "print scan_for_word(\" maps \")[4]\n",
      "print scan_for_word(\" maps \")[5]\n",
      "print scan_for_word(\" maps \")[6]\n",
      "\n",
      "print '\\nrent\\n' + '*'*80\n",
      "print scan_for_word(\" rent \")[11]\n",
      "print scan_for_word(\" rent \")[0]\n",
      "print scan_for_word(\" rent \")[7]"
     ],
     "language": "python",
     "metadata": {},
     "outputs": [
      {
       "output_type": "stream",
       "stream": "stdout",
       "text": [
        "tight\n",
        "********************************************************************************\n",
        " Burnout is one of the most intense and entertaining racing games on the PlayStation 2, complete with tight controls and impressive graphics.\n",
        " No-frills realism and tight teamwork make Insurgency a welcome break from the status quo."
       ]
      },
      {
       "output_type": "stream",
       "stream": "stdout",
       "text": [
        "\n",
        " Super Mario 3D Land eases you in with creative level design and tight controls while leaving plenty of challenging content to be discovered.\n",
        "\n",
        "maps\n",
        "********************************************************************************\n",
        " Island Thunder offers more than enough in the way of a challenging single-player game and new multiplayer maps for players who are serious about tactical shooters."
       ]
      },
      {
       "output_type": "stream",
       "stream": "stdout",
       "text": [
        "\n",
        " The first booster pack for Battlefield 2142 offers up three exciting new maps and a new gameplay mode, making it a must-have for fans of the multiplayer action game.\n",
        " The nine new maps are outstanding, making one of the best-ever multiplayer shooters even better."
       ]
      },
      {
       "output_type": "stream",
       "stream": "stdout",
       "text": [
        "\n",
        "\n",
        "rent\n",
        "********************************************************************************\n",
        " The unfortunates who decide to rent or buy this game will be stuck with nothing more than a filthy, horribly buggy port of an already middling game.\n",
        " Buy Asteroids Hyper 64 if you really, really adore the classic Asteroids, but all others are advised to either rent it or forget about it entirely."
       ]
      },
      {
       "output_type": "stream",
       "stream": "stdout",
       "text": [
        "\n",
        " Parents whose kids have Scooby-Doo hot on the brain from the movie can safely rent this one, or not, without worry of missing much.\n"
       ]
      }
     ],
     "prompt_number": 34
    },
    {
     "cell_type": "markdown",
     "metadata": {},
     "source": [
      "So, apparently \"tight\" is among the most positive words because it's a common term used to compliment video game design (as opposed to \"tight\" in the [UrbanDictionary](http://www.urbandictionary.com/define.php?term=Tight&defid=116155) sense of the word). Also, \"maps\" are apparently a common feature of games to be complimented in reviews. Last, we can see that \"rent\" is such a negative indicator because suggesting that readers rent a game is effectively a way of insulting the game.\n",
      "\n",
      "Finally, we can verify that, as in the case of movie reviews, our video game review classifier is also ineffective at identifying negation. For instance, we can easily construct a review that is clearly negative, yet is misclassified because the word \"not\" has been used for negation of a positive word:"
     ]
    },
    {
     "cell_type": "code",
     "collapsed": false,
     "input": [
      "print \"P(negative), P(positive)\"\n",
      "# negative sentiment, wrongly classified as positive\n",
      "misclassified = 'This game is not excellent and could definitely use some refinements.'\n",
      "# positive sentiment with same important features (words) as prior example, correctly classified as positive\n",
      "properly_classified = 'Excellent refinements!'\n",
      "print clf_opt.predict_proba(vectorizer_opt.transform([misclassified])), misclassified\n",
      "print clf_opt.predict_proba(vectorizer_opt.transform([properly_classified])), properly_classified"
     ],
     "language": "python",
     "metadata": {},
     "outputs": [
      {
       "output_type": "stream",
       "stream": "stdout",
       "text": [
        "P(negative), P(positive)\n",
        "[[ 0.01258504  0.98741496]] This game is not excellent and could definitely use some refinements.\n",
        "[[ 0.01339007  0.98660993]] Excellent refinements!\n"
       ]
      }
     ],
     "prompt_number": 41
    },
    {
     "cell_type": "markdown",
     "metadata": {},
     "source": [
      "So the review \"This game is not excellent and could definitely use some refinements\", which humans would classify as having negative sentiment, is badly misclassified by our Naive Bayes classifier (98.7% probability of being positive) which fails to recognize the negation of \"excellent\" and the use of \"refinements\" which is referring to hypothetical/suggested refinements, rather than praising refinements which were actually implemented/included."
     ]
    },
    {
     "cell_type": "markdown",
     "metadata": {},
     "source": [
      "##8. Random Forest Classification"
     ]
    },
    {
     "cell_type": "markdown",
     "metadata": {},
     "source": [
      "Here we apply random forests to the classification problem at hand. Note that for the sake of reducing computational cost, we have set `min_df`=0.001, as smaller values allow for so many features that our local machine struggles due to RAM limitations. Note that this restriction means that only the most frequent 2057 words are used as features, which is a factor of $\\sim$3.5$\\times$ fewer features than used in the Naive Bayes classifier. Having adopted `min_df`=0.001, we only have one important parameter to tune, which is the number of trees in the random forest. The script printed below uses ten-fold cross-validation on the training sample to explore the change in accuracy score as a function of the number of trees in the forest:"
     ]
    },
    {
     "cell_type": "code",
     "collapsed": false,
     "input": [
      "print open('tune_random_forest.py').read()"
     ],
     "language": "python",
     "metadata": {},
     "outputs": [
      {
       "output_type": "stream",
       "stream": "stdout",
       "text": [
        "#!/usr/bin/env python\n",
        "# written by Aaron Meisner, 12/6/2014\n",
        "\n",
        "import cPickle\n",
        "import numpy as np\n",
        "from sklearn.feature_extraction.text import CountVectorizer\n",
        "from sklearn.ensemble import RandomForestClassifier\n",
        "import sklearn.grid_search\n",
        "from load_reviews_scores import load_reviews_scores\n",
        "\n",
        "def tune_random_forest(stem=False):\n",
        "    min_df_opt = 0.001 # from Naive Bayes cross-validation\n",
        "\n",
        "    # set up the list of trial n_trees values\n",
        "    n_trees = np.array([1, 2, 3, 4, 5, 10, 20, 30, 40, 50, 100, 150])\n",
        "\n",
        "    # load review/score data (pass stem keyword along)\n",
        "    reviews, scores = load_reviews_scores(stem=stem)\n",
        "\n",
        "    # construct target vector\n",
        "    Y = (scores >= 7)\n",
        "\n",
        "    # load train/test indices\n",
        "    ind_train = cPickle.load(file('data/ind_train.pkl'))\n",
        "\n",
        "    # make array of candidate min_df values\n",
        "    vectorizer = CountVectorizer(min_df=min_df_opt)\n",
        "    vectorizer.fit(reviews)\n",
        "    X = vectorizer.transform(reviews)\n",
        "\n",
        "    print X.shape\n",
        "\n",
        "    parameters = {'n_estimators' : n_trees}\n",
        "\n",
        "    clf_gs = sklearn.grid_search.GridSearchCV(RandomForestClassifier(), \n",
        "                                              parameters, cv=10)\n",
        "    clf_gs.fit(X[ind_train,:].toarray(), Y[ind_train])\n",
        "    \n",
        "    cv_means = np.array([clf_gs.grid_scores_[j][1] for j in range(len(n_trees))])\n",
        "    cv_stds = np.array([np.std(clf_gs.grid_scores_[j][2]) for j in range(len(n_trees))])\n",
        "\n",
        "    # write out results to pkl files\n",
        "    o_ntree = open('data/rf_ntrees.pkl', 'wb')\n",
        "    cPickle.dump(n_trees, o_ntree)\n",
        "    o_ntree.close()\n",
        "\n",
        "    o_score = open('data/rf_scores.pkl', 'wb')\n",
        "    cPickle.dump(cv_means, o_score)\n",
        "    o_score.close()\n",
        "\n",
        "    o_std_score = open('data/rf_std_scores.pkl', 'wb')\n",
        "    cPickle.dump(cv_stds, o_std_score)\n",
        "    o_std_score.close()\n",
        "\n",
        "\n",
        "\n"
       ]
      }
     ],
     "prompt_number": 23
    },
    {
     "cell_type": "markdown",
     "metadata": {},
     "source": [
      "We tested random forests with $n_{trees}$=[1, 2, 3, 4, 5, 10, 20, 30, 40, 50, 100, 150]. Below the cross-validation accuracy scores and their standard deviations are plotted as a function of $n_{trees}$."
     ]
    },
    {
     "cell_type": "code",
     "collapsed": false,
     "input": [
      "n_trees = cPickle.load(file('data/rf_ntrees.pkl'))\n",
      "rf_scores = cPickle.load(file('data/rf_scores.pkl'))\n",
      "rf_score_stds = cPickle.load(file('data/rf_std_scores.pkl'))\n",
      "\n",
      "plt.figure(figsize=(8,5))\n",
      "plt.errorbar(n_trees, rf_scores, yerr=rf_score_stds)\n",
      "plt.xlabel('number of trees')\n",
      "plt.ylabel('cross-validation accuracy score')\n",
      "plt.title('tuning number of trees in random forest classifier')"
     ],
     "language": "python",
     "metadata": {},
     "outputs": [
      {
       "metadata": {},
       "output_type": "pyout",
       "prompt_number": 45,
       "text": [
        "<matplotlib.text.Text at 0x10b541dd0>"
       ]
      },
      {
       "metadata": {},
       "output_type": "display_data",
       "png": "[encoded data removed]",
       "text": [
        "<matplotlib.figure.Figure at 0x10d7743d0>"
       ]
      }
     ],
     "prompt_number": 45
    },
    {
     "cell_type": "markdown",
     "metadata": {},
     "source": [
      "Evidently there is a general trend of increasing cross-validation accuracy with increasing number of trees between n_trees=1 and n_trees$\\approx$100, at which point the accuracy levels off at around 73.5%. Technically, the best cross-validation accuracy (73.58%) occurs at n_trees=100. To compare Naive Bayes versus random forest classification, we must train the optimized random forest classifier (n_trees=100) to the 10000 review training set and apply it to the 1803 review test set: "
     ]
    },
    {
     "cell_type": "code",
     "collapsed": false,
     "input": [
      "vectorizer_rf = CountVectorizer(min_df=0.001)\n",
      "vectorizer_rf.fit(reviews)\n",
      "X_rf = vectorizer_rf.transform(reviews)\n",
      "\n",
      "clf_rf = RandomForestClassifier(n_estimators=100)\n",
      "clf_rf.fit((X_rf[ind_train,:]).toarray(), Y[ind_train])"
     ],
     "language": "python",
     "metadata": {},
     "outputs": [
      {
       "metadata": {},
       "output_type": "pyout",
       "prompt_number": 16,
       "text": [
        "RandomForestClassifier(bootstrap=True, compute_importances=None,\n",
        "            criterion='gini', max_depth=None, max_features='auto',\n",
        "            max_leaf_nodes=None, min_density=None, min_samples_leaf=1,\n",
        "            min_samples_split=2, n_estimators=100, n_jobs=1,\n",
        "            oob_score=False, random_state=None, verbose=0)"
       ]
      }
     ],
     "prompt_number": 16
    },
    {
     "cell_type": "code",
     "collapsed": false,
     "input": [
      "print 'The number of features used by our random forest classifier is', (X_rf.shape)[1]\n",
      "print 'The test accuracy for the tuned random forest classifier is ', clf_rf.score((X_rf[ind_test,:]).toarray(), Y[ind_test])"
     ],
     "language": "python",
     "metadata": {},
     "outputs": [
      {
       "output_type": "stream",
       "stream": "stdout",
       "text": [
        "The number of features used by our random forest classifier is 2057\n",
        "The test accuracy for the tuned random forest classifier is  "
       ]
      },
      {
       "output_type": "stream",
       "stream": "stdout",
       "text": [
        "0.728230726567\n"
       ]
      }
     ],
     "prompt_number": 21
    },
    {
     "cell_type": "markdown",
     "metadata": {},
     "source": [
      "Thus, the test accuracy for the tuned random forest classifier (100 trees) is $\\sim$72.8%. This is roughly three percent worse than the test accuracy for the tuned Naive Bayes classifier. Still, the tuned random forest classifier significantly outperforms the baseline of always guessing positive review sentiment. Futhermore, it is important to keep in mind that computational resources have limited us to using 2057 feaures for the random forest classifier, which is a factor of $\\sim$3.5\n",
      "fewer than we used for the tuned Naive Bayes classifier. Therefore, there is some reason to believe we could improve the random forest classifier's performance to match that of the tuned Naive Bayes classifier by increasing the number of features retained, provided we could obtain access to appropriate computational resources (machines with more RAM)."
     ]
    },
    {
     "cell_type": "markdown",
     "metadata": {},
     "source": [
      "##9. Predicted Ratings: K Nearest Neighbors Regression"
     ]
    },
    {
     "cell_type": "markdown",
     "metadata": {},
     "source": [
      "### 9.1 The Regression Baseline"
     ]
    },
    {
     "cell_type": "markdown",
     "metadata": {},
     "source": [
      "In the regression problem, the standard choice of metric for \"goodness\" of a model is the RMS error (RMSE) of the predictions relative to the truth. Note that the objective is obtain the best possible model by *minimizing* the RMSE, whereas previously we were seeking to *maximize* a classification accuracy score. In this case, the simplest possible model simply takes the mean of the training data, and guesses that value for all of the test examples. In the following cell we have evaluated this trivial baseline model and calculated its RMSE:"
     ]
    },
    {
     "cell_type": "code",
     "collapsed": false,
     "input": [
      "print 'The mean of the training scores is : ', np.mean(scores[ind_train])\n",
      "# calculate the baseline RMSE corresponding to always guessing a score equal to the mean score of the training set\n",
      "baseline_rmse = np.std(scores[ind_test]-np.mean(scores[ind_train]))\n",
      "print 'The RMSE of guessing the training data mean for every test example is', baseline_rmse"
     ],
     "language": "python",
     "metadata": {},
     "outputs": [
      {
       "output_type": "stream",
       "stream": "stdout",
       "text": [
        "The mean of the training scores is :  6.70872\n",
        "The RMSE of guessing the training data mean for every test example is 1.62154353936\n"
       ]
      }
     ],
     "prompt_number": 29
    },
    {
     "cell_type": "markdown",
     "metadata": {},
     "source": [
      "### 9.2 KNN with Bag of Words"
     ]
    },
    {
     "cell_type": "markdown",
     "metadata": {},
     "source": [
      "A naive form of KNN regression for predicting review scores based on review text is to continue using the bag of words model to define the features. In this implementation, each review resides in a sparsely populated, very high-dimensional space (the dimensionality is the number of words chosen as features, which is of order several thousand based on the classification analyses above). Since it is easy to continue building the feature matrix using the bag of words model, we will employ this strategy as a \"KNN regression baseline\", to see how a simplistic strategy performs. The following script `predict_scores_knn.py` performs KNN regression for various choices of the $k$, the number of neighbors:"
     ]
    },
    {
     "cell_type": "code",
     "collapsed": false,
     "input": [
      "print open('predict_scores_knn.py').read()"
     ],
     "language": "python",
     "metadata": {},
     "outputs": [
      {
       "output_type": "stream",
       "stream": "stdout",
       "text": [
        "#!/usr/bin/env python\n",
        "# written by Aaron Meisner, 12/7/2014\n",
        "\n",
        "import numpy as np\n",
        "from sklearn.neighbors import KNeighborsRegressor\n",
        "from load_reviews_scores import load_reviews_scores\n",
        "import cPickle\n",
        "from sklearn.feature_extraction.text import CountVectorizer\n",
        "\n",
        "min_df_opt = 0.001 # from Naive Bayes cross-validation\n",
        "\n",
        "# load review/score data (pass stem keyword along)\n",
        "reviews, scores = load_reviews_scores()\n",
        "\n",
        "# construct target vector\n",
        "Y = (scores >= 7)\n",
        "\n",
        "# load train/test indices\n",
        "ind_train = cPickle.load(file('data/ind_train.pkl'))\n",
        "ind_test = cPickle.load(file('data/ind_test.pkl'))\n",
        "\n",
        "# make array of candidate min_df values\n",
        "vectorizer = CountVectorizer(min_df=min_df_opt)\n",
        "vectorizer.fit(reviews)\n",
        "X = vectorizer.transform(reviews)\n",
        "\n",
        "print X.shape\n",
        "\n",
        "n_neighbors_list = [1, 2, 3, 4, 5, 10, 25, 50, 75, 100, 150, 200, \n",
        "                    250, 300, 350, 400, 450, 500, 550, 600, 650, 700, 750]\n",
        "\n",
        "rmse_values = np.zeros(len(n_neighbors_list))\n",
        "for i, n_neighbors in enumerate(n_neighbors_list):\n",
        "# all of the keyword inputs are defaults, except n_neighbors\n",
        "    knnr = KNeighborsRegressor(n_neighbors=n_neighbors_list[i], weights='uniform', \n",
        "                               algorithm='auto', leaf_size=30, p=2, metric='minkowski', \n",
        "                               metric_params=None)\n",
        "\n",
        "    knnr.fit(X[ind_train, :], scores[ind_train])\n",
        "    pred = knnr.predict(X[ind_test, :])\n",
        "    rmse_values[i] = np.std(pred-scores[ind_test])\n",
        "    print i, n_neighbors_list[i], rmse_values[i]\n",
        "\n",
        "o_rmse = open('data/knnr_rmse.pkl', 'wb')\n",
        "cPickle.dump(rmse_values, o_rmse)\n",
        "o_rmse.close()\n",
        "\n",
        "o_nneighbor = open('data/knnr_nneighbor.pkl', 'wb')\n",
        "cPickle.dump(n_neighbors_list, o_nneighbor)\n",
        "o_nneighbor.close()\n",
        "\n"
       ]
      }
     ],
     "prompt_number": 22
    },
    {
     "cell_type": "markdown",
     "metadata": {},
     "source": [
      "Note that we have tested $k$ values of [1, 2, 3, 4, 5, 10, 25, 50, 75, 100, 150, 200, 250, 300, 350, 400, 450, 500, 550, 600, 650, 700, 750], and that we have saved the test RMSE values as a function of $k$ in a file called `data/knnr_rmse.pkl`. We can\n",
      "understand the results of this analysis by plotting the RMSE values versus $k$, as shown below:"
     ]
    },
    {
     "cell_type": "code",
     "collapsed": false,
     "input": [
      "# RMSE values for KNN using bag of words features\n",
      "rmse_bw = cPickle.load(file('data/knnr_rmse.pkl'))\n",
      "k_bw = cPickle.load(file('data/knnr_nneighbor.pkl'))\n",
      "plt.plot(k_bw, rmse_bw)\n",
      "plt.plot(np.array([np.min(k_bw), np.max(k_bw)]), np.array([baseline_rmse, baseline_rmse]), c='k')\n",
      "plt.xlim((np.min(k_bw), np.max(k_bw)))\n",
      "plt.xlabel('number of neighbors')\n",
      "plt.ylabel('RMSE')\n",
      "plt.title('bag of words KNN regression')\n",
      "ax = plt.gca()\n",
      "ax.set_xscale('log')"
     ],
     "language": "python",
     "metadata": {},
     "outputs": [
      {
       "metadata": {},
       "output_type": "display_data",
       "png": "[encoded data removed]",
       "text": [
        "<matplotlib.figure.Figure at 0x1090dc610>"
       ]
      }
     ],
     "prompt_number": 77
    },
    {
     "cell_type": "markdown",
     "metadata": {},
     "source": [
      "We can see that the optimal number of neighbors for this model is $k$=7, with a corresponding RMSE of 1.567. This is not very encouraging, because it only represents a very small improvement relative to guessing the same score for every review without taking into account the review text at all (RMSE=1.622).\n",
      "\n",
      "Having demonstrated quantitatively that bag of words KNN regression isn't very effective, we can intuitively understand way. The central flaw in this methodology is that *reviews with similar scores won't necessarily be nearby each other in the bag of words feature space*. For instance \"Playing this superb game was an awesome experience\" and \"Amazing action, teriffic attention to detail\" would be two reviews expected to have similarly high scores of 9/10 or 10/10. However, in the bag of words\n",
      "feature decomposition, these two high-scoring reviews have *zero overlap* (because they don't share an of the same words). Thus, it seems clear both intuitively and empirically that using single-word features is an ineffective strategy for KNN regression."
     ]
    },
    {
     "cell_type": "markdown",
     "metadata": {},
     "source": [
      "### 9.3 KNN using Dimensionality Reduction"
     ]
    },
    {
     "cell_type": "markdown",
     "metadata": {},
     "source": [
      "Instead of using single words as features in KNN regression, we can attempt to find some smaller number of features which more plausibly place similarly scored reviews nearby each other in feature space. To be ambitious, we'd even like to collapse the problem down to one dimension, by finding a single feature which encapsulates the sentiment of a review. Conveniently, we have derived such a continuous scalar-valued summary of the review text sentiment as a byproduct of our Naive Bayes classification: P(positive|text), the probability that the review is positive .\n",
      "\n",
      "We can use P(positive|text) to perform KNN regression by calculating P(positive|text) for each review, finding the $k$ training set reviews with the most similar values of P(positive|text), and then taking the predicted score to be the average of the scores for the $k$ nearest neighbors in P(positive|text). I have implemented this one-dimensional KNN regression below:"
     ]
    },
    {
     "cell_type": "code",
     "collapsed": false,
     "input": [
      "probs_train = (clf_opt.predict_proba(X_opt[ind_train,:]))[:,1] # probability of review being positive\n",
      "scores_train = scores[ind_train]\n",
      "\n",
      "ind_sort_probs = np.argsort(probs_train)\n",
      "probs_train_sorted = probs_train[ind_sort_probs]\n",
      "scores_train_sorted = scores_train[ind_sort_probs]\n",
      "\n",
      "def my_knn_1d(review, probs_train_sorted, scores_train_sorted, median=False, n_neighbors=10):\n",
      "    prob_test = (clf_opt.predict_proba(vectorizer_opt.transform([review])))[0,1]\n",
      "    diff = np.abs(probs_train_sorted - prob_test)\n",
      "    sind_diff = np.argsort(diff)\n",
      "    \n",
      "    neighbor_scores = scores_train_sorted[sind_diff[0:(n_neighbors)]]\n",
      "    \n",
      "    result = (np.median(neighbor_scores) if median else np.mean(neighbor_scores))\n",
      "    return result\n",
      "\n",
      "def try_k_value(n_neighbors):\n",
      "    scores_pred_test = np.zeros(len(ind_test))\n",
      "    for i in range(len(ind_test)):\n",
      "        scores_pred_test[i] = my_knn_1d((reviews[ind_test])[i], probs_train_sorted,\n",
      "                                        scores_train_sorted, n_neighbors=n_neighbors)\n",
      "    return scores_pred_test\n",
      "\n",
      "def try_many_k(n_neighbors_list):\n",
      "    rmses = []\n",
      "    for n_neighbors_val in n_neighbors_list:\n",
      "        scores_pred_test = try_k_value(n_neighbors_val)\n",
      "        # print the RMS error\n",
      "        rmses.append(np.std(scores[ind_test]-scores_pred_test))\n",
      "    return rmses\n",
      "\n",
      "ks = np.array([1,2,3,4,5,10, 20, 40, 80, 160, 320, 360, 380, 400, 420, 440, 640, 1000, 1500, 2000, 3000])\n",
      "rmses = np.array(try_many_k(ks))"
     ],
     "language": "python",
     "metadata": {},
     "outputs": [],
     "prompt_number": 68
    },
    {
     "cell_type": "code",
     "collapsed": false,
     "input": [
      "plt.plot(ks,rmses)\n",
      "plt.xlabel('number of neighbors')\n",
      "plt.ylabel('RMSE')\n",
      "plt.title('KNN regression with dimensionality reduction')\n",
      "plt.plot(np.array([np.min(ks), np.max(ks)]), np.array([baseline_rmse, baseline_rmse]), c='k')\n",
      "plt.xlim((np.min(ks), np.max(ks)))\n",
      "ax = plt.gca()\n",
      "ax.set_xscale('log')"
     ],
     "language": "python",
     "metadata": {},
     "outputs": [
      {
       "metadata": {},
       "output_type": "display_data",
       "png": "[encoded data removed]",
       "text": [
        "<matplotlib.figure.Figure at 0x10cc0bcd0>"
       ]
      }
     ],
     "prompt_number": 78
    },
    {
     "cell_type": "code",
     "collapsed": false,
     "input": [
      "print 'The best RMSE achieved is', np.min(rmses)\n",
      "print 'The best RMSE is achieved when using k =', (ks[rmses == np.min(rmses)])[0]"
     ],
     "language": "python",
     "metadata": {},
     "outputs": [
      {
       "output_type": "stream",
       "stream": "stdout",
       "text": [
        "The best RMSE achieved is 1.29475760861\n",
        "The best RMSE is achieved when using k = 400\n"
       ]
      }
     ],
     "prompt_number": 82
    },
    {
     "cell_type": "markdown",
     "metadata": {},
     "source": [
      "The best RMSE achieved is $\\sim$1.295, which is significantly better than both the bag of words KNN regression and the constant guess baseline. Using subtraction in quadrature, the decrease of RMSE from 1.62 (baseline) to 1.295 (best one-dimensional KNN) means that we've successfully accounted for $\\sqrt{1.622^2-1.295^2}$$\\approx$1 rating point of scatter within the set of test data ratings.  "
     ]
    },
    {
     "cell_type": "markdown",
     "metadata": {},
     "source": [
      "It's also useful to try to understand the fact that the optimal $k$ value is 400. Recall that our KNN regression model is built upon the scores and P(positive|text) values for 10000 training examples. So even though using the 400 nearest neighbors in P(positive|text) sounds like using a huge number of neighbors, it actually only represents using the 4% of training examples most similar to each test sample. When viewed this way, it's clear that 400 neighbors is by no means an inordinately large value."
     ]
    },
    {
     "cell_type": "markdown",
     "metadata": {},
     "source": [
      "Lastly, it's interesting to examine the optimal ($k$=400) KNN regressor in more detail. In particular, a nice way to visualize\n",
      "the extent of the regressor's success is to make a scatter plot of predicted rating versus actual rating for the set of test reviews."
     ]
    },
    {
     "cell_type": "code",
     "collapsed": false,
     "input": [
      "scores_pred_test = try_k_value(400)\n",
      "plt.scatter(scores[ind_test], scores_pred_test,edgecolor='none', s=2)\n",
      "plt.plot(np.array([0,10]), np.array([0,10]), c='r')\n",
      "plt.xlim((0,10))\n",
      "plt.ylim((4,9))\n",
      "plt.xlabel('true test example rating')\n",
      "plt.ylabel('k=400 KNN regression predicted rating')"
     ],
     "language": "python",
     "metadata": {},
     "outputs": [
      {
       "metadata": {},
       "output_type": "pyout",
       "prompt_number": 93,
       "text": [
        "<matplotlib.text.Text at 0x1102cd110>"
       ]
      },
      {
       "metadata": {},
       "output_type": "display_data",
       "png": "[encoded data removed]",
       "text": [
        "<matplotlib.figure.Figure at 0x10a72f1d0>"
       ]
      }
     ],
     "prompt_number": 93
    },
    {
     "cell_type": "markdown",
     "metadata": {},
     "source": [
      "For a perfect KNN regressor, this plot would show the points lining up exactly along the line Y=X (shown in red in the plot above). Clearly, our regressor does not meet this standard of perfection. Hover there certainly appears to be a clear correlation between the predicted and true ratings, as shown by the blue data points. Thus, we have achieved a degree of success in predicting numerical ratings based on review text."
     ]
    },
    {
     "cell_type": "markdown",
     "metadata": {},
     "source": [
      "##10. Cleaning Features with Regular Expressions"
     ]
    },
    {
     "cell_type": "markdown",
     "metadata": {},
     "source": [
      "Even in our optimized Naive Bayes classifier, we have been fairly cavalier about the features that are allowed to factor into our model. This is becuase we only filtered features using a single very weak constraint on the frequency with which a word must appear in the corpus. But, as we will see below, there are still dozens of features in our optimized model which realistically don't make sense to use in predicting text sentiment.\n",
      "\n",
      "One main deficiency in our filtering of features is that we never enforced that the words included in our \"bag of words\" should contain only alphabetical characters. As a result, our bag of words model includes features like \"2002\" and \"2k14\", which appear several times within the corpus, but could be damaging our Naive Bayes model moreso than helping to accurately classify text sentiment.\n",
      "\n",
      "We have therefore investigated filtering the bag of words features using regular expressions. This is achieved via the keyword\n",
      "argument `token_pattern` which is passed to the sci-kit learn `CountVectorizer`. By default, `CountVectorizer` requires features to contain at least two characters. To additionally filter in such a way as to only allow words composed entirely of alphabetical characters, we have set `token_pattern=ur'\\b[a-zA-Z][a-zA-Z]+\\b'`. In brief, this regular expression restricts to\n",
      "features to tokens which are only alphabetical characters (either upper or lower case, hence the `[a-zA-Z]`) and which have\n",
      "at least two alphabetical (hence why `[a-zA-Z]` is repeated twice in the pattern matching string).\n",
      "\n",
      "The following code constructs a new feature matrix $X_{regexp}$ based on tokenizing the corpus using this regular expression filter. The code also prints out the list of features which were included in our optimized Naive Bayes classifier of section 7 but have now been removed by the regexp filtering:"
     ]
    },
    {
     "cell_type": "code",
     "collapsed": false,
     "input": [
      "vectorizer_regexp = CountVectorizer(min_df=0.00013, token_pattern=ur'\\b[a-zA-Z][a-zA-Z]+\\b')\n",
      "vectorizer_regexp.fit(reviews)\n",
      "X_regexp = vectorizer_regexp.transform(reviews)\n",
      "words_no_regexp = set(vectorizer_opt.get_feature_names())\n",
      "words_regexp = set(vectorizer_regexp.get_feature_names())\n",
      "print \"FEATURES REMOVED BY REGEXP FILTERING\"\n",
      "print '*'*80\n",
      "words_removed = words_no_regexp.difference(words_regexp)\n",
      "for w in words_removed: print w + ' | ',"
     ],
     "language": "python",
     "metadata": {},
     "outputs": [
      {
       "output_type": "stream",
       "stream": "stdout",
       "text": [
        "FEATURES REMOVED BY REGEXP FILTERING\n",
        "********************************************************************************\n",
        "d\u00e9j\u00e0 |  pi\u00f1ata |  133 |  x3 |  ps2 |  ps3 |  5500 |  24 |  25 |  21st |  20 |  21 |  22 |  1942 |  2150 |  graw2 |  400 |  2015 |  2033 |  2017 |  2011 |  2010 |  2013 |  2012 |  1993 |  121 |  f355 |  dkc2 |  15 |  1997 |  16 |  51 |  50 |  2d |  2142 |  2k |  2k5 |  2k6 |  989 |  2k1 |  2k2 |  2k3 |  2k8 |  2k9 |  039 |  7th |  80 |  4x4 |  90s |  06 |  07 |  04 |  08 |  09 |  19th |  360 |  3d |  n64 |  2600 |  300 |  100 |  101 |  v8so |  2100 |  vx8000 |  sk8land |  32 |  30 |  35 |  2049 |  v4 |  514 |  30th |  3ds |  clich\u00e9d |  2nd |  60 |  2k7 |  64 |  3000 |  66 |  clich\u00e9s |  1987 |  2k14 |  2k15 |  2k12 |  2k13 |  2k10 |  2k11 |  1080 |  1989 |  m1 |  99 |  98 |  x8 |  2014 |  x2 |  90 |  95 |  97 |  96 |  11 |  10 |  13 |  12 |  1995 |  14 |  17 |  1996 |  19 |  18 |  10th |  2night |  151 |  f1 |  1980s |  1981 |  fury3 |  re4 |  233 |  40 |  ex2 |  80s |  sk8er |  200 |  145 |  76 |  v2 |  000 |  007 |  2009 |  3rd |  4x |  pok\u00e9mon |  2084 |  2002 |  2003 |  2000 |  2001 |  2006 |  2007 |  2004 |  2005 |  2008 |  800 | \n"
       ]
      }
     ],
     "prompt_number": 96
    },
    {
     "cell_type": "markdown",
     "metadata": {},
     "source": [
      "With these features remove, we want to see to what extent the Naive Bayes classifier with optimal (`min_df`, `alpha`) improves in test accuracy. Below I have printed out the train and test accuracy for such Naive Bayes classifiers, both with and without regexp filtering:"
     ]
    },
    {
     "cell_type": "code",
     "collapsed": false,
     "input": [
      "clf_regexp = MultinomialNB(alpha=1.7).fit(X_regexp[ind_train,:], Y[ind_train])\n",
      "\n",
      "print '*'*80\n",
      "print 'NO REGEXP FILTERING'\n",
      "print \"Training set accuracy: %0.2f%%\" % (100 * clf_opt.score(X_opt[ind_train,:], Y[ind_train]))\n",
      "print \"Test set accuracy: %0.2f%%\" % (100 * clf_opt.score(X_opt[ind_test,:], Y[ind_test]))\n",
      "\n",
      "print '*'*80\n",
      "print 'WITH REGEXP FILTERING'\n",
      "print \"Training set accuracy: %0.2f%%\" % (100 * clf_regexp.score(X_regexp[ind_train,:], Y[ind_train]))\n",
      "print \"Test set accuracy: %0.2f%%\" % (100 * clf_regexp.score(X_regexp[ind_test,:], Y[ind_test]))"
     ],
     "language": "python",
     "metadata": {},
     "outputs": [
      {
       "output_type": "stream",
       "stream": "stdout",
       "text": [
        "********************************************************************************\n",
        "NO REGEXP FILTERING\n",
        "Training set accuracy: 86.13%\n",
        "Test set accuracy: 75.93%\n",
        "********************************************************************************\n",
        "WITH REGEXP FILTERING\n",
        "Training set accuracy: 85.94%"
       ]
      },
      {
       "output_type": "stream",
       "stream": "stdout",
       "text": [
        "\n",
        "Test set accuracy: 75.98%\n"
       ]
      }
     ],
     "prompt_number": 97
    },
    {
     "cell_type": "markdown",
     "metadata": {},
     "source": [
      "We can see that the test accuracy score does not change in a significant way -- it increases by only 0.05%. This validates our cavalier attitude towards cleaning the features in section 7. The Naive Bayes classification scheme is sufficiently robust to not be confused by a few spurious features."
     ]
    },
    {
     "cell_type": "markdown",
     "metadata": {},
     "source": [
      "##11. Merging Features with Stemming"
     ]
    },
    {
     "cell_type": "markdown",
     "metadata": {},
     "source": [
      "Another potential deficiency of our Naive Bayes treatment from section 7 is that we have made no attempt to merge words with the same root, which typically convey similar sentiment, into single features. For example, treating \"awesome\" and \"awesomeness\" as a single feature might allow us to reduce the number of distinct features in our model, achieve a denser feature matrix, and end up with a more accurate model. \n",
      "\n",
      "\n",
      "In [natural language processing](http://en.wikipedia.org/wiki/Natural_language_processing), the feature merging we are describing is referred to as [\"stemming\"](http://en.wikipedia.org/wiki/Stemming). To address this, we have included a keyword option `stem` in the routine which loads the JSON scraped from GameSpot into an array of review text summaries. When we set `stem=True`, every token of every review is stemmed upon loading. Below we show the loading of stemmed reviews and print a few illustrative examples. Note also that we have applied the regexp filtering before stemming."
     ]
    },
    {
     "cell_type": "code",
     "collapsed": false,
     "input": [
      "reviews_stemmed, scores = load_reviews_scores(stem=True)"
     ],
     "language": "python",
     "metadata": {},
     "outputs": [],
     "prompt_number": 98
    },
    {
     "cell_type": "code",
     "collapsed": false,
     "input": [
      "print '[NOT STEMMED]', reviews[6]\n",
      "print '[STEMMED]    ', reviews_stemmed[6]\n",
      "print '*'*80\n",
      "\n",
      "print '[NOT STEMMED]', reviews[7]\n",
      "print '[STEMMED]    ', reviews_stemmed[7]\n",
      "print '*'*80\n",
      "\n",
      "print '[NOT STEMMED]', reviews[15]\n",
      "print '[STEMMED]    ', reviews_stemmed[15]\n",
      "print '*'*80"
     ],
     "language": "python",
     "metadata": {},
     "outputs": [
      {
       "output_type": "stream",
       "stream": "stdout",
       "text": [
        "[NOT STEMMED]  101 simulates the chaos of an airborne drop very well, and the level of detail is tremendous.\n",
        "[STEMMED]      simul the chao of an airborn drop veri well and the level of detail is tremend\n",
        "********************************************************************************\n",
        "[NOT STEMMED]  1080 Avalanche delivers a sometimes thrilling sensation of speed and features a number of nice touches not found in other snowboarding games, but it has very limited lasting value.\n",
        "[STEMMED]      Avalanch deliv sometim thrill sensat of speed and featur number of nice touch not found in other snowboard game but it ha veri limit last valu\n",
        "********************************************************************************\n",
        "[NOT STEMMED]  187 Ride or Die is a fairly standard car combat game with extremely repetitive gameplay and a hip-hop theme that feels about as fake and forced as it possibly could.\n",
        "[STEMMED]      Ride or Die is fairli standard car combat game with extrem repetit gameplay and hip hop theme that feel about as fake and forc as it possibl could\n",
        "********************************************************************************\n"
       ]
      }
     ],
     "prompt_number": 142
    },
    {
     "cell_type": "markdown",
     "metadata": {},
     "source": [
      "With stemmed reviews in hand, we compare the Naive Bayes classification accuracy when including this stemming and regexp to the accuracy of section 7 (neither stemming nor regexp filtering), to see if an increased accuracy is achieved via stemming."
     ]
    },
    {
     "cell_type": "code",
     "collapsed": false,
     "input": [
      "vectorizer_stemmed = CountVectorizer(min_df=0.00013)\n",
      "vectorizer_stemmed.fit(reviews_stemmed)\n",
      "X_stemmed = vectorizer_stemmed.transform(reviews_stemmed)"
     ],
     "language": "python",
     "metadata": {},
     "outputs": [],
     "prompt_number": 143
    },
    {
     "cell_type": "code",
     "collapsed": false,
     "input": [
      "print X_stemmed.shape\n",
      "print X_opt.shape"
     ],
     "language": "python",
     "metadata": {},
     "outputs": [
      {
       "output_type": "stream",
       "stream": "stdout",
       "text": [
        "(11803, 5789)\n",
        "(11803, 7764)\n"
       ]
      }
     ],
     "prompt_number": 144
    },
    {
     "cell_type": "markdown",
     "metadata": {},
     "source": [
      "The above cell illustrates that, although `dfmin` has been fixed to its optimal value from section 7, there are now 5789 features in our model, as opposed to 7764 without any stemming or regexp filtering. This is largely the point of stemming: to avoid having redundant features and use a model with the smallest possible number of features. The following cell prints out the train and test accuracies of our Naive Bayes classifier with stemming and regexp filtering:"
     ]
    },
    {
     "cell_type": "code",
     "collapsed": false,
     "input": [
      "clf_stemmed = MultinomialNB(alpha=1.7).fit(X_stemmed[ind_train,:], Y[ind_train])\n",
      "print 'WITH FEATURE STEMMING'\n",
      "print \"Training set accuracy: %0.2f%%\" % (100 * clf_stemmed.score(X_stemmed[ind_train,:], Y[ind_train]))\n",
      "print \"Test set accuracy: %0.2f%%\" % (100 * clf_stemmed.score(X_stemmed[ind_test,:], Y[ind_test]))"
     ],
     "language": "python",
     "metadata": {},
     "outputs": [
      {
       "output_type": "stream",
       "stream": "stdout",
       "text": [
        "WITH FEATURE STEMMING\n",
        "Training set accuracy: 84.25%\n",
        "Test set accuracy: 76.26%\n"
       ]
      }
     ],
     "prompt_number": 66
    },
    {
     "cell_type": "markdown",
     "metadata": {},
     "source": [
      "Evidently the test accuracy score goes up by only $\\sim$0.3% when using stemming and regexp filtering relative to the case of using neither as in section 7. On one hand this seems disappointing, but on the other hand it justifies our simplistic approach in section 7."
     ]
    },
    {
     "cell_type": "markdown",
     "metadata": {},
     "source": [
      "##12. Visualizing the Classification Results"
     ]
    },
    {
     "cell_type": "code",
     "collapsed": false,
     "input": [
      "words_opt = np.array(vectorizer_opt.get_feature_names())\n",
      "x_1word = np.eye(X_opt.shape[1])\n",
      "probs_1word = clf_opt.predict_proba(x)[:, 1]\n",
      "# get the tokenizer\n",
      "tokenizer_opt = vectorizer_opt.build_tokenizer()\n",
      "\n",
      "def text2problist(text):\n",
      "    \"\"\"Transform a string of text to an appropriate ordered array of P(good|word)\"\"\"\n",
      "    probs_list = []\n",
      "    # tokenize\n",
      "    words = tokenizer_opt(text)\n",
      "    # for each token do a fit_transform\n",
      "    for word in words:\n",
      "    # figure out which index is nonzero\n",
      "        w = np.where((words_opt == word))\n",
      "        if len(w[0])==0:\n",
      "            probs_list.append(0.5)\n",
      "        else:\n",
      "            probs_list.append(probs_1word[w[0][0]])\n",
      "    return probs_list, words"
     ],
     "language": "python",
     "metadata": {},
     "outputs": [],
     "prompt_number": 248
    },
    {
     "cell_type": "code",
     "collapsed": false,
     "input": [
      "def sentiment_barplot(text, classify=False):\n",
      "    ppp, www = text2problist(text)\n",
      "    plt.figure(figsize=(6, 0.5*len(www)))\n",
      "    plt.barh(np.arange(len(ppp)), np.zeros(len(ppp))+1, color='r')\n",
      "    plt.barh(np.arange(len(ppp)), ppp[::-1])\n",
      "    plt.yticks(np.arange(len(ppp))+0.5)\n",
      "\n",
      "    ax = plt.gca()\n",
      "    labels = [item.get_text() for item in ax.get_yticklabels()]\n",
      "    for i in range(len(labels)):\n",
      "        labels[i] = www[len(www)-i-1]\n",
      "\n",
      "    ax.set_yticklabels(labels, fontsize=16)\n",
      "    plt.xlabel('blue=P(positive|word), red=P(negative|word)', fontsize=14)\n",
      "    if classify:\n",
      "        ppositive = (clf_opt.predict_proba(vectorizer_opt.transform([text])))[0][1]\n",
      "        plt.title('P(positive|text) = ' + str(round(ppositive,2)))\n",
      "        plt.plot(np.array([ppositive, ppositive]), np.array([0, len(www)]), c='w', linestyle=':', linewidth=3)\n",
      "\n",
      "# try a fake toy example of a very short, positive review\n",
      "sentiment_barplot('this game is superb', classify=True)"
     ],
     "language": "python",
     "metadata": {},
     "outputs": [
      {
       "metadata": {},
       "output_type": "display_data",
       "png": "[encoded data removed]",
       "text": [
        "<matplotlib.figure.Figure at 0x1103d88d0>"
       ]
      }
     ],
     "prompt_number": 261
    },
    {
     "cell_type": "code",
     "collapsed": false,
     "input": [
      "sentiment_barplot(reviews[8], classify=True)"
     ],
     "language": "python",
     "metadata": {},
     "outputs": [
      {
       "metadata": {},
       "output_type": "display_data",
       "png": "[encoded data removed]",
       "text": [
        "<matplotlib.figure.Figure at 0x10ecb04d0>"
       ]
      }
     ],
     "prompt_number": 262
    },
    {
     "cell_type": "code",
     "collapsed": false,
     "input": [
      "sentiment_barplot(reviews[29], classify=True)"
     ],
     "language": "python",
     "metadata": {},
     "outputs": [
      {
       "metadata": {},
       "output_type": "display_data",
       "png": "[encoded data removed]",
       "text": [
        "<matplotlib.figure.Figure at 0x10e07cc10>"
       ]
      }
     ],
     "prompt_number": 263
    },
    {
     "cell_type": "code",
     "collapsed": false,
     "input": [
      "sentiment_barplot(reviews[42], classify=True)"
     ],
     "language": "python",
     "metadata": {},
     "outputs": [
      {
       "metadata": {},
       "output_type": "display_data",
       "png": "[encoded data removed]",
       "text": [
        "<matplotlib.figure.Figure at 0x10bca4090>"
       ]
      }
     ],
     "prompt_number": 267
    },
    {
     "cell_type": "markdown",
     "metadata": {},
     "source": [
      "## 13. Full-Circle: Classifying Giant Bomb Reviews"
     ]
    },
    {
     "cell_type": "code",
     "collapsed": false,
     "input": [
      "def load_gb_reviews():\n",
      "    \"\"\"Helper routine to read in the files written while querying the GiantBomb API\"\"\"\n",
      "    flist = os.listdir('data/gb_review_text')\n",
      "    gb_reviews = []\n",
      "    gb_scores = []\n",
      "    for f in flist:\n",
      "        jf = json.load(open(os.path.join('data/gb_review_text', f)))\n",
      "        for result in jf['results']:\n",
      "            gb_reviews.append(result['deck'])\n",
      "            gb_scores.append(float(result['score']))\n",
      "    return np.array(gb_reviews), np.array(gb_scores)"
     ],
     "language": "python",
     "metadata": {},
     "outputs": [],
     "prompt_number": 305
    },
    {
     "cell_type": "code",
     "collapsed": false,
     "input": [
      "# invoke the helper routine to get all of the reviews and scores available from GiantBomb\n",
      "gb_reviews, gb_scores = load_gb_reviews()"
     ],
     "language": "python",
     "metadata": {},
     "outputs": [],
     "prompt_number": 306
    },
    {
     "cell_type": "code",
     "collapsed": false,
     "input": [
      "len(gb_reviews), len(gb_scores)"
     ],
     "language": "python",
     "metadata": {},
     "outputs": [
      {
       "metadata": {},
       "output_type": "pyout",
       "prompt_number": 293,
       "text": [
        "(646, 646)"
       ]
      }
     ],
     "prompt_number": 293
    },
    {
     "cell_type": "code",
     "collapsed": false,
     "input": [
      "print gb_reviews[0] + '' + ' | SCORE =' + str(int(gb_scores[0]))"
     ],
     "language": "python",
     "metadata": {},
     "outputs": [
      {
       "output_type": "stream",
       "stream": "stdout",
       "text": [
        "Adding an online video repository and an online store full of songs takes SingStar to exciting new heights. | SCORE =4\n"
       ]
      }
     ],
     "prompt_number": 295
    },
    {
     "cell_type": "markdown",
     "metadata": {},
     "source": [
      "In analogy to the the GameSpot review methodology, we take GiantBomb scores greater than 3.5 to be \"positive\" and less than or equal to 3.5 to be \"negative\". Conveniently, this results in almost the same degree of balance between positive and negative reviews for both the GameSpot and GiantBomb data sets. This makes possible a fair comparison between the classification accuracies for these two data sets -- if one data set were significantly more unbalanced, we'd need to take additional steps to account for this."
     ]
    },
    {
     "cell_type": "code",
     "collapsed": false,
     "input": [
      "np.sum(gb_scores > 3.5)/float(len(gb_scores))\n",
      "Y_gb = (gb_scores > 3.5).astype(int)"
     ],
     "language": "python",
     "metadata": {},
     "outputs": [],
     "prompt_number": 303
    },
    {
     "cell_type": "markdown",
     "metadata": {},
     "source": [
      "Now perform Naive Bayes classification on the GiantBomb reviews, using the optimized classifier trained on the GameSpot reviews:"
     ]
    },
    {
     "cell_type": "code",
     "collapsed": false,
     "input": [
      "X_gb = vectorizer_opt.transform(gb_reviews)\n",
      "print 'The accuracy of the optimized classifier trained on GameSpot data, when applied to GiantBomb data is', \\\n",
      "       clf_opt.score(X_gb, Y_gb)"
     ],
     "language": "python",
     "metadata": {},
     "outputs": [
      {
       "output_type": "stream",
       "stream": "stdout",
       "text": [
        "The accuracy of the optimized classifier trained on GameSpot data, when applied to GiantBomb data is 0.752321981424\n"
       ]
      }
     ],
     "prompt_number": 309
    },
    {
     "cell_type": "markdown",
     "metadata": {},
     "source": [
      "We can see above that the classifier is still $\\sim$75.2% accurate when applied to the GiantBomb reviews, even though the classifier was trained on data from a completely different source. This is only $\\sim$0.7% less accurate than the classifier was when predicting GameSpot sentiment. That is really amazing! This also hints at the feasibility of the big-picture goal discussed in the introduction of training machine learning tools to handle *any* arbitrary video-game related text found on the internet."
     ]
    },
    {
     "cell_type": "markdown",
     "metadata": {},
     "source": [
      "##14. Conclusions"
     ]
    },
    {
     "cell_type": "code",
     "collapsed": false,
     "input": [],
     "language": "python",
     "metadata": {},
     "outputs": []
    }
   ],
   "metadata": {}
  }
 ]
}