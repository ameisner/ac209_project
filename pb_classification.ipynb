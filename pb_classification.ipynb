{
 "metadata": {
  "name": "",
  "signature": "sha256:d47b0b99c45ff441606d16c0f43cd0c188e948a1c394a325ddadbbe2d4163ab3"
 },
 "nbformat": 3,
 "nbformat_minor": 0,
 "worksheets": [
  {
   "cells": [
    {
     "cell_type": "markdown",
     "metadata": {},
     "source": [
      "# Classification Process Book"
     ]
    },
    {
     "cell_type": "code",
     "collapsed": false,
     "input": [
      "import numpy as np\n",
      "from scipy.stats import scoreatpercentile\n",
      "from sklearn.feature_extraction.text import CountVectorizer\n",
      "from sklearn.cross_validation import train_test_split\n",
      "from sklearn.naive_bayes import MultinomialNB\n",
      "import sklearn.grid_search\n",
      "from sklearn.ensemble import RandomForestClassifier\n",
      "import cPickle\n",
      "import matplotlib.pyplot as plt\n",
      "%matplotlib inline"
     ],
     "language": "python",
     "metadata": {},
     "outputs": [],
     "prompt_number": 1
    },
    {
     "cell_type": "markdown",
     "metadata": {},
     "source": [
      "#1. The Problem\n",
      "\n",
      "We wish to perform text classification and regression on GameSpot video game reviews. The classification will take the form of labeling each review as either \"positive\" or \"negative\" based on its numerical score and training/optimizing various classifiers to predict \"positive\" versus \"negative\" sentiment based on review text. This classification goal was inspired by the application of Naive Bayes classification to Rotten Tomatoes movie reviews (\"fresh\" versus \"rotten\") in the Bayesian Tomatoes exercise from AC209 Fall 2013. Here we extend this prior work in several ways:\n",
      "1. We apply Naive Bayes classification to video game reviews from GameSpot rather than movie reviews from Rotten Tomatoes.\n",
      "2. We apply random forest classification and compare its results to those of Naive Bayes classification.\n",
      "3. We attempt to predict numerical review scores using k nearest neighbors regression.\n",
      "4. We apply feature-cleaning techniques such as regular expressions and stemming to the video game review corpus."
     ]
    },
    {
     "cell_type": "markdown",
     "metadata": {},
     "source": [
      "#2. Preliminaries"
     ]
    },
    {
     "cell_type": "markdown",
     "metadata": {},
     "source": [
      "The first step to running any text analysis on the reviews is to load them into numpy arrays from the JSON file we constructed while scraping.\n",
      "To do this, we have written a Python utility script called `load_reviews_scores.py`. This script offers the option of either stemming or not stemming the words in the reviews as an additional preprocessing step, via the `stem` keyword in the `load_reviews_scores` function. The following code cell prints the contents of this file:"
     ]
    },
    {
     "cell_type": "code",
     "collapsed": false,
     "input": [
      "print open('load_reviews_scores.py').read()"
     ],
     "language": "python",
     "metadata": {},
     "outputs": [
      {
       "output_type": "stream",
       "stream": "stdout",
       "text": [
        "# written by Aaron Meisner, 12/4/2014\n",
        "\n",
        "import json\n",
        "import numpy as np\n",
        "from nltk.tokenize import RegexpTokenizer\n",
        "from nltk.stem.porter import PorterStemmer\n",
        "\n",
        "def remove_empty_reviews(rev_list, scores):\n",
        "    l = np.array([len(r.replace(' ', '')) for r in rev_list])\n",
        "\n",
        "    return rev_list[l > 0], scores[l > 0]\n",
        "\n",
        "def load_reviews_scores(stem=False):\n",
        "    f = open('data/gamespot.json')\n",
        "    data = json.load(f)\n",
        "\n",
        "    rev_list = np.array([g['summary'] for g in data])\n",
        "    scores = np.array([g['score'] for g in data]).astype(float)\n",
        "\n",
        "    rev_list, scores = remove_empty_reviews(rev_list, scores)\n",
        "\n",
        "    u, ind_u = np.unique(rev_list, return_index=True)\n",
        "    rev_list = rev_list[ind_u]\n",
        "    scores = scores[ind_u]\n",
        "\n",
        "    if stem:\n",
        "        stemmer = PorterStemmer()\n",
        "        rev_list_stemmed = []\n",
        "        tokenizer = RegexpTokenizer(ur'\\b[a-zA-Z][a-zA-Z]+\\b')\n",
        "\n",
        "        for rev in rev_list:\n",
        "            tokens = tokenizer.tokenize(rev)\n",
        "            stemmed = \"\"\n",
        "            for token in tokens:\n",
        "                stemmed = stemmed + \" \" + stemmer.stem(token)\n",
        "            rev_list_stemmed.append(stemmed)\n",
        "        return rev_list_stemmed, scores\n",
        "    else:\n",
        "        return rev_list, scores\n",
        "\n"
       ]
      }
     ],
     "prompt_number": 2
    },
    {
     "cell_type": "markdown",
     "metadata": {},
     "source": [
      "##3. The Baseline"
     ]
    },
    {
     "cell_type": "markdown",
     "metadata": {},
     "source": [
      "In any machine learning task, especially classification, it is extremely important to establish a baseline accuracy for the *simplest possible model*. In our case, the simplest possible model corresponds to guessing that all reviews are positive or all reviews are negative, without any examination of the review text. If we do not choose our threshold for \"positive\" versus \"negative\" reviews carefully, we will end up with an unbalanced set of examples for which it is difficult to interpret accuracy scores. For example, in the classic fraud detection problem, 99.99% of examples could be non-fraudulent, and therefore a trivial solution can produce 99.99% nominal accuracy, depending on the accuracy metric used. In order to avoid the subtleties introduced by unbalanced examples, we will choose the boundary between \"positive\" and \"negative\" reviews which makes the examples maximally balanced. Below is code showing how we choose the boundary between positive and negative reviews."
     ]
    },
    {
     "cell_type": "code",
     "collapsed": false,
     "input": [
      "from load_reviews_scores import load_reviews_scores\n",
      "reviews, scores = load_reviews_scores()"
     ],
     "language": "python",
     "metadata": {},
     "outputs": [],
     "prompt_number": 3
    },
    {
     "cell_type": "code",
     "collapsed": false,
     "input": [
      "print 'The median review score is ', scoreatpercentile(scores, 50)\n",
      "print 'The fraction of reviews that have score greater than or equal to 7 is', float(np.sum(scores >=  7))/len(scores)\n",
      "print 'The fraction of reviews that have score greater than 7 is', float(np.sum(scores > 7))/len(scores)"
     ],
     "language": "python",
     "metadata": {},
     "outputs": [
      {
       "output_type": "stream",
       "stream": "stdout",
       "text": [
        "The median review score is  7.0\n",
        "The fraction of reviews that have score greater than or equal to 7 is 0.535880708295\n",
        "The fraction of reviews that have score greater than 7 is 0.461747013471\n"
       ]
      }
     ],
     "prompt_number": 4
    },
    {
     "cell_type": "markdown",
     "metadata": {},
     "source": [
      "The above printouts show that we can get closest to an even split of the data by labeling \"positive\" reviews as those with score greater than\n",
      "or equal to seven, and \"negative\" reviews as those with score less than seven. With this choice of threshold, a trivial solution can achieve accuracy of 53.6% at best, by guessing that every review is positive."
     ]
    },
    {
     "cell_type": "markdown",
     "metadata": {},
     "source": [
      "##4. Train/Test Split"
     ]
    },
    {
     "cell_type": "markdown",
     "metadata": {},
     "source": [
      "In the Bayesian Tomatoes exercise, 3000 reviews were collected in total. Here, we have nearly 12000 reviews. Thus, we have plenty of data and can choose a substantial number of reviews to be set aside completely as test examples, which are not used at any point during training or cross-validation."
     ]
    },
    {
     "cell_type": "code",
     "collapsed": false,
     "input": [
      "print 'The total number of GameSpot reviews that we have is', len(reviews)"
     ],
     "language": "python",
     "metadata": {},
     "outputs": [
      {
       "output_type": "stream",
       "stream": "stdout",
       "text": [
        "The total number of GameSpot reviews that we have is 11803\n"
       ]
      }
     ],
     "prompt_number": 5
    },
    {
     "cell_type": "markdown",
     "metadata": {},
     "source": [
      "Throughout our machine learning work, we will set aside aside 1803 of our examples as a test set, leaving 10000 examples on which to train and cross-validate our classification/regression models."
     ]
    },
    {
     "cell_type": "markdown",
     "metadata": {},
     "source": [
      "In order to perform our train/test split, we need to set up our feature matrix $X$ and target vector $Y$. As in Bayesian Tomatoes, we take features to be individual words by using the [bag of words](http://en.wikipedia.org/wiki/Bag-of-words_model) technique. It is extremely important to keep in mind that this bag of words model considers a block of text to be a random accumulation of various words, and that this model makes no attempt whatsoever to account for the order/grammatical structure in which these words are arranged. This is obviously a gigantic oversimplification, but it makes the problem at hand much more computationally tractable; to whatever extent higher-order groupings of words are taken as features, the classification becomes combinatorically more computationally demanding. In the following cell we set up the feature matrix $X$ using the bag of words model:"
     ]
    },
    {
     "cell_type": "code",
     "collapsed": false,
     "input": [
      "vectorizer = CountVectorizer()\n",
      "vectorizer.fit(reviews)\n",
      "X = vectorizer.transform(reviews)"
     ],
     "language": "python",
     "metadata": {},
     "outputs": [],
     "prompt_number": 6
    },
    {
     "cell_type": "markdown",
     "metadata": {},
     "source": [
      "Per the discussion above, the target vector $Y$ will simply be a vector of 1's and 0's and is easy to calculate. We will choose the labels such that 1 corresponds to a \"positive\" review, and \"0\" corresponds to a \"negative review\""
     ]
    },
    {
     "cell_type": "code",
     "collapsed": false,
     "input": [
      "Y = (scores >= 7).astype(int)"
     ],
     "language": "python",
     "metadata": {},
     "outputs": [],
     "prompt_number": 7
    },
    {
     "cell_type": "markdown",
     "metadata": {},
     "source": [
      "We can check that X and Y have compatible dimensions:"
     ]
    },
    {
     "cell_type": "code",
     "collapsed": false,
     "input": [
      "print X.shape\n",
      "print Y.shape"
     ],
     "language": "python",
     "metadata": {},
     "outputs": [
      {
       "output_type": "stream",
       "stream": "stdout",
       "text": [
        "(11803, 13631)\n",
        "(11803,)\n"
       ]
      }
     ],
     "prompt_number": 8
    },
    {
     "cell_type": "markdown",
     "metadata": {},
     "source": [
      "Note that the second dimension of $X$ encodes the number of features. With this default vectorizer, we actually have more \n",
      "features than examples! The number of features can be adjusted with the `df_min` parameter of CountVectorizer. We will tune this `df_min` parameter later."
     ]
    },
    {
     "cell_type": "markdown",
     "metadata": {},
     "source": [
      "Now we can actually perform the train/test split. The train/test split in this case is somewhat subtle, because we will tune the `min_df` parameter (see below), which actually *changes the dimensions* of the feature matrix $X$. Therefore, in order to make sure we keep our test data truly separate from the training/cross-validation process, we will perform our train/test split by saving the *indices* of the reviews which will be used for training, and those which will be saved for testing:"
     ]
    },
    {
     "cell_type": "code",
     "collapsed": false,
     "input": [
      "np.random.seed(seed=99)\n",
      "ind_train = np.random.choice(len(reviews), 10000, replace=False) \n",
      "ind_all = np.arange(len(reviews))\n",
      "ind_test = np.array(list(set(ind_all).difference(set(ind_train))))"
     ],
     "language": "python",
     "metadata": {},
     "outputs": [],
     "prompt_number": 28
    },
    {
     "cell_type": "markdown",
     "metadata": {},
     "source": [
      "Because some of the classifier training happens via auxiliary scripts outside of this notebook (due to the computational infeasibility of running everything within the notebook), it is necessary to write out these train/test indices to files which can be read in by these auxiliary scripts."
     ]
    },
    {
     "cell_type": "code",
     "collapsed": false,
     "input": [
      "o_train = open('data/ind_train.pkl', 'wb')\n",
      "cPickle.dump(ind_train, o_train)\n",
      "o_train.close()\n",
      "\n",
      "o_test = open('data/ind_test.pkl','wb')\n",
      "cPickle.dump(ind_test, o_test)\n",
      "o_test.close()"
     ],
     "language": "python",
     "metadata": {},
     "outputs": [],
     "prompt_number": 10
    },
    {
     "cell_type": "markdown",
     "metadata": {},
     "source": [
      "##5. Naivest Bayes"
     ]
    },
    {
     "cell_type": "markdown",
     "metadata": {},
     "source": [
      "Here we try the simplest possible version of Naive Bayes classification. As demonstrated in Bayesian Tomatoes, there are two important parameters which must be tuned. The first is `min_df`, which encodes the minimum frequency with which a word must appear in the training corpus in order to become a feature of the model. This is useful in getting rid of random junk which may have been accidentally incorporated into the review text during scraping, or words which are proper nouns (e.g. game names) rather than part of the standard english vocabulary. In Bayesian tomatoes, it was found that `min_df`=0.001 is optimal, but here in our \"Naivest Bayes\" experiment, we simply use the default value, which includes all words that appear even once in the corpus as features. The other important parameter that should be tuned is called `alpha`, the additive (Laplace/Lidstone) smoothing parameter, which effectively smooths out individual features and thereby dictates how strongly the predicted positive/negative probabilities are dragged toward 0.50. Here, to establish a baseline, we adopt the default value of `alpha`=1."
     ]
    },
    {
     "cell_type": "code",
     "collapsed": false,
     "input": [
      "clf = MultinomialNB().fit(X[ind_train,:], Y[ind_train])\n",
      "print \"Training set accuracy: %0.2f%%\" % (100 * clf.score(X[ind_train,:], Y[ind_train]))\n",
      "print \"Test set accuracy: %0.2f%%\" % (100 * clf.score(X[ind_test,:], Y[ind_test]))"
     ],
     "language": "python",
     "metadata": {},
     "outputs": [
      {
       "output_type": "stream",
       "stream": "stdout",
       "text": [
        "Training set accuracy: 89.27%\n",
        "Test set accuracy: 75.43%\n"
       ]
      }
     ],
     "prompt_number": 12
    },
    {
     "cell_type": "markdown",
     "metadata": {},
     "source": [
      "Thus, without being careful about cleaning or stemming our features, and without any cross-validation to tune the model parameters, we can already achieve an accuracy of $\\sim$75.4% on the test data. That's pretty good!"
     ]
    },
    {
     "cell_type": "markdown",
     "metadata": {},
     "source": [
      "##6. Cross-Validation Framework"
     ]
    },
    {
     "cell_type": "markdown",
     "metadata": {},
     "source": [
      "Cross-validation will consist of running a two-dimensional grid in (`min_df`, `alpha`) to find the combination of these parameters which yields the highest cross-validation accuracy score during 10-fold cross-validation. Note that it is not possible in this situation to trivially use GridSearchSV as in Homework 3, because technically `min_df` is not a parameter of the Naive Bayes classifier, but rather it *dictates the shape and contents of the feature matrix, irrespective of the model trained on the feature matrix to predict the target*. Therefore, we have written a custom script to search for the optimal (`min_df`, `alpha`) pair for the Naive Bayes classification. This script is printed below:"
     ]
    },
    {
     "cell_type": "code",
     "collapsed": false,
     "input": [
      "print open('crossval_naive_bayes.py').read()"
     ],
     "language": "python",
     "metadata": {},
     "outputs": [
      {
       "output_type": "stream",
       "stream": "stdout",
       "text": [
        "#!/usr/bin/env python\n",
        "# written by Aaron Meisner, 12/5/2014\n",
        "\n",
        "import cPickle\n",
        "import numpy as np\n",
        "from sklearn.feature_extraction.text import CountVectorizer\n",
        "from sklearn.naive_bayes import MultinomialNB\n",
        "import sklearn.grid_search\n",
        "from load_reviews_scores import load_reviews_scores\n",
        "\n",
        "def crossval_naive_bayes(stem=False, regex=False):\n",
        "    # load review/score data (pass stem keyword along)\n",
        "    reviews, scores = load_reviews_scores(stem=stem)\n",
        "\n",
        "    # construct target vector\n",
        "    Y = (scores >= 7)\n",
        "\n",
        "    # load train/test indices\n",
        "    ind_train = cPickle.load(file('data/ind_train.pkl'))\n",
        "\n",
        "    # make array of candidate min_df values\n",
        "    min_dfs = np.arange(0.00008, 0.01002, 0.00002)\n",
        "    # make array of candidate alpha values\n",
        "    alphas = np.array([0.005, 0.1, 0.5, 1, 1.7, 1.8, 1.9, 2, 2.1, 2.2, 2.3, 5, \n",
        "                       10])\n",
        "\n",
        "    n_min_df = len(min_dfs)\n",
        "    n_alpha = len(alphas)\n",
        "\n",
        "    # initialize 2d grids holding cross-validation results\n",
        "    grid_cv_score = np.zeros((n_min_df, n_alpha))\n",
        "    grid_score_std = np.zeros((n_min_df, n_alpha))\n",
        "    grid_min_df = np.zeros((n_min_df, n_alpha))\n",
        "    grid_alpha = np.zeros((n_min_df, n_alpha))\n",
        "\n",
        "    parameters = {'alpha' : alphas}\n",
        "\n",
        "    for i, min_df in enumerate(min_dfs):\n",
        "    #   print out current min_df parameter value\n",
        "        print i, min_df\n",
        "    #   construct feature matrix \n",
        "        vectorizer = CountVectorizer(min_df=min_df)\n",
        "        vectorizer.fit(reviews)\n",
        "        X = vectorizer.transform(reviews)\n",
        "  \n",
        "    #   restrict to the training indices and run 10-fold CV with GridSearchCV\n",
        "        clf_gs = sklearn.grid_search.GridSearchCV(MultinomialNB(), parameters,\n",
        "                                                   cv=10)\n",
        "        clf_gs.fit(X[ind_train,:], Y[ind_train])\n",
        "        clf_gs.grid_scores_\n",
        "\n",
        "        cv_means = np.array([clf_gs.grid_scores_[j][1] for j in range(n_alpha)])\n",
        "        cv_stds = np.array([np.std(clf_gs.grid_scores_[j][2]) for j in range(n_alpha)])\n",
        "    #   store information about inputs and scores for this value of min_df\n",
        "        grid_cv_score[i, :] = cv_means\n",
        "        grid_score_std[i, :] = cv_stds\n",
        "        grid_min_df[i, :] = min_df\n",
        "        grid_alpha[i, :] = alphas\n",
        "\n",
        "    # write out 2d grids to pkl file\n",
        "    o_scores = open('data/grid_cv_score.pkl', 'wb')\n",
        "    cPickle.dump(grid_cv_score, o_scores)\n",
        "    o_scores.close()\n",
        "\n",
        "    o_score_stds = open('data/grid_score_std.pkl', 'wb')\n",
        "    cPickle.dump(grid_score_std, o_score_stds)\n",
        "    o_score_stds.close()\n",
        "\n",
        "    o_alphas = open('data/grid_alpha.pkl', 'wb')\n",
        "    cPickle.dump(grid_alpha, o_alphas)\n",
        "    o_alphas.close()\n",
        "\n",
        "    o_min_dfs = open('data/grid_min_df.pkl', 'wb')\n",
        "    cPickle.dump(grid_min_df, o_min_dfs)\n",
        "    o_min_dfs.close()\n",
        "\n"
       ]
      }
     ],
     "prompt_number": 13
    },
    {
     "cell_type": "markdown",
     "metadata": {},
     "source": [
      "##7. Tuned Naive Bayes Classifier\n",
      "\n",
      "We have applied the above ideas and script to search a rectangular grid in (`min_df`, `alpha`), where the `min_df` values are\n",
      "[0.00008, 0.0001, 0.00012, 0.00014, ..., 0.00980, 0.01] and the `alpha` values are [0.005, 0.1, 0.5, 1, 1.7, 1.8, 1.9, 2, 2.1, 2.2, 2.3, 5, 10]. This represents 497 `min_df` values and 13 `alpha` values, for a total of 6461 parameter choice pairs evaluated. Note that the `min_df` values are evenly spaced in increments of $2\\times10^{-5}$, whereas the `alpha` values are not evenly spaced.\n",
      "\n",
      "We define the \"optimal\" choice of (`min_df`, `alpha`) to be that which maximizes the cross-validation accuracy score. A colorscale map of the cross-validation accuracy score over the grid of (`min_df`, `alpha`), computed using `crossval_naive_bayes.py`, is shown below (top left subplot). For comparison and ease of interpretation, several additional related colormap figures are shown. The top right panel shows the standard deviation of the cross-validation score at every point in the grid, to give a sense of the uncertainty on each cross-validation accuracy shown in the top panel. The lower left panel shows the grid of `min_df` values used. The lower right panel shows the the grid of `alpha` values used."
     ]
    },
    {
     "cell_type": "code",
     "collapsed": false,
     "input": [
      "cv_scores = cPickle.load(file('data/grid_cv_score.pkl'))\n",
      "cv_scores_std = cPickle.load(file('data/grid_score_std.pkl'))\n",
      "alpha_grid = cPickle.load(file('data/grid_alpha.pkl'))\n",
      "min_df_grid = cPickle.load(file('data/grid_min_df.pkl'))"
     ],
     "language": "python",
     "metadata": {},
     "outputs": [],
     "prompt_number": 14
    },
    {
     "cell_type": "code",
     "collapsed": false,
     "input": [
      "# also show \"marginal\" 1D views?\n",
      "\n",
      "plt.figure(figsize=(14,12))\n",
      "plt.subplot(2,2,1)\n",
      "plt.title('cross-validation accuracy score')\n",
      "plt.imshow(cv_scores, interpolation='nearest', aspect=0.02)\n",
      "\n",
      "plt.subplot(2,2,2)\n",
      "plt.title('cross-validation accuracy score standard deviation')\n",
      "plt.imshow(cv_scores_std, interpolation='nearest', aspect=0.02)\n",
      "\n",
      "plt.subplot(2,2,3)\n",
      "plt.title('min_df values for cross-validation grid')\n",
      "plt.imshow(min_df_grid, interpolation='nearest', aspect=0.02)\n",
      "\n",
      "plt.subplot(2,2,4)\n",
      "plt.title('alpha values for cross-validation grid')\n",
      "plt.imshow(alpha_grid, interpolation='nearest', aspect=0.02)"
     ],
     "language": "python",
     "metadata": {},
     "outputs": [
      {
       "metadata": {},
       "output_type": "pyout",
       "prompt_number": 19,
       "text": [
        "<matplotlib.image.AxesImage at 0x10c695d90>"
       ]
      },
      {
       "metadata": {},
       "output_type": "display_data",
       "png": "[encoded data removed]",
       "text": [
        "<matplotlib.figure.Figure at 0x108afd690>"
       ]
      }
     ],
     "prompt_number": 19
    },
    {
     "cell_type": "markdown",
     "metadata": {},
     "source": [
      "In the following cell, we take the initial steps toward determining the optimal choice of (`min_df`, `alpha`) based on the cross-validation accuracy grid shown above:"
     ]
    },
    {
     "cell_type": "code",
     "collapsed": false,
     "input": [
      "print \"The maximum cross-validation accuracy score is \", np.max(cv_scores)\n",
      "w = np.where(cv_scores == np.max(cv_scores))\n",
      "print \"The data points at which the maximum accuracy score is achieved have alpha=\", alpha_grid[w[0],w[1]]\n",
      "print \"The data points at which the maximum accuracy score is achieved have min_df=\", min_df_grid[w[0],w[1]]"
     ],
     "language": "python",
     "metadata": {},
     "outputs": [
      {
       "output_type": "stream",
       "stream": "stdout",
       "text": [
        "The maximum cross-validation accuracy score is  0.7663\n",
        "The data points at which the maximum accuracy score is achieved have alpha="
       ]
      },
      {
       "output_type": "stream",
       "stream": "stdout",
       "text": [
        " [ 1.7  1.7  1.7  1.7]"
       ]
      },
      {
       "output_type": "stream",
       "stream": "stdout",
       "text": [
        "\n",
        "The data points at which the maximum accuracy score is achieved have min_df= [ 0.0001   0.00012  0.00014  0.00016]\n"
       ]
      }
     ],
     "prompt_number": 20
    },
    {
     "cell_type": "markdown",
     "metadata": {},
     "source": [
      "We can see that there are actually four points in the grid tied for the best accuracy score. This can happen because only 1000 reviews are being used to calculate each cross-validation accuracy score, so the possible accuracy scores are effectively discretized. We can see that all of the best parameter choices have `alpha`=1.7, so for our \"optimized Naive Bayes classifier\" we will employ `alpha`=1.7. For the optimized Naive Bayes classifier, we will adopt a `min_df` value which is the median of the `min_df` values that are tied for the best cross-validation accuracy:"
     ]
    },
    {
     "cell_type": "code",
     "collapsed": false,
     "input": [
      "print \"We will adopt min_df=\", np.median(min_df_grid[w[0],w[1]]), \" for our optimized Naive Bayes classifier.\""
     ],
     "language": "python",
     "metadata": {},
     "outputs": [
      {
       "output_type": "stream",
       "stream": "stdout",
       "text": [
        "We will adopt min_df= 0.00013  for our optimized Naive Bayes classifier.\n"
       ]
      }
     ],
     "prompt_number": 23
    },
    {
     "cell_type": "markdown",
     "metadata": {},
     "source": [
      "We should take note of and attempt to understand this optimal value of  `min_df`. The default value of `min_df` corresponds to including every word that appears even once as a feature. With `min_df` at its default value, we have 13631 features. As shown below, with `min_df`=0.00013, we have only 7764 features. This means that the optimized Naive Bayes classifier uses approximately the most frequent half of all unique words as features."
     ]
    },
    {
     "cell_type": "code",
     "collapsed": false,
     "input": [
      "vectorizer_opt = CountVectorizer(min_df=0.00013)\n",
      "vectorizer_opt.fit(reviews)\n",
      "print \"In the optimized classifier, the most frequent \", len(vectorizer_opt.get_feature_names()), \" words are used as features.\""
     ],
     "language": "python",
     "metadata": {},
     "outputs": [
      {
       "output_type": "stream",
       "stream": "stdout",
       "text": [
        "In the optimized classifier, the most frequent  7764  words are used as features.\n"
       ]
      }
     ],
     "prompt_number": 24
    },
    {
     "cell_type": "markdown",
     "metadata": {},
     "source": [
      "It is also interesting to compare our optimal values of `alpha` and `min_df` to those found in the Bayesian Tomatoes study of movie reviews. In Bayesian Tomatoes, (`min_df`, `alpha`)=(0.001, 5) was determined to be optimal. Aside from the fact that our analysis and Bayesian Tomatoes rely upon completely different data sets, another reason we might end up with somewhat different values is that we chose to optimize the cross-validation accuracy score, whereas in Bayesian Tomatoes the log-likelihood was optimized. Using our optimal combination of (`min_df`, `alpha`) = (0.00013, 1.7) we can evaluate the *test* accuracy score, to see how much improvement has been achieved relative to simply using the default parameters."
     ]
    },
    {
     "cell_type": "code",
     "collapsed": false,
     "input": [
      "X_opt = vectorizer_opt.transform(reviews)\n",
      "clf_opt = MultinomialNB(alpha=1.7).fit(X_opt[ind_train,:], Y[ind_train])\n",
      "print \"Training set accuracy: %0.2f%%\" % (100 * clf_opt.score(X_opt[ind_train,:], Y[ind_train]))\n",
      "print \"Test set accuracy: %0.2f%%\" % (100 * clf_opt.score(X_opt[ind_test,:], Y[ind_test]))"
     ],
     "language": "python",
     "metadata": {},
     "outputs": [
      {
       "output_type": "stream",
       "stream": "stdout",
       "text": [
        "Training set accuracy: 86.13%\n",
        "Test set accuracy: 75.93%\n"
       ]
      }
     ],
     "prompt_number": 29
    },
    {
     "cell_type": "markdown",
     "metadata": {},
     "source": [
      "Notice that this test accuracy (75.93%) is only very slightly higher than the \"Naivest Bayes\" test accuracy (75.43%), by half a percent. This optimized optimized Naive Bayes classifier accuracy for video game reviews is very similar to that found for movie reviews in Bayesian Tomatoes: their final \"calibrated\" classifier had a test accuracy of 74%."
     ]
    },
    {
     "cell_type": "markdown",
     "metadata": {},
     "source": [
      "###7.1 Understanding the Naive Bayes Classifier\n",
      "\n",
      "With the \"heavy lifting\" of training, cross-validating, optimizing and testing our Naive Bayes classifier out of the way, we can demonstrate some of its amusing properties and capabilities. A reasonable first question to ask about the classifier is: Which features (individual words) are the most strongly indicative of a \"positive\" or \"negative\" review. A way to phrase this more quantitatively within the Naive Bayes framework is to ask: which words have the highest and lowest values of P(positive|word)? The words with highest P(positive|word) are most strongly indicative of a positive review, and the words with lowest P(positive|word) are most strongly indicative of a negative review. The following code prints out the ten most \n",
      "strongly positive and strongly negative words:"
     ]
    },
    {
     "cell_type": "code",
     "collapsed": false,
     "input": [
      "words = np.array(vectorizer_opt.get_feature_names())\n",
      "x = np.eye(X_opt.shape[1])\n",
      "probs = clf_opt.predict_log_proba(x)[:, 0]\n",
      "ix = np.argsort(probs)\n",
      "\n",
      "n_example=10\n",
      "\n",
      "good_words = words[ix[:n_example]]\n",
      "bad_words = words[ix[-n_example:]]\n",
      "bad_words = bad_words[::-1]\n",
      "\n",
      "good_prob = probs[ix[:n_example]]\n",
      "bad_prob = probs[ix[-n_example:]]\n",
      "bad_prob = bad_prob[::-1]\n",
      "\n",
      "print \"Best words\\t     P(positive | word)\"\n",
      "for w, p in zip(good_words, good_prob):\n",
      "    print \"%20s\" % w, \"%0.3f\" % (1 - np.exp(p))\n",
      "    \n",
      "print \"Worst words\\t     P(positive | word)\"\n",
      "for w, p in zip(bad_words, bad_prob):\n",
      "    print \"%20s\" % w, \"%0.3f\" % (1 - np.exp(p))"
     ],
     "language": "python",
     "metadata": {},
     "outputs": [
      {
       "output_type": "stream",
       "stream": "stdout",
       "text": [
        "Best words\t     P(positive | word)\n",
        "              superb 0.956\n",
        "            terrific 0.931\n",
        "               tight 0.928\n",
        "            stunning 0.928\n",
        "             crafted 0.925\n",
        "               notch 0.904\n",
        "         refinements 0.904\n",
        "                maps 0.904\n",
        "        successfully 0.902\n",
        "           excellent 0.900\n",
        "Worst words\t     P(positive | word)\n",
        "            terrible 0.036\n",
        "                dull 0.063\n",
        "               avoid 0.065\n",
        "          mediocrity 0.073\n",
        "              boring 0.074\n",
        "              poorly 0.076\n",
        "                mess 0.081\n",
        "       uninteresting 0.081\n",
        "              shoddy 0.085\n",
        "                rent 0.085\n"
       ]
      }
     ],
     "prompt_number": 30
    },
    {
     "cell_type": "markdown",
     "metadata": {},
     "source": [
      "These best/worst words are almost entirely self explanatory. For example, it would be unlikely to use the word \"superb\" in a negative review or to use the word \"mediocrity\" in a positive review. A few of these words are worthy of further exploration, which is possible by simply scanning through the input reviews for their occurence. In particular, it is interesting to investigate \"tight\", \"maps\" and \"rent\", which seem unexpected relative to the other best/worst words. The code in the cell below is a utility function to scan through the reviews for a single word:"
     ]
    },
    {
     "cell_type": "code",
     "collapsed": false,
     "input": [
      "def scan_for_word(word):\n",
      "    reviews_with_word = []\n",
      "    for review in reviews:\n",
      "        if review.find(word) != -1:\n",
      "            reviews_with_word.append(review)\n",
      "    return np.array(reviews_with_word)"
     ],
     "language": "python",
     "metadata": {},
     "outputs": [],
     "prompt_number": 32
    },
    {
     "cell_type": "markdown",
     "metadata": {},
     "source": [
      "Now we use this utility function to print out reviews containing the words with unexpectedly strong influence on sentiment:"
     ]
    },
    {
     "cell_type": "code",
     "collapsed": false,
     "input": [
      "print 'tight\\n' + '*'*80\n",
      "print scan_for_word(\" tight \")[1]\n",
      "print scan_for_word(\" tight \")[3]\n",
      "print scan_for_word(\" tight \")[7]\n",
      "\n",
      "print '\\nmaps\\n' + '*'*80\n",
      "print scan_for_word(\" maps \")[4]\n",
      "print scan_for_word(\" maps \")[5]\n",
      "print scan_for_word(\" maps \")[6]\n",
      "\n",
      "print '\\nrent\\n' + '*'*80\n",
      "print scan_for_word(\" rent \")[11]\n",
      "print scan_for_word(\" rent \")[0]\n",
      "print scan_for_word(\" rent \")[7]"
     ],
     "language": "python",
     "metadata": {},
     "outputs": [
      {
       "output_type": "stream",
       "stream": "stdout",
       "text": [
        "tight\n",
        "********************************************************************************\n",
        " Burnout is one of the most intense and entertaining racing games on the PlayStation 2, complete with tight controls and impressive graphics.\n",
        " No-frills realism and tight teamwork make Insurgency a welcome break from the status quo."
       ]
      },
      {
       "output_type": "stream",
       "stream": "stdout",
       "text": [
        "\n",
        " Super Mario 3D Land eases you in with creative level design and tight controls while leaving plenty of challenging content to be discovered.\n",
        "\n",
        "maps\n",
        "********************************************************************************\n",
        " Island Thunder offers more than enough in the way of a challenging single-player game and new multiplayer maps for players who are serious about tactical shooters."
       ]
      },
      {
       "output_type": "stream",
       "stream": "stdout",
       "text": [
        "\n",
        " The first booster pack for Battlefield 2142 offers up three exciting new maps and a new gameplay mode, making it a must-have for fans of the multiplayer action game.\n",
        " The nine new maps are outstanding, making one of the best-ever multiplayer shooters even better."
       ]
      },
      {
       "output_type": "stream",
       "stream": "stdout",
       "text": [
        "\n",
        "\n",
        "rent\n",
        "********************************************************************************\n",
        " The unfortunates who decide to rent or buy this game will be stuck with nothing more than a filthy, horribly buggy port of an already middling game.\n",
        " Buy Asteroids Hyper 64 if you really, really adore the classic Asteroids, but all others are advised to either rent it or forget about it entirely."
       ]
      },
      {
       "output_type": "stream",
       "stream": "stdout",
       "text": [
        "\n",
        " Parents whose kids have Scooby-Doo hot on the brain from the movie can safely rent this one, or not, without worry of missing much.\n"
       ]
      }
     ],
     "prompt_number": 34
    },
    {
     "cell_type": "markdown",
     "metadata": {},
     "source": [
      "So, apparently \"tight\" is among the most positive words because it's a common term used to compliment video game design (as opposed to \"tight\" in the [UrbanDictionary](http://www.urbandictionary.com/define.php?term=Tight&defid=116155) sense of the word). Also, \"maps\" are apparently a common feature of games to be complimented in reviews. Last, we can see that \"rent\" is such a negative indicator because suggesting that readers rent a game is effectively a way of insulting the game.\n",
      "\n",
      "Finally, we can verify that, as in the case of movie reviews, our video game review classifier is also ineffective at identifying negation. For instance, we can easily construct a review that is clearly negative, yet is misclassified because the word \"not\" has been used for negation of a positive word:"
     ]
    },
    {
     "cell_type": "code",
     "collapsed": false,
     "input": [
      "print \"P(negative), P(positive)\"\n",
      "# negative sentiment, wrongly classified as positive\n",
      "misclassified = 'This game is not excellent and could definitely use some refinements.'\n",
      "# positive sentiment with same important features (words) as prior example, correctly classified as positive\n",
      "properly_classified = 'Excellent refinements!'\n",
      "print clf_opt.predict_proba(vectorizer_opt.transform([misclassified])), misclassified\n",
      "print clf_opt.predict_proba(vectorizer_opt.transform([properly_classified])), properly_classified"
     ],
     "language": "python",
     "metadata": {},
     "outputs": [
      {
       "output_type": "stream",
       "stream": "stdout",
       "text": [
        "P(negative), P(positive)\n",
        "[[ 0.01258504  0.98741496]] This game is not excellent and could definitely use some refinements.\n",
        "[[ 0.01339007  0.98660993]] Excellent refinements!\n"
       ]
      }
     ],
     "prompt_number": 41
    },
    {
     "cell_type": "markdown",
     "metadata": {},
     "source": [
      "So the review \"This game is not excellent and could definitely use some refinements\", which humans would classify as having negative sentiment, is badly misclassified by our Naive Bayes classifier (98.7% probability of being positive) which fails to recognize the negation of \"excellent\" and the use of \"refinements\" which is referring to hypothetical/suggested refinements, rather than praising refinements which were actually implemented/included."
     ]
    },
    {
     "cell_type": "markdown",
     "metadata": {},
     "source": [
      "##8. Random Forest Classification"
     ]
    },
    {
     "cell_type": "markdown",
     "metadata": {},
     "source": [
      "Here we apply random forests to the classification problem at hand. Note that for the sake of reducing computational cost, we have set `min_df`=0.001, as smaller values allow for so many features that our local machine struggles due to RAM limitations. Note that this restriction means that only the most frequent 2057 words are used as features, which is a factor of $\\sim$3.5$\\times$ fewer features than used in the Naive Bayes classifier. Having adopted `min_df`=0.001, we only have one important parameter to tune, which is the number of trees in the random forest. The script printed below uses ten-fold cross-validation on the training sample to explore the change in accuracy score as a function of the number of trees in the forest:"
     ]
    },
    {
     "cell_type": "code",
     "collapsed": false,
     "input": [
      "print open('tune_random_forest.py').read()"
     ],
     "language": "python",
     "metadata": {},
     "outputs": [
      {
       "output_type": "stream",
       "stream": "stdout",
       "text": [
        "#!/usr/bin/env python\n",
        "# written by Aaron Meisner, 12/6/2014\n",
        "\n",
        "import cPickle\n",
        "import numpy as np\n",
        "from sklearn.feature_extraction.text import CountVectorizer\n",
        "from sklearn.ensemble import RandomForestClassifier\n",
        "import sklearn.grid_search\n",
        "from load_reviews_scores import load_reviews_scores\n",
        "\n",
        "def tune_random_forest(stem=False):\n",
        "    min_df_opt = 0.001 # from Naive Bayes cross-validation\n",
        "\n",
        "    # set up the list of trial n_trees values\n",
        "    n_trees = np.array([1, 2, 3, 4, 5, 10, 20, 30, 40, 50, 100, 150])\n",
        "\n",
        "    # load review/score data (pass stem keyword along)\n",
        "    reviews, scores = load_reviews_scores(stem=stem)\n",
        "\n",
        "    # construct target vector\n",
        "    Y = (scores >= 7)\n",
        "\n",
        "    # load train/test indices\n",
        "    ind_train = cPickle.load(file('data/ind_train.pkl'))\n",
        "\n",
        "    # make array of candidate min_df values\n",
        "    vectorizer = CountVectorizer(min_df=min_df_opt)\n",
        "    vectorizer.fit(reviews)\n",
        "    X = vectorizer.transform(reviews)\n",
        "\n",
        "    print X.shape\n",
        "\n",
        "    parameters = {'n_estimators' : n_trees}\n",
        "\n",
        "    clf_gs = sklearn.grid_search.GridSearchCV(RandomForestClassifier(), \n",
        "                                              parameters, cv=10)\n",
        "    clf_gs.fit(X[ind_train,:].toarray(), Y[ind_train])\n",
        "    \n",
        "    cv_means = np.array([clf_gs.grid_scores_[j][1] for j in range(len(n_trees))])\n",
        "    cv_stds = np.array([np.std(clf_gs.grid_scores_[j][2]) for j in range(len(n_trees))])\n",
        "\n",
        "    # write out results to pkl files\n",
        "    o_ntree = open('data/rf_ntrees.pkl', 'wb')\n",
        "    cPickle.dump(n_trees, o_ntree)\n",
        "    o_ntree.close()\n",
        "\n",
        "    o_score = open('data/rf_scores.pkl', 'wb')\n",
        "    cPickle.dump(cv_means, o_score)\n",
        "    o_score.close()\n",
        "\n",
        "    o_std_score = open('data/rf_std_scores.pkl', 'wb')\n",
        "    cPickle.dump(cv_stds, o_std_score)\n",
        "    o_std_score.close()\n",
        "\n",
        "\n",
        "\n"
       ]
      }
     ],
     "prompt_number": 23
    },
    {
     "cell_type": "markdown",
     "metadata": {},
     "source": [
      "We tested random forests with $n_{trees}$=[1, 2, 3, 4, 5, 10, 20, 30, 40, 50, 100, 150]. Below the cross-validation accuracy scores and their standard deviations are plotted as a function of $n_{trees}$."
     ]
    },
    {
     "cell_type": "code",
     "collapsed": false,
     "input": [
      "n_trees = cPickle.load(file('data/rf_ntrees.pkl'))\n",
      "rf_scores = cPickle.load(file('data/rf_scores.pkl'))\n",
      "rf_score_stds = cPickle.load(file('data/rf_std_scores.pkl'))\n",
      "\n",
      "plt.figure(figsize=(8,5))\n",
      "plt.errorbar(n_trees, rf_scores, yerr=rf_score_stds)\n",
      "plt.xlabel('number of trees')\n",
      "plt.ylabel('cross-validation accuracy score')\n",
      "plt.title('tuning number of trees in random forest classifier')"
     ],
     "language": "python",
     "metadata": {},
     "outputs": [
      {
       "metadata": {},
       "output_type": "pyout",
       "prompt_number": 45,
       "text": [
        "<matplotlib.text.Text at 0x10b541dd0>"
       ]
      },
      {
       "metadata": {},
       "output_type": "display_data",
       "png": "[encoded data removed]",
       "text": [
        "<matplotlib.figure.Figure at 0x10d7743d0>"
       ]
      }
     ],
     "prompt_number": 45
    },
    {
     "cell_type": "markdown",
     "metadata": {},
     "source": [
      "Evidently there is a general trend of increasing cross-validation accuracy with increasing number of trees between n_trees=1 and n_trees$\\approx$100, at which point the accuracy levels off at around 73.5%. Technically, the best cross-validation accuracy (73.58%) occurs at n_trees=100. To compare Naive Bayes versus random forest classification, we must train the optimized random forest classifier (n_trees=100) to the 10000 review training set and apply it to the 1803 review test set: "
     ]
    },
    {
     "cell_type": "code",
     "collapsed": false,
     "input": [
      "vectorizer_rf = CountVectorizer(min_df=0.001)\n",
      "vectorizer_rf.fit(reviews)\n",
      "X_rf = vectorizer.transform(reviews)\n",
      "\n"
     ],
     "language": "python",
     "metadata": {},
     "outputs": []
    },
    {
     "cell_type": "markdown",
     "metadata": {},
     "source": [
      "##9. Predicted Ratings: K Nearest Neighbors Regression"
     ]
    },
    {
     "cell_type": "markdown",
     "metadata": {},
     "source": [
      "### 9.1 The Regression Baseline"
     ]
    },
    {
     "cell_type": "markdown",
     "metadata": {},
     "source": [
      "In the regression problem, the standard choice of metric for \"goodness\" of a model is the RMS error (RMSE) of the predictions relative to the truth. In this case, the simplest possible model simply takes the mean of the training data, and guesses that value for all of the test examples. In the following cell we have evaluated this model and calculated its RMSE:"
     ]
    },
    {
     "cell_type": "code",
     "collapsed": false,
     "input": [
      "print 'The mean of the training scores is : ', np.mean(scores[ind_train])\n",
      "print 'The RMSE of guessing the training data mean for every test example is', np.std(scores[ind_test]-np.mean(scores[ind_train]))"
     ],
     "language": "python",
     "metadata": {},
     "outputs": [
      {
       "output_type": "stream",
       "stream": "stdout",
       "text": [
        "The mean of the training scores is :  6.70872\n",
        "The RMSE of guessing the training data mean for every test example is 1.62154353936\n"
       ]
      }
     ],
     "prompt_number": 40
    },
    {
     "cell_type": "markdown",
     "metadata": {},
     "source": [
      "### 9.2 KNN with Bag of Words"
     ]
    },
    {
     "cell_type": "markdown",
     "metadata": {},
     "source": [
      "### 9.3 KNN using Dimensionality Reduction"
     ]
    },
    {
     "cell_type": "code",
     "collapsed": false,
     "input": [
      "probs_train = (clf_opt.predict_proba(X_opt[ind_train,:]))[:,1] # probability of review being positive\n",
      "scores_train = scores[ind_train]\n",
      "\n",
      "ind_sort_probs = np.argsort(probs_train)\n",
      "probs_train_sorted = probs_train[ind_sort_probs]\n",
      "scores_train_sorted = scores_train[ind_sort_probs]\n",
      "\n",
      "def my_knn_1d(review, probs_train_sorted, scores_train_sorted, median=False, n_neighbors=10):\n",
      "    prob_test = (clf_opt.predict_proba(vectorizer_opt.transform([review])))[0,1]\n",
      "    diff = np.abs(probs_train_sorted - prob_test)\n",
      "    sind_diff = np.argsort(diff)\n",
      "    \n",
      "    neighbor_scores = scores_train_sorted[sind_diff[0:(n_neighbors)]]\n",
      "    \n",
      "    result = (np.median(neighbor_scores) if median else np.mean(neighbor_scores))\n",
      "    return result\n",
      "\n",
      "def try_k_value(n_neighbors):\n",
      "    scores_pred_test = np.zeros(len(ind_test))\n",
      "    for i in range(len(ind_test)):\n",
      "        scores_pred_test[i] = my_knn_1d((reviews[ind_test])[i], probs_train_sorted,\n",
      "                                        scores_train_sorted, n_neighbors=n_neighbors)\n",
      "    return scores_pred_test\n",
      "\n",
      "def try_many_k(n_neighbors_list):\n",
      "    for n_neighbors_val in n_neighbors_list:\n",
      "        scores_pred_test = try_k_value(n_neighbors_val)\n",
      "        # print the RMS error\n",
      "        print n_neighbors_val, np.std(scores[ind_test]-scores_pred_test)\n",
      "        \n",
      "try_many_k([1,2,3,4,5,10, 20, 40, 80, 160, 320, 640, 1000, 1500, 2000, 3000])\n",
      "#plt.scatter(scores[ind_test],scores_pred_test,s=2,edgecolor='none')\n",
      "#plt.xlabel('scores for test examples')\n",
      "#plt.ylabel('scores for training examples')"
     ],
     "language": "python",
     "metadata": {},
     "outputs": [
      {
       "output_type": "stream",
       "stream": "stdout",
       "text": [
        "1 1.71428630308\n",
        "2"
       ]
      },
      {
       "output_type": "stream",
       "stream": "stdout",
       "text": [
        " 1.52683078296\n",
        "3"
       ]
      },
      {
       "output_type": "stream",
       "stream": "stdout",
       "text": [
        " 1.45961692977\n",
        "4"
       ]
      },
      {
       "output_type": "stream",
       "stream": "stdout",
       "text": [
        " 1.41418189954\n",
        "5"
       ]
      },
      {
       "output_type": "stream",
       "stream": "stdout",
       "text": [
        " 1.39567409913\n",
        "10"
       ]
      },
      {
       "output_type": "stream",
       "stream": "stdout",
       "text": [
        " 1.34935778591\n",
        "20"
       ]
      },
      {
       "output_type": "stream",
       "stream": "stdout",
       "text": [
        " 1.31742412593\n",
        "40"
       ]
      },
      {
       "output_type": "stream",
       "stream": "stdout",
       "text": [
        " 1.30425733832\n",
        "80"
       ]
      },
      {
       "output_type": "stream",
       "stream": "stdout",
       "text": [
        " 1.3005675974\n",
        "160"
       ]
      },
      {
       "output_type": "stream",
       "stream": "stdout",
       "text": [
        " 1.29918827568\n",
        "320"
       ]
      },
      {
       "output_type": "stream",
       "stream": "stdout",
       "text": [
        " 1.29555519257\n",
        "640"
       ]
      },
      {
       "output_type": "stream",
       "stream": "stdout",
       "text": [
        " 1.29614717541\n",
        "1000"
       ]
      },
      {
       "output_type": "stream",
       "stream": "stdout",
       "text": [
        " 1.29836050008\n",
        "1500"
       ]
      },
      {
       "output_type": "stream",
       "stream": "stdout",
       "text": [
        " 1.3030240617\n",
        "2000"
       ]
      },
      {
       "output_type": "stream",
       "stream": "stdout",
       "text": [
        " 1.30916658584\n",
        "3000"
       ]
      },
      {
       "output_type": "stream",
       "stream": "stdout",
       "text": [
        " 1.32737343028\n"
       ]
      }
     ],
     "prompt_number": 38
    },
    {
     "cell_type": "markdown",
     "metadata": {},
     "source": [
      "##10. Cleaning Features with Regular Expressions"
     ]
    },
    {
     "cell_type": "code",
     "collapsed": false,
     "input": [
      "vectorizer_regexp = CountVectorizer(min_df=0.00013, token_pattern=ur'\\b[a-zA-Z][a-zA-Z]+\\b')\n",
      "vectorizer_regexp.fit(reviews)\n",
      "X_regexp = vectorizer_regexp.transform(reviews)\n",
      "words_no_regexp = set(vectorizer_opt.get_feature_names())\n",
      "words_regexp = set(vectorizer_regexp.get_feature_names())\n",
      "print words_no_regexp.difference(words_regexp)"
     ],
     "language": "python",
     "metadata": {},
     "outputs": [
      {
       "output_type": "stream",
       "stream": "stdout",
       "text": [
        "set([u'd\\xe9j\\xe0', u'pi\\xf1ata', u'133', u'x3', u'ps2', u'ps3', u'5500', u'24', u'25', u'21st', u'20', u'21', u'22', u'1942', u'2150', u'graw2', u'400', u'2015', u'2033', u'2017', u'2011', u'2010', u'2013', u'2012', u'1993', u'121', u'f355', u'dkc2', u'15', u'1997', u'16', u'51', u'50', u'2d', u'2142', u'2k', u'2k5', u'2k6', u'989', u'2k1', u'2k2', u'2k3', u'2k8', u'2k9', u'039', u'7th', u'80', u'4x4', u'90s', u'06', u'07', u'04', u'08', u'09', u'19th', u'360', u'3d', u'n64', u'2600', u'300', u'100', u'101', u'v8so', u'2100', u'vx8000', u'sk8land', u'32', u'30', u'35', u'2049', u'v4', u'514', u'30th', u'3ds', u'clich\\xe9d', u'2nd', u'60', u'2k7', u'64', u'3000', u'66', u'clich\\xe9s', u'1987', u'2k14', u'2k15', u'2k12', u'2k13', u'2k10', u'2k11', u'1080', u'1989', u'm1', u'99', u'98', u'x8', u'2014', u'x2', u'90', u'95', u'97', u'96', u'11', u'10', u'13', u'12', u'1995', u'14', u'17', u'1996', u'19', u'18', u'10th', u'2night', u'151', u'f1', u'1980s', u'1981', u'fury3', u're4', u'233', u'40', u'ex2', u'80s', u'sk8er', u'200', u'145', u'76', u'v2', u'000', u'007', u'2009', u'3rd', u'4x', u'pok\\xe9mon', u'2084', u'2002', u'2003', u'2000', u'2001', u'2006', u'2007', u'2004', u'2005', u'2008', u'800'])\n"
       ]
      }
     ],
     "prompt_number": 47
    },
    {
     "cell_type": "code",
     "collapsed": false,
     "input": [
      "clf_regexp = MultinomialNB(alpha=1.7).fit(X_regexp[ind_train,:], Y[ind_train])\n",
      "\n",
      "print '*'*80\n",
      "print 'NO REGEXP FILTERING'\n",
      "print \"Training set accuracy: %0.2f%%\" % (100 * clf_opt.score(X_opt[ind_train,:], Y[ind_train]))\n",
      "print \"Test set accuracy: %0.2f%%\" % (100 * clf_opt.score(X_opt[ind_test,:], Y[ind_test]))\n",
      "\n",
      "print '*'*80\n",
      "print 'WITH REGEXP FILTERING'\n",
      "print \"Training set accuracy: %0.2f%%\" % (100 * clf_regexp.score(X_regexp[ind_train,:], Y[ind_train]))\n",
      "print \"Test set accuracy: %0.2f%%\" % (100 * clf_regexp.score(X_regexp[ind_test,:], Y[ind_test]))"
     ],
     "language": "python",
     "metadata": {},
     "outputs": [
      {
       "output_type": "stream",
       "stream": "stdout",
       "text": [
        "********************************************************************************\n",
        "NO REGEXP FILTERING\n",
        "Training set accuracy: 86.13%"
       ]
      },
      {
       "output_type": "stream",
       "stream": "stdout",
       "text": [
        "\n",
        "Test set accuracy: 75.93%\n",
        "********************************************************************************\n",
        "WITH REGEXP FILTERING\n",
        "Training set accuracy: 85.94%"
       ]
      },
      {
       "output_type": "stream",
       "stream": "stdout",
       "text": [
        "\n",
        "Test set accuracy: 75.98%\n"
       ]
      }
     ],
     "prompt_number": 57
    },
    {
     "cell_type": "markdown",
     "metadata": {},
     "source": [
      "##11. Merging Features with Stemming"
     ]
    },
    {
     "cell_type": "code",
     "collapsed": false,
     "input": [
      "reviews_stemmed, scores = load_reviews_scores(stem=True)"
     ],
     "language": "python",
     "metadata": {},
     "outputs": [
      {
       "output_type": "stream",
       "stream": "stdout",
       "text": [
        "11803\n"
       ]
      }
     ],
     "prompt_number": 59
    },
    {
     "cell_type": "code",
     "collapsed": false,
     "input": [
      "vectorizer_stemmed = CountVectorizer(min_df=0.00013)\n",
      "vectorizer_stemmed.fit(reviews_stemmed)\n",
      "X_stemmed = vectorizer_stemmed.transform(reviews_stemmed)"
     ],
     "language": "python",
     "metadata": {},
     "outputs": [],
     "prompt_number": 63
    },
    {
     "cell_type": "code",
     "collapsed": false,
     "input": [
      "print X_stemmed.shape\n",
      "print X_opt.shape"
     ],
     "language": "python",
     "metadata": {},
     "outputs": [
      {
       "output_type": "stream",
       "stream": "stdout",
       "text": [
        "(11803, 5789)\n",
        "(11803, 7764)\n"
       ]
      }
     ],
     "prompt_number": 64
    },
    {
     "cell_type": "code",
     "collapsed": false,
     "input": [
      "clf_stemmed = MultinomialNB(alpha=1.7).fit(X_stemmed[ind_train,:], Y[ind_train])\n",
      "print 'WITH FEATURE STEMMING'\n",
      "print \"Training set accuracy: %0.2f%%\" % (100 * clf_stemmed.score(X_stemmed[ind_train,:], Y[ind_train]))\n",
      "print \"Test set accuracy: %0.2f%%\" % (100 * clf_stemmed.score(X_stemmed[ind_test,:], Y[ind_test]))"
     ],
     "language": "python",
     "metadata": {},
     "outputs": [
      {
       "output_type": "stream",
       "stream": "stdout",
       "text": [
        "WITH FEATURE STEMMING\n",
        "Training set accuracy: 84.25%\n",
        "Test set accuracy: 76.26%\n"
       ]
      }
     ],
     "prompt_number": 66
    },
    {
     "cell_type": "markdown",
     "metadata": {},
     "source": [
      "##12. Visualizing the Classification Results"
     ]
    },
    {
     "cell_type": "markdown",
     "metadata": {},
     "source": [
      "## 13. Full-Circle: Classifying Giant Bomb Review"
     ]
    },
    {
     "cell_type": "markdown",
     "metadata": {},
     "source": [
      "##14. Conclusions"
     ]
    },
    {
     "cell_type": "code",
     "collapsed": false,
     "input": [],
     "language": "python",
     "metadata": {},
     "outputs": []
    }
   ],
   "metadata": {}
  }
 ]
}