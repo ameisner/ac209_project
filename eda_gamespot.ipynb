{
 "metadata": {
  "name": "",
  "signature": "sha256:c70e04a7d3ecc99c2b6ef31e9c05cc11a17e204a462161148bbf70da4a3302a7"
 },
 "nbformat": 3,
 "nbformat_minor": 0,
 "worksheets": [
  {
   "cells": [
    {
     "cell_type": "markdown",
     "metadata": {},
     "source": [
      "# Preliminary GameSpot Exploration/Analysis"
     ]
    },
    {
     "cell_type": "code",
     "collapsed": false,
     "input": [
      "import json\n",
      "import numpy as np\n",
      "import matplotlib.pyplot as plt\n",
      "%matplotlib inline"
     ],
     "language": "python",
     "metadata": {},
     "outputs": [],
     "prompt_number": 1
    },
    {
     "cell_type": "markdown",
     "metadata": {},
     "source": [
      "load in the data"
     ]
    },
    {
     "cell_type": "code",
     "collapsed": false,
     "input": [
      "f = open('data/gamespot.json')\n",
      "data = json.load(f)\n",
      "print \"The number of reviews scraped from GameSpot is \", len(data)\n",
      "# print an example review\n",
      "print data[0]"
     ],
     "language": "python",
     "metadata": {},
     "outputs": [
      {
       "output_type": "stream",
       "stream": "stdout",
       "text": [
        "The number of reviews scraped from GameSpot is  13702\n",
        "{u'score': u'8', u'summary': u' The Unfinished Swan on the PlayStation 4 is a pretty game made prettier, and a gentle charmer in its own right.', u'datetime': u'2014-11-06 18:50:00'}\n"
       ]
      }
     ],
     "prompt_number": 2
    },
    {
     "cell_type": "markdown",
     "metadata": {},
     "source": [
      "histogram of ratings"
     ]
    },
    {
     "cell_type": "code",
     "collapsed": false,
     "input": [
      "scores = np.array([float(r['score']) for r in data])\n",
      "plt.hist(scores, bins=np.arange(0,12)-0.5)\n",
      "plt.xlim((-0.5, 10.5))\n",
      "plt.xticks(range(11))\n",
      "plt.xlabel('rating')\n",
      "plt.ylabel('number of reviews per bin')"
     ],
     "language": "python",
     "metadata": {},
     "outputs": [
      {
       "metadata": {},
       "output_type": "pyout",
       "prompt_number": 3,
       "text": [
        "<matplotlib.text.Text at 0x106ddefd0>"
       ]
      },
      {
       "metadata": {},
       "output_type": "display_data",
       "png": "[encoded data removed]",
       "text": [
        "<matplotlib.figure.Figure at 0x106db6250>"
       ]
      }
     ],
     "prompt_number": 3
    },
    {
     "cell_type": "code",
     "collapsed": false,
     "input": [
      "# look at some basic properties of the scores\n",
      "print np.unique(scores)\n",
      "print np.median(scores)\n",
      "print np.mean(scores)\n",
      "is_int = np.array([np.allclose([scores[i]], [np.round(scores[i])]) for i in range(len(scores))])\n",
      "print \"out of \", len(scores), \" scores, \", np.sum(is_int), \" are integer valued\""
     ],
     "language": "python",
     "metadata": {},
     "outputs": [
      {
       "output_type": "stream",
       "stream": "stdout",
       "text": [
        "[  0.    1.    1.2   1.3   1.4   1.5   1.6   1.7   1.8   1.9   2.    2.1\n",
        "   2.2   2.3   2.4   2.5   2.6   2.7   2.8   2.9   3.    3.1   3.2   3.3\n",
        "   3.4   3.5   3.6   3.7   3.8   3.9   4.    4.1   4.2   4.3   4.4   4.5\n",
        "   4.6   4.7   4.8   4.9   5.    5.1   5.2   5.3   5.4   5.5   5.6   5.7\n",
        "   5.8   5.9   6.    6.1   6.2   6.3   6.4   6.5   6.6   6.7   6.8   6.9\n",
        "   7.    7.1   7.2   7.3   7.4   7.5   7.6   7.7   7.8   7.9   8.    8.1\n",
        "   8.2   8.3   8.4   8.5   8.6   8.7   8.8   8.9   9.    9.1   9.2   9.3\n",
        "   9.4   9.5   9.6   9.7   9.8   9.9  10. ]\n",
        "7.0\n",
        "6.71798277624\n",
        "out of "
       ]
      },
      {
       "output_type": "stream",
       "stream": "stdout",
       "text": [
        " 13702  scores,  3777  are integer valued\n"
       ]
      }
     ],
     "prompt_number": 4
    },
    {
     "cell_type": "markdown",
     "metadata": {},
     "source": [
      "histogram of number of words per review summary"
     ]
    },
    {
     "cell_type": "code",
     "collapsed": false,
     "input": [
      "nwords = [len((r['summary']).split()) for r in data]\n",
      "plt.hist(nwords)\n",
      "plt.xlabel('number of words in review')\n",
      "plt.ylabel('number of reviews')"
     ],
     "language": "python",
     "metadata": {},
     "outputs": [
      {
       "metadata": {},
       "output_type": "pyout",
       "prompt_number": 5,
       "text": [
        "<matplotlib.text.Text at 0x107020f10>"
       ]
      },
      {
       "metadata": {},
       "output_type": "display_data",
       "png": "[encoded data removed]",
       "text": [
        "<matplotlib.figure.Figure at 0x105e3ce90>"
       ]
      }
     ],
     "prompt_number": 5
    },
    {
     "cell_type": "markdown",
     "metadata": {},
     "source": [
      "histogram of year in which review written"
     ]
    },
    {
     "cell_type": "code",
     "collapsed": false,
     "input": [
      "years = np.array([int((r['datetime'])[0:4]) for r in data])\n",
      "plt.hist(years)\n",
      "plt.xlabel('year')\n",
      "plt.ylabel('number of reviews')"
     ],
     "language": "python",
     "metadata": {},
     "outputs": [
      {
       "metadata": {},
       "output_type": "pyout",
       "prompt_number": 6,
       "text": [
        "<matplotlib.text.Text at 0x105e3cc10>"
       ]
      },
      {
       "metadata": {},
       "output_type": "display_data",
       "png": "[encoded data removed]",
       "text": [
        "<matplotlib.figure.Figure at 0x1070e61d0>"
       ]
      }
     ],
     "prompt_number": 6
    },
    {
     "cell_type": "markdown",
     "metadata": {},
     "source": [
      "plot illustrating time trend of average rating"
     ]
    },
    {
     "cell_type": "code",
     "collapsed": false,
     "input": [
      "from scipy.stats import scoreatpercentile\n",
      "\n",
      "meds = [np.median(scores[years == y]) for y in np.unique(years)]\n",
      "p25 = [scoreatpercentile(scores[years == y], 25) for y in np.unique(years)]\n",
      "p75 = [scoreatpercentile(scores[years == y], 75) for y in np.unique(years)]\n",
      "\n",
      "plt.plot(np.unique(years), np.array(meds),c='r', label='median')\n",
      "plt.plot(np.unique(years), np.array(p25),c='k')\n",
      "plt.plot(np.unique(years), np.array(p75),c='k')\n",
      "plt.legend(loc='lower right', frameon=False)\n",
      "plt.ylim(0,10)\n",
      "plt.xlabel('year')\n",
      "plt.ylabel('rating')"
     ],
     "language": "python",
     "metadata": {},
     "outputs": [
      {
       "metadata": {},
       "output_type": "pyout",
       "prompt_number": 7,
       "text": [
        "<matplotlib.text.Text at 0x109012050>"
       ]
      },
      {
       "metadata": {},
       "output_type": "display_data",
       "png": "[encoded data removed]",
       "text": [
        "<matplotlib.figure.Figure at 0x1072e56d0>"
       ]
      }
     ],
     "prompt_number": 7
    },
    {
     "cell_type": "markdown",
     "metadata": {},
     "source": [
      "word clouds for best versus worst reviews?"
     ]
    }
   ],
   "metadata": {}
  }
 ]
}