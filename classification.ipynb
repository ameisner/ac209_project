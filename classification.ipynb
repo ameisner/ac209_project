{
 "metadata": {
  "name": "",
  "signature": "sha256:4f5d7eb0a4c83c86154cb69991228c3e6bd87471effbb1d88fb80f96229edd21"
 },
 "nbformat": 3,
 "nbformat_minor": 0,
 "worksheets": [
  {
   "cells": [
    {
     "cell_type": "markdown",
     "metadata": {},
     "source": [
      "Text Classification"
     ]
    },
    {
     "cell_type": "code",
     "collapsed": false,
     "input": [
      "import json\n",
      "import numpy as np\n",
      "f = open('data/gamespot.json')\n",
      "data = json.load(f)"
     ],
     "language": "python",
     "metadata": {},
     "outputs": [],
     "prompt_number": 1
    },
    {
     "cell_type": "code",
     "collapsed": false,
     "input": [
      "len(data)"
     ],
     "language": "python",
     "metadata": {},
     "outputs": [
      {
       "metadata": {},
       "output_type": "pyout",
       "prompt_number": 2,
       "text": [
        "13702"
       ]
      }
     ],
     "prompt_number": 2
    },
    {
     "cell_type": "code",
     "collapsed": false,
     "input": [
      "rev_list = np.array([g['summary'] for g in data])"
     ],
     "language": "python",
     "metadata": {},
     "outputs": [],
     "prompt_number": 3
    },
    {
     "cell_type": "code",
     "collapsed": false,
     "input": [
      "len(rev_list)\n",
      "min_df = 0.001"
     ],
     "language": "python",
     "metadata": {},
     "outputs": [],
     "prompt_number": 4
    },
    {
     "cell_type": "code",
     "collapsed": false,
     "input": [
      "print data[0]\n",
      "scores = np.array([g['score'] for g in data]).astype(float)\n",
      "print len(scores)\n",
      "\n",
      "u, ind_u = np.unique(rev_list, return_index=True)\n",
      "rev_list = rev_list[ind_u]\n",
      "scores = scores[ind_u]\n",
      "\n",
      "print float(np.sum(scores > 7))/len(scores)\n",
      "\n",
      "Y = (scores > 7) # 1s and 0s, split in an almost balanced fashion"
     ],
     "language": "python",
     "metadata": {},
     "outputs": [
      {
       "output_type": "stream",
       "stream": "stdout",
       "text": [
        "{u'score': u'8', u'summary': u' The Unfinished Swan on the PlayStation 4 is a pretty game made prettier, and a gentle charmer in its own right.', u'datetime': u'2014-11-06 18:50:00'}\n",
        "13702\n",
        "0.461707895629"
       ]
      },
      {
       "output_type": "stream",
       "stream": "stdout",
       "text": [
        "\n"
       ]
      }
     ],
     "prompt_number": 5
    },
    {
     "cell_type": "code",
     "collapsed": false,
     "input": [
      "print len(scores)\n",
      "#randint(0, len(rev_list)-1, nsample])\n",
      "ind = np.random.choice(np.arange(len(scores)), size=len(scores))"
     ],
     "language": "python",
     "metadata": {},
     "outputs": [
      {
       "output_type": "stream",
       "stream": "stdout",
       "text": [
        "11804\n"
       ]
      }
     ],
     "prompt_number": 7
    },
    {
     "cell_type": "code",
     "collapsed": false,
     "input": [
      "from sklearn.feature_extraction.text import CountVectorizer\n",
      "from sklearn.naive_bayes import MultinomialNB"
     ],
     "language": "python",
     "metadata": {},
     "outputs": [],
     "prompt_number": 8
    },
    {
     "cell_type": "code",
     "collapsed": false,
     "input": [
      "vectorizer = CountVectorizer(min_df=min_df)\n",
      "vectorizer.fit(rev_list[ind])\n",
      "\n",
      "# create bag of words\n",
      "X = vectorizer.transform(rev_list[ind])"
     ],
     "language": "python",
     "metadata": {},
     "outputs": [],
     "prompt_number": 9
    },
    {
     "cell_type": "code",
     "collapsed": false,
     "input": [
      "clf = MultinomialNB().fit(X, Y[ind])"
     ],
     "language": "python",
     "metadata": {},
     "outputs": [],
     "prompt_number": 10
    },
    {
     "cell_type": "code",
     "collapsed": false,
     "input": [
      "print \"Accuracy: %0.2f%%\" % (100 * clf.score(X, Y[ind]))"
     ],
     "language": "python",
     "metadata": {},
     "outputs": [
      {
       "output_type": "stream",
       "stream": "stdout",
       "text": [
        "Accuracy: 81.99%\n"
       ]
      }
     ],
     "prompt_number": 11
    },
    {
     "cell_type": "code",
     "collapsed": false,
     "input": [
      "print X.shape"
     ],
     "language": "python",
     "metadata": {},
     "outputs": [
      {
       "output_type": "stream",
       "stream": "stdout",
       "text": [
        "(11804, 2106)\n"
       ]
      }
     ],
     "prompt_number": 12
    },
    {
     "cell_type": "code",
     "collapsed": false,
     "input": [
      "words = np.array(vectorizer.get_feature_names())"
     ],
     "language": "python",
     "metadata": {},
     "outputs": [],
     "prompt_number": 13
    },
    {
     "cell_type": "code",
     "collapsed": false,
     "input": [
      "x = np.eye(X.shape[1])\n",
      "probs = clf.predict_log_proba(x)[:, 0]\n",
      "ix = np.argsort(probs)\n",
      "\n",
      "n_example=10\n",
      "\n",
      "good_words = words[ix[:n_example]]\n",
      "bad_words = words[ix[-n_example:]]\n",
      "bad_words = bad_words[::-1]\n",
      "\n",
      "good_prob = probs[ix[:n_example]]\n",
      "bad_prob = probs[ix[-n_example:]]\n",
      "bad_prob = bad_prob[::-1]\n",
      "\n",
      "print \"Best words\\t     P(Good | word)\"\n",
      "for w, p in zip(good_words, good_prob):\n",
      "    print \"%20s\" % w, \"%0.3f\" % (1 - np.exp(p))\n",
      "    \n",
      "print \"Worst words\\t     P(Good | word)\"\n",
      "for w, p in zip(bad_words, bad_prob):\n",
      "    print \"%20s\" % w, \"%0.3f\" % (1 - np.exp(p))"
     ],
     "language": "python",
     "metadata": {},
     "outputs": [
      {
       "output_type": "stream",
       "stream": "stdout",
       "text": [
        "Best words\t     P(Good | word)\n",
        "                rare 0.957\n",
        "              superb 0.953\n",
        "                vast 0.951\n",
        "               notch 0.946\n",
        "            terrific 0.945\n",
        "             dynamic 0.944\n",
        "              dozens 0.941\n",
        "              enjoys 0.937\n",
        "            stunning 0.935\n",
        "              surely 0.933\n",
        "Worst words\t     P(Good | word)\n",
        "             tedious 0.013\n",
        "               tries 0.023\n",
        "               avoid 0.026\n",
        "                mess 0.027\n",
        "               lousy 0.027\n",
        "            terrible 0.028\n",
        "                poor 0.028\n",
        "              clunky 0.032\n",
        "        inconsistent 0.035\n",
        "              boring 0.037\n"
       ]
      }
     ],
     "prompt_number": 14
    },
    {
     "cell_type": "code",
     "collapsed": false,
     "input": [
      "# try some amusing features\n",
      "print clf.predict_proba(vectorizer.transform(['buggy']))"
     ],
     "language": "python",
     "metadata": {},
     "outputs": [
      {
       "output_type": "stream",
       "stream": "stdout",
       "text": [
        "[[ 0.9306797  0.0693203]]\n"
       ]
      }
     ],
     "prompt_number": 15
    },
    {
     "cell_type": "code",
     "collapsed": false,
     "input": [
      "from sklearn.ensemble import RandomForestClassifier\n",
      "from sklearn.cross_validation import cross_val_score\n",
      "\n",
      "n_tree = 1\n",
      "rfc = RandomForestClassifier(n_estimators=n_tree)\n",
      "scores_list = cross_val_score(rfc, X.toarray(), Y[ind], cv=10)"
     ],
     "language": "python",
     "metadata": {},
     "outputs": [],
     "prompt_number": 16
    },
    {
     "cell_type": "code",
     "collapsed": false,
     "input": [
      "scores_list"
     ],
     "language": "python",
     "metadata": {},
     "outputs": [
      {
       "metadata": {},
       "output_type": "pyout",
       "prompt_number": 17,
       "text": [
        "array([ 0.77834179,  0.79000847,  0.78577477,  0.75508475,  0.78813559,\n",
        "        0.78474576,  0.77372881,  0.76355932,  0.76271186,  0.77542373])"
       ]
      }
     ],
     "prompt_number": 17
    },
    {
     "cell_type": "code",
     "collapsed": false,
     "input": [
      "n_tree = 2\n",
      "rfc = RandomForestClassifier(n_estimators=n_tree)\n",
      "scores_list = cross_val_score(rfc, X.toarray(), Y[ind], cv=10)"
     ],
     "language": "python",
     "metadata": {},
     "outputs": [],
     "prompt_number": 18
    },
    {
     "cell_type": "code",
     "collapsed": false,
     "input": [
      "scores_list"
     ],
     "language": "python",
     "metadata": {},
     "outputs": [
      {
       "metadata": {},
       "output_type": "pyout",
       "prompt_number": 19,
       "text": [
        "array([ 0.7749577 ,  0.76037257,  0.78323455,  0.78305085,  0.77288136,\n",
        "        0.77966102,  0.77627119,  0.80254237,  0.77627119,  0.78220339])"
       ]
      }
     ],
     "prompt_number": 19
    },
    {
     "cell_type": "code",
     "collapsed": false,
     "input": [
      "n_tree = 10\n",
      "rfc = RandomForestClassifier(n_estimators=n_tree)\n",
      "scores_list = cross_val_score(rfc, X.toarray(), Y[ind], cv=10)\n",
      "scores_list"
     ],
     "language": "python",
     "metadata": {},
     "outputs": [
      {
       "metadata": {},
       "output_type": "pyout",
       "prompt_number": 20,
       "text": [
        "array([ 0.85448393,  0.85690093,  0.87129551,  0.86610169,  0.87627119,\n",
        "        0.87457627,  0.85423729,  0.86949153,  0.86016949,  0.86016949])"
       ]
      }
     ],
     "prompt_number": 20
    },
    {
     "cell_type": "code",
     "collapsed": false,
     "input": [
      "n_tree = 20\n",
      "rfc = RandomForestClassifier(n_estimators=n_tree)\n",
      "scores_list = cross_val_score(rfc, X.toarray(), Y[ind], cv=10)\n",
      "scores_list"
     ],
     "language": "python",
     "metadata": {},
     "outputs": [
      {
       "metadata": {},
       "output_type": "pyout",
       "prompt_number": 21,
       "text": [
        "array([ 0.87648054,  0.87637595,  0.89669771,  0.88559322,  0.87457627,\n",
        "        0.88644068,  0.86949153,  0.88644068,  0.86525424,  0.87966102])"
       ]
      }
     ],
     "prompt_number": 21
    },
    {
     "cell_type": "code",
     "collapsed": false,
     "input": [
      "# check out what the features are\n",
      "for i in range(417):\n",
      "    print words[(5*i):(5*(i+1))]\n",
      "# we can see the potential for stemming here with e.g. \"capture\" and \"captures\" being listed as distinct features"
     ],
     "language": "python",
     "metadata": {},
     "outputs": [
      {
       "output_type": "stream",
       "stream": "stdout",
       "text": [
        "[u'039' u'06' u'07' u'08' u'09']\n",
        "[u'10' u'11' u'12' u'13' u'15']\n",
        "[u'16' u'20' u'2000' u'2001' u'2002']\n",
        "[u'2003' u'2004' u'2005' u'2006' u'2007']\n",
        "[u'2008' u'2d' u'2k3' u'2k6' u'2k7']\n",
        "[u'30' u'360' u'3d' u'40' u'4x4']\n",
        "[u'64' u'80s' u'97' u'98' u'99']\n",
        "[u'abilities' u'ability' u'able' u'about' u'above']\n",
        "[u'absolute' u'absolutely' u'absorbing' u'academy' u'accessible']\n",
        "[u'acclaim' u'accurate' u'accurately' u'ace' u'achievement']\n",
        "[u'across' u'action' u'activision' u'actual' u'actually']\n",
        "[u'adaptation' u'add' u'added' u'addictive' u'adding']\n",
        "[u'addition' u'additional' u'additions' u'adds' u'advance']\n",
        "[u'advantage' u'adventure' u'adventures' u'aesthetic' u'aesthetics']\n",
        "[u'after' u'again' u'against' u'age' u'aged']\n",
        "[u'ages' u'aggravating' u'aging' u'ago' u'ai']\n",
        "[u'aimed' u'air' u'albeit' u'alien' u'alike']\n",
        "[u'alive' u'all' u'alliance' u'almost' u'alone']\n",
        "[u'along' u'already' u'also' u'alternative' u'although']\n",
        "[u'always' u'amazing' u'ambitious' u'among' u'amount']\n",
        "[u'amp' u'amusing' u'an' u'ancient' u'and']\n",
        "[u'animal' u'animated' u'animation' u'animations' u'anime']\n",
        "[u'anniversary' u'annoying' u'another' u'any' u'anyone']\n",
        "[u'anything' u'apart' u'apocalypse' u'appeal' u'appealing']\n",
        "[u'appearance' u'apply' u'appreciate' u'approach' u'arcade']\n",
        "[u'are' u'areas' u'aren' u'arena' u'armored']\n",
        "[u'arms' u'army' u'around' u'array' u'art']\n",
        "[u'artificial' u'as' u'aside' u'aspect' u'aspects']\n",
        "[u'assault' u'assortment' u'at' u'atmosphere' u'atmospheric']\n",
        "[u'attack' u'attempt' u'attempts' u'attention' u'attitude']\n",
        "[u'attractive' u'atv' u'audience' u'audio' u'authentic']\n",
        "[u'auto' u'available' u'average' u'avoid' u'avoided']\n",
        "[u'away' u'awesome' u'awful' u'awkward' u'back']\n",
        "[u'backward' u'bad' u'badly' u'baked' u'balance']\n",
        "[u'balanced' u'ball' u'band' u'bang' u'bare']\n",
        "[u'barely' u'bargain' u'baseball' u'based' u'basic']\n",
        "[u'basically' u'basketball' u'bass' u'batman' u'battle']\n",
        "[u'battlefield' u'battles' u'be' u'bear' u'bears']\n",
        "[u'beat' u'beautiful' u'beautifully' u'because' u'become']\n",
        "[u'been' u'before' u'beginning' u'behind' u'being']\n",
        "[u'believe' u'bells' u'beloved' u'best' u'better']\n",
        "[u'between' u'beyond' u'big' u'bigger' u'biggest']\n",
        "[u'bin' u'bit' u'bizarre' u'black' u'blade']\n",
        "[u'bland' u'blast' u'blend' u'blitz' u'block']\n",
        "[u'blood' u'bloody' u'blue' u'bmx' u'board']\n",
        "[u'boasts' u'bomberman' u'bones' u'bonus' u'book']\n",
        "[u'boring' u'both' u'bottom' u'bound' u'bowling']\n",
        "[u'box' u'boxing' u'boy' u'brain' u'brand']\n",
        "[u'brave' u'brawler' u'break' u'breath' u'brief']\n",
        "[u'bright' u'brilliant' u'bring' u'bringing' u'brings']\n",
        "[u'broken' u'bros' u'brutal' u'buck' u'budget']\n",
        "[u'buffs' u'buggy' u'bugs' u'building' u'builds']\n",
        "[u'built' u'bunch' u'buried' u'burnout' u'bursts']\n",
        "[u'business' u'bust' u'busy' u'but' u'button']\n",
        "[u'buy' u'by' u'call' u'camera' u'campaign']\n",
        "[u'can' u'candy' u'capcom' u'captivating' u'capture']\n",
        "[u'captures' u'capturing' u'car' u'card' u'care']\n",
        "[u'career' u'carnage' u'cars' u'cartoon' u'case']\n",
        "[u'cash' u'cast' u'castle' u'castlevania' u'casual']\n",
        "[u'category' u'cell' u'certain' u'certainly' u'challenge']\n",
        "[u'challenges' u'challenging' u'championship' u'chance' u'change']\n",
        "[u'changes' u'channel' u'chaos' u'chapter' u'character']\n",
        "[u'characters' u'charm' u'charming' u'cheap' u'check']\n",
        "[u'checking' u'chess' u'children' u'choice' u'choices']\n",
        "[u'choose' u'chore' u'chronicles' u'circuit' u'city']\n",
        "[u'civil' u'civilization' u'class' u'classic' u'classics']\n",
        "[u'clear' u'clearly' u'clever' u'click' u'clone']\n",
        "[u'close' u'club' u'clumsy' u'clunky' u'co']\n",
        "[u'coat' u'cold' u'colin' u'collectible' u'collection']\n",
        "[u'college' u'color' u'colorful' u'combat' u'combination']\n",
        "[u'combine' u'combined' u'combines' u'come' u'comes']\n",
        "[u'comic' u'coming' u'command' u'commander' u'compared']\n",
        "[u'compelling' u'compensate' u'compete' u'competent' u'competition']\n",
        "[u'competitive' u'compilation' u'complete' u'completely' u'complex']\n",
        "[u'complexity' u'component' u'computer' u'conceivable' u'concept']\n",
        "[u'concepts' u'conclusion' u'conflict' u'confusing' u'conquer']\n",
        "[u'consider' u'considered' u'considering' u'console' u'consoles']\n",
        "[u'conspire' u'contains' u'content' u'continues' u'control']\n",
        "[u'controller' u'controls' u'conventional' u'conventions' u'cookie']\n",
        "[u'cool' u'cooperative' u'copy' u'core' u'cost']\n",
        "[u'costs' u'could' u'couldn' u'counterpart' u'counterparts']\n",
        "[u'countless' u'country' u'counts' u'couple' u'cover']\n",
        "[u'crafted' u'crafting' u'crash' u'crawler' u'crawling']\n",
        "[u'crazy' u'create' u'created' u'creates' u'creating']\n",
        "[u'creation' u'creative' u'creatures' u'credit' u'creepy']\n",
        "[u'crime' u'crisis' u'crowd' u'cry' u'cup']\n",
        "[u'current' u'currently' u'curve' u'customization' u'cut']\n",
        "[u'cute' u'cutter' u'dance' u'dark' u'darkness']\n",
        "[u'dash' u'date' u'dated' u'dawn' u'day']\n",
        "[u'days' u'dazzling' u'dead' u'deadly' u'deal']\n",
        "[u'death' u'debut' u'decent' u'decidedly' u'decisions']\n",
        "[u'dedicated' u'deep' u'deeper' u'defense' u'definitely']\n",
        "[u'delight' u'delightful' u'deliver' u'delivering' u'delivers']\n",
        "[u'deluxe' u'demon' u'depth' u'derby' u'derivative']\n",
        "[u'desert' u'deserves' u'design' u'designed' u'designers']\n",
        "[u'designs' u'despite' u'destiny' u'destruction' u'detail']\n",
        "[u'detailed' u'details' u'detective' u'developer' u'developers']\n",
        "[u'devil' u'devout' u'diablo' u'dialogue' u'did']\n",
        "[u'didn' u'die' u'diehard' u'difference' u'different']\n",
        "[u'difficult' u'difficulty' u'digital' u'disappoint' u'disappointed']\n",
        "[u'disappointing' u'disappointment' u'disney' u'distinct' u'distinctive']\n",
        "[u'distinguish' u'diverse' u'diversion' u'do' u'does']\n",
        "[u'doesn' u'dogs' u'doing' u'don' u'done']\n",
        "[u'donkey' u'doom' u'dose' u'double' u'doubt']\n",
        "[u'down' u'download' u'downloadable' u'downright' u'dozens']\n",
        "[u'dr' u'drag' u'dragon' u'draw' u'drawbacks']\n",
        "[u'draws' u'dream' u'dreamcast' u'drive' u'driven']\n",
        "[u'driver' u'driving' u'drop' u'ds' u'dual']\n",
        "[u'due' u'duke' u'dull' u'dumb' u'dungeon']\n",
        "[u'dungeons' u'dust' u'duty' u'dynamic' u'dynasty']\n",
        "[u'ea' u'each' u'early' u'earth' u'easily']\n",
        "[u'easy' u'edge' u'edges' u'edition' u'effect']\n",
        "[u'effectively' u'effects' u'effort' u'either' u'elegant']\n",
        "[u'element' u'elements' u'elite' u'else' u'elsewhere']\n",
        "[u'em' u'emphasis' u'empire' u'empires' u'emulation']\n",
        "[u'enchanting' u'end' u'endearing' u'ended' u'endless']\n",
        "[u'ends' u'enemies' u'enemy' u'energy' u'engage']\n",
        "[u'engaged' u'engaging' u'engine' u'engrossing' u'enhanced']\n",
        "[u'enhancements' u'enjoy' u'enjoyable' u'enjoyed' u'enjoyment']\n",
        "[u'enjoys' u'enough' u'entertain' u'entertaining' u'entertainment']\n",
        "[u'enthralling' u'enthusiasts' u'enticing' u'entire' u'entirely']\n",
        "[u'entry' u'environments' u'epic' u'episode' u'era']\n",
        "[u'especially' u'espn' u'essentially' u'established' u'even']\n",
        "[u'events' u'ever' u'everquest' u'every' u'everyone']\n",
        "[u'everything' u'evil' u'evolution' u'evolved' u'ex']\n",
        "[u'exactly' u'example' u'excellence' u'excellent' u'exceptional']\n",
        "[u'excited' u'excitement' u'exciting' u'executed' u'execution']\n",
        "[u'exercise' u'exhilarating' u'expansion' u'expect' u'expectations']\n",
        "[u'expecting' u'experience' u'experienced' u'experiences' u'experiment']\n",
        "[u'exploration' u'explore' u'exploring' u'explosions' u'extra']\n",
        "[u'extras' u'extreme' u'extremely' u'eye' u'f1']\n",
        "[u'face' u'fact' u'fail' u'fails' u'fair']\n",
        "[u'fairly' u'faithful' u'faithfully' u'fall' u'fallen']\n",
        "[u'falls' u'familiar' u'family' u'fan' u'fanatics']\n",
        "[u'fancy' u'fans' u'fantastic' u'fantasy' u'far']\n",
        "[u'fare' u'fashioned' u'fast' u'fate' u'faults']\n",
        "[u'favor' u'favorite' u'feature' u'featured' u'features']\n",
        "[u'featuring' u'feel' u'feeling' u'feels' u'fest']\n",
        "[u'few' u'fi' u'field' u'fifa' u'fight']\n",
        "[u'fighter' u'fighters' u'fighting' u'fights' u'filled']\n",
        "[u'film' u'final' u'finally' u'find' u'finds']\n",
        "[u'fine' u'finest' u'finish' u'finished' u'fire']\n",
        "[u'first' u'fishing' u'fit' u'five' u'fix']\n",
        "[u'flair' u'flashy' u'flat' u'flaw' u'flawed']"
       ]
      },
      {
       "output_type": "stream",
       "stream": "stdout",
       "text": [
        "\n",
        "[u'flaws' u'flight' u'flying' u'focus' u'focused']\n",
        "[u'focuses' u'follow' u'football' u'for' u'force']\n",
        "[u'forces' u'forget' u'forgettable' u'form' u'format']\n",
        "[u'formula' u'formulaic' u'forward' u'found' u'foundation']\n",
        "[u'four' u'fox' u'frame' u'franchise' u'frantic']\n",
        "[u'free' u'freedom' u'freestyle' u'frenetic' u'frenzy']\n",
        "[u'frequently' u'fresh' u'friendly' u'friends' u'frills']\n",
        "[u'from' u'front' u'frustrating' u'frustratingly' u'frustration']\n",
        "[u'frustrations' u'full' u'fully' u'fun' u'functional']\n",
        "[u'fundamentals' u'funny' u'further' u'future' u'futuristic']\n",
        "[u'gage' u'gaiden' u'galaga' u'game' u'gamecube']\n",
        "[u'gameday' u'gameplay' u'gamer' u'gamers' u'games']\n",
        "[u'gaming' u'gate' u'gba' u'gear' u'gem']\n",
        "[u'general' u'generally' u'generation' u'generic' u'genesis']\n",
        "[u'genre' u'genres' u'genuinely' u'get' u'gets']\n",
        "[u'getting' u'ghost' u'giant' u'give' u'given']\n",
        "[u'gives' u'giving' u'glaring' u'glitches' u'glory']\n",
        "[u'go' u'god' u'goes' u'going' u'gold']\n",
        "[u'golden' u'golf' u'gone' u'good' u'goofy']\n",
        "[u'gorgeous' u'gory' u'got' u'grand' u'graphical']\n",
        "[u'graphics' u'gravity' u'great' u'greatest' u'greatly']\n",
        "[u'greatness' u'grid' u'grind' u'ground' u'gt']\n",
        "[u'guitar' u'gun' u'guns' u'hack' u'had']\n",
        "[u'half' u'halo' u'hampered' u'hand' u'handful']\n",
        "[u'handheld' u'handling' u'hands' u'happy' u'hard']\n",
        "[u'hardcore' u'hardly' u'hardware' u'harry' u'harvest']\n",
        "[u'has' u'hasn' u'have' u'haven' u'having']\n",
        "[u'hawk' u'hd' u'he' u'head' u'healthy']\n",
        "[u'heart' u'hearts' u'heat' u'heavily' u'heavy']\n",
        "[u'held' u'hell' u'help' u'here' u'hero']\n",
        "[u'heroes' u'hidden' u'hide' u'high' u'higher']\n",
        "[u'highly' u'his' u'historical' u'history' u'hit']\n",
        "[u'hits' u'hitting' u'hockey' u'hold' u'holds']\n",
        "[u'home' u'honor' u'hoops' u'hope' u'horrible']\n",
        "[u'horror' u'host' u'hot' u'hour' u'hours']\n",
        "[u'how' u'however' u'huge' u'human' u'humor']\n",
        "[u'hunt' u'hunter' u'hybrid' u'ice' u'idea']\n",
        "[u'ideal' u'ideas' u'identical' u'if' u'ii']\n",
        "[u'iii' u'imaginative' u'immediately' u'immersive' u'impact']\n",
        "[u'import' u'important' u'impossible' u'impressive' u'improve']\n",
        "[u'improved' u'improvement' u'improvements' u'improves' u'in']\n",
        "[u'included' u'includes' u'inclusion' u'inconsistent' u'incredible']\n",
        "[u'incredibly' u'indeed' u'infinite' u'infinity' u'initial']\n",
        "[u'innovation' u'innovative' u'inside' u'inspiration' u'inspired']\n",
        "[u'installment' u'instead' u'intact' u'intelligence' u'intense']\n",
        "[u'intensity' u'interactive' u'interest' u'interested' u'interesting']\n",
        "[u'interface' u'internet' u'interpretation' u'into' u'intricate']\n",
        "[u'intriguing' u'introduces' u'introduction' u'intuitive' u'inventive']\n",
        "[u'involved' u'involving' u'iron' u'is' u'island']\n",
        "[u'isn' u'issues' u'it' u'iteration' u'its']\n",
        "[u'itself' u'iv' u'jack' u'jam' u'japanese']\n",
        "[u'job' u'journey' u'joy' u'jump' u'just']\n",
        "[u'justice' u'justify' u'kart' u'keep' u'keeps']\n",
        "[u'key' u'kick' u'kid' u'kids' u'killer']\n",
        "[u'killing' u'kind' u'kinect' u'king' u'kingdom']\n",
        "[u'kingdoms' u'kings' u'knight' u'knockoff' u'knockout']\n",
        "[u'know' u'known' u'kombat' u'konami' u'kong']\n",
        "[u'lack' u'lacking' u'lackluster' u'lacks' u'lame']\n",
        "[u'land' u'large' u'largely' u'last' u'lasting']\n",
        "[u'lasts' u'late' u'later' u'latest' u'laughs']\n",
        "[u'launch' u'lazy' u'lead' u'league' u'leap']\n",
        "[u'learn' u'learning' u'least' u'leave' u'leaves']\n",
        "[u'leaving' u'left' u'legacy' u'legend' u'legendary']\n",
        "[u'legends' u'lego' u'length' u'lengthy' u'less']\n",
        "[u'let' u'lets' u'level' u'levels' u'library']\n",
        "[u'license' u'licensed' u'life' u'light' u'lighthearted']\n",
        "[u'like' u'likely' u'likes' u'limit' u'limitations']\n",
        "[u'limited' u'line' u'lines' u'link' u'list']\n",
        "[u'literally' u'little' u'live' u'lived' u'lives']\n",
        "[u'living' u'll' u'load' u'loaded' u'loads']\n",
        "[u'logic' u'long' u'longer' u'longevity' u'longtime']\n",
        "[u'look' u'looking' u'looks' u'looney' u'loose']\n",
        "[u'loot' u'loses' u'lost' u'lot' u'lots']\n",
        "[u'lousy' u'love' u'loved' u'low' u'machine']\n",
        "[u'machines' u'madden' u'made' u'madness' u'magic']\n",
        "[u'magical' u'main' u'major' u'make' u'makes']\n",
        "[u'making' u'man' u'management' u'manager' u'manages']\n",
        "[u'many' u'maps' u'mar' u'marginal' u'mario']\n",
        "[u'mark' u'market' u'marks' u'marred' u'marvel']\n",
        "[u'mask' u'mass' u'massive' u'master' u'masters']\n",
        "[u'match' u'material' u'matter' u'max' u'may']\n",
        "[u'mayhem' u'mcrae' u'mean' u'meaningful' u'means']\n",
        "[u'meat' u'mech' u'mechanic' u'mechanics' u'mechwarrior']\n",
        "[u'medal' u'mediocre' u'mediocrity' u'meets' u'mega']\n",
        "[u'memorable' u'men' u'merely' u'merits' u'mess']\n",
        "[u'metal' u'microsoft' u'middle' u'midway' u'might']\n",
        "[u'military' u'mill' u'mind' u'minded' u'mindless']\n",
        "[u'minigame' u'minigames' u'minor' u'minutes' u'miss']\n",
        "[u'missed' u'missing' u'mission' u'missions' u'mix']\n",
        "[u'mixed' u'mlb' u'mobile' u'mode' u'model']\n",
        "[u'modern' u'modes' u'moments' u'money' u'monster']\n",
        "[u'monsters' u'months' u'moon' u'more' u'mortal']\n",
        "[u'most' u'mostly' u'motion' u'motocross' u'motogp']\n",
        "[u'motorcycle' u'move' u'movement' u'moves' u'movie']\n",
        "[u'moving' u'much' u'multiplayer' u'multiple' u'murder']\n",
        "[u'music' u'must' u'mx' u'my' u'myst']\n",
        "[u'mystery' u'n64' u'namco' u'name' u'namesake']\n",
        "[u'narrative' u'nascar' u'nature' u'nba' u'ncaa']\n",
        "[u'near' u'nearly' u'neat' u'necessarily' u'need']\n",
        "[u'needed' u'needs' u'neither' u'nemesis' u'nes']\n",
        "[u'network' u'never' u'neverwinter' u'new' u'newcomers']\n",
        "[u'next' u'nfl' u'nhl' u'nice' u'nicely']\n",
        "[u'night' u'nightmare' u'nights' u'nine' u'ninja']\n",
        "[u'nintendo' u'nitro' u'no' u'none' u'nonetheless']\n",
        "[u'nor' u'nostalgia' u'nostalgic' u'not' u'notable']\n",
        "[u'notch' u'noteworthy' u'nothing' u'novel' u'novelty']\n",
        "[u'novices' u'now' u'number' u'numbers' u'numerous']\n",
        "[u'obvious' u'occasional' u'occasionally' u'oddly' u'odyssey']\n",
        "[u'of' u'off' u'offer' u'offering' u'offerings']\n",
        "[u'offers' u'offline' u'often' u'old' u'older']\n",
        "[u'omega' u'on' u'once' u'one' u'ones']\n",
        "[u'online' u'only' u'onto' u'op' u'open']\n",
        "[u'operation' u'opportunity' u'ops' u'option' u'options']\n",
        "[u'or' u'oriented' u'original' u'originality' u'other']\n",
        "[u'others' u'otherwise' u'ought' u'out' u'outdated']\n",
        "[u'outing' u'outside' u'outstanding' u'over' u'overall']\n",
        "[u'overcome' u'overcomes' u'overlook' u'overly' u'overpriced']\n",
        "[u'overshadow' u'overshadowed' u'owe' u'own' u'owner']\n",
        "[u'owners' u'pac' u'pace' u'paced' u'pacific']\n",
        "[u'pacing' u'pack' u'package' u'packed' u'packs']\n",
        "[u'painfully' u'paint' u'paper' u'paradise' u'park']\n",
        "[u'part' u'particularly' u'parts' u'party' u'pass']\n",
        "[u'passable' u'past' u'path' u'patience' u'patient']\n",
        "[u'pc' u'people' u'perfect' u'perfectly' u'performance']\n",
        "[u'perhaps' u'period' u'person' u'personality' u'perspective']\n",
        "[u'phone' u'physics' u'pick' u'picking' u'piece']\n",
        "[u'pinball' u'pirate' u'pirates' u'place' u'planet']\n",
        "[u'platform' u'platformer' u'platforming' u'platoon' u'play']\n",
        "[u'playability' u'playable' u'played' u'player' u'players']\n",
        "[u'playing' u'plays' u'playstation' u'pleasant' u'please']\n",
        "[u'pleased' u'plenty' u'plot' u'plus' u'pocket']\n",
        "[u'point' u'points' u'pokemon' u'poker' u'pok\\xe9mon']\n",
        "[u'polish' u'polished' u'political' u'pool' u'poor']\n",
        "[u'poorly' u'pop' u'popular' u'port' u'portable']\n",
        "[u'porting' u'positive' u'possible' u'potential' u'potter']\n",
        "[u'power' u'powerful' u'practically' u'precision' u'predecessor']\n",
        "[u'predecessors' u'predictable' u'premise' u'presentation' u'presents']\n",
        "[u'pretty' u'prevent' u'previous' u'price' u'priced']\n",
        "[u'primarily' u'prince' u'pro' u'probably' u'problem']\n",
        "[u'problematic' u'problems' u'process' u'produced' u'product']\n",
        "[u'production' u'professional' u'project' u'promise' u'promises']\n",
        "[u'promising' u'prove' u'proven' u'proves' u'provide']\n",
        "[u'provided' u'provides' u'providing' u'ps2' u'psp']\n",
        "[u'punch' u'punishing' u'purchase' u'pure' u'put']\n",
        "[u'puts' u'puzzle' u'puzzler' u'puzzles' u'quake']\n",
        "[u'qualities' u'quality' u'quest' u'question' u'questions']\n",
        "[u'quests' u'quick' u'quickly' u'quirks' u'quirky']\n",
        "[u'quite' u'quot' u'race' u'racer' u'racers']\n",
        "[u'races' u'racing' u'rage' u'raider' u'rainbow']\n",
        "[u'rally' u'range' u'rare' u'rate' u'rather']\n",
        "[u'raw' u'rayman' u're' u'reach' u'ready']\n",
        "[u'real' u'realism' u'realistic' u'realized' u'really']\n",
        "[u'realm' u'reason' u'reasonably' u'reasons' u'rebel']\n",
        "[u'recent' u'recommend' u'recommendable' u'recommended' u'recon']"
       ]
      },
      {
       "output_type": "stream",
       "stream": "stdout",
       "text": [
        "\n",
        "[u'recycled' u'red' u'redeeming' u'refinements' u'refreshing']\n",
        "[u'regardless' u'relatively' u'release' u'released' u'remain']\n",
        "[u'remains' u'remake' u'remarkable' u'remarkably' u'remember']\n",
        "[u'remote' u'rendition' u'rent' u'rental' u'repetition']\n",
        "[u'repetitive' u'replay' u'replayability' u'represents' u'resident']\n",
        "[u'respect' u'respectable' u'responsive' u'rest' u'result']\n",
        "[u'resulting' u'results' u'retail' u'retains' u'retro']\n",
        "[u'return' u'returns' u'revenge' u'revolution' u'revolutionary']\n",
        "[u'reward' u'rewarding' u'rhythm' u'rich' u'ride']\n",
        "[u'ridge' u'ridiculous' u'right' u'rip' u'rise']\n",
        "[u'rising' u'risk' u'road' u'robot' u'robots']\n",
        "[u'robust' u'rock' u'rogue' u'role' u'romp']\n",
        "[u'room' u'roots' u'roster' u'rough' u'round']\n",
        "[u'rounded' u'rpg' u'rpgs' u'rts' u'rugby']\n",
        "[u'ruin' u'rumble' u'run' u'runner' u'running']\n",
        "[u'runs' u'rush' u'saga' u'said' u'sam']\n",
        "[u'same' u'samurai' u'satisfied' u'satisfy' u'satisfying']\n",
        "[u'saturn' u'save' u'saving' u'say' u'scares']\n",
        "[u'scenarios' u'scene' u'scheme' u'school' u'sci']\n",
        "[u'scope' u'screen' u'scrolling' u'sea' u'season']\n",
        "[u'second' u'secrets' u'see' u'seeing' u'seem']\n",
        "[u'seemingly' u'seems' u'seen' u'sega' u'selection']\n",
        "[u'sense' u'sequel' u'sequences' u'series' u'serious']\n",
        "[u'seriously' u'serve' u'serves' u'service' u'serviceable']\n",
        "[u'set' u'sets' u'setting' u'seven' u'several']\n",
        "[u'shadow' u'shadows' u'shallow' u'shame' u'share']\n",
        "[u'sharp' u'sheer' u'shine' u'shines' u'shining']\n",
        "[u'shoddy' u'shoot' u'shooter' u'shooters' u'shooting']\n",
        "[u'short' u'shortcomings' u'shots' u'should' u'shouldn']\n",
        "[u'show' u'showdown' u'showing' u'shows' u'side']\n",
        "[u'significant' u'significantly' u'silent' u'silly' u'sim']\n",
        "[u'simcity' u'similar' u'simple' u'simplicity' u'simplistic']\n",
        "[u'simply' u'sims' u'simulation' u'simulator' u'simultaneously']\n",
        "[u'since' u'single' u'sitting' u'six' u'skateboarding']\n",
        "[u'skater' u'skies' u'skill' u'skip' u'sky']\n",
        "[u'slash' u'sleeping' u'slick' u'slightly' u'sloppy']\n",
        "[u'slow' u'sluggish' u'smackdown' u'small' u'smart']\n",
        "[u'smash' u'smooth' u'sniper' u'snk' u'snowboarding']\n",
        "[u'so' u'soccer' u'social' u'software' u'soldier']\n",
        "[u'solid' u'solo' u'solving' u'some' u'someone']\n",
        "[u'something' u'sometimes' u'somewhat' u'sonic' u'sony']\n",
        "[u'soon' u'sophisticated' u'sort' u'soul' u'souls']\n",
        "[u'sound' u'sounds' u'soundtrack' u'source' u'space']\n",
        "[u'spec' u'special' u'spectacular' u'speed' u'spend']\n",
        "[u'spent' u'spider' u'spin' u'spirit' u'spite']\n",
        "[u'splinter' u'sport' u'sports' u'spots' u'spy']\n",
        "[u'squad' u'squadron' u'squarely' u'ssx' u'stale']\n",
        "[u'stand' u'standard' u'standards' u'stands' u'star']\n",
        "[u'stars' u'start' u'starts' u'state' u'status']\n",
        "[u'stay' u'stealth' u'steel' u'steep' u'stellar']\n",
        "[u'step' u'stick' u'stiff' u'still' u'stock']\n",
        "[u'stories' u'storm' u'story' u'storyline' u'storytelling']\n",
        "[u'straight' u'straightforward' u'strange' u'strategic' u'strategy']\n",
        "[u'stray' u'streamlined' u'street' u'strengths' u'strike']\n",
        "[u'strikes' u'striking' u'stripped' u'strong' u'structure']\n",
        "[u'stuck' u'stuff' u'stumbles' u'stunning' u'style']\n",
        "[u'styles' u'stylish' u'subject' u'substance' u'substandard']\n",
        "[u'substantial' u'subtle' u'succeed' u'succeeds' u'success']\n",
        "[u'successful' u'successfully' u'such' u'sucks' u'suffers']\n",
        "[u'suit' u'suitable' u'suited' u'sum' u'super']\n",
        "[u'superb' u'superior' u'support' u'sure' u'surely']\n",
        "[u'surface' u'surprise' u'surprises' u'surprising' u'surprisingly']\n",
        "[u'surreal' u'survival' u'sweet' u'sword' u'system']\n",
        "[u'systems' u'table' u'tactical' u'tactics' u'tag']\n",
        "[u'take' u'taken' u'takes' u'taking' u'tale']\n",
        "[u'tales' u'tank' u'taste' u'team' u'technical']\n",
        "[u'technically' u'technology' u'tedious' u'tedium' u'tekken']\n",
        "[u'television' u'tennis' u'tense' u'term' u'terms']\n",
        "[u'terrible' u'terribly' u'terrific' u'territory' u'test']\n",
        "[u'tetris' u'than' u'thanks' u'that' u'the']\n",
        "[u'theft' u'their' u'them' u'theme' u'themed']\n",
        "[u'themselves' u'then' u'there' u'these' u'they']\n",
        "[u'thin' u'thing' u'things' u'think' u'third']\n",
        "[u'this' u'thoroughly' u'those' u'though' u'thought']\n",
        "[u'three' u'thrill' u'thrilling' u'thrills' u'through']\n",
        "[u'throughout' u'throwback' u'thunder' u'thus' u'tie']\n",
        "[u'tiger' u'tight' u'time' u'times' u'tired']\n",
        "[u'title' u'titles' u'to' u'today' u'together']\n",
        "[u'tolerate' u'tomb' u'ton' u'tone' u'tons']\n",
        "[u'tony' u'too' u'tools' u'top' u'total']\n",
        "[u'totally' u'touch' u'touches' u'tough' u'tour']\n",
        "[u'tournament' u'toward' u'tower' u'town' u'toy']\n",
        "[u'track' u'tracks' u'traditional' u'transformers' u'transition']\n",
        "[u'translate' u'translation' u'trappings' u'treasure' u'treat']\n",
        "[u'trek' u'tribute' u'tricks' u'tried' u'tries']\n",
        "[u'trilogy' u'trip' u'trivia' u'trouble' u'true']\n",
        "[u'truly' u'try' u'trying' u'tunes' u'turn']\n",
        "[u'turned' u'turns' u'tv' u'tweaks' u'twist']\n",
        "[u'twisted' u'twists' u'two' u'tycoon' u'type']\n",
        "[u'types' u'typical' u'ugly' u'ultimate' u'ultimately']\n",
        "[u'under' u'underdeveloped' u'underground' u'underworld' u'undoubtedly']\n",
        "[u'uneven' u'unfinished' u'unfortunate' u'unfortunately' u'uninspired']\n",
        "[u'uninteresting' u'unique' u'units' u'universe' u'unleashed']\n",
        "[u'unless' u'unlike' u'unlikely' u'unnecessary' u'unoriginal']\n",
        "[u'unplayable' u'unpolished' u'unremarkable' u'unresponsive'\n",
        " u'unsatisfying']\n",
        "[u'until' u'unusual' u'up' u'update' u'updated']\n",
        "[u'upgrade' u'upon' u'ups' u'urban' u'us']\n",
        "[u'use' u'used' u'useless' u'uses' u'value']\n",
        "[u'values' u'varied' u'variety' u'various' u'vast']\n",
        "[u've' u'vehicle' u'vehicular' u'vengeance' u'version']\n",
        "[u'versions' u'very' u'veteran' u'veterans' u'victory']\n",
        "[u'video' u'violent' u'virtua' u'virtual' u'virtually']\n",
        "[u'visual' u'visually' u'visuals' u'vita' u'vs']\n",
        "[u'wacky' u'waiting' u'walking' u'want' u'wants']\n",
        "[u'war' u'warfare' u'wargame' u'warrant' u'warrior']\n",
        "[u'warriors' u'wars' u'was' u'wasn' u'waste']\n",
        "[u'watch' u'water' u'watered' u'way' u'ways']\n",
        "[u'we' u'weak' u'wealth' u'weapons' u'wears']\n",
        "[u'welcome' u'well' u'were' u'weren' u'what']\n",
        "[u'whatsoever' u'wheel' u'when' u'where' u'whether']\n",
        "[u'which' u'while' u'whistles' u'white' u'who']\n",
        "[u'whole' u'wholly' u'whose' u'why' u'wide']\n",
        "[u'wii' u'wild' u'wildly' u'will' u'willing']\n",
        "[u'win' u'winds' u'wing' u'winner' u'winning']\n",
        "[u'wipeout' u'with' u'within' u'without' u'won']\n",
        "[u'wonder' u'wonderful' u'wonderfully' u'woods' u'word']\n",
        "[u'work' u'works' u'world' u'worlds' u'worms']\n",
        "[u'worn' u'worse' u'worst' u'worth' u'worthwhile']\n",
        "[u'worthy' u'would' u'wrapped' u'wrestlemania' u'wrestling']\n"
       ]
      }
     ],
     "prompt_number": 22
    },
    {
     "cell_type": "code",
     "collapsed": false,
     "input": [
      "from sklearn.neighbors import KNeighborsRegressor\n",
      "\n",
      "knnr = KNeighborsRegressor(n_neighbors=5, weights='uniform', algorithm='auto', \n",
      "                           leaf_size=30, p=2, metric='minkowski', metric_params=None)"
     ],
     "language": "python",
     "metadata": {},
     "outputs": [],
     "prompt_number": 24
    },
    {
     "cell_type": "code",
     "collapsed": false,
     "input": [
      "#print len(Y)\n",
      "#print zip(Y[0:20],scores[0:20])\n",
      "#print scores[0:20]\n",
      "knnr.fit(X, scores[ind])"
     ],
     "language": "python",
     "metadata": {},
     "outputs": [
      {
       "metadata": {},
       "output_type": "pyout",
       "prompt_number": 32,
       "text": [
        "KNeighborsRegressor(algorithm='auto', leaf_size=30, metric='minkowski',\n",
        "          metric_params=None, n_neighbors=5, p=2, weights='uniform')"
       ]
      }
     ],
     "prompt_number": 32
    },
    {
     "cell_type": "code",
     "collapsed": false,
     "input": [
      "import time\n",
      "t0 = time.time()\n",
      "pred = knnr.predict(X)\n",
      "dt = time.time()-t0\n",
      "print dt"
     ],
     "language": "python",
     "metadata": {},
     "outputs": [
      {
       "output_type": "stream",
       "stream": "stdout",
       "text": [
        "1309.45497799\n"
       ]
      }
     ],
     "prompt_number": 33
    },
    {
     "cell_type": "code",
     "collapsed": false,
     "input": [
      "# above prediction takes ~20 minutes on my macbook pro\n",
      "import matplotlib.pyplot as plt\n",
      "print type(pred)"
     ],
     "language": "python",
     "metadata": {},
     "outputs": [
      {
       "output_type": "stream",
       "stream": "stdout",
       "text": [
        "<type 'numpy.ndarray'>\n"
       ]
      }
     ],
     "prompt_number": 34
    },
    {
     "cell_type": "code",
     "collapsed": false,
     "input": [
      "%matplotlib inline\n",
      "plt.scatter(scores[ind],pred, s=2, edgecolor='none')\n",
      "plt.plot(np.array([0,10]), np.array([0,10]), c='r')\n",
      "plt.xlim((-0.5,10.5))\n",
      "plt.ylim((-0.5,10.5))\n",
      "plt.xlabel('actual rating')\n",
      "plt.ylabel('predicted rating')\n",
      "plt.title('KNN regression results')"
     ],
     "language": "python",
     "metadata": {},
     "outputs": [
      {
       "metadata": {},
       "output_type": "pyout",
       "prompt_number": 44,
       "text": [
        "<matplotlib.text.Text at 0x10eb4a210>"
       ]
      },
      {
       "metadata": {},
       "output_type": "display_data",
       "png": "[encoded data removed]",
       "text": [
        "<matplotlib.figure.Figure at 0x10c62cad0>"
       ]
      }
     ],
     "prompt_number": 44
    },
    {
     "cell_type": "code",
     "collapsed": false,
     "input": [
      "print np.mean(pred), np.mean(scores)\n",
      "print np.median(pred), np.median(scores)"
     ],
     "language": "python",
     "metadata": {},
     "outputs": [
      {
       "output_type": "stream",
       "stream": "stdout",
       "text": [
        "6.19460860725 6.70217722806\n",
        "6.26 7.0\n"
       ]
      }
     ],
     "prompt_number": 45
    },
    {
     "cell_type": "code",
     "collapsed": false,
     "input": [],
     "language": "python",
     "metadata": {},
     "outputs": []
    }
   ],
   "metadata": {}
  }
 ]
}