{
 "metadata": {
  "name": "",
  "signature": "sha256:259afb3c71cb7df8e2026b469767e26936cdd5011a1684f33f3962397be08371"
 },
 "nbformat": 3,
 "nbformat_minor": 0,
 "worksheets": [
  {
   "cells": [
    {
     "cell_type": "markdown",
     "metadata": {},
     "source": [
      "Text Classification"
     ]
    },
    {
     "cell_type": "code",
     "collapsed": false,
     "input": [
      "import json\n",
      "import numpy as np\n",
      "f = open('data/gamespot.json')\n",
      "data = json.load(f)"
     ],
     "language": "python",
     "metadata": {},
     "outputs": [],
     "prompt_number": 29
    },
    {
     "cell_type": "code",
     "collapsed": false,
     "input": [
      "len(data)"
     ],
     "language": "python",
     "metadata": {},
     "outputs": [
      {
       "metadata": {},
       "output_type": "pyout",
       "prompt_number": 30,
       "text": [
        "13702"
       ]
      }
     ],
     "prompt_number": 30
    },
    {
     "cell_type": "code",
     "collapsed": false,
     "input": [
      "rev_list = np.array([g['summary'] for g in data])"
     ],
     "language": "python",
     "metadata": {},
     "outputs": [],
     "prompt_number": 31
    },
    {
     "cell_type": "code",
     "collapsed": false,
     "input": [
      "len(rev_list)\n",
      "min_df = 0.001"
     ],
     "language": "python",
     "metadata": {},
     "outputs": [],
     "prompt_number": 32
    },
    {
     "cell_type": "code",
     "collapsed": false,
     "input": [
      "print data[0]\n",
      "scores = np.array([g['score'] for g in data]).astype(float)\n",
      "print len(scores)\n",
      "\n",
      "u, ind_u = np.unique(rev_list, return_index=True)\n",
      "rev_list = rev_list[ind_u]\n",
      "scores = scores[ind_u]\n",
      "\n",
      "print float(np.sum(scores > 7))/len(scores)\n",
      "\n",
      "Y = (scores > 7) # 1s and 0s, split in an almost balanced fashion"
     ],
     "language": "python",
     "metadata": {},
     "outputs": [
      {
       "output_type": "stream",
       "stream": "stdout",
       "text": [
        "{u'score': u'8', u'summary': u' The Unfinished Swan on the PlayStation 4 is a pretty game made prettier, and a gentle charmer in its own right.', u'datetime': u'2014-11-06 18:50:00'}\n",
        "13702\n",
        "0.461707895629"
       ]
      },
      {
       "output_type": "stream",
       "stream": "stdout",
       "text": [
        "\n"
       ]
      }
     ],
     "prompt_number": 33
    },
    {
     "cell_type": "code",
     "collapsed": false,
     "input": [
      "print len(scores)\n",
      "#randint(0, len(rev_list)-1, nsample])\n",
      "ind = np.random.choice(np.arange(len(scores)), size=nsample)"
     ],
     "language": "python",
     "metadata": {},
     "outputs": [
      {
       "output_type": "stream",
       "stream": "stdout",
       "text": [
        "11804\n"
       ]
      }
     ],
     "prompt_number": 34
    },
    {
     "cell_type": "code",
     "collapsed": false,
     "input": [
      "from sklearn.feature_extraction.text import CountVectorizer\n",
      "from sklearn.naive_bayes import MultinomialNB"
     ],
     "language": "python",
     "metadata": {},
     "outputs": [],
     "prompt_number": 35
    },
    {
     "cell_type": "code",
     "collapsed": false,
     "input": [
      "vectorizer = CountVectorizer(min_df=min_df)\n",
      "vectorizer.fit(rev_list[ind])\n",
      "\n",
      "# create bag of words\n",
      "X = vectorizer.transform(rev_list[ind])"
     ],
     "language": "python",
     "metadata": {},
     "outputs": [],
     "prompt_number": 36
    },
    {
     "cell_type": "code",
     "collapsed": false,
     "input": [
      "clf = MultinomialNB().fit(X, Y[ind])"
     ],
     "language": "python",
     "metadata": {},
     "outputs": [],
     "prompt_number": 37
    },
    {
     "cell_type": "code",
     "collapsed": false,
     "input": [
      "print \"Accuracy: %0.2f%%\" % (100 * clf.score(X, Y[ind]))"
     ],
     "language": "python",
     "metadata": {},
     "outputs": [
      {
       "output_type": "stream",
       "stream": "stdout",
       "text": [
        "Accuracy: 81.21%\n"
       ]
      }
     ],
     "prompt_number": 38
    },
    {
     "cell_type": "code",
     "collapsed": false,
     "input": [
      "print X.shape"
     ],
     "language": "python",
     "metadata": {},
     "outputs": [
      {
       "output_type": "stream",
       "stream": "stdout",
       "text": [
        "(13702, 2082)\n"
       ]
      }
     ],
     "prompt_number": 39
    },
    {
     "cell_type": "code",
     "collapsed": false,
     "input": [
      "words = np.array(vectorizer.get_feature_names())"
     ],
     "language": "python",
     "metadata": {},
     "outputs": [],
     "prompt_number": 40
    },
    {
     "cell_type": "code",
     "collapsed": false,
     "input": [
      "x = np.eye(X.shape[1])\n",
      "probs = clf.predict_log_proba(x)[:, 0]\n",
      "ix = np.argsort(probs)\n",
      "\n",
      "n_example=10\n",
      "\n",
      "good_words = words[ix[:n_example]]\n",
      "bad_words = words[ix[-n_example:]]\n",
      "bad_words = bad_words[::-1]\n",
      "\n",
      "good_prob = probs[ix[:n_example]]\n",
      "bad_prob = probs[ix[-n_example:]]\n",
      "bad_prob = bad_prob[::-1]\n",
      "\n",
      "print \"Best words\\t     P(Good | word)\"\n",
      "for w, p in zip(good_words, good_prob):\n",
      "    print \"%20s\" % w, \"%0.3f\" % (1 - np.exp(p))\n",
      "    \n",
      "print \"Worst words\\t     P(Good | word)\"\n",
      "for w, p in zip(bad_words, bad_prob):\n",
      "    print \"%20s\" % w, \"%0.3f\" % (1 - np.exp(p))"
     ],
     "language": "python",
     "metadata": {},
     "outputs": [
      {
       "output_type": "stream",
       "stream": "stdout",
       "text": [
        "Best words\t     P(Good | word)\n",
        "                rare 0.973\n",
        "               notch 0.960\n",
        "        enhancements 0.951\n",
        "          engrossing 0.948\n",
        "              superb 0.945\n",
        "                vast 0.944\n",
        "            arguably 0.933\n",
        "            stunning 0.921\n",
        "               treat 0.914\n",
        "      representation 0.898\n",
        "Worst words\t     P(Good | word)\n",
        "            terrible 0.015\n",
        "               awful 0.024\n",
        "               avoid 0.025\n",
        "              clunky 0.026\n",
        "              clumsy 0.028\n",
        "              boring 0.030\n",
        "          mediocrity 0.031\n",
        "               lousy 0.031\n",
        "               young 0.033\n",
        "       uninteresting 0.034\n"
       ]
      }
     ],
     "prompt_number": 78
    },
    {
     "cell_type": "code",
     "collapsed": false,
     "input": [
      "# try some amusing features\n",
      "print clf.predict_proba(vectorizer.transform(['buggy']))"
     ],
     "language": "python",
     "metadata": {},
     "outputs": [
      {
       "output_type": "stream",
       "stream": "stdout",
       "text": [
        "[[ 0.95094219  0.04905781]]\n"
       ]
      }
     ],
     "prompt_number": 76
    },
    {
     "cell_type": "code",
     "collapsed": false,
     "input": [
      "from sklearn.ensemble import RandomForestClassifier\n",
      "from sklearn.cross_validation import cross_val_score\n",
      "\n",
      "n_tree = 1\n",
      "rfc = RandomForestClassifier(n_estimators=n_tree)\n",
      "scores_list = cross_val_score(rfc, X.toarray(), Y[ind], cv=10)"
     ],
     "language": "python",
     "metadata": {},
     "outputs": [],
     "prompt_number": 50
    },
    {
     "cell_type": "code",
     "collapsed": false,
     "input": [
      "scores_list"
     ],
     "language": "python",
     "metadata": {},
     "outputs": [
      {
       "metadata": {},
       "output_type": "pyout",
       "prompt_number": 51,
       "text": [
        "array([ 0.78701678,  0.78482859,  0.78321168,  0.8       ,  0.7919708 ,\n",
        "        0.82189781,  0.78321168,  0.8080292 ,  0.80364964,  0.78613139])"
       ]
      }
     ],
     "prompt_number": 51
    },
    {
     "cell_type": "code",
     "collapsed": false,
     "input": [
      "n_tree = 2\n",
      "rfc = RandomForestClassifier(n_estimators=n_tree)\n",
      "scores_list = cross_val_score(rfc, X.toarray(), Y[ind], cv=10)"
     ],
     "language": "python",
     "metadata": {},
     "outputs": [],
     "prompt_number": 52
    },
    {
     "cell_type": "code",
     "collapsed": false,
     "input": [
      "scores_list"
     ],
     "language": "python",
     "metadata": {},
     "outputs": [
      {
       "metadata": {},
       "output_type": "pyout",
       "prompt_number": 53,
       "text": [
        "array([ 0.80671043,  0.79504012,  0.76350365,  0.80291971,  0.80510949,\n",
        "        0.79416058,  0.79270073,  0.8       ,  0.80583942,  0.78905109])"
       ]
      }
     ],
     "prompt_number": 53
    },
    {
     "cell_type": "code",
     "collapsed": false,
     "input": [
      "n_tree = 10\n",
      "rfc = RandomForestClassifier(n_estimators=n_tree)\n",
      "scores_list = cross_val_score(rfc, X.toarray(), Y[ind], cv=10)\n",
      "scores_list"
     ],
     "language": "python",
     "metadata": {},
     "outputs": [
      {
       "metadata": {},
       "output_type": "pyout",
       "prompt_number": 54,
       "text": [
        "array([ 0.89350839,  0.87673231,  0.87737226,  0.88029197,  0.88759124,\n",
        "        0.88905109,  0.88321168,  0.88686131,  0.87080292,  0.88029197])"
       ]
      }
     ],
     "prompt_number": 54
    },
    {
     "cell_type": "code",
     "collapsed": false,
     "input": [
      "n_tree = 20\n",
      "rfc = RandomForestClassifier(n_estimators=n_tree)\n",
      "scores_list = cross_val_score(rfc, X.toarray(), Y[ind], cv=10)\n",
      "scores_list"
     ],
     "language": "python",
     "metadata": {},
     "outputs": [
      {
       "metadata": {},
       "output_type": "pyout",
       "prompt_number": 55,
       "text": [
        "array([ 0.9059081 ,  0.89715536,  0.8729927 ,  0.89781022,  0.89854015,\n",
        "        0.89270073,  0.88540146,  0.90656934,  0.88467153,  0.88905109])"
       ]
      }
     ],
     "prompt_number": 55
    },
    {
     "cell_type": "code",
     "collapsed": false,
     "input": [
      "# check out what the features are\n",
      "for i in range(417):\n",
      "    print words[(5*i):(5*(i+1))]\n",
      "# we can see the potential for stemming here with e.g. \"capture\" and \"captures\" being listed as distinct features"
     ],
     "language": "python",
     "metadata": {},
     "outputs": [
      {
       "output_type": "stream",
       "stream": "stdout",
       "text": [
        "[u'000' u'039' u'06' u'07' u'08']\n",
        "[u'09' u'10' u'13' u'15' u'20']\n",
        "[u'2000' u'2001' u'2002' u'2003' u'2004']\n",
        "[u'2005' u'2006' u'2007' u'2008' u'2012']\n",
        "[u'2d' u'2k7' u'30' u'360' u'3d']\n",
        "[u'40' u'4x4' u'64' u'80s' u'90s']\n",
        "[u'97' u'98' u'99' u'abilities' u'ability']\n",
        "[u'able' u'about' u'above' u'absolute' u'absolutely']\n",
        "[u'absorbing' u'accessibility' u'accessible' u'acclaim' u'accurate']\n",
        "[u'ace' u'achievement' u'across' u'acting' u'action']\n",
        "[u'activision' u'actual' u'actually' u'adaptation' u'add']\n",
        "[u'added' u'addictive' u'adding' u'addition' u'additional']\n",
        "[u'additions' u'adds' u'adequate' u'admirable' u'admission']\n",
        "[u'advance' u'advanced' u'advantage' u'adventure' u'adventures']\n",
        "[u'after' u'again' u'against' u'age' u'aged']\n",
        "[u'agent' u'ages' u'aging' u'ago' u'ai']\n",
        "[u'aimed' u'air' u'albeit' u'alien' u'aliens']\n",
        "[u'alike' u'alive' u'all' u'alley' u'alliance']\n",
        "[u'almost' u'alone' u'along' u'already' u'also']\n",
        "[u'alternative' u'although' u'always' u'amazing' u'ambition']\n",
        "[u'ambitious' u'america' u'american' u'among' u'amount']\n",
        "[u'amp' u'amusing' u'an' u'ancient' u'and']\n",
        "[u'animated' u'animation' u'anime' u'anniversary' u'annoying']\n",
        "[u'another' u'any' u'anyone' u'anything' u'apart']\n",
        "[u'appeal' u'appealing' u'appreciate' u'approach' u'arcade']\n",
        "[u'are' u'areas' u'aren' u'arena' u'arguably']\n",
        "[u'armored' u'arms' u'army' u'around' u'array']\n",
        "[u'art' u'artificial' u'arts' u'as' u'aside']\n",
        "[u'ask' u'aspect' u'aspects' u'assassin' u'assault']\n",
        "[u'at' u'atmosphere' u'atmospheric' u'attempt' u'attempts']\n",
        "[u'attention' u'attitude' u'attractive' u'atv' u'audience']\n",
        "[u'audio' u'authentic' u'auto' u'available' u'average']\n",
        "[u'avoid' u'avoided' u'away' u'awesome' u'awful']\n",
        "[u'awkward' u'back' u'backward' u'bad' u'badly']\n",
        "[u'baked' u'balance' u'balanced' u'ball' u'band']\n",
        "[u'bar' u'bare' u'barely' u'bargain' u'base']\n",
        "[u'baseball' u'based' u'basic' u'basically' u'basics']\n",
        "[u'basketball' u'batman' u'battle' u'battlefield' u'battles']\n",
        "[u'battling' u'be' u'beach' u'beat' u'beautiful']\n",
        "[u'beautifully' u'beauty' u'because' u'become' u'becomes']\n",
        "[u'been' u'before' u'beginning' u'behind' u'being']\n",
        "[u'believe' u'bells' u'beloved' u'best' u'better']\n",
        "[u'between' u'beyond' u'big' u'bigger' u'biggest']\n",
        "[u'bill' u'bioshock' u'bit' u'bizarre' u'black']\n",
        "[u'blade' u'bland' u'blast' u'blazing' u'blend']\n",
        "[u'blends' u'blitz' u'block' u'blood' u'bloody']\n",
        "[u'blow' u'blowing' u'blue' u'bmx' u'board']\n",
        "[u'boasts' u'bold' u'bomberman' u'bones' u'book']\n",
        "[u'boot' u'boredom' u'boring' u'boss' u'both']\n",
        "[u'bottom' u'bowling' u'box' u'boxing' u'boy']\n",
        "[u'brain' u'brand' u'brawler' u'break' u'brief']\n",
        "[u'brilliant' u'bring' u'bringing' u'brings' u'broken']\n",
        "[u'bros' u'brothers' u'brought' u'bruce' u'brutal']\n",
        "[u'bubble' u'budget' u'buffs' u'buggy' u'bugs']\n",
        "[u'building' u'builds' u'built' u'bunch' u'buried']\n",
        "[u'burnout' u'business' u'bust' u'busy' u'but']\n",
        "[u'button' u'buy' u'by' u'call' u'came']\n",
        "[u'camera' u'campaign' u'can' u'candy' u'capable']\n",
        "[u'capcom' u'captivating' u'capture' u'captures' u'capturing']\n",
        "[u'car' u'card' u'care' u'career' u'carries']\n",
        "[u'cars' u'cartoon' u'case' u'cash' u'casino']\n",
        "[u'cast' u'castle' u'castlevania' u'casual' u'category']\n",
        "[u'cell' u'century' u'certain' u'certainly' u'challenge']\n",
        "[u'challenges' u'challenging' u'championship' u'chance' u'change']\n",
        "[u'changes' u'chaos' u'chapter' u'character' u'characters']\n",
        "[u'charm' u'charming' u'charms' u'cheap' u'check']\n",
        "[u'checking' u'chess' u'chessmaster' u'children' u'choice']\n",
        "[u'choices' u'choose' u'chore' u'chronicles' u'cinematic']\n",
        "[u'city' u'civilization' u'clash' u'class' u'classic']\n",
        "[u'classics' u'clear' u'clearly' u'clever' u'click']\n",
        "[u'clone' u'close' u'club' u'clumsy' u'clunky']\n",
        "[u'co' u'code' u'cold' u'collectible' u'collection']\n",
        "[u'college' u'collision' u'color' u'colorful' u'combat']\n",
        "[u'combination' u'combine' u'combined' u'combines' u'come']\n",
        "[u'comes' u'comic' u'coming' u'command' u'commander']\n",
        "[u'commando' u'compared' u'comparison' u'compelling' u'compensate']\n",
        "[u'competent' u'competition' u'competitive' u'compilation' u'complete']\n",
        "[u'completely' u'complex' u'complexity' u'complicated' u'compromises']\n",
        "[u'computer' u'conceived' u'concept' u'concepts' u'conclusion']\n",
        "[u'conflict' u'conquer' u'consider' u'considered' u'considering']\n",
        "[u'consistently' u'console' u'consoles' u'contains' u'content']\n",
        "[u'continues' u'contra' u'control' u'controller' u'controls']\n",
        "[u'conventions' u'cookie' u'cool' u'cooperative' u'copy']\n",
        "[u'core' u'costs' u'could' u'couldn' u'counterpart']\n",
        "[u'counterparts' u'country' u'couple' u'courses' u'crafted']\n",
        "[u'crafting' u'crash' u'crawler' u'crazy' u'create']\n",
        "[u'created' u'creates' u'creating' u'creation' u'creative']\n",
        "[u'creatures' u'creed' u'creepy' u'crime' u'crisis']\n",
        "[u'cross' u'crowd' u'cry' u'cup' u'current']\n",
        "[u'currently' u'curse' u'curve' u'customization' u'cut']\n",
        "[u'cute' u'cutscenes' u'cutter' u'dance' u'dangerous']\n",
        "[u'dark' u'darkness' u'dash' u'date' u'dated']\n",
        "[u'day' u'days' u'dead' u'deadly' u'deal']\n",
        "[u'death' u'debut' u'decade' u'decent' u'decidedly']\n",
        "[u'decisions' u'dedicated' u'deep' u'deeper' u'defense']\n",
        "[u'definitely' u'definitive' u'delight' u'delightful' u'deliver']\n",
        "[u'delivering' u'delivers' u'delta' u'deluxe' u'depth']\n",
        "[u'derivative' u'deserves' u'design' u'designed' u'designs']\n",
        "[u'despite' u'destiny' u'destruction' u'detail' u'details']\n",
        "[u'detract' u'developer' u'developers' u'development' u'devil']\n",
        "[u'diablo' u'dialogue' u'did' u'didn' u'die']\n",
        "[u'diehard' u'different' u'difficult' u'difficulty' u'digital']\n",
        "[u'dirt' u'disappoint' u'disappointed' u'disappointing' u'disappointment']\n",
        "[u'disgaea' u'disney' u'distinct' u'distinctive' u'distinguish']\n",
        "[u'diverse' u'diversion' u'do' u'does' u'doesn']\n",
        "[u'doing' u'don' u'done' u'donkey' u'doom']\n",
        "[u'double' u'doubt' u'down' u'download' u'downloadable']\n",
        "[u'dozens' u'drag' u'dragon' u'draw' u'dreamcast']\n",
        "[u'drive' u'driven' u'driver' u'driving' u'drop']\n",
        "[u'ds' u'dual' u'due' u'dull' u'dumb']\n",
        "[u'dungeon' u'dungeons' u'duty' u'dynamic' u'dynasty']\n",
        "[u'ea' u'each' u'earlier' u'early' u'earn']\n",
        "[u'earth' u'easily' u'easy' u'ecw' u'edge']\n",
        "[u'edges' u'edition' u'effect' u'effectively' u'effects']\n",
        "[u'effort' u'eight' u'either' u'element' u'elements']\n",
        "[u'elevate' u'elite' u'else' u'elsewhere' u'em']\n",
        "[u'emergency' u'emphasis' u'empire' u'emulation' u'end']\n",
        "[u'endearing' u'endless' u'ends' u'enemies' u'enemy']\n",
        "[u'energy' u'engaging' u'engine' u'engrossing' u'enhanced']\n",
        "[u'enhancements' u'enjoy' u'enjoyable' u'enjoyed' u'enjoying']\n",
        "[u'enjoyment' u'enough' u'entertain' u'entertained' u'entertaining']\n",
        "[u'entertainment' u'enthusiasts' u'enticing' u'entire' u'entirely']\n",
        "[u'entry' u'environments' u'epic' u'episode' u'era']\n",
        "[u'escape' u'especially' u'espn' u'essence' u'essentially']\n",
        "[u'established' u'even' u'events' u'ever' u'everquest']\n",
        "[u'every' u'everyone' u'everything' u'evil' u'evolution']\n",
        "[u'evolved' u'ex' u'exactly' u'example' u'excellent']\n",
        "[u'except' u'exception' u'exceptional' u'excited' u'excitement']\n",
        "[u'exciting' u'executed' u'execution' u'exercise' u'existing']\n",
        "[u'expansion' u'expansive' u'expect' u'experience' u'experienced']\n",
        "[u'experiences' u'experiment' u'exploration' u'explore' u'explosive']\n",
        "[u'extra' u'extras' u'extreme' u'extremely' u'eye']\n",
        "[u'eyes' u'f1' u'fable' u'fact' u'fail']\n",
        "[u'fails' u'fair' u'fairly' u'faithful' u'faithfully']\n",
        "[u'fall' u'fallout' u'falls' u'familiar' u'family']\n",
        "[u'famous' u'fan' u'fanatics' u'fancy' u'fans']\n",
        "[u'fantastic' u'fantasy' u'far' u'fashioned' u'fast']\n",
        "[u'faults' u'favor' u'favorite' u'feat' u'feature']\n",
        "[u'featured' u'features' u'featuring' u'feel' u'feeling']\n",
        "[u'feels' u'few' u'fi' u'fiction' u'field']\n",
        "[u'fifa' u'fight' u'fighter' u'fighters' u'fighting']\n",
        "[u'fights' u'filled' u'film' u'final' u'finally']\n",
        "[u'find' u'fine' u'finely' u'finest' u'finish']\n",
        "[u'fire' u'first' u'fishing' u'fit' u'fits']\n",
        "[u'five' u'fix' u'flashy' u'flat' u'flawed']\n",
        "[u'flaws' u'flight' u'flying' u'focus' u'focused']\n",
        "[u'follow' u'football' u'for' u'force' u'forces']\n",
        "[u'forget' u'forgettable' u'form' u'formula' u'fortress']\n",
        "[u'forward' u'found' u'foundation' u'four' u'fox']\n",
        "[u'frame' u'franchise' u'franchises' u'free' u'freedom']\n",
        "[u'freestyle' u'frenetic' u'fresh' u'friendly' u'friends']\n",
        "[u'frills' u'from' u'front' u'frustrating' u'frustratingly']\n",
        "[u'frustration' u'frustrations' u'fu' u'full' u'fully']\n",
        "[u'fun' u'functional' u'fundamentals' u'funny' u'further']\n",
        "[u'fury' u'future' u'futuristic' u'gage' u'gallery']\n",
        "[u'game' u'gamecube' u'gameday' u'gameplay' u'gamer']\n",
        "[u'gamers' u'games' u'gaming' u'gate' u'gathering']\n",
        "[u'gba' u'gear' u'gem' u'general' u'generally']\n",
        "[u'generation' u'generic' u'genre' u'genres' u'genuinely']\n",
        "[u'get' u'gets' u'getting' u'ghost' u'giant']\n",
        "[u'give' u'given' u'gives' u'giving' u'glaring']\n",
        "[u'glitches' u'go' u'goal' u'god' u'goes']\n",
        "[u'going' u'gold' u'golden' u'golf' u'gone']\n",
        "[u'good' u'goofy' u'gorgeous' u'gory' u'got']\n",
        "[u'grand' u'graphical' u'graphics' u'great' u'greatest']\n",
        "[u'greatly' u'greatness' u'grind' u'gripping' u'ground']\n",
        "[u'gt' u'guitar' u'gun' u'guns' u'hack']\n",
        "[u'had' u'half' u'hampered' u'hand' u'handful']\n",
        "[u'handheld' u'handling' u'hands' u'happy' u'hard']\n",
        "[u'hardcore' u'hardly' u'hardware' u'harry' u'harvest']\n",
        "[u'has' u'hasn' u'have' u'haven' u'having']\n",
        "[u'hawk' u'hd' u'he' u'head' u'heart']\n",
        "[u'hearts' u'heat' u'heavily' u'heavy' u'held']\n",
        "[u'hell' u'help' u'here' u'hero' u'heroes']\n",
        "[u'hidden' u'hide' u'high' u'highlights' u'highly']\n",
        "[u'his' u'historical' u'history' u'hit' u'hits']\n",
        "[u'hockey' u'hold' u'holds' u'home' u'honor']\n",
        "[u'hoops' u'hope' u'horrible' u'horror' u'host']\n",
        "[u'hot' u'hour' u'hours' u'house' u'how']\n",
        "[u'however' u'huge' u'human' u'humor' u'hunt']\n",
        "[u'hunter' u'hybrid' u'idea' u'ideal' u'ideas']\n",
        "[u'identical' u'if' u'ii' u'iii' u'imaginative']\n",
        "[u'immediately' u'immensely' u'immersive' u'impact' u'implemented']\n",
        "[u'import' u'important' u'impossible' u'impressive' u'improve']\n",
        "[u'improved' u'improvement' u'improvements' u'improves' u'in']\n",
        "[u'included' u'includes' u'inclusion' u'inconsistent' u'incredible']\n",
        "[u'incredibly' u'indeed' u'infinite' u'initial' u'innovation']\n",
        "[u'innovative' u'insane' u'inspiration' u'inspired' u'installment']\n",
        "[u'instead' u'intact' u'intelligence' u'intense' u'intensity']\n",
        "[u'interactive' u'interest' u'interested' u'interesting' u'interface']\n",
        "[u'into' u'intricate' u'intriguing' u'introduces' u'introduction']\n",
        "[u'intuitive' u'invasion' u'inventive' u'investment' u'involved']\n",
        "[u'involving' u'iron' u'is' u'island' u'isn']"
       ]
      },
      {
       "output_type": "stream",
       "stream": "stdout",
       "text": [
        "\n",
        "[u'issues' u'it' u'iteration' u'its' u'itself']\n",
        "[u'iv' u'jack' u'jam' u'jamdat' u'japanese']\n",
        "[u'jet' u'job' u'journey' u'joy' u'jr']\n",
        "[u'jump' u'just' u'justice' u'justify' u'karaoke']\n",
        "[u'kart' u'keep' u'keeps' u'key' u'kick']\n",
        "[u'kid' u'kids' u'kill' u'killer' u'kind']\n",
        "[u'kinect' u'king' u'kingdom' u'kingdoms' u'kings']\n",
        "[u'know' u'known' u'kombat' u'konami' u'kong']\n",
        "[u'lack' u'lacking' u'lackluster' u'lacks' u'lame']\n",
        "[u'land' u'large' u'largely' u'last' u'lasting']\n",
        "[u'lasts' u'late' u'later' u'latest' u'laughs']\n",
        "[u'law' u'lazy' u'league' u'leap' u'learn']\n",
        "[u'learning' u'least' u'leave' u'leaves' u'leaving']\n",
        "[u'left' u'legacy' u'legend' u'legends' u'lego']\n",
        "[u'length' u'lengthy' u'less' u'let' u'lets']\n",
        "[u'level' u'levels' u'library' u'license' u'licensed']\n",
        "[u'life' u'lifeless' u'light' u'lighthearted' u'like']\n",
        "[u'liked' u'likely' u'likes' u'limit' u'limitations']\n",
        "[u'limited' u'line' u'list' u'little' u'live']\n",
        "[u'lived' u'lives' u'living' u'll' u'loaded']\n",
        "[u'loading' u'loads' u'long' u'longer' u'longevity']\n",
        "[u'longtime' u'look' u'looking' u'looks' u'looney']\n",
        "[u'loot' u'loses' u'lost' u'lot' u'lots']\n",
        "[u'lousy' u'love' u'low' u'machine' u'machines']\n",
        "[u'madden' u'made' u'madness' u'magic' u'magical']\n",
        "[u'main' u'major' u'make' u'makes' u'making']\n",
        "[u'man' u'managed' u'management' u'manager' u'manages']\n",
        "[u'mania' u'many' u'mar' u'marginal' u'mario']\n",
        "[u'mark' u'market' u'marks' u'marred' u'marvel']\n",
        "[u'mask' u'mass' u'massive' u'master' u'match']\n",
        "[u'material' u'matter' u'max' u'may' u'mayhem']\n",
        "[u'mean' u'means' u'measure' u'mech' u'mechanics']\n",
        "[u'mechwarrior' u'medal' u'medieval' u'mediocre' u'mediocrity']\n",
        "[u'meet' u'mega' u'memorable' u'memory' u'men']\n",
        "[u'mere' u'merely' u'merits' u'mess' u'metal']\n",
        "[u'micromanagement' u'microsoft' u'middle' u'midway' u'might']\n",
        "[u'military' u'mill' u'mind' u'mindless' u'minigame']\n",
        "[u'minigames' u'minor' u'minutes' u'mirror' u'miss']\n",
        "[u'missed' u'missing' u'mission' u'missions' u'mix']\n",
        "[u'mixes' u'mlb' u'mobile' u'mode' u'model']\n",
        "[u'modern' u'modes' u'modest' u'moments' u'money']\n",
        "[u'monkey' u'monster' u'monsters' u'months' u'moon']\n",
        "[u'more' u'mortal' u'most' u'mostly' u'motion']\n",
        "[u'motocross' u'motogp' u'motorcycle' u'move' u'moves']\n",
        "[u'movie' u'movies' u'moving' u'much' u'multiplayer']\n",
        "[u'mundane' u'music' u'must' u'mutant' u'mx']\n",
        "[u'myst' u'mystery' u'n64' u'namco' u'name']\n",
        "[u'namesake' u'narrative' u'naruto' u'nascar' u'nature']\n",
        "[u'naval' u'nba' u'ncaa' u'near' u'nearly']\n",
        "[u'neat' u'necessarily' u'need' u'needed' u'needs']\n",
        "[u'neither' u'neo' u'nes' u'network' u'never']\n",
        "[u'new' u'newcomers' u'next' u'nfl' u'nhl']\n",
        "[u'nice' u'nicely' u'night' u'nightmare' u'ninja']\n",
        "[u'nintendo' u'no' u'none' u'nonetheless' u'nor']\n",
        "[u'nostalgia' u'nostalgic' u'not' u'notable' u'notch']\n",
        "[u'noteworthy' u'nothing' u'novel' u'novelty' u'novice']\n",
        "[u'now' u'number' u'numbers' u'numerous' u'obvious']\n",
        "[u'occasional' u'occasionally' u'odyssey' u'of' u'off']\n",
        "[u'offer' u'offering' u'offerings' u'offers' u'often']\n",
        "[u'old' u'older' u'olympic' u'on' u'once']\n",
        "[u'one' u'ones' u'online' u'only' u'onto']\n",
        "[u'op' u'open' u'operation' u'opponents' u'opportunity']\n",
        "[u'ops' u'options' u'or' u'order' u'oriented']\n",
        "[u'original' u'originality' u'other' u'others' u'otherwise']\n",
        "[u'ought' u'out' u'outdated' u'outing' u'outside']\n",
        "[u'outstanding' u'over' u'overall' u'overcome' u'overcomes']\n",
        "[u'overlook' u'overly' u'overshadow' u'overshadowed' u'own']\n",
        "[u'owner' u'owners' u'pac' u'pace' u'paced']\n",
        "[u'pacific' u'pacing' u'pack' u'package' u'packed']\n",
        "[u'packs' u'painfully' u'paint' u'panzer' u'paper']\n",
        "[u'paradise' u'park' u'part' u'particularly' u'parts']\n",
        "[u'party' u'pass' u'passable' u'passing' u'past']\n",
        "[u'path' u'patience' u'patient' u'pc' u'people']\n",
        "[u'perfect' u'performance' u'perhaps' u'period' u'person']\n",
        "[u'personality' u'perspective' u'pga' u'phone' u'physics']\n",
        "[u'pick' u'picking' u'piece' u'pieces' u'pinball']\n",
        "[u'pirate' u'pitch' u'place' u'places' u'plagued']\n",
        "[u'planet' u'platform' u'platformer' u'platformers' u'platforming']\n",
        "[u'play' u'playability' u'playable' u'played' u'player']\n",
        "[u'players' u'playing' u'plays' u'playstation' u'pleasant']\n",
        "[u'please' u'pleased' u'plenty' u'plot' u'plus']\n",
        "[u'pocket' u'point' u'points' u'pokemon' u'poker']\n",
        "[u'pok\\xe9mon' u'polish' u'polished' u'pool' u'poor']\n",
        "[u'poorly' u'pop' u'popular' u'port' u'portable']\n",
        "[u'positive' u'potential' u'potter' u'power' u'practically']\n",
        "[u'predecessor' u'predecessors' u'predictable' u'premise' u'presentation']\n",
        "[u'presents' u'pretty' u'prevent' u'previous' u'price']\n",
        "[u'priced' u'prime' u'prince' u'prix' u'pro']\n",
        "[u'probably' u'problem' u'problematic' u'problems' u'produced']\n",
        "[u'product' u'production' u'project' u'promise' u'promising']\n",
        "[u'pros' u'prove' u'proven' u'proves' u'provide']\n",
        "[u'provided' u'provides' u'providing' u'ps2' u'psp']\n",
        "[u'pull' u'punch' u'purchase' u'pure' u'push']\n",
        "[u'put' u'puts' u'puzzle' u'puzzler' u'puzzles']\n",
        "[u'quake' u'qualities' u'quality' u'quest' u'questions']\n",
        "[u'quests' u'quick' u'quickly' u'quirks' u'quirky']\n",
        "[u'quite' u'quot' u'race' u'racer' u'racers']\n",
        "[u'races' u'racing' u'rage' u'raider' u'rainbow']\n",
        "[u'rally' u'rare' u'rarely' u'rate' u'rather']\n",
        "[u'raven' u'raw' u'rayman' u're' u'reach']\n",
        "[u'ready' u'real' u'realism' u'realistic' u'really']\n",
        "[u'realm' u'reason' u'reasonably' u'reasons' u'recent']\n",
        "[u'recommend' u'recommendable' u'recommended' u'recon' u'recycled']\n",
        "[u'red' u'redeeming' u'refined' u'refreshing' u'regardless']\n",
        "[u'rehash' u'relatively' u'release' u'released' u'remains']\n",
        "[u'remake' u'remarkable' u'remarkably' u'remember' u'rendition']\n",
        "[u'rent' u'rental' u'repetition' u'repetitive' u'replay']\n",
        "[u'represent' u'representation' u'represents' u'resident' u'respectable']\n",
        "[u'responsive' u'rest' u'result' u'results' u'retains']\n",
        "[u'retro' u'return' u'returns' u'revenge' u'revolution']\n",
        "[u'revolutionary' u'reward' u'rewarded' u'rewarding' u'rewards']\n",
        "[u'rhythm' u'rich' u'ride' u'ridge' u'ridiculous']\n",
        "[u'right' u'rip' u'rise' u'rising' u'risk']\n",
        "[u'road' u'robot' u'robots' u'robust' u'rock']\n",
        "[u'rogue' u'role' u'rome' u'romp' u'roots']\n",
        "[u'roster' u'rough' u'rounded' u'rpg' u'rpgs']\n",
        "[u'rts' u'rugby' u'ruin' u'run' u'runner']\n",
        "[u'running' u'runs' u'rush' u'saga' u'said']\n",
        "[u'sam' u'same' u'samurai' u'satisfied' u'satisfy']\n",
        "[u'satisfying' u'saturn' u'save' u'say' u'scenario']\n",
        "[u'scenarios' u'scene' u'scheme' u'school' u'sci']\n",
        "[u'scope' u'score' u'screen' u'scroller' u'scrolling']\n",
        "[u'season' u'second' u'see' u'seem' u'seems']\n",
        "[u'seen' u'sega' u'selection' u'sense' u'sequel']\n",
        "[u'sequences' u'series' u'serious' u'seriously' u'serve']\n",
        "[u'serves' u'service' u'set' u'sets' u'setting']\n",
        "[u'seven' u'several' u'shadow' u'shadows' u'shallow']\n",
        "[u'shame' u'share' u'sharp' u'sheer' u'shelf']\n",
        "[u'shines' u'shining' u'shoddy' u'shoot' u'shooter']\n",
        "[u'shooters' u'shooting' u'short' u'shortcomings' u'shot']\n",
        "[u'shots' u'should' u'shouldn' u'show' u'showing']\n",
        "[u'shows' u'shrek' u'side' u'signature' u'significant']\n",
        "[u'silent' u'silly' u'sim' u'simcity' u'similar']\n",
        "[u'simple' u'simplicity' u'simplified' u'simplistic' u'simply']\n",
        "[u'sims' u'simulation' u'simulations' u'simulator' u'since']\n",
        "[u'single' u'six' u'skateboarding' u'skater' u'skies']\n",
        "[u'skill' u'sky' u'slam' u'slash' u'slick']\n",
        "[u'slightly' u'sloppy' u'slow' u'slug' u'sluggish']\n",
        "[u'smackdown' u'small' u'smart' u'smash' u'smooth']\n",
        "[u'snk' u'snowboarding' u'so' u'soccer' u'soldier']\n",
        "[u'soldiers' u'solid' u'solo' u'solve' u'solving']\n",
        "[u'some' u'somehow' u'someone' u'something' u'sometimes']\n",
        "[u'somewhat' u'songs' u'sonic' u'sony' u'soon']\n",
        "[u'sophisticated' u'sort' u'soul' u'sound' u'sounds']\n",
        "[u'soundtrack' u'source' u'space' u'special' u'spectacular']\n",
        "[u'speed' u'spend' u'spending' u'spent' u'spider']\n",
        "[u'spin' u'spirit' u'spite' u'splinter' u'sport']\n",
        "[u'sports' u'spot' u'spots' u'spy' u'spyro']\n",
        "[u'squad' u'square' u'stand' u'standard' u'standards']\n",
        "[u'stands' u'star' u'stars' u'start' u'starts']\n",
        "[u'state' u'stay' u'stealth' u'steep' u'stellar']\n",
        "[u'step' u'steps' u'stick' u'sticks' u'still']\n",
        "[u'stories' u'storm' u'story' u'storyline' u'storytelling']\n",
        "[u'straight' u'straightforward' u'strange' u'strategic' u'strategy']\n",
        "[u'streamlined' u'street' u'strength' u'strengths' u'strike']\n",
        "[u'stripped' u'strong' u'structure' u'struggle' u'stuff']\n",
        "[u'stunning' u'style' u'styles' u'stylish' u'subject']\n",
        "[u'substance' u'substandard' u'subtle' u'succeeds' u'success']\n",
        "[u'successful' u'successfully' u'successor' u'such' u'suffers']\n",
        "[u'suit' u'suitable' u'suited' u'sum' u'super']\n",
        "[u'superb' u'superior' u'support' u'sure' u'surely']\n",
        "[u'surprise' u'surprises' u'surprising' u'surprisingly' u'surreal']\n",
        "[u'survival' u'sweet' u'swing' u'sword' u'system']\n",
        "[u'systems' u'table' u'tactical' u'tactics' u'tag']\n",
        "[u'take' u'taken' u'takes' u'taking' u'tale']\n",
        "[u'tales' u'tank' u'team' u'tech' u'technical']\n",
        "[u'technically' u'technology' u'tedious' u'tedium' u'tekken']\n",
        "[u'television' u'ten' u'tennis' u'tense' u'term']\n",
        "[u'terms' u'terrible' u'terribly' u'terrific' u'territory']\n",
        "[u'test' u'tetris' u'than' u'thanks' u'that']\n",
        "[u'the' u'theft' u'their' u'them' u'theme']\n",
        "[u'themed' u'themselves' u'then' u'there' u'these']\n",
        "[u'they' u'thin' u'thing' u'things' u'think']\n",
        "[u'third' u'this' u'thoroughly' u'those' u'though']\n",
        "[u'thought' u'three' u'thrill' u'thrilling' u'thrills']\n",
        "[u'through' u'throughout' u'throwback' u'thunder' u'thus']\n",
        "[u'tie' u'tiger' u'tight' u'time' u'times']\n",
        "[u'tired' u'tiresome' u'title' u'titles' u'to']"
       ]
      },
      {
       "output_type": "stream",
       "stream": "stdout",
       "text": [
        "\n",
        "[u'today' u'together' u'tokyo' u'tomb' u'ton']\n",
        "[u'tons' u'tony' u'too' u'tools' u'top']\n",
        "[u'total' u'totally' u'touch' u'touches' u'tough']\n",
        "[u'tour' u'tournament' u'toward' u'tower' u'town']\n",
        "[u'toy' u'track' u'tracks' u'traditional' u'transition']\n",
        "[u'translate' u'translation' u'trappings' u'treat' u'trek']\n",
        "[u'trial' u'trick' u'tricks' u'tried' u'tries']\n",
        "[u'trilogy' u'trip' u'triple' u'trivia' u'trouble']\n",
        "[u'true' u'truly' u'try' u'trying' u'tunes']\n",
        "[u'turn' u'turned' u'turns' u'tv' u'tweaks']\n",
        "[u'twist' u'twisted' u'twists' u'two' u'tycoon']\n",
        "[u'type' u'types' u'typical' u'ugly' u'ultima']\n",
        "[u'ultimate' u'ultimately' u'ultra' u'unbalanced' u'unconventional']\n",
        "[u'under' u'underlying' u'undoubtedly' u'uneven' u'unfinished']\n",
        "[u'unfortunate' u'unfortunately' u'uninspired' u'uninteresting' u'unique']\n",
        "[u'universe' u'unleashed' u'unless' u'unlike' u'unlikely']\n",
        "[u'unoriginal' u'unplayable' u'unremarkable' u'until' u'unusual']\n",
        "[u'up' u'update' u'updated' u'upgrades' u'upon']\n",
        "[u'ups' u'urban' u'us' u'use' u'used']\n",
        "[u'user' u'uses' u'value' u'values' u'varied']\n",
        "[u'variety' u'various' u'vast' u've' u'vehicle']\n",
        "[u'vehicles' u'vehicular' u'vengeance' u'version' u'versions']\n",
        "[u'versus' u'very' u'veteran' u'veterans' u'video']\n",
        "[u'violent' u'virtua' u'virtual' u'virtually' u'visceral']\n",
        "[u'visual' u'visually' u'visuals' u'vita' u'voice']\n",
        "[u'volume' u'vs' u'wacky' u'wait' u'waiting']\n",
        "[u'walking' u'want' u'wanted' u'wants' u'war']\n",
        "[u'warfare' u'wargame' u'warrant' u'warrior' u'warriors']\n",
        "[u'wars' u'was' u'wasn' u'waste' u'way']\n",
        "[u'ways' u'we' u'weak' u'wealth' u'weapon']\n",
        "[u'weapons' u'wears' u'weekend' u'welcome' u'well']\n",
        "[u'were' u'weren' u'what' u'whatever' u'when']\n",
        "[u'where' u'whether' u'which' u'while' u'whistles']\n",
        "[u'white' u'who' u'whole' u'wholly' u'whose']\n",
        "[u'why' u'wii' u'wild' u'will' u'willing']\n",
        "[u'win' u'winner' u'winning' u'wipeout' u'wish']\n",
        "[u'with' u'within' u'without' u'wolf' u'won']\n",
        "[u'wonder' u'wonderfully' u'wondering' u'woods' u'word']\n",
        "[u'work' u'working' u'works' u'world' u'worlds']\n",
        "[u'worms' u'worn' u'worse' u'worst' u'worth']\n",
        "[u'worthwhile' u'worthy' u'would' u'wrestlemania' u'wrestling']\n",
        "[u'writing' u'wrong' u'wwe' u'wwf' u'wwii']\n",
        "[u'xbla' u'xbox' u'xtreme' u'year' u'years']\n",
        "[u'yet' u'you' u'young' u'younger' u'your']\n",
        "[u'yourself' u'zelda' u'zero' u'zombie' u'zombies']\n",
        "[u'zone' u'zoo']\n"
       ]
      }
     ],
     "prompt_number": 77
    },
    {
     "cell_type": "code",
     "collapsed": false,
     "input": [],
     "language": "python",
     "metadata": {},
     "outputs": []
    }
   ],
   "metadata": {}
  }
 ]
}