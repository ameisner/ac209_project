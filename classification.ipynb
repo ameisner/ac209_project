{
 "metadata": {
  "name": "",
  "signature": "sha256:a1de716a3b248928377fa0f75bcdcfa9875747e31ba3ee63ac21287a9e3f7984"
 },
 "nbformat": 3,
 "nbformat_minor": 0,
 "worksheets": [
  {
   "cells": [
    {
     "cell_type": "markdown",
     "metadata": {},
     "source": [
      "Text Classification"
     ]
    },
    {
     "cell_type": "code",
     "collapsed": false,
     "input": [
      "import json\n",
      "import numpy as np\n",
      "f = open('data/gamespot.json')\n",
      "data = json.load(f)"
     ],
     "language": "python",
     "metadata": {},
     "outputs": [],
     "prompt_number": 83
    },
    {
     "cell_type": "code",
     "collapsed": false,
     "input": [
      "len(data)"
     ],
     "language": "python",
     "metadata": {},
     "outputs": [
      {
       "metadata": {},
       "output_type": "pyout",
       "prompt_number": 84,
       "text": [
        "13702"
       ]
      }
     ],
     "prompt_number": 84
    },
    {
     "cell_type": "code",
     "collapsed": false,
     "input": [
      "rev_list = np.array([g['summary'] for g in data])"
     ],
     "language": "python",
     "metadata": {},
     "outputs": [],
     "prompt_number": 85
    },
    {
     "cell_type": "code",
     "collapsed": false,
     "input": [
      "len(rev_list)\n",
      "min_df = 0.001"
     ],
     "language": "python",
     "metadata": {},
     "outputs": [],
     "prompt_number": 86
    },
    {
     "cell_type": "code",
     "collapsed": false,
     "input": [
      "print data[0]\n",
      "scores = np.array([g['score'] for g in data]).astype(float)\n",
      "print len(scores)\n",
      "print float(np.sum(scores > 7))/len(scores)\n",
      "\n",
      "Y = (scores > 7) # 1s and 0s, split in an almost balanced fashion"
     ],
     "language": "python",
     "metadata": {},
     "outputs": [
      {
       "output_type": "stream",
       "stream": "stdout",
       "text": [
        "{u'score': u'8', u'summary': u' The Unfinished Swan on the PlayStation 4 is a pretty game made prettier, and a gentle charmer in its own right.', u'datetime': u'2014-11-06 18:50:00'}\n",
        "13702\n",
        "0.466282294556\n"
       ]
      }
     ],
     "prompt_number": 87
    },
    {
     "cell_type": "code",
     "collapsed": false,
     "input": [
      "nsample = 13702\n",
      "#randint(0, len(rev_list)-1, nsample])\n",
      "ind = np.random.choice(np.arange(len(scores)), size=nsample)"
     ],
     "language": "python",
     "metadata": {},
     "outputs": [],
     "prompt_number": 88
    },
    {
     "cell_type": "code",
     "collapsed": false,
     "input": [
      "from sklearn.feature_extraction.text import CountVectorizer\n",
      "from sklearn.naive_bayes import MultinomialNB"
     ],
     "language": "python",
     "metadata": {},
     "outputs": [],
     "prompt_number": 89
    },
    {
     "cell_type": "code",
     "collapsed": false,
     "input": [
      "vectorizer = CountVectorizer(min_df=min_df)\n",
      "vectorizer.fit(rev_list[ind])\n",
      "\n",
      "# call `transform` to convert text to a bag of words\n",
      "X = vectorizer.transform(rev_list[ind])"
     ],
     "language": "python",
     "metadata": {},
     "outputs": [],
     "prompt_number": 90
    },
    {
     "cell_type": "code",
     "collapsed": false,
     "input": [
      "clf = MultinomialNB().fit(X, Y[ind])"
     ],
     "language": "python",
     "metadata": {},
     "outputs": [],
     "prompt_number": 91
    },
    {
     "cell_type": "code",
     "collapsed": false,
     "input": [
      "print \"Accuracy: %0.2f%%\" % (100 * clf.score(X, Y[ind]))"
     ],
     "language": "python",
     "metadata": {},
     "outputs": [
      {
       "output_type": "stream",
       "stream": "stdout",
       "text": [
        "Accuracy: 81.49%\n"
       ]
      }
     ],
     "prompt_number": 92
    },
    {
     "cell_type": "code",
     "collapsed": false,
     "input": [
      "print X.shape"
     ],
     "language": "python",
     "metadata": {},
     "outputs": [
      {
       "output_type": "stream",
       "stream": "stdout",
       "text": [
        "(13702, 2076)\n"
       ]
      }
     ],
     "prompt_number": 93
    },
    {
     "cell_type": "code",
     "collapsed": false,
     "input": [
      "words = np.array(vectorizer.get_feature_names())"
     ],
     "language": "python",
     "metadata": {},
     "outputs": [],
     "prompt_number": 94
    },
    {
     "cell_type": "code",
     "collapsed": false,
     "input": [
      "x = np.eye(X.shape[1])\n",
      "probs = clf.predict_log_proba(x)[:, 0]\n",
      "ix = np.argsort(probs)\n",
      "\n",
      "good_words = words[ix[:10]]\n",
      "bad_words = words[ix[-10:]]\n",
      "\n",
      "good_prob = probs[ix[:10]]\n",
      "bad_prob = probs[ix[-10:]]\n",
      "\n",
      "print \"Best words\\t     P(Good | word)\"\n",
      "for w, p in zip(good_words, good_prob):\n",
      "    print \"%20s\" % w, \"%0.2f\" % (1 - np.exp(p))\n",
      "    \n",
      "print \"Worst words\\t     P(Good | word)\"\n",
      "for w, p in zip(bad_words, bad_prob):\n",
      "    print \"%20s\" % w, \"%0.2f\" % (1 - np.exp(p))"
     ],
     "language": "python",
     "metadata": {},
     "outputs": [
      {
       "output_type": "stream",
       "stream": "stdout",
       "text": [
        "Best words\t     P(Good | word)\n",
        "              superb 0.98\n",
        "              subtle 0.95\n",
        "           portrayal 0.95\n",
        "                rare 0.94\n",
        "             crafted 0.94\n",
        "               notch 0.94\n",
        "                 owe 0.94\n",
        "                vast 0.94\n",
        "        intoxicating 0.93\n",
        "                 ssx 0.92\n",
        "Worst words\t     P(Good | word)\n",
        "              clunky 0.03\n",
        "          mediocrity 0.03\n",
        "               lousy 0.03\n",
        "              poorly 0.03\n",
        "            terrible 0.03\n",
        "               avoid 0.03\n",
        "                poor 0.02\n",
        "            horrible 0.02\n",
        "                dull 0.02\n",
        "             awkward 0.02\n"
       ]
      }
     ],
     "prompt_number": 95
    },
    {
     "cell_type": "code",
     "collapsed": false,
     "input": [],
     "language": "python",
     "metadata": {},
     "outputs": []
    }
   ],
   "metadata": {}
  }
 ]
}