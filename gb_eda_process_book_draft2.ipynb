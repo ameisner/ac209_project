{
 "metadata": {
  "name": "",
  "signature": "sha256:1ef594b152684ecd6aaae347fc6ee50c116fa35a746bc9a231e2ce8585a27a1c"
 },
 "nbformat": 3,
 "nbformat_minor": 0,
 "worksheets": [
  {
   "cells": [
    {
     "cell_type": "code",
     "collapsed": false,
     "input": [
      "# special IPython command to prepare the notebook for matplotlib\n",
      "%matplotlib inline \n",
      "\n",
      "import json\n",
      "import csv\n",
      "import datetime\n",
      "\n",
      "from pandas import DataFrame\n",
      "\n",
      "import scipy.stats\n",
      "from scipy.stats import norm\n",
      "import matplotlib.mlab as mlab\n",
      "\n",
      "\n",
      "\n",
      "import requests \n",
      "import numpy as np\n",
      "import pandas as pd # pandas\n",
      "import matplotlib.pyplot as plt # module for plotting "
     ],
     "language": "python",
     "metadata": {},
     "outputs": [],
     "prompt_number": 1
    },
    {
     "cell_type": "markdown",
     "metadata": {},
     "source": [
      "# Video Game Reviews: Low Hanging Fruit of Development and Text Classification #"
     ]
    },
    {
     "cell_type": "markdown",
     "metadata": {},
     "source": [
      "## Introduction and Motivation"
     ]
    },
    {
     "cell_type": "markdown",
     "metadata": {},
     "source": [
      "Since their inception video games have been somewhat of a fringe cultural \n",
      "phenomenon. Not having the same aesthetic appeal as film or literature and not \n",
      "bearing the institutional legitimacy of more traditional strategy games like chess, \n",
      "video games were considered for a long time awkwardly placed in the world of \n",
      "leisure activities.\n",
      "\n",
      "But in the past decade with the development of new family-oriented gaming \n",
      "consoles like the Wii, the creation of artistically rendered and presented \n",
      "games like *Heavy Rain* and *The Last of Us*, and the organization of \n",
      "pre-professional and competitive gaming societies, video games are slowly \n",
      "evolving from merely being the visual toys used exclusively by male teenagers \n",
      "to a new form of media which people of widely different demographic backgrounds\n",
      "can engage with.\n",
      "\n",
      "For prospective game developers, the continually realized and expanded potential for artistic expression through video games suggests a basic question. What is the best way to make inroads into game development? More specifically, we can ask what are the genres most conducive to game development for a new developer?\n",
      "\n",
      "Moreover, as video games begin to reach wider audiences and their relevance grows, and a demand for a wider assortment of video games beyond the traditional action/adventure, role-playing game, shooter trifect grows in tandem, there will spring a larger need for video game criticism akin to that which exists for film and television today. \n",
      "\n",
      "Data scientists have a role in categorizing and understanding this criticism. \n",
      "By applying textual analysis techniques, we can determine whether a review for \n",
      "a video game is positive or negative and thus whether a prospective buyer \n",
      "should purchase the game. More over, not all online video game \n",
      "reviews/discussions are associated with a numerical score. Developing a \n",
      "text-based review classification scheme represents a step towards being able to \n",
      "determine what any arbitrary online text related to a video game suggests about\n",
      "the quality of that video game.\n",
      "\n",
      "\n",
      "In what follows, we present an outline of the objects for the project. "
     ]
    },
    {
     "cell_type": "markdown",
     "metadata": {},
     "source": [
      "## Project Objectives"
     ]
    },
    {
     "cell_type": "markdown",
     "metadata": {},
     "source": [
      "This project had two main goals. First we wanted to determine which genres of video games exist as the greatest potential for new game development. Namely, we wanted to know which genres provided skilled game developers with the best conditions to develop a stand out game. To find such optimal genres, we defined a few conditions which quantified the levels of competition within, the public opinion of, and the gamer interest in a genre. By considering how a genre scored according to these criteria relative to the entire distribution of scores, we were able to come up with a few recommendations for \u201clow hanging fruit\u201d of game development. \n",
      "\n",
      "Second we wanted to determine which words in the review summaries for video games are most closely associated with a positive video game score. For the baseline classification model, we applied a Naive Bayes classifier(http://www.statsoft.com/textbook/naive-bayes-classifier) to determine the likelihood that the review summary for a game was associated with a \"good\" (higher than the mean) or \"bad\" (lower than the mean) review score. We could view this as an extension of the \"Bayesian Tomatoes\" assignment from CS109 2013 which showed that the Naive Bayes classifier was effective for categorizing Rotten Tomatoes reviews. \n",
      "\n",
      "As supporting analyses, we investigated some meta-data questions to see what other variables might affect the distribution of video game scores. \n",
      "\n",
      "As a wider application of this analysis we hope to apply textual classification on less formal video game discussions and thereby be able to draw from a wider assortment of sites (not just review sites) to determine general online sentiment associated with a video game.  \n",
      "\n"
     ]
    },
    {
     "cell_type": "markdown",
     "metadata": {},
     "source": [
      "## I. Data Collection and Exploratory Analysis"
     ]
    },
    {
     "cell_type": "markdown",
     "metadata": {},
     "source": [
      "We used video game review data from two primary sources: Game Spot (www.gamespot.com) and Giant Bomb (www.giantbomb.com). Both websites are well maintained gaming sites with many users and many reviews. For our analysis the two fundamental disparities between the two sites were Game Spot\u2019s comparatively larger collection of staff reviews (Game Spot has roughly 13,000 staff reviews while Giant Bomb has only 700), and the existence of a Giant Bomb API (http://www.giantbomb.com/api/) for application development and data analysis. Game Spot\u2019s high number of user reviews makes its data set amenable to the score-text classification analysis developed in another part of the project, but because the site did not have an API, the relevant data had to be carefully scraped from each review webpage. Alternatively, the Giant Bomb API allows us to flexibly and easily answer many quantitative questions on gaming statistics, but the small staff review set means that any score-text classification would have a larger source of error. Another quantitative difference between the two sites, relevant for a later analysis of our scoring data, is that the video game scores provided by Giant Bomb ranged from 1 to 5, while the scores provided by Game Spot ranged from 1 to 10 in increments of 0.1. \n",
      "\n",
      "We capitalized on the differences between the two data sets by using each set to answer the questions it most conveniently could. From Game Spot, we scraped all 13,000+ staff game reviews for four elements: the name of the game; the review score of the game; the date of the review; the single sentence summary of the review. These were the elements needed in our basic text classification analysis.\n",
      "\n",
      "WIth the Giant Bomb data, since an API was available, we were much less constrained in the types of questions we could ask from it, and the data was thus utilized for two purposes. First, it formed the basis of our \"low-hanging fruit\" analysis, and second it served as a sandbox to answer some more general questions about the meta-data which could effect staff reviews on gaming sites."
     ]
    },
    {
     "cell_type": "code",
     "collapsed": false,
     "input": [],
     "language": "python",
     "metadata": {},
     "outputs": []
    },
    {
     "cell_type": "markdown",
     "metadata": {},
     "source": [
      "### I.A Game Spot Data Collection"
     ]
    },
    {
     "cell_type": "markdown",
     "metadata": {},
     "source": [
      "Because Game Spot does not provide an API, the data had to be scraped \"manually\" from the website. Here we provide an example of the scraping procedure we went through to gather all 13,000 reviews. "
     ]
    },
    {
     "cell_type": "code",
     "collapsed": false,
     "input": [
      "# to manipulate html text\n",
      "from pattern import web"
     ],
     "language": "python",
     "metadata": {},
     "outputs": [],
     "prompt_number": 48
    },
    {
     "cell_type": "code",
     "collapsed": false,
     "input": [
      "# example of URL at which many review summaries and scores can be found\n",
      "url = 'http://www.gamespot.com/reviews/?page=2'\n",
      "html = requests.get(url).text"
     ],
     "language": "python",
     "metadata": {},
     "outputs": [],
     "prompt_number": 49
    },
    {
     "cell_type": "code",
     "collapsed": false,
     "input": [
      "# document object model\n",
      "dom = web.Element(html)"
     ],
     "language": "python",
     "metadata": {},
     "outputs": [],
     "prompt_number": 50
    },
    {
     "cell_type": "code",
     "collapsed": false,
     "input": [
      "# get a list of the separate \"articles\" within the HTML page\n",
      "articles = dom.by_tag(\"article\")\n",
      "# look at the first article\n",
      "article = articles[0]\n",
      "# look at a single article's HTML snippet\n",
      "print article.content"
     ],
     "language": "python",
     "metadata": {},
     "outputs": [
      {
       "output_type": "stream",
       "stream": "stdout",
       "text": [
        "\n",
        "<a class=\"js-event-tracking\" href=\"/reviews/little-big-planet-3-review/1900-6415964/\">\n",
        "<div class=\"media-well l-item--push hide-mobile \"><div class=\"well--review-gs\"><span class=\"site-logo--mono\">GameSpot Score</span><strong>7</strong><span class=\"score-word\">Good</span></div></div>\n",
        "<figure class=\"media-figure l-item--pull\">\n",
        "<div class=\"media-img imgflare--boxart media-figure--medium\">\n",
        "<img src=\"http://static2.gamespot.com/uploads/scale_tiny/1197/11970954/2564410-2d_lbp3_no+rating_1402398775.jpg\" alt=\"Little Big Planet 3 Review\" />\n",
        "</div>\n",
        "</figure>\n",
        "<div class=\"media-body\"> <h3 class=\"media-title\">Little Big Planet 3 Review</h3>\n",
        "<div class=\"media-byline\">\n",
        "<ul class=\"system-list\">\n",
        "<li class=\"system label\">Reviewed on:</li>\n",
        "<li class=\"system system--pill system--pill system--ps4 \">PS4</li>\n",
        "</ul>\n",
        "</div>\n",
        "<p class=\"media-deck hide-mobile\"> Little Big Planet 3\u2019s focus on creative expression is underutilized in its story campaign but shines in its level editor.</p>\n",
        "<footer class=\"media-meta\">\n",
        "<time class=\"media-date\" datetime=\"2014-11-17 21:20:00\">Nov 17, 9:20pm</time>\n",
        "</footer>\n",
        "</div>\n",
        "</a>\n",
        "\n"
       ]
      }
     ],
     "prompt_number": 53
    },
    {
     "cell_type": "code",
     "collapsed": false,
     "input": [
      "# print first five elements in article\n",
      "for art in articles[:5]:\n",
      "    if art.attr['class'] == 'media media-review':\n",
      "        review_summary = art.by_tag('p')\n",
      "        review_score = art.by_tag('strong')\n",
      "        review_time = art.by_tag('time')\n",
      "        print review_summary[0].content + \" SCORE = \" + review_score[0].content\n",
      "        print review_time[0].attr['datetime']\n",
      "        print '*'*80"
     ],
     "language": "python",
     "metadata": {},
     "outputs": [
      {
       "output_type": "stream",
       "stream": "stdout",
       "text": [
        " Little Big Planet 3\u2019s focus on creative expression is underutilized in its story campaign but shines in its level editor. SCORE = 7\n",
        "2014-11-17 21:20:00\n",
        "********************************************************************************\n",
        " This War of Mine is survival horror game of a very different, very literal kind. SCORE = 8\n",
        "2014-11-17 18:52:00\n",
        "********************************************************************************\n",
        " A Bird Story is a short but bittersweet tale that uses sparse interaction to great effect. SCORE = 8\n",
        "2014-11-17 11:59:00\n",
        "********************************************************************************\n",
        " Far Cry 4 is all about more: more fun things to do, more chances to create explosive chaos, and more opportunities for the story to make you cringe. SCORE = 7\n",
        "2014-11-17 09:27:00\n",
        "********************************************************************************\n",
        " GTA V remains a benchmark game, and its graphical improvements are hugely impressive, but it&#039;s the addition of a first-person mode that transforms it into a very different beast. SCORE = 9\n",
        "2014-11-17 03:00:00\n",
        "********************************************************************************\n"
       ]
      }
     ],
     "prompt_number": 55
    },
    {
     "cell_type": "markdown",
     "metadata": {},
     "source": []
    },
    {
     "cell_type": "code",
     "collapsed": false,
     "input": [
      "print open('scrape_gamespot.py').read()"
     ],
     "language": "python",
     "metadata": {},
     "outputs": [
      {
       "output_type": "stream",
       "stream": "stdout",
       "text": [
        "#!/usr/bin/env python\n",
        "# Aaron Meisner, 11/8/2014\n",
        "\n",
        "import requests\n",
        "from pattern import web\n",
        "import json\n",
        "import time\n",
        "\n",
        "def scrape_one_page(pagenum, jsondata):\n",
        "\n",
        "    url = 'http://www.gamespot.com/reviews/?page='+str(pagenum)\n",
        "    html = requests.get(url).text\n",
        "\n",
        "    dom = web.Element(html)\n",
        "\n",
        "    articles = dom.by_tag(\"article\")\n",
        "\n",
        "    for art in articles:\n",
        "        if art.attr['class'] == 'media media-review':\n",
        "            review_summary = art.by_tag('p')\n",
        "            review_score = art.by_tag('strong')\n",
        "            review_time = art.by_tag('time')\n",
        "            summary = review_summary[0].content\n",
        "            score = review_score[0].content\n",
        "            datetime = review_time[0].attr['datetime']\n",
        "            gamedata = {'summary' : summary, \n",
        "                        'score' : score,\n",
        "                        'datetime' : datetime}\n",
        "            jsondata.append(gamedata)\n",
        "    return jsondata\n",
        "\n",
        "def scrape_many_pages(pstart, npages, delay=10.):\n",
        "    jsondata = []\n",
        "    for pagenum in range(pstart, pstart+npages):\n",
        "        print \"Working on page \", pagenum\n",
        "        jsondata = scrape_one_page(pagenum, jsondata)\n",
        "        print \"Waiting...\"\n",
        "        # avoid thrashing GameSpot servers\n",
        "        time.sleep(delay)\n",
        "\n",
        "    # write out the json data accumulated\n",
        "    with open('gamespot.json', 'w') as outfile:\n",
        "        json.dump(jsondata, outfile)\n",
        "\n",
        "if __name__=='__main__':\n",
        "    # as of 11/8/2014, there were 653 pages of reviews available from GameSpot\n",
        "    npages = 653\n",
        "    scrape_many_pages(1, npages)\n",
        "\n"
       ]
      }
     ],
     "prompt_number": 47
    },
    {
     "cell_type": "markdown",
     "metadata": {},
     "source": [
      "The data we extracted was then loaded into a data file. Here is a sample data entry:"
     ]
    },
    {
     "cell_type": "code",
     "collapsed": false,
     "input": [
      "f = open('data/gamespot.json')\n",
      "gs_data = json.load(f)\n",
      "print \"The number of reviews scraped from GameSpot is \", len(gs_data)\n",
      "# print an example review\n",
      "print gs_data[0]"
     ],
     "language": "python",
     "metadata": {},
     "outputs": [
      {
       "output_type": "stream",
       "stream": "stdout",
       "text": [
        "The number of reviews scraped from GameSpot is  13702\n",
        "{u'score': u'8', u'summary': u' The Unfinished Swan on the PlayStation 4 is a pretty game made prettier, and a gentle charmer in its own right.', u'datetime': u'2014-11-06 18:50:00'}\n"
       ]
      }
     ],
     "prompt_number": 46
    },
    {
     "cell_type": "markdown",
     "metadata": {},
     "source": [
      "### I.B. Giant Bomb Data Collection"
     ]
    },
    {
     "cell_type": "markdown",
     "metadata": {},
     "source": [
      "From Giant Bomb we collected three types of data: statistics on video game reviews written by the Giant Bomb staff; statistics on video game reviews written by the users who sign up (for free) on the site; statistics on the video games which fall into various genres (Action, Role-Playing Game, etc.). The method of data collection from Giant Bomb went as follows. "
     ]
    },
    {
     "cell_type": "markdown",
     "metadata": {},
     "source": [
      "We first signed up for user access and requested an API key through the link http://www.giantbomb.com/api/ . After acquiring a key, the full Giant Bomb API was available to us at a rate limit of 400 requests every 15 minutes. "
     ]
    },
    {
     "cell_type": "markdown",
     "metadata": {},
     "source": [
      "#### I.A.1 Staff Review Data"
     ]
    },
    {
     "cell_type": "code",
     "collapsed": false,
     "input": [
      "# definition of API Key\n",
      "key = '4e5fb6427e24a4c3b594157915684189d9c72297'"
     ],
     "language": "python",
     "metadata": {},
     "outputs": [],
     "prompt_number": 56
    },
    {
     "cell_type": "markdown",
     "metadata": {},
     "source": [
      "The Giant Bomb API is conveniently organized to be accessed through certain keywords. The first Giant Bomb data set we built was for the staff review data, and so we accessed http://www.giantbomb.com/api/reviews/?api_key=4e5fb6427e24a4c3b594157915684189d9c72297 . The elements we extracted were the name of the game, the score given to the game, the staff person who reviewed the game, and the date of the review. "
     ]
    },
    {
     "cell_type": "code",
     "collapsed": false,
     "input": [
      "## creating a dictionary of game names, score, reviewer, and review date\n",
      "\n",
      "# This code collects giant bomb staff review data. We collect \n",
      "# - the name of the game\n",
      "# - the name of the reviewer\n",
      "# - the date of the review\n",
      "# - the review score\n",
      "#\n",
      "# Date and time of collection: 12/4/2014 7:28 PM\n",
      "\n",
      "staff_g_names = list()\n",
      "staff_g_score = list()\n",
      "staff_g_reviewer = list()\n",
      "staff_g_rv_date = list()\n",
      "\n",
      "for offset in np.array(range(7))*100: # cycle through possible offests\n",
      "\n",
      "    url_reviews = 'http://www.giantbomb.com/api/reviews/?api_key=' + key + '&format=json&offset=' + str(offset)\n",
      "    \n",
      "    resp_review = requests.get(url_reviews)\n",
      "    \n",
      "    review_info = json.loads(resp_review.text)\n",
      "\n",
      "    game_results = review_info['results']\n",
      "\n",
      "    for elem in game_results:\n",
      "        game = elem['game']\n",
      "        if type(game) == dict: # to ensure that we only consider non-empty entries\n",
      "            staff_g_score.append(elem['score'])\n",
      "            staff_g_names.append(game['name'])\n",
      "            staff_g_reviewer.append(elem['reviewer'])\n",
      "            staff_g_rv_date.append(elem['publish_date'])\n",
      "            "
     ],
     "language": "python",
     "metadata": {},
     "outputs": []
    },
    {
     "cell_type": "markdown",
     "metadata": {},
     "source": [
      "Because the video game name data included some elements which we could not directly write to strings (for example, some names are written with accents and other non-ascii typographical characters), we had to define an encoding function to convert the names into writable elements. "
     ]
    },
    {
     "cell_type": "code",
     "collapsed": false,
     "input": [
      "# allows us to encode unicode objects so they're writable as strings\n",
      "# necessary so we can write to file\n",
      "# uses http://stackoverflow.com/questions/6048085/python-write-unicode-text-to-a-text-file\n",
      "\n",
      "def encoding(list_):\n",
      "    new_ls = list()\n",
      "    for k in range(len(list_)):\n",
      "        string = list_[k].encode('utf8')\n",
      "        new_ls.append(string)\n",
      "    return new_ls"
     ],
     "language": "python",
     "metadata": {},
     "outputs": [],
     "prompt_number": 3
    },
    {
     "cell_type": "markdown",
     "metadata": {},
     "source": [
      "We then defined a dictionary of all our relevant data."
     ]
    },
    {
     "cell_type": "code",
     "collapsed": false,
     "input": [
      "# defines data dictionary \n",
      "staff_rv_dict = {'Name': encoding(staff_g_names), 'Giant Bomb Score': staff_g_score, 'Reviewer': staff_g_reviewer, 'Date of Review': staff_g_rv_date }"
     ],
     "language": "python",
     "metadata": {},
     "outputs": []
    },
    {
     "cell_type": "markdown",
     "metadata": {},
     "source": [
      "And then we wrote the dictionary to a file. The code we used to write the data to a file is in a stand alone python file to prevent any accidental erasure of already gathered data. "
     ]
    },
    {
     "cell_type": "code",
     "collapsed": false,
     "input": [
      "print open('gb_python/write_staff_review_data.py').read()"
     ],
     "language": "python",
     "metadata": {},
     "outputs": [
      {
       "output_type": "stream",
       "stream": "stdout",
       "text": [
        "# written by Mobolaji Williams,\n",
        "# AC209-Final Proj\n",
        "\n",
        "# This code writes the staff review data to a stable file. \n",
        "# Date and time of writing: 12/4/2014 7:30 PM\n",
        "\n",
        "## DO NOT WRITE AGAIN UNLESS YOU\n",
        "## 1) change the name of the file you're writing to\n",
        "## 2) no longer need the data you already wrote\n",
        "\n",
        "with open('data/gb_staff_review_data_12_04_2014.csv', 'wb') as f:  # Just use 'w' mode in 3.x\n",
        "    w = csv.DictWriter(f, fieldnames = staff_rv_dict.keys())\n",
        "    w.writeheader()\n",
        "\n",
        "    for k in range(len(staff_g_names)):\n",
        "        w.writerow({'Name': encoding(staff_g_names)[k],\n",
        "                    'Giant Bomb Score': staff_g_score[k],\n",
        "                    'Reviewer': staff_g_reviewer[k],\n",
        "                    'Date of Review':staff_g_rv_date[k]})\n",
        "\n"
       ]
      }
     ],
     "prompt_number": 23
    },
    {
     "cell_type": "markdown",
     "metadata": {},
     "source": [
      "We then used the data to define a data frame"
     ]
    },
    {
     "cell_type": "code",
     "collapsed": false,
     "input": [
      "# Staff review data frame\n",
      "staff_rv_frame = pd.read_csv('data/gb_staff_review_data_12_04_2014.csv')[['Name', 'Giant Bomb Score', 'Reviewer', 'Date of Review']]\n",
      "staff_rv_frame.head()"
     ],
     "language": "python",
     "metadata": {},
     "outputs": [
      {
       "html": [
        "<div style=\"max-height:1000px;max-width:1500px;overflow:auto;\">\n",
        "<table border=\"1\" class=\"dataframe\">\n",
        "  <thead>\n",
        "    <tr style=\"text-align: right;\">\n",
        "      <th></th>\n",
        "      <th>Name</th>\n",
        "      <th>Giant Bomb Score</th>\n",
        "      <th>Reviewer</th>\n",
        "      <th>Date of Review</th>\n",
        "    </tr>\n",
        "  </thead>\n",
        "  <tbody>\n",
        "    <tr>\n",
        "      <th>0</th>\n",
        "      <td>                                 SingStar</td>\n",
        "      <td> 4</td>\n",
        "      <td> Jeff</td>\n",
        "      <td> 2008-05-23 13:00:00</td>\n",
        "    </tr>\n",
        "    <tr>\n",
        "      <th>1</th>\n",
        "      <td>                                     Haze</td>\n",
        "      <td> 2</td>\n",
        "      <td> Jeff</td>\n",
        "      <td> 2008-05-20 17:00:00</td>\n",
        "    </tr>\n",
        "    <tr>\n",
        "      <th>2</th>\n",
        "      <td> Metal Gear Solid 4: Guns of the Patriots</td>\n",
        "      <td> 5</td>\n",
        "      <td> Brad</td>\n",
        "      <td> 2008-06-20 12:00:00</td>\n",
        "    </tr>\n",
        "    <tr>\n",
        "      <th>3</th>\n",
        "      <td>                              Poker Smash</td>\n",
        "      <td> 4</td>\n",
        "      <td> Jeff</td>\n",
        "      <td> 2008-02-29 12:00:00</td>\n",
        "    </tr>\n",
        "    <tr>\n",
        "      <th>4</th>\n",
        "      <td>                 Battlefield: Bad Company</td>\n",
        "      <td> 5</td>\n",
        "      <td> Jeff</td>\n",
        "      <td> 2008-07-06 12:00:00</td>\n",
        "    </tr>\n",
        "  </tbody>\n",
        "</table>\n",
        "</div>"
       ],
       "metadata": {},
       "output_type": "pyout",
       "prompt_number": 57,
       "text": [
        "                                       Name  Giant Bomb Score Reviewer  \\\n",
        "0                                  SingStar                 4     Jeff   \n",
        "1                                      Haze                 2     Jeff   \n",
        "2  Metal Gear Solid 4: Guns of the Patriots                 5     Brad   \n",
        "3                               Poker Smash                 4     Jeff   \n",
        "4                  Battlefield: Bad Company                 5     Jeff   \n",
        "\n",
        "        Date of Review  \n",
        "0  2008-05-23 13:00:00  \n",
        "1  2008-05-20 17:00:00  \n",
        "2  2008-06-20 12:00:00  \n",
        "3  2008-02-29 12:00:00  \n",
        "4  2008-07-06 12:00:00  "
       ]
      }
     ],
     "prompt_number": 57
    },
    {
     "cell_type": "markdown",
     "metadata": {},
     "source": [
      "-------------------\n"
     ]
    },
    {
     "cell_type": "markdown",
     "metadata": {},
     "source": [
      "#### I.A.1 User Review Data"
     ]
    },
    {
     "cell_type": "markdown",
     "metadata": {},
     "source": [
      "The second Giant Bomb data set we built was for user review data, and so we accessed http://www.giantbomb.com/api/user_reviews?api_key=4e5fb6427e24a4c3b594157915684189d9c72297 . Similar to the staff review data we extracted the name of the game, the score given to the game by the user, the user who reviewed the game, and the date of the review. Also, because the user review data set was much larger than the staff review data set (24,000 vs. 600) and contained games with multiple reviews, we also extracted the game ID number for each game to provide an additional measure of identification. "
     ]
    },
    {
     "cell_type": "code",
     "collapsed": false,
     "input": [
      "# This code collects user review data. We collect \n",
      "# - the name of the game\n",
      "# - the name of the reviewer\n",
      "# - the date of the review\n",
      "# - the review score\n",
      "# - the game id\n",
      "# Date and time of collection: 12/4/2014 7:27 PM\n",
      "\n",
      "usr_g_names = list()\n",
      "usr_g_score = list()\n",
      "usr_g_reviewer = list()\n",
      "usr_g_rv_date = list()\n",
      "g_id = list()\n",
      "\n",
      "for offset in np.array(range(264))*100:\n",
      "    url_usrreviews = 'http://www.giantbomb.com/api/user_reviews/?api_key=' + key + '&format=json&offset=' + str(offset)\n",
      "\n",
      "    # response format for API\n",
      "    resp_usrreview = requests.get(url_usrreviews)\n",
      "\n",
      "    # loads text of response into json format\n",
      "    usrreview_info = json.loads(resp_usrreview.text)\n",
      "\n",
      "    # redefine list\n",
      "    usr_rvs = usrreview_info['results']\n",
      "\n",
      "    for k in range(len(usr_rvs)):\n",
      "        elem = usr_rvs[k]\n",
      "\n",
      "        if elem['wikiObject'] != None:\n",
      "            usr_g_score.append(elem['score'])\n",
      "            usr_g_names.append(elem['wikiObject'])\n",
      "            usr_g_reviewer.append(elem['reviewer'])\n",
      "            usr_g_rv_date.append(elem['date_added'])\n",
      "            url = elem['site_detail_url']\n",
      "            g_id.append(url.rsplit('/')[4])"
     ],
     "language": "python",
     "metadata": {},
     "outputs": []
    },
    {
     "cell_type": "markdown",
     "metadata": {},
     "source": [
      "Defining a dictionary for the relevant data. "
     ]
    },
    {
     "cell_type": "code",
     "collapsed": false,
     "input": [
      "# defines dictionary we're going to write to file\n",
      "usr_rv_dict = {'Name': encoding(usr_g_names), 'User Review Score': usr_g_score, 'User Reviewer': usr_g_reviewer, 'Date of Review':usr_g_rv_date, \n",
      "               'Game Id': g_id }"
     ],
     "language": "python",
     "metadata": {},
     "outputs": []
    },
    {
     "cell_type": "markdown",
     "metadata": {},
     "source": [
      "Writing the dictionary to a file, we used the following code"
     ]
    },
    {
     "cell_type": "code",
     "collapsed": false,
     "input": [
      "print open('gb_python/write_user_review_data.py').read()"
     ],
     "language": "python",
     "metadata": {},
     "outputs": [
      {
       "output_type": "stream",
       "stream": "stdout",
       "text": [
        "# written by Mobolaji Williams,\n",
        "# AC209-Final Proj\n",
        "\n",
        "# This code writes the user review data to a stable file. \n",
        "# Date and time of writing: 12/4/2014 7:32 PM\n",
        "\n",
        "## DO NOT WRITE AGAIN UNLESS YOU\n",
        "## 1) change the name of the file you're writing to\n",
        "## 2) no longer need the data you already wrote\n",
        "\n",
        "with open('data/gb_user_review_data_12_04_2014.csv', 'wb') as f:  # Just use 'w' mode in 3.x\n",
        "    w = csv.DictWriter(f, fieldnames = usr_rv_dict.keys())\n",
        "    w.writeheader()\n",
        "\n",
        "    for k in range(len(usr_g_names)):\n",
        "        w.writerow({'Name': encoding(usr_g_names)[k], 'User Review Score': usr_g_score[k], 'User Reviewer': usr_g_reviewer[k], 'Date of Review':usr_g_rv_date[k], \n",
        "               'Game Id': g_id[k] })\n",
        "\n"
       ]
      }
     ],
     "prompt_number": 22
    },
    {
     "cell_type": "markdown",
     "metadata": {},
     "source": [
      "We then used the data to define a data frame."
     ]
    },
    {
     "cell_type": "code",
     "collapsed": false,
     "input": [
      "# User review data frame\n",
      "usr_rv_frame = pd.read_csv('data/gb_user_review_data_12_04_2014.csv')[['Name', 'User Review Score', 'User Reviewer', 'Date of Review', 'Game Id']]\n",
      "usr_rv_frame.head()"
     ],
     "language": "python",
     "metadata": {},
     "outputs": [
      {
       "html": [
        "<div style=\"max-height:1000px;max-width:1500px;overflow:auto;\">\n",
        "<table border=\"1\" class=\"dataframe\">\n",
        "  <thead>\n",
        "    <tr style=\"text-align: right;\">\n",
        "      <th></th>\n",
        "      <th>Name</th>\n",
        "      <th>User Review Score</th>\n",
        "      <th>User Reviewer</th>\n",
        "      <th>Date of Review</th>\n",
        "      <th>Game Id</th>\n",
        "    </tr>\n",
        "  </thead>\n",
        "  <tbody>\n",
        "    <tr>\n",
        "      <th>0</th>\n",
        "      <td>                 Famicom Mini: Pac-Man</td>\n",
        "      <td> 5</td>\n",
        "      <td>    snide</td>\n",
        "      <td> 2008-07-14 21:49:21</td>\n",
        "      <td>  3030-7624</td>\n",
        "    </tr>\n",
        "    <tr>\n",
        "      <th>1</th>\n",
        "      <td> Icewind Dale II (Collector's Edition)</td>\n",
        "      <td> 5</td>\n",
        "      <td>    snide</td>\n",
        "      <td> 2008-07-20 01:09:02</td>\n",
        "      <td>  3030-8890</td>\n",
        "    </tr>\n",
        "    <tr>\n",
        "      <th>2</th>\n",
        "      <td>                      Gauntlet Legends</td>\n",
        "      <td> 4</td>\n",
        "      <td> joseppie</td>\n",
        "      <td> 2008-07-21 00:34:06</td>\n",
        "      <td> 3030-12245</td>\n",
        "    </tr>\n",
        "    <tr>\n",
        "      <th>3</th>\n",
        "      <td>                     MVP Baseball 2005</td>\n",
        "      <td> 5</td>\n",
        "      <td> joseppie</td>\n",
        "      <td> 2008-07-21 00:36:10</td>\n",
        "      <td>  3030-9978</td>\n",
        "    </tr>\n",
        "    <tr>\n",
        "      <th>4</th>\n",
        "      <td>           Need for Speed: Most Wanted</td>\n",
        "      <td> 4</td>\n",
        "      <td> joseppie</td>\n",
        "      <td> 2008-07-21 00:44:42</td>\n",
        "      <td> 3030-12976</td>\n",
        "    </tr>\n",
        "  </tbody>\n",
        "</table>\n",
        "</div>"
       ],
       "metadata": {},
       "output_type": "pyout",
       "prompt_number": 58,
       "text": [
        "                                    Name  User Review Score User Reviewer  \\\n",
        "0                  Famicom Mini: Pac-Man                  5         snide   \n",
        "1  Icewind Dale II (Collector's Edition)                  5         snide   \n",
        "2                       Gauntlet Legends                  4      joseppie   \n",
        "3                      MVP Baseball 2005                  5      joseppie   \n",
        "4            Need for Speed: Most Wanted                  4      joseppie   \n",
        "\n",
        "        Date of Review     Game Id  \n",
        "0  2008-07-14 21:49:21   3030-7624  \n",
        "1  2008-07-20 01:09:02   3030-8890  \n",
        "2  2008-07-21 00:34:06  3030-12245  \n",
        "3  2008-07-21 00:36:10   3030-9978  \n",
        "4  2008-07-21 00:44:42  3030-12976  "
       ]
      }
     ],
     "prompt_number": 58
    },
    {
     "cell_type": "markdown",
     "metadata": {},
     "source": [
      "---------------"
     ]
    },
    {
     "cell_type": "markdown",
     "metadata": {},
     "source": [
      "#### I.A.1 Game Genre Data"
     ]
    },
    {
     "cell_type": "markdown",
     "metadata": {},
     "source": [
      "The final Giant Bomb data set we collected was for game genre data. The \"genre\" label applied to video games is similar to the \"genre\" label applied to movies. In the same way you have \"Romantic Comedies\" and \"Thrillers\" in movies, you have \"Action-Adventures\" and \"Shooters\" in video games. The Giant Bomb data set lists 50 genres. A list of these genres will be useful later, so we generate this list now: making the API request for genres"
     ]
    },
    {
     "cell_type": "code",
     "collapsed": false,
     "input": [
      "url_genres = 'http://www.giantbomb.com/api/genres/?api_key=' + key + '&format=json&offset=' + str(0)\n",
      "# response format for API\n",
      "resp_genres = requests.get(url_genres)\n",
      "# loads text of response into json format\n",
      "genres_info = json.loads(resp_genres.text)\n",
      "# takes results from response\n",
      "genres = genres_info['results']"
     ],
     "language": "python",
     "metadata": {},
     "outputs": [],
     "prompt_number": 76
    },
    {
     "cell_type": "markdown",
     "metadata": {},
     "source": [
      "and extracting a list of the first ten genres we have "
     ]
    },
    {
     "cell_type": "code",
     "collapsed": false,
     "input": [
      "# creates a list of genres\n",
      "genres_list = list()\n",
      "for elem in genres: \n",
      "    genres_list.append(elem['name'])\n",
      "\n",
      "#first five elements of list\n",
      "print genres_list[:10]\n",
      "#Total number of genres\n",
      "print 'Total number of genres:',len(genres_list)"
     ],
     "language": "python",
     "metadata": {},
     "outputs": [
      {
       "output_type": "stream",
       "stream": "stdout",
       "text": [
        "[u'Action', u'Strategy', u'Sports', u'Adventure', u'Role-Playing', u'Driving/Racing', u'Simulation', u'Educational', u'Fighting', u'Wrestling']\n",
        "Total number of genres: 50\n"
       ]
      }
     ],
     "prompt_number": 77
    },
    {
     "cell_type": "markdown",
     "metadata": {},
     "source": [
      "Our goal was to collect all the video games (with at least one user review) for each genre. Because Giant Bomb did not simply provide a list of video games associated with a particular genre, we had to collect this infomration indirectly. We first collected all the names of games with more than one user review; then we documented each game's extracting each list of genres and finally we inverted our collected data to give us all the games associated with a particular genre. \n",
      "\n",
      "To first collect the genres of all the video games in GB's data base we called http://www.giantbomb.com/api/games?api_key=4e5fb6427e24a4c3b594157915684189d9c72297. However, there are ~44,000 games in GB's database and the API has a rate limit of 400 requests every 15 minutes."
     ]
    },
    {
     "cell_type": "code",
     "collapsed": false,
     "input": [
      "url_games = 'http://www.giantbomb.com/api/games/?api_key=' + key + '&format=json&offset=' + str(0)\n",
      "# response format for API\n",
      "resp_games = requests.get(url_games)\n",
      "# loads text of response into json format\n",
      "games_info = json.loads(resp_games.text)\n",
      "# Total numbe of games in \n",
      "print 'Total number of games in Giant Bomb database: ', games_info['number_of_total_results']"
     ],
     "language": "python",
     "metadata": {},
     "outputs": [
      {
       "output_type": "stream",
       "stream": "stdout",
       "text": [
        "Total number of games in Giant Bomb database:  44348\n"
       ]
      }
     ],
     "prompt_number": 11
    },
    {
     "cell_type": "markdown",
     "metadata": {},
     "source": [
      "Collecting all the video game data, then would take about 25 hours. To reduce the time of data collection, we decided to collect only the games associated with a user review. This was not an arbitrary cut seeing as our later analysis of the genre data can only factor in games with at least one user review. We found the list of games with at least one user review with our `usr_rv_frame`. Collecting the unique list of game name and ID combinations, we had the new frame"
     ]
    },
    {
     "cell_type": "code",
     "collapsed": false,
     "input": [
      "unique_usr_rvs = usr_rv_frame[['Name', 'Game Id']].drop_duplicates().reset_index(drop=True)\n",
      "unique_usr_rvs.head()"
     ],
     "language": "python",
     "metadata": {},
     "outputs": [
      {
       "html": [
        "<div style=\"max-height:1000px;max-width:1500px;overflow:auto;\">\n",
        "<table border=\"1\" class=\"dataframe\">\n",
        "  <thead>\n",
        "    <tr style=\"text-align: right;\">\n",
        "      <th></th>\n",
        "      <th>Name</th>\n",
        "      <th>Game Id</th>\n",
        "    </tr>\n",
        "  </thead>\n",
        "  <tbody>\n",
        "    <tr>\n",
        "      <th>0</th>\n",
        "      <td>                 Famicom Mini: Pac-Man</td>\n",
        "      <td>  3030-7624</td>\n",
        "    </tr>\n",
        "    <tr>\n",
        "      <th>1</th>\n",
        "      <td> Icewind Dale II (Collector's Edition)</td>\n",
        "      <td>  3030-8890</td>\n",
        "    </tr>\n",
        "    <tr>\n",
        "      <th>2</th>\n",
        "      <td>                      Gauntlet Legends</td>\n",
        "      <td> 3030-12245</td>\n",
        "    </tr>\n",
        "    <tr>\n",
        "      <th>3</th>\n",
        "      <td>                     MVP Baseball 2005</td>\n",
        "      <td>  3030-9978</td>\n",
        "    </tr>\n",
        "    <tr>\n",
        "      <th>4</th>\n",
        "      <td>           Need for Speed: Most Wanted</td>\n",
        "      <td> 3030-12976</td>\n",
        "    </tr>\n",
        "  </tbody>\n",
        "</table>\n",
        "</div>"
       ],
       "metadata": {},
       "output_type": "pyout",
       "prompt_number": 59,
       "text": [
        "                                    Name     Game Id\n",
        "0                  Famicom Mini: Pac-Man   3030-7624\n",
        "1  Icewind Dale II (Collector's Edition)   3030-8890\n",
        "2                       Gauntlet Legends  3030-12245\n",
        "3                      MVP Baseball 2005   3030-9978\n",
        "4            Need for Speed: Most Wanted  3030-12976"
       ]
      }
     ],
     "prompt_number": 59
    },
    {
     "cell_type": "markdown",
     "metadata": {},
     "source": [
      "With a length of about ~5000:"
     ]
    },
    {
     "cell_type": "code",
     "collapsed": false,
     "input": [
      "print \"Number of games with at least one user review:\", len(unique_usr_rvs)"
     ],
     "language": "python",
     "metadata": {},
     "outputs": [
      {
       "output_type": "stream",
       "stream": "stdout",
       "text": [
        "Number of games with at least one user review: 5012\n"
       ]
      }
     ],
     "prompt_number": 14
    },
    {
     "cell_type": "markdown",
     "metadata": {},
     "source": [
      "Given our rate limit this presents a much more reasonable time scale of data collection. Still, because of the rate limit, we had to stratify our data collection. We had to call the API 5012 times with no more than 400 calls every 15 minutes. To ensure no requests overlapped, our calling scheme was to make a request for 350 entries every 20 minutes. Consequently, we defined a list of indices which defined the cutoffs for our request."
     ]
    },
    {
     "cell_type": "code",
     "collapsed": false,
     "input": [
      "interval_list = list(np.array(range(0,15))*350)\n",
      "interval_list.append(5012)\n",
      "print interval_list"
     ],
     "language": "python",
     "metadata": {},
     "outputs": [
      {
       "output_type": "stream",
       "stream": "stdout",
       "text": [
        "[0, 350, 700, 1050, 1400, 1750, 2100, 2450, 2800, 3150, 3500, 3850, 4200, 4550, 4900, 5012]\n"
       ]
      }
     ],
     "prompt_number": 19
    },
    {
     "cell_type": "markdown",
     "metadata": {},
     "source": [
      "We would make a request for the the first 350 games in the first 20 minutes, the next 350 in the next 20 minutes and so on, until we went through all of the games in unique_usr_rvs. We collected four pieces of information for each video game: the name of the game, the game id, the game release date, the genres associated with the game, and the number of user reviews of the game. Each piece of information could be straighforwardly extracted from the API. \n",
      "\n",
      "The code we used to extract the data was as follows"
     ]
    },
    {
     "cell_type": "code",
     "collapsed": false,
     "input": [
      "for call in range(1,15):\n",
      "    \n",
      "    intvl = range(interval_list[call-1],interval_list[call])\n",
      "    \n",
      "    print 'Starting time of call number '+str(call)+': ' +datetime.now().time().strftime('%I:%M:%S %p')\n",
      "    # data collection\n",
      "    for k in intvl:\n",
      "\n",
      "        \n",
      "        game_id = unique_usr_rvs['Game Id'][k]\n",
      "\n",
      "        url_eg_game = 'http://www.giantbomb.com/api/game/'+game_id+'/?api_key=' + key + '&format=json'\n",
      "\n",
      "        # response format for API\n",
      "        resp_eg_game = requests.get(url_eg_game)\n",
      "\n",
      "        # loads text of response into json format\n",
      "        eg_game_info= json.loads(resp_eg_game.text)\n",
      "\n",
      "        # redefine list\n",
      "        eg_game = eg_game_info['results']\n",
      "\n",
      "        if 'genres' in eg_game.keys():\n",
      "\n",
      "            game_name = eg_game['name']\n",
      "            game_date = eg_game['original_release_date']\n",
      "            game_rv_num = eg_game['number_of_user_reviews']\n",
      "\n",
      "            game_genre = list()\n",
      "            for elem1 in eg_game['genres']:\n",
      "                game_genre.append(elem1['name'])\n",
      "\n",
      "            game_names.append(game_name)\n",
      "            game_dates.append(game_date)\n",
      "            game_genres.append(game_genre)\n",
      "            game_rv_nums.append(game_rv_num)\n",
      "            game_id_list.append(game_id)\n",
      "            \n",
      "    print 'Ending time of call number '+str(call)+': ' +datetime.now().time().strftime('%I:%M:%S %p')\n",
      "    print \n",
      "    \n",
      "    time.sleep(60*20)"
     ],
     "language": "python",
     "metadata": {},
     "outputs": []
    },
    {
     "cell_type": "markdown",
     "metadata": {},
     "source": [
      "Once we gathered the data, we defined a dictionary including each data element"
     ]
    },
    {
     "cell_type": "code",
     "collapsed": false,
     "input": [
      "game_and_genre_dict = {'Name': game_names,'Genres': game_genres, 'Date Released': game_dates, 'Number of User Reviews': game_rv_nums , 'Game Id': game_id_list}"
     ],
     "language": "python",
     "metadata": {},
     "outputs": []
    },
    {
     "cell_type": "markdown",
     "metadata": {},
     "source": [
      "We then wrote the data to a file using the following code"
     ]
    },
    {
     "cell_type": "code",
     "collapsed": false,
     "input": [
      "print open('gb_python/write_game_genre_data.py').read()"
     ],
     "language": "python",
     "metadata": {},
     "outputs": [
      {
       "output_type": "stream",
       "stream": "stdout",
       "text": [
        "# This code writes the staff review data to a stable file. \n",
        "# Date and time of writing: 12/5/2014 11:52 PM\n",
        "\n",
        "## DO NOT WRITE AGAIN UNLESS YOU\n",
        "## 1) change the name of the file you're writing to\n",
        "## 2) no longer need the data you already wrote\n",
        "\n",
        "with open('my_data/game_genre_data2_12_05_2014.csv', 'wb') as f:  # Just use 'w' mode in 3.x\n",
        "    w = csv.DictWriter(f, fieldnames = game_and_genre_dict.keys())\n",
        "    w.writeheader()\n",
        "\n",
        "    for k in range(len(game_names)):\n",
        "        w.writerow({'Name': encoding(game_names)[k], 'Genres': game_genres[k], 'Date Released': game_dates[k], 'Number of User Reviews': game_rv_nums[k], \n",
        "                    'Game Id': game_id_list[k]})\n",
        "\n"
       ]
      }
     ],
     "prompt_number": 21
    },
    {
     "cell_type": "markdown",
     "metadata": {},
     "source": [
      "The collected data was then defined as a data frame:"
     ]
    },
    {
     "cell_type": "code",
     "collapsed": false,
     "input": [
      "# Genre frame\n",
      "game_and_genre_frame = pd.read_csv('data/gb_game_genre_data2_12_05_2014.csv')[['Name', 'Genres','Date Released', 'Number of User Reviews', 'Game Id']]\n",
      "game_and_genre_frame.head()"
     ],
     "language": "python",
     "metadata": {},
     "outputs": [
      {
       "html": [
        "<div style=\"max-height:1000px;max-width:1500px;overflow:auto;\">\n",
        "<table border=\"1\" class=\"dataframe\">\n",
        "  <thead>\n",
        "    <tr style=\"text-align: right;\">\n",
        "      <th></th>\n",
        "      <th>Name</th>\n",
        "      <th>Genres</th>\n",
        "      <th>Date Released</th>\n",
        "      <th>Number of User Reviews</th>\n",
        "      <th>Game Id</th>\n",
        "    </tr>\n",
        "  </thead>\n",
        "  <tbody>\n",
        "    <tr>\n",
        "      <th>0</th>\n",
        "      <td>                     Pac-Man</td>\n",
        "      <td>           [u'Strategy', u'Puzzle']</td>\n",
        "      <td> 1980-05-22 00:00:00</td>\n",
        "      <td>  4</td>\n",
        "      <td>  3030-7624</td>\n",
        "    </tr>\n",
        "    <tr>\n",
        "      <th>1</th>\n",
        "      <td>             Icewind Dale II</td>\n",
        "      <td>                  [u'Role-Playing']</td>\n",
        "      <td> 2002-08-28 00:00:00</td>\n",
        "      <td>  1</td>\n",
        "      <td>  3030-8890</td>\n",
        "    </tr>\n",
        "    <tr>\n",
        "      <th>2</th>\n",
        "      <td>            Gauntlet Legends</td>\n",
        "      <td>      [u'Role-Playing', u'Brawler']</td>\n",
        "      <td> 1998-10-31 00:00:00</td>\n",
        "      <td>  1</td>\n",
        "      <td> 3030-12245</td>\n",
        "    </tr>\n",
        "    <tr>\n",
        "      <th>3</th>\n",
        "      <td>           MVP Baseball 2005</td>\n",
        "      <td>           [u'Sports', u'Baseball']</td>\n",
        "      <td> 2005-02-22 00:00:00</td>\n",
        "      <td>  4</td>\n",
        "      <td>  3030-9978</td>\n",
        "    </tr>\n",
        "    <tr>\n",
        "      <th>4</th>\n",
        "      <td> Need for Speed: Most Wanted</td>\n",
        "      <td> [u'Driving/Racing', u'Simulation']</td>\n",
        "      <td> 2005-11-15 00:00:00</td>\n",
        "      <td> 17</td>\n",
        "      <td> 3030-12976</td>\n",
        "    </tr>\n",
        "  </tbody>\n",
        "</table>\n",
        "</div>"
       ],
       "metadata": {},
       "output_type": "pyout",
       "prompt_number": 60,
       "text": [
        "                          Name                              Genres  \\\n",
        "0                      Pac-Man            [u'Strategy', u'Puzzle']   \n",
        "1              Icewind Dale II                   [u'Role-Playing']   \n",
        "2             Gauntlet Legends       [u'Role-Playing', u'Brawler']   \n",
        "3            MVP Baseball 2005            [u'Sports', u'Baseball']   \n",
        "4  Need for Speed: Most Wanted  [u'Driving/Racing', u'Simulation']   \n",
        "\n",
        "         Date Released  Number of User Reviews     Game Id  \n",
        "0  1980-05-22 00:00:00                       4   3030-7624  \n",
        "1  2002-08-28 00:00:00                       1   3030-8890  \n",
        "2  1998-10-31 00:00:00                       1  3030-12245  \n",
        "3  2005-02-22 00:00:00                       4   3030-9978  \n",
        "4  2005-11-15 00:00:00                      17  3030-12976  "
       ]
      }
     ],
     "prompt_number": 60
    },
    {
     "cell_type": "markdown",
     "metadata": {},
     "source": [
      "With this gathered data, we were then able to begin our analysis."
     ]
    },
    {
     "cell_type": "markdown",
     "metadata": {},
     "source": [
      "### I.C. Giant Bomb Exploratory Analysis"
     ]
    },
    {
     "cell_type": "markdown",
     "metadata": {},
     "source": [
      "#### What is the distribution of staff review scores?\n",
      "\n",
      "Our collected staff review data includes the staff member who reviewed the game, the date the game was reviewed and the score given to the game. The most basic question we can ask about the data is what is the distribution of all staff review scores. "
     ]
    },
    {
     "cell_type": "markdown",
     "metadata": {},
     "source": [
      " Printing the head of the `staff_rv_frame` and the number of elements, we have"
     ]
    },
    {
     "cell_type": "code",
     "collapsed": false,
     "input": [
      "staff_rv_frame.head()"
     ],
     "language": "python",
     "metadata": {},
     "outputs": [
      {
       "html": [
        "<div style=\"max-height:1000px;max-width:1500px;overflow:auto;\">\n",
        "<table border=\"1\" class=\"dataframe\">\n",
        "  <thead>\n",
        "    <tr style=\"text-align: right;\">\n",
        "      <th></th>\n",
        "      <th>Name</th>\n",
        "      <th>Giant Bomb Score</th>\n",
        "      <th>Reviewer</th>\n",
        "      <th>Date of Review</th>\n",
        "    </tr>\n",
        "  </thead>\n",
        "  <tbody>\n",
        "    <tr>\n",
        "      <th>0</th>\n",
        "      <td>                                 SingStar</td>\n",
        "      <td> 4</td>\n",
        "      <td> Jeff</td>\n",
        "      <td> 2008-05-23 13:00:00</td>\n",
        "    </tr>\n",
        "    <tr>\n",
        "      <th>1</th>\n",
        "      <td>                                     Haze</td>\n",
        "      <td> 2</td>\n",
        "      <td> Jeff</td>\n",
        "      <td> 2008-05-20 17:00:00</td>\n",
        "    </tr>\n",
        "    <tr>\n",
        "      <th>2</th>\n",
        "      <td> Metal Gear Solid 4: Guns of the Patriots</td>\n",
        "      <td> 5</td>\n",
        "      <td> Brad</td>\n",
        "      <td> 2008-06-20 12:00:00</td>\n",
        "    </tr>\n",
        "    <tr>\n",
        "      <th>3</th>\n",
        "      <td>                              Poker Smash</td>\n",
        "      <td> 4</td>\n",
        "      <td> Jeff</td>\n",
        "      <td> 2008-02-29 12:00:00</td>\n",
        "    </tr>\n",
        "    <tr>\n",
        "      <th>4</th>\n",
        "      <td>                 Battlefield: Bad Company</td>\n",
        "      <td> 5</td>\n",
        "      <td> Jeff</td>\n",
        "      <td> 2008-07-06 12:00:00</td>\n",
        "    </tr>\n",
        "  </tbody>\n",
        "</table>\n",
        "</div>"
       ],
       "metadata": {},
       "output_type": "pyout",
       "prompt_number": 4,
       "text": [
        "                                       Name  Giant Bomb Score Reviewer  \\\n",
        "0                                  SingStar                 4     Jeff   \n",
        "1                                      Haze                 2     Jeff   \n",
        "2  Metal Gear Solid 4: Guns of the Patriots                 5     Brad   \n",
        "3                               Poker Smash                 4     Jeff   \n",
        "4                  Battlefield: Bad Company                 5     Jeff   \n",
        "\n",
        "        Date of Review  \n",
        "0  2008-05-23 13:00:00  \n",
        "1  2008-05-20 17:00:00  \n",
        "2  2008-06-20 12:00:00  \n",
        "3  2008-02-29 12:00:00  \n",
        "4  2008-07-06 12:00:00  "
       ]
      }
     ],
     "prompt_number": 4
    },
    {
     "cell_type": "code",
     "collapsed": false,
     "input": [
      "print 'Number of staff reviews: ', len(staff_rv_frame)"
     ],
     "language": "python",
     "metadata": {},
     "outputs": [
      {
       "output_type": "stream",
       "stream": "stdout",
       "text": [
        "Number of staff reviews:  652\n"
       ]
      }
     ],
     "prompt_number": 5
    },
    {
     "cell_type": "markdown",
     "metadata": {},
     "source": [
      "And now plotting a simple histogram of scores, gives us"
     ]
    },
    {
     "cell_type": "code",
     "collapsed": false,
     "input": [
      "# Histogram distribution of Giant Bomb Scores\n",
      "\n",
      "plt.figure(figsize=(8,6))\n",
      "n, bins, patches = plt.hist(staff_rv_frame['Giant Bomb Score'], 15)\n",
      "plt.title(\" Distribution of Giant Bomb Game Scores\")\n",
      "plt.xlabel(\"Score\")\n",
      "plt.ylabel(\"Numbers of Occurences\")"
     ],
     "language": "python",
     "metadata": {},
     "outputs": [
      {
       "metadata": {},
       "output_type": "pyout",
       "prompt_number": 6,
       "text": [
        "<matplotlib.text.Text at 0xc3d7940>"
       ]
      },
      {
       "metadata": {},
       "output_type": "display_data",
       "png": "[encoded data removed]",
       "text": [
        "<matplotlib.figure.Figure at 0xc451630>"
       ]
      }
     ],
     "prompt_number": 6
    },
    {
     "cell_type": "markdown",
     "metadata": {},
     "source": [
      "We see that 4/5 is the most common score given by staff to video games, followed by 3/5, then 5/5. Taking 3/5 to be define an average game, interestingly, we see that the most of the games the Giant Bomb staff reviews appear to be above average. This is perhaps not too surprising: The Giant Bomb staff cannot review all newly released games and consequently must choose the games which are most likely to be played by its user base. The games most likely to be played by the user base would tend to be the franchise (*e.g. Batman: Arkham Asylum* or *Pokemon*) or more heavily advertised games which are connected to big name publishers such as Activision or Nintendo. Because of the financial resources at the disposal of these publishers it\u2019s not unreasonable to expect that the quality of the games they publish are generally better than average. "
     ]
    },
    {
     "cell_type": "markdown",
     "metadata": {},
     "source": [
      "We see this \u2018high mean\u2019 effect in the Game Spot data as well. The Game Spot score spectrum runs from 1 to 10, but most of the games reviewed by the Game Spot staff are give a score of 7 or 9. Plotting the spectrum of game spot data we have:"
     ]
    },
    {
     "cell_type": "code",
     "collapsed": false,
     "input": [
      "gs_scores = np.array([float(r['score']) for r in gs_data])\n",
      "plt.figure(figsize=(8,6))\n",
      "plt.hist(gs_scores, bins=np.arange(0,12)-0.5)\n",
      "plt.xlim((-0.5, 10.5))\n",
      "plt.xticks(range(11))\n",
      "plt.xlabel('rating')\n",
      "plt.ylabel('number of reviews per bin')\n",
      "plt.title('Distribution of Game Spot Review Scores')"
     ],
     "language": "python",
     "metadata": {},
     "outputs": [
      {
       "metadata": {},
       "output_type": "pyout",
       "prompt_number": 25,
       "text": [
        "<matplotlib.text.Text at 0x21b12908>"
       ]
      },
      {
       "metadata": {},
       "output_type": "display_data",
       "png": "[encoded data removed]",
       "text": [
        "<matplotlib.figure.Figure at 0x21983828>"
       ]
      }
     ],
     "prompt_number": 25
    },
    {
     "cell_type": "markdown",
     "metadata": {},
     "source": [
      "#### Does the distribution of staff review scores change over time? "
     ]
    },
    {
     "cell_type": "markdown",
     "metadata": {},
     "source": [
      "Another possibly hidden variation is in the time the review was logged. We could ask, is there any variation in the average of Giant Bomb scores from year to year?"
     ]
    },
    {
     "cell_type": "markdown",
     "metadata": {},
     "source": [
      "First converting the date and time data to the datetime format"
     ]
    },
    {
     "cell_type": "code",
     "collapsed": false,
     "input": [
      "import datetime as dt # module for manipulating dates and times\n",
      "\n",
      "# converting Data of Review to Datetime format\n",
      "staff_rv_frame['Date of Review'] = pd.to_datetime(staff_rv_frame['Date of Review'])"
     ],
     "language": "python",
     "metadata": {},
     "outputs": [],
     "prompt_number": 17
    },
    {
     "cell_type": "markdown",
     "metadata": {},
     "source": [
      "and extracting the month and year data from our time data and adding them to our data frame"
     ]
    },
    {
     "cell_type": "code",
     "collapsed": false,
     "input": [
      "# extracts year and month from review\n",
      "staff_rv_frame['year'] = map(lambda x: x.year, staff_rv_frame['Date of Review'])\n",
      "staff_rv_frame['month'] = map(lambda x: x.month, staff_rv_frame['Date of Review'])"
     ],
     "language": "python",
     "metadata": {},
     "outputs": [],
     "prompt_number": 18
    },
    {
     "cell_type": "markdown",
     "metadata": {},
     "source": [
      "and then plotting the distribution of score values for each year, gives us the following uninformative result"
     ]
    },
    {
     "cell_type": "code",
     "collapsed": false,
     "input": [
      "staff_rv_frame.boxplot('Giant Bomb Score', by = 'year', rot = 90)\n",
      "plt.ylabel('Giant Bomb Score')\n",
      "plt.ylim(0,6)\n",
      "plt.show()"
     ],
     "language": "python",
     "metadata": {},
     "outputs": [
      {
       "metadata": {},
       "output_type": "display_data",
       "png": "[encoded data removed]",
       "text": [
        "<matplotlib.figure.Figure at 0xc5e74a8>"
       ]
      }
     ],
     "prompt_number": 20
    },
    {
     "cell_type": "markdown",
     "metadata": {},
     "source": [
      "This simply states that from year to year, all the review scores maintain roughly the same distribution. To see variations in the distribution over time, it turns out that it is better to plot the distribution of the monthly average of the reviews per year.  "
     ]
    },
    {
     "cell_type": "markdown",
     "metadata": {},
     "source": [
      "Computing the average of the score values by month,"
     ]
    },
    {
     "cell_type": "code",
     "collapsed": false,
     "input": [
      "# compute the average of reviews for each month of a year\n",
      "avg_game_frame = staff_rv_frame.groupby(['year','month'], \n",
      "                                     as_index = False)['Giant Bomb Score', 'year', 'month'].mean()"
     ],
     "language": "python",
     "metadata": {},
     "outputs": [],
     "prompt_number": 21
    },
    {
     "cell_type": "markdown",
     "metadata": {},
     "source": [
      "and then plotting the distribution of these averages over the years, we have"
     ]
    },
    {
     "cell_type": "code",
     "collapsed": false,
     "input": [
      "# plot the distribution of these averages by year\n",
      "avg_game_frame.boxplot('Giant Bomb Score', by = 'year', rot = 90)\n",
      "plt.ylabel('Giant Bomb Score')\n",
      "plt.ylim(0,6)\n",
      "plt.show()"
     ],
     "language": "python",
     "metadata": {},
     "outputs": [
      {
       "metadata": {},
       "output_type": "display_data",
       "png": "[encoded data removed]",
       "text": [
        "<matplotlib.figure.Figure at 0x21a00eb8>"
       ]
      }
     ],
     "prompt_number": 24
    },
    {
     "cell_type": "markdown",
     "metadata": {},
     "source": [
      "We see that aside from the relatively large variance in score distribution in 2013, from year to year the Giant Bomb score remains relatively stable."
     ]
    },
    {
     "cell_type": "markdown",
     "metadata": {},
     "source": [
      "#### What is the distribution of user review scores? "
     ]
    },
    {
     "cell_type": "markdown",
     "metadata": {},
     "source": [
      "We just analyzed the staff reviewer data set. The other more populous data set consists of user reviews. Just to get an idea of the number of elements in this data set we can do an API call directly to Giant Bomb\u2019s site. "
     ]
    },
    {
     "cell_type": "code",
     "collapsed": false,
     "input": [
      "# API for Giant Bomb USER Reviews\n",
      "url_usrreviews = 'http://www.giantbomb.com/api/user_reviews/?api_key=' + key + '&format=json&offset=0' \n",
      "# response format for API\n",
      "resp_usrreview = requests.get(url_usrreviews)\n",
      "# loads text of response into json format\n",
      "usrreview_info = json.loads(resp_usrreview.text)"
     ],
     "language": "python",
     "metadata": {},
     "outputs": [],
     "prompt_number": 28
    },
    {
     "cell_type": "code",
     "collapsed": false,
     "input": [
      "# number of results for single page\n",
      "print 'Total number of user review results: ',usrreview_info['number_of_total_results']"
     ],
     "language": "python",
     "metadata": {},
     "outputs": [
      {
       "output_type": "stream",
       "stream": "stdout",
       "text": [
        "Total number of user review results:  26405\n"
       ]
      }
     ],
     "prompt_number": 29
    },
    {
     "cell_type": "markdown",
     "metadata": {},
     "source": [
      "So we apparently have about 26,000 user reviews. However, some of these API calls produce empty results. For example, when we look at the 25,000th page we find no user review information."
     ]
    },
    {
     "cell_type": "code",
     "collapsed": false,
     "input": [
      "offset = 25000\n",
      "url_usr_review_25k = 'http://www.giantbomb.com/api/user_reviews/?api_key=' + key + '&format=json&offset=' + str(offset)\n",
      "resp_usr_review_25k = requests.get(url_usr_review_25k)\n",
      "usr_review_info_25k = json.loads(resp_usr_review_25k.text)\n",
      "usr_rv_25k = usr_review_info_25k['results']\n",
      "\n",
      "usr_rv_25k"
     ],
     "language": "python",
     "metadata": {},
     "outputs": [
      {
       "metadata": {},
       "output_type": "pyout",
       "prompt_number": 31,
       "text": [
        "[]"
       ]
      }
     ],
     "prompt_number": 31
    },
    {
     "cell_type": "markdown",
     "metadata": {},
     "source": [
      "Fortunately, even though the API calls empty elements, the data we inserted into a file only includes non-empty elements. The actual number of user reviews is then"
     ]
    },
    {
     "cell_type": "code",
     "collapsed": false,
     "input": [
      "print 'Total number of user reviews: ', len(usr_rv_frame)"
     ],
     "language": "python",
     "metadata": {},
     "outputs": [
      {
       "output_type": "stream",
       "stream": "stdout",
       "text": [
        "Total number of user reviews:  24742\n"
       ]
      }
     ],
     "prompt_number": 32
    },
    {
     "cell_type": "markdown",
     "metadata": {},
     "source": [
      "With this data frame we can now answer the analogous question to the one first asked above: What is the distribution of Giant Bomb user review scores? Making a basic plot we have"
     ]
    },
    {
     "cell_type": "code",
     "collapsed": false,
     "input": [
      "# Histogram distribution of Giant Bomb User Review Scores\n",
      "\n",
      "plt.figure(figsize=(8,6))\n",
      "n, bins, patches = plt.hist(usr_rv_frame['User Review Score'], 15)\n",
      "plt.title(\" Distribution of Giant Bomb User Review Scores\")\n",
      "plt.xlabel(\"Score\")\n",
      "plt.ylabel(\"Numbers of Occurences\")"
     ],
     "language": "python",
     "metadata": {},
     "outputs": [
      {
       "metadata": {},
       "output_type": "pyout",
       "prompt_number": 33,
       "text": [
        "<matplotlib.text.Text at 0x27263828>"
       ]
      },
      {
       "metadata": {},
       "output_type": "display_data",
       "png": "[encoded data removed]",
       "text": [
        "<matplotlib.figure.Figure at 0x1aa3a0b8>"
       ]
      }
     ],
     "prompt_number": 33
    },
    {
     "cell_type": "markdown",
     "metadata": {},
     "source": [
      "We first note that unlike the Giant Bomb staff reviews, a user review can, in a sense, have a score of 0. We say 'in a sense' because although the Giant Bomb score spectrum is from one to five stars, the Giant Bomb API associates a score of 0 with user reviews which do not include a specific score. See the two reviews in http://www.giantbomb.com/jumper-griffins-story/3030-20797/user-reviews/ for instance. \n",
      "\n",
      "Second, we see that similar to the Giant Bomb staff review scores, the distribution of user review scores has a mean centered well above the natural mean of the range. In fact, the user reviews have a greater proportion of scores which are greater than or equal to three than do the staff reviews. \n"
     ]
    },
    {
     "cell_type": "code",
     "collapsed": false,
     "input": [
      "print 'Proportion of user reviews with score greater than 3: ', float(len(usr_rv_frame[usr_rv_frame['User Review Score'] > 3]))/(len(usr_rv_frame))\n",
      "print 'Proportion of staff reviews with score greater than 3: ', float(len(staff_rv_frame[staff_rv_frame['Giant Bomb Score'] > 3]))/(len(staff_rv_frame))"
     ],
     "language": "python",
     "metadata": {},
     "outputs": [
      {
       "output_type": "stream",
       "stream": "stdout",
       "text": [
        "Proportion of user reviews with score greater than 3:  "
       ]
      },
      {
       "output_type": "stream",
       "stream": "stdout",
       "text": [
        "0.737005900897\n",
        "Proportion of staff reviews with score greater than 3:  0.55981595092\n"
       ]
      }
     ],
     "prompt_number": 34
    },
    {
     "cell_type": "markdown",
     "metadata": {},
     "source": [
      "This disparity may naively be attributed to the hyperbolic tendencies common to an anonymous online public in comparison to the more level headed appraisals made by a staff who must be accountable to some institution. More constructively, we must note that while there is only one staff review per game, many different users can review and score the same game. The number of unique games reviewed in the entire Giant Bomb data set can be computed by finding the length of the list of unique names in the `usr_rv_frame`"
     ]
    },
    {
     "cell_type": "code",
     "collapsed": false,
     "input": [
      "print 'Total number of unique games reviewed: ', len(set(usr_rv_frame['Name']))"
     ],
     "language": "python",
     "metadata": {},
     "outputs": [
      {
       "output_type": "stream",
       "stream": "stdout",
       "text": [
        "Total number of unique games reviewed:  4970\n"
       ]
      }
     ],
     "prompt_number": 35
    },
    {
     "cell_type": "markdown",
     "metadata": {},
     "source": [
      "So although there are about 25000 user reviews, these users have collectively reviewed only about 5000 games. "
     ]
    },
    {
     "cell_type": "markdown",
     "metadata": {},
     "source": [
      "Aside from the possible differences in reviewing style between the two groups, how can we explain why the net user review distribution has a higher proportion of high ratings than the staff review distribution? Well, we note that the user review distribution includes all the user reviews for a particular game, and the popular games which are most likely of higher than average quality would have a higher number of the user reviews.  Consequently, collecting all user reviews would lead to a distribution with a higher proportion of 4s and 5s with respect to a distribution which slotted only one score per game. We can confirm this expectation by averaging over the user review scores per game. "
     ]
    },
    {
     "cell_type": "code",
     "collapsed": false,
     "input": [
      "## Data frame of average user review score per game\n",
      "# This averaging washes away the datetime and reviewer name data \n",
      "\n",
      "unique_rvs = usr_rv_frame.groupby(['Name','Game Id'],as_index = False)['Name', 'Game Id','User Review Score'].mean()\n",
      "unique_rvs.head()\n",
      "\n",
      "# rounds the scores in the above frame to their nearest integer values\n",
      "discrete_score = list()\n",
      "for elem in list(unique_rvs['User Review Score']):\n",
      "    discrete_score.append(round(elem))\n",
      "    \n",
      "# Histogram distribution of average user review scores for each game (rounded)\n",
      "plt.figure(figsize=(8,6))\n",
      "n, bins, patches = plt.hist(discrete_score, 15)\n",
      "plt.title(\" Distribution of User Review Scores-rounded avg per game\", y =1.1)\n",
      "plt.xlabel(\"Score\")\n",
      "plt.ylabel(\"Numbers of Occurences\")"
     ],
     "language": "python",
     "metadata": {},
     "outputs": [
      {
       "metadata": {},
       "output_type": "pyout",
       "prompt_number": 40,
       "text": [
        "<matplotlib.text.Text at 0x1fd309b0>"
       ]
      },
      {
       "metadata": {},
       "output_type": "display_data",
       "png": "[encoded data removed]",
       "text": [
        "<matplotlib.figure.Figure at 0x2725b898>"
       ]
      }
     ],
     "prompt_number": 40
    },
    {
     "cell_type": "markdown",
     "metadata": {},
     "source": [
      "And thus we see that the user review distribution (with one average review score per game) more closely approximates the staff review distribution. \n",
      "\n",
      "----"
     ]
    },
    {
     "cell_type": "markdown",
     "metadata": {},
     "source": [
      "#### What is the correlation between user review scores and staff review scores? \n"
     ]
    },
    {
     "cell_type": "markdown",
     "metadata": {},
     "source": [
      "The final question we will consider is the correlation between staff review scores and user review scores. Phrased more colloquially we ask does the average user review score for a particular game typically match the score provided by a staff reviewer? Knowing the correspondence between staff review scores and user review scores will allow us to infer how well we expect a text-classification trained using staff review data could accurately predict the \u2018positive\u2019 or \u2018negative\u2019 sentiment expressed by a user\u2019s review. \n",
      "\n",
      "To find this correspondence we merge the two data sets based on the game name. In this case we choose to merge the average user review without applying the floor function to make the averages meet their standard integer values. If we were to apply the floor function all of the points of our scatter plot would be confined to grid like values which would obscure the underlying distribution."
     ]
    },
    {
     "cell_type": "code",
     "collapsed": false,
     "input": [
      "from pandas import merge\n",
      "\n",
      "all_rvs = merge(unique_rvs, staff_rv_frame, how = 'inner')\n",
      "all_rvs.head()"
     ],
     "language": "python",
     "metadata": {},
     "outputs": [
      {
       "html": [
        "<div style=\"max-height:1000px;max-width:1500px;overflow:auto;\">\n",
        "<table border=\"1\" class=\"dataframe\">\n",
        "  <thead>\n",
        "    <tr style=\"text-align: right;\">\n",
        "      <th></th>\n",
        "      <th>Name</th>\n",
        "      <th>Game Id</th>\n",
        "      <th>User Review Score</th>\n",
        "      <th>Giant Bomb Score</th>\n",
        "      <th>Reviewer</th>\n",
        "      <th>Date of Review</th>\n",
        "      <th>year</th>\n",
        "      <th>month</th>\n",
        "    </tr>\n",
        "  </thead>\n",
        "  <tbody>\n",
        "    <tr>\n",
        "      <th>0</th>\n",
        "      <td>                007 Legends</td>\n",
        "      <td> 3030-38040</td>\n",
        "      <td> 2.000000</td>\n",
        "      <td> 2</td>\n",
        "      <td> Alex</td>\n",
        "      <td>2012-10-18 13:00:00</td>\n",
        "      <td> 2012</td>\n",
        "      <td> 10</td>\n",
        "    </tr>\n",
        "    <tr>\n",
        "      <th>1</th>\n",
        "      <td>         1942: Joint Strike</td>\n",
        "      <td> 3030-20472</td>\n",
        "      <td> 3.333333</td>\n",
        "      <td> 3</td>\n",
        "      <td> Jeff</td>\n",
        "      <td>2008-08-20 14:00:00</td>\n",
        "      <td> 2008</td>\n",
        "      <td>  8</td>\n",
        "    </tr>\n",
        "    <tr>\n",
        "      <th>2</th>\n",
        "      <td>         3D Dot Game Heroes</td>\n",
        "      <td> 3030-27860</td>\n",
        "      <td> 3.333333</td>\n",
        "      <td> 3</td>\n",
        "      <td> Ryan</td>\n",
        "      <td>2010-05-12 20:00:00</td>\n",
        "      <td> 2010</td>\n",
        "      <td>  5</td>\n",
        "    </tr>\n",
        "    <tr>\n",
        "      <th>3</th>\n",
        "      <td> 50 Cent: Blood on the Sand</td>\n",
        "      <td> 3030-20454</td>\n",
        "      <td> 3.214286</td>\n",
        "      <td> 3</td>\n",
        "      <td> Jeff</td>\n",
        "      <td>2009-02-24 08:00:00</td>\n",
        "      <td> 2009</td>\n",
        "      <td>  2</td>\n",
        "    </tr>\n",
        "    <tr>\n",
        "      <th>4</th>\n",
        "      <td>         A Boy and His Blob</td>\n",
        "      <td> 3030-25508</td>\n",
        "      <td> 3.666667</td>\n",
        "      <td> 4</td>\n",
        "      <td> Ryan</td>\n",
        "      <td>2009-10-23 11:00:00</td>\n",
        "      <td> 2009</td>\n",
        "      <td> 10</td>\n",
        "    </tr>\n",
        "  </tbody>\n",
        "</table>\n",
        "</div>"
       ],
       "metadata": {},
       "output_type": "pyout",
       "prompt_number": 41,
       "text": [
        "                         Name     Game Id  User Review Score  \\\n",
        "0                 007 Legends  3030-38040           2.000000   \n",
        "1          1942: Joint Strike  3030-20472           3.333333   \n",
        "2          3D Dot Game Heroes  3030-27860           3.333333   \n",
        "3  50 Cent: Blood on the Sand  3030-20454           3.214286   \n",
        "4          A Boy and His Blob  3030-25508           3.666667   \n",
        "\n",
        "   Giant Bomb Score Reviewer      Date of Review  year  month  \n",
        "0                 2     Alex 2012-10-18 13:00:00  2012     10  \n",
        "1                 3     Jeff 2008-08-20 14:00:00  2008      8  \n",
        "2                 3     Ryan 2010-05-12 20:00:00  2010      5  \n",
        "3                 3     Jeff 2009-02-24 08:00:00  2009      2  \n",
        "4                 4     Ryan 2009-10-23 11:00:00  2009     10  "
       ]
      }
     ],
     "prompt_number": 41
    },
    {
     "cell_type": "markdown",
     "metadata": {},
     "source": [
      "Plotting the average user review scores against the staff review scores for each game we have"
     ]
    },
    {
     "cell_type": "code",
     "collapsed": false,
     "input": [
      "all_rvs.plot(x = \"User Review Score\", y = 'Giant Bomb Score', kind = 'scatter',figsize=(8,6), title = 'Correlation between Staff and User Review Scores')"
     ],
     "language": "python",
     "metadata": {},
     "outputs": [
      {
       "metadata": {},
       "output_type": "pyout",
       "prompt_number": 42,
       "text": [
        "<matplotlib.axes.AxesSubplot at 0x1fe502b0>"
       ]
      },
      {
       "metadata": {},
       "output_type": "display_data",
       "png": "[encoded data removed]",
       "text": [
        "<matplotlib.figure.Figure at 0xc2d9a20>"
       ]
      }
     ],
     "prompt_number": 42
    },
    {
     "cell_type": "markdown",
     "metadata": {},
     "source": [
      "And then computing the correlation between the two types of reviews yields"
     ]
    },
    {
     "cell_type": "code",
     "collapsed": false,
     "input": [
      "print 'Correlation between User Reviews and Critics Reviews: ', all_rvs['Giant Bomb Score'].corr(all_rvs['User Review Score'])"
     ],
     "language": "python",
     "metadata": {},
     "outputs": [
      {
       "output_type": "stream",
       "stream": "stdout",
       "text": [
        "Correlation between User Reviews and Critics Reviews:  "
       ]
      },
      {
       "output_type": "stream",
       "stream": "stdout",
       "text": [
        "0.676855376923\n"
       ]
      }
     ],
     "prompt_number": 44
    },
    {
     "cell_type": "markdown",
     "metadata": {},
     "source": [
      "Thus we see a strong correlation between user reviews and critics reviews. We can then reasonably use a text classifier trained on staff review data to predict the sentiment expressed by user reviews. As a further extension, since user reviews would more closely approximate general anonymous internet text than do the staff reviews, the close correspondence between staff review scores and user review scores suggests that it should be possible to use our score-text classifier to classify general online text."
     ]
    },
    {
     "cell_type": "markdown",
     "metadata": {},
     "source": [
      "## II. Finding Low-Hanging Fruit in Game Development"
     ]
    },
    {
     "cell_type": "markdown",
     "metadata": {},
     "source": [
      "\"What video game genres provide the best opportunity for enterprising young developers to break into game creation?\" This was the question which focused our analysis of the Giant Bomb data. To answer this question we looked at four aspects of all video game genres. \n",
      "\n",
      "In each genre, we wanted to know three things: the number of games produced in the last four years; the average number of user reviews per game; and the average user review score of games in the genre. \n",
      "\n",
      "- The **number of games produced in the last four years** gives us a sense of the current **competition** within the genre. If many hundreds of games are produced each year in a particular genre then it would be much more difficult for a contributing new developer to standout than if only a few dozen games were produced. Hence, low competition would favor new game developers. \n",
      "\n",
      "- The **average number of user reviews per game** for a genre tells us the level of **gamer interest** in the genre or the genre popularity. A genre with a high number of user reviews per game suggests that the developed games are being played by gamers and there already exists an established market for new games. \n",
      "\n",
      "- The **average user review score** of games in the genre tells us what gamers generally think of the current lot of games in the genre. We call this average, the \"**public opinion**\" of a genre. A high public opinion score (i.e., a score greater than the mean public opinion score) suggests that users generally think that the games in the genre are of high quality, and hence gamers are satisfied with the existing games. Conversely, a low public opinion score suggests gamers are generally dissatisfied with games in the genre. A genre with such a score would thus be a good arena for a new developer to make high quality games. \n",
      "\n",
      "Given these genre qualities, we can devise general criteria to find the genre (or genres) which is the lowest hanging fruit in terms of game development. The prototypical genre for new game development would have **high gamer interest** (a high number of user reviews per game) so that a market already exists,  low **competition** (low number of games produced in the last four years) so that there are fewer other games to compete with, and a **low public opinion score** (a low average score for the games in the genre) so there is generally room for improvement within the genre. \n",
      "\n",
      "Thus our goal was to find the video game genres which were consistent with these \"low-hanging fruit\" criteria. "
     ]
    },
    {
     "cell_type": "markdown",
     "metadata": {},
     "source": [
      "First we needed to create a data frame which includes the genre names as rows and our \"low-hanging fruit\" criteria as columns. We begin with our game and genre frame"
     ]
    },
    {
     "cell_type": "code",
     "collapsed": false,
     "input": [
      "game_and_genre_frame.head()"
     ],
     "language": "python",
     "metadata": {},
     "outputs": [
      {
       "html": [
        "<div style=\"max-height:1000px;max-width:1500px;overflow:auto;\">\n",
        "<table border=\"1\" class=\"dataframe\">\n",
        "  <thead>\n",
        "    <tr style=\"text-align: right;\">\n",
        "      <th></th>\n",
        "      <th>Name</th>\n",
        "      <th>Genres</th>\n",
        "      <th>Date Released</th>\n",
        "      <th>Number of User Reviews</th>\n",
        "      <th>Game Id</th>\n",
        "    </tr>\n",
        "  </thead>\n",
        "  <tbody>\n",
        "    <tr>\n",
        "      <th>0</th>\n",
        "      <td>                     Pac-Man</td>\n",
        "      <td>           [u'Strategy', u'Puzzle']</td>\n",
        "      <td> 1980-05-22 00:00:00</td>\n",
        "      <td>  4</td>\n",
        "      <td>  3030-7624</td>\n",
        "    </tr>\n",
        "    <tr>\n",
        "      <th>1</th>\n",
        "      <td>             Icewind Dale II</td>\n",
        "      <td>                  [u'Role-Playing']</td>\n",
        "      <td> 2002-08-28 00:00:00</td>\n",
        "      <td>  1</td>\n",
        "      <td>  3030-8890</td>\n",
        "    </tr>\n",
        "    <tr>\n",
        "      <th>2</th>\n",
        "      <td>            Gauntlet Legends</td>\n",
        "      <td>      [u'Role-Playing', u'Brawler']</td>\n",
        "      <td> 1998-10-31 00:00:00</td>\n",
        "      <td>  1</td>\n",
        "      <td> 3030-12245</td>\n",
        "    </tr>\n",
        "    <tr>\n",
        "      <th>3</th>\n",
        "      <td>           MVP Baseball 2005</td>\n",
        "      <td>           [u'Sports', u'Baseball']</td>\n",
        "      <td> 2005-02-22 00:00:00</td>\n",
        "      <td>  4</td>\n",
        "      <td>  3030-9978</td>\n",
        "    </tr>\n",
        "    <tr>\n",
        "      <th>4</th>\n",
        "      <td> Need for Speed: Most Wanted</td>\n",
        "      <td> [u'Driving/Racing', u'Simulation']</td>\n",
        "      <td> 2005-11-15 00:00:00</td>\n",
        "      <td> 17</td>\n",
        "      <td> 3030-12976</td>\n",
        "    </tr>\n",
        "  </tbody>\n",
        "</table>\n",
        "</div>"
       ],
       "metadata": {},
       "output_type": "pyout",
       "prompt_number": 61,
       "text": [
        "                          Name                              Genres  \\\n",
        "0                      Pac-Man            [u'Strategy', u'Puzzle']   \n",
        "1              Icewind Dale II                   [u'Role-Playing']   \n",
        "2             Gauntlet Legends       [u'Role-Playing', u'Brawler']   \n",
        "3            MVP Baseball 2005            [u'Sports', u'Baseball']   \n",
        "4  Need for Speed: Most Wanted  [u'Driving/Racing', u'Simulation']   \n",
        "\n",
        "         Date Released  Number of User Reviews     Game Id  \n",
        "0  1980-05-22 00:00:00                       4   3030-7624  \n",
        "1  2002-08-28 00:00:00                       1   3030-8890  \n",
        "2  1998-10-31 00:00:00                       1  3030-12245  \n",
        "3  2005-02-22 00:00:00                       4   3030-9978  \n",
        "4  2005-11-15 00:00:00                      17  3030-12976  "
       ]
      }
     ],
     "prompt_number": 61
    },
    {
     "cell_type": "markdown",
     "metadata": {},
     "source": [
      "We note that our data collection resulted in duplicated entries"
     ]
    },
    {
     "cell_type": "code",
     "collapsed": false,
     "input": [
      "game_and_genre_frame[game_and_genre_frame.duplicated()].head()"
     ],
     "language": "python",
     "metadata": {},
     "outputs": [
      {
       "html": [
        "<div style=\"max-height:1000px;max-width:1500px;overflow:auto;\">\n",
        "<table border=\"1\" class=\"dataframe\">\n",
        "  <thead>\n",
        "    <tr style=\"text-align: right;\">\n",
        "      <th></th>\n",
        "      <th>Name</th>\n",
        "      <th>Genres</th>\n",
        "      <th>Date Released</th>\n",
        "      <th>Number of User Reviews</th>\n",
        "      <th>Game Id</th>\n",
        "    </tr>\n",
        "  </thead>\n",
        "  <tbody>\n",
        "    <tr>\n",
        "      <th>65 </th>\n",
        "      <td> LEGO Indiana Jones: The Original Adventures</td>\n",
        "      <td>                         [u'Action', u'Adventure']</td>\n",
        "      <td> 2008-06-03 00:00:00</td>\n",
        "      <td>  30</td>\n",
        "      <td> 3030-20534</td>\n",
        "    </tr>\n",
        "    <tr>\n",
        "      <th>113</th>\n",
        "      <td>                         Unreal Tournament 3</td>\n",
        "      <td> [u'Action', u'Shooter', u'First-Person Shooter...</td>\n",
        "      <td> 2007-12-10 00:00:00</td>\n",
        "      <td>  27</td>\n",
        "      <td> 3030-10955</td>\n",
        "    </tr>\n",
        "    <tr>\n",
        "      <th>175</th>\n",
        "      <td>            Guitar Hero III: Legends of Rock</td>\n",
        "      <td>                  [u'Simulation', u'Music/Rhythm']</td>\n",
        "      <td> 2007-10-28 00:00:00</td>\n",
        "      <td>  33</td>\n",
        "      <td>  3030-4031</td>\n",
        "    </tr>\n",
        "    <tr>\n",
        "      <th>289</th>\n",
        "      <td>                                Gears of War</td>\n",
        "      <td>                           [u'Action', u'Shooter']</td>\n",
        "      <td> 2006-11-07 00:00:00</td>\n",
        "      <td> 107</td>\n",
        "      <td> 3030-12231</td>\n",
        "    </tr>\n",
        "    <tr>\n",
        "      <th>327</th>\n",
        "      <td>         Grand Theft Auto: Vice City Stories</td>\n",
        "      <td>                    [u'Action', u'Driving/Racing']</td>\n",
        "      <td> 2006-10-31 00:00:00</td>\n",
        "      <td>   5</td>\n",
        "      <td> 3030-10264</td>\n",
        "    </tr>\n",
        "  </tbody>\n",
        "</table>\n",
        "</div>"
       ],
       "metadata": {},
       "output_type": "pyout",
       "prompt_number": 62,
       "text": [
        "                                            Name  \\\n",
        "65   LEGO Indiana Jones: The Original Adventures   \n",
        "113                          Unreal Tournament 3   \n",
        "175             Guitar Hero III: Legends of Rock   \n",
        "289                                 Gears of War   \n",
        "327          Grand Theft Auto: Vice City Stories   \n",
        "\n",
        "                                                Genres        Date Released  \\\n",
        "65                           [u'Action', u'Adventure']  2008-06-03 00:00:00   \n",
        "113  [u'Action', u'Shooter', u'First-Person Shooter...  2007-12-10 00:00:00   \n",
        "175                   [u'Simulation', u'Music/Rhythm']  2007-10-28 00:00:00   \n",
        "289                            [u'Action', u'Shooter']  2006-11-07 00:00:00   \n",
        "327                     [u'Action', u'Driving/Racing']  2006-10-31 00:00:00   \n",
        "\n",
        "     Number of User Reviews     Game Id  \n",
        "65                       30  3030-20534  \n",
        "113                      27  3030-10955  \n",
        "175                      33   3030-4031  \n",
        "289                     107  3030-12231  \n",
        "327                       5  3030-10264  "
       ]
      }
     ],
     "prompt_number": 62
    },
    {
     "cell_type": "markdown",
     "metadata": {},
     "source": [
      "So, we drop the duplicates and redefine our frame"
     ]
    },
    {
     "cell_type": "code",
     "collapsed": false,
     "input": [
      "# drops duplicated entries and redefinition\n",
      "game_and_genre_frame.drop_duplicates(inplace=True)\n",
      "# checks that duplicated entries don't exist\n",
      "game_and_genre_frame[game_and_genre_frame.duplicated()]"
     ],
     "language": "python",
     "metadata": {},
     "outputs": [
      {
       "html": [
        "<div style=\"max-height:1000px;max-width:1500px;overflow:auto;\">\n",
        "<table border=\"1\" class=\"dataframe\">\n",
        "  <thead>\n",
        "    <tr style=\"text-align: right;\">\n",
        "      <th></th>\n",
        "      <th>Name</th>\n",
        "      <th>Genres</th>\n",
        "      <th>Date Released</th>\n",
        "      <th>Number of User Reviews</th>\n",
        "      <th>Game Id</th>\n",
        "    </tr>\n",
        "  </thead>\n",
        "  <tbody>\n",
        "  </tbody>\n",
        "</table>\n",
        "</div>"
       ],
       "metadata": {},
       "output_type": "pyout",
       "prompt_number": 63,
       "text": [
        "Empty DataFrame\n",
        "Columns: [Name, Genres, Date Released, Number of User Reviews, Game Id]\n",
        "Index: []"
       ]
      }
     ],
     "prompt_number": 63
    },
    {
     "cell_type": "markdown",
     "metadata": {},
     "source": [
      "Also, it turns out that the Giant Bomb API incorrectly counts some of the user reviews. For example, some games are shown to have -1 or even fewer user reviews: "
     ]
    },
    {
     "cell_type": "code",
     "collapsed": false,
     "input": [
      "game_and_genre_frame[game_and_genre_frame['Number of User Reviews']<0].head(10)"
     ],
     "language": "python",
     "metadata": {},
     "outputs": [
      {
       "html": [
        "<div style=\"max-height:1000px;max-width:1500px;overflow:auto;\">\n",
        "<table border=\"1\" class=\"dataframe\">\n",
        "  <thead>\n",
        "    <tr style=\"text-align: right;\">\n",
        "      <th></th>\n",
        "      <th>Name</th>\n",
        "      <th>Genres</th>\n",
        "      <th>Date Released</th>\n",
        "      <th>Number of User Reviews</th>\n",
        "      <th>Game Id</th>\n",
        "    </tr>\n",
        "  </thead>\n",
        "  <tbody>\n",
        "    <tr>\n",
        "      <th>1176</th>\n",
        "      <td>                                   Chulip</td>\n",
        "      <td>                       [u'Adventure']</td>\n",
        "      <td> 2007-02-14 00:00:00</td>\n",
        "      <td>-1</td>\n",
        "      <td>  3030-1392</td>\n",
        "    </tr>\n",
        "    <tr>\n",
        "      <th>2984</th>\n",
        "      <td> Final Fantasy XIV Online: A Realm Reborn</td>\n",
        "      <td>                          [u'MMORPG']</td>\n",
        "      <td> 2010-09-22 00:00:00</td>\n",
        "      <td>-1</td>\n",
        "      <td> 3030-26847</td>\n",
        "    </tr>\n",
        "    <tr>\n",
        "      <th>3089</th>\n",
        "      <td>                     Doritos Crash Course</td>\n",
        "      <td>                      [u'Platformer']</td>\n",
        "      <td> 2010-12-08 00:00:00</td>\n",
        "      <td>-1</td>\n",
        "      <td> 3030-33114</td>\n",
        "    </tr>\n",
        "    <tr>\n",
        "      <th>4162</th>\n",
        "      <td>                         Thomas Was Alone</td>\n",
        "      <td>           [u'Puzzle', u'Platformer']</td>\n",
        "      <td> 2012-06-30 00:00:00</td>\n",
        "      <td>-1</td>\n",
        "      <td> 3030-38825</td>\n",
        "    </tr>\n",
        "    <tr>\n",
        "      <th>4310</th>\n",
        "      <td>                  Joe Danger 2: The Movie</td>\n",
        "      <td>   [u'Driving/Racing', u'Platformer']</td>\n",
        "      <td> 2012-10-09 00:00:00</td>\n",
        "      <td>-1</td>\n",
        "      <td> 3030-36129</td>\n",
        "    </tr>\n",
        "    <tr>\n",
        "      <th>4424</th>\n",
        "      <td>     Dragon Ball Z: Budokai HD Collection</td>\n",
        "      <td>                        [u'Fighting']</td>\n",
        "      <td> 2012-11-06 00:00:00</td>\n",
        "      <td>-1</td>\n",
        "      <td> 3030-38894</td>\n",
        "    </tr>\n",
        "    <tr>\n",
        "      <th>4448</th>\n",
        "      <td>                                  McPixel</td>\n",
        "      <td>                          [u'Puzzle']</td>\n",
        "      <td> 2012-06-25 00:00:00</td>\n",
        "      <td>-1</td>\n",
        "      <td> 3030-38824</td>\n",
        "    </tr>\n",
        "    <tr>\n",
        "      <th>4455</th>\n",
        "      <td>                             Just Dance 3</td>\n",
        "      <td>                    [u'Music/Rhythm']</td>\n",
        "      <td> 2011-10-11 00:00:00</td>\n",
        "      <td>-1</td>\n",
        "      <td> 3030-35553</td>\n",
        "    </tr>\n",
        "    <tr>\n",
        "      <th>4459</th>\n",
        "      <td>                         Persona 4 Golden</td>\n",
        "      <td>                    [u'Role-Playing']</td>\n",
        "      <td> 2012-11-20 00:00:00</td>\n",
        "      <td>-4</td>\n",
        "      <td> 3030-36273</td>\n",
        "    </tr>\n",
        "    <tr>\n",
        "      <th>4468</th>\n",
        "      <td>                           Primal Carnage</td>\n",
        "      <td> [u'Action', u'First-Person Shooter']</td>\n",
        "      <td> 2012-10-29 00:00:00</td>\n",
        "      <td>-1</td>\n",
        "      <td> 3030-29981</td>\n",
        "    </tr>\n",
        "  </tbody>\n",
        "</table>\n",
        "</div>"
       ],
       "metadata": {},
       "output_type": "pyout",
       "prompt_number": 64,
       "text": [
        "                                          Name  \\\n",
        "1176                                    Chulip   \n",
        "2984  Final Fantasy XIV Online: A Realm Reborn   \n",
        "3089                      Doritos Crash Course   \n",
        "4162                          Thomas Was Alone   \n",
        "4310                   Joe Danger 2: The Movie   \n",
        "4424      Dragon Ball Z: Budokai HD Collection   \n",
        "4448                                   McPixel   \n",
        "4455                              Just Dance 3   \n",
        "4459                          Persona 4 Golden   \n",
        "4468                            Primal Carnage   \n",
        "\n",
        "                                    Genres        Date Released  \\\n",
        "1176                        [u'Adventure']  2007-02-14 00:00:00   \n",
        "2984                           [u'MMORPG']  2010-09-22 00:00:00   \n",
        "3089                       [u'Platformer']  2010-12-08 00:00:00   \n",
        "4162            [u'Puzzle', u'Platformer']  2012-06-30 00:00:00   \n",
        "4310    [u'Driving/Racing', u'Platformer']  2012-10-09 00:00:00   \n",
        "4424                         [u'Fighting']  2012-11-06 00:00:00   \n",
        "4448                           [u'Puzzle']  2012-06-25 00:00:00   \n",
        "4455                     [u'Music/Rhythm']  2011-10-11 00:00:00   \n",
        "4459                     [u'Role-Playing']  2012-11-20 00:00:00   \n",
        "4468  [u'Action', u'First-Person Shooter']  2012-10-29 00:00:00   \n",
        "\n",
        "      Number of User Reviews     Game Id  \n",
        "1176                      -1   3030-1392  \n",
        "2984                      -1  3030-26847  \n",
        "3089                      -1  3030-33114  \n",
        "4162                      -1  3030-38825  \n",
        "4310                      -1  3030-36129  \n",
        "4424                      -1  3030-38894  \n",
        "4448                      -1  3030-38824  \n",
        "4455                      -1  3030-35553  \n",
        "4459                      -4  3030-36273  \n",
        "4468                      -1  3030-29981  "
       ]
      }
     ],
     "prompt_number": 64
    },
    {
     "cell_type": "markdown",
     "metadata": {},
     "source": [
      "Instead of attempting to clean this data column, we simply deem it as spurious and delete it. "
     ]
    },
    {
     "cell_type": "code",
     "collapsed": false,
     "input": [
      "del game_and_genre_frame['Number of User Reviews']"
     ],
     "language": "python",
     "metadata": {},
     "outputs": [],
     "prompt_number": 65
    },
    {
     "cell_type": "markdown",
     "metadata": {},
     "source": [
      "We will instead use the `usr_rv_frame` to calculate the correct number of user reviews. Specifically, a game name appears in the `usr_rv_frame` each time someone writes a review for the game. Thus, by simply counting the number of times a game name appears we can find the number of user reviews it has. First, for recollection we show the head of the user review frame. "
     ]
    },
    {
     "cell_type": "code",
     "collapsed": false,
     "input": [
      "usr_rv_frame.head()"
     ],
     "language": "python",
     "metadata": {},
     "outputs": [
      {
       "html": [
        "<div style=\"max-height:1000px;max-width:1500px;overflow:auto;\">\n",
        "<table border=\"1\" class=\"dataframe\">\n",
        "  <thead>\n",
        "    <tr style=\"text-align: right;\">\n",
        "      <th></th>\n",
        "      <th>Name</th>\n",
        "      <th>User Review Score</th>\n",
        "      <th>User Reviewer</th>\n",
        "      <th>Date of Review</th>\n",
        "      <th>Game Id</th>\n",
        "    </tr>\n",
        "  </thead>\n",
        "  <tbody>\n",
        "    <tr>\n",
        "      <th>0</th>\n",
        "      <td>                 Famicom Mini: Pac-Man</td>\n",
        "      <td> 5</td>\n",
        "      <td>    snide</td>\n",
        "      <td> 2008-07-14 21:49:21</td>\n",
        "      <td>  3030-7624</td>\n",
        "    </tr>\n",
        "    <tr>\n",
        "      <th>1</th>\n",
        "      <td> Icewind Dale II (Collector's Edition)</td>\n",
        "      <td> 5</td>\n",
        "      <td>    snide</td>\n",
        "      <td> 2008-07-20 01:09:02</td>\n",
        "      <td>  3030-8890</td>\n",
        "    </tr>\n",
        "    <tr>\n",
        "      <th>2</th>\n",
        "      <td>                      Gauntlet Legends</td>\n",
        "      <td> 4</td>\n",
        "      <td> joseppie</td>\n",
        "      <td> 2008-07-21 00:34:06</td>\n",
        "      <td> 3030-12245</td>\n",
        "    </tr>\n",
        "    <tr>\n",
        "      <th>3</th>\n",
        "      <td>                     MVP Baseball 2005</td>\n",
        "      <td> 5</td>\n",
        "      <td> joseppie</td>\n",
        "      <td> 2008-07-21 00:36:10</td>\n",
        "      <td>  3030-9978</td>\n",
        "    </tr>\n",
        "    <tr>\n",
        "      <th>4</th>\n",
        "      <td>           Need for Speed: Most Wanted</td>\n",
        "      <td> 4</td>\n",
        "      <td> joseppie</td>\n",
        "      <td> 2008-07-21 00:44:42</td>\n",
        "      <td> 3030-12976</td>\n",
        "    </tr>\n",
        "  </tbody>\n",
        "</table>\n",
        "</div>"
       ],
       "metadata": {},
       "output_type": "pyout",
       "prompt_number": 66,
       "text": [
        "                                    Name  User Review Score User Reviewer  \\\n",
        "0                  Famicom Mini: Pac-Man                  5         snide   \n",
        "1  Icewind Dale II (Collector's Edition)                  5         snide   \n",
        "2                       Gauntlet Legends                  4      joseppie   \n",
        "3                      MVP Baseball 2005                  5      joseppie   \n",
        "4            Need for Speed: Most Wanted                  4      joseppie   \n",
        "\n",
        "        Date of Review     Game Id  \n",
        "0  2008-07-14 21:49:21   3030-7624  \n",
        "1  2008-07-20 01:09:02   3030-8890  \n",
        "2  2008-07-21 00:34:06  3030-12245  \n",
        "3  2008-07-21 00:36:10   3030-9978  \n",
        "4  2008-07-21 00:44:42  3030-12976  "
       ]
      }
     ],
     "prompt_number": 66
    },
    {
     "cell_type": "markdown",
     "metadata": {},
     "source": [
      "We will draw the name and Game ID of the game from the `unique_rvs` frame. But first, we redefine it to include the mean user review score associated with a video game. This mean score will factor into our \"public opinion\" calculation for the genre of the video game. "
     ]
    },
    {
     "cell_type": "code",
     "collapsed": false,
     "input": [
      "# average the scores for individual games (with name and game id)\n",
      "unique_usr_rvs = usr_rv_frame.groupby(['Name','Game Id'],as_index = False)['Name', 'Game Id','User Review Score'].mean()\n",
      "unique_usr_rvs.head()"
     ],
     "language": "python",
     "metadata": {},
     "outputs": [
      {
       "html": [
        "<div style=\"max-height:1000px;max-width:1500px;overflow:auto;\">\n",
        "<table border=\"1\" class=\"dataframe\">\n",
        "  <thead>\n",
        "    <tr style=\"text-align: right;\">\n",
        "      <th></th>\n",
        "      <th>Name</th>\n",
        "      <th>Game Id</th>\n",
        "      <th>User Review Score</th>\n",
        "    </tr>\n",
        "  </thead>\n",
        "  <tbody>\n",
        "    <tr>\n",
        "      <th>0</th>\n",
        "      <td>  .hack//QUARANTINE - Part 4</td>\n",
        "      <td> 3030-13921</td>\n",
        "      <td> 3.0</td>\n",
        "    </tr>\n",
        "    <tr>\n",
        "      <th>1</th>\n",
        "      <td>       007: Agent Under Fire</td>\n",
        "      <td> 3030-16559</td>\n",
        "      <td> 4.5</td>\n",
        "    </tr>\n",
        "    <tr>\n",
        "      <th>2</th>\n",
        "      <td>  007: Everything or Nothing</td>\n",
        "      <td>  3030-6530</td>\n",
        "      <td> 4.0</td>\n",
        "    </tr>\n",
        "    <tr>\n",
        "      <th>3</th>\n",
        "      <td>              007: Nightfire</td>\n",
        "      <td>  3030-6647</td>\n",
        "      <td> 2.8</td>\n",
        "    </tr>\n",
        "    <tr>\n",
        "      <th>4</th>\n",
        "      <td>        Adventures of Lolo 2</td>\n",
        "      <td>  3030-6430</td>\n",
        "      <td> 5.0</td>\n",
        "    </tr>\n",
        "  </tbody>\n",
        "</table>\n",
        "</div>"
       ],
       "metadata": {},
       "output_type": "pyout",
       "prompt_number": 67,
       "text": [
        "                          Name     Game Id  User Review Score\n",
        "0   .hack//QUARANTINE - Part 4  3030-13921                3.0\n",
        "1        007: Agent Under Fire  3030-16559                4.5\n",
        "2   007: Everything or Nothing   3030-6530                4.0\n",
        "3               007: Nightfire   3030-6647                2.8\n",
        "4         Adventures of Lolo 2   3030-6430                5.0"
       ]
      }
     ],
     "prompt_number": 67
    },
    {
     "cell_type": "markdown",
     "metadata": {},
     "source": [
      "We note that this new unique frame contains the same elements as the previous frame except, now each element has an average user review score asscociated with it. "
     ]
    },
    {
     "cell_type": "markdown",
     "metadata": {},
     "source": [
      "To create the list of \"number of user reviews\" according to the list of unique game name and ID combinations, we use the following code:"
     ]
    },
    {
     "cell_type": "code",
     "collapsed": false,
     "input": [
      "# calculates the number of user reviews\n",
      "num_usr_rvs = list()\n",
      "for k in range(len(unique_usr_rvs)):\n",
      "    name = unique_usr_rvs['Name'][k]\n",
      "    game_id = unique_usr_rvs['Game Id'][k]\n",
      "    num = len(usr_rv_frame[usr_rv_frame['Name']==name][usr_rv_frame['Game Id']==game_id])\n",
      "    num_usr_rvs.append(num)"
     ],
     "language": "python",
     "metadata": {},
     "outputs": [
      {
       "output_type": "stream",
       "stream": "stderr",
       "text": [
        "C:\\Users\\Mobolaji\\Anaconda\\lib\\site-packages\\pandas\\core\\frame.py:1712: UserWarning: Boolean Series key will be reindexed to match DataFrame index.\n",
        "  \"DataFrame index.\", UserWarning)\n"
       ]
      }
     ],
     "prompt_number": 68
    },
    {
     "cell_type": "markdown",
     "metadata": {},
     "source": [
      "And now we add this new data column to our `unique_usr_rvs` frame:"
     ]
    },
    {
     "cell_type": "code",
     "collapsed": false,
     "input": [
      "unique_usr_rvs['Number of User Reviews'] = num_usr_rvs\n",
      "unique_usr_rvs.head()"
     ],
     "language": "python",
     "metadata": {},
     "outputs": [
      {
       "html": [
        "<div style=\"max-height:1000px;max-width:1500px;overflow:auto;\">\n",
        "<table border=\"1\" class=\"dataframe\">\n",
        "  <thead>\n",
        "    <tr style=\"text-align: right;\">\n",
        "      <th></th>\n",
        "      <th>Name</th>\n",
        "      <th>Game Id</th>\n",
        "      <th>User Review Score</th>\n",
        "      <th>Number of User Reviews</th>\n",
        "    </tr>\n",
        "  </thead>\n",
        "  <tbody>\n",
        "    <tr>\n",
        "      <th>0</th>\n",
        "      <td>  .hack//QUARANTINE - Part 4</td>\n",
        "      <td> 3030-13921</td>\n",
        "      <td> 3.0</td>\n",
        "      <td> 1</td>\n",
        "    </tr>\n",
        "    <tr>\n",
        "      <th>1</th>\n",
        "      <td>       007: Agent Under Fire</td>\n",
        "      <td> 3030-16559</td>\n",
        "      <td> 4.5</td>\n",
        "      <td> 2</td>\n",
        "    </tr>\n",
        "    <tr>\n",
        "      <th>2</th>\n",
        "      <td>  007: Everything or Nothing</td>\n",
        "      <td>  3030-6530</td>\n",
        "      <td> 4.0</td>\n",
        "      <td> 2</td>\n",
        "    </tr>\n",
        "    <tr>\n",
        "      <th>3</th>\n",
        "      <td>              007: Nightfire</td>\n",
        "      <td>  3030-6647</td>\n",
        "      <td> 2.8</td>\n",
        "      <td> 5</td>\n",
        "    </tr>\n",
        "    <tr>\n",
        "      <th>4</th>\n",
        "      <td>        Adventures of Lolo 2</td>\n",
        "      <td>  3030-6430</td>\n",
        "      <td> 5.0</td>\n",
        "      <td> 1</td>\n",
        "    </tr>\n",
        "  </tbody>\n",
        "</table>\n",
        "</div>"
       ],
       "metadata": {},
       "output_type": "pyout",
       "prompt_number": 69,
       "text": [
        "                          Name     Game Id  User Review Score  \\\n",
        "0   .hack//QUARANTINE - Part 4  3030-13921                3.0   \n",
        "1        007: Agent Under Fire  3030-16559                4.5   \n",
        "2   007: Everything or Nothing   3030-6530                4.0   \n",
        "3               007: Nightfire   3030-6647                2.8   \n",
        "4         Adventures of Lolo 2   3030-6430                5.0   \n",
        "\n",
        "   Number of User Reviews  \n",
        "0                       1  \n",
        "1                       2  \n",
        "2                       2  \n",
        "3                       5  \n",
        "4                       1  "
       ]
      }
     ],
     "prompt_number": 69
    },
    {
     "cell_type": "markdown",
     "metadata": {},
     "source": [
      "We recall our (de-duplicated) `game_and_genre_frame`"
     ]
    },
    {
     "cell_type": "code",
     "collapsed": false,
     "input": [
      "game_and_genre_frame.head()"
     ],
     "language": "python",
     "metadata": {},
     "outputs": [
      {
       "html": [
        "<div style=\"max-height:1000px;max-width:1500px;overflow:auto;\">\n",
        "<table border=\"1\" class=\"dataframe\">\n",
        "  <thead>\n",
        "    <tr style=\"text-align: right;\">\n",
        "      <th></th>\n",
        "      <th>Name</th>\n",
        "      <th>Genres</th>\n",
        "      <th>Date Released</th>\n",
        "      <th>Game Id</th>\n",
        "    </tr>\n",
        "  </thead>\n",
        "  <tbody>\n",
        "    <tr>\n",
        "      <th>0</th>\n",
        "      <td>                     Pac-Man</td>\n",
        "      <td>           [u'Strategy', u'Puzzle']</td>\n",
        "      <td> 1980-05-22 00:00:00</td>\n",
        "      <td>  3030-7624</td>\n",
        "    </tr>\n",
        "    <tr>\n",
        "      <th>1</th>\n",
        "      <td>             Icewind Dale II</td>\n",
        "      <td>                  [u'Role-Playing']</td>\n",
        "      <td> 2002-08-28 00:00:00</td>\n",
        "      <td>  3030-8890</td>\n",
        "    </tr>\n",
        "    <tr>\n",
        "      <th>2</th>\n",
        "      <td>            Gauntlet Legends</td>\n",
        "      <td>      [u'Role-Playing', u'Brawler']</td>\n",
        "      <td> 1998-10-31 00:00:00</td>\n",
        "      <td> 3030-12245</td>\n",
        "    </tr>\n",
        "    <tr>\n",
        "      <th>3</th>\n",
        "      <td>           MVP Baseball 2005</td>\n",
        "      <td>           [u'Sports', u'Baseball']</td>\n",
        "      <td> 2005-02-22 00:00:00</td>\n",
        "      <td>  3030-9978</td>\n",
        "    </tr>\n",
        "    <tr>\n",
        "      <th>4</th>\n",
        "      <td> Need for Speed: Most Wanted</td>\n",
        "      <td> [u'Driving/Racing', u'Simulation']</td>\n",
        "      <td> 2005-11-15 00:00:00</td>\n",
        "      <td> 3030-12976</td>\n",
        "    </tr>\n",
        "  </tbody>\n",
        "</table>\n",
        "</div>"
       ],
       "metadata": {},
       "output_type": "pyout",
       "prompt_number": 70,
       "text": [
        "                          Name                              Genres  \\\n",
        "0                      Pac-Man            [u'Strategy', u'Puzzle']   \n",
        "1              Icewind Dale II                   [u'Role-Playing']   \n",
        "2             Gauntlet Legends       [u'Role-Playing', u'Brawler']   \n",
        "3            MVP Baseball 2005            [u'Sports', u'Baseball']   \n",
        "4  Need for Speed: Most Wanted  [u'Driving/Racing', u'Simulation']   \n",
        "\n",
        "         Date Released     Game Id  \n",
        "0  1980-05-22 00:00:00   3030-7624  \n",
        "1  2002-08-28 00:00:00   3030-8890  \n",
        "2  1998-10-31 00:00:00  3030-12245  \n",
        "3  2005-02-22 00:00:00   3030-9978  \n",
        "4  2005-11-15 00:00:00  3030-12976  "
       ]
      }
     ],
     "prompt_number": 70
    },
    {
     "cell_type": "markdown",
     "metadata": {},
     "source": [
      "Merging the `game_and_genre_frame` with the `unique_usr_rvs` will give us a frame with all the information we need to create a master data frame with the public opinion score, current competition, and gamer interest. We call this new frame `gamer_usrscore_frame`"
     ]
    },
    {
     "cell_type": "code",
     "collapsed": false,
     "input": [
      "from pandas import merge\n",
      "\n",
      "# merge user review score and genres\n",
      "genre_usrscore_frame = merge(unique_usr_rvs, game_and_genre_frame, how = 'inner')\n",
      "genre_usrscore_frame.head()"
     ],
     "language": "python",
     "metadata": {},
     "outputs": [
      {
       "html": [
        "<div style=\"max-height:1000px;max-width:1500px;overflow:auto;\">\n",
        "<table border=\"1\" class=\"dataframe\">\n",
        "  <thead>\n",
        "    <tr style=\"text-align: right;\">\n",
        "      <th></th>\n",
        "      <th>Name</th>\n",
        "      <th>Game Id</th>\n",
        "      <th>User Review Score</th>\n",
        "      <th>Number of User Reviews</th>\n",
        "      <th>Genres</th>\n",
        "      <th>Date Released</th>\n",
        "    </tr>\n",
        "  </thead>\n",
        "  <tbody>\n",
        "    <tr>\n",
        "      <th>0</th>\n",
        "      <td>  .hack//INFECTION - Part 1</td>\n",
        "      <td> 3030-10287</td>\n",
        "      <td> 2.666667</td>\n",
        "      <td> 3</td>\n",
        "      <td>                     [u'Action', u'Role-Playing']</td>\n",
        "      <td> 2003-02-11 00:00:00</td>\n",
        "    </tr>\n",
        "    <tr>\n",
        "      <th>1</th>\n",
        "      <td>                007 Legends</td>\n",
        "      <td> 3030-38040</td>\n",
        "      <td> 2.000000</td>\n",
        "      <td> 1</td>\n",
        "      <td>             [u'Action', u'First-Person Shooter']</td>\n",
        "      <td> 2012-10-16 00:00:00</td>\n",
        "    </tr>\n",
        "    <tr>\n",
        "      <th>2</th>\n",
        "      <td>      007: Agent Under Fire</td>\n",
        "      <td> 3030-16559</td>\n",
        "      <td> 3.500000</td>\n",
        "      <td> 2</td>\n",
        "      <td> [u'Action', u'Shooter', u'First-Person Shooter']</td>\n",
        "      <td> 2001-11-13 00:00:00</td>\n",
        "    </tr>\n",
        "    <tr>\n",
        "      <th>3</th>\n",
        "      <td> 007: Everything or Nothing</td>\n",
        "      <td>  3030-6530</td>\n",
        "      <td> 4.000000</td>\n",
        "      <td> 3</td>\n",
        "      <td>     [u'Action', u'Shooter', u'Vehicular Combat']</td>\n",
        "      <td> 2003-02-17 00:00:00</td>\n",
        "    </tr>\n",
        "    <tr>\n",
        "      <th>4</th>\n",
        "      <td>              10-Yard Fight</td>\n",
        "      <td> 3030-10166</td>\n",
        "      <td> 1.000000</td>\n",
        "      <td> 1</td>\n",
        "      <td>                         [u'Sports', u'Football']</td>\n",
        "      <td> 1983-12-31 00:00:00</td>\n",
        "    </tr>\n",
        "  </tbody>\n",
        "</table>\n",
        "</div>"
       ],
       "metadata": {},
       "output_type": "pyout",
       "prompt_number": 71,
       "text": [
        "                         Name     Game Id  User Review Score  \\\n",
        "0   .hack//INFECTION - Part 1  3030-10287           2.666667   \n",
        "1                 007 Legends  3030-38040           2.000000   \n",
        "2       007: Agent Under Fire  3030-16559           3.500000   \n",
        "3  007: Everything or Nothing   3030-6530           4.000000   \n",
        "4               10-Yard Fight  3030-10166           1.000000   \n",
        "\n",
        "   Number of User Reviews                                            Genres  \\\n",
        "0                       3                      [u'Action', u'Role-Playing']   \n",
        "1                       1              [u'Action', u'First-Person Shooter']   \n",
        "2                       2  [u'Action', u'Shooter', u'First-Person Shooter']   \n",
        "3                       3      [u'Action', u'Shooter', u'Vehicular Combat']   \n",
        "4                       1                          [u'Sports', u'Football']   \n",
        "\n",
        "         Date Released  \n",
        "0  2003-02-11 00:00:00  \n",
        "1  2012-10-16 00:00:00  \n",
        "2  2001-11-13 00:00:00  \n",
        "3  2003-02-17 00:00:00  \n",
        "4  1983-12-31 00:00:00  "
       ]
      }
     ],
     "prompt_number": 71
    },
    {
     "cell_type": "markdown",
     "metadata": {},
     "source": [
      "With this new frame we can now create a dictionary of data frame, where each key is the name of a genre and the value is a data frame which lists the games within the genre along the rows and the release date, user review score, and number of user reviews along the columns. We first define a function to extract this genre specific information fromt the frame:"
     ]
    },
    {
     "cell_type": "code",
     "collapsed": false,
     "input": [
      "# builds a data frame for a particular genre\n",
      "\n",
      "# needed to check if genre is in the list of genres\n",
      "from ast import literal_eval\n",
      "\n",
      "def genre_frame(string):\n",
      "\n",
      "    g_game_names = list()\n",
      "    g_game_dates = list()\n",
      "    g_game_rv_nums = list()\n",
      "    g_game_id = list()\n",
      "    g_game_score = list()\n",
      "\n",
      "    \n",
      "    for k in range(len(genre_usrscore_frame)):\n",
      "        if string in literal_eval(genre_usrscore_frame['Genres'][k]):\n",
      "            g_game_names.append(genre_usrscore_frame['Name'][k])\n",
      "            \n",
      "            # write dates in a datetime format\n",
      "            g_game_dates.append(pd.to_datetime(genre_usrscore_frame['Date Released'][k]))\n",
      "            \n",
      "            g_game_rv_nums.append(genre_usrscore_frame['Number of User Reviews'][k])\n",
      "            g_game_id.append(genre_usrscore_frame['Game Id'][k])\n",
      "            g_game_score.append(genre_usrscore_frame['User Review Score'][k])\n",
      "            \n",
      "            \n",
      "    g_game_genres = [string]*(len(g_game_names))\n",
      "\n",
      "    g_game_dict = {'Name': g_game_names,'Game Id': g_game_id ,'Genre': g_game_genres, \n",
      "                   'Date Released': g_game_dates, 'Number of User Reviews': g_game_rv_nums,\n",
      "                   'Avg Review Score':g_game_score}\n",
      "    \n",
      "    g_game_frame = DataFrame(g_game_dict, columns = ['Name', 'Game Id', 'Genre','Date Released', 'Number of User Reviews', 'Avg Review Score'])\n",
      "\n",
      "    return g_game_frame"
     ],
     "language": "python",
     "metadata": {},
     "outputs": [],
     "prompt_number": 73
    },
    {
     "cell_type": "code",
     "collapsed": false,
     "input": [
      "# example data frame\n",
      "genre_frame('Action').head()"
     ],
     "language": "python",
     "metadata": {},
     "outputs": [
      {
       "html": [
        "<div style=\"max-height:1000px;max-width:1500px;overflow:auto;\">\n",
        "<table border=\"1\" class=\"dataframe\">\n",
        "  <thead>\n",
        "    <tr style=\"text-align: right;\">\n",
        "      <th></th>\n",
        "      <th>Name</th>\n",
        "      <th>Game Id</th>\n",
        "      <th>Genre</th>\n",
        "      <th>Date Released</th>\n",
        "      <th>Number of User Reviews</th>\n",
        "      <th>Avg Review Score</th>\n",
        "    </tr>\n",
        "  </thead>\n",
        "  <tbody>\n",
        "    <tr>\n",
        "      <th>0</th>\n",
        "      <td>  .hack//INFECTION - Part 1</td>\n",
        "      <td> 3030-10287</td>\n",
        "      <td> Action</td>\n",
        "      <td>2003-02-11</td>\n",
        "      <td> 3</td>\n",
        "      <td> 2.666667</td>\n",
        "    </tr>\n",
        "    <tr>\n",
        "      <th>1</th>\n",
        "      <td>                007 Legends</td>\n",
        "      <td> 3030-38040</td>\n",
        "      <td> Action</td>\n",
        "      <td>2012-10-16</td>\n",
        "      <td> 1</td>\n",
        "      <td> 2.000000</td>\n",
        "    </tr>\n",
        "    <tr>\n",
        "      <th>2</th>\n",
        "      <td>      007: Agent Under Fire</td>\n",
        "      <td> 3030-16559</td>\n",
        "      <td> Action</td>\n",
        "      <td>2001-11-13</td>\n",
        "      <td> 2</td>\n",
        "      <td> 3.500000</td>\n",
        "    </tr>\n",
        "    <tr>\n",
        "      <th>3</th>\n",
        "      <td> 007: Everything or Nothing</td>\n",
        "      <td>  3030-6530</td>\n",
        "      <td> Action</td>\n",
        "      <td>2003-02-17</td>\n",
        "      <td> 3</td>\n",
        "      <td> 4.000000</td>\n",
        "    </tr>\n",
        "    <tr>\n",
        "      <th>4</th>\n",
        "      <td>               24: The Game</td>\n",
        "      <td> 3030-13700</td>\n",
        "      <td> Action</td>\n",
        "      <td>2006-02-28</td>\n",
        "      <td> 4</td>\n",
        "      <td> 2.750000</td>\n",
        "    </tr>\n",
        "  </tbody>\n",
        "</table>\n",
        "</div>"
       ],
       "metadata": {},
       "output_type": "pyout",
       "prompt_number": 74,
       "text": [
        "                         Name     Game Id   Genre Date Released  \\\n",
        "0   .hack//INFECTION - Part 1  3030-10287  Action    2003-02-11   \n",
        "1                 007 Legends  3030-38040  Action    2012-10-16   \n",
        "2       007: Agent Under Fire  3030-16559  Action    2001-11-13   \n",
        "3  007: Everything or Nothing   3030-6530  Action    2003-02-17   \n",
        "4                24: The Game  3030-13700  Action    2006-02-28   \n",
        "\n",
        "   Number of User Reviews  Avg Review Score  \n",
        "0                       3          2.666667  \n",
        "1                       1          2.000000  \n",
        "2                       2          3.500000  \n",
        "3                       3          4.000000  \n",
        "4                       4          2.750000  "
       ]
      }
     ],
     "prompt_number": 74
    },
    {
     "cell_type": "markdown",
     "metadata": {},
     "source": [
      "And then we create a dictionary of the data frames"
     ]
    },
    {
     "cell_type": "code",
     "collapsed": false,
     "input": [
      "# builds a dictionary of genre frames \n",
      "genre_dict = dict()\n",
      "for name in genres_list:\n",
      "    genre_dict[name] = genre_frame(name)"
     ],
     "language": "python",
     "metadata": {},
     "outputs": [],
     "prompt_number": 78
    },
    {
     "cell_type": "markdown",
     "metadata": {},
     "source": [
      "Having this dictionary will make it easier to extract specific genre information when we create the master genre frame. To create this frame we first recall the definition of the variables which define our \"low hanging fruit\" criteria:\n",
      "\n",
      "- Public Opinion: The public opinion of a genre is the average user review score for games within a particular genre. Given our already calculated, average user score for each game, we calculate the public opinion score by calculating an average of these average game scores weighted by the number of reviews used to compute them: \n",
      "$$ \\text{Public Opinion} = \\frac{\\sum_{k} (\\text{avg user review score for game } k)\\times(\\text{number of reviews for game } k)}{\\sum_{k}\\text{number of reviews for game } k)}$$\n",
      "\n",
      "\n",
      "- Gamer Interest: The gamer interest in a genre is the average number of user reviews for games within the genre: \n",
      "$$ \\text{Gamer Interest} = \\frac{\\sum_{k}(\\text{num of user reviews for game } k)}{\\text{total number of games}}$$\n",
      "\n",
      "\n",
      "- Competition: The competition within a genre is the number of games made in the past four years for the genre: \n",
      "$$ \\text{Competition} = \\text{num of games made within the past four years}$$. \n",
      "\n",
      "\n",
      "The choice of four years is from inspection. We wanted to choose a time scale such that each genre was populated with at least a single game. \n"
     ]
    },
    {
     "cell_type": "markdown",
     "metadata": {},
     "source": [
      "From the definition of the public opinion score, we define a `public_opinion` function which takes the name of a genre and outputs the public opinion of that genre:"
     ]
    },
    {
     "cell_type": "code",
     "collapsed": false,
     "input": [
      "def public_opinion(genre_string):\n",
      "    wght_raw = 0\n",
      "    total_num = genre_dict[genre_string]['Number of User Reviews'].sum()\n",
      "    for k in range(len(genre_frame(genre_string))):\n",
      "        score = genre_dict[genre_string]['Avg Review Score'][k]\n",
      "        weight = genre_dict[genre_string]['Number of User Reviews'][k]\n",
      "        wght_raw = wght_raw + score*weight\n",
      "\n",
      "    wght_mean = wght_raw/(total_num )\n",
      "    return wght_mean"
     ],
     "language": "python",
     "metadata": {},
     "outputs": [],
     "prompt_number": 79
    },
    {
     "cell_type": "markdown",
     "metadata": {},
     "source": [
      "Now we can compute the gamer interest, public opinion, and competition for each genre. "
     ]
    },
    {
     "cell_type": "code",
     "collapsed": false,
     "input": [
      "genres_avg_num_usr_rvw = list() # defines the gamer interest of a genre \n",
      "genres_avg_usr_score = list() # defines the public opinion of a genre\n",
      "genres_num_games = list() # defines the competition within the genre\n",
      "\n",
      "startdate = datetime.datetime(2010,12,1,0,0)\n",
      "\n",
      "for elem in genres_list:\n",
      "    genres_avg_num_usr_rvw.append( genre_dict[elem]['Number of User Reviews'].mean())\n",
      "    genres_avg_usr_score.append(public_opinion(elem))\n",
      "    genres_num_games.append( float(len(genre_dict[elem][genre_dict[elem]['Date Released']> startdate])) )"
     ],
     "language": "python",
     "metadata": {},
     "outputs": [],
     "prompt_number": 80
    },
    {
     "cell_type": "markdown",
     "metadata": {},
     "source": [
      "Assembling this information into a dictionary (which includes the list of genres), and writing the dictionary as a data frame we have"
     ]
    },
    {
     "cell_type": "code",
     "collapsed": false,
     "input": [
      "master_genre_dict = {'Genre':genres_list, 'Gamer Interest': genres_avg_num_usr_rvw, 'Public Opinion': genres_avg_usr_score, 'Competition': genres_num_games }\n",
      "mgf = DataFrame(master_genre_dict, columns = ['Genre','Gamer Interest', 'Public Opinion', 'Competition'])\n",
      "mgf"
     ],
     "language": "python",
     "metadata": {},
     "outputs": [
      {
       "html": [
        "<div style=\"max-height:1000px;max-width:1500px;overflow:auto;\">\n",
        "<table border=\"1\" class=\"dataframe\">\n",
        "  <thead>\n",
        "    <tr style=\"text-align: right;\">\n",
        "      <th></th>\n",
        "      <th>Genre</th>\n",
        "      <th>Gamer Interest</th>\n",
        "      <th>Public Opinion</th>\n",
        "      <th>Competition</th>\n",
        "    </tr>\n",
        "  </thead>\n",
        "  <tbody>\n",
        "    <tr>\n",
        "      <th>0 </th>\n",
        "      <td>                Action</td>\n",
        "      <td>  4.876793</td>\n",
        "      <td> 3.860876</td>\n",
        "      <td> 199</td>\n",
        "    </tr>\n",
        "    <tr>\n",
        "      <th>1 </th>\n",
        "      <td>              Strategy</td>\n",
        "      <td>  2.955614</td>\n",
        "      <td> 3.918286</td>\n",
        "      <td>  87</td>\n",
        "    </tr>\n",
        "    <tr>\n",
        "      <th>2 </th>\n",
        "      <td>                Sports</td>\n",
        "      <td>  3.127451</td>\n",
        "      <td> 3.849530</td>\n",
        "      <td>  31</td>\n",
        "    </tr>\n",
        "    <tr>\n",
        "      <th>3 </th>\n",
        "      <td>             Adventure</td>\n",
        "      <td>  3.583144</td>\n",
        "      <td> 3.907819</td>\n",
        "      <td>  93</td>\n",
        "    </tr>\n",
        "    <tr>\n",
        "      <th>4 </th>\n",
        "      <td>          Role-Playing</td>\n",
        "      <td>  5.218579</td>\n",
        "      <td> 4.010297</td>\n",
        "      <td> 130</td>\n",
        "    </tr>\n",
        "    <tr>\n",
        "      <th>5 </th>\n",
        "      <td>        Driving/Racing</td>\n",
        "      <td>  6.253589</td>\n",
        "      <td> 4.041316</td>\n",
        "      <td>  41</td>\n",
        "    </tr>\n",
        "    <tr>\n",
        "      <th>6 </th>\n",
        "      <td>            Simulation</td>\n",
        "      <td>  3.061017</td>\n",
        "      <td> 3.911406</td>\n",
        "      <td>  65</td>\n",
        "    </tr>\n",
        "    <tr>\n",
        "      <th>7 </th>\n",
        "      <td>           Educational</td>\n",
        "      <td>  1.739130</td>\n",
        "      <td> 3.350000</td>\n",
        "      <td>   6</td>\n",
        "    </tr>\n",
        "    <tr>\n",
        "      <th>8 </th>\n",
        "      <td>              Fighting</td>\n",
        "      <td>  3.869318</td>\n",
        "      <td> 3.892805</td>\n",
        "      <td>  36</td>\n",
        "    </tr>\n",
        "    <tr>\n",
        "      <th>9 </th>\n",
        "      <td>             Wrestling</td>\n",
        "      <td>  3.045455</td>\n",
        "      <td> 3.417910</td>\n",
        "      <td>   5</td>\n",
        "    </tr>\n",
        "    <tr>\n",
        "      <th>10</th>\n",
        "      <td>               Shooter</td>\n",
        "      <td>  9.825215</td>\n",
        "      <td> 3.981919</td>\n",
        "      <td>  93</td>\n",
        "    </tr>\n",
        "    <tr>\n",
        "      <th>11</th>\n",
        "      <td>    Real-Time Strategy</td>\n",
        "      <td>  3.771930</td>\n",
        "      <td> 4.005814</td>\n",
        "      <td>  26</td>\n",
        "    </tr>\n",
        "    <tr>\n",
        "      <th>12</th>\n",
        "      <td>             Card Game</td>\n",
        "      <td>  1.857143</td>\n",
        "      <td> 3.692308</td>\n",
        "      <td>   9</td>\n",
        "    </tr>\n",
        "    <tr>\n",
        "      <th>13</th>\n",
        "      <td>     Trivia/Board Game</td>\n",
        "      <td>  2.320000</td>\n",
        "      <td> 3.655172</td>\n",
        "      <td>   3</td>\n",
        "    </tr>\n",
        "    <tr>\n",
        "      <th>14</th>\n",
        "      <td>           Compilation</td>\n",
        "      <td>  2.341463</td>\n",
        "      <td> 3.854167</td>\n",
        "      <td>  14</td>\n",
        "    </tr>\n",
        "    <tr>\n",
        "      <th>15</th>\n",
        "      <td>                MMORPG</td>\n",
        "      <td>  2.590909</td>\n",
        "      <td> 3.728070</td>\n",
        "      <td>  19</td>\n",
        "    </tr>\n",
        "    <tr>\n",
        "      <th>16</th>\n",
        "      <td>   Minigame Collection</td>\n",
        "      <td>  3.509091</td>\n",
        "      <td> 3.435233</td>\n",
        "      <td>   8</td>\n",
        "    </tr>\n",
        "    <tr>\n",
        "      <th>17</th>\n",
        "      <td>                Puzzle</td>\n",
        "      <td>  4.178914</td>\n",
        "      <td> 4.029052</td>\n",
        "      <td> 105</td>\n",
        "    </tr>\n",
        "    <tr>\n",
        "      <th>18</th>\n",
        "      <td>          Music/Rhythm</td>\n",
        "      <td>  4.871287</td>\n",
        "      <td> 4.036585</td>\n",
        "      <td>  24</td>\n",
        "    </tr>\n",
        "    <tr>\n",
        "      <th>19</th>\n",
        "      <td>                Boxing</td>\n",
        "      <td>  7.900000</td>\n",
        "      <td> 3.797468</td>\n",
        "      <td>   1</td>\n",
        "    </tr>\n",
        "    <tr>\n",
        "      <th>20</th>\n",
        "      <td>              Football</td>\n",
        "      <td>  3.066667</td>\n",
        "      <td> 3.836957</td>\n",
        "      <td>   8</td>\n",
        "    </tr>\n",
        "    <tr>\n",
        "      <th>21</th>\n",
        "      <td>            Basketball</td>\n",
        "      <td>  1.956522</td>\n",
        "      <td> 3.488889</td>\n",
        "      <td>   4</td>\n",
        "    </tr>\n",
        "    <tr>\n",
        "      <th>22</th>\n",
        "      <td>         Skateboarding</td>\n",
        "      <td>  4.105263</td>\n",
        "      <td> 3.935897</td>\n",
        "      <td>   1</td>\n",
        "    </tr>\n",
        "    <tr>\n",
        "      <th>23</th>\n",
        "      <td>      Flight Simulator</td>\n",
        "      <td>  2.894737</td>\n",
        "      <td> 3.545455</td>\n",
        "      <td>   6</td>\n",
        "    </tr>\n",
        "    <tr>\n",
        "      <th>24</th>\n",
        "      <td>                Tennis</td>\n",
        "      <td>  4.833333</td>\n",
        "      <td> 3.689655</td>\n",
        "      <td>   4</td>\n",
        "    </tr>\n",
        "    <tr>\n",
        "      <th>25</th>\n",
        "      <td>             Billiards</td>\n",
        "      <td>  1.000000</td>\n",
        "      <td> 3.333333</td>\n",
        "      <td>   1</td>\n",
        "    </tr>\n",
        "    <tr>\n",
        "      <th>26</th>\n",
        "      <td>               Fishing</td>\n",
        "      <td>  2.500000</td>\n",
        "      <td> 2.600000</td>\n",
        "      <td>   0</td>\n",
        "    </tr>\n",
        "    <tr>\n",
        "      <th>27</th>\n",
        "      <td>                  Golf</td>\n",
        "      <td>  3.437500</td>\n",
        "      <td> 3.709091</td>\n",
        "      <td>   3</td>\n",
        "    </tr>\n",
        "    <tr>\n",
        "      <th>28</th>\n",
        "      <td>               Bowling</td>\n",
        "      <td>  9.000000</td>\n",
        "      <td> 3.518519</td>\n",
        "      <td>   1</td>\n",
        "    </tr>\n",
        "    <tr>\n",
        "      <th>29</th>\n",
        "      <td>               Pinball</td>\n",
        "      <td>  1.500000</td>\n",
        "      <td> 3.952381</td>\n",
        "      <td>   2</td>\n",
        "    </tr>\n",
        "    <tr>\n",
        "      <th>30</th>\n",
        "      <td> Dual-Joystick Shooter</td>\n",
        "      <td>  4.926829</td>\n",
        "      <td> 3.985149</td>\n",
        "      <td>  13</td>\n",
        "    </tr>\n",
        "    <tr>\n",
        "      <th>31</th>\n",
        "      <td>  First-Person Shooter</td>\n",
        "      <td> 11.680556</td>\n",
        "      <td> 3.986920</td>\n",
        "      <td>  77</td>\n",
        "    </tr>\n",
        "    <tr>\n",
        "      <th>32</th>\n",
        "      <td>   Snowboarding/Skiing</td>\n",
        "      <td>  3.000000</td>\n",
        "      <td> 3.750000</td>\n",
        "      <td>   1</td>\n",
        "    </tr>\n",
        "    <tr>\n",
        "      <th>33</th>\n",
        "      <td>              Baseball</td>\n",
        "      <td>  3.300000</td>\n",
        "      <td> 3.833333</td>\n",
        "      <td>   3</td>\n",
        "    </tr>\n",
        "    <tr>\n",
        "      <th>34</th>\n",
        "      <td>     Light-Gun Shooter</td>\n",
        "      <td>  2.857143</td>\n",
        "      <td> 3.275000</td>\n",
        "      <td>   2</td>\n",
        "    </tr>\n",
        "    <tr>\n",
        "      <th>35</th>\n",
        "      <td>        Text Adventure</td>\n",
        "      <td>  1.000000</td>\n",
        "      <td> 3.833333</td>\n",
        "      <td>   3</td>\n",
        "    </tr>\n",
        "    <tr>\n",
        "      <th>36</th>\n",
        "      <td>               Brawler</td>\n",
        "      <td>  6.058333</td>\n",
        "      <td> 3.801926</td>\n",
        "      <td>  26</td>\n",
        "    </tr>\n",
        "    <tr>\n",
        "      <th>37</th>\n",
        "      <td>      Vehicular Combat</td>\n",
        "      <td>  7.479452</td>\n",
        "      <td> 4.003663</td>\n",
        "      <td>  13</td>\n",
        "    </tr>\n",
        "    <tr>\n",
        "      <th>38</th>\n",
        "      <td>                Hockey</td>\n",
        "      <td>  2.368421</td>\n",
        "      <td> 4.222222</td>\n",
        "      <td>   3</td>\n",
        "    </tr>\n",
        "    <tr>\n",
        "      <th>39</th>\n",
        "      <td>                Soccer</td>\n",
        "      <td>  2.608696</td>\n",
        "      <td> 4.350000</td>\n",
        "      <td>   4</td>\n",
        "    </tr>\n",
        "    <tr>\n",
        "      <th>40</th>\n",
        "      <td>            Platformer</td>\n",
        "      <td>  5.176744</td>\n",
        "      <td> 4.110063</td>\n",
        "      <td> 134</td>\n",
        "    </tr>\n",
        "    <tr>\n",
        "      <th>41</th>\n",
        "      <td>         Track &amp; Field</td>\n",
        "      <td>  1.800000</td>\n",
        "      <td> 2.666667</td>\n",
        "      <td>   2</td>\n",
        "    </tr>\n",
        "    <tr>\n",
        "      <th>42</th>\n",
        "      <td>      Action-Adventure</td>\n",
        "      <td>  9.750000</td>\n",
        "      <td> 4.061984</td>\n",
        "      <td> 142</td>\n",
        "    </tr>\n",
        "    <tr>\n",
        "      <th>43</th>\n",
        "      <td>               Fitness</td>\n",
        "      <td>  1.400000</td>\n",
        "      <td> 4.142857</td>\n",
        "      <td>   2</td>\n",
        "    </tr>\n",
        "    <tr>\n",
        "      <th>44</th>\n",
        "      <td>        Block-Breaking</td>\n",
        "      <td>  4.272727</td>\n",
        "      <td> 4.042553</td>\n",
        "      <td>   4</td>\n",
        "    </tr>\n",
        "    <tr>\n",
        "      <th>45</th>\n",
        "      <td>               Cricket</td>\n",
        "      <td>  1.000000</td>\n",
        "      <td> 3.500000</td>\n",
        "      <td>   1</td>\n",
        "    </tr>\n",
        "    <tr>\n",
        "      <th>46</th>\n",
        "      <td>               Surfing</td>\n",
        "      <td>  1.333333</td>\n",
        "      <td> 2.500000</td>\n",
        "      <td>   0</td>\n",
        "    </tr>\n",
        "    <tr>\n",
        "      <th>47</th>\n",
        "      <td>          Shoot 'Em Up</td>\n",
        "      <td>  2.400000</td>\n",
        "      <td> 3.970238</td>\n",
        "      <td>  15</td>\n",
        "    </tr>\n",
        "    <tr>\n",
        "      <th>48</th>\n",
        "      <td>              Gambling</td>\n",
        "      <td>  3.000000</td>\n",
        "      <td> 2.833333</td>\n",
        "      <td>   1</td>\n",
        "    </tr>\n",
        "    <tr>\n",
        "      <th>49</th>\n",
        "      <td>                  MOBA</td>\n",
        "      <td>  4.125000</td>\n",
        "      <td> 4.151515</td>\n",
        "      <td>   5</td>\n",
        "    </tr>\n",
        "  </tbody>\n",
        "</table>\n",
        "</div>"
       ],
       "metadata": {},
       "output_type": "pyout",
       "prompt_number": 81,
       "text": [
        "                    Genre  Gamer Interest  Public Opinion  Competition\n",
        "0                  Action        4.876793        3.860876          199\n",
        "1                Strategy        2.955614        3.918286           87\n",
        "2                  Sports        3.127451        3.849530           31\n",
        "3               Adventure        3.583144        3.907819           93\n",
        "4            Role-Playing        5.218579        4.010297          130\n",
        "5          Driving/Racing        6.253589        4.041316           41\n",
        "6              Simulation        3.061017        3.911406           65\n",
        "7             Educational        1.739130        3.350000            6\n",
        "8                Fighting        3.869318        3.892805           36\n",
        "9               Wrestling        3.045455        3.417910            5\n",
        "10                Shooter        9.825215        3.981919           93\n",
        "11     Real-Time Strategy        3.771930        4.005814           26\n",
        "12              Card Game        1.857143        3.692308            9\n",
        "13      Trivia/Board Game        2.320000        3.655172            3\n",
        "14            Compilation        2.341463        3.854167           14\n",
        "15                 MMORPG        2.590909        3.728070           19\n",
        "16    Minigame Collection        3.509091        3.435233            8\n",
        "17                 Puzzle        4.178914        4.029052          105\n",
        "18           Music/Rhythm        4.871287        4.036585           24\n",
        "19                 Boxing        7.900000        3.797468            1\n",
        "20               Football        3.066667        3.836957            8\n",
        "21             Basketball        1.956522        3.488889            4\n",
        "22          Skateboarding        4.105263        3.935897            1\n",
        "23       Flight Simulator        2.894737        3.545455            6\n",
        "24                 Tennis        4.833333        3.689655            4\n",
        "25              Billiards        1.000000        3.333333            1\n",
        "26                Fishing        2.500000        2.600000            0\n",
        "27                   Golf        3.437500        3.709091            3\n",
        "28                Bowling        9.000000        3.518519            1\n",
        "29                Pinball        1.500000        3.952381            2\n",
        "30  Dual-Joystick Shooter        4.926829        3.985149           13\n",
        "31   First-Person Shooter       11.680556        3.986920           77\n",
        "32    Snowboarding/Skiing        3.000000        3.750000            1\n",
        "33               Baseball        3.300000        3.833333            3\n",
        "34      Light-Gun Shooter        2.857143        3.275000            2\n",
        "35         Text Adventure        1.000000        3.833333            3\n",
        "36                Brawler        6.058333        3.801926           26\n",
        "37       Vehicular Combat        7.479452        4.003663           13\n",
        "38                 Hockey        2.368421        4.222222            3\n",
        "39                 Soccer        2.608696        4.350000            4\n",
        "40             Platformer        5.176744        4.110063          134\n",
        "41          Track & Field        1.800000        2.666667            2\n",
        "42       Action-Adventure        9.750000        4.061984          142\n",
        "43                Fitness        1.400000        4.142857            2\n",
        "44         Block-Breaking        4.272727        4.042553            4\n",
        "45                Cricket        1.000000        3.500000            1\n",
        "46                Surfing        1.333333        2.500000            0\n",
        "47           Shoot 'Em Up        2.400000        3.970238           15\n",
        "48               Gambling        3.000000        2.833333            1\n",
        "49                   MOBA        4.125000        4.151515            5"
       ]
      }
     ],
     "prompt_number": 81
    },
    {
     "cell_type": "markdown",
     "metadata": {},
     "source": [
      "It is now simple to find which genres can be considered the \"low-hanging fruit\" of game development. We recall that a genre is considered \"low-hanging fruit\" if it has a lower than average public opinion, a lower than average competition, and a higher than average gamer interest. Thus, calculating the average public opinion, competition, and gamer interest"
     ]
    },
    {
     "cell_type": "code",
     "collapsed": false,
     "input": [
      "# mean quantities\n",
      "mean_gi = mgf['Gamer Interest'].mean()\n",
      "mean_po = mgf['Public Opinion'].mean()\n",
      "mean_comp = mgf['Competition'].mean()\n",
      "\n",
      "# printing mean quantities\n",
      "print 'Mean gamer interest:', mean_gi\n",
      "print 'Mean public opinion:',mean_po\n",
      "print 'Mean competition:',mean_comp"
     ],
     "language": "python",
     "metadata": {},
     "outputs": [
      {
       "output_type": "stream",
       "stream": "stdout",
       "text": [
        "Mean gamer interest: 3.8945459469\n",
        "Mean public opinion: 3.74013935171\n",
        "Mean competition: 29.52\n"
       ]
      }
     ],
     "prompt_number": 82
    },
    {
     "cell_type": "markdown",
     "metadata": {},
     "source": [
      "And finding the genres which satisfy the criteria listed above, we have "
     ]
    },
    {
     "cell_type": "code",
     "collapsed": false,
     "input": [
      "mgf[mgf['Public Opinion']<mean_po][mgf['Competition']<mean_comp][mgf['Gamer Interest']>mean_gi]"
     ],
     "language": "python",
     "metadata": {},
     "outputs": [
      {
       "html": [
        "<div style=\"max-height:1000px;max-width:1500px;overflow:auto;\">\n",
        "<table border=\"1\" class=\"dataframe\">\n",
        "  <thead>\n",
        "    <tr style=\"text-align: right;\">\n",
        "      <th></th>\n",
        "      <th>Genre</th>\n",
        "      <th>Gamer Interest</th>\n",
        "      <th>Public Opinion</th>\n",
        "      <th>Competition</th>\n",
        "    </tr>\n",
        "  </thead>\n",
        "  <tbody>\n",
        "    <tr>\n",
        "      <th>24</th>\n",
        "      <td>  Tennis</td>\n",
        "      <td> 4.833333</td>\n",
        "      <td> 3.689655</td>\n",
        "      <td> 4</td>\n",
        "    </tr>\n",
        "    <tr>\n",
        "      <th>28</th>\n",
        "      <td> Bowling</td>\n",
        "      <td> 9.000000</td>\n",
        "      <td> 3.518519</td>\n",
        "      <td> 1</td>\n",
        "    </tr>\n",
        "  </tbody>\n",
        "</table>\n",
        "</div>"
       ],
       "metadata": {},
       "output_type": "pyout",
       "prompt_number": 83,
       "text": [
        "      Genre  Gamer Interest  Public Opinion  Competition\n",
        "24   Tennis        4.833333        3.689655            4\n",
        "28  Bowling        9.000000        3.518519            1"
       ]
      }
     ],
     "prompt_number": 83
    },
    {
     "cell_type": "markdown",
     "metadata": {},
     "source": [
      "Thus, we see that the genres Tennis and Bowling comprise the lowest hanging fruit for game development. This means, theoretically, it would be easier for game developers to distinguish themselves within these two genres than within any other. "
     ]
    },
    {
     "cell_type": "markdown",
     "metadata": {},
     "source": [
      "We can see how these genres relate to the other genres by plotting the scatter plot distributions of these qualities. "
     ]
    },
    {
     "cell_type": "markdown",
     "metadata": {},
     "source": [
      "First, we have the Gamer Interest versus the Public Opinion Score, where we mark the mean values with straight lines :"
     ]
    },
    {
     "cell_type": "code",
     "collapsed": false,
     "input": [
      "plt.figure(figsize = (8,6))\n",
      "mgf.plot(x = 'Gamer Interest', y = 'Public Opinion', style = 'ko')\n",
      "\n",
      "plt.annotate('Tennis', \n",
      "    xy = (mgf['Gamer Interest'][mgf['Genre'] == 'Tennis'],  mgf['Public Opinion'][mgf['Genre'] == 'Tennis']),\n",
      "    arrowprops = dict(arrowstyle = '->',  facecolor = 'black' , connectionstyle = 'arc3,rad=0'), \n",
      "    xytext = (30, -30), textcoords = 'offset points', ha = 'right', va = 'bottom',\n",
      "    bbox = dict(boxstyle = 'round,pad=0.5', fc = 'yellow', alpha = 0.5))\n",
      "\n",
      "plt.annotate('Bowling', \n",
      "    xy = (mgf['Gamer Interest'][mgf['Genre'] == 'Bowling'],  mgf['Public Opinion'][mgf['Genre'] == 'Bowling']),\n",
      "    arrowprops = dict(arrowstyle = '->',  facecolor = 'black' , connectionstyle = 'arc3,rad=0'), \n",
      "    xytext = (30, -30), textcoords = 'offset points', ha = 'right', va = 'bottom',\n",
      "    bbox = dict(boxstyle = 'round,pad=0.5', fc = 'yellow', alpha = 0.5))\n",
      "\n",
      "plt.ylim([0,5])\n",
      "plt.ylabel('Public Opinion Score', color = 'r')\n",
      "plt.xlabel('Gamer Interest', color = 'g')\n",
      "\n",
      "\n",
      "plt.plot(range(0,13), [mean_po]*13, 'r-')\n",
      "plt.plot([mean_gi]*6, range(0,6) , 'g-')\n",
      "\n",
      "\n",
      "plt.title('Scatter plot of Public Opinion vs. Gamer Interest')"
     ],
     "language": "python",
     "metadata": {},
     "outputs": [
      {
       "metadata": {},
       "output_type": "pyout",
       "prompt_number": 85,
       "text": [
        "<matplotlib.text.Text at 0x1c66b208>"
       ]
      },
      {
       "metadata": {},
       "output_type": "display_data",
       "png": "[encoded data removed]",
       "text": [
        "<matplotlib.figure.Figure at 0x1acf7f60>"
       ]
      }
     ],
     "prompt_number": 85
    },
    {
     "cell_type": "markdown",
     "metadata": {},
     "source": [
      "Then, we have the Gamer Interest versus the Competition Score: "
     ]
    },
    {
     "cell_type": "code",
     "collapsed": false,
     "input": [
      "plt.figure(figsize = (8,6))\n",
      "mgf.plot(x = 'Competition', y = 'Gamer Interest', style = 'ko')\n",
      "\n",
      "plt.annotate('Tennis', \n",
      "    xy = (mgf['Competition'][mgf['Genre'] == 'Tennis'],  mgf['Gamer Interest'][mgf['Genre'] == 'Tennis']),\n",
      "    arrowprops = dict(arrowstyle = '->',  facecolor = 'black' , connectionstyle = 'arc3,rad=0'), \n",
      "    xytext = (30, 30), textcoords = 'offset points', ha = 'right', va = 'bottom',\n",
      "    bbox = dict(boxstyle = 'round,pad=0.5', fc = 'yellow', alpha = 0.5))\n",
      "\n",
      "plt.annotate('Bowling', \n",
      "    xy = (mgf['Competition'][mgf['Genre'] == 'Bowling'],  mgf['Gamer Interest'][mgf['Genre'] == 'Bowling']),\n",
      "    arrowprops = dict(arrowstyle = '->',  facecolor = 'black' , connectionstyle = 'arc3,rad=0'), \n",
      "    xytext = (45, 30), textcoords = 'offset points', ha = 'right', va = 'bottom',\n",
      "    bbox = dict(boxstyle = 'round,pad=0.5', fc = 'yellow', alpha = 0.5))\n",
      "\n",
      "plt.ylim([0,12])\n",
      "plt.ylabel('Gamer Interest', color = 'g')\n",
      "plt.xlabel('Competition', color = 'b')\n",
      "\n",
      "plt.plot([mean_comp]*13, range(0,13), 'b-')\n",
      "plt.plot(range(0,201), [mean_gi]*201, 'g-')\n",
      "\n",
      "\n",
      "plt.title('Scatter plot of Gamer Interest vs. Competition')"
     ],
     "language": "python",
     "metadata": {},
     "outputs": [
      {
       "metadata": {},
       "output_type": "pyout",
       "prompt_number": 86,
       "text": [
        "<matplotlib.text.Text at 0x209eb240>"
       ]
      },
      {
       "metadata": {},
       "output_type": "display_data",
       "png": "[encoded data removed]",
       "text": [
        "<matplotlib.figure.Figure at 0x1acf7c18>"
       ]
      }
     ],
     "prompt_number": 86
    },
    {
     "cell_type": "markdown",
     "metadata": {},
     "source": [
      "Finally, we have the Competition versus the Public Opinion score:"
     ]
    },
    {
     "cell_type": "code",
     "collapsed": false,
     "input": [
      "plt.figure(figsize = (8,6))\n",
      "mgf.plot(x= 'Public Opinion', y = 'Competition',  style = 'ko')\n",
      "\n",
      "plt.annotate('Tennis', \n",
      "    xy = (mgf['Public Opinion'][mgf['Genre'] == 'Tennis'],  mgf['Competition'][mgf['Genre'] == 'Tennis']),\n",
      "    arrowprops = dict(arrowstyle = '->',  facecolor = 'black' , connectionstyle = 'arc3,rad=0'), \n",
      "    xytext = (-10, 55), textcoords = 'offset points', ha = 'right', va = 'bottom',\n",
      "    bbox = dict(boxstyle = 'round,pad=0.5', fc = 'yellow', alpha = 0.5))\n",
      "\n",
      "plt.annotate('Bowling', \n",
      "    xy = (mgf['Public Opinion'][mgf['Genre'] == 'Bowling'],  mgf['Competition'][mgf['Genre'] == 'Bowling']),\n",
      "    arrowprops = dict(arrowstyle = '->',  facecolor = 'black' , connectionstyle = 'arc3,rad=0'), \n",
      "    xytext = (-45, 55), textcoords = 'offset points', ha = 'right', va = 'bottom',\n",
      "    bbox = dict(boxstyle = 'round,pad=0.5', fc = 'yellow', alpha = 0.5))\n",
      "\n",
      "plt.xlim([0,5])\n",
      "plt.ylim([-1,200])\n",
      "plt.ylabel('Competition', color = 'b')\n",
      "plt.xlabel('Public Opinion', color = 'r')\n",
      "\n",
      "plt.plot(range(0,6), [mean_comp]*6, 'b-')\n",
      "plt.plot( [mean_po]*201, range(0,201), 'r-')\n",
      "\n",
      "plt.title('Scatter plot of Competition vs. Public Opinion Score')"
     ],
     "language": "python",
     "metadata": {},
     "outputs": [
      {
       "metadata": {},
       "output_type": "pyout",
       "prompt_number": 87,
       "text": [
        "<matplotlib.text.Text at 0x22474b00>"
       ]
      },
      {
       "metadata": {},
       "output_type": "display_data",
       "png": "[encoded data removed]",
       "text": [
        "<matplotlib.figure.Figure at 0x272d52e8>"
       ]
      }
     ],
     "prompt_number": 87
    },
    {
     "cell_type": "markdown",
     "metadata": {},
     "source": [
      "We can summarize these plots with a scatter plot matrix, where the Tennis and Bowling genres are labeled with a 'T' and a 'B' respectively. "
     ]
    },
    {
     "cell_type": "code",
     "collapsed": false,
     "input": [
      "execfile(\"gb_python/genre_scatter_matrix.py\")"
     ],
     "language": "python",
     "metadata": {},
     "outputs": [
      {
       "metadata": {},
       "output_type": "display_data",
       "text": [
        "<matplotlib.figure.Figure at 0x163f0710>"
       ]
      },
      {
       "metadata": {},
       "output_type": "display_data",
       "png": "[encoded data removed]",
       "text": [
        "<matplotlib.figure.Figure at 0x15da3550>"
       ]
      }
     ],
     "prompt_number": 90
    },
    {
     "cell_type": "markdown",
     "metadata": {},
     "source": [
      "** Comments/Discussion **\n",
      "\n",
      "From a simple analysis of game genre statistics, we were able to determine which genres existed as the most fertile ground for game development, but in a few ways our analysis was incomplete. This was in part due to the constraints posed by the source of our data. Giant Bomb's genre listing seems to be both too specific and somewhat incomplete. For example, our genre criterion of \"low competition\" was met by both the Tennis and Bowling genres, but these two genres may only have low competition because ordinarily one would consider them as part of the same genre (\"Sports\"). Also, the list of genres doesn't contain a \"Horror\" category, a genre which is a staple of game development. \n",
      "\n",
      "A more complete analysis would also allow for the possibility of genre mixes. For example, many of the games in our original `game_and_genre_frame` included multiple genres. "
     ]
    },
    {
     "cell_type": "code",
     "collapsed": false,
     "input": [
      "game_and_genre_frame.head()"
     ],
     "language": "python",
     "metadata": {},
     "outputs": [
      {
       "html": [
        "<div style=\"max-height:1000px;max-width:1500px;overflow:auto;\">\n",
        "<table border=\"1\" class=\"dataframe\">\n",
        "  <thead>\n",
        "    <tr style=\"text-align: right;\">\n",
        "      <th></th>\n",
        "      <th>Name</th>\n",
        "      <th>Genres</th>\n",
        "      <th>Date Released</th>\n",
        "      <th>Game Id</th>\n",
        "    </tr>\n",
        "  </thead>\n",
        "  <tbody>\n",
        "    <tr>\n",
        "      <th>0</th>\n",
        "      <td>                     Pac-Man</td>\n",
        "      <td>           [u'Strategy', u'Puzzle']</td>\n",
        "      <td> 1980-05-22 00:00:00</td>\n",
        "      <td>  3030-7624</td>\n",
        "    </tr>\n",
        "    <tr>\n",
        "      <th>1</th>\n",
        "      <td>             Icewind Dale II</td>\n",
        "      <td>                  [u'Role-Playing']</td>\n",
        "      <td> 2002-08-28 00:00:00</td>\n",
        "      <td>  3030-8890</td>\n",
        "    </tr>\n",
        "    <tr>\n",
        "      <th>2</th>\n",
        "      <td>            Gauntlet Legends</td>\n",
        "      <td>      [u'Role-Playing', u'Brawler']</td>\n",
        "      <td> 1998-10-31 00:00:00</td>\n",
        "      <td> 3030-12245</td>\n",
        "    </tr>\n",
        "    <tr>\n",
        "      <th>3</th>\n",
        "      <td>           MVP Baseball 2005</td>\n",
        "      <td>           [u'Sports', u'Baseball']</td>\n",
        "      <td> 2005-02-22 00:00:00</td>\n",
        "      <td>  3030-9978</td>\n",
        "    </tr>\n",
        "    <tr>\n",
        "      <th>4</th>\n",
        "      <td> Need for Speed: Most Wanted</td>\n",
        "      <td> [u'Driving/Racing', u'Simulation']</td>\n",
        "      <td> 2005-11-15 00:00:00</td>\n",
        "      <td> 3030-12976</td>\n",
        "    </tr>\n",
        "  </tbody>\n",
        "</table>\n",
        "</div>"
       ],
       "metadata": {},
       "output_type": "pyout",
       "prompt_number": 91,
       "text": [
        "                          Name                              Genres  \\\n",
        "0                      Pac-Man            [u'Strategy', u'Puzzle']   \n",
        "1              Icewind Dale II                   [u'Role-Playing']   \n",
        "2             Gauntlet Legends       [u'Role-Playing', u'Brawler']   \n",
        "3            MVP Baseball 2005            [u'Sports', u'Baseball']   \n",
        "4  Need for Speed: Most Wanted  [u'Driving/Racing', u'Simulation']   \n",
        "\n",
        "         Date Released     Game Id  \n",
        "0  1980-05-22 00:00:00   3030-7624  \n",
        "1  2002-08-28 00:00:00   3030-8890  \n",
        "2  1998-10-31 00:00:00  3030-12245  \n",
        "3  2005-02-22 00:00:00   3030-9978  \n",
        "4  2005-11-15 00:00:00  3030-12976  "
       ]
      }
     ],
     "prompt_number": 91
    },
    {
     "cell_type": "markdown",
     "metadata": {},
     "source": [
      "Consequently, it would be interesting to repeate this analysis looking at combinations of genres. "
     ]
    }
   ],
   "metadata": {}
  }
 ]
}