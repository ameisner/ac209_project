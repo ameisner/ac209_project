{
 "metadata": {
  "name": "",
  "signature": "sha256:3b37298b01bdf173e020908739ed2aa18c9fe2913f8216596cc4648cd52d8348"
 },
 "nbformat": 3,
 "nbformat_minor": 0,
 "worksheets": [
  {
   "cells": [
    {
     "cell_type": "code",
     "collapsed": false,
     "input": [
      "# special IPython command to prepare the notebook for matplotlib\n",
      "%matplotlib inline \n",
      "\n",
      "import json\n",
      "\n",
      "from pandas import DataFrame\n",
      "\n",
      "import scipy.stats\n",
      "from scipy.stats import norm\n",
      "import matplotlib.mlab as mlab\n",
      "import csv\n",
      "\n",
      "\n",
      "import requests \n",
      "import numpy as np\n",
      "import pandas as pd # pandas\n",
      "import matplotlib.pyplot as plt # module for plotting "
     ],
     "language": "python",
     "metadata": {},
     "outputs": [],
     "prompt_number": 4
    },
    {
     "cell_type": "code",
     "collapsed": false,
     "input": [
      "#nice defaults for matplotlib\n",
      "from matplotlib import rcParams\n",
      "\n",
      "dark2_colors = [(0.10588235294117647, 0.6196078431372549, 0.4666666666666667),\n",
      "                (0.8509803921568627, 0.37254901960784315, 0.00784313725490196),\n",
      "                (0.4588235294117647, 0.4392156862745098, 0.7019607843137254),\n",
      "                (0.9058823529411765, 0.1607843137254902, 0.5411764705882353),\n",
      "                (0.4, 0.6509803921568628, 0.11764705882352941),\n",
      "                (0.9019607843137255, 0.6705882352941176, 0.00784313725490196),\n",
      "                (0.6509803921568628, 0.4627450980392157, 0.11372549019607843),\n",
      "                (0.4, 0.4, 0.4)]\n",
      "\n",
      "rcParams['figure.figsize'] = (10, 6)\n",
      "rcParams['figure.dpi'] = 150\n",
      "rcParams['axes.color_cycle'] = dark2_colors\n",
      "rcParams['lines.linewidth'] = 2\n",
      "rcParams['axes.grid'] = True\n",
      "rcParams['axes.facecolor'] = '#eeeeee'\n",
      "rcParams['font.size'] = 14\n",
      "rcParams['patch.edgecolor'] = 'none'"
     ],
     "language": "python",
     "metadata": {},
     "outputs": [],
     "prompt_number": 2
    },
    {
     "cell_type": "markdown",
     "metadata": {},
     "source": [
      "# Video Game Reviews: Text Classification and Predicted Ratings #"
     ]
    },
    {
     "cell_type": "markdown",
     "metadata": {},
     "source": []
    },
    {
     "cell_type": "markdown",
     "metadata": {},
     "source": [
      "The goal of our analysis was to determine which words in the review summaries for video games are most closely associated with a positive video game score. For the baseline classification model, we applied a Naive Bayes classifier(http://www.statsoft.com/textbook/naive-bayes-classifier) to determine the likelihood that the review summary for a game was associated with a \"good\" (higher than the mean) or \"bad\" (lower than the mean) review score. As supporting analysis, we investigated some meta-data questions to see what other variables might affect the distribution of video game scores. \n",
      "\n",
      "As a wider application of this analysis we hope to apply textual classification on less formal video game discussions and thereby be able to draw from a wider assortment of sites (not just review sites) to determine general online sentiment associated with a video game.  \n",
      "\n"
     ]
    },
    {
     "cell_type": "markdown",
     "metadata": {},
     "source": [
      "## I. Data Collection and Exploratory Analysis"
     ]
    },
    {
     "cell_type": "markdown",
     "metadata": {},
     "source": [
      "We used video game review data from two primary sources: Game Spot (gamespot.com) and Giant Bomb (giantbomb.com). Both websites are well maintained gaming sites with many users and many reviews. For our analysis the two fundamental disparities between the two sites were Game Spot\u2019s comparatively larger collection of staff reviews (Game Spot has roughly 13,000 staff reviews while Giant Bomb has only 700), and the existence of a Giant Bomb API for application development and data analysis. Game Spot\u2019s high number of user reviews makes its data set amenable to the score-text classification analysis developed in another part of the project, but because the site did not have an API, the relevant data had to be carefully scraped from each review webpage. Alternatively, the Giant Bomb API allows us to flexibly and easily answer many quantitative questions on gaming statistics, but the small staff review set means that any score-text classification would have a larger source of error. Another quantitative difference between the two sites, relevant for a later analysis of our scoring data, is that the video game scores provided by Giant Bomb ranged from 1 to 5, while the scores provided by Game Spot ranged from 1 to 10. \n",
      "\n",
      "We capitalized on the differences between the two data sets by using each set to answer the questions it most conveniently could. From Game Spot, we scraped all 13,000+ staff game reviews for four elements: the name of the game; the review score of the game; the date of the review; the single sentence summary of the review. These were the elements needed in our basic text classification analysis. (The method of data scraping from Game Spot is described in another notebook; possibly)\n",
      "\n",
      "The Giant Bomb data was then slated to be used as a sandbox to answer some more general questions about the meta-data which could effect staff reviews on gaming sites. The Giant Bomb data was also used to consider the possibility of extending the score-text classification to analyze reviews written by general internet users rather than formal gaming site staff. The hope is that by first calibrating the text-classifier with formal staff reviews, one could then inspect any online text referring to a game and come up with a binary evaluation whether that text is referring to the game favorably or not favorably. \n"
     ]
    },
    {
     "cell_type": "markdown",
     "metadata": {},
     "source": [
      "### I.A. Giant Bomb Data Collection"
     ]
    },
    {
     "cell_type": "markdown",
     "metadata": {},
     "source": [
      "From Giant Bomb we collected statistics on video game reviews written by the Giant Bomb staff and written by the users who sign up (for free) on the site. The method of data collection from Giant Bomb went as follows. "
     ]
    },
    {
     "cell_type": "markdown",
     "metadata": {},
     "source": [
      "We first signed up for user access and requested an API key through the link http://www.giantbomb.com/api/ . After acquiring a key, the full Giant Bomb API was available to us at a rate limit of 400 requests every 15 minutes. "
     ]
    },
    {
     "cell_type": "code",
     "collapsed": false,
     "input": [
      "# definition of API Key\n",
      "key = '4e5fb6427e24a4c3b594157915684189d9c72297'"
     ],
     "language": "python",
     "metadata": {},
     "outputs": [],
     "prompt_number": 3
    },
    {
     "cell_type": "markdown",
     "metadata": {},
     "source": [
      "The Giant Bomb API is conveniently organized to be accessed through certain keywords. The first Giant Bomb data set we built was for the staff review data, and so we accessed http://www.giantbomb.com/api/reviews . The elements we extracted were the name of the game, the score given to the game, the staff person who reviewed the game, and the date of the review. "
     ]
    },
    {
     "cell_type": "code",
     "collapsed": false,
     "input": [
      "## creating a dictionary of game names, score, reviewer, and review date\n",
      "\n",
      "# This code collects giant bomb staff review data. We collect \n",
      "# - the name of the game\n",
      "# - the name of the reviewer\n",
      "# - the date of the review\n",
      "# - the review score\n",
      "#\n",
      "# Date and time of collection: 12/4/2014 7:28 PM\n",
      "\n",
      "staff_g_names = list()\n",
      "staff_g_score = list()\n",
      "staff_g_reviewer = list()\n",
      "staff_g_rv_date = list()\n",
      "\n",
      "for offset in np.array(range(7))*100: # cycle through possible offests\n",
      "\n",
      "    url_reviews = 'http://www.giantbomb.com/api/reviews/?api_key=' + key + '&format=json&offset=' + str(offset)\n",
      "    \n",
      "    resp_review = requests.get(url_reviews)\n",
      "    \n",
      "    review_info = json.loads(resp_review.text)\n",
      "\n",
      "    game_results = review_info['results']\n",
      "\n",
      "    for elem in game_results:\n",
      "        game = elem['game']\n",
      "        if type(game) == dict: # to ensure that we only consider non-empty entries\n",
      "            staff_g_score.append(elem['score'])\n",
      "            staff_g_names.append(game['name'])\n",
      "            staff_g_reviewer.append(elem['reviewer'])\n",
      "            staff_g_rv_date.append(elem['publish_date'])\n",
      "            "
     ],
     "language": "python",
     "metadata": {},
     "outputs": []
    },
    {
     "cell_type": "markdown",
     "metadata": {},
     "source": [
      "Because the video game name data included some elements which we could not directly write to strings (for example, some names are written with accents and other non-ascii typographical characters), we had to define an encoding function to convert the names into writable elements. "
     ]
    },
    {
     "cell_type": "code",
     "collapsed": false,
     "input": [
      "# allows us to encode unicode objects so they're writable as strings\n",
      "# necessary so we can write to file\n",
      "# uses http://stackoverflow.com/questions/6048085/python-write-unicode-text-to-a-text-file\n",
      "\n",
      "def encoding(list_):\n",
      "    new_ls = list()\n",
      "    for k in range(len(list_)):\n",
      "        string = list_[k].encode('utf8')\n",
      "        new_ls.append(string)\n",
      "    return new_ls"
     ],
     "language": "python",
     "metadata": {},
     "outputs": [],
     "prompt_number": 5
    },
    {
     "cell_type": "markdown",
     "metadata": {},
     "source": [
      "We then defined a dictionary of all our relevant data."
     ]
    },
    {
     "cell_type": "code",
     "collapsed": false,
     "input": [
      "# defines data dictionary \n",
      "staff_rv_dict = {'Name': encoding(staff_g_names), 'Giant Bomb Score': staff_g_score, 'Reviewer': staff_g_reviewer, 'Date of Review': staff_g_rv_date }"
     ],
     "language": "python",
     "metadata": {},
     "outputs": []
    },
    {
     "cell_type": "markdown",
     "metadata": {},
     "source": [
      "And then we wrote the dictionary to a file. The code below is commented out in order to prevent an accidental erasure of already accumulated data. "
     ]
    },
    {
     "cell_type": "code",
     "collapsed": false,
     "input": [
      "# This code writes the staff review data to a stable file. \n",
      "# Date and time of writing: 12/4/2014 7:30 PM\n",
      "\n",
      "## CODE IS COMMENTED SO FIlE IS NOT OVERWRITTEN\n",
      "\n",
      "## DO NOT UNCOMMENT AND WRITE AGAIN UNLESS YOU\n",
      "## 1) change the name of the file you're writing to\n",
      "## 2) no longer need the data you already wrote\n",
      "\n",
      "#with open('data/gb_staff_review_data_12_04_2014.csv', 'wb') as f:  # Just use 'w' mode in 3.x\n",
      "#    w = csv.DictWriter(f, fieldnames = staff_rv_dict.keys())\n",
      "#    w.writeheader()\n",
      "\n",
      "#    for k in range(len(staff_g_names)):\n",
      "#        w.writerow({'Name': encoding(staff_g_names)[k], 'Giant Bomb Score': staff_g_score[k], 'Reviewer': staff_g_reviewer[k], 'Date of Review':staff_g_rv_date[k]})"
     ],
     "language": "python",
     "metadata": {},
     "outputs": []
    },
    {
     "cell_type": "markdown",
     "metadata": {},
     "source": [
      "-------------------\n"
     ]
    },
    {
     "cell_type": "markdown",
     "metadata": {},
     "source": [
      "The second Giant Bomb data set we built was for user review data, and so we accessed http://www.giantbomb.com/api/user_reviews . Similar to the staff review data we extracted the name of the game, the score given to the game by the user, the user who reviewed the game, and the date of the review. Also, because the user review data set was much larger than the staff review data set (24,000 vs. 600) and contained games with multiple reviews, we also extracted the game ID number for each game to provide an additional measure of identification. "
     ]
    },
    {
     "cell_type": "code",
     "collapsed": false,
     "input": [
      "# This code collects user review data. We collect \n",
      "# - the name of the game\n",
      "# - the name of the reviewer\n",
      "# - the date of the review\n",
      "# - the review score\n",
      "# - the game id\n",
      "# Date and time of collection: 12/4/2014 7:27 PM\n",
      "\n",
      "usr_g_names = list()\n",
      "usr_g_score = list()\n",
      "usr_g_reviewer = list()\n",
      "usr_g_rv_date = list()\n",
      "g_id = list()\n",
      "\n",
      "for offset in np.array(range(264))*100:\n",
      "    url_usrreviews = 'http://www.giantbomb.com/api/user_reviews/?api_key=' + key + '&format=json&offset=' + str(offset)\n",
      "\n",
      "    # response format for API\n",
      "    resp_usrreview = requests.get(url_usrreviews)\n",
      "\n",
      "    # loads text of response into json format\n",
      "    usrreview_info = json.loads(resp_usrreview.text)\n",
      "\n",
      "    # redefine list\n",
      "    usr_rvs = usrreview_info['results']\n",
      "\n",
      "    for k in range(len(usr_rvs)):\n",
      "        elem = usr_rvs[k]\n",
      "\n",
      "        if elem['wikiObject'] != None:\n",
      "            usr_g_score.append(elem['score'])\n",
      "            usr_g_names.append(elem['wikiObject'])\n",
      "            usr_g_reviewer.append(elem['reviewer'])\n",
      "            usr_g_rv_date.append(elem['date_added'])\n",
      "            url = elem['site_detail_url']\n",
      "            g_id.append(url.rsplit('/')[4])"
     ],
     "language": "python",
     "metadata": {},
     "outputs": []
    },
    {
     "cell_type": "markdown",
     "metadata": {},
     "source": [
      "Defining a dictionary for the relevant data. "
     ]
    },
    {
     "cell_type": "code",
     "collapsed": false,
     "input": [
      "# defines dictionary we're going to write to file\n",
      "usr_rv_dict = {'Name': encoding(usr_g_names), 'User Review Score': usr_g_score, 'User Reviewer': usr_g_reviewer, 'Date of Review':usr_g_rv_date, \n",
      "               'Game Id': g_id }"
     ],
     "language": "python",
     "metadata": {},
     "outputs": []
    },
    {
     "cell_type": "markdown",
     "metadata": {},
     "source": [
      "Writing the dictionary to a file. "
     ]
    },
    {
     "cell_type": "code",
     "collapsed": false,
     "input": [
      "# This code writes the user review data to a stable file. \n",
      "# Date and time of writing: 12/4/2014 7:32 PM\n",
      "\n",
      "## DO NOT UNCOMMENT AND WRITE AGAIN UNLESS YOU\n",
      "## 1) change the name of the file you're writing to\n",
      "## 2) no longer need the data you already wrote\n",
      "\n",
      "#with open('data/gb_user_review_data_12_04_2014.csv', 'wb') as f:  # Just use 'w' mode in 3.x\n",
      "#    w = csv.DictWriter(f, fieldnames = usr_rv_dict.keys())\n",
      "#    w.writeheader()\n",
      "\n",
      "#    for k in range(len(usr_g_names)):\n",
      "#        w.writerow({'Name': encoding(usr_g_names)[k], 'User Review Score': usr_g_score[k], 'User Reviewer': usr_g_reviewer[k], 'Date of Review':usr_g_rv_date[k], \n",
      "#               'Game Id': g_id[k] })"
     ],
     "language": "python",
     "metadata": {},
     "outputs": []
    },
    {
     "cell_type": "markdown",
     "metadata": {},
     "source": [
      "### I.B. Giant Bomb Exploratory Analysis"
     ]
    },
    {
     "cell_type": "markdown",
     "metadata": {},
     "source": [
      "#### What is the distribution of staff review scores?\n",
      "\n",
      "Our collected staff review data includes the staff member who reviewed the game, the date the game was reviewed and the score given to the game. The most basic question we can ask about the data is what is the distribution of all staff review scores. "
     ]
    },
    {
     "cell_type": "markdown",
     "metadata": {},
     "source": [
      "Using our collected data to define a data frame"
     ]
    },
    {
     "cell_type": "code",
     "collapsed": false,
     "input": [
      "staff_rv_frame = pd.read_csv('data/gb_staff_review_data_12_04_2014.csv')[['Name', 'Giant Bomb Score', 'Reviewer', 'Date of Review']]"
     ],
     "language": "python",
     "metadata": {},
     "outputs": [],
     "prompt_number": 6
    },
    {
     "cell_type": "markdown",
     "metadata": {},
     "source": [
      "and printing the head of the frame and the number of elements, we have"
     ]
    },
    {
     "cell_type": "code",
     "collapsed": false,
     "input": [
      "staff_rv_frame.head()"
     ],
     "language": "python",
     "metadata": {},
     "outputs": [
      {
       "html": [
        "<div style=\"max-height:1000px;max-width:1500px;overflow:auto;\">\n",
        "<table border=\"1\" class=\"dataframe\">\n",
        "  <thead>\n",
        "    <tr style=\"text-align: right;\">\n",
        "      <th></th>\n",
        "      <th>Name</th>\n",
        "      <th>Giant Bomb Score</th>\n",
        "      <th>Reviewer</th>\n",
        "      <th>Date of Review</th>\n",
        "    </tr>\n",
        "  </thead>\n",
        "  <tbody>\n",
        "    <tr>\n",
        "      <th>0</th>\n",
        "      <td>                                 SingStar</td>\n",
        "      <td> 4</td>\n",
        "      <td> Jeff</td>\n",
        "      <td> 2008-05-23 13:00:00</td>\n",
        "    </tr>\n",
        "    <tr>\n",
        "      <th>1</th>\n",
        "      <td>                                     Haze</td>\n",
        "      <td> 2</td>\n",
        "      <td> Jeff</td>\n",
        "      <td> 2008-05-20 17:00:00</td>\n",
        "    </tr>\n",
        "    <tr>\n",
        "      <th>2</th>\n",
        "      <td> Metal Gear Solid 4: Guns of the Patriots</td>\n",
        "      <td> 5</td>\n",
        "      <td> Brad</td>\n",
        "      <td> 2008-06-20 12:00:00</td>\n",
        "    </tr>\n",
        "    <tr>\n",
        "      <th>3</th>\n",
        "      <td>                              Poker Smash</td>\n",
        "      <td> 4</td>\n",
        "      <td> Jeff</td>\n",
        "      <td> 2008-02-29 12:00:00</td>\n",
        "    </tr>\n",
        "    <tr>\n",
        "      <th>4</th>\n",
        "      <td>                 Battlefield: Bad Company</td>\n",
        "      <td> 5</td>\n",
        "      <td> Jeff</td>\n",
        "      <td> 2008-07-06 12:00:00</td>\n",
        "    </tr>\n",
        "  </tbody>\n",
        "</table>\n",
        "</div>"
       ],
       "metadata": {},
       "output_type": "pyout",
       "prompt_number": 7,
       "text": [
        "                                       Name  Giant Bomb Score Reviewer  \\\n",
        "0                                  SingStar                 4     Jeff   \n",
        "1                                      Haze                 2     Jeff   \n",
        "2  Metal Gear Solid 4: Guns of the Patriots                 5     Brad   \n",
        "3                               Poker Smash                 4     Jeff   \n",
        "4                  Battlefield: Bad Company                 5     Jeff   \n",
        "\n",
        "        Date of Review  \n",
        "0  2008-05-23 13:00:00  \n",
        "1  2008-05-20 17:00:00  \n",
        "2  2008-06-20 12:00:00  \n",
        "3  2008-02-29 12:00:00  \n",
        "4  2008-07-06 12:00:00  "
       ]
      }
     ],
     "prompt_number": 7
    },
    {
     "cell_type": "code",
     "collapsed": false,
     "input": [
      "print 'Number of staff reviews: ', len(staff_rv_frame)"
     ],
     "language": "python",
     "metadata": {},
     "outputs": [
      {
       "output_type": "stream",
       "stream": "stdout",
       "text": [
        "Number of staff reviews:  652\n"
       ]
      }
     ],
     "prompt_number": 10
    },
    {
     "cell_type": "markdown",
     "metadata": {},
     "source": [
      "And now plotting a simple histogram of scores, gives us"
     ]
    },
    {
     "cell_type": "code",
     "collapsed": false,
     "input": [
      "# Histogram distribution of Giant Bomb Scores\n",
      "\n",
      "plt.figure(figsize=(8,6))\n",
      "n, bins, patches = plt.hist(staff_rv_frame['Giant Bomb Score'], 15)\n",
      "plt.title(\" Distribution of Giant Bomb Game Scores\")\n",
      "plt.xlabel(\"Score\")\n",
      "plt.ylabel(\"Numbers of Occurences\")"
     ],
     "language": "python",
     "metadata": {},
     "outputs": [
      {
       "metadata": {},
       "output_type": "pyout",
       "prompt_number": 11,
       "text": [
        "<matplotlib.text.Text at 0xc2c1a20>"
       ]
      },
      {
       "metadata": {},
       "output_type": "display_data",
       "png": "[encoded data removed]",
       "text": [
        "<matplotlib.figure.Figure at 0xc415f98>"
       ]
      }
     ],
     "prompt_number": 11
    },
    {
     "cell_type": "markdown",
     "metadata": {},
     "source": [
      "We see that 4/5 is the most common score given by staff to video games, followed by 3/5, then 5/5. Taking 3/5 to be define an average game, interestingly, we see that the most of the games the Giant Bomb staff reviews appear to be above average. This is perhaps not too surprising: The Giant Bomb staff cannot review all newly released games and consequently must choose the games which are most likely to be played by its user base. The games most likely to be played by the user base would tend to be the franchise (*e.g. Batman: Arkham Asylum* or *Pokemon*) or more heavily advertised games which are connected to big name publishers such as Activision or Nintendo. Because of the financial resources at the disposal of these publishers it\u2019s not unreasonable to expect that the quality of the games they publish are generally better than average. "
     ]
    },
    {
     "cell_type": "markdown",
     "metadata": {},
     "source": [
      "We see this \u2018high mean\u2019 effect in the Game Spot data as well. The Game Spot score spectrum runs from 1 to 10, but most of the games reviewed by the Game Spot staff are give a score of 7 or 9. \n",
      "\n",
      "--------"
     ]
    },
    {
     "cell_type": "markdown",
     "metadata": {},
     "source": [
      "#### Do different reviewers have different distributions of scores?\n",
      "\n",
      "Now, given that the games are reviewed and scored by different people, we can ask whether some Giant Bomb reviewers are more stringent reviewers than others. Namely, we want to know the distribution of review scores for all of Giant Bomb\u2019s reviewers. "
     ]
    },
    {
     "cell_type": "markdown",
     "metadata": {},
     "source": [
      "First we need to determine who Giant Bomb\u2019s reviewers are. This can be easily done by finding the unique elements in the list of reviewers. "
     ]
    },
    {
     "cell_type": "code",
     "collapsed": false,
     "input": [
      "rvwr_list = list(set(staff_rv_frame['Reviewer']))\n",
      "rvwr_list"
     ],
     "language": "python",
     "metadata": {},
     "outputs": [
      {
       "metadata": {},
       "output_type": "pyout",
       "prompt_number": 15,
       "text": [
        "['Matt',\n",
        " 'Alex',\n",
        " 'Jeff',\n",
        " 'Patrick',\n",
        " 'Dan',\n",
        " 'Ryan',\n",
        " 'Dave',\n",
        " 'Andy',\n",
        " 'Vinny',\n",
        " 'Brad',\n",
        " 'Drew']"
       ]
      }
     ],
     "prompt_number": 15
    },
    {
     "cell_type": "markdown",
     "metadata": {},
     "source": [
      "For each reviewer we can also subset our main data frame to include only reviews written by that particular reviewer. "
     ]
    },
    {
     "cell_type": "code",
     "collapsed": false,
     "input": [
      "# creating dictionary of data frames for each reviewer\n",
      "rvwr_frames = dict()\n",
      "for elem in rvwr_list: \n",
      "    rvwr_frames[elem] = staff_rv_frame[staff_rv_frame['Reviewer']==elem]"
     ],
     "language": "python",
     "metadata": {},
     "outputs": [],
     "prompt_number": 18
    },
    {
     "cell_type": "code",
     "collapsed": false,
     "input": [
      "rvwr_frames['Brad'].head()"
     ],
     "language": "python",
     "metadata": {},
     "outputs": [
      {
       "html": [
        "<div style=\"max-height:1000px;max-width:1500px;overflow:auto;\">\n",
        "<table border=\"1\" class=\"dataframe\">\n",
        "  <thead>\n",
        "    <tr style=\"text-align: right;\">\n",
        "      <th></th>\n",
        "      <th>Name</th>\n",
        "      <th>Giant Bomb Score</th>\n",
        "      <th>Reviewer</th>\n",
        "      <th>Date of Review</th>\n",
        "    </tr>\n",
        "  </thead>\n",
        "  <tbody>\n",
        "    <tr>\n",
        "      <th>2 </th>\n",
        "      <td>    Metal Gear Solid 4: Guns of the Patriots</td>\n",
        "      <td> 5</td>\n",
        "      <td> Brad</td>\n",
        "      <td> 2008-06-20 12:00:00</td>\n",
        "    </tr>\n",
        "    <tr>\n",
        "      <th>5 </th>\n",
        "      <td> LEGO Indiana Jones: The Original Adventures</td>\n",
        "      <td> 3</td>\n",
        "      <td> Brad</td>\n",
        "      <td> 2008-07-02 12:00:00</td>\n",
        "    </tr>\n",
        "    <tr>\n",
        "      <th>45</th>\n",
        "      <td>                                 Space Siege</td>\n",
        "      <td> 3</td>\n",
        "      <td> Brad</td>\n",
        "      <td> 2008-08-21 14:00:00</td>\n",
        "    </tr>\n",
        "    <tr>\n",
        "      <th>49</th>\n",
        "      <td>            Viva Pi\u00f1ata: Trouble in Paradise</td>\n",
        "      <td> 4</td>\n",
        "      <td> Brad</td>\n",
        "      <td> 2008-09-03 18:00:00</td>\n",
        "    </tr>\n",
        "    <tr>\n",
        "      <th>53</th>\n",
        "      <td>                                       Spore</td>\n",
        "      <td> 4</td>\n",
        "      <td> Brad</td>\n",
        "      <td> 2008-09-08 19:00:00</td>\n",
        "    </tr>\n",
        "  </tbody>\n",
        "</table>\n",
        "</div>"
       ],
       "metadata": {},
       "output_type": "pyout",
       "prompt_number": 19,
       "text": [
        "                                           Name  Giant Bomb Score Reviewer  \\\n",
        "2      Metal Gear Solid 4: Guns of the Patriots                 5     Brad   \n",
        "5   LEGO Indiana Jones: The Original Adventures                 3     Brad   \n",
        "45                                  Space Siege                 3     Brad   \n",
        "49             Viva Pi\u00f1ata: Trouble in Paradise                 4     Brad   \n",
        "53                                        Spore                 4     Brad   \n",
        "\n",
        "         Date of Review  \n",
        "2   2008-06-20 12:00:00  \n",
        "5   2008-07-02 12:00:00  \n",
        "45  2008-08-21 14:00:00  \n",
        "49  2008-09-03 18:00:00  \n",
        "53  2008-09-08 19:00:00  "
       ]
      }
     ],
     "prompt_number": 19
    },
    {
     "cell_type": "markdown",
     "metadata": {},
     "source": [
      "Then, if we are to see how the distribution of review scores changes according to the reviewer we need to make sure we have enough reviews for each reviewer. Let\u2019s let 100 be a minimum number of reviews for us to consider the reviewer as a significant statistical part of Giant Bomb\u2019s total review database. Printing the number of reviews written by each reviewer, we find that only Alex, Jeff, Ryan, and Brad have more than 100 reviews. "
     ]
    },
    {
     "cell_type": "code",
     "collapsed": false,
     "input": [
      "# number of reviews for each reviewer\n",
      "for name in rvwr_frames.keys():\n",
      "    print name +': ',len(rvwr_frames[name])"
     ],
     "language": "python",
     "metadata": {},
     "outputs": [
      {
       "output_type": "stream",
       "stream": "stdout",
       "text": [
        "Matt:  8\n",
        "Alex:  106\n",
        "Jeff:  251\n",
        "Patrick:  24\n",
        "Dan:  5\n",
        "Ryan:  107\n",
        "Dave:  9\n",
        "Andy:  1\n",
        "Vinny:  9\n",
        "Brad:  130\n",
        "Drew:  2\n"
       ]
      }
     ],
     "prompt_number": 20
    },
    {
     "cell_type": "markdown",
     "metadata": {},
     "source": [
      "We can then plot the distribution of review scores for these reviewers. "
     ]
    },
    {
     "cell_type": "code",
     "collapsed": false,
     "input": [
      "## score distributions of the top reviewers\n",
      "\n",
      "Rvw_list = ['Brad', 'Jeff', 'Alex', 'Ryan']\n",
      "\n",
      "for reviewer in Rvw_list:\n",
      "    \n",
      "    g_score = list(rvwr_frames[reviewer]['Giant Bomb Score'])\n",
      "    \n",
      "    plt.figure(figsize=(6,5))\n",
      "    \n",
      "    n, bins, patches = plt.hist(g_score, 15)\n",
      "    \n",
      "    plt.title(reviewer+\": Distribution of Giant Bomb Game Scores\")\n",
      "    \n",
      "    plt.xlabel(\"Score\")\n",
      "    \n",
      "    plt.ylabel(\"Numbers of Occurences\")\n",
      "    \n",
      "    plt.show()"
     ],
     "language": "python",
     "metadata": {},
     "outputs": [
      {
       "metadata": {},
       "output_type": "display_data",
       "png": "[encoded data removed]",
       "text": [
        "<matplotlib.figure.Figure at 0xc7cc400>"
       ]
      },
      {
       "metadata": {},
       "output_type": "display_data",
       "png": "[encoded data removed]",
       "text": [
        "<matplotlib.figure.Figure at 0x16023400>"
       ]
      },
      {
       "metadata": {},
       "output_type": "display_data",
       "png": "[encoded data removed]",
       "text": [
        "<matplotlib.figure.Figure at 0x16182550>"
       ]
      },
      {
       "metadata": {},
       "output_type": "display_data",
       "png": "[encoded data removed]",
       "text": [
        "<matplotlib.figure.Figure at 0x15e07048>"
       ]
      }
     ],
     "prompt_number": 22
    },
    {
     "cell_type": "markdown",
     "metadata": {},
     "source": [
      "We see that each distribution has the same shape as the total distribution of Giant Bomb scores. Thus no staff reviewers significantly deviate from the aforementioned high mean effect. Still, there are slight variances in the score distributions. We can highlight these variances by defining a stringency score:\n",
      "\n",
      "$$ \\text{stringency score} = \\frac{\\text{# of reviews with score }< 4}{\\text{# of total reviews}} $$\n",
      "\n",
      "The closer the stringency score is to 1, the more often the reviewer assigns scores which are below the mean, and the more \u2018stringent\u2019 we can claim he is. Listing the stringency scores for each of the above reviewers we have"
     ]
    },
    {
     "cell_type": "code",
     "collapsed": false,
     "input": [
      "for reviewer in ['Brad', 'Jeff', 'Alex', 'Ryan']:\n",
      "    num_of_less_4_rvs = len(rvwr_frames[reviewer][rvwr_frames[reviewer]['Giant Bomb Score'] <4])\n",
      "    num_of_total_rvs = rvwr_frames[reviewer]\n",
      "    stringency_score = float(num_of_less_4_rvs)/len(num_of_total_rvs)\n",
      "    print reviewer+\"'s\"+' stringency score: ',stringency_score"
     ],
     "language": "python",
     "metadata": {},
     "outputs": [
      {
       "output_type": "stream",
       "stream": "stdout",
       "text": [
        "Brad's stringency score:  0.323076923077\n",
        "Jeff's stringency score:  0.462151394422\n",
        "Alex's stringency score:  0.518867924528\n",
        "Ryan's stringency score:  0.457943925234\n"
       ]
      }
     ],
     "prompt_number": 28
    },
    {
     "cell_type": "markdown",
     "metadata": {},
     "source": [
      "and thus we see that Alex is the most stringent reviewer while Brad is the most lenient. This means all the games Alex reviews will have a mean score to the left of the net Giant Bomb score distribution while Brad's games will have a mean score to the right of the Giant Bomb distribution. This fact is significant because it reveas there are important variations in the data not seen by a na\u00efve binning of all the review scores. \n",
      "\n",
      "--------"
     ]
    },
    {
     "cell_type": "markdown",
     "metadata": {},
     "source": [
      "#### Does the distribution of staff review scores change over time? \n",
      "\n",
      "Another possibly hidden variation is in the time the review was logged. We could ask, is there any variation in the average of Giant Bomb scores from year to year?"
     ]
    },
    {
     "cell_type": "markdown",
     "metadata": {},
     "source": [
      "First converting the date and time datat to the datetime format"
     ]
    },
    {
     "cell_type": "code",
     "collapsed": false,
     "input": [
      "import datetime as dt # module for manipulating dates and times\n",
      "\n",
      "# converting Data of Review to Datetime format\n",
      "staff_rv_frame['Date of Review'] = pd.to_datetime(staff_rv_frame['Date of Review'])"
     ],
     "language": "python",
     "metadata": {},
     "outputs": [],
     "prompt_number": 29
    },
    {
     "cell_type": "markdown",
     "metadata": {},
     "source": [
      "and then plotting the distribution of score values for each year, gives us the following uninformative result"
     ]
    },
    {
     "cell_type": "code",
     "collapsed": false,
     "input": [
      "staff_rv_frame.boxplot('Giant Bomb Score', by = 'year', rot = 90)\n",
      "plt.ylabel('Giant Bomb Score')\n",
      "plt.ylim(0,6)\n",
      "plt.show()"
     ],
     "language": "python",
     "metadata": {},
     "outputs": [
      {
       "metadata": {},
       "output_type": "display_data",
       "png": "[encoded data removed]",
       "text": [
        "<matplotlib.figure.Figure at 0x15dc7e10>"
       ]
      }
     ],
     "prompt_number": 31
    },
    {
     "cell_type": "markdown",
     "metadata": {},
     "source": [
      "This simply states that from year to year, all the review scores maintain roughly the same distribution. To see variations in the distribution over time, it turns out that it is better to plot the distribution of the monthly average of the reviews per year.  "
     ]
    },
    {
     "cell_type": "markdown",
     "metadata": {},
     "source": [
      "First extracting the month and year data from our time data and adding them to our data frame"
     ]
    },
    {
     "cell_type": "code",
     "collapsed": false,
     "input": [
      "# extracts year and month from review\n",
      "staff_rv_frame['year'] = map(lambda x: x.year, staff_rv_frame['Date of Review'])\n",
      "staff_rv_frame['month'] = map(lambda x: x.month, staff_rv_frame['Date of Review'])"
     ],
     "language": "python",
     "metadata": {},
     "outputs": [],
     "prompt_number": 30
    },
    {
     "cell_type": "markdown",
     "metadata": {},
     "source": [
      "And computing the average of the score values by month, "
     ]
    },
    {
     "cell_type": "code",
     "collapsed": false,
     "input": [
      "# compute the average of reviews for each month of a year\n",
      "avg_game_frame = staff_rv_frame.groupby(['year','month'], \n",
      "                                     as_index = False)['Giant Bomb Score', 'year', 'month'].mean()"
     ],
     "language": "python",
     "metadata": {},
     "outputs": [],
     "prompt_number": 32
    },
    {
     "cell_type": "markdown",
     "metadata": {},
     "source": [
      "and then plotting the distribution of these averages over the years, we have"
     ]
    },
    {
     "cell_type": "code",
     "collapsed": false,
     "input": [
      "# plot the distribution of these averages by year\n",
      "avg_game_frame.boxplot('Giant Bomb Score', by = 'year', rot = 90)\n",
      "plt.ylabel('Giant Bomb Score')\n",
      "plt.ylim(0,6)\n",
      "plt.show"
     ],
     "language": "python",
     "metadata": {},
     "outputs": [
      {
       "metadata": {},
       "output_type": "pyout",
       "prompt_number": 33,
       "text": [
        "<function matplotlib.pyplot.show>"
       ]
      },
      {
       "metadata": {},
       "output_type": "display_data",
       "png": "[encoded data removed]",
       "text": [
        "<matplotlib.figure.Figure at 0x15f4f550>"
       ]
      }
     ],
     "prompt_number": 33
    },
    {
     "cell_type": "markdown",
     "metadata": {},
     "source": [
      "We see that aside from the relatively large variance in score distribution in 2013, from year to year the Giant Bomb score remains relatively stable. \n",
      "\n",
      "--------"
     ]
    },
    {
     "cell_type": "markdown",
     "metadata": {},
     "source": [
      "#### What is the distribution of user review scores? \n",
      "\n",
      "We just analyzed the staff reviewer data set. The other more populous data set consists of user reviews. Just to get an idea of the number of elements in this data set we can do an API call directly to Giant Bomb\u2019s site. "
     ]
    },
    {
     "cell_type": "code",
     "collapsed": false,
     "input": [
      "# API for Giant Bomb USER Reviews\n",
      "url_usrreviews = 'http://www.giantbomb.com/api/user_reviews/?api_key=' + key + '&format=json&offset=0' \n",
      "# response format for API\n",
      "resp_usrreview = requests.get(url_usrreviews)\n",
      "# loads text of response into json format\n",
      "usrreview_info = json.loads(resp_usrreview.text)"
     ],
     "language": "python",
     "metadata": {},
     "outputs": [],
     "prompt_number": 34
    },
    {
     "cell_type": "code",
     "collapsed": false,
     "input": [
      "# number of results for single page\n",
      "print 'Total number of user review results: ',usrreview_info['number_of_total_results']"
     ],
     "language": "python",
     "metadata": {},
     "outputs": [
      {
       "output_type": "stream",
       "stream": "stdout",
       "text": [
        "Total number of user API results:  26395\n"
       ]
      }
     ],
     "prompt_number": 35
    },
    {
     "cell_type": "markdown",
     "metadata": {},
     "source": [
      "So we apparently have about 26,000 user reviews. However, some of these API calls produce empty results. For example, when we look at the 25,000th page we find no user review information."
     ]
    },
    {
     "cell_type": "code",
     "collapsed": false,
     "input": [
      "offset = 25000\n",
      "url_usr_review_25k = 'http://www.giantbomb.com/api/user_reviews/?api_key=' + key + '&format=json&offset=' + str(offset)\n",
      "resp_usr_review_25k = requests.get(url_usr_review_25k)\n",
      "usr_review_info_25k = json.loads(resp_usr_review_25k.text)\n",
      "usr_rv_25k = usr_review_info_25k['results']\n",
      "\n",
      "usr_rv_25k"
     ],
     "language": "python",
     "metadata": {},
     "outputs": [
      {
       "metadata": {},
       "output_type": "pyout",
       "prompt_number": 37,
       "text": [
        "[]"
       ]
      }
     ],
     "prompt_number": 37
    },
    {
     "cell_type": "markdown",
     "metadata": {},
     "source": [
      "Fortunately, even though the API calls empty elements, the data we inserted into a file only includes non-empty elements. Using that data to define a new data frame we have"
     ]
    },
    {
     "cell_type": "code",
     "collapsed": false,
     "input": [
      "usr_rv_frame = pd.read_csv('data/gb_user_review_data_12_04_2014.csv')[['Name', 'User Review Score', 'User Reviewer', 'Date of Review', 'Game Id']]\n",
      "usr_rv_frame.head()"
     ],
     "language": "python",
     "metadata": {},
     "outputs": [
      {
       "html": [
        "<div style=\"max-height:1000px;max-width:1500px;overflow:auto;\">\n",
        "<table border=\"1\" class=\"dataframe\">\n",
        "  <thead>\n",
        "    <tr style=\"text-align: right;\">\n",
        "      <th></th>\n",
        "      <th>Name</th>\n",
        "      <th>User Review Score</th>\n",
        "      <th>User Reviewer</th>\n",
        "      <th>Date of Review</th>\n",
        "      <th>Game Id</th>\n",
        "    </tr>\n",
        "  </thead>\n",
        "  <tbody>\n",
        "    <tr>\n",
        "      <th>0</th>\n",
        "      <td>                 Famicom Mini: Pac-Man</td>\n",
        "      <td> 5</td>\n",
        "      <td>    snide</td>\n",
        "      <td> 2008-07-14 21:49:21</td>\n",
        "      <td>  3030-7624</td>\n",
        "    </tr>\n",
        "    <tr>\n",
        "      <th>1</th>\n",
        "      <td> Icewind Dale II (Collector's Edition)</td>\n",
        "      <td> 5</td>\n",
        "      <td>    snide</td>\n",
        "      <td> 2008-07-20 01:09:02</td>\n",
        "      <td>  3030-8890</td>\n",
        "    </tr>\n",
        "    <tr>\n",
        "      <th>2</th>\n",
        "      <td>                      Gauntlet Legends</td>\n",
        "      <td> 4</td>\n",
        "      <td> joseppie</td>\n",
        "      <td> 2008-07-21 00:34:06</td>\n",
        "      <td> 3030-12245</td>\n",
        "    </tr>\n",
        "    <tr>\n",
        "      <th>3</th>\n",
        "      <td>                     MVP Baseball 2005</td>\n",
        "      <td> 5</td>\n",
        "      <td> joseppie</td>\n",
        "      <td> 2008-07-21 00:36:10</td>\n",
        "      <td>  3030-9978</td>\n",
        "    </tr>\n",
        "    <tr>\n",
        "      <th>4</th>\n",
        "      <td>           Need for Speed: Most Wanted</td>\n",
        "      <td> 4</td>\n",
        "      <td> joseppie</td>\n",
        "      <td> 2008-07-21 00:44:42</td>\n",
        "      <td> 3030-12976</td>\n",
        "    </tr>\n",
        "  </tbody>\n",
        "</table>\n",
        "</div>"
       ],
       "metadata": {},
       "output_type": "pyout",
       "prompt_number": 38,
       "text": [
        "                                    Name  User Review Score User Reviewer  \\\n",
        "0                  Famicom Mini: Pac-Man                  5         snide   \n",
        "1  Icewind Dale II (Collector's Edition)                  5         snide   \n",
        "2                       Gauntlet Legends                  4      joseppie   \n",
        "3                      MVP Baseball 2005                  5      joseppie   \n",
        "4            Need for Speed: Most Wanted                  4      joseppie   \n",
        "\n",
        "        Date of Review     Game Id  \n",
        "0  2008-07-14 21:49:21   3030-7624  \n",
        "1  2008-07-20 01:09:02   3030-8890  \n",
        "2  2008-07-21 00:34:06  3030-12245  \n",
        "3  2008-07-21 00:36:10   3030-9978  \n",
        "4  2008-07-21 00:44:42  3030-12976  "
       ]
      }
     ],
     "prompt_number": 38
    },
    {
     "cell_type": "markdown",
     "metadata": {},
     "source": [
      "The actual number of user reviews is then"
     ]
    },
    {
     "cell_type": "code",
     "collapsed": false,
     "input": [
      "print 'Total number of user reviews: ', len(usr_rv_frame)"
     ],
     "language": "python",
     "metadata": {},
     "outputs": [
      {
       "output_type": "stream",
       "stream": "stdout",
       "text": [
        "Total number of user reviews:  24742\n"
       ]
      }
     ],
     "prompt_number": 39
    },
    {
     "cell_type": "markdown",
     "metadata": {},
     "source": [
      "With this data frame we can now answer the analogous question to the one first asked above: What is the distribution of Giant Bomb user review scores? Making a basic plot we have"
     ]
    },
    {
     "cell_type": "code",
     "collapsed": false,
     "input": [
      "# Histogram distribution of Giant Bomb User Review Scores\n",
      "\n",
      "plt.figure(figsize=(8,6))\n",
      "n, bins, patches = plt.hist(usr_rv_frame['User Review Score'], 15)\n",
      "plt.title(\" Distribution of Giant Bomb User Review Scores\")\n",
      "plt.xlabel(\"Score\")\n",
      "plt.ylabel(\"Numbers of Occurences\")"
     ],
     "language": "python",
     "metadata": {},
     "outputs": [
      {
       "metadata": {},
       "output_type": "pyout",
       "prompt_number": 40,
       "text": [
        "<matplotlib.text.Text at 0x16919eb8>"
       ]
      },
      {
       "metadata": {},
       "output_type": "display_data",
       "png": "[encoded data removed]",
       "text": [
        "<matplotlib.figure.Figure at 0xc7c2198>"
       ]
      }
     ],
     "prompt_number": 40
    },
    {
     "cell_type": "markdown",
     "metadata": {},
     "source": [
      "We first note that unlike the Giant Bomb staff reviews, a user review can, in a sense, have a score of 0. We say 'in a sense' because although the Giant Bomb score spectrum is from one to five stars, the Giant Bomb API associates a score of 0 with user reviews which do not include a specific score. See the two reviews in http://www.giantbomb.com/jumper-griffins-story/3030-20797/user-reviews/ for instance. \n",
      "\n",
      "Second, we see that similar to the Giant Bomb staff review scores, the distribution of user review scores has a mean centered well above the natural mean of the range. In fact, the user reviews have a greater proportion of scores which are greater than or equal to three than do the staff reviews. \n"
     ]
    },
    {
     "cell_type": "code",
     "collapsed": false,
     "input": [
      "print 'Proportion of user reviews with score greater than 3: ', float(len(usr_rv_frame[usr_rv_frame['User Review Score'] > 3]))/(len(usr_rv_frame))\n",
      "print 'Proportion of staff reviews with score greater than 3: ', float(len(staff_rv_frame[staff_rv_frame['Giant Bomb Score'] > 3]))/(len(staff_rv_frame))"
     ],
     "language": "python",
     "metadata": {},
     "outputs": [
      {
       "output_type": "stream",
       "stream": "stdout",
       "text": [
        "Proportion of user reviews with score greater than 3:  0.737005900897\n",
        "Proportion of staff reviews with score greater than 3:  0.55981595092\n"
       ]
      }
     ],
     "prompt_number": 41
    },
    {
     "cell_type": "markdown",
     "metadata": {},
     "source": [
      "This disparity may naively be attributed to the hyperbolic tendencies common to an anonymous online public in comparison to the more level headed appraisals made by a staff who must be accountable to some institution. More constructively, we must note that while there is only one staff review per game, many different users can review and score the same game. The number of unique games reviewed in the entire Giant Bomb data set can be computed by finding the length of the list of unique names in the usr_rv_frame"
     ]
    },
    {
     "cell_type": "code",
     "collapsed": false,
     "input": [
      "print 'Total number of unique games reviewed: ', len(set(usr_rv_frame['Name']))"
     ],
     "language": "python",
     "metadata": {},
     "outputs": [
      {
       "output_type": "stream",
       "stream": "stdout",
       "text": [
        "Total number of unique games reviewed:  4970\n"
       ]
      }
     ],
     "prompt_number": 42
    },
    {
     "cell_type": "markdown",
     "metadata": {},
     "source": [
      "So although there are about 25000 user reviews, these users have collectively reviewed only about 5000 games. "
     ]
    },
    {
     "cell_type": "markdown",
     "metadata": {},
     "source": [
      "Aside from the possible differences in reviewing style between the two groups, how can we explain why the net user review distribution has a higher proportion of high ratings than the staff review distribution? Well, we note that the user review distribution includes all the user reviews for a particular game, and the popular games which are most likely of higher than average quality would have a higher number of the user reviews.  Consequently, collecting all user reviews would lead to a distribution with a higher proportion of 4s and 5s with respect to a distribution which slotted only one score per game. We can confirm this expectation by averaging over the user review scores per game. "
     ]
    },
    {
     "cell_type": "code",
     "collapsed": false,
     "input": [
      "## Data frame of average user review score per game\n",
      "# This averaging washes away the datetime and reviewer name data \n",
      "\n",
      "unique_rvs = usr_rv_frame.groupby('Name',as_index = False)['Name', 'User Review Score'].mean()\n",
      "unique_rvs.head()"
     ],
     "language": "python",
     "metadata": {},
     "outputs": [
      {
       "html": [
        "<div style=\"max-height:1000px;max-width:1500px;overflow:auto;\">\n",
        "<table border=\"1\" class=\"dataframe\">\n",
        "  <thead>\n",
        "    <tr style=\"text-align: right;\">\n",
        "      <th></th>\n",
        "      <th>Name</th>\n",
        "      <th>User Review Score</th>\n",
        "    </tr>\n",
        "  </thead>\n",
        "  <tbody>\n",
        "    <tr>\n",
        "      <th>0</th>\n",
        "      <td>  .hack//QUARANTINE - Part 4</td>\n",
        "      <td> 3.0</td>\n",
        "    </tr>\n",
        "    <tr>\n",
        "      <th>1</th>\n",
        "      <td>       007: Agent Under Fire</td>\n",
        "      <td> 4.5</td>\n",
        "    </tr>\n",
        "    <tr>\n",
        "      <th>2</th>\n",
        "      <td>  007: Everything or Nothing</td>\n",
        "      <td> 4.0</td>\n",
        "    </tr>\n",
        "    <tr>\n",
        "      <th>3</th>\n",
        "      <td>              007: Nightfire</td>\n",
        "      <td> 2.8</td>\n",
        "    </tr>\n",
        "    <tr>\n",
        "      <th>4</th>\n",
        "      <td>        Adventures of Lolo 2</td>\n",
        "      <td> 5.0</td>\n",
        "    </tr>\n",
        "  </tbody>\n",
        "</table>\n",
        "</div>"
       ],
       "metadata": {},
       "output_type": "pyout",
       "prompt_number": 44,
       "text": [
        "                          Name  User Review Score\n",
        "0   .hack//QUARANTINE - Part 4                3.0\n",
        "1        007: Agent Under Fire                4.5\n",
        "2   007: Everything or Nothing                4.0\n",
        "3               007: Nightfire                2.8\n",
        "4         Adventures of Lolo 2                5.0"
       ]
      }
     ],
     "prompt_number": 44
    },
    {
     "cell_type": "code",
     "collapsed": false,
     "input": [
      "# rounds the scores in the above frame to their nearest integer values\n",
      "discrete_score = list()\n",
      "for elem in list(unique_rvs['User Review Score']):\n",
      "    discrete_score.append(round(elem))"
     ],
     "language": "python",
     "metadata": {},
     "outputs": [],
     "prompt_number": 45
    },
    {
     "cell_type": "code",
     "collapsed": false,
     "input": [
      "# Histogram distribution of average user review scores for each game (rounded)\n",
      "\n",
      "plt.figure(figsize=(8,6))\n",
      "n, bins, patches = plt.hist(discrete_score, 15)\n",
      "plt.title(\" Distribution of User Review Scores-rounded avg per game\", y =1.1)\n",
      "plt.xlabel(\"Score\")\n",
      "plt.ylabel(\"Numbers of Occurences\")"
     ],
     "language": "python",
     "metadata": {},
     "outputs": [
      {
       "metadata": {},
       "output_type": "pyout",
       "prompt_number": 46,
       "text": [
        "<matplotlib.text.Text at 0x16182438>"
       ]
      },
      {
       "metadata": {},
       "output_type": "display_data",
       "png": "[encoded data removed]",
       "text": [
        "<matplotlib.figure.Figure at 0x16917a90>"
       ]
      }
     ],
     "prompt_number": 46
    },
    {
     "cell_type": "markdown",
     "metadata": {},
     "source": [
      "And thus we see that the user review distribution (with one average review score per game) more closely approximates the staff review distribution. \n",
      "\n",
      "----"
     ]
    },
    {
     "cell_type": "markdown",
     "metadata": {},
     "source": [
      "#### What is the correlation between user review scores and staff review scores? \n",
      "\n",
      "The final question we will consider is the correlation between staff review scores and user review scores. Phrased more colloquially we ask does the average user review score for a particular game typically match the score provided by a staff reviewer? Knowing the correspondence between staff review scores and user review scores will allow us to infer how well we expect a text-classification trained using staff review data could accurately predict the \u2018positive\u2019 or \u2018negative\u2019 sentiment expressed by a user\u2019s review. "
     ]
    },
    {
     "cell_type": "markdown",
     "metadata": {},
     "source": [
      "To find this correspondence we merge the two data sets based on the game name. In this case we choose to merge the average user review without applying the floor function to make the averages meet their standard integer values. If we were to apply the floor function all of the points of our scatter plot would be confined to grid like values which would obscure the underlying distribution. "
     ]
    },
    {
     "cell_type": "code",
     "collapsed": false,
     "input": [
      "from pandas import merge\n",
      "\n",
      "all_rvs = merge(unique_rvs, staff_rv_frame, how = 'inner')\n",
      "all_rvs.head()"
     ],
     "language": "python",
     "metadata": {},
     "outputs": [
      {
       "html": [
        "<div style=\"max-height:1000px;max-width:1500px;overflow:auto;\">\n",
        "<table border=\"1\" class=\"dataframe\">\n",
        "  <thead>\n",
        "    <tr style=\"text-align: right;\">\n",
        "      <th></th>\n",
        "      <th>Name</th>\n",
        "      <th>User Review Score</th>\n",
        "      <th>Giant Bomb Score</th>\n",
        "      <th>Reviewer</th>\n",
        "      <th>Date of Review</th>\n",
        "      <th>year</th>\n",
        "      <th>month</th>\n",
        "    </tr>\n",
        "  </thead>\n",
        "  <tbody>\n",
        "    <tr>\n",
        "      <th>0</th>\n",
        "      <td>                007 Legends</td>\n",
        "      <td> 2.000000</td>\n",
        "      <td> 2</td>\n",
        "      <td> Alex</td>\n",
        "      <td>2012-10-18 13:00:00</td>\n",
        "      <td> 2012</td>\n",
        "      <td> 10</td>\n",
        "    </tr>\n",
        "    <tr>\n",
        "      <th>1</th>\n",
        "      <td>         1942: Joint Strike</td>\n",
        "      <td> 3.333333</td>\n",
        "      <td> 3</td>\n",
        "      <td> Jeff</td>\n",
        "      <td>2008-08-20 14:00:00</td>\n",
        "      <td> 2008</td>\n",
        "      <td>  8</td>\n",
        "    </tr>\n",
        "    <tr>\n",
        "      <th>2</th>\n",
        "      <td>         3D Dot Game Heroes</td>\n",
        "      <td> 3.333333</td>\n",
        "      <td> 3</td>\n",
        "      <td> Ryan</td>\n",
        "      <td>2010-05-12 20:00:00</td>\n",
        "      <td> 2010</td>\n",
        "      <td>  5</td>\n",
        "    </tr>\n",
        "    <tr>\n",
        "      <th>3</th>\n",
        "      <td> 50 Cent: Blood on the Sand</td>\n",
        "      <td> 3.214286</td>\n",
        "      <td> 3</td>\n",
        "      <td> Jeff</td>\n",
        "      <td>2009-02-24 08:00:00</td>\n",
        "      <td> 2009</td>\n",
        "      <td>  2</td>\n",
        "    </tr>\n",
        "    <tr>\n",
        "      <th>4</th>\n",
        "      <td>         A Boy and His Blob</td>\n",
        "      <td> 3.666667</td>\n",
        "      <td> 4</td>\n",
        "      <td> Ryan</td>\n",
        "      <td>2009-10-23 11:00:00</td>\n",
        "      <td> 2009</td>\n",
        "      <td> 10</td>\n",
        "    </tr>\n",
        "  </tbody>\n",
        "</table>\n",
        "</div>"
       ],
       "metadata": {},
       "output_type": "pyout",
       "prompt_number": 48,
       "text": [
        "                         Name  User Review Score  Giant Bomb Score Reviewer  \\\n",
        "0                 007 Legends           2.000000                 2     Alex   \n",
        "1          1942: Joint Strike           3.333333                 3     Jeff   \n",
        "2          3D Dot Game Heroes           3.333333                 3     Ryan   \n",
        "3  50 Cent: Blood on the Sand           3.214286                 3     Jeff   \n",
        "4          A Boy and His Blob           3.666667                 4     Ryan   \n",
        "\n",
        "       Date of Review  year  month  \n",
        "0 2012-10-18 13:00:00  2012     10  \n",
        "1 2008-08-20 14:00:00  2008      8  \n",
        "2 2010-05-12 20:00:00  2010      5  \n",
        "3 2009-02-24 08:00:00  2009      2  \n",
        "4 2009-10-23 11:00:00  2009     10  "
       ]
      }
     ],
     "prompt_number": 48
    },
    {
     "cell_type": "markdown",
     "metadata": {},
     "source": [
      "Plotting the average user review scores against the staff review scores for each game we have"
     ]
    },
    {
     "cell_type": "code",
     "collapsed": false,
     "input": [
      "all_rvs.plot(x = \"User Review Score\", y = 'Giant Bomb Score', kind = 'scatter',figsize=(8,6), title = 'Correlation between Staff and User Review Scores')"
     ],
     "language": "python",
     "metadata": {},
     "outputs": [
      {
       "metadata": {},
       "output_type": "pyout",
       "prompt_number": 49,
       "text": [
        "<matplotlib.axes.AxesSubplot at 0x15f383c8>"
       ]
      },
      {
       "metadata": {},
       "output_type": "display_data",
       "png": "[encoded data removed]",
       "text": [
        "<matplotlib.figure.Figure at 0x16190908>"
       ]
      }
     ],
     "prompt_number": 49
    },
    {
     "cell_type": "markdown",
     "metadata": {},
     "source": [
      "And then computing the correlation between the two types of reviews yields"
     ]
    },
    {
     "cell_type": "code",
     "collapsed": false,
     "input": [
      "print 'Correlation between User Reviews and Critics Reviews: ', all_rvs['Giant Bomb Score'].corr(all_rvs['User Review Score'])"
     ],
     "language": "python",
     "metadata": {},
     "outputs": [
      {
       "output_type": "stream",
       "stream": "stdout",
       "text": [
        "Correlation between User Reviews and Critics Reviews:  "
       ]
      },
      {
       "output_type": "stream",
       "stream": "stdout",
       "text": [
        "0.706056356999\n"
       ]
      }
     ],
     "prompt_number": 50
    },
    {
     "cell_type": "markdown",
     "metadata": {},
     "source": [
      "Thus we see a strong correlation between user reviews and critics reviews. We can then reasonably use a text classifier trained on staff review data to predict the sentiment expressed by user reviews. As a further extension, since user reviews would more closely approximate general anonymous internet text than do the staff reviews, the close correspondence between staff review scores and user review scores suggests that it should be possible to use our score-text classifier to classify general online text. \n",
      "\n",
      "---------"
     ]
    }
   ],
   "metadata": {}
  }
 ]
}