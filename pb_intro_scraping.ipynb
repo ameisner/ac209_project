{
 "metadata": {
  "name": "",
  "signature": "sha256:2fd3e7d7026fd10e12d0877ccd280cb6b6c2d652f145a96e17d3b93607cd609b"
 },
 "nbformat": 3,
 "nbformat_minor": 0,
 "worksheets": [
  {
   "cells": [
    {
     "cell_type": "markdown",
     "metadata": {},
     "source": [
      "# Video Game Reviews: Text Classification and Predicted Ratings\n",
      "Aaron Meisner & Mobolaji Williams"
     ]
    },
    {
     "cell_type": "markdown",
     "metadata": {},
     "source": [
      "## Background & Motivation"
     ]
    },
    {
     "cell_type": "markdown",
     "metadata": {},
     "source": [
      "Since their inception video games have been somewhat of a fringe cultural\n",
      "phenomenon. Not having the same aesthetic appeal as film or literature and not\n",
      "bearing the institutional legitimacy of more traditional games like chess,\n",
      "video games were considered for a long time awkwardly placed in the world of\n",
      "leisure activities.\n",
      "\n",
      "But in the past decade with the development of new family-oriented gaming\n",
      "consoles like the Wii, the creation of artistically rendered and presented\n",
      "games like Heavy Rain and The Last of Us, and the organization of\n",
      "pre-professional and competitive gaming societies, video games are slowly\n",
      "evolving from merely being the visual toys used exclusively by male teenagers\n",
      "to a new form of media which people of widely different demographic backgrounds\n",
      "can engage with.\n",
      "\n",
      "The mediated reality potential video games make possible only further ensures\n",
      "their relevance will continue to grow. And as this relevance grows, and the\n",
      "demand for a wider assortment of video games beyond the traditional\n",
      "action/adventure, role-playing game, shooter trifecta grows in tandem, there\n",
      "will spring a larger need for video game criticism akin to that which exists\n",
      "for film and television today.\n",
      "\n",
      "Data scientists have a role in categorizing and understanding this criticism.\n",
      "By applying textual analysis techniques, we can determine whether a review for\n",
      "a video game is positive or negative and thus whether a prospective buyer\n",
      "should purchase the game. More over, not all online video game\n",
      "reviews/discussions are associated with a numerical score. Developing a\n",
      "text-based review classification scheme represents a step towards being able to\n",
      "determine what any arbitrary online text related to a video game suggests about\n",
      "the quality of that video game."
     ]
    },
    {
     "cell_type": "markdown",
     "metadata": {},
     "source": [
      "## Project Objectives"
     ]
    },
    {
     "cell_type": "markdown",
     "metadata": {},
     "source": [
      "The broad goal of this project is to explore the possibility of classifying the\n",
      "sentiment (colloquially constrained to be either \"good\" or \"bad\") of video\n",
      "game reviews by algorithmically analyzing their summary text. In more detail,\n",
      "we want to compare the performance of various classifiers as applied to this\n",
      "task and understand why certain classifiers might be more accurate than others.\n",
      "We also would like to determine the extent to which video game review summary\n",
      "text can be used to predict the corresponding numerical rating of a review.\n",
      "\n",
      "As a first benefit, the project extends the domain of applicability of textual\n",
      "analysis from movie reviews (e.g. last year's \"Bayesian Tomatoes\" assignment)\n",
      "to video game reviews. As a secondary benefit, our methods could perhaps be\n",
      "adapted to more general contexts where the community opinion for a certain game\n",
      "could be determined by scraping together online text related to the game. This\n",
      "\"opinion\" could then perhaps be used to pre-emptively gauge the potential\n",
      "demand for a game which has yet to be widely adopted or even released."
     ]
    },
    {
     "cell_type": "markdown",
     "metadata": {},
     "source": [
      "## Data Collection"
     ]
    },
    {
     "cell_type": "markdown",
     "metadata": {},
     "source": [
      "We have already gathered data from two sources. Our first source is the Giant\n",
      "Bomb video gaming website, which conveniently offers APIs for published\n",
      "reviews, gaming company information and user reviews. Giant Bomb review scores\n",
      "are integers, 1 (worst) through 5 (best). The Giant Bomb API is helpful in that\n",
      "we can access review summaries, full review text and plenty of metadata for\n",
      "each game without scraping. The downside is that only 646 published reviews are\n",
      "available via the API, which is likely insufficient given that we anticipate\n",
      "requiring a training set of several thousand review summaries. On the other\n",
      "hand, GameSpot has 13702 published reviews, but no API. We have therefore\n",
      "written a web scraper to gather all of the review summaries and corresponding\n",
      "scores for every GameSpot review published from 1996 to present. Although we\n",
      "now have these GameSpot review summaries and scores in hand, the lack of a\n",
      "GameSpot API makes gathering further metadata difficult/tedious. GameSpot\n",
      "review scores are more finely grained, ranging from 0 (worst) to 10 (best),\n",
      "including some non-integer scores.\n",
      "\n",
      "\n",
      "The crucial data for our text classification are review summaries for published\n",
      "reviews (typically ~20 words) and their corresponding review scores. For each\n",
      "source of reviews, we have already gathered the review summary text and scores.\n",
      "We will need to make a cut on the review scores from each source to split\n",
      "reviews into labels of \"good\" and \"bad\".\n",
      "\n",
      "We wrote Python script called `scrape_gamespot.py` (separate from this process book) to perform the GameSpot scraping. For\n",
      "the sake of completeness, I have printed out the scraper script below to show the steps involved."
     ]
    },
    {
     "cell_type": "code",
     "collapsed": false,
     "input": [
      "print open('scrape_gamespot.py').read()"
     ],
     "language": "python",
     "metadata": {},
     "outputs": [
      {
       "output_type": "stream",
       "stream": "stdout",
       "text": [
        "#!/usr/bin/env python\n",
        "# Aaron Meisner, 11/8/2014\n",
        "\n",
        "import requests\n",
        "from pattern import web\n",
        "import json\n",
        "import time\n",
        "\n",
        "def scrape_one_page(pagenum, jsondata):\n",
        "\n",
        "    url = 'http://www.gamespot.com/reviews/?page='+str(pagenum)\n",
        "    html = requests.get(url).text\n",
        "\n",
        "    dom = web.Element(html)\n",
        "\n",
        "    articles = dom.by_tag(\"article\")\n",
        "\n",
        "    for art in articles:\n",
        "        if art.attr['class'] == 'media media-review':\n",
        "            review_summary = art.by_tag('p')\n",
        "            review_score = art.by_tag('strong')\n",
        "            review_time = art.by_tag('time')\n",
        "            summary = review_summary[0].content\n",
        "            score = review_score[0].content\n",
        "            datetime = review_time[0].attr['datetime']\n",
        "            gamedata = {'summary' : summary, \n",
        "                        'score' : score,\n",
        "                        'datetime' : datetime}\n",
        "            jsondata.append(gamedata)\n",
        "    return jsondata\n",
        "\n",
        "def scrape_many_pages(pstart, npages, delay=10.):\n",
        "    jsondata = []\n",
        "    for pagenum in range(pstart, pstart+npages):\n",
        "        print \"Working on page \", pagenum\n",
        "        jsondata = scrape_one_page(pagenum, jsondata)\n",
        "        print \"Waiting...\"\n",
        "        # avoid thrashing GameSpot servers\n",
        "        time.sleep(delay)\n",
        "\n",
        "    # write out the json data accumulated\n",
        "    with open('gamespot.json', 'w') as outfile:\n",
        "        json.dump(jsondata, outfile)\n",
        "\n",
        "if __name__=='__main__':\n",
        "    # as of 11/8/2014, there were 653 pages of reviews available from GameSpot\n",
        "    npages = 653\n",
        "    scrape_many_pages(1, npages)\n",
        "\n"
       ]
      }
     ],
     "prompt_number": 2
    },
    {
     "cell_type": "code",
     "collapsed": false,
     "input": [],
     "language": "python",
     "metadata": {},
     "outputs": []
    }
   ],
   "metadata": {}
  }
 ]
}